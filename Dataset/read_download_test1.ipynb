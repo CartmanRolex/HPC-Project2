{
 "cells": [
  {
   "cell_type": "markdown",
   "metadata": {},
   "source": [
    "### We'll read the files downloaded by download_test1.sh, which consists of a relatively small size matrix."
   ]
  },
  {
   "cell_type": "code",
   "execution_count": 4,
   "metadata": {},
   "outputs": [],
   "source": [
    "import numpy as np\n",
    "import matplotlib.pyplot as plt\n",
    "from math import exp, ceil, log\n",
    "import pandas as pd\n",
    "from numpy.linalg import norm, qr, cholesky, inv, svd, matrix_rank, lstsq, cond\n"
   ]
  },
  {
   "cell_type": "code",
   "execution_count": 5,
   "metadata": {},
   "outputs": [],
   "source": [
    "def readData(filename, size=784, save=True):\n",
    "    '''\n",
    "    Read MNIST sparse data from filename\n",
    "    and transforms this into a dense\n",
    "    matrix, each line representing an entry\n",
    "    of the database (i.e. a \"flattened\" image)\n",
    "    '''\n",
    "    print(filename)\n",
    "    # Specify dtype to ensure floating-point numbers are read\n",
    "    dataR = pd.read_csv(filename, sep=',', header=None, dtype=str)\n",
    "    n = len(dataR)\n",
    "    data = np.zeros((n, size))\n",
    "    labels = np.zeros((n, 1))\n",
    "    # Format accordingly\n",
    "    for i in range(n):\n",
    "        l = dataR.iloc[i, 0]\n",
    "        labels[i] = float(l[0])  # Convert label to float\n",
    "        l = l[2:]\n",
    "        indices_values = [tuple(map(float, pair.split(':'))) for pair in l.split()]\n",
    "        # Separate indices and values\n",
    "        indices, values = zip(*indices_values)\n",
    "        indices = [int(i) for i in indices]\n",
    "        # Fill in the values at the specified indices\n",
    "        data[i, indices] = values\n",
    "    if save:\n",
    "        np.savetxt('./denseData_test1.csv', data, delimiter=',', fmt='%10.5f')\n",
    "        np.savetxt('./labels_test1.csv', labels, delimiter=',', fmt='%10.5f')\n",
    "    return data, labels"
   ]
  },
  {
   "cell_type": "code",
   "execution_count": 6,
   "metadata": {},
   "outputs": [
    {
     "name": "stdout",
     "output_type": "stream",
     "text": [
      "mnist_780\n"
     ]
    },
    {
     "data": {
      "text/plain": [
       "(array([[0., 0., 0., ..., 0., 0., 0.],\n",
       "        [0., 0., 0., ..., 0., 0., 0.],\n",
       "        [0., 0., 0., ..., 0., 0., 0.],\n",
       "        ...,\n",
       "        [0., 0., 0., ..., 0., 0., 0.],\n",
       "        [0., 0., 0., ..., 0., 0., 0.],\n",
       "        [0., 0., 0., ..., 0., 0., 0.]]),\n",
       " array([[5.],\n",
       "        [0.],\n",
       "        [4.],\n",
       "        ...,\n",
       "        [3.],\n",
       "        [4.],\n",
       "        [6.]]))"
      ]
     },
     "execution_count": 6,
     "metadata": {},
     "output_type": "execute_result"
    }
   ],
   "source": [
    "readData('mnist_780')"
   ]
  },
  {
   "cell_type": "code",
   "execution_count": null,
   "metadata": {},
   "outputs": [],
   "source": []
  }
 ],
 "metadata": {
  "kernelspec": {
   "display_name": "myenv",
   "language": "python",
   "name": "python3"
  },
  "language_info": {
   "codemirror_mode": {
    "name": "ipython",
    "version": 3
   },
   "file_extension": ".py",
   "mimetype": "text/x-python",
   "name": "python",
   "nbconvert_exporter": "python",
   "pygments_lexer": "ipython3",
   "version": "3.10.14"
  }
 },
 "nbformat": 4,
 "nbformat_minor": 2
}
