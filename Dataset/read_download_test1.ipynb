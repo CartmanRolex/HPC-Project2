version https://git-lfs.github.com/spec/v1
oid sha256:39d850bbda0246100ee87418876a637d11c2ae6574ee9f6f00afd09dfbb596fc
size 15679
