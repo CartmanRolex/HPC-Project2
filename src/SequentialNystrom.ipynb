{
 "cells": [
  {
   "cell_type": "code",
   "execution_count": 27,
   "metadata": {},
   "outputs": [],
   "source": [
    "from dataset1 import *\n",
    "import numpy as np\n",
    "from scipy.linalg import solve_triangular\n",
    "from numpy.linalg import eigh\n",
    "import torch\n",
    "from hadamard_transform import hadamard_transform\n",
    "import time\n",
    "#test"
   ]
  },
  {
   "cell_type": "markdown",
   "metadata": {},
   "source": [
    "## Define functions"
   ]
  },
  {
   "cell_type": "code",
   "execution_count": 128,
   "metadata": {},
   "outputs": [],
   "source": [
    "\n",
    "def getError(A,B):\n",
    "    return np.linalg.norm(A-B,ord='nuc')/np.linalg.norm(A,ord='nuc')\n",
    "\n",
    "def fjlt(A, D, indices, direction):\n",
    "    \"\"\"\n",
    "    Applies the Fast Johnson-Lindenstrauss Transform (FJLT) to a square matrix.\n",
    "\n",
    "    Parameters:\n",
    "    - A: Input square matrix (NumPy array of size n x m).\n",
    "    - D: Diagonal vector of +1 and -1 (NumPy array of size n).\n",
    "    - indices: Indices of the selected rows or columns for subsampling (NumPy array of size l).\n",
    "    - direction: 'left' to apply FJLT from the left (on rows) or 'right' for the transpose case (on columns).\n",
    "\n",
    "    Returns:\n",
    "    - A_proj: Transformed matrix after applying FJLT and subsampling.\n",
    "    \"\"\"\n",
    "    n, m = A.shape\n",
    "    l = indices.shape[0]  # Sketch size\n",
    "    if direction == 'left':  # FJLT applied to the rows of A\n",
    "        assert len(D) == n, \"The length of D must match the number of rows in A.\"\n",
    "        assert (n & (n - 1) == 0), \"The number of rows in A must be a power of 2.\"\n",
    "        # Multiply each row of A by the corresponding element in D\n",
    "        A_tilde = A * D[:, np.newaxis]\n",
    "        # Apply the Fast Hadamard Transform to the rows\n",
    "        A_fht = hadamard_transform(torch.tensor(A_tilde.T)).numpy().T\n",
    "        # Subsample the rows and scale\n",
    "        A_proj = A_fht[indices, :] * np.sqrt(n / l)\n",
    "\n",
    "    elif direction == 'right':  # FJLT applied to the columns of A\n",
    "        # Multiply each column of A by the corresponding element in D\n",
    "        A_tilde = A * D[np.newaxis, :]\n",
    "        # Apply the Fast Hadamard Transform to the columns\n",
    "        A_fht = hadamard_transform(torch.tensor(A_tilde)).numpy()\n",
    "        # Subsample the columns and scale\n",
    "        A_proj = A_fht[:, indices] * np.sqrt(n / l)\n",
    "    \n",
    "    return A_proj\n",
    "\n",
    "def getLowRank(A, rank, sketch_dim, sketch_method='gaussian', good_conditionned=True, print_times=False):\n",
    "    \"\"\"\n",
    "    Compute a low-rank approximation of the matrix A using sketching, \n",
    "    eigenvalue decomposition, and truncation. Optionally prints the time taken for each major operation.\n",
    "\n",
    "    Parameters:\n",
    "        A (numpy.ndarray): Original matrix (size m x n).\n",
    "        rank (int): Desired rank for the approximation.\n",
    "        sketch_dim (int): Dimension of the sketching subspace.\n",
    "        sketch_method (str): Method used for sketching. Options are:\n",
    "                             - 'gaussian': Uses a Gaussian random matrix for sketching.\n",
    "                             - 'fjlt': Uses the Fast Johnson-Lindenstrauss Transform.\n",
    "        good_conditionned (bool): If True, uses Cholesky decomposition for better conditioning. \n",
    "                                  Otherwise, uses eigenvalue decomposition.\n",
    "        print_times (bool): If True, prints the time taken for each major operation.\n",
    "\n",
    "    Returns:\n",
    "        A_nyst_k (numpy.ndarray): Low-rank approximation of A (size m x m).\n",
    "    \"\"\"\n",
    "    m = A.shape[0]\n",
    "    B = None\n",
    "    C = None\n",
    "\n",
    "    start_time = time.time()\n",
    "\n",
    "    # Apply sketching based on the selected method\n",
    "    if sketch_method == 'fjlt':  # Use Fast Johnson-Lindenstrauss Transform for sketching\n",
    "        D = np.random.choice([1, -1], size=m)\n",
    "        indices = np.random.choice(m, size=sketch_dim, replace=False)\n",
    "        sketch_start = time.time()\n",
    "        C = fjlt(A, D, indices, direction='right')\n",
    "        B = fjlt(C, D, indices, direction='left')\n",
    "        if print_times:\n",
    "            print(f\"FJLT sketching completed in {time.time() - sketch_start:.6f} seconds.\")\n",
    "\n",
    "    elif sketch_method == 'gaussian':  # Use Gaussian random matrix for sketching\n",
    "        Omega = np.random.normal(size=(m, sketch_dim))\n",
    "        sketch_start = time.time()\n",
    "        C = A @ Omega\n",
    "        B = Omega.T @ C\n",
    "        if print_times:\n",
    "            print(f\"Gaussian sketching completed in {time.time() - sketch_start:.6f} seconds.\")\n",
    "    else:\n",
    "        raise ValueError(\"Méthode de sketching non reconnue. Choisissez 'gaussian' ou 'fjlt'.\")\n",
    "\n",
    "    if good_conditionned:\n",
    "        # Use Cholesky decomposition\n",
    "        cholesky_start = time.time()\n",
    "        L = np.linalg.cholesky(B)\n",
    "        if print_times:\n",
    "            print(f\"Cholesky decomposition completed in {time.time() - cholesky_start:.6f} seconds.\")\n",
    "        \n",
    "        triangular_start = time.time()\n",
    "        Z = solve_triangular(L, C.T, lower=True).T\n",
    "        if print_times:\n",
    "            print(f\"Triangular solve completed in {time.time() - triangular_start:.6f} seconds.\")\n",
    "    else:\n",
    "        # Use eigenvalue decomposition\n",
    "        eigh_start = time.time()\n",
    "        eig_v, V = eigh(B)\n",
    "        if print_times:\n",
    "            print(f\"Eigenvalue decomposition completed in {time.time() - eigh_start:.6f} seconds.\")\n",
    "        \n",
    "        truncate_start = time.time()\n",
    "        truncate = eig_v > 0\n",
    "        eig_v = eig_v[truncate]\n",
    "        V = V[:, truncate]\n",
    "        Z = C @ (V * (1 / np.sqrt(eig_v)))\n",
    "        if print_times:\n",
    "            print(f\"Eigenvalue truncation and normalization completed in {time.time() - truncate_start:.6f} seconds.\")\n",
    "\n",
    "    qr_start = time.time()\n",
    "    Q, R = np.linalg.qr(Z)\n",
    "    if print_times:\n",
    "        print(f\"QR decomposition completed in {time.time() - qr_start:.6f} seconds.\")\n",
    "\n",
    "    svd_start = time.time()\n",
    "    U, Sigma, _ = np.linalg.svd(R)\n",
    "    if print_times:\n",
    "        print(f\"SVD completed in {time.time() - svd_start:.6f} seconds.\")\n",
    "\n",
    "    approx_start = time.time()\n",
    "    U_hat = Q @ U[:, :rank]\n",
    "    A_nyst_k = (U_hat * Sigma[:rank]**2) @ U_hat.T\n",
    "    if print_times:\n",
    "        print(f\"Low-rank approximation construction completed in {time.time() - approx_start:.6f} seconds.\")\n",
    "\n",
    "    total_time = time.time() - start_time\n",
    "    if print_times:\n",
    "        print(f\"Total computation time: {total_time:.6f} seconds.\")\n",
    "    error = getError(A,A_nyst_k)\n",
    "    print(f\"Error :{error}\".format(error))"
   ]
  },
  {
   "cell_type": "markdown",
   "metadata": {},
   "source": [
    "## Tests"
   ]
  },
  {
   "cell_type": "code",
   "execution_count": null,
   "metadata": {},
   "outputs": [],
   "source": [
    "n = 2048\n",
    "A = getExpMatrix(n,R=10)"
   ]
  },
  {
   "cell_type": "code",
   "execution_count": null,
   "metadata": {},
   "outputs": [
    {
     "name": "stdout",
     "output_type": "stream",
     "text": [
      "Gaussian sketching completed in 0.031635 seconds.\n",
      "Eigenvalue decomposition completed in 0.000000 seconds.\n",
      "Eigenvalue truncation and normalization completed in 0.011062 seconds.\n",
      "QR decomposition completed in 0.004010 seconds.\n",
      "SVD completed in 0.000000 seconds.\n",
      "Low-rank approximation construction completed in 0.032002 seconds.\n",
      "Total computation time: 0.096517 seconds.\n",
      "Error :1.8213154841918373e-14\n"
     ]
    }
   ],
   "source": [
    "getLowRank(A,rank=64,sketch_dim=128,sketch_method='gaussian',good_conditionned=False,print_times=True)"
   ]
  },
  {
   "cell_type": "code",
   "execution_count": 138,
   "metadata": {},
   "outputs": [
    {
     "name": "stdout",
     "output_type": "stream",
     "text": [
      "FJLT sketching completed in 0.231160 seconds.\n",
      "Eigenvalue decomposition completed in 0.000000 seconds.\n",
      "Eigenvalue truncation and normalization completed in 0.019626 seconds.\n",
      "QR decomposition completed in 0.009984 seconds.\n",
      "SVD completed in 0.000000 seconds.\n",
      "Low-rank approximation construction completed in 0.035765 seconds.\n",
      "Total computation time: 0.298823 seconds.\n",
      "Error :4.2085980039838814e-10\n"
     ]
    }
   ],
   "source": [
    "getLowRank(A,rank=64,sketch_dim=128,sketch_method='fjlt',good_conditionned=False,print_times=True)"
   ]
  }
 ],
 "metadata": {
  "kernelspec": {
   "display_name": "HPC",
   "language": "python",
   "name": "python3"
  },
  "language_info": {
   "codemirror_mode": {
    "name": "ipython",
    "version": 3
   },
   "file_extension": ".py",
   "mimetype": "text/x-python",
   "name": "python",
   "nbconvert_exporter": "python",
   "pygments_lexer": "ipython3",
   "version": "3.12.7"
  }
 },
 "nbformat": 4,
 "nbformat_minor": 2
}
