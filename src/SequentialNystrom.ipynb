{
 "cells": [
  {
   "cell_type": "code",
   "execution_count": 15,
   "metadata": {},
   "outputs": [],
   "source": [
    "from dataset1 import *\n",
    "import numpy as np\n",
    "from scipy.linalg import solve_triangular\n",
    "from numpy.linalg import eigh\n",
    "import torch\n",
    "from hadamard_transform import hadamard_transform\n",
    "import time\n",
    "import pandas as pd\n",
    "import pickle\n",
    "#test"
   ]
  },
  {
   "cell_type": "markdown",
   "metadata": {},
   "source": [
    "## Define functions"
   ]
  },
  {
   "cell_type": "code",
   "execution_count": 6,
   "metadata": {},
   "outputs": [],
   "source": [
    "def getError(A,B):\n",
    "    return np.linalg.norm(A-B,ord='nuc')/np.linalg.norm(A,ord='nuc')\n",
    "\n",
    "def fjlt(A, D, indices, direction):\n",
    "    \"\"\"\n",
    "    Applies the Fast Johnson-Lindenstrauss Transform (FJLT) to a square matrix.\n",
    "\n",
    "    Parameters:\n",
    "    - A: Input square matrix (NumPy array of size n x m).\n",
    "    - D: Diagonal vector of +1 and -1 (NumPy array of size n).\n",
    "    - indices: Indices of the selected rows or columns for subsampling (NumPy array of size l).\n",
    "    - direction: 'left' to apply FJLT from the left (on rows) or 'right' for the transpose case (on columns).\n",
    "\n",
    "    Returns:\n",
    "    - A_proj: Transformed matrix after applying FJLT and subsampling.\n",
    "    \"\"\"\n",
    "    n, m = A.shape\n",
    "    l = indices.shape[0]  # Sketch size\n",
    "    if direction == 'left':  # FJLT applied to the rows of A\n",
    "        assert len(D) == n, \"The length of D must match the number of rows in A.\"\n",
    "        assert (n & (n - 1) == 0), \"The number of rows in A must be a power of 2.\"\n",
    "        # Multiply each row of A by the corresponding element in D\n",
    "        A_tilde = A * D[:, np.newaxis]\n",
    "        # Apply the Fast Hadamard Transform to the rows\n",
    "        A_fht = hadamard_transform(torch.tensor(A_tilde.T)).numpy().T\n",
    "        # Subsample the rows and scale\n",
    "        A_proj = A_fht[indices, :] * np.sqrt(n / l)\n",
    "\n",
    "    elif direction == 'right':  # FJLT applied to the columns of A\n",
    "        # Multiply each column of A by the corresponding element in D\n",
    "        A_tilde = A * D[np.newaxis, :]\n",
    "        # Apply the Fast Hadamard Transform to the columns\n",
    "        A_fht = hadamard_transform(torch.tensor(A_tilde)).numpy()\n",
    "        # Subsample the columns and scale\n",
    "        A_proj = A_fht[:, indices] * np.sqrt(n / l)\n",
    "    \n",
    "    return A_proj\n",
    "\n",
    "def getLowRank(A, rank ,sketch_dim,sketch_method='gaussian',good_conditionned=True): \n",
    "    \"\"\"\n",
    "    Compute a low-rank approximation of the matrix A using \n",
    "    Eigenvalue decomposition and truncation.\n",
    "\n",
    "    Parameters:\n",
    "        A (numpy.ndarray): Original matrix.\n",
    "        Omega (numpy.ndarray): Random sketching matrix.\n",
    "        rank (int): Desired rank for the approximation.\n",
    "\n",
    "    Returns:\n",
    "        A_nyst_k (numpy.ndarray): Low-rank approximation of A.\n",
    "    \"\"\"\n",
    "    m = A.shape[0]\n",
    "    B = None\n",
    "    C = None\n",
    "\n",
    "    if sketch_method == 'fjlt': #If not gaussian sketching use Fast Johnson-Lindenstrauss transform to sketch\n",
    "        D = np.random.choice([1, -1], size=m)\n",
    "        indices = np.random.choice(m, size=sketch_dim, replace=False) # Subsample\n",
    "        C = fjlt(A,D,indices,direction='right')\n",
    "        B = fjlt(C,D,indices,direction='left')\n",
    "        \n",
    "    elif sketch_method == 'gaussian': # Use gaussian matrix to sketch\n",
    "        \n",
    "        Omega = np.random.normal(size=(m,sketch_dim)) #Sketch matrix\n",
    "        # Compute sketch matrix C\n",
    "        C = A @ Omega  # Project A onto the subspace defined by Omega\n",
    "        # Compute the smaller B matrix\n",
    "        B = Omega.T @ C  # Compression of A into a smaller matrix via Omega\n",
    "    else:\n",
    "        return None\n",
    "    \n",
    "    if good_conditionned:\n",
    "        # Perform Cholesky decomposition of B\n",
    "        L = np.linalg.cholesky(B)  # L is a lower triangular matrix\n",
    "        # Solve for Z using the triangular solver\n",
    "        Z = solve_triangular(L, C.T, lower=True).T  # Z = C @ L^-T --> ZL^T  = C -- > LZ^T = C^T\n",
    "\n",
    "    else: #if not good conditionned\n",
    "        # Eigenvalue decomposition of B\n",
    "        eig_v, V = eigh(B)  # eig_v: Eigenvalues, V: Eigenvectors\n",
    "\n",
    "        # Truncate eigenvalues and eigenvectors to keep only positive eigenvalues\n",
    "        truncate = eig_v > 0\n",
    "        eig_v = eig_v[truncate]\n",
    "        V = V[:, truncate]\n",
    "        # Normalize using the eigenvalues to construct Z\n",
    "        Z = C @ V @ np.diag(1 / np.sqrt(eig_v))  # Normalize columns of C\n",
    "\n",
    "    # Perform QR decomposition of Z\n",
    "    Q, R = np.linalg.qr(Z)  # Q: Orthogonal basis, R: Upper triangular matrix\n",
    "\n",
    "    # Singular Value Decomposition (SVD) of R\n",
    "    U, Sigma, Vh = np.linalg.svd(R)\n",
    "\n",
    "    # Construct the low-rank approximation\n",
    "    U_hat = Q @ U[:, :rank]  # Truncate U to the desired rank\n",
    "    A_nyst_k = U_hat @ np.diag(Sigma[:rank]**2) @ U_hat.T  # Final approximation\n",
    "\n",
    "    return A_nyst_k\n"
   ]
  },
  {
   "cell_type": "code",
   "execution_count": 7,
   "metadata": {},
   "outputs": [],
   "source": [
    "\n",
    "def getLowRank_timed(A, rank, sketch_dim, sketch_method='gaussian', good_conditionned=True):\n",
    "    \"\"\"\n",
    "    Compute a low-rank approximation of the matrix A using sketching, \n",
    "    eigenvalue decomposition, and truncation. Prints the time taken for each major operation.\n",
    "\n",
    "    Parameters:\n",
    "        A (numpy.ndarray): Original matrix (size m x n).\n",
    "        rank (int): Desired rank for the approximation.\n",
    "        sketch_dim (int): Dimension of the sketching subspace.\n",
    "        sketch_method (str): Method used for sketching. Options are:\n",
    "                             - 'gaussian': Uses a Gaussian random matrix for sketching.\n",
    "                             - 'fjlt': Uses the Fast Johnson-Lindenstrauss Transform.\n",
    "        good_conditionned (bool): If True, uses Cholesky decomposition for better conditioning. \n",
    "                                  Otherwise, uses eigenvalue decomposition.\n",
    "\n",
    "    Returns:\n",
    "        A_nyst_k (numpy.ndarray): Low-rank approximation of A (size m x m).\n",
    "    \"\"\"\n",
    "    m = A.shape[0]\n",
    "    B = None\n",
    "    C = None\n",
    "\n",
    "    start_time = time.time()\n",
    "\n",
    "    # Apply sketching based on the selected method\n",
    "    if sketch_method == 'fjlt':  # Use Fast Johnson-Lindenstrauss Transform for sketching\n",
    "        D = np.random.choice([1, -1], size=m)\n",
    "        indices = np.random.choice(m, size=sketch_dim, replace=False)\n",
    "        sketch_start = time.time()\n",
    "        C = fjlt(A, D, indices, direction='right')\n",
    "        B = fjlt(C, D, indices, direction='left')\n",
    "        print(f\"FJLT sketching completed in {time.time() - sketch_start:.6f} seconds.\")\n",
    "\n",
    "    elif sketch_method == 'gaussian':  # Use Gaussian random matrix for sketching\n",
    "        Omega = np.random.normal(size=(m, sketch_dim))\n",
    "        sketch_start = time.time()\n",
    "        C = A @ Omega\n",
    "        B = Omega.T @ C\n",
    "        print(f\"Gaussian sketching completed in {time.time() - sketch_start:.6f} seconds.\")\n",
    "    else:\n",
    "        return None\n",
    "\n",
    "    decomposition_start = time.time()\n",
    "\n",
    "    if good_conditionned:\n",
    "        # Use Cholesky decomposition\n",
    "        cholesky_start = time.time()\n",
    "        L = np.linalg.cholesky(B)\n",
    "        print(f\"Cholesky decomposition completed in {time.time() - cholesky_start:.6f} seconds.\")\n",
    "        triangular_start = time.time()\n",
    "        Z = solve_triangular(L, C.T, lower=True).T\n",
    "        print(f\"Triangular solve completed in {time.time() - triangular_start:.6f} seconds.\")\n",
    "    else:\n",
    "        # Use eigenvalue decomposition\n",
    "        eigh_start = time.time()\n",
    "        eig_v, V = eigh(B)\n",
    "        print(f\"Eigenvalue decomposition completed in {time.time() - eigh_start:.6f} seconds.\")\n",
    "        truncate_start = time.time()\n",
    "        truncate = eig_v > 0\n",
    "        eig_v = eig_v[truncate]\n",
    "        V = V[:, truncate]\n",
    "        Z = C @ V @ np.diag(1 / np.sqrt(eig_v))\n",
    "        print(f\"Eigenvalue truncation and normalization completed in {time.time() - truncate_start:.6f} seconds.\")\n",
    "\n",
    "    qr_start = time.time()\n",
    "    Q, R = np.linalg.qr(Z)\n",
    "    print(f\"QR decomposition completed in {time.time() - qr_start:.6f} seconds.\")\n",
    "\n",
    "    svd_start = time.time()\n",
    "    U, Sigma, Vh = np.linalg.svd(R)\n",
    "    print(f\"SVD completed in {time.time() - svd_start:.6f} seconds.\")\n",
    "\n",
    "    approx_start = time.time()\n",
    "    U_hat = Q @ U[:, :rank]\n",
    "    A_nyst_k = U_hat @ np.diag(Sigma[:rank]**2) @ U_hat.T\n",
    "    print(f\"Low-rank approximation construction completed in {time.time() - approx_start:.6f} seconds.\")\n",
    "\n",
    "    print(f\"Total computation time: {time.time() - start_time:.6f} seconds.\")\n",
    "    return A_nyst_k\n"
   ]
  },
  {
   "cell_type": "markdown",
   "metadata": {},
   "source": [
    "## Tests"
   ]
  },
  {
   "cell_type": "code",
   "execution_count": 8,
   "metadata": {},
   "outputs": [],
   "source": [
    "n = 2048\n",
    "A = getExpMatrix(n)\n"
   ]
  },
  {
   "cell_type": "code",
   "execution_count": 9,
   "metadata": {},
   "outputs": [
    {
     "name": "stdout",
     "output_type": "stream",
     "text": [
      "FJLT sketching completed in 0.131483 seconds.\n",
      "Eigenvalue decomposition completed in 0.007725 seconds.\n",
      "Eigenvalue truncation and normalization completed in 0.002899 seconds.\n",
      "QR decomposition completed in 0.030010 seconds.\n",
      "SVD completed in 0.005416 seconds.\n",
      "Low-rank approximation construction completed in 0.006502 seconds.\n",
      "Total computation time: 0.184843 seconds.\n",
      "3.6048249908634444e-07\n"
     ]
    }
   ],
   "source": [
    "A_lowrank = getLowRank_timed(A,rank=32,sketch_dim=128,sketch_method='fjlt',good_conditionned=False)\n",
    "print(getError(A,A_lowrank))"
   ]
  },
  {
   "cell_type": "code",
   "execution_count": 10,
   "metadata": {},
   "outputs": [
    {
     "name": "stdout",
     "output_type": "stream",
     "text": [
      "Gaussian sketching completed in 0.050698 seconds.\n",
      "Eigenvalue decomposition completed in 0.004973 seconds.\n",
      "Eigenvalue truncation and normalization completed in 0.001934 seconds.\n",
      "QR decomposition completed in 0.024187 seconds.\n",
      "SVD completed in 0.005273 seconds.\n",
      "Low-rank approximation construction completed in 0.004489 seconds.\n",
      "Total computation time: 0.101634 seconds.\n",
      "3.600537215504224e-07\n"
     ]
    }
   ],
   "source": [
    "A_lowrank = getLowRank_timed(A,rank=32,sketch_dim=128,sketch_method='gaussian',good_conditionned=False)\n",
    "print(getError(A,A_lowrank))"
   ]
  },
  {
   "cell_type": "code",
   "execution_count": 11,
   "metadata": {},
   "outputs": [
    {
     "name": "stdout",
     "output_type": "stream",
     "text": [
      "[[1. 0. 0. 0. 0. 0. 0. 0. 0. 0.]\n",
      " [0. 1. 0. 0. 0. 0. 0. 0. 0. 0.]\n",
      " [0. 0. 1. 0. 0. 0. 0. 0. 0. 0.]\n",
      " [0. 0. 0. 1. 0. 0. 0. 0. 0. 0.]\n",
      " [0. 0. 0. 0. 1. 0. 0. 0. 0. 0.]\n",
      " [0. 0. 0. 0. 0. 1. 0. 0. 0. 0.]\n",
      " [0. 0. 0. 0. 0. 0. 1. 0. 0. 0.]\n",
      " [0. 0. 0. 0. 0. 0. 0. 1. 0. 0.]\n",
      " [0. 0. 0. 0. 0. 0. 0. 0. 1. 0.]\n",
      " [0. 0. 0. 0. 0. 0. 0. 0. 0. 1.]]\n"
     ]
    }
   ],
   "source": [
    "print(getExpMatrix(8))"
   ]
  },
  {
   "cell_type": "markdown",
   "metadata": {},
   "source": [
    "### The following is for testing denseData_test1.csv \n",
    "It's a relatively small matrix 2048\n",
    "\n",
    "A2_raw is the raw data, we'll apply radial basis function to build the matrix for testing."
   ]
  },
  {
   "cell_type": "code",
   "execution_count": 16,
   "metadata": {},
   "outputs": [],
   "source": [
    "filename = '/Users/runchitan/Desktop/HPC-Project2-main/Dataset/denseData_test1.csv'\n",
    "df = pd.read_csv(filename, header=None) \n",
    "A2_raw = df.values \n",
    "\n",
    "def radial_basis_function(A, c):\n",
    "    \"\"\"\n",
    "    Given a matrix A, computes matrix B such that:\n",
    "    according to radial basis function with parameters c.\n",
    "    \n",
    "    Parameters:\n",
    "        A (np.ndarray): Input matrix of shape (n, d), where n is the number of rows.\n",
    "        c : 100 for MNIST and larger for other data sets.\n",
    "    Returns:\n",
    "        B (np.ndarray): Output matrix of shape (n, n).\n",
    "    \"\"\"\n",
    "    # Number of rows in A\n",
    "    n = A.shape[0]\n",
    "    # Initialize matrix B\n",
    "    B = np.zeros((n, n))\n",
    "    # Compute each entry of B\n",
    "    for i in range(n):\n",
    "        for j in range(n):\n",
    "            norm = np.linalg.norm(A[i] - A[j])\n",
    "            B[i, j] = np.exp(-(norm ** 2)/(c ** 2))\n",
    "    return B\n",
    "\n"
   ]
  },
  {
   "cell_type": "code",
   "execution_count": 17,
   "metadata": {},
   "outputs": [
    {
     "ename": "KeyboardInterrupt",
     "evalue": "",
     "output_type": "error",
     "traceback": [
      "\u001b[0;31m---------------------------------------------------------------------------\u001b[0m",
      "\u001b[0;31mKeyboardInterrupt\u001b[0m                         Traceback (most recent call last)",
      "Cell \u001b[0;32mIn[17], line 1\u001b[0m\n\u001b[0;32m----> 1\u001b[0m A2 \u001b[38;5;241m=\u001b[39m \u001b[43mradial_basis_function\u001b[49m\u001b[43m(\u001b[49m\u001b[43mA2_raw\u001b[49m\u001b[43m,\u001b[49m\u001b[43m \u001b[49m\u001b[38;5;241;43m100\u001b[39;49m\u001b[43m)\u001b[49m\n\u001b[1;32m      2\u001b[0m \u001b[38;5;28mprint\u001b[39m(A2\u001b[38;5;241m.\u001b[39mshape)\n",
      "Cell \u001b[0;32mIn[16], line 23\u001b[0m, in \u001b[0;36mradial_basis_function\u001b[0;34m(A, c)\u001b[0m\n\u001b[1;32m     21\u001b[0m \u001b[38;5;28;01mfor\u001b[39;00m i \u001b[38;5;129;01min\u001b[39;00m \u001b[38;5;28mrange\u001b[39m(n):\n\u001b[1;32m     22\u001b[0m     \u001b[38;5;28;01mfor\u001b[39;00m j \u001b[38;5;129;01min\u001b[39;00m \u001b[38;5;28mrange\u001b[39m(n):\n\u001b[0;32m---> 23\u001b[0m         norm \u001b[38;5;241m=\u001b[39m \u001b[43mnp\u001b[49m\u001b[38;5;241;43m.\u001b[39;49m\u001b[43mlinalg\u001b[49m\u001b[38;5;241;43m.\u001b[39;49m\u001b[43mnorm\u001b[49m\u001b[43m(\u001b[49m\u001b[43mA\u001b[49m\u001b[43m[\u001b[49m\u001b[43mi\u001b[49m\u001b[43m]\u001b[49m\u001b[43m \u001b[49m\u001b[38;5;241;43m-\u001b[39;49m\u001b[43m \u001b[49m\u001b[43mA\u001b[49m\u001b[43m[\u001b[49m\u001b[43mj\u001b[49m\u001b[43m]\u001b[49m\u001b[43m)\u001b[49m\n\u001b[1;32m     24\u001b[0m         B[i, j] \u001b[38;5;241m=\u001b[39m np\u001b[38;5;241m.\u001b[39mexp(\u001b[38;5;241m-\u001b[39m(norm \u001b[38;5;241m*\u001b[39m\u001b[38;5;241m*\u001b[39m \u001b[38;5;241m2\u001b[39m)\u001b[38;5;241m/\u001b[39m(c \u001b[38;5;241m*\u001b[39m\u001b[38;5;241m*\u001b[39m \u001b[38;5;241m2\u001b[39m))\n\u001b[1;32m     25\u001b[0m \u001b[38;5;28;01mreturn\u001b[39;00m B\n",
      "File \u001b[0;32m~/anaconda3/envs/myenv/lib/python3.10/site-packages/numpy/linalg/linalg.py:2379\u001b[0m, in \u001b[0;36m_norm_dispatcher\u001b[0;34m(x, ord, axis, keepdims)\u001b[0m\n\u001b[1;32m   2375\u001b[0m     result \u001b[38;5;241m=\u001b[39m op(svd(y, compute_uv\u001b[38;5;241m=\u001b[39m\u001b[38;5;28;01mFalse\u001b[39;00m), axis\u001b[38;5;241m=\u001b[39m\u001b[38;5;241m-\u001b[39m\u001b[38;5;241m1\u001b[39m)\n\u001b[1;32m   2376\u001b[0m     \u001b[38;5;28;01mreturn\u001b[39;00m result\n\u001b[0;32m-> 2379\u001b[0m \u001b[38;5;28;01mdef\u001b[39;00m \u001b[38;5;21m_norm_dispatcher\u001b[39m(x, \u001b[38;5;28mord\u001b[39m\u001b[38;5;241m=\u001b[39m\u001b[38;5;28;01mNone\u001b[39;00m, axis\u001b[38;5;241m=\u001b[39m\u001b[38;5;28;01mNone\u001b[39;00m, keepdims\u001b[38;5;241m=\u001b[39m\u001b[38;5;28;01mNone\u001b[39;00m):\n\u001b[1;32m   2380\u001b[0m     \u001b[38;5;28;01mreturn\u001b[39;00m (x,)\n\u001b[1;32m   2383\u001b[0m \u001b[38;5;129m@array_function_dispatch\u001b[39m(_norm_dispatcher)\n\u001b[1;32m   2384\u001b[0m \u001b[38;5;28;01mdef\u001b[39;00m \u001b[38;5;21mnorm\u001b[39m(x, \u001b[38;5;28mord\u001b[39m\u001b[38;5;241m=\u001b[39m\u001b[38;5;28;01mNone\u001b[39;00m, axis\u001b[38;5;241m=\u001b[39m\u001b[38;5;28;01mNone\u001b[39;00m, keepdims\u001b[38;5;241m=\u001b[39m\u001b[38;5;28;01mFalse\u001b[39;00m):\n",
      "\u001b[0;31mKeyboardInterrupt\u001b[0m: "
     ]
    }
   ],
   "source": [
    "A2 = radial_basis_function(A2_raw, 100)\n",
    "print(A2.shape)"
   ]
  },
  {
   "cell_type": "code",
   "execution_count": 13,
   "metadata": {},
   "outputs": [
    {
     "ename": "ValueError",
     "evalue": "operands could not be broadcast together with shapes (62048,784) (1,62048) ",
     "output_type": "error",
     "traceback": [
      "\u001b[0;31m---------------------------------------------------------------------------\u001b[0m",
      "\u001b[0;31mValueError\u001b[0m                                Traceback (most recent call last)",
      "Cell \u001b[0;32mIn[13], line 1\u001b[0m\n\u001b[0;32m----> 1\u001b[0m A2_lowrank \u001b[38;5;241m=\u001b[39m \u001b[43mgetLowRank_timed\u001b[49m\u001b[43m(\u001b[49m\u001b[43mA2\u001b[49m\u001b[43m,\u001b[49m\u001b[43mrank\u001b[49m\u001b[38;5;241;43m=\u001b[39;49m\u001b[38;5;241;43m32\u001b[39;49m\u001b[43m,\u001b[49m\u001b[43msketch_dim\u001b[49m\u001b[38;5;241;43m=\u001b[39;49m\u001b[38;5;241;43m128\u001b[39;49m\u001b[43m,\u001b[49m\u001b[43msketch_method\u001b[49m\u001b[38;5;241;43m=\u001b[39;49m\u001b[38;5;124;43m'\u001b[39;49m\u001b[38;5;124;43mfjlt\u001b[39;49m\u001b[38;5;124;43m'\u001b[39;49m\u001b[43m,\u001b[49m\u001b[43mgood_conditionned\u001b[49m\u001b[38;5;241;43m=\u001b[39;49m\u001b[38;5;28;43;01mFalse\u001b[39;49;00m\u001b[43m)\u001b[49m\n",
      "Cell \u001b[0;32mIn[7], line 30\u001b[0m, in \u001b[0;36mgetLowRank_timed\u001b[0;34m(A, rank, sketch_dim, sketch_method, good_conditionned)\u001b[0m\n\u001b[1;32m     28\u001b[0m indices \u001b[38;5;241m=\u001b[39m np\u001b[38;5;241m.\u001b[39mrandom\u001b[38;5;241m.\u001b[39mchoice(m, size\u001b[38;5;241m=\u001b[39msketch_dim, replace\u001b[38;5;241m=\u001b[39m\u001b[38;5;28;01mFalse\u001b[39;00m)\n\u001b[1;32m     29\u001b[0m sketch_start \u001b[38;5;241m=\u001b[39m time\u001b[38;5;241m.\u001b[39mtime()\n\u001b[0;32m---> 30\u001b[0m C \u001b[38;5;241m=\u001b[39m \u001b[43mfjlt\u001b[49m\u001b[43m(\u001b[49m\u001b[43mA\u001b[49m\u001b[43m,\u001b[49m\u001b[43m \u001b[49m\u001b[43mD\u001b[49m\u001b[43m,\u001b[49m\u001b[43m \u001b[49m\u001b[43mindices\u001b[49m\u001b[43m,\u001b[49m\u001b[43m \u001b[49m\u001b[43mdirection\u001b[49m\u001b[38;5;241;43m=\u001b[39;49m\u001b[38;5;124;43m'\u001b[39;49m\u001b[38;5;124;43mright\u001b[39;49m\u001b[38;5;124;43m'\u001b[39;49m\u001b[43m)\u001b[49m\n\u001b[1;32m     31\u001b[0m B \u001b[38;5;241m=\u001b[39m fjlt(C, D, indices, direction\u001b[38;5;241m=\u001b[39m\u001b[38;5;124m'\u001b[39m\u001b[38;5;124mleft\u001b[39m\u001b[38;5;124m'\u001b[39m)\n\u001b[1;32m     32\u001b[0m \u001b[38;5;28mprint\u001b[39m(\u001b[38;5;124mf\u001b[39m\u001b[38;5;124m\"\u001b[39m\u001b[38;5;124mFJLT sketching completed in \u001b[39m\u001b[38;5;132;01m{\u001b[39;00mtime\u001b[38;5;241m.\u001b[39mtime()\u001b[38;5;250m \u001b[39m\u001b[38;5;241m-\u001b[39m\u001b[38;5;250m \u001b[39msketch_start\u001b[38;5;132;01m:\u001b[39;00m\u001b[38;5;124m.6f\u001b[39m\u001b[38;5;132;01m}\u001b[39;00m\u001b[38;5;124m seconds.\u001b[39m\u001b[38;5;124m\"\u001b[39m)\n",
      "Cell \u001b[0;32mIn[6], line 31\u001b[0m, in \u001b[0;36mfjlt\u001b[0;34m(A, D, indices, direction)\u001b[0m\n\u001b[1;32m     27\u001b[0m     A_proj \u001b[38;5;241m=\u001b[39m A_fht[indices, :] \u001b[38;5;241m*\u001b[39m np\u001b[38;5;241m.\u001b[39msqrt(n \u001b[38;5;241m/\u001b[39m l)\n\u001b[1;32m     29\u001b[0m \u001b[38;5;28;01melif\u001b[39;00m direction \u001b[38;5;241m==\u001b[39m \u001b[38;5;124m'\u001b[39m\u001b[38;5;124mright\u001b[39m\u001b[38;5;124m'\u001b[39m:  \u001b[38;5;66;03m# FJLT applied to the columns of A\u001b[39;00m\n\u001b[1;32m     30\u001b[0m     \u001b[38;5;66;03m# Multiply each column of A by the corresponding element in D\u001b[39;00m\n\u001b[0;32m---> 31\u001b[0m     A_tilde \u001b[38;5;241m=\u001b[39m \u001b[43mA\u001b[49m\u001b[43m \u001b[49m\u001b[38;5;241;43m*\u001b[39;49m\u001b[43m \u001b[49m\u001b[43mD\u001b[49m\u001b[43m[\u001b[49m\u001b[43mnp\u001b[49m\u001b[38;5;241;43m.\u001b[39;49m\u001b[43mnewaxis\u001b[49m\u001b[43m,\u001b[49m\u001b[43m \u001b[49m\u001b[43m:\u001b[49m\u001b[43m]\u001b[49m\n\u001b[1;32m     32\u001b[0m     \u001b[38;5;66;03m# Apply the Fast Hadamard Transform to the columns\u001b[39;00m\n\u001b[1;32m     33\u001b[0m     A_fht \u001b[38;5;241m=\u001b[39m hadamard_transform(torch\u001b[38;5;241m.\u001b[39mtensor(A_tilde))\u001b[38;5;241m.\u001b[39mnumpy()\n",
      "\u001b[0;31mValueError\u001b[0m: operands could not be broadcast together with shapes (62048,784) (1,62048) "
     ]
    }
   ],
   "source": [
    "A2_lowrank = getLowRank_timed(A2,rank=32,sketch_dim=128,sketch_method='fjlt',good_conditionned=False)"
   ]
  }
 ],
 "metadata": {
  "kernelspec": {
   "display_name": "myenv",
   "language": "python",
   "name": "python3"
  },
  "language_info": {
   "codemirror_mode": {
    "name": "ipython",
    "version": 3
   },
   "file_extension": ".py",
   "mimetype": "text/x-python",
   "name": "python",
   "nbconvert_exporter": "python",
   "pygments_lexer": "ipython3",
   "version": "3.10.14"
  }
 },
 "nbformat": 4,
 "nbformat_minor": 2
}
