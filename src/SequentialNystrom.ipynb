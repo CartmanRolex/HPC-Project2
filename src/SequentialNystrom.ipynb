{
 "cells": [
  {
   "cell_type": "code",
   "execution_count": 8,
   "metadata": {},
   "outputs": [],
   "source": [
    "from dataset1 import *\n",
    "import numpy as np\n",
    "from scipy.linalg import solve_triangular\n",
    "from numpy.linalg import eigh\n",
    "import torch\n",
    "from hadamard_transform import hadamard_transform\n",
    "import time\n",
    "import pandas as pd\n",
    "import seaborn as sns\n",
    "#test"
   ]
  },
  {
   "cell_type": "markdown",
   "metadata": {},
   "source": [
    "## Define functions"
   ]
  },
  {
   "cell_type": "code",
   "execution_count": 9,
   "metadata": {},
   "outputs": [],
   "source": [
    "\n",
    "def getError(A,B):\n",
    "    return np.linalg.norm(A-B,ord='nuc')/np.linalg.norm(A,ord='nuc')\n",
    "\n",
    "def fjlt(A, D, indices, direction):\n",
    "    \"\"\"\n",
    "    Applies the Fast Johnson-Lindenstrauss Transform (FJLT) to a square matrix.\n",
    "\n",
    "    Parameters:\n",
    "    - A: Input square matrix (NumPy array of size n x m).\n",
    "    - D: Diagonal vector of +1 and -1 (NumPy array of size n).\n",
    "    - indices: Indices of the selected rows or columns for subsampling (NumPy array of size l).\n",
    "    - direction: 'left' to apply FJLT from the left (on rows) or 'right' for the transpose case (on columns).\n",
    "\n",
    "    Returns:\n",
    "    - A_proj: Transformed matrix after applying FJLT and subsampling.\n",
    "    \"\"\"\n",
    "    n, m = A.shape\n",
    "    l = indices.shape[0]  # Sketch size\n",
    "    if direction == 'left':  # FJLT applied to the rows of A\n",
    "        assert len(D) == n, \"The length of D must match the number of rows in A.\"\n",
    "        assert (n & (n - 1) == 0), \"The number of rows in A must be a power of 2.\"\n",
    "        # Multiply each row of A by the corresponding element in D\n",
    "        OmegaA = A * D[:, np.newaxis]\n",
    "        # Apply the Fast Hadamard Transform to the rows\n",
    "        OmegaA = hadamard_transform(torch.tensor(OmegaA.T)).numpy().T\n",
    "        # Subsample the rows and scale\n",
    "        OmegaA = OmegaA[indices, :] * np.sqrt(n / l)\n",
    "        return np.ascontiguousarray(OmegaA)\n",
    "    elif direction == 'right':  # FJLT applied to the columns of A\n",
    "        # Multiply each column of A by the corresponding element in D\n",
    "        AOmega = A * D[np.newaxis, :]\n",
    "        # Apply the Fast Hadamard Transform to the columns\n",
    "        AOmega = hadamard_transform(torch.tensor(AOmega)).numpy()\n",
    "        # Subsample the columns and scale\n",
    "        AOmega = AOmega[:, indices] * np.sqrt(n / l)\n",
    "        return np.ascontiguousarray(AOmega)\n",
    "\n",
    "def getLowRank(A, rank, sketch_dim, sketch_method='gaussian', good_conditionned=True, print_times=False):\n",
    "    \"\"\"\n",
    "    Compute a low-rank approximation of the matrix A using sketching, \n",
    "    eigenvalue decomposition, and truncation. Optionally prints the time taken for each major operation.\n",
    "\n",
    "    Parameters:\n",
    "        A (numpy.ndarray): Original matrix (size m x n).\n",
    "        rank (int): Desired rank for the approximation.\n",
    "        sketch_dim (int): Dimension of the sketching subspace.\n",
    "        sketch_method (str): Method used for sketching. Options are:\n",
    "                             - 'gaussian': Uses a Gaussian random matrix for sketching.\n",
    "                             - 'fjlt': Uses the Fast Johnson-Lindenstrauss Transform.\n",
    "        good_conditionned (bool): If True, uses Cholesky decomposition for better conditioning. \n",
    "                                  Otherwise, uses eigenvalue decomposition.\n",
    "        print_times (bool): If True, prints the time taken for each major operation.\n",
    "\n",
    "    Returns:\n",
    "        A_nyst_k (numpy.ndarray): Low-rank approximation of A (size m x m).\n",
    "    \"\"\"\n",
    "    m = A.shape[0]\n",
    "    B = None\n",
    "    C = None\n",
    "\n",
    "    start_time = time.time()\n",
    "\n",
    "    # Apply sketching based on the selected method\n",
    "    if sketch_method == 'fjlt':  # Use Fast Johnson-Lindenstrauss Transform for sketching\n",
    "        D = np.random.choice([1, -1], size=m)\n",
    "        indices = np.random.choice(m, size=sketch_dim, replace=False)\n",
    "        sketch_start = time.time()\n",
    "        C = fjlt(A, D, indices, direction='right')\n",
    "        B = fjlt(C, D, indices, direction='left')\n",
    "        if print_times:\n",
    "            print(f\"FJLT sketching completed in {time.time() - sketch_start:.6f} seconds.\")\n",
    "\n",
    "    elif sketch_method == 'gaussian':  # Use Gaussian random matrix for sketching\n",
    "        Omega = np.random.normal(size=(m, sketch_dim))\n",
    "        sketch_start = time.time()\n",
    "        C = A @ Omega\n",
    "        B = Omega.T @ C\n",
    "        if print_times:\n",
    "            print(f\"Gaussian sketching completed in {time.time() - sketch_start:.6f} seconds.\")\n",
    "    else:\n",
    "        raise ValueError(\"Méthode de sketching non reconnue. Choisissez 'gaussian' ou 'fjlt'.\")\n",
    "\n",
    "    if good_conditionned:\n",
    "        # Use Cholesky decomposition\n",
    "        cholesky_start = time.time()\n",
    "        L = np.linalg.cholesky(B)\n",
    "        if print_times:\n",
    "            print(f\"Cholesky decomposition completed in {time.time() - cholesky_start:.6f} seconds.\")\n",
    "        \n",
    "        triangular_start = time.time()\n",
    "        Z = solve_triangular(L, C.T, lower=True).T\n",
    "        if print_times:\n",
    "            print(f\"Triangular solve completed in {time.time() - triangular_start:.6f} seconds.\")\n",
    "    else:\n",
    "        # Use eigenvalue decomposition\n",
    "        eigh_start = time.time()\n",
    "        eig_v, V = eigh(B)\n",
    "        if print_times:\n",
    "            print(f\"Eigenvalue decomposition completed in {time.time() - eigh_start:.6f} seconds.\")\n",
    "        \n",
    "        truncate_start = time.time()\n",
    "        truncate = eig_v > 0\n",
    "        eig_v = eig_v[truncate]\n",
    "        V = V[:, truncate]\n",
    "        Z = C @ (V * (1 / np.sqrt(eig_v)))\n",
    "        if print_times:\n",
    "            print(f\"Eigenvalue truncation and normalization completed in {time.time() - truncate_start:.6f} seconds.\")\n",
    "\n",
    "    qr_start = time.time()\n",
    "    Q, R = np.linalg.qr(Z)\n",
    "    if print_times:\n",
    "        print(f\"QR decomposition completed in {time.time() - qr_start:.6f} seconds.\")\n",
    "\n",
    "    svd_start = time.time()\n",
    "    U, Sigma, _ = np.linalg.svd(R)\n",
    "    if print_times:\n",
    "        print(f\"SVD completed in {time.time() - svd_start:.6f} seconds.\")\n",
    "\n",
    "    approx_start = time.time()\n",
    "    U_hat = Q @ U[:, :rank]\n",
    "    A_nyst_k = (U_hat * Sigma[:rank]**2) @ U_hat.T\n",
    "    if print_times:\n",
    "        print(f\"Low-rank approximation construction completed in {time.time() - approx_start:.6f} seconds.\")\n",
    "\n",
    "    total_time = time.time() - start_time\n",
    "    if print_times:\n",
    "        print(f\"Total computation time: {total_time:.6f} seconds.\")\n",
    "    error = getError(A,A_nyst_k)\n",
    "    print(f\"Error :{error}\".format(error))\n",
    "\n",
    "    return A_nyst_k, error "
   ]
  },
  {
   "cell_type": "markdown",
   "metadata": {},
   "source": [
    "## Tests"
   ]
  },
  {
   "cell_type": "code",
   "execution_count": 10,
   "metadata": {},
   "outputs": [
    {
     "name": "stdout",
     "output_type": "stream",
     "text": [
      "(2048, 2048)\n"
     ]
    }
   ],
   "source": [
    "n = 2048\n",
    "A = getExpMatrix(n,R=10)\n",
    "print(A.shape)"
   ]
  },
  {
   "cell_type": "code",
   "execution_count": 11,
   "metadata": {},
   "outputs": [
    {
     "name": "stdout",
     "output_type": "stream",
     "text": [
      "Gaussian sketching completed in 0.016633 seconds.\n",
      "Eigenvalue decomposition completed in 0.006657 seconds.\n",
      "Eigenvalue truncation and normalization completed in 0.002259 seconds.\n",
      "QR decomposition completed in 0.027455 seconds.\n",
      "SVD completed in 0.004365 seconds.\n",
      "Low-rank approximation construction completed in 0.013040 seconds.\n",
      "Total computation time: 0.079953 seconds.\n",
      "Error :1.2155091862342842e-14\n"
     ]
    },
    {
     "data": {
      "text/plain": [
       "(array([[ 1.00000000e+00,  1.34614542e-15, -1.00613962e-16, ...,\n",
       "          0.00000000e+00,  0.00000000e+00,  0.00000000e+00],\n",
       "        [ 1.33920652e-15,  1.00000000e+00,  7.89299182e-16, ...,\n",
       "          0.00000000e+00,  0.00000000e+00,  0.00000000e+00],\n",
       "        [-7.28583860e-17,  7.19910243e-16,  1.00000000e+00, ...,\n",
       "          0.00000000e+00,  0.00000000e+00,  0.00000000e+00],\n",
       "        ...,\n",
       "        [ 0.00000000e+00,  0.00000000e+00,  0.00000000e+00, ...,\n",
       "          0.00000000e+00,  0.00000000e+00,  0.00000000e+00],\n",
       "        [ 0.00000000e+00,  0.00000000e+00,  0.00000000e+00, ...,\n",
       "          0.00000000e+00,  0.00000000e+00,  0.00000000e+00],\n",
       "        [ 0.00000000e+00,  0.00000000e+00,  0.00000000e+00, ...,\n",
       "          0.00000000e+00,  0.00000000e+00,  0.00000000e+00]]),\n",
       " 1.2155091862342842e-14)"
      ]
     },
     "execution_count": 11,
     "metadata": {},
     "output_type": "execute_result"
    }
   ],
   "source": [
    "getLowRank(A,rank=128,sketch_dim=128,sketch_method='gaussian',good_conditionned=False,print_times=True)"
   ]
  },
  {
   "cell_type": "code",
   "execution_count": null,
   "metadata": {},
   "outputs": [
    {
     "name": "stdout",
     "output_type": "stream",
     "text": [
      "FJLT sketching completed in 0.144048 seconds.\n",
      "Eigenvalue decomposition completed in 0.008370 seconds.\n",
      "Eigenvalue truncation and normalization completed in 0.002851 seconds.\n",
      "QR decomposition completed in 0.032139 seconds.\n",
      "SVD completed in 0.006719 seconds.\n",
      "Low-rank approximation construction completed in 0.010890 seconds.\n",
      "Total computation time: 0.209292 seconds.\n",
      "Error :3.924891156083275e-06\n"
     ]
    },
    {
     "data": {
      "text/plain": [
       "(array([[ 9.99998616e-01,  1.38412188e-06, -1.38412185e-06, ...,\n",
       "          0.00000000e+00,  0.00000000e+00,  0.00000000e+00],\n",
       "        [ 1.38412188e-06,  9.99998616e-01,  1.38412190e-06, ...,\n",
       "          0.00000000e+00,  0.00000000e+00,  0.00000000e+00],\n",
       "        [-1.38412185e-06,  1.38412190e-06,  9.99998616e-01, ...,\n",
       "          0.00000000e+00,  0.00000000e+00,  0.00000000e+00],\n",
       "        ...,\n",
       "        [ 0.00000000e+00,  0.00000000e+00,  0.00000000e+00, ...,\n",
       "          0.00000000e+00,  0.00000000e+00,  0.00000000e+00],\n",
       "        [ 0.00000000e+00,  0.00000000e+00,  0.00000000e+00, ...,\n",
       "          0.00000000e+00,  0.00000000e+00,  0.00000000e+00],\n",
       "        [ 0.00000000e+00,  0.00000000e+00,  0.00000000e+00, ...,\n",
       "          0.00000000e+00,  0.00000000e+00,  0.00000000e+00]]),\n",
       " 3.924891156083275e-06)"
      ]
     },
     "execution_count": 12,
     "metadata": {},
     "output_type": "execute_result"
    }
   ],
   "source": [
    "# getLowRank(A,rank=128,sketch_dim=128,sketch_method='fjlt',good_conditionned=False,print_times=True)"
   ]
  },
  {
   "cell_type": "markdown",
   "metadata": {},
   "source": [
    "## Section 2\n",
    "\n",
    "We'll compute the error with respect to three matrices. \n",
    "1. polynomial decay (dimension 1024 * 1024) locates: \n",
    "2. exp decay locates:\n",
    "3. ../Dataset/A_3_dataset_2_mnist.npy \n",
    "    denotes the matrix obtained from MNIST, with c=100\n",
    "4. ../... mnist.npy with c = 10.\n",
    "\n",
    "All four matrices are of dimension $1024 \\times 1024$"
   ]
  },
  {
   "cell_type": "code",
   "execution_count": 13,
   "metadata": {},
   "outputs": [
    {
     "name": "stdout",
     "output_type": "stream",
     "text": [
      "matrix A_1\n",
      "(1024, 1024)\n",
      "[[1. 0. 0. 0. 0.]\n",
      " [0. 1. 0. 0. 0.]\n",
      " [0. 0. 1. 0. 0.]\n",
      " [0. 0. 0. 1. 0.]\n",
      " [0. 0. 0. 0. 1.]\n",
      " [0. 0. 0. 0. 0.]\n",
      " [0. 0. 0. 0. 0.]\n",
      " [0. 0. 0. 0. 0.]\n",
      " [0. 0. 0. 0. 0.]\n",
      " [0. 0. 0. 0. 0.]]\n",
      "matrix A_2\n",
      "(1024, 1024)\n",
      "[[1. 0. 0. 0. 0.]\n",
      " [0. 1. 0. 0. 0.]\n",
      " [0. 0. 1. 0. 0.]\n",
      " [0. 0. 0. 1. 0.]\n",
      " [0. 0. 0. 0. 1.]\n",
      " [0. 0. 0. 0. 0.]\n",
      " [0. 0. 0. 0. 0.]\n",
      " [0. 0. 0. 0. 0.]\n",
      " [0. 0. 0. 0. 0.]\n",
      " [0. 0. 0. 0. 0.]]\n",
      "matrix A_3\n",
      "(1024, 1024)\n",
      "[[1.         0.99127504 0.98824289 0.99001237 0.98907651]\n",
      " [0.99127504 1.         0.98715919 0.98829865 0.98930957]\n",
      " [0.98824289 0.98715919 1.         0.9898814  0.98994457]\n",
      " [0.99001237 0.98829865 0.9898814  1.         0.99126262]\n",
      " [0.98907651 0.98930957 0.98994457 0.99126262 1.        ]\n",
      " [0.98979753 0.98903161 0.98938555 0.99024257 0.99195122]\n",
      " [0.99100754 0.98756737 0.98972827 0.991512   0.9925866 ]\n",
      " [0.99278471 0.98967594 0.98934556 0.98962114 0.98935745]\n",
      " [0.99136177 0.98870132 0.99122707 0.99290202 0.9940263 ]\n",
      " [0.98989935 0.98824599 0.99277739 0.99119833 0.99174104]]\n",
      "matrix A_32\n",
      "(1024, 1024)\n",
      "[[1.         0.41631015 0.30645728 0.36649001 0.33341767]\n",
      " [0.41631015 1.         0.27461183 0.3081913  0.34136674]\n",
      " [0.30645728 0.27461183 1.         0.36167314 0.36398875]\n",
      " [0.36649001 0.3081913  0.36167314 1.         0.4157891 ]\n",
      " [0.33341767 0.34136674 0.36398875 0.4157891  1.        ]\n",
      " [0.35862154 0.33190771 0.34399823 0.37511058 0.44568853]\n",
      " [0.40522463 0.28620227 0.35612081 0.42638049 0.47516109]\n",
      " [0.48473926 0.35424295 0.34261053 0.3522868  0.34302277]\n",
      " [0.41996868 0.32100455 0.41430039 0.49050064 0.54927192]\n",
      " [0.36232966 0.30655351 0.48438198 0.41310095 0.43634339]]\n"
     ]
    }
   ],
   "source": [
    "# Loading matrices\n",
    "\n",
    "loadMatrix_A_1 = np.load(\"../Dataset/A_1_polyDecayMatrix.npy\")\n",
    "print(\"matrix A_1\")\n",
    "print(loadMatrix_A_1.shape)\n",
    "print(loadMatrix_A_1[:10,:5])\n",
    "\n",
    "loadMatrix_A_2 = np.load(\"../Dataset/A_2_expDecayMatrix.npy\")\n",
    "print(\"matrix A_2\")\n",
    "print(loadMatrix_A_2.shape)\n",
    "print(loadMatrix_A_2[:10,:5])\n",
    "\n",
    "loadMatrix_A_3 = np.load(\"../Dataset/A_3_dataset_2_mnist.npy\")\n",
    "print(\"matrix A_3\")\n",
    "print(loadMatrix_A_3.shape)\n",
    "print(loadMatrix_A_3[:10,:5])\n",
    "\n",
    "loadMatrix_A_32 = np.load(\"../Dataset/A_3_dataset_2_mnist_C=10.npy\")\n",
    "print(\"matrix A_32\")\n",
    "print(loadMatrix_A_32.shape)\n",
    "print(loadMatrix_A_32[:10,:5])\n",
    "\n"
   ]
  },
  {
   "cell_type": "code",
   "execution_count": 16,
   "metadata": {},
   "outputs": [],
   "source": [
    "from tqdm import tqdm  # For progress tracking\n",
    "\n",
    "def collect_low_rank_errors(\n",
    "    A, \n",
    "    sketch_dims=[2, 4, 8, 16, 32, 64, 128], \n",
    "    is_good_conditionned=False, \n",
    "    sketch_method='gaussian', \n",
    "    output_file='Section_2_test_1_for_loadMatrixA_1.xlsx',\n",
    "    matrix_name=\"MatrixA\"\n",
    "):\n",
    "    \"\"\"\n",
    "    Computes errors for various ranks and sketch dimensions using the `getLowRank` function.\n",
    "\n",
    "    Parameters:\n",
    "    - A (np.ndarray): Input matrix.\n",
    "    - sketch_dims (list of int): List of sketch dimensions to test.\n",
    "    - is_good_conditionned (bool): Whether to use good-conditioned matrices in `getLowRank`.\n",
    "    - sketch_method (str): Method for sketching ('gaussian' or other supported by `getLowRank`).\n",
    "    - output_file (str): Path to the file where results are saved (.csv or .xlsx).\n",
    "    - matrix_name (str): Name or identifier of the input matrix.\n",
    "\n",
    "    Saves:\n",
    "    - Results to a file with columns: \"Sketch Dimension\", \"Approximation Rank\", \"Error Value\",\n",
    "      \"Sketch Method\", \"Matrix Name\".\n",
    "    \"\"\"\n",
    "    print(A.shape)\n",
    "    results = []\n",
    "    \n",
    "    # Iterate over each sketch_dim\n",
    "    for sketch_dim in tqdm(sketch_dims, desc=\"Sketch Dimensions Progress\", unit=\"dim\"):\n",
    "        ranks = list(range(0, sketch_dim + 1, 10))  # Generate ranks from 0 with step 5 up to sketch_dim\n",
    "        for rank in ranks:\n",
    "            # Compute the error for each rank\n",
    "            _, error = getLowRank(\n",
    "                A=A, \n",
    "                rank=rank, \n",
    "                sketch_dim=sketch_dim, \n",
    "                sketch_method=sketch_method, \n",
    "                good_conditionned=is_good_conditionned\n",
    "            )\n",
    "            # Append the result\n",
    "            results.append({\n",
    "                'Sketch Dimension': sketch_dim,\n",
    "                'Approximation Rank': rank,\n",
    "                'Error Value': error,\n",
    "                'Sketch Method': sketch_method,\n",
    "                'Matrix Name': matrix_name\n",
    "            })\n",
    "    \n",
    "    # Convert results to a DataFrame for easier manipulation\n",
    "    df = pd.DataFrame(results)\n",
    "\n",
    "    # Save results to file\n",
    "    if output_file.endswith('.csv'):\n",
    "        df.to_csv(output_file, index=False)\n",
    "    elif output_file.endswith('.xlsx'):\n",
    "        df.to_excel(output_file, index=False, engine='openpyxl')\n",
    "    else:\n",
    "        raise ValueError(\"Output file must be either .csv or .xlsx.\")\n",
    "    \n",
    "    print(f\"Results saved to {output_file}.\")\n",
    "\n"
   ]
  },
  {
   "cell_type": "code",
   "execution_count": 19,
   "metadata": {},
   "outputs": [
    {
     "name": "stdout",
     "output_type": "stream",
     "text": [
      "(1024, 1024)\n"
     ]
    },
    {
     "name": "stderr",
     "output_type": "stream",
     "text": [
      "Sketch Dimensions Progress:   0%|          | 0/8 [00:00<?, ?dim/s]"
     ]
    },
    {
     "name": "stdout",
     "output_type": "stream",
     "text": [
      "Error :1.0\n",
      "Error :0.960772448919279\n"
     ]
    },
    {
     "name": "stderr",
     "output_type": "stream",
     "text": [
      "Sketch Dimensions Progress:  12%|█▎        | 1/8 [00:02<00:15,  2.17s/dim]"
     ]
    },
    {
     "name": "stdout",
     "output_type": "stream",
     "text": [
      "Error :0.9477751787564648\n",
      "Error :1.0\n",
      "Error :0.945709004216863\n",
      "Error :0.9287808404175188\n",
      "Error :0.9136843258015594\n",
      "Error :0.9040175036572112\n"
     ]
    },
    {
     "name": "stderr",
     "output_type": "stream",
     "text": [
      "Sketch Dimensions Progress:  25%|██▌       | 2/8 [00:06<00:21,  3.53s/dim]"
     ]
    },
    {
     "name": "stdout",
     "output_type": "stream",
     "text": [
      "Error :0.8965860338365831\n",
      "Error :1.0\n",
      "Error :0.9362368596451409\n",
      "Error :0.9139486715298505\n",
      "Error :0.8999156883859274\n",
      "Error :0.8870597008766996\n",
      "Error :0.87684890641689\n",
      "Error :0.8683415359785023\n"
     ]
    },
    {
     "name": "stderr",
     "output_type": "stream",
     "text": [
      "Sketch Dimensions Progress:  38%|███▊      | 3/8 [00:12<00:23,  4.65s/dim]"
     ]
    },
    {
     "name": "stdout",
     "output_type": "stream",
     "text": [
      "Error :0.8588695546283308\n",
      "Error :1.0\n",
      "Error :0.9263988807527623\n",
      "Error :0.9027063327357425\n",
      "Error :0.8869707476382939\n",
      "Error :0.8729665841766335\n",
      "Error :0.8603832379856753\n",
      "Error :0.852686494433959\n",
      "Error :0.8426122469894797\n",
      "Error :0.8344647681203559\n",
      "Error :0.8281872824882023\n"
     ]
    },
    {
     "name": "stderr",
     "output_type": "stream",
     "text": [
      "Sketch Dimensions Progress:  50%|█████     | 4/8 [00:20<00:24,  6.06s/dim]"
     ]
    },
    {
     "name": "stdout",
     "output_type": "stream",
     "text": [
      "Error :0.819476253130446\n",
      "Error :1.0\n",
      "Error :0.9210289836418813\n",
      "Error :0.8950474421243295\n",
      "Error :0.8768268621995917\n",
      "Error :0.8635269482349589\n",
      "Error :0.8501360960299933\n",
      "Error :0.839593788509231\n",
      "Error :0.8291008520570403\n",
      "Error :0.8207205868458931\n",
      "Error :0.814199374351514\n",
      "Error :0.801525371138179\n",
      "Error :0.7950520077251098\n"
     ]
    },
    {
     "name": "stderr",
     "output_type": "stream",
     "text": [
      "Sketch Dimensions Progress:  62%|██████▎   | 5/8 [00:30<00:22,  7.43s/dim]"
     ]
    },
    {
     "name": "stdout",
     "output_type": "stream",
     "text": [
      "Error :0.7874228621368832\n",
      "Error :1.0\n",
      "Error :0.9160083096572409\n",
      "Error :0.8903366476576331\n",
      "Error :0.8706819772986233\n",
      "Error :0.8543377161852033\n",
      "Error :0.8404789407430104\n",
      "Error :0.8297297144544734\n",
      "Error :0.8171433027391126\n",
      "Error :0.8087007642282883\n",
      "Error :0.7997359362168857\n",
      "Error :0.7918180433650704\n",
      "Error :0.7807252076950499\n",
      "Error :0.7764761201212824\n",
      "Error :0.7688931926932532\n",
      "Error :0.7588854411766226\n"
     ]
    },
    {
     "name": "stderr",
     "output_type": "stream",
     "text": [
      "Sketch Dimensions Progress:  75%|███████▌  | 6/8 [00:44<00:18,  9.46s/dim]"
     ]
    },
    {
     "name": "stdout",
     "output_type": "stream",
     "text": [
      "Error :0.752992214732647\n",
      "Error :1.0\n",
      "Error :0.9114094152069899\n",
      "Error :0.8822131128220949\n",
      "Error :0.862923677731566\n",
      "Error :0.8484640783099506\n",
      "Error :0.8321372931529533\n",
      "Error :0.8210618984535589\n",
      "Error :0.8110770661600077\n",
      "Error :0.7989011434113596\n",
      "Error :0.7894131087671289\n",
      "Error :0.7812163895698666\n",
      "Error :0.7710102636540012\n",
      "Error :0.763661702565327\n",
      "Error :0.7544072049223659\n",
      "Error :0.7474352302502658\n",
      "Error :0.7389558695038484\n",
      "Error :0.7324841890924139\n"
     ]
    },
    {
     "name": "stderr",
     "output_type": "stream",
     "text": [
      "Sketch Dimensions Progress:  88%|████████▊ | 7/8 [00:58<00:11, 11.09s/dim]"
     ]
    },
    {
     "name": "stdout",
     "output_type": "stream",
     "text": [
      "Error :0.7271171468615356\n",
      "Error :1.0\n",
      "Error :0.9081110286139747\n",
      "Error :0.8785478687314806\n",
      "Error :0.8587073095077944\n",
      "Error :0.8398373371098852\n",
      "Error :0.8264878264781346\n",
      "Error :0.8129215961023923\n",
      "Error :0.8020656425622205\n",
      "Error :0.7898441641064657\n",
      "Error :0.7807960969664004\n",
      "Error :0.7700431312644284\n",
      "Error :0.7605643762036564\n",
      "Error :0.752134890578467\n",
      "Error :0.744399202079449\n",
      "Error :0.7363474630499834\n",
      "Error :0.7300662455789968\n",
      "Error :0.7215438097007516\n",
      "Error :0.7150682473704252\n",
      "Error :0.7072721327324273\n",
      "Error :0.6994674577775648\n"
     ]
    },
    {
     "name": "stderr",
     "output_type": "stream",
     "text": [
      "Sketch Dimensions Progress: 100%|██████████| 8/8 [01:15<00:00,  9.41s/dim]\n"
     ]
    },
    {
     "name": "stdout",
     "output_type": "stream",
     "text": [
      "Error :0.6931528773365375\n",
      "Results saved to ../Dataset/Section_2_test_3_Gaussian_for_loadMatrixA_1.csv.\n",
      "(1024, 1024)\n"
     ]
    },
    {
     "name": "stderr",
     "output_type": "stream",
     "text": [
      "Sketch Dimensions Progress:   0%|          | 0/6 [00:00<?, ?dim/s]"
     ]
    },
    {
     "name": "stdout",
     "output_type": "stream",
     "text": [
      "Error :1.0\n",
      "Error :0.1430313285307808\n"
     ]
    },
    {
     "name": "stderr",
     "output_type": "stream",
     "text": [
      "Sketch Dimensions Progress:  17%|█▋        | 1/6 [00:02<00:10,  2.10s/dim]"
     ]
    },
    {
     "name": "stdout",
     "output_type": "stream",
     "text": [
      "Error :0.03323931095877263\n",
      "Error :1.0\n",
      "Error :0.137845046488168\n",
      "Error :0.013844700193580828\n",
      "Error :0.0014494173521703846\n",
      "Error :0.00028994942824950146\n"
     ]
    },
    {
     "name": "stderr",
     "output_type": "stream",
     "text": [
      "Sketch Dimensions Progress:  33%|███▎      | 2/6 [00:06<00:13,  3.40s/dim]"
     ]
    },
    {
     "name": "stdout",
     "output_type": "stream",
     "text": [
      "Error :0.0001589662005124218\n",
      "Error :1.0\n",
      "Error :0.1378123811166288\n",
      "Error :0.013781493677472783\n",
      "Error :0.0013783977162232536\n",
      "Error :0.00013814394808061694\n",
      "Error :1.4190437279719094e-05\n",
      "Error :2.059550500383667e-06\n"
     ]
    },
    {
     "name": "stderr",
     "output_type": "stream",
     "text": [
      "Sketch Dimensions Progress:  50%|█████     | 3/6 [00:12<00:13,  4.49s/dim]"
     ]
    },
    {
     "name": "stdout",
     "output_type": "stream",
     "text": [
      "Error :7.069563964712664e-07\n",
      "Error :1.0\n",
      "Error :0.13781227122587192\n",
      "Error :0.013781227576014438\n",
      "Error :0.0013781241760949267\n",
      "Error :0.00013781347054641182\n",
      "Error :1.3783033754281556e-05\n",
      "Error :1.3802572673997263e-06\n",
      "Error :1.399388309335737e-07\n",
      "Error :1.6011854294260266e-08\n",
      "Error :4.080109885603103e-09\n"
     ]
    },
    {
     "name": "stderr",
     "output_type": "stream",
     "text": [
      "Sketch Dimensions Progress:  67%|██████▋   | 4/6 [00:20<00:11,  5.87s/dim]"
     ]
    },
    {
     "name": "stdout",
     "output_type": "stream",
     "text": [
      "Error :3.8667560007985204e-09\n",
      "Error :1.0\n",
      "Error :0.13781227096742182\n",
      "Error :0.013781227098892682\n",
      "Error :0.001378122713246463\n",
      "Error :0.0001378122772166921\n",
      "Error :1.3781234172314603e-05\n",
      "Error :1.3781300427484854e-06\n",
      "Error :1.3781974641472936e-07\n",
      "Error :1.3790594218235174e-08\n",
      "Error :1.3876379705682208e-09\n",
      "Error :1.459208906102137e-10\n",
      "Error :2.493850143598023e-11\n"
     ]
    },
    {
     "name": "stderr",
     "output_type": "stream",
     "text": [
      "Sketch Dimensions Progress:  83%|████████▎ | 5/6 [00:29<00:07,  7.21s/dim]"
     ]
    },
    {
     "name": "stdout",
     "output_type": "stream",
     "text": [
      "Error :1.7716361256636576e-11\n",
      "Error :1.0\n",
      "Error :0.1378122709660221\n",
      "Error :0.013781227096620899\n",
      "Error :0.001378122709684868\n",
      "Error :0.00013781227100564725\n",
      "Error :1.3781227138366452e-05\n",
      "Error :1.3781227563707096e-06\n",
      "Error :1.3781233478733278e-07\n",
      "Error :1.3781327134280736e-08\n",
      "Error :1.3781879084199967e-09\n",
      "Error :1.3788217660825802e-10\n",
      "Error :1.387935797193792e-11\n",
      "Error :1.4752080520626106e-12\n",
      "Error :2.631153882497779e-13\n",
      "Error :2.0543911388747272e-13\n"
     ]
    },
    {
     "name": "stderr",
     "output_type": "stream",
     "text": [
      "Sketch Dimensions Progress: 100%|██████████| 6/6 [00:41<00:00,  6.98s/dim]\n"
     ]
    },
    {
     "name": "stdout",
     "output_type": "stream",
     "text": [
      "Error :1.038132336287948e-13\n",
      "Results saved to ../Dataset/Section_2_test_3_Gaussian_for_loadMatrixA_2.csv.\n",
      "(1024, 1024)\n"
     ]
    },
    {
     "name": "stderr",
     "output_type": "stream",
     "text": [
      "Sketch Dimensions Progress:   0%|          | 0/8 [00:00<?, ?dim/s]"
     ]
    },
    {
     "name": "stdout",
     "output_type": "stream",
     "text": [
      "Error :1.0\n",
      "Error :0.00660085900472456\n"
     ]
    },
    {
     "name": "stderr",
     "output_type": "stream",
     "text": [
      "Sketch Dimensions Progress:  12%|█▎        | 1/8 [00:02<00:16,  2.40s/dim]"
     ]
    },
    {
     "name": "stdout",
     "output_type": "stream",
     "text": [
      "Error :0.005799255463323113\n",
      "Error :1.0\n",
      "Error :0.005902503512552623\n",
      "Error :0.004631170768623631\n",
      "Error :0.0040590971055518635\n",
      "Error :0.003741501452876948\n"
     ]
    },
    {
     "name": "stderr",
     "output_type": "stream",
     "text": [
      "Sketch Dimensions Progress:  25%|██▌       | 2/8 [00:07<00:22,  3.80s/dim]"
     ]
    },
    {
     "name": "stdout",
     "output_type": "stream",
     "text": [
      "Error :0.0035646934387266486\n",
      "Error :1.0\n",
      "Error :0.005581692889955969\n",
      "Error :0.004117223050088125\n",
      "Error :0.003392889650963958\n",
      "Error :0.0030174227237273372\n",
      "Error :0.0027341718438037613\n",
      "Error :0.0026023274928277653\n"
     ]
    },
    {
     "name": "stderr",
     "output_type": "stream",
     "text": [
      "Sketch Dimensions Progress:  38%|███▊      | 3/8 [00:13<00:24,  4.96s/dim]"
     ]
    },
    {
     "name": "stdout",
     "output_type": "stream",
     "text": [
      "Error :0.002486962837306091\n",
      "Error :1.0\n",
      "Error :0.005470007062414534\n",
      "Error :0.0038784923653096383\n",
      "Error :0.0030962052510724106\n",
      "Error :0.0026512970705827965\n",
      "Error :0.002386805427277888\n",
      "Error :0.002166749748190517\n",
      "Error :0.0020290746236958793\n",
      "Error :0.0019309561929605756\n",
      "Error :0.0018723326551822951\n"
     ]
    },
    {
     "name": "stderr",
     "output_type": "stream",
     "text": [
      "Sketch Dimensions Progress:  50%|█████     | 4/8 [00:22<00:25,  6.47s/dim]"
     ]
    },
    {
     "name": "stdout",
     "output_type": "stream",
     "text": [
      "Error :0.0018649866486068285\n",
      "Error :1.0\n",
      "Error :0.005387693127433429\n",
      "Error :0.00379911818032963\n",
      "Error :0.002943277175144004\n",
      "Error :0.0024388860291191293\n",
      "Error :0.002143733831384961\n",
      "Error :0.0019107566617899505\n",
      "Error :0.0017845429397244904\n",
      "Error :0.0016661233334907247\n",
      "Error :0.0016220892077198324\n",
      "Error :0.0015160984182137943\n",
      "Error :0.001463245278509935\n"
     ]
    },
    {
     "name": "stderr",
     "output_type": "stream",
     "text": [
      "Sketch Dimensions Progress:  62%|██████▎   | 5/8 [00:32<00:23,  7.98s/dim]"
     ]
    },
    {
     "name": "stdout",
     "output_type": "stream",
     "text": [
      "Error :0.0014354404354991004\n",
      "Error :1.0\n",
      "Error :0.00535240893939622\n",
      "Error :0.0037316095431983876\n",
      "Error :0.002859234435768883\n",
      "Error :0.002333014852571266\n",
      "Error :0.001975984305816792\n",
      "Error :0.001765460773261135\n",
      "Error :0.0015752088611653246\n",
      "Error :0.001463656216420023\n",
      "Error :0.0013773840701800035\n",
      "Error :0.0013046937410004795\n",
      "Error :0.0012378016827923799\n",
      "Error :0.0011964840009976443\n",
      "Error :0.0011754259196849377\n",
      "Error :0.0011535398362270452\n"
     ]
    },
    {
     "name": "stderr",
     "output_type": "stream",
     "text": [
      "Sketch Dimensions Progress:  75%|███████▌  | 6/8 [00:46<00:19,  9.81s/dim]"
     ]
    },
    {
     "name": "stdout",
     "output_type": "stream",
     "text": [
      "Error :0.001124115920790674\n",
      "Error :1.0\n",
      "Error :0.00532948588027263\n",
      "Error :0.0036822390899420724\n",
      "Error :0.002799294446046688\n",
      "Error :0.002258456172988664\n",
      "Error :0.0019124189514431315\n",
      "Error :0.0016559889941023453\n",
      "Error :0.0014747581695175047\n",
      "Error :0.0013532154479453525\n",
      "Error :0.0012574198957626117\n",
      "Error :0.0011681586363892261\n",
      "Error :0.001114696507433263\n",
      "Error :0.0010567524788852936\n",
      "Error :0.001017524897193063\n",
      "Error :0.000975961248022939\n",
      "Error :0.00095434994353319\n",
      "Error :0.0009268754093701319\n"
     ]
    },
    {
     "name": "stderr",
     "output_type": "stream",
     "text": [
      "Sketch Dimensions Progress:  88%|████████▊ | 7/8 [01:01<00:11, 11.57s/dim]"
     ]
    },
    {
     "name": "stdout",
     "output_type": "stream",
     "text": [
      "Error :0.000915093793601108\n",
      "Error :1.0\n",
      "Error :0.005316739390531614\n",
      "Error :0.003653461309340208\n",
      "Error :0.002760050077800091\n",
      "Error :0.0022118460468733567\n",
      "Error :0.0018318402604448742\n",
      "Error :0.0015855408658469255\n",
      "Error :0.0013901470994127948\n",
      "Error :0.0012541351298637718\n",
      "Error :0.0011521947332455208\n",
      "Error :0.001062736919465617\n",
      "Error :0.0010019859880708267\n",
      "Error :0.0009339387157286007\n",
      "Error :0.0008946020807986666\n",
      "Error :0.0008631729815282873\n",
      "Error :0.0008386181419303815\n",
      "Error :0.0008062708526067803\n",
      "Error :0.00078000218568895\n",
      "Error :0.0007667041089896852\n",
      "Error :0.0007474211148899807\n"
     ]
    },
    {
     "name": "stderr",
     "output_type": "stream",
     "text": [
      "Sketch Dimensions Progress: 100%|██████████| 8/8 [01:19<00:00,  9.96s/dim]\n"
     ]
    },
    {
     "name": "stdout",
     "output_type": "stream",
     "text": [
      "Error :0.0007309239718451424\n",
      "Results saved to ../Dataset/Section_2_test_3_Gaussian_for_loadMatrixA_3.csv.\n",
      "(1024, 1024)\n"
     ]
    },
    {
     "name": "stderr",
     "output_type": "stream",
     "text": [
      "Sketch Dimensions Progress:   0%|          | 0/8 [00:00<?, ?dim/s]"
     ]
    },
    {
     "name": "stdout",
     "output_type": "stream",
     "text": [
      "Error :1.0\n",
      "Error :0.5241095067241541\n"
     ]
    },
    {
     "name": "stderr",
     "output_type": "stream",
     "text": [
      "Sketch Dimensions Progress:  12%|█▎        | 1/8 [00:02<00:17,  2.46s/dim]"
     ]
    },
    {
     "name": "stdout",
     "output_type": "stream",
     "text": [
      "Error :0.499298503467032\n",
      "Error :1.0\n",
      "Error :0.48592868653843685\n",
      "Error :0.44280903174760133\n",
      "Error :0.4237994940965524\n",
      "Error :0.413796268110491\n"
     ]
    },
    {
     "name": "stderr",
     "output_type": "stream",
     "text": [
      "Sketch Dimensions Progress:  25%|██▌       | 2/8 [00:07<00:23,  3.84s/dim]"
     ]
    },
    {
     "name": "stdout",
     "output_type": "stream",
     "text": [
      "Error :0.4038703150912103\n",
      "Error :1.0\n",
      "Error :0.4666475266285406\n",
      "Error :0.4152589423276782\n",
      "Error :0.3948358514370043\n",
      "Error :0.37830847684435737\n",
      "Error :0.3696966964851616\n",
      "Error :0.36248598203313454\n"
     ]
    },
    {
     "name": "stderr",
     "output_type": "stream",
     "text": [
      "Sketch Dimensions Progress:  38%|███▊      | 3/8 [00:13<00:25,  5.06s/dim]"
     ]
    },
    {
     "name": "stdout",
     "output_type": "stream",
     "text": [
      "Error :0.36310804157797527\n",
      "Error :1.0\n",
      "Error :0.45589764694420504\n",
      "Error :0.40159391659325727\n",
      "Error :0.3718876663648201\n",
      "Error :0.3576926379353234\n",
      "Error :0.3450989662768925\n",
      "Error :0.3365518851087366\n",
      "Error :0.32991364425214437\n",
      "Error :0.3277819703717474\n",
      "Error :0.324675303658962\n"
     ]
    },
    {
     "name": "stderr",
     "output_type": "stream",
     "text": [
      "Sketch Dimensions Progress:  50%|█████     | 4/8 [00:22<00:26,  6.62s/dim]"
     ]
    },
    {
     "name": "stdout",
     "output_type": "stream",
     "text": [
      "Error :0.31933342285998034\n",
      "Error :1.0\n",
      "Error :0.4500615621122009\n",
      "Error :0.39153778229846947\n",
      "Error :0.36116062568737695\n",
      "Error :0.3417983096292012\n",
      "Error :0.3310109815219128\n",
      "Error :0.31852802913540007\n",
      "Error :0.3119178028970372\n",
      "Error :0.3070082211548975\n",
      "Error :0.30293555391932087\n",
      "Error :0.2983190494287253\n",
      "Error :0.29457412534782385\n"
     ]
    },
    {
     "name": "stderr",
     "output_type": "stream",
     "text": [
      "Sketch Dimensions Progress:  62%|██████▎   | 5/8 [00:33<00:24,  8.10s/dim]"
     ]
    },
    {
     "name": "stdout",
     "output_type": "stream",
     "text": [
      "Error :0.2921649000718168\n",
      "Error :1.0\n",
      "Error :0.44498756659213007\n",
      "Error :0.3848268432467654\n",
      "Error :0.35142197851365553\n",
      "Error :0.33069126945513455\n",
      "Error :0.31749323404418245\n",
      "Error :0.30698375794434457\n",
      "Error :0.29719067535789045\n",
      "Error :0.2927388491681241\n",
      "Error :0.2859641435138671\n",
      "Error :0.2826018300679951\n",
      "Error :0.27824311269435364\n",
      "Error :0.2748880685024226\n",
      "Error :0.2715946848932794\n",
      "Error :0.2681403867019496\n"
     ]
    },
    {
     "name": "stderr",
     "output_type": "stream",
     "text": [
      "Sketch Dimensions Progress:  75%|███████▌  | 6/8 [00:47<00:19,  9.98s/dim]"
     ]
    },
    {
     "name": "stdout",
     "output_type": "stream",
     "text": [
      "Error :0.26398106965350915\n",
      "Error :1.0\n",
      "Error :0.44279416980407044\n",
      "Error :0.37923363448659664\n",
      "Error :0.3440167831379056\n",
      "Error :0.32292785867353924\n",
      "Error :0.307877185750245\n",
      "Error :0.2967014637546484\n",
      "Error :0.28810432646597506\n",
      "Error :0.27994600516942664\n",
      "Error :0.2744675654994185\n",
      "Error :0.27055190352867947\n",
      "Error :0.2642918400551491\n",
      "Error :0.2598775264645975\n",
      "Error :0.25808192878075126\n",
      "Error :0.2539163713351309\n",
      "Error :0.25225196696267727\n",
      "Error :0.24935237302305727\n"
     ]
    },
    {
     "name": "stderr",
     "output_type": "stream",
     "text": [
      "Sketch Dimensions Progress:  88%|████████▊ | 7/8 [01:04<00:12, 12.29s/dim]"
     ]
    },
    {
     "name": "stdout",
     "output_type": "stream",
     "text": [
      "Error :0.24690703397789213\n",
      "Error :1.0\n",
      "Error :0.4400219043245242\n",
      "Error :0.3753707347767916\n",
      "Error :0.33893857739840394\n",
      "Error :0.3164721037825935\n",
      "Error :0.30096231181174415\n",
      "Error :0.28817961802458164\n",
      "Error :0.27973082797267634\n",
      "Error :0.2728311290375291\n",
      "Error :0.2642770454929916\n",
      "Error :0.2592156425831066\n",
      "Error :0.2551963384118043\n",
      "Error :0.25054973584418316\n",
      "Error :0.24678342659388586\n",
      "Error :0.24282890723954353\n",
      "Error :0.23925911424154342\n",
      "Error :0.2366007874697144\n",
      "Error :0.233739336145795\n",
      "Error :0.23147159452792765\n",
      "Error :0.22912308790803715\n"
     ]
    },
    {
     "name": "stderr",
     "output_type": "stream",
     "text": [
      "Sketch Dimensions Progress: 100%|██████████| 8/8 [01:22<00:00, 10.37s/dim]\n"
     ]
    },
    {
     "name": "stdout",
     "output_type": "stream",
     "text": [
      "Error :0.22724769751369708\n",
      "Results saved to ../Dataset/Section_2_test_3_Gaussian_for_loadMatrixA_32.csv.\n",
      "(1024, 1024)\n"
     ]
    },
    {
     "name": "stderr",
     "output_type": "stream",
     "text": [
      "Sketch Dimensions Progress:   0%|          | 0/8 [00:00<?, ?dim/s]"
     ]
    },
    {
     "name": "stdout",
     "output_type": "stream",
     "text": [
      "Error :1.0\n",
      "Error :0.9614686953527921\n"
     ]
    },
    {
     "name": "stderr",
     "output_type": "stream",
     "text": [
      "Sketch Dimensions Progress:  12%|█▎        | 1/8 [00:02<00:16,  2.35s/dim]"
     ]
    },
    {
     "name": "stdout",
     "output_type": "stream",
     "text": [
      "Error :0.9486128109628859\n",
      "Error :1.0\n",
      "Error :0.9449842810904242\n",
      "Error :0.9284153048471849\n",
      "Error :0.9150702341895847\n",
      "Error :0.9032443937295132\n"
     ]
    },
    {
     "name": "stderr",
     "output_type": "stream",
     "text": [
      "Sketch Dimensions Progress:  25%|██▌       | 2/8 [00:07<00:22,  3.83s/dim]"
     ]
    },
    {
     "name": "stdout",
     "output_type": "stream",
     "text": [
      "Error :0.8960303601176378\n",
      "Error :1.0\n",
      "Error :0.9331526446677065\n",
      "Error :0.9140311963488631\n",
      "Error :0.90035258843897\n",
      "Error :0.8866104004108493\n",
      "Error :0.8750145651447063\n",
      "Error :0.8664436819384398\n"
     ]
    },
    {
     "name": "stderr",
     "output_type": "stream",
     "text": [
      "Sketch Dimensions Progress:  38%|███▊      | 3/8 [00:13<00:25,  5.06s/dim]"
     ]
    },
    {
     "name": "stdout",
     "output_type": "stream",
     "text": [
      "Error :0.8568163232464047\n",
      "Error :1.0\n",
      "Error :0.9259244719876063\n",
      "Error :0.9022376459357233\n",
      "Error :0.8871279138943254\n",
      "Error :0.8738312387011662\n",
      "Error :0.8630082597871362\n",
      "Error :0.8508442688299308\n",
      "Error :0.8432382072358771\n",
      "Error :0.8324181029756726\n",
      "Error :0.8226776888497281\n"
     ]
    },
    {
     "name": "stderr",
     "output_type": "stream",
     "text": [
      "Sketch Dimensions Progress:  50%|█████     | 4/8 [00:23<00:27,  6.75s/dim]"
     ]
    },
    {
     "name": "stdout",
     "output_type": "stream",
     "text": [
      "Error :0.8185521694400855\n",
      "Error :1.0\n",
      "Error :0.9211014555561228\n",
      "Error :0.894322901006355\n",
      "Error :0.876888073195064\n",
      "Error :0.8640654791370312\n",
      "Error :0.850111346662717\n",
      "Error :0.8386906474638188\n",
      "Error :0.8301101771750284\n",
      "Error :0.8187021313126635\n",
      "Error :0.8079088989315635\n",
      "Error :0.8020253431375847\n",
      "Error :0.7958309389959877\n"
     ]
    },
    {
     "name": "stderr",
     "output_type": "stream",
     "text": [
      "Sketch Dimensions Progress:  62%|██████▎   | 5/8 [00:33<00:24,  8.06s/dim]"
     ]
    },
    {
     "name": "stdout",
     "output_type": "stream",
     "text": [
      "Error :0.7843288000594578\n",
      "Error :1.0\n",
      "Error :0.9146912684121382\n",
      "Error :0.887645707037001\n",
      "Error :0.8692772457767886\n",
      "Error :0.8546212524535939\n",
      "Error :0.8411651141028998\n",
      "Error :0.8301290201935843\n",
      "Error :0.8160953606142327\n",
      "Error :0.8079548068456935\n",
      "Error :0.8003624842159817\n",
      "Error :0.7873690417298869\n",
      "Error :0.7798676730461485\n",
      "Error :0.7737390387009234\n",
      "Error :0.7669784128999482\n",
      "Error :0.7585695720489126\n"
     ]
    },
    {
     "name": "stderr",
     "output_type": "stream",
     "text": [
      "Sketch Dimensions Progress:  75%|███████▌  | 6/8 [00:46<00:19,  9.84s/dim]"
     ]
    },
    {
     "name": "stdout",
     "output_type": "stream",
     "text": [
      "Error :0.75316878642084\n",
      "Error :1.0\n",
      "Error :0.9120348989672447\n",
      "Error :0.8836442288371126\n",
      "Error :0.8634565136921557\n",
      "Error :0.8466588503357066\n",
      "Error :0.8326088396557597\n",
      "Error :0.8208755029743063\n",
      "Error :0.8103154163255232\n",
      "Error :0.798062229170577\n",
      "Error :0.7895053568077112\n",
      "Error :0.7783601328851252\n",
      "Error :0.7709006196601563\n",
      "Error :0.7625464194933022\n",
      "Error :0.7542559542763525\n",
      "Error :0.7444305783978667\n",
      "Error :0.7402040256840519\n",
      "Error :0.7302362575147004\n"
     ]
    },
    {
     "name": "stderr",
     "output_type": "stream",
     "text": [
      "Sketch Dimensions Progress:  88%|████████▊ | 7/8 [01:01<00:11, 11.39s/dim]"
     ]
    },
    {
     "name": "stdout",
     "output_type": "stream",
     "text": [
      "Error :0.7269405690535026\n",
      "Error :1.0\n",
      "Error :0.9076774176629319\n",
      "Error :0.8778177497173584\n",
      "Error :0.8567311550664282\n",
      "Error :0.8409244170117516\n",
      "Error :0.8258412053084775\n",
      "Error :0.8136769577959041\n",
      "Error :0.8017672182140022\n",
      "Error :0.7905111956498051\n",
      "Error :0.7786042595608454\n",
      "Error :0.7708913257651425\n",
      "Error :0.7595430905337981\n",
      "Error :0.7532303296396705\n",
      "Error :0.7430111751015465\n",
      "Error :0.7349414014634679\n",
      "Error :0.7276149386712303\n",
      "Error :0.7193726265516726\n",
      "Error :0.7146617037448411\n",
      "Error :0.7065921801102266\n",
      "Error :0.7027054859764769\n"
     ]
    },
    {
     "name": "stderr",
     "output_type": "stream",
     "text": [
      "Sketch Dimensions Progress: 100%|██████████| 8/8 [01:18<00:00,  9.83s/dim]\n"
     ]
    },
    {
     "name": "stdout",
     "output_type": "stream",
     "text": [
      "Error :0.6931679578772149\n",
      "Results saved to ../Dataset/Section_2_test_4_fjlt_for_loadMatrixA_1.csv.\n",
      "(1024, 1024)\n"
     ]
    },
    {
     "name": "stderr",
     "output_type": "stream",
     "text": [
      "Sketch Dimensions Progress:   0%|          | 0/8 [00:00<?, ?dim/s]"
     ]
    },
    {
     "name": "stdout",
     "output_type": "stream",
     "text": [
      "Error :1.0\n",
      "Error :0.20883377444437415\n"
     ]
    },
    {
     "name": "stderr",
     "output_type": "stream",
     "text": [
      "Sketch Dimensions Progress:  12%|█▎        | 1/8 [00:02<00:17,  2.53s/dim]"
     ]
    },
    {
     "name": "stdout",
     "output_type": "stream",
     "text": [
      "Error :0.08440666054823938\n",
      "Error :1.0\n",
      "Error :0.15379479166387808\n",
      "Error :0.07145836849513704\n",
      "Error :0.0778651093715297\n",
      "Error :0.008774217805612071\n"
     ]
    },
    {
     "name": "stderr",
     "output_type": "stream",
     "text": [
      "Sketch Dimensions Progress:  25%|██▌       | 2/8 [00:07<00:22,  3.70s/dim]"
     ]
    },
    {
     "name": "stdout",
     "output_type": "stream",
     "text": [
      "Error :0.013650984765621271\n",
      "Error :1.0\n",
      "Error :0.13939233971634588\n",
      "Error :0.013856040723863058\n",
      "Error :0.004198313032590679\n",
      "Error :0.004674237178847396\n",
      "Error :0.03510730195526154\n",
      "Error :0.0036379776651955546\n"
     ]
    },
    {
     "name": "stderr",
     "output_type": "stream",
     "text": [
      "Sketch Dimensions Progress:  38%|███▊      | 3/8 [00:12<00:23,  4.71s/dim]"
     ]
    },
    {
     "name": "stdout",
     "output_type": "stream",
     "text": [
      "Error :0.005473116203192558\n",
      "Error :1.0\n",
      "Error :0.13972042301212403\n",
      "Error :0.017000309242943334\n",
      "Error :0.0026729466231782072\n",
      "Error :0.00030187424888269504\n",
      "Error :0.0015421007997836764\n",
      "Error :7.166418916747297e-05\n",
      "Error :0.0016394700109655523\n",
      "Error :7.526621707603713e-05\n",
      "Error :0.003149910763750305\n"
     ]
    },
    {
     "name": "stderr",
     "output_type": "stream",
     "text": [
      "Sketch Dimensions Progress:  50%|█████     | 4/8 [00:21<00:24,  6.17s/dim]"
     ]
    },
    {
     "name": "stdout",
     "output_type": "stream",
     "text": [
      "Error :0.0003071919307450378\n",
      "Error :1.0\n",
      "Error :0.1378142470524851\n",
      "Error :0.013795721320058088\n",
      "Error :0.0026545517539111776\n",
      "Error :0.0016284891716732948\n",
      "Error :0.0031298649296114464\n",
      "Error :5.679257419190195e-05\n",
      "Error :0.0014911547762124812\n",
      "Error :0.001494380654001083\n",
      "Error :0.0014982553935001632\n",
      "Error :0.0015425628462345457\n",
      "Error :0.0015333124818182138\n"
     ]
    },
    {
     "name": "stderr",
     "output_type": "stream",
     "text": [
      "Sketch Dimensions Progress:  62%|██████▎   | 5/8 [00:31<00:22,  7.59s/dim]"
     ]
    },
    {
     "name": "stdout",
     "output_type": "stream",
     "text": [
      "Error :2.1496116040942326e-05\n",
      "Error :1.0\n",
      "Error :0.13781504543298118\n",
      "Error :0.013788371613898374\n",
      "Error :0.0014159684739702613\n",
      "Error :0.0001414730887424233\n",
      "Error :2.5129709334857036e-05\n",
      "Error :1.5118491405044879e-05\n",
      "Error :5.744807939748931e-05\n",
      "Error :2.26061922864223e-05\n",
      "Error :0.0015006345290198588\n",
      "Error :5.9931545048151685e-05\n",
      "Error :0.0014914358063944566\n",
      "Error :4.243064835637738e-05\n",
      "Error :1.0152177595927724e-05\n",
      "Error :1.4171656132591093e-05\n"
     ]
    },
    {
     "name": "stderr",
     "output_type": "stream",
     "text": [
      "Sketch Dimensions Progress:  75%|███████▌  | 6/8 [00:44<00:18,  9.34s/dim]"
     ]
    },
    {
     "name": "stdout",
     "output_type": "stream",
     "text": [
      "Error :7.934815219296302e-06\n",
      "Error :1.0\n",
      "Error :0.13781364949046374\n",
      "Error :0.014664411379010873\n",
      "Error :0.001382455504062158\n",
      "Error :0.0001659427720010347\n",
      "Error :2.1061814417067724e-05\n",
      "Error :6.5242180280539025e-06\n",
      "Error :1.4243854414737963e-05\n",
      "Error :3.851107091475718e-06\n",
      "Error :4.518004271700398e-05\n",
      "Error :0.0014864836749384517\n",
      "Error :0.001482650135070276\n",
      "Error :1.2457369830085567e-05\n",
      "Error :7.966876895550978e-06\n",
      "Error :9.21394589270183e-06\n",
      "Error :9.97595476375852e-06\n",
      "Error :1.1778439740232281e-05\n"
     ]
    },
    {
     "name": "stderr",
     "output_type": "stream",
     "text": [
      "Sketch Dimensions Progress:  88%|████████▊ | 7/8 [00:59<00:11, 11.37s/dim]"
     ]
    },
    {
     "name": "stdout",
     "output_type": "stream",
     "text": [
      "Error :3.7922384680522006e-06\n",
      "Error :1.0\n",
      "Error :0.13781256566747402\n",
      "Error :0.013781227896318646\n",
      "Error :0.0013798814289402415\n",
      "Error :0.00014141310007194502\n",
      "Error :1.3784439572745737e-05\n",
      "Error :3.0488978484606436e-06\n",
      "Error :4.192078114343312e-06\n",
      "Error :3.7848096829984523e-06\n",
      "Error :5.7096948558719055e-06\n",
      "Error :4.119119072746805e-06\n",
      "Error :6.369930048191685e-06\n",
      "Error :1.8959334233975654e-06\n",
      "Error :5.690754939811443e-06\n",
      "Error :4.493203675147259e-06\n",
      "Error :5.9787593493709454e-06\n",
      "Error :2.8964982993719184e-09\n",
      "Error :3.946549145252512e-06\n",
      "Error :8.801122316280243e-09\n",
      "Error :9.842874965646651e-06\n"
     ]
    },
    {
     "name": "stderr",
     "output_type": "stream",
     "text": [
      "Sketch Dimensions Progress: 100%|██████████| 8/8 [01:17<00:00,  9.72s/dim]\n"
     ]
    },
    {
     "name": "stdout",
     "output_type": "stream",
     "text": [
      "Error :5.9792859205447195e-06\n",
      "Results saved to ../Dataset/Section_2_test_4_fjlt_for_loadMatrixA_2.csv.\n",
      "(1024, 1024)\n"
     ]
    },
    {
     "name": "stderr",
     "output_type": "stream",
     "text": [
      "Sketch Dimensions Progress:   0%|          | 0/8 [00:00<?, ?dim/s]"
     ]
    },
    {
     "name": "stdout",
     "output_type": "stream",
     "text": [
      "Error :1.0\n",
      "Error :0.006742121462662463\n"
     ]
    },
    {
     "name": "stderr",
     "output_type": "stream",
     "text": [
      "Sketch Dimensions Progress:  12%|█▎        | 1/8 [00:02<00:20,  2.88s/dim]"
     ]
    },
    {
     "name": "stdout",
     "output_type": "stream",
     "text": [
      "Error :0.006039814040589963\n",
      "Error :1.0\n",
      "Error :0.005845708253779097\n",
      "Error :0.004583838594490886\n",
      "Error :0.003990091946752947\n",
      "Error :0.003666230625235584\n"
     ]
    },
    {
     "name": "stderr",
     "output_type": "stream",
     "text": [
      "Sketch Dimensions Progress:  25%|██▌       | 2/8 [00:07<00:24,  4.08s/dim]"
     ]
    },
    {
     "name": "stdout",
     "output_type": "stream",
     "text": [
      "Error :0.0035950812689580784\n",
      "Error :1.0\n",
      "Error :0.005585827749146972\n",
      "Error :0.00409950401199161\n",
      "Error :0.0033857481273540176\n",
      "Error :0.0029786377468615922\n",
      "Error :0.0028190553507714067\n",
      "Error :0.0025893148014647207\n"
     ]
    },
    {
     "name": "stderr",
     "output_type": "stream",
     "text": [
      "Sketch Dimensions Progress:  38%|███▊      | 3/8 [00:14<00:27,  5.49s/dim]"
     ]
    },
    {
     "name": "stdout",
     "output_type": "stream",
     "text": [
      "Error :0.002563459422834933\n",
      "Error :1.0\n",
      "Error :0.005438555428546793\n",
      "Error :0.0038980246887716364\n",
      "Error :0.0031151885886194636\n",
      "Error :0.00263005743592148\n",
      "Error :0.0023690705560446444\n",
      "Error :0.002159959124215242\n",
      "Error :0.0020373913358630175\n",
      "Error :0.001955917715843185\n",
      "Error :0.001907579036263518\n"
     ]
    },
    {
     "name": "stderr",
     "output_type": "stream",
     "text": [
      "Sketch Dimensions Progress:  50%|█████     | 4/8 [00:24<00:28,  7.20s/dim]"
     ]
    },
    {
     "name": "stdout",
     "output_type": "stream",
     "text": [
      "Error :0.0018183910553107759\n",
      "Error :1.0\n",
      "Error :0.005395981432709752\n",
      "Error :0.003796351355418407\n",
      "Error :0.0029510797442499647\n",
      "Error :0.002432715383494022\n",
      "Error :0.0021291307906902523\n",
      "Error :0.0019020534166603181\n",
      "Error :0.0017616274218506835\n",
      "Error :0.0016538150973577522\n",
      "Error :0.0015560515099887831\n",
      "Error :0.001519156846303057\n",
      "Error :0.0014667236204583278\n"
     ]
    },
    {
     "name": "stderr",
     "output_type": "stream",
     "text": [
      "Sketch Dimensions Progress:  62%|██████▎   | 5/8 [00:36<00:26,  8.91s/dim]"
     ]
    },
    {
     "name": "stdout",
     "output_type": "stream",
     "text": [
      "Error :0.0014565052784778426\n",
      "Error :1.0\n",
      "Error :0.00535700911746169\n",
      "Error :0.0037314700285708286\n",
      "Error :0.0028690629051582764\n",
      "Error :0.002328732233474832\n",
      "Error :0.002004193597369114\n",
      "Error :0.0017476414145068586\n",
      "Error :0.001608664477607673\n",
      "Error :0.0014588025460538989\n",
      "Error :0.0013858936094310837\n",
      "Error :0.0013135950666817594\n",
      "Error :0.0012419869288012595\n",
      "Error :0.0012144087982087274\n",
      "Error :0.0011725956003527638\n",
      "Error :0.0011526097693042158\n"
     ]
    },
    {
     "name": "stderr",
     "output_type": "stream",
     "text": [
      "Sketch Dimensions Progress:  75%|███████▌  | 6/8 [00:51<00:21, 10.90s/dim]"
     ]
    },
    {
     "name": "stdout",
     "output_type": "stream",
     "text": [
      "Error :0.0011192334144679238\n",
      "Error :1.0\n",
      "Error :0.005330099430829031\n",
      "Error :0.003683734549184435\n",
      "Error :0.002800860610630813\n",
      "Error :0.0022602253004689434\n",
      "Error :0.001907260519005854\n",
      "Error :0.0016506912179279892\n",
      "Error :0.0014753152332680276\n",
      "Error :0.0013368605198757866\n",
      "Error :0.001239282910864795\n",
      "Error :0.0011687824230401918\n",
      "Error :0.0011123439928591567\n",
      "Error :0.0010448723004897274\n",
      "Error :0.0010231656968833192\n",
      "Error :0.0009838570501562844\n",
      "Error :0.0009427600855802336\n",
      "Error :0.0009275698495664928\n"
     ]
    },
    {
     "name": "stderr",
     "output_type": "stream",
     "text": [
      "Sketch Dimensions Progress:  88%|████████▊ | 7/8 [01:07<00:12, 12.70s/dim]"
     ]
    },
    {
     "name": "stdout",
     "output_type": "stream",
     "text": [
      "Error :0.0009061278048273999\n",
      "Error :1.0\n",
      "Error :0.005313910590174652\n",
      "Error :0.003656377992748649\n",
      "Error :0.0027693551084712123\n",
      "Error :0.002206207961274082\n",
      "Error :0.001842294445460913\n",
      "Error :0.0015862328418123292\n",
      "Error :0.0014003538272841889\n",
      "Error :0.001247098155833056\n",
      "Error :0.001147391890103909\n",
      "Error :0.0010602138219801731\n",
      "Error :0.0010053532883067648\n",
      "Error :0.000944311473006781\n",
      "Error :0.0008913208353687781\n",
      "Error :0.0008648771801068688\n",
      "Error :0.0008357362388343703\n",
      "Error :0.0008078019504483149\n",
      "Error :0.0007806394323331812\n",
      "Error :0.0007588726727831885\n",
      "Error :0.0007494203497187356\n"
     ]
    },
    {
     "name": "stderr",
     "output_type": "stream",
     "text": [
      "Sketch Dimensions Progress: 100%|██████████| 8/8 [01:28<00:00, 11.01s/dim]\n"
     ]
    },
    {
     "name": "stdout",
     "output_type": "stream",
     "text": [
      "Error :0.0007351679383409761\n",
      "Results saved to ../Dataset/Section_2_test_4_fjlt_for_loadMatrixA_3.csv.\n",
      "(1024, 1024)\n"
     ]
    },
    {
     "name": "stderr",
     "output_type": "stream",
     "text": [
      "Sketch Dimensions Progress:   0%|          | 0/8 [00:00<?, ?dim/s]"
     ]
    },
    {
     "name": "stdout",
     "output_type": "stream",
     "text": [
      "Error :1.0\n",
      "Error :0.5306783787477702\n"
     ]
    },
    {
     "name": "stderr",
     "output_type": "stream",
     "text": [
      "Sketch Dimensions Progress:  12%|█▎        | 1/8 [00:02<00:19,  2.77s/dim]"
     ]
    },
    {
     "name": "stdout",
     "output_type": "stream",
     "text": [
      "Error :0.503601887682963\n",
      "Error :1.0\n",
      "Error :0.48861237835066873\n",
      "Error :0.4492214659250697\n",
      "Error :0.43029986658499414\n",
      "Error :0.42209998036420704\n"
     ]
    },
    {
     "name": "stderr",
     "output_type": "stream",
     "text": [
      "Sketch Dimensions Progress:  25%|██▌       | 2/8 [00:07<00:24,  4.15s/dim]"
     ]
    },
    {
     "name": "stdout",
     "output_type": "stream",
     "text": [
      "Error :0.411083141784923\n",
      "Error :1.0\n",
      "Error :0.46568373259676343\n",
      "Error :0.4174718662214034\n",
      "Error :0.3895812679603547\n",
      "Error :0.3781417001702485\n",
      "Error :0.37148530735927676\n",
      "Error :0.36202510174795344\n"
     ]
    },
    {
     "name": "stderr",
     "output_type": "stream",
     "text": [
      "Sketch Dimensions Progress:  38%|███▊      | 3/8 [00:15<00:27,  5.52s/dim]"
     ]
    },
    {
     "name": "stdout",
     "output_type": "stream",
     "text": [
      "Error :0.3571349696334534\n",
      "Error :1.0\n",
      "Error :0.456452760799546\n",
      "Error :0.4012384167984704\n",
      "Error :0.37443002988598817\n",
      "Error :0.35662815813992155\n",
      "Error :0.3440565372498238\n",
      "Error :0.33712436425300185\n",
      "Error :0.3305041638565651\n",
      "Error :0.32659398155940533\n",
      "Error :0.3215934974373959\n"
     ]
    },
    {
     "name": "stderr",
     "output_type": "stream",
     "text": [
      "Sketch Dimensions Progress:  50%|█████     | 4/8 [00:25<00:29,  7.33s/dim]"
     ]
    },
    {
     "name": "stdout",
     "output_type": "stream",
     "text": [
      "Error :0.31887537245020225\n",
      "Error :1.0\n",
      "Error :0.4504121713917545\n",
      "Error :0.3911534907099274\n",
      "Error :0.35886130054818205\n",
      "Error :0.342076949045056\n",
      "Error :0.32736251261351135\n",
      "Error :0.3194257498788924\n",
      "Error :0.31152573041838505\n",
      "Error :0.30566930118427704\n",
      "Error :0.3025902611621111\n",
      "Error :0.2969011386223157\n",
      "Error :0.2955615248040132\n"
     ]
    },
    {
     "name": "stderr",
     "output_type": "stream",
     "text": [
      "Sketch Dimensions Progress:  62%|██████▎   | 5/8 [00:37<00:27,  9.18s/dim]"
     ]
    },
    {
     "name": "stdout",
     "output_type": "stream",
     "text": [
      "Error :0.29138928310386353\n",
      "Error :1.0\n",
      "Error :0.4462211772868873\n",
      "Error :0.38487076491979905\n",
      "Error :0.3526126593294573\n",
      "Error :0.33104360999516375\n",
      "Error :0.3178601085830122\n",
      "Error :0.30512791506888703\n",
      "Error :0.29865528824755666\n",
      "Error :0.29072277874041563\n",
      "Error :0.2868755091548704\n",
      "Error :0.28277395698464847\n",
      "Error :0.276158957036716\n",
      "Error :0.2758131845166162\n",
      "Error :0.27226025653205144\n",
      "Error :0.2680672815301619\n"
     ]
    },
    {
     "name": "stderr",
     "output_type": "stream",
     "text": [
      "Sketch Dimensions Progress:  75%|███████▌  | 6/8 [00:54<00:23, 11.66s/dim]"
     ]
    },
    {
     "name": "stdout",
     "output_type": "stream",
     "text": [
      "Error :0.2648849341739228\n",
      "Error :1.0\n",
      "Error :0.4423111278049151\n",
      "Error :0.37813234833308895\n",
      "Error :0.3457365035981818\n",
      "Error :0.32234633283191655\n",
      "Error :0.3077213296094297\n",
      "Error :0.29693764327538086\n",
      "Error :0.2869815978751995\n",
      "Error :0.2805987477453641\n",
      "Error :0.2752198548731282\n",
      "Error :0.2685478096988795\n",
      "Error :0.2655631528373714\n",
      "Error :0.259937345314048\n",
      "Error :0.25850345421183585\n",
      "Error :0.25466924969084853\n",
      "Error :0.24978515415065078\n",
      "Error :0.2486658726731785\n"
     ]
    },
    {
     "name": "stderr",
     "output_type": "stream",
     "text": [
      "Sketch Dimensions Progress:  88%|████████▊ | 7/8 [01:12<00:13, 13.78s/dim]"
     ]
    },
    {
     "name": "stdout",
     "output_type": "stream",
     "text": [
      "Error :0.24673348280808957\n",
      "Error :1.0\n",
      "Error :0.440259205966917\n",
      "Error :0.37447785715735804\n",
      "Error :0.3392182432153556\n",
      "Error :0.3168355235340421\n",
      "Error :0.301895986725637\n",
      "Error :0.28943538194889584\n",
      "Error :0.27943918475682966\n",
      "Error :0.2723572240924201\n",
      "Error :0.26595044092839026\n",
      "Error :0.26009096612751537\n",
      "Error :0.2547632622878583\n",
      "Error :0.2493346006713285\n",
      "Error :0.24690018983007764\n",
      "Error :0.24348498691639234\n",
      "Error :0.23914751276382837\n",
      "Error :0.2361788983115978\n",
      "Error :0.23521218456190301\n",
      "Error :0.23129575839463504\n",
      "Error :0.22878378281242467\n"
     ]
    },
    {
     "name": "stderr",
     "output_type": "stream",
     "text": [
      "Sketch Dimensions Progress: 100%|██████████| 8/8 [01:32<00:00, 11.61s/dim]"
     ]
    },
    {
     "name": "stdout",
     "output_type": "stream",
     "text": [
      "Error :0.22724330245067237\n",
      "Results saved to ../Dataset/Section_2_test_4_fjlt_for_loadMatrixA_32.csv.\n"
     ]
    },
    {
     "name": "stderr",
     "output_type": "stream",
     "text": [
      "\n"
     ]
    }
   ],
   "source": [
    "# collect_low_rank_errors(loadMatrix_A_1)\n",
    "testList1 = [25, 50, 75, 100, 125, 150]\n",
    "testList2 = [10, 20, 30, 40, 50, 60, 70, 80, 90, 100]\n",
    "testList3 = [25, 50, 75, 100, 125, 150, 175, 200]\n",
    "\n",
    "collect_low_rank_errors(A = loadMatrix_A_1, \n",
    "                        sketch_dims = [25, 50, 75, 100, 125, 150, 175, 200],  \n",
    "                        is_good_conditionned=True, \n",
    "                        sketch_method='gaussian', \n",
    "                        output_file='../Dataset/Section_2_test_3_Gaussian_for_loadMatrixA_1.csv', matrix_name=\"loadMatrix_A_1\")\n",
    "\n",
    "collect_low_rank_errors(A = loadMatrix_A_2, \n",
    "                        sketch_dims = testList,  \n",
    "                        is_good_conditionned=False, \n",
    "                        sketch_method='gaussian', \n",
    "                        output_file='../Dataset/Section_2_test_3_Gaussian_for_loadMatrixA_2.csv', matrix_name=\"loadMatrix_A_2\")\n",
    "\n",
    "collect_low_rank_errors(A = loadMatrix_A_3, \n",
    "                        sketch_dims = [25, 50, 75, 100, 125, 150, 175, 200],  \n",
    "                        is_good_conditionned=False, \n",
    "                        sketch_method='gaussian', \n",
    "                        output_file='../Dataset/Section_2_test_3_Gaussian_for_loadMatrixA_3.csv', matrix_name=\"loadMatrix_A_3\")\n",
    "\n",
    "collect_low_rank_errors(A = loadMatrix_A_32, \n",
    "                        sketch_dims = [25, 50, 75, 100, 125, 150, 175, 200],  \n",
    "                        is_good_conditionned=False, \n",
    "                        sketch_method='gaussian', \n",
    "                        output_file='../Dataset/Section_2_test_3_Gaussian_for_loadMatrixA_32.csv', matrix_name=\"loadMatrix_A_3\")\n",
    "\n",
    "collect_low_rank_errors(A = loadMatrix_A_1, \n",
    "                        sketch_dims = [25, 50, 75, 100, 125, 150, 175, 200],  \n",
    "                        is_good_conditionned=True, \n",
    "                        sketch_method='fjlt', \n",
    "                        output_file='../Dataset/Section_2_test_4_fjlt_for_loadMatrixA_1.csv', matrix_name=\"loadMatrix_A_1\")\n",
    "\n",
    "collect_low_rank_errors(A = loadMatrix_A_2, \n",
    "                        sketch_dims = [25, 50, 75, 100, 125, 150, 175, 200],  \n",
    "                        is_good_conditionned=False, \n",
    "                        sketch_method='fjlt', \n",
    "                        output_file='../Dataset/Section_2_test_4_fjlt_for_loadMatrixA_2.csv', matrix_name=\"loadMatrix_A_2\")\n",
    "\n",
    "collect_low_rank_errors(A = loadMatrix_A_3, \n",
    "                        sketch_dims = [25, 50, 75, 100, 125, 150, 175, 200],  \n",
    "                        is_good_conditionned=False, \n",
    "                        sketch_method='fjlt', \n",
    "                        output_file='../Dataset/Section_2_test_4_fjlt_for_loadMatrixA_3.csv', matrix_name=\"loadMatrix_A_3\")\n",
    "\n",
    "collect_low_rank_errors(A = loadMatrix_A_32, \n",
    "                        sketch_dims = [25, 50, 75, 100, 125, 150, 175, 200],  \n",
    "                        is_good_conditionned=False, \n",
    "                        sketch_method='fjlt', \n",
    "                        output_file='../Dataset/Section_2_test_4_fjlt_for_loadMatrixA_32.csv', matrix_name=\"loadMatrix_A_32\")\n"
   ]
  },
  {
   "cell_type": "markdown",
   "metadata": {},
   "source": [
    "### Diagram \n",
    "\n",
    "In the following parts, we'll draw diagrams. "
   ]
  },
  {
   "cell_type": "code",
   "execution_count": 28,
   "metadata": {},
   "outputs": [],
   "source": [
    "import seaborn as sns\n",
    "import matplotlib.pyplot as plt\n",
    "import pandas as pd\n",
    "\n",
    "def plot_statistical_diagram_with_logscale(csv_file, save_path, include_labels=True):\n",
    "    \"\"\"\n",
    "    Plots a statistical diagram comparing error values with approximation rank for different sketch dimensions.\n",
    "    Uses a logarithmic scale for error values.\n",
    "    \n",
    "    Parameters:\n",
    "        csv_file (str): Path to the .csv file containing the data.\n",
    "        save_path (str): File path to save the resulting plot.\n",
    "        include_labels (bool): If True, includes axis labels and a legend. If False, no labels or legend will be displayed.\n",
    "    \"\"\"\n",
    "    # Load the CSV data\n",
    "    data = pd.read_csv(csv_file)\n",
    "    \n",
    "    # Initialize the Seaborn style\n",
    "    sns.set(style=\"whitegrid\")\n",
    "    \n",
    "    # Create the line plot\n",
    "    plt.figure(figsize=(10, 6))\n",
    "    sns.lineplot(\n",
    "        data=data,\n",
    "        x=\"Approximation Rank\",\n",
    "        y=\"Error Value\",\n",
    "        hue=\"Sketch Dimension\",\n",
    "        style=\"Sketch Dimension\",\n",
    "        markers=True,\n",
    "        dashes=False,\n",
    "        palette=\"deep\"\n",
    "    )\n",
    "    \n",
    "    # Use log scale for the y-axis (Error Value)\n",
    "    plt.yscale('log')\n",
    "    \n",
    "    # Set axis labels and title if needed\n",
    "    if include_labels:\n",
    "        plt.title(\"Error (Log Scale) vs Approximation Rank for Different Sketch Dimensions\", fontsize=14)\n",
    "        plt.xlabel(\"Approximation Rank\", fontsize=12)\n",
    "        plt.ylabel(\"Error Value (Log Scale)\", fontsize=12)\n",
    "        plt.legend(title=\"Sketch Dimension\", fontsize=10)\n",
    "    else:\n",
    "        plt.axis(\"off\")\n",
    "    \n",
    "    # Save the plot\n",
    "    plt.tight_layout()\n",
    "    plt.savefig(save_path, dpi=300)\n",
    "    plt.close()\n",
    "    print(f\"Plot saved at {save_path}\")\n",
    "\n",
    "# Example usage:\n",
    "# plot_statistical_diagram_with_logscale(\"Section_2_test_3_Gaussian_for_loadMatrixA_1.csv\", \"error_vs_rank_logscale.png\", include_labels=True)\n"
   ]
  },
  {
   "cell_type": "code",
   "execution_count": 31,
   "metadata": {},
   "outputs": [
    {
     "name": "stdout",
     "output_type": "stream",
     "text": [
      "Plot saved at error_vs_rank_A_1_Gaussian.png\n",
      "Plot saved at error_vs_rank_A_2_Gaussian.png\n",
      "Plot saved at error_vs_rank_A_3_Gaussian.png\n",
      "Plot saved at error_vs_rank_A_32_Gaussian.png\n",
      "Plot saved at error_vs_rank_A_1_fjlt.png\n",
      "Plot saved at error_vs_rank_A_2_fjlt.png\n",
      "Plot saved at error_vs_rank_A_3_fjlt.png\n",
      "Plot saved at error_vs_rank_A_32_fjlt.png\n"
     ]
    }
   ],
   "source": [
    "plot_statistical_diagram_with_logscale(\"../Dataset/Section_2_test_3_Gaussian_for_loadMatrixA_1.csv\", \"error_vs_rank_A_1_Gaussian.png\", include_labels=True)\n",
    "plot_statistical_diagram_with_logscale(\"../Dataset/Section_2_test_3_Gaussian_for_loadMatrixA_2.csv\", \"error_vs_rank_A_2_Gaussian.png\", include_labels=True)\n",
    "plot_statistical_diagram_with_logscale(\"../Dataset/Section_2_test_3_Gaussian_for_loadMatrixA_3.csv\", \"error_vs_rank_A_3_Gaussian.png\", include_labels=True)\n",
    "plot_statistical_diagram_with_logscale(\"../Dataset/Section_2_test_3_Gaussian_for_loadMatrixA_32.csv\", \"error_vs_rank_A_32_Gaussian.png\", include_labels=True)\n",
    "plot_statistical_diagram_with_logscale(\"../Dataset/Section_2_test_4_fjlt_for_loadMatrixA_1.csv\", \"error_vs_rank_A_1_fjlt.png\", include_labels=True)\n",
    "plot_statistical_diagram_with_logscale(\"../Dataset/Section_2_test_4_fjlt_for_loadMatrixA_2.csv\", \"error_vs_rank_A_2_fjlt.png\", include_labels=True)\n",
    "plot_statistical_diagram_with_logscale(\"../Dataset/Section_2_test_4_fjlt_for_loadMatrixA_3.csv\", \"error_vs_rank_A_3_fjlt.png\", include_labels=True)\n",
    "plot_statistical_diagram_with_logscale(\"../Dataset/Section_2_test_4_fjlt_for_loadMatrixA_32.csv\", \"error_vs_rank_A_32_fjlt.png\", include_labels=True)\n"
   ]
  }
 ],
 "metadata": {
  "kernelspec": {
   "display_name": "myenv",
   "language": "python",
   "name": "python3"
  },
  "language_info": {
   "codemirror_mode": {
    "name": "ipython",
    "version": 3
   },
   "file_extension": ".py",
   "mimetype": "text/x-python",
   "name": "python",
   "nbconvert_exporter": "python",
   "pygments_lexer": "ipython3",
   "version": "3.10.14"
  }
 },
 "nbformat": 4,
 "nbformat_minor": 2
}
