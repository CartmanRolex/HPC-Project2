{
 "cells": [
  {
   "cell_type": "code",
   "execution_count": 16,
   "metadata": {},
   "outputs": [],
   "source": [
    "from dataset1 import *\n",
    "import numpy as np\n",
    "from scipy.linalg import solve_triangular\n",
    "from numpy.linalg import eigh\n",
    "import torch\n",
    "from hadamard_transform import hadamard_transform\n",
    "import time\n",
    "import pandas as pd\n",
    "import seaborn as sns\n",
    "#test"
   ]
  },
  {
   "cell_type": "markdown",
   "metadata": {},
   "source": [
    "## Define functions"
   ]
  },
  {
   "cell_type": "code",
   "execution_count": 29,
   "metadata": {},
   "outputs": [],
   "source": [
    "\n",
    "def getError(A,B):\n",
    "    return np.linalg.norm(A-B,ord='nuc')/np.linalg.norm(A,ord='nuc')\n",
    "\n",
    "def fjlt(A, D, indices, direction):\n",
    "    \"\"\"\n",
    "    Applies the Fast Johnson-Lindenstrauss Transform (FJLT) to a square matrix.\n",
    "\n",
    "    Parameters:\n",
    "    - A: Input square matrix (NumPy array of size n x m).\n",
    "    - D: Diagonal vector of +1 and -1 (NumPy array of size n).\n",
    "    - indices: Indices of the selected rows or columns for subsampling (NumPy array of size l).\n",
    "    - direction: 'left' to apply FJLT from the left (on rows) or 'right' for the transpose case (on columns).\n",
    "\n",
    "    Returns:\n",
    "    - A_proj: Transformed matrix after applying FJLT and subsampling.\n",
    "    \"\"\"\n",
    "    n, m = A.shape\n",
    "    l = indices.shape[0]  # Sketch size\n",
    "    if direction == 'left':  # FJLT applied to the rows of A\n",
    "        assert len(D) == n, \"The length of D must match the number of rows in A.\"\n",
    "        assert (n & (n - 1) == 0), \"The number of rows in A must be a power of 2.\"\n",
    "        # Multiply each row of A by the corresponding element in D\n",
    "        OmegaA = A * D[:, np.newaxis]\n",
    "        # Apply the Fast Hadamard Transform to the rows\n",
    "        OmegaA = hadamard_transform(torch.tensor(OmegaA.T)).numpy().T\n",
    "        # Subsample the rows and scale\n",
    "        OmegaA = OmegaA[indices, :] * np.sqrt(n / l)\n",
    "        return np.ascontiguousarray(OmegaA)\n",
    "    elif direction == 'right':  # FJLT applied to the columns of A\n",
    "        # Multiply each column of A by the corresponding element in D\n",
    "        AOmega = A * D[np.newaxis, :]\n",
    "        # Apply the Fast Hadamard Transform to the columns\n",
    "        AOmega = hadamard_transform(torch.tensor(AOmega)).numpy()\n",
    "        # Subsample the columns and scale\n",
    "        AOmega = AOmega[:, indices] * np.sqrt(n / l)\n",
    "        return np.ascontiguousarray(AOmega)\n",
    "\n",
    "def getLowRank(A, rank, sketch_dim, sketch_method='gaussian', good_conditionned=True, print_times=False):\n",
    "    \"\"\"\n",
    "    Compute a low-rank approximation of the matrix A using sketching, \n",
    "    eigenvalue decomposition, and truncation. Optionally prints the time taken for each major operation.\n",
    "\n",
    "    Parameters:\n",
    "        A (numpy.ndarray): Original matrix (size m x n).\n",
    "        rank (int): Desired rank for the approximation.\n",
    "        sketch_dim (int): Dimension of the sketching subspace.\n",
    "        sketch_method (str): Method used for sketching. Options are:\n",
    "                             - 'gaussian': Uses a Gaussian random matrix for sketching.\n",
    "                             - 'fjlt': Uses the Fast Johnson-Lindenstrauss Transform.\n",
    "        good_conditionned (bool): If True, uses Cholesky decomposition for better conditioning. \n",
    "                                  Otherwise, uses eigenvalue decomposition.\n",
    "        print_times (bool): If True, prints the time taken for each major operation.\n",
    "\n",
    "    Returns:\n",
    "        A_nyst_k (numpy.ndarray): Low-rank approximation of A (size m x m).\n",
    "    \"\"\"\n",
    "    m = A.shape[0]\n",
    "    B = None\n",
    "    C = None\n",
    "\n",
    "    start_time = time.time()\n",
    "\n",
    "    # Apply sketching based on the selected method\n",
    "    if sketch_method == 'fjlt':  # Use Fast Johnson-Lindenstrauss Transform for sketching\n",
    "        D = np.random.choice([1, -1], size=m)\n",
    "        indices = np.random.choice(m, size=sketch_dim, replace=False)\n",
    "        sketch_start = time.time()\n",
    "        C = fjlt(A, D, indices, direction='right')\n",
    "        B = fjlt(C, D, indices, direction='left')\n",
    "        if print_times:\n",
    "            print(f\"FJLT sketching completed in {time.time() - sketch_start:.6f} seconds.\")\n",
    "\n",
    "    elif sketch_method == 'gaussian':  # Use Gaussian random matrix for sketching\n",
    "        Omega = np.random.normal(size=(m, sketch_dim))\n",
    "        sketch_start = time.time()\n",
    "        C = A @ Omega\n",
    "        B = Omega.T @ C\n",
    "        if print_times:\n",
    "            print(f\"Gaussian sketching completed in {time.time() - sketch_start:.6f} seconds.\")\n",
    "    else:\n",
    "        raise ValueError(\"Méthode de sketching non reconnue. Choisissez 'gaussian' ou 'fjlt'.\")\n",
    "\n",
    "    if good_conditionned:\n",
    "        # Use Cholesky decomposition\n",
    "        cholesky_start = time.time()\n",
    "        L = np.linalg.cholesky(B)\n",
    "        if print_times:\n",
    "            print(f\"Cholesky decomposition completed in {time.time() - cholesky_start:.6f} seconds.\")\n",
    "        \n",
    "        triangular_start = time.time()\n",
    "        Z = solve_triangular(L, C.T, lower=True).T\n",
    "        if print_times:\n",
    "            print(f\"Triangular solve completed in {time.time() - triangular_start:.6f} seconds.\")\n",
    "    else:\n",
    "        # Use eigenvalue decomposition\n",
    "        eigh_start = time.time()\n",
    "        eig_v, V = eigh(B)\n",
    "        if print_times:\n",
    "            print(f\"Eigenvalue decomposition completed in {time.time() - eigh_start:.6f} seconds.\")\n",
    "        \n",
    "        truncate_start = time.time()\n",
    "        truncate = eig_v > 0\n",
    "        eig_v = eig_v[truncate]\n",
    "        V = V[:, truncate]\n",
    "        Z = C @ (V * (1 / np.sqrt(eig_v)))\n",
    "        if print_times:\n",
    "            print(f\"Eigenvalue truncation and normalization completed in {time.time() - truncate_start:.6f} seconds.\")\n",
    "\n",
    "    qr_start = time.time()\n",
    "    Q, R = np.linalg.qr(Z)\n",
    "    if print_times:\n",
    "        print(f\"QR decomposition completed in {time.time() - qr_start:.6f} seconds.\")\n",
    "\n",
    "    svd_start = time.time()\n",
    "    U, Sigma, _ = np.linalg.svd(R)\n",
    "    if print_times:\n",
    "        print(f\"SVD completed in {time.time() - svd_start:.6f} seconds.\")\n",
    "\n",
    "    approx_start = time.time()\n",
    "    U_hat = Q @ U[:, :rank]\n",
    "    A_nyst_k = (U_hat * Sigma[:rank]**2) @ U_hat.T\n",
    "    if print_times:\n",
    "        print(f\"Low-rank approximation construction completed in {time.time() - approx_start:.6f} seconds.\")\n",
    "\n",
    "    total_time = time.time() - start_time\n",
    "    if print_times:\n",
    "        print(f\"Total computation time: {total_time:.6f} seconds.\")\n",
    "    error = getError(A,A_nyst_k)\n",
    "    print(f\"Error :{error}\".format(error))\n",
    "\n",
    "    return A_nyst_k, error, "
   ]
  },
  {
   "cell_type": "markdown",
   "metadata": {},
   "source": [
    "## Tests"
   ]
  },
  {
   "cell_type": "code",
   "execution_count": 30,
   "metadata": {},
   "outputs": [],
   "source": [
    "n = 2048\n",
    "A = getExpMatrix(n,R=10)"
   ]
  },
  {
   "cell_type": "code",
   "execution_count": 31,
   "metadata": {},
   "outputs": [
    {
     "name": "stdout",
     "output_type": "stream",
     "text": [
      "Gaussian sketching completed in 0.019124 seconds.\n",
      "Eigenvalue decomposition completed in 0.004326 seconds.\n",
      "Eigenvalue truncation and normalization completed in 0.001238 seconds.\n",
      "QR decomposition completed in 0.027064 seconds.\n",
      "SVD completed in 0.005546 seconds.\n",
      "Low-rank approximation construction completed in 0.010428 seconds.\n",
      "Total computation time: 0.080194 seconds.\n",
      "Error :1.4511042848172726e-14\n"
     ]
    },
    {
     "data": {
      "text/plain": [
       "(array([[ 1.00000000e+00, -1.52655666e-15,  3.46944695e-16, ...,\n",
       "          0.00000000e+00,  0.00000000e+00,  0.00000000e+00],\n",
       "        [-1.47104551e-15,  1.00000000e+00, -2.08166817e-16, ...,\n",
       "          0.00000000e+00,  0.00000000e+00,  0.00000000e+00],\n",
       "        [ 3.46944695e-16, -2.63677968e-16,  1.00000000e+00, ...,\n",
       "          0.00000000e+00,  0.00000000e+00,  0.00000000e+00],\n",
       "        ...,\n",
       "        [ 0.00000000e+00,  0.00000000e+00,  0.00000000e+00, ...,\n",
       "          0.00000000e+00,  0.00000000e+00,  0.00000000e+00],\n",
       "        [ 0.00000000e+00,  0.00000000e+00,  0.00000000e+00, ...,\n",
       "          0.00000000e+00,  0.00000000e+00,  0.00000000e+00],\n",
       "        [ 0.00000000e+00,  0.00000000e+00,  0.00000000e+00, ...,\n",
       "          0.00000000e+00,  0.00000000e+00,  0.00000000e+00]]),\n",
       " 1.4511042848172726e-14)"
      ]
     },
     "execution_count": 31,
     "metadata": {},
     "output_type": "execute_result"
    }
   ],
   "source": [
    "getLowRank(A,rank=128,sketch_dim=128,sketch_method='gaussian',good_conditionned=False,print_times=True)"
   ]
  },
  {
   "cell_type": "code",
   "execution_count": 32,
   "metadata": {},
   "outputs": [
    {
     "name": "stdout",
     "output_type": "stream",
     "text": [
      "FJLT sketching completed in 0.094744 seconds.\n",
      "Eigenvalue decomposition completed in 0.013632 seconds.\n",
      "Eigenvalue truncation and normalization completed in 0.002691 seconds.\n",
      "QR decomposition completed in 0.046988 seconds.\n",
      "SVD completed in 0.007648 seconds.\n",
      "Low-rank approximation construction completed in 0.011405 seconds.\n",
      "Total computation time: 0.177809 seconds.\n",
      "Error :3.924499079481557e-06\n"
     ]
    },
    {
     "data": {
      "text/plain": [
       "(array([[ 9.99998616e-01,  1.38398485e-06,  1.38398490e-06, ...,\n",
       "          0.00000000e+00,  0.00000000e+00,  0.00000000e+00],\n",
       "        [ 1.38398485e-06,  9.99998616e-01, -1.38398488e-06, ...,\n",
       "          0.00000000e+00,  0.00000000e+00,  0.00000000e+00],\n",
       "        [ 1.38398490e-06, -1.38398488e-06,  9.99998616e-01, ...,\n",
       "          0.00000000e+00,  0.00000000e+00,  0.00000000e+00],\n",
       "        ...,\n",
       "        [ 0.00000000e+00,  0.00000000e+00,  0.00000000e+00, ...,\n",
       "          0.00000000e+00,  0.00000000e+00,  0.00000000e+00],\n",
       "        [ 0.00000000e+00,  0.00000000e+00,  0.00000000e+00, ...,\n",
       "          0.00000000e+00,  0.00000000e+00,  0.00000000e+00],\n",
       "        [ 0.00000000e+00,  0.00000000e+00,  0.00000000e+00, ...,\n",
       "          0.00000000e+00,  0.00000000e+00,  0.00000000e+00]]),\n",
       " 3.924499079481557e-06)"
      ]
     },
     "execution_count": 32,
     "metadata": {},
     "output_type": "execute_result"
    }
   ],
   "source": [
    "getLowRank(A,rank=128,sketch_dim=128,sketch_method='fjlt',good_conditionned=False,print_times=True)"
   ]
  },
  {
   "cell_type": "markdown",
   "metadata": {},
   "source": [
    "## Section 2\n",
    "\n",
    "We'll compute the error with respect to three matrices. \n",
    "1. polynomial decay (dimension 1000 * 1000) locates: \n",
    "2. exp decay locates:\n",
    "3. ../Dataset/A_3_dataset_2_mnist.npy \n",
    "    denotes the matrix obtained from MNIST, with c=100\n",
    "4. "
   ]
  },
  {
   "cell_type": "code",
   "execution_count": 23,
   "metadata": {},
   "outputs": [
    {
     "name": "stdout",
     "output_type": "stream",
     "text": [
      "matrix A_3\n",
      "(1000, 1000)\n",
      "[[1.         0.99127504 0.98824289 0.99001237 0.98907651]\n",
      " [0.99127504 1.         0.98715919 0.98829865 0.98930957]\n",
      " [0.98824289 0.98715919 1.         0.9898814  0.98994457]\n",
      " [0.99001237 0.98829865 0.9898814  1.         0.99126262]\n",
      " [0.98907651 0.98930957 0.98994457 0.99126262 1.        ]\n",
      " [0.98979753 0.98903161 0.98938555 0.99024257 0.99195122]\n",
      " [0.99100754 0.98756737 0.98972827 0.991512   0.9925866 ]\n",
      " [0.99278471 0.98967594 0.98934556 0.98962114 0.98935745]\n",
      " [0.99136177 0.98870132 0.99122707 0.99290202 0.9940263 ]\n",
      " [0.98989935 0.98824599 0.99277739 0.99119833 0.99174104]]\n",
      "matrix A_1\n",
      "(1000, 1000)\n",
      "[[1. 0. 0. 0. 0.]\n",
      " [0. 1. 0. 0. 0.]\n",
      " [0. 0. 1. 0. 0.]\n",
      " [0. 0. 0. 1. 0.]\n",
      " [0. 0. 0. 0. 1.]\n",
      " [0. 0. 0. 0. 0.]\n",
      " [0. 0. 0. 0. 0.]\n",
      " [0. 0. 0. 0. 0.]\n",
      " [0. 0. 0. 0. 0.]\n",
      " [0. 0. 0. 0. 0.]]\n",
      "matrix A_2\n",
      "(1000, 1000)\n",
      "[[1. 0. 0. 0. 0.]\n",
      " [0. 1. 0. 0. 0.]\n",
      " [0. 0. 1. 0. 0.]\n",
      " [0. 0. 0. 1. 0.]\n",
      " [0. 0. 0. 0. 1.]\n",
      " [0. 0. 0. 0. 0.]\n",
      " [0. 0. 0. 0. 0.]\n",
      " [0. 0. 0. 0. 0.]\n",
      " [0. 0. 0. 0. 0.]\n",
      " [0. 0. 0. 0. 0.]]\n"
     ]
    }
   ],
   "source": [
    "# Loading matrices\n",
    "\n",
    "loadMatrix_A_3 = np.load(\"../Dataset/A_3_dataset_2_mnist.npy\")\n",
    "print(\"matrix A_3\")\n",
    "print(loadMatrix_A_3.shape)\n",
    "print(loadMatrix_A_3[:10,:5])\n",
    "\n",
    "loadMatrix_A_1 = np.load(\"../Dataset/A_1_polyDecayMatrix.npy\")\n",
    "loadMatrix_A_2 = np.load(\"../Dataset/A_2_expDecayMatrix.npy\")\n",
    "\n",
    "print(\"matrix A_1\")\n",
    "print(loadMatrix_A_1.shape)\n",
    "print(loadMatrix_A_1[:10,:5])\n",
    "\n",
    "print(\"matrix A_2\")\n",
    "print(loadMatrix_A_2.shape)\n",
    "print(loadMatrix_A_2[:10,:5])"
   ]
  },
  {
   "cell_type": "code",
   "execution_count": 28,
   "metadata": {},
   "outputs": [],
   "source": [
    "from tqdm import tqdm  # For progress tracking\n",
    "\n",
    "def collect_low_rank_errors(A, max_rank=128, sketch_dims=range(10, 101, 10), is_good_conditionned=False, sketch_method='gaussian', output_file='Section_2_test_1_for_loadMatrixA_1.xlsx'):\n",
    "    \"\"\"\n",
    "    Computes errors for various ranks and sketch dimensions using the `getLowRank` function.\n",
    "\n",
    "    Parameters:\n",
    "    - A (np.ndarray): Input matrix of size, for example 1000x1000.\n",
    "    - max_rank (int): Maximum rank to test (0 <= rank <= max_rank).\n",
    "    - sketch_dims (iterable): Values of sketch dimensions to test.\n",
    "    - sketch_method (str): Method for sketching ('gaussian' or other supported by `getLowRank`).\n",
    "    - output_file (str): Path to the file where results are saved (.csv or .xlsx).\n",
    "    \n",
    "    Saves:\n",
    "    - A table with columns: \"Approximation Rank\", \"Sketch Dimension\", \"Error Value\",\n",
    "      clearly labeled for reuse and analysis.\n",
    "    \"\"\"\n",
    "    # Ensure the matrix is square and 1000x1000\n",
    "    # assert A.shape == (1000, 1000), \"Matrix A must be of size 1000x1000.\"\n",
    "    \n",
    "    # Prepare a list to store results\n",
    "    results = []\n",
    "    \n",
    "    # Iterate through all rank and sketch_dim combinations\n",
    "    for rank in tqdm(range(max_rank + 1), desc=\"Ranks Progress\", unit=\"rank\"):\n",
    "        for sketch_dim in sketch_dims:\n",
    "            # Compute the error\n",
    "            error = getLowRank(A, rank, sketch_dim, sketch_method, good_conditionned = is_good_conditionned)\n",
    "            # Append results with clear column names\n",
    "            results.append({\n",
    "                'Approximation Rank': rank,\n",
    "                'Sketch Dimension': sketch_dim,\n",
    "                'Error Value': error,\n",
    "                'Sketch Method': sketch_method  # Added for better traceability\n",
    "            })\n",
    "    \n",
    "    # Convert to DataFrame for easy export\n",
    "    df = pd.DataFrame(results)\n",
    "    \n",
    "    # Save results to a human-readable format\n",
    "    if output_file.endswith('.csv'):\n",
    "        df.to_csv(output_file, index=False)\n",
    "    elif output_file.endswith('.xlsx'):\n",
    "        df.to_excel(output_file, index=False, engine='openpyxl')\n",
    "    else:\n",
    "        raise ValueError(\"Output file must be either .csv or .xlsx\")\n",
    "    \n",
    "    print(f\"Results successfully saved to {output_file}.\")\n"
   ]
  },
  {
   "cell_type": "code",
   "execution_count": 25,
   "metadata": {},
   "outputs": [
    {
     "name": "stderr",
     "output_type": "stream",
     "text": [
      "Ranks Progress:   0%|          | 0/129 [00:00<?, ?rank/s]"
     ]
    },
    {
     "name": "stdout",
     "output_type": "stream",
     "text": [
      "Error :1.0\n",
      "Error :1.0\n",
      "Error :1.0\n",
      "Error :1.0\n",
      "Error :1.0\n",
      "Error :1.0\n",
      "Error :1.0\n",
      "Error :1.0\n",
      "Error :1.0\n"
     ]
    },
    {
     "name": "stderr",
     "output_type": "stream",
     "text": [
      "Ranks Progress:   1%|          | 1/129 [00:05<12:02,  5.65s/rank]"
     ]
    },
    {
     "name": "stdout",
     "output_type": "stream",
     "text": [
      "Error :1.0\n",
      "Error :0.9482924928005755\n",
      "Error :0.9457201976509276\n",
      "Error :0.9437538416677704\n",
      "Error :0.9425313559274502\n",
      "Error :0.9415654469594548\n",
      "Error :0.9413661874204159\n",
      "Error :0.9413237319266492\n",
      "Error :0.9407889385174028\n",
      "Error :0.9407501496845445\n"
     ]
    },
    {
     "name": "stderr",
     "output_type": "stream",
     "text": [
      "Ranks Progress:   2%|▏         | 2/129 [00:11<12:26,  5.88s/rank]"
     ]
    },
    {
     "name": "stdout",
     "output_type": "stream",
     "text": [
      "Error :0.940747567608469\n",
      "Error :0.9000185099599731\n",
      "Error :0.8914132367880379\n",
      "Error :0.8888296537127424\n",
      "Error :0.8853092326829771\n",
      "Error :0.8838649729802387\n",
      "Error :0.8836483471735554\n",
      "Error :0.8820558880384127\n",
      "Error :0.8822410316145832\n",
      "Error :0.8815910433986858\n"
     ]
    },
    {
     "name": "stderr",
     "output_type": "stream",
     "text": [
      "Ranks Progress:   2%|▏         | 3/129 [00:18<12:58,  6.18s/rank]"
     ]
    },
    {
     "name": "stdout",
     "output_type": "stream",
     "text": [
      "Error :0.8812719296452977\n",
      "Error :0.849701164947869\n",
      "Error :0.8379359666409442\n",
      "Error :0.8334248653340183\n",
      "Error :0.8313232870076201\n",
      "Error :0.826507053468152\n",
      "Error :0.8249655158534179\n",
      "Error :0.8236542772753546\n",
      "Error :0.8229707083804705\n",
      "Error :0.8229803884092001\n"
     ]
    },
    {
     "name": "stderr",
     "output_type": "stream",
     "text": [
      "Ranks Progress:   3%|▎         | 4/129 [00:24<13:06,  6.29s/rank]"
     ]
    },
    {
     "name": "stdout",
     "output_type": "stream",
     "text": [
      "Error :0.821799267362474\n",
      "Error :0.8054177453737966\n",
      "Error :0.7807465675486714\n",
      "Error :0.7772465411321061\n",
      "Error :0.7768609991888852\n",
      "Error :0.7705697052704572\n",
      "Error :0.7678179712517698\n",
      "Error :0.766470977497621\n",
      "Error :0.7662946881328137\n",
      "Error :0.7635568517408639\n"
     ]
    },
    {
     "name": "stderr",
     "output_type": "stream",
     "text": [
      "Ranks Progress:   4%|▍         | 5/129 [00:31<13:02,  6.31s/rank]"
     ]
    },
    {
     "name": "stdout",
     "output_type": "stream",
     "text": [
      "Error :0.7629428836250178\n",
      "Error :0.7709225461217527\n",
      "Error :0.7491500221778729\n",
      "Error :0.7244668252054681\n",
      "Error :0.7190164190622677\n",
      "Error :0.7127896685728657\n",
      "Error :0.7107195174095658\n",
      "Error :0.7079749458466176\n",
      "Error :0.707048617340896\n",
      "Error :0.7061767458387739\n"
     ]
    },
    {
     "name": "stderr",
     "output_type": "stream",
     "text": [
      "Ranks Progress:   5%|▍         | 6/129 [00:37<12:56,  6.31s/rank]"
     ]
    },
    {
     "name": "stdout",
     "output_type": "stream",
     "text": [
      "Error :0.704092707779969\n",
      "Error :0.7428106446798443\n",
      "Error :0.6996880879930725\n",
      "Error :0.6787524735400455\n",
      "Error :0.6675597547232498\n",
      "Error :0.6616765229643106\n",
      "Error :0.6549395777679775\n",
      "Error :0.6513649102677072\n",
      "Error :0.6495675862472546\n",
      "Error :0.647997206187673\n"
     ]
    },
    {
     "name": "stderr",
     "output_type": "stream",
     "text": [
      "Ranks Progress:   5%|▌         | 7/129 [00:43<12:48,  6.30s/rank]"
     ]
    },
    {
     "name": "stdout",
     "output_type": "stream",
     "text": [
      "Error :0.6459212730503493\n",
      "Error :0.7254031783459535\n",
      "Error :0.6491317892990436\n",
      "Error :0.6282604579840634\n",
      "Error :0.610497805140912\n",
      "Error :0.6082768635750454\n",
      "Error :0.6004174631459945\n",
      "Error :0.5955957721921901\n",
      "Error :0.5917241821774774\n",
      "Error :0.5881841689589146\n"
     ]
    },
    {
     "name": "stderr",
     "output_type": "stream",
     "text": [
      "Ranks Progress:   6%|▌         | 8/129 [00:49<12:43,  6.31s/rank]"
     ]
    },
    {
     "name": "stdout",
     "output_type": "stream",
     "text": [
      "Error :0.5893586999540084\n",
      "Error :0.7301600619806893\n",
      "Error :0.6242955483493993\n",
      "Error :0.5739309548416384\n",
      "Error :0.5653474919776514\n",
      "Error :0.5525379919868776\n",
      "Error :0.5449504583253222\n",
      "Error :0.5378870682989175\n",
      "Error :0.5380684418359037\n",
      "Error :0.5330786990644711\n"
     ]
    },
    {
     "name": "stderr",
     "output_type": "stream",
     "text": [
      "Ranks Progress:   7%|▋         | 9/129 [00:55<12:26,  6.22s/rank]"
     ]
    },
    {
     "name": "stdout",
     "output_type": "stream",
     "text": [
      "Error :0.5305027527240214\n",
      "Error :0.6797382346810183\n",
      "Error :0.5771452327596575\n",
      "Error :0.5418441522999501\n",
      "Error :0.5147660935182466\n",
      "Error :0.4995919022325686\n",
      "Error :0.4913042429272825\n",
      "Error :0.48345721208474424\n",
      "Error :0.4816447434982344\n",
      "Error :0.47646408210098584\n"
     ]
    },
    {
     "name": "stderr",
     "output_type": "stream",
     "text": [
      "Ranks Progress:   8%|▊         | 10/129 [01:02<12:35,  6.35s/rank]"
     ]
    },
    {
     "name": "stdout",
     "output_type": "stream",
     "text": [
      "Error :0.47362017087345104\n",
      "Error :0.6688225370411875\n",
      "Error :0.5633415378740605\n",
      "Error :0.5203944528475013\n",
      "Error :0.46235142903206916\n",
      "Error :0.45610840753860843\n",
      "Error :0.43953215489846464\n",
      "Error :0.4306160788049229\n",
      "Error :0.4257690235558425\n",
      "Error :0.4170384192138286\n"
     ]
    },
    {
     "name": "stderr",
     "output_type": "stream",
     "text": [
      "Ranks Progress:   9%|▊         | 11/129 [01:09<12:34,  6.39s/rank]"
     ]
    },
    {
     "name": "stdout",
     "output_type": "stream",
     "text": [
      "Error :0.4143961441495682\n",
      "Error :0.7112251775551721\n",
      "Error :0.5609004652940685\n",
      "Error :0.4775036975172316\n",
      "Error :0.43779627604289817\n",
      "Error :0.42287914731375886\n",
      "Error :0.41098649655561675\n",
      "Error :0.40473289425541714\n",
      "Error :0.39901414348273423\n",
      "Error :0.3903699320836682\n"
     ]
    },
    {
     "name": "stderr",
     "output_type": "stream",
     "text": [
      "Ranks Progress:   9%|▉         | 12/129 [01:15<12:26,  6.38s/rank]"
     ]
    },
    {
     "name": "stdout",
     "output_type": "stream",
     "text": [
      "Error :0.3868460742039404\n",
      "Error :0.7034469124804721\n",
      "Error :0.5454541964971781\n",
      "Error :0.4661289383738139\n",
      "Error :0.4407866898379854\n",
      "Error :0.4163652293204743\n",
      "Error :0.3908377995451396\n",
      "Error :0.384956514646443\n",
      "Error :0.3774749334844809\n",
      "Error :0.37311062733111544\n"
     ]
    },
    {
     "name": "stderr",
     "output_type": "stream",
     "text": [
      "Ranks Progress:  10%|█         | 13/129 [01:21<12:11,  6.31s/rank]"
     ]
    },
    {
     "name": "stdout",
     "output_type": "stream",
     "text": [
      "Error :0.37128493909992366\n",
      "Error :0.6796888250207831\n",
      "Error :0.5219514288816293\n",
      "Error :0.45574249291588725\n",
      "Error :0.42722638067729896\n",
      "Error :0.397698253137712\n",
      "Error :0.3887871758964743\n",
      "Error :0.38016730562294726\n",
      "Error :0.3650307688231141\n",
      "Error :0.36335835977621467\n"
     ]
    },
    {
     "name": "stderr",
     "output_type": "stream",
     "text": [
      "Ranks Progress:  11%|█         | 14/129 [01:28<12:16,  6.41s/rank]"
     ]
    },
    {
     "name": "stdout",
     "output_type": "stream",
     "text": [
      "Error :0.3573915114899796\n",
      "Error :0.7038534646057776\n",
      "Error :0.5432810627272328\n",
      "Error :0.46159970371001524\n",
      "Error :0.4218339247522293\n",
      "Error :0.385405691402828\n",
      "Error :0.37992808385743443\n",
      "Error :0.3690878625473967\n",
      "Error :0.36100870624046993\n",
      "Error :0.3503451517880338\n"
     ]
    },
    {
     "name": "stderr",
     "output_type": "stream",
     "text": [
      "Ranks Progress:  12%|█▏        | 15/129 [01:34<12:00,  6.32s/rank]"
     ]
    },
    {
     "name": "stdout",
     "output_type": "stream",
     "text": [
      "Error :0.34586765367382116\n",
      "Error :0.6999801649326496\n",
      "Error :0.5392416857457689\n",
      "Error :0.4635503127467832\n",
      "Error :0.4058807676614427\n",
      "Error :0.3864428397342357\n",
      "Error :0.37015527251104124\n",
      "Error :0.3581462388253183\n",
      "Error :0.3504302907579749\n",
      "Error :0.3435887662558841\n"
     ]
    },
    {
     "name": "stderr",
     "output_type": "stream",
     "text": [
      "Ranks Progress:  12%|█▏        | 16/129 [01:41<12:12,  6.48s/rank]"
     ]
    },
    {
     "name": "stdout",
     "output_type": "stream",
     "text": [
      "Error :0.3420440727441254\n",
      "Error :0.6978408996037094\n",
      "Error :0.5570747839488365\n",
      "Error :0.4292022633069794\n",
      "Error :0.40487459173441087\n",
      "Error :0.3789739761889653\n",
      "Error :0.3660998660102845\n",
      "Error :0.35298342870840943\n",
      "Error :0.34911800365235224\n",
      "Error :0.3355182698680091\n"
     ]
    },
    {
     "name": "stderr",
     "output_type": "stream",
     "text": [
      "Ranks Progress:  13%|█▎        | 17/129 [01:47<11:55,  6.39s/rank]"
     ]
    },
    {
     "name": "stdout",
     "output_type": "stream",
     "text": [
      "Error :0.3308471756122297\n",
      "Error :0.7148530918993506\n",
      "Error :0.5023960386148291\n",
      "Error :0.4432118317972395\n",
      "Error :0.4093433445919331\n",
      "Error :0.38557551081236874\n",
      "Error :0.3623700184928516\n",
      "Error :0.34939351831893195\n",
      "Error :0.33987194821907135\n",
      "Error :0.32650405543942096\n"
     ]
    },
    {
     "name": "stderr",
     "output_type": "stream",
     "text": [
      "Ranks Progress:  14%|█▍        | 18/129 [01:53<11:49,  6.39s/rank]"
     ]
    },
    {
     "name": "stdout",
     "output_type": "stream",
     "text": [
      "Error :0.32540411970990984\n",
      "Error :0.6945011018029345\n",
      "Error :0.5360717388153341\n",
      "Error :0.4356023039094818\n",
      "Error :0.39834744787366994\n",
      "Error :0.3875080236543909\n",
      "Error :0.3578303412752143\n",
      "Error :0.33936040783555543\n",
      "Error :0.32882166841585786\n",
      "Error :0.33080924128958417\n"
     ]
    },
    {
     "name": "stderr",
     "output_type": "stream",
     "text": [
      "Ranks Progress:  15%|█▍        | 19/129 [02:00<11:46,  6.42s/rank]"
     ]
    },
    {
     "name": "stdout",
     "output_type": "stream",
     "text": [
      "Error :0.32208033065086267\n",
      "Error :0.6906380755721259\n",
      "Error :0.512892219194574\n",
      "Error :0.46156756056731496\n",
      "Error :0.3979450008658368\n",
      "Error :0.37767667227505314\n",
      "Error :0.35164495518913513\n",
      "Error :0.33367133574987673\n",
      "Error :0.3256340287269839\n",
      "Error :0.3193723154160644\n"
     ]
    },
    {
     "name": "stderr",
     "output_type": "stream",
     "text": [
      "Ranks Progress:  16%|█▌        | 20/129 [02:06<11:39,  6.41s/rank]"
     ]
    },
    {
     "name": "stdout",
     "output_type": "stream",
     "text": [
      "Error :0.31588503909365107\n",
      "Error :0.6941218019529097\n",
      "Error :0.4952811587133367\n",
      "Error :0.4465960407197368\n",
      "Error :0.3974720514916263\n",
      "Error :0.3691287538520199\n",
      "Error :0.34405070692107037\n",
      "Error :0.3387174331468657\n",
      "Error :0.3273179075575684\n",
      "Error :0.31842539492007604\n"
     ]
    },
    {
     "name": "stderr",
     "output_type": "stream",
     "text": [
      "Ranks Progress:  16%|█▋        | 21/129 [02:13<11:33,  6.43s/rank]"
     ]
    },
    {
     "name": "stdout",
     "output_type": "stream",
     "text": [
      "Error :0.3169300101835261\n",
      "Error :0.6802955319832376\n",
      "Error :0.514771229267868\n",
      "Error :0.44923608661259934\n",
      "Error :0.39754856104784747\n",
      "Error :0.36370411046659523\n",
      "Error :0.34097869189473046\n",
      "Error :0.3323305282506462\n",
      "Error :0.3213170407208016\n",
      "Error :0.3155828507604227\n"
     ]
    },
    {
     "name": "stderr",
     "output_type": "stream",
     "text": [
      "Ranks Progress:  17%|█▋        | 22/129 [02:19<11:20,  6.36s/rank]"
     ]
    },
    {
     "name": "stdout",
     "output_type": "stream",
     "text": [
      "Error :0.3094010929400023\n",
      "Error :0.6899508620765299\n",
      "Error :0.5173431167380009\n",
      "Error :0.4411096085917749\n",
      "Error :0.3851657019285886\n",
      "Error :0.3610362594903189\n",
      "Error :0.34787451466530056\n",
      "Error :0.3308893886814676\n",
      "Error :0.31683101033606414\n",
      "Error :0.31157404908818925\n"
     ]
    },
    {
     "name": "stderr",
     "output_type": "stream",
     "text": [
      "Ranks Progress:  18%|█▊        | 23/129 [02:25<11:10,  6.32s/rank]"
     ]
    },
    {
     "name": "stdout",
     "output_type": "stream",
     "text": [
      "Error :0.30365862490553847\n",
      "Error :0.6870619793532825\n",
      "Error :0.5296980345546175\n",
      "Error :0.44370689164399774\n",
      "Error :0.39589657049576554\n",
      "Error :0.37370688083198994\n",
      "Error :0.3421375341107363\n",
      "Error :0.3217936513125651\n",
      "Error :0.3200399283970851\n",
      "Error :0.3103677729454643\n"
     ]
    },
    {
     "name": "stderr",
     "output_type": "stream",
     "text": [
      "Ranks Progress:  19%|█▊        | 24/129 [02:31<11:03,  6.32s/rank]"
     ]
    },
    {
     "name": "stdout",
     "output_type": "stream",
     "text": [
      "Error :0.3022608205114225\n",
      "Error :0.729550444784386\n",
      "Error :0.5392848661244515\n",
      "Error :0.44340809856016067\n",
      "Error :0.39979468606846125\n",
      "Error :0.3576022187271587\n",
      "Error :0.34034516863700737\n",
      "Error :0.32524880213107893\n",
      "Error :0.31190741490744034\n",
      "Error :0.3084175101721058\n"
     ]
    },
    {
     "name": "stderr",
     "output_type": "stream",
     "text": [
      "Ranks Progress:  19%|█▉        | 25/129 [02:38<10:56,  6.32s/rank]"
     ]
    },
    {
     "name": "stdout",
     "output_type": "stream",
     "text": [
      "Error :0.29992864375947403\n",
      "Error :0.6843207204843603\n",
      "Error :0.5340992658530385\n",
      "Error :0.421934756137536\n",
      "Error :0.3865578126126074\n",
      "Error :0.359746294825671\n",
      "Error :0.340054407441971\n",
      "Error :0.32154934014358005\n",
      "Error :0.31591053043041895\n",
      "Error :0.3075622029674041\n"
     ]
    },
    {
     "name": "stderr",
     "output_type": "stream",
     "text": [
      "Ranks Progress:  20%|██        | 26/129 [02:44<10:48,  6.29s/rank]"
     ]
    },
    {
     "name": "stdout",
     "output_type": "stream",
     "text": [
      "Error :0.2980573295697485\n",
      "Error :0.6768441116622559\n",
      "Error :0.5208739044934427\n",
      "Error :0.4352216571034251\n",
      "Error :0.3885422542362256\n",
      "Error :0.3639231400797144\n",
      "Error :0.3411885105786422\n",
      "Error :0.3221157285093208\n",
      "Error :0.30518967073843584\n",
      "Error :0.29980678174948866\n"
     ]
    },
    {
     "name": "stderr",
     "output_type": "stream",
     "text": [
      "Ranks Progress:  21%|██        | 27/129 [02:50<10:35,  6.23s/rank]"
     ]
    },
    {
     "name": "stdout",
     "output_type": "stream",
     "text": [
      "Error :0.2958058022355673\n",
      "Error :0.6742894589385126\n",
      "Error :0.5370019243155923\n",
      "Error :0.41118415224529975\n",
      "Error :0.37336052309560563\n",
      "Error :0.3548160365271388\n",
      "Error :0.326178134377863\n",
      "Error :0.3171823392328599\n",
      "Error :0.31170004128907036\n",
      "Error :0.3004908306380352\n"
     ]
    },
    {
     "name": "stderr",
     "output_type": "stream",
     "text": [
      "Ranks Progress:  22%|██▏       | 28/129 [02:57<10:42,  6.36s/rank]"
     ]
    },
    {
     "name": "stdout",
     "output_type": "stream",
     "text": [
      "Error :0.2941189516774137\n",
      "Error :0.6805772506016318\n",
      "Error :0.5064198478490365\n",
      "Error :0.43575020570974493\n",
      "Error :0.38457011021592674\n",
      "Error :0.3490846267507721\n",
      "Error :0.3314449565143137\n",
      "Error :0.3181337878269632\n",
      "Error :0.3053179117853757\n",
      "Error :0.2997703566967461\n"
     ]
    },
    {
     "name": "stderr",
     "output_type": "stream",
     "text": [
      "Ranks Progress:  22%|██▏       | 29/129 [03:03<10:33,  6.33s/rank]"
     ]
    },
    {
     "name": "stdout",
     "output_type": "stream",
     "text": [
      "Error :0.29184478313551615\n",
      "Error :0.6930867509461243\n",
      "Error :0.5246498489600079\n",
      "Error :0.4403807428525576\n",
      "Error :0.3838019329654286\n",
      "Error :0.35281309829565677\n",
      "Error :0.33974048217563774\n",
      "Error :0.3165115082968514\n",
      "Error :0.30211200689766954\n",
      "Error :0.2957156089133893\n"
     ]
    },
    {
     "name": "stderr",
     "output_type": "stream",
     "text": [
      "Ranks Progress:  23%|██▎       | 30/129 [03:09<10:31,  6.37s/rank]"
     ]
    },
    {
     "name": "stdout",
     "output_type": "stream",
     "text": [
      "Error :0.2896216648220028\n",
      "Error :0.6846492275582028\n",
      "Error :0.5178979804770188\n",
      "Error :0.43520202084694315\n",
      "Error :0.38748984683464605\n",
      "Error :0.34937669417887013\n",
      "Error :0.32645670603018395\n",
      "Error :0.3169929153322394\n",
      "Error :0.30423278824363603\n",
      "Error :0.2931428688832201\n"
     ]
    },
    {
     "name": "stderr",
     "output_type": "stream",
     "text": [
      "Ranks Progress:  24%|██▍       | 31/129 [03:16<10:25,  6.38s/rank]"
     ]
    },
    {
     "name": "stdout",
     "output_type": "stream",
     "text": [
      "Error :0.2864313180059055\n",
      "Error :0.7059190695894876\n",
      "Error :0.5260307175268719\n",
      "Error :0.42185792515610354\n",
      "Error :0.3785854750079772\n",
      "Error :0.3492855657460756\n",
      "Error :0.32826465399299726\n",
      "Error :0.30595777277290825\n",
      "Error :0.30453782167323856\n",
      "Error :0.2930166301990956\n"
     ]
    },
    {
     "name": "stderr",
     "output_type": "stream",
     "text": [
      "Ranks Progress:  25%|██▍       | 32/129 [03:22<10:13,  6.32s/rank]"
     ]
    },
    {
     "name": "stdout",
     "output_type": "stream",
     "text": [
      "Error :0.28484572365610866\n",
      "Error :0.6971467354120547\n",
      "Error :0.5187723318682326\n",
      "Error :0.4422136429708853\n",
      "Error :0.37732638836569393\n",
      "Error :0.34521110756415246\n",
      "Error :0.333091998086471\n",
      "Error :0.308616226578285\n",
      "Error :0.3012806101695925\n",
      "Error :0.28828760550194665\n"
     ]
    },
    {
     "name": "stderr",
     "output_type": "stream",
     "text": [
      "Ranks Progress:  26%|██▌       | 33/129 [03:29<10:23,  6.50s/rank]"
     ]
    },
    {
     "name": "stdout",
     "output_type": "stream",
     "text": [
      "Error :0.28665917929464435\n",
      "Error :0.6805856558149885\n",
      "Error :0.5418547792955888\n",
      "Error :0.41517602910656415\n",
      "Error :0.3685703787715314\n",
      "Error :0.3495629937938784\n",
      "Error :0.32791689560026027\n",
      "Error :0.312484465544955\n",
      "Error :0.29988101795068695\n",
      "Error :0.2900462097698965\n"
     ]
    },
    {
     "name": "stderr",
     "output_type": "stream",
     "text": [
      "Ranks Progress:  26%|██▋       | 34/129 [03:35<10:15,  6.48s/rank]"
     ]
    },
    {
     "name": "stdout",
     "output_type": "stream",
     "text": [
      "Error :0.28258172378353363\n",
      "Error :0.665091132730661\n",
      "Error :0.5298645432209496\n",
      "Error :0.43456357023409137\n",
      "Error :0.3846990494117652\n",
      "Error :0.3474828022359422\n",
      "Error :0.3287820971915124\n",
      "Error :0.31010540570218764\n",
      "Error :0.2975000925233413\n",
      "Error :0.2900700992856642\n"
     ]
    },
    {
     "name": "stderr",
     "output_type": "stream",
     "text": [
      "Ranks Progress:  27%|██▋       | 35/129 [03:42<10:06,  6.45s/rank]"
     ]
    },
    {
     "name": "stdout",
     "output_type": "stream",
     "text": [
      "Error :0.28206014964888376\n",
      "Error :0.695083573687129\n",
      "Error :0.4949988975215034\n",
      "Error :0.42505250388211346\n",
      "Error :0.3789125306397358\n",
      "Error :0.33719178769672203\n",
      "Error :0.32061046276876526\n",
      "Error :0.30946460537831466\n",
      "Error :0.2969482844043295\n",
      "Error :0.2865396249744025\n"
     ]
    },
    {
     "name": "stderr",
     "output_type": "stream",
     "text": [
      "Ranks Progress:  28%|██▊       | 36/129 [03:48<10:00,  6.46s/rank]"
     ]
    },
    {
     "name": "stdout",
     "output_type": "stream",
     "text": [
      "Error :0.27854953241046104\n",
      "Error :0.696211236208249\n",
      "Error :0.5054964185934651\n",
      "Error :0.4375013509751482\n",
      "Error :0.3742761188618333\n",
      "Error :0.34733076492644943\n",
      "Error :0.3254597450494137\n",
      "Error :0.3067025700666911\n",
      "Error :0.2957691375530343\n",
      "Error :0.28884432823197687\n"
     ]
    },
    {
     "name": "stderr",
     "output_type": "stream",
     "text": [
      "Ranks Progress:  29%|██▊       | 37/129 [03:55<09:52,  6.44s/rank]"
     ]
    },
    {
     "name": "stdout",
     "output_type": "stream",
     "text": [
      "Error :0.2763619777182023\n",
      "Error :0.6995923615439068\n",
      "Error :0.5259814932212579\n",
      "Error :0.4262756938881024\n",
      "Error :0.3812380636865108\n",
      "Error :0.34566775283369156\n",
      "Error :0.3234515560691266\n",
      "Error :0.30328520556883\n",
      "Error :0.29654903328759596\n",
      "Error :0.28432967698450273\n"
     ]
    },
    {
     "name": "stderr",
     "output_type": "stream",
     "text": [
      "Ranks Progress:  29%|██▉       | 38/129 [04:01<09:40,  6.38s/rank]"
     ]
    },
    {
     "name": "stdout",
     "output_type": "stream",
     "text": [
      "Error :0.27847582966435036\n",
      "Error :0.7232122503808072\n",
      "Error :0.528330300866842\n",
      "Error :0.43393821346751915\n",
      "Error :0.38900529534933825\n",
      "Error :0.34487975475036325\n",
      "Error :0.3171165800144956\n",
      "Error :0.3040108524705662\n",
      "Error :0.29568960126721555\n",
      "Error :0.28329569196327736\n"
     ]
    },
    {
     "name": "stderr",
     "output_type": "stream",
     "text": [
      "Ranks Progress:  30%|███       | 39/129 [04:07<09:35,  6.39s/rank]"
     ]
    },
    {
     "name": "stdout",
     "output_type": "stream",
     "text": [
      "Error :0.27617085179969575\n",
      "Error :0.6943282450894818\n",
      "Error :0.5117058225158908\n",
      "Error :0.4423832933980927\n",
      "Error :0.3738322895420735\n",
      "Error :0.3457164312563204\n",
      "Error :0.319027628031074\n",
      "Error :0.3039818163150579\n",
      "Error :0.29352056520584385\n",
      "Error :0.2808861366425489\n"
     ]
    },
    {
     "name": "stderr",
     "output_type": "stream",
     "text": [
      "Ranks Progress:  31%|███       | 40/129 [04:14<09:32,  6.43s/rank]"
     ]
    },
    {
     "name": "stdout",
     "output_type": "stream",
     "text": [
      "Error :0.2747137629420812\n",
      "Error :0.6974215798120631\n",
      "Error :0.5305156448322385\n",
      "Error :0.4313594082763592\n",
      "Error :0.374544217883802\n",
      "Error :0.34572936083571865\n",
      "Error :0.31803460023589575\n",
      "Error :0.30033682888794766\n",
      "Error :0.2888827009508694\n",
      "Error :0.28254459374377927\n"
     ]
    },
    {
     "name": "stderr",
     "output_type": "stream",
     "text": [
      "Ranks Progress:  32%|███▏      | 41/129 [04:20<09:27,  6.45s/rank]"
     ]
    },
    {
     "name": "stdout",
     "output_type": "stream",
     "text": [
      "Error :0.27612426256151346\n",
      "Error :0.6936410034061418\n",
      "Error :0.5252935910738824\n",
      "Error :0.43856827517600544\n",
      "Error :0.36546378206313274\n",
      "Error :0.33631543978698214\n",
      "Error :0.31692111879896573\n",
      "Error :0.30369388863626245\n",
      "Error :0.29302951542211675\n",
      "Error :0.2813579359131478\n"
     ]
    },
    {
     "name": "stderr",
     "output_type": "stream",
     "text": [
      "Ranks Progress:  33%|███▎      | 42/129 [04:26<09:04,  6.26s/rank]"
     ]
    },
    {
     "name": "stdout",
     "output_type": "stream",
     "text": [
      "Error :0.271808149285318\n",
      "Error :0.6936661803250495\n",
      "Error :0.5271169146054293\n",
      "Error :0.4187301895972731\n",
      "Error :0.38539982968766984\n",
      "Error :0.33603290571304073\n",
      "Error :0.316245890857858\n",
      "Error :0.30695268734538733\n",
      "Error :0.2916301872241183\n",
      "Error :0.28052945694453096\n"
     ]
    },
    {
     "name": "stderr",
     "output_type": "stream",
     "text": [
      "Ranks Progress:  33%|███▎      | 43/129 [04:32<08:58,  6.26s/rank]"
     ]
    },
    {
     "name": "stdout",
     "output_type": "stream",
     "text": [
      "Error :0.27084437451133536\n",
      "Error :0.7079819481521927\n",
      "Error :0.5241792745212913\n",
      "Error :0.4123198552595431\n",
      "Error :0.39722246024004476\n",
      "Error :0.3440138462019515\n",
      "Error :0.3182765323995248\n",
      "Error :0.297876300494312\n",
      "Error :0.2902144794136748\n",
      "Error :0.2796791351236626\n"
     ]
    },
    {
     "name": "stderr",
     "output_type": "stream",
     "text": [
      "Ranks Progress:  34%|███▍      | 44/129 [04:39<09:05,  6.42s/rank]"
     ]
    },
    {
     "name": "stdout",
     "output_type": "stream",
     "text": [
      "Error :0.2704335216642227\n",
      "Error :0.7034544423910379\n",
      "Error :0.528508888520405\n",
      "Error :0.4394012572189883\n",
      "Error :0.37170498418707076\n",
      "Error :0.34221680167552293\n",
      "Error :0.3244543377094682\n",
      "Error :0.2981043816776055\n",
      "Error :0.28751203993846314\n",
      "Error :0.2771161599422879\n"
     ]
    },
    {
     "name": "stderr",
     "output_type": "stream",
     "text": [
      "Ranks Progress:  35%|███▍      | 45/129 [04:46<08:58,  6.42s/rank]"
     ]
    },
    {
     "name": "stdout",
     "output_type": "stream",
     "text": [
      "Error :0.2712990062100839\n",
      "Error :0.6788556730179096\n",
      "Error :0.5290595595806877\n",
      "Error :0.44049022641579605\n",
      "Error :0.3743882978432387\n",
      "Error :0.34784261408465483\n",
      "Error :0.3196796954786569\n",
      "Error :0.30309201006462705\n",
      "Error :0.288281280710041\n",
      "Error :0.2772749631651267\n"
     ]
    },
    {
     "name": "stderr",
     "output_type": "stream",
     "text": [
      "Ranks Progress:  36%|███▌      | 46/129 [04:52<08:54,  6.44s/rank]"
     ]
    },
    {
     "name": "stdout",
     "output_type": "stream",
     "text": [
      "Error :0.2695950516758921\n",
      "Error :0.7041223796458368\n",
      "Error :0.5283721168217589\n",
      "Error :0.43514549958060744\n",
      "Error :0.38623748697022636\n",
      "Error :0.33028667593058586\n",
      "Error :0.3178582076840883\n",
      "Error :0.29412014991994384\n",
      "Error :0.28759099726882376\n",
      "Error :0.2736560270604978\n"
     ]
    },
    {
     "name": "stderr",
     "output_type": "stream",
     "text": [
      "Ranks Progress:  36%|███▋      | 47/129 [04:59<08:50,  6.47s/rank]"
     ]
    },
    {
     "name": "stdout",
     "output_type": "stream",
     "text": [
      "Error :0.26988911144832756\n",
      "Error :0.6907614863591263\n",
      "Error :0.5240656307164416\n",
      "Error :0.42446723120228386\n",
      "Error :0.37357393865018224\n",
      "Error :0.34104927604049423\n",
      "Error :0.31491659817226725\n",
      "Error :0.2974926464496136\n",
      "Error :0.2843951595465369\n",
      "Error :0.27558791592292176\n"
     ]
    },
    {
     "name": "stderr",
     "output_type": "stream",
     "text": [
      "Ranks Progress:  37%|███▋      | 48/129 [05:05<08:36,  6.38s/rank]"
     ]
    },
    {
     "name": "stdout",
     "output_type": "stream",
     "text": [
      "Error :0.2658895105190571\n",
      "Error :0.6909611821313049\n",
      "Error :0.5310954565599563\n",
      "Error :0.443906353521393\n",
      "Error :0.3719664864269591\n",
      "Error :0.3362093377639191\n",
      "Error :0.31337463040417424\n",
      "Error :0.2954207066577744\n",
      "Error :0.28852046178793483\n",
      "Error :0.2765595867604868\n"
     ]
    },
    {
     "name": "stderr",
     "output_type": "stream",
     "text": [
      "Ranks Progress:  38%|███▊      | 49/129 [05:12<08:46,  6.58s/rank]"
     ]
    },
    {
     "name": "stdout",
     "output_type": "stream",
     "text": [
      "Error :0.2690092998022299\n",
      "Error :0.6781904316609024\n",
      "Error :0.5277724923199938\n",
      "Error :0.4523896793328814\n",
      "Error :0.37842847180936073\n",
      "Error :0.3427066608200615\n",
      "Error :0.31601365239256746\n",
      "Error :0.29656836317881347\n",
      "Error :0.2861009625383393\n",
      "Error :0.27247725462597555\n"
     ]
    },
    {
     "name": "stderr",
     "output_type": "stream",
     "text": [
      "Ranks Progress:  39%|███▉      | 50/129 [05:18<08:35,  6.52s/rank]"
     ]
    },
    {
     "name": "stdout",
     "output_type": "stream",
     "text": [
      "Error :0.2679906184285314\n",
      "Error :0.6853969846224068\n",
      "Error :0.5142257475260751\n",
      "Error :0.4250879315553444\n",
      "Error :0.3829974251394308\n",
      "Error :0.34065455413779583\n",
      "Error :0.3191509101294057\n",
      "Error :0.29522256444572087\n",
      "Error :0.2849982835864182\n",
      "Error :0.27256495144612397\n"
     ]
    },
    {
     "name": "stderr",
     "output_type": "stream",
     "text": [
      "Ranks Progress:  40%|███▉      | 51/129 [05:25<08:25,  6.49s/rank]"
     ]
    },
    {
     "name": "stdout",
     "output_type": "stream",
     "text": [
      "Error :0.26344469640117624\n",
      "Error :0.7498201747619212\n",
      "Error :0.5232580365265432\n",
      "Error :0.43930524828456224\n",
      "Error :0.38470348607149035\n",
      "Error :0.3318526857082881\n",
      "Error :0.31396717524396\n",
      "Error :0.2971094892503662\n",
      "Error :0.2866411031481808\n",
      "Error :0.2718241752998936\n"
     ]
    },
    {
     "name": "stderr",
     "output_type": "stream",
     "text": [
      "Ranks Progress:  40%|████      | 52/129 [05:32<08:36,  6.71s/rank]"
     ]
    },
    {
     "name": "stdout",
     "output_type": "stream",
     "text": [
      "Error :0.263076894665429\n",
      "Error :0.6883082412356499\n",
      "Error :0.5346327047825175\n",
      "Error :0.42729087150151934\n",
      "Error :0.37041766821775013\n",
      "Error :0.3398353979345737\n",
      "Error :0.3135294383661973\n",
      "Error :0.2974579512555748\n",
      "Error :0.2847171860098016\n",
      "Error :0.2720287314988358\n"
     ]
    },
    {
     "name": "stderr",
     "output_type": "stream",
     "text": [
      "Ranks Progress:  41%|████      | 53/129 [05:38<08:22,  6.62s/rank]"
     ]
    },
    {
     "name": "stdout",
     "output_type": "stream",
     "text": [
      "Error :0.265183891096632\n",
      "Error :0.6767329108754262\n",
      "Error :0.5173977620893722\n",
      "Error :0.4437847312767909\n",
      "Error :0.3819322966840326\n",
      "Error :0.34196971318926145\n",
      "Error :0.3179510256730411\n",
      "Error :0.2948870926832273\n",
      "Error :0.28561591983124446\n",
      "Error :0.27276070972465405\n"
     ]
    },
    {
     "name": "stderr",
     "output_type": "stream",
     "text": [
      "Ranks Progress:  42%|████▏     | 54/129 [05:45<08:13,  6.58s/rank]"
     ]
    },
    {
     "name": "stdout",
     "output_type": "stream",
     "text": [
      "Error :0.2652600751014036\n",
      "Error :0.7004885812407503\n",
      "Error :0.5108536077269795\n",
      "Error :0.4315317625500838\n",
      "Error :0.38370432613274796\n",
      "Error :0.33505519618408014\n",
      "Error :0.31747193779994937\n",
      "Error :0.297449713895822\n",
      "Error :0.2814084904533131\n",
      "Error :0.2705212616534399\n"
     ]
    },
    {
     "name": "stderr",
     "output_type": "stream",
     "text": [
      "Ranks Progress:  43%|████▎     | 55/129 [05:51<08:01,  6.51s/rank]"
     ]
    },
    {
     "name": "stdout",
     "output_type": "stream",
     "text": [
      "Error :0.2645100277569878\n",
      "Error :0.6838942907233616\n",
      "Error :0.5388190982148735\n",
      "Error :0.43804618084437036\n",
      "Error :0.37329142364548373\n",
      "Error :0.3355450269958387\n",
      "Error :0.31150368924018607\n",
      "Error :0.29511183230307725\n",
      "Error :0.28200548797180136\n",
      "Error :0.27192347534928285\n"
     ]
    },
    {
     "name": "stderr",
     "output_type": "stream",
     "text": [
      "Ranks Progress:  43%|████▎     | 56/129 [05:57<07:53,  6.48s/rank]"
     ]
    },
    {
     "name": "stdout",
     "output_type": "stream",
     "text": [
      "Error :0.2613999770080305\n",
      "Error :0.6984821447536405\n",
      "Error :0.5215729045960171\n",
      "Error :0.4295304375742781\n",
      "Error :0.37691732797250577\n",
      "Error :0.34261215482642465\n",
      "Error :0.3145005760408913\n",
      "Error :0.2915286361907346\n",
      "Error :0.2787966278433613\n",
      "Error :0.2704739625366229\n"
     ]
    },
    {
     "name": "stderr",
     "output_type": "stream",
     "text": [
      "Ranks Progress:  44%|████▍     | 57/129 [06:04<07:46,  6.48s/rank]"
     ]
    },
    {
     "name": "stdout",
     "output_type": "stream",
     "text": [
      "Error :0.26158207592125604\n",
      "Error :0.7116703784533706\n",
      "Error :0.5061043075094387\n",
      "Error :0.4214901216772049\n",
      "Error :0.3622763706440038\n",
      "Error :0.33672431548570947\n",
      "Error :0.31886908405197767\n",
      "Error :0.2894006356805698\n",
      "Error :0.28358313490548676\n",
      "Error :0.2689849877344677\n"
     ]
    },
    {
     "name": "stderr",
     "output_type": "stream",
     "text": [
      "Ranks Progress:  45%|████▍     | 58/129 [06:10<07:37,  6.45s/rank]"
     ]
    },
    {
     "name": "stdout",
     "output_type": "stream",
     "text": [
      "Error :0.2660073998119609\n",
      "Error :0.672589231734272\n",
      "Error :0.528914593907517\n",
      "Error :0.4484536558957933\n",
      "Error :0.3844928333088113\n",
      "Error :0.3394031836458725\n",
      "Error :0.30906164862116325\n",
      "Error :0.2974115370758462\n",
      "Error :0.2799857822252618\n",
      "Error :0.2742959848990034\n"
     ]
    },
    {
     "name": "stderr",
     "output_type": "stream",
     "text": [
      "Ranks Progress:  46%|████▌     | 59/129 [06:17<07:33,  6.48s/rank]"
     ]
    },
    {
     "name": "stdout",
     "output_type": "stream",
     "text": [
      "Error :0.2614324040564188\n",
      "Error :0.6944100849683054\n",
      "Error :0.5347742844820136\n",
      "Error :0.4252133386995723\n",
      "Error :0.3763156637051067\n",
      "Error :0.3397535370170397\n",
      "Error :0.3119594510205768\n",
      "Error :0.29110427728073063\n",
      "Error :0.2802139603991513\n",
      "Error :0.2685453053130919\n"
     ]
    },
    {
     "name": "stderr",
     "output_type": "stream",
     "text": [
      "Ranks Progress:  47%|████▋     | 60/129 [06:23<07:25,  6.46s/rank]"
     ]
    },
    {
     "name": "stdout",
     "output_type": "stream",
     "text": [
      "Error :0.26092900103367783\n",
      "Error :0.6914156583773381\n",
      "Error :0.5137795757559193\n",
      "Error :0.4349284733901351\n",
      "Error :0.37498266994274104\n",
      "Error :0.3342272265317575\n",
      "Error :0.31128628948278525\n",
      "Error :0.29033951684447906\n",
      "Error :0.27660714006021775\n",
      "Error :0.2681404318523149\n"
     ]
    },
    {
     "name": "stderr",
     "output_type": "stream",
     "text": [
      "Ranks Progress:  47%|████▋     | 61/129 [06:30<07:15,  6.40s/rank]"
     ]
    },
    {
     "name": "stdout",
     "output_type": "stream",
     "text": [
      "Error :0.2595839597727165\n",
      "Error :0.6759169572709601\n",
      "Error :0.5323055356413773\n",
      "Error :0.4381915466810044\n",
      "Error :0.37406561509744135\n",
      "Error :0.33331403421632044\n",
      "Error :0.3116052145467724\n",
      "Error :0.29075914642715306\n",
      "Error :0.2824676037212165\n",
      "Error :0.26721924498923283\n"
     ]
    },
    {
     "name": "stderr",
     "output_type": "stream",
     "text": [
      "Ranks Progress:  48%|████▊     | 62/129 [06:36<07:07,  6.38s/rank]"
     ]
    },
    {
     "name": "stdout",
     "output_type": "stream",
     "text": [
      "Error :0.2624034248576341\n",
      "Error :0.6802557740511525\n",
      "Error :0.5194359372559579\n",
      "Error :0.4382138140265187\n",
      "Error :0.3756805515810752\n",
      "Error :0.33169431147058526\n",
      "Error :0.31552777572098767\n",
      "Error :0.29535166148623093\n",
      "Error :0.27755784033527486\n",
      "Error :0.27140742358091496\n"
     ]
    },
    {
     "name": "stderr",
     "output_type": "stream",
     "text": [
      "Ranks Progress:  49%|████▉     | 63/129 [06:42<07:00,  6.37s/rank]"
     ]
    },
    {
     "name": "stdout",
     "output_type": "stream",
     "text": [
      "Error :0.2593063749421103\n",
      "Error :0.6877379494509623\n",
      "Error :0.5176965495710124\n",
      "Error :0.45220270894327935\n",
      "Error :0.3658126931720909\n",
      "Error :0.33616096466499673\n",
      "Error :0.30997337671082487\n",
      "Error :0.29564746377172424\n",
      "Error :0.27924563593439367\n",
      "Error :0.2691892971806094\n"
     ]
    },
    {
     "name": "stderr",
     "output_type": "stream",
     "text": [
      "Ranks Progress:  50%|████▉     | 64/129 [06:49<06:56,  6.41s/rank]"
     ]
    },
    {
     "name": "stdout",
     "output_type": "stream",
     "text": [
      "Error :0.2609928437142795\n",
      "Error :0.7082497791218165\n",
      "Error :0.5396850744864035\n",
      "Error :0.43400911760699984\n",
      "Error :0.38368679730429583\n",
      "Error :0.3345642994143677\n",
      "Error :0.3081133058332249\n",
      "Error :0.2873009427430725\n",
      "Error :0.2821806341759499\n",
      "Error :0.2688483722105178\n"
     ]
    },
    {
     "name": "stderr",
     "output_type": "stream",
     "text": [
      "Ranks Progress:  50%|█████     | 65/129 [06:55<06:50,  6.41s/rank]"
     ]
    },
    {
     "name": "stdout",
     "output_type": "stream",
     "text": [
      "Error :0.25662389470002017\n",
      "Error :0.6807346826020252\n",
      "Error :0.5202777485022277\n",
      "Error :0.43527475968467827\n",
      "Error :0.37589427274518356\n",
      "Error :0.34022506318655205\n",
      "Error :0.3087177404859407\n",
      "Error :0.290967035106155\n",
      "Error :0.27541670023911247\n",
      "Error :0.26505925326210306\n"
     ]
    },
    {
     "name": "stderr",
     "output_type": "stream",
     "text": [
      "Ranks Progress:  51%|█████     | 66/129 [07:02<06:43,  6.40s/rank]"
     ]
    },
    {
     "name": "stdout",
     "output_type": "stream",
     "text": [
      "Error :0.2570895625969961\n",
      "Error :0.685594896342191\n",
      "Error :0.5173492186250755\n",
      "Error :0.434747769332342\n",
      "Error :0.37707679145275647\n",
      "Error :0.3324318576134215\n",
      "Error :0.3109663554027241\n",
      "Error :0.28842562130675314\n",
      "Error :0.27815453857235084\n",
      "Error :0.26231633212588634\n"
     ]
    },
    {
     "name": "stderr",
     "output_type": "stream",
     "text": [
      "Ranks Progress:  52%|█████▏    | 67/129 [07:08<06:36,  6.40s/rank]"
     ]
    },
    {
     "name": "stdout",
     "output_type": "stream",
     "text": [
      "Error :0.25576523261124673\n",
      "Error :0.6893346007916014\n",
      "Error :0.5174187505297316\n",
      "Error :0.4381982740946608\n",
      "Error :0.3705198325317279\n",
      "Error :0.34364879504459056\n",
      "Error :0.3154146503412462\n",
      "Error :0.2894991521209673\n",
      "Error :0.2776471200973273\n",
      "Error :0.2638777460170179\n"
     ]
    },
    {
     "name": "stderr",
     "output_type": "stream",
     "text": [
      "Ranks Progress:  53%|█████▎    | 68/129 [07:14<06:31,  6.41s/rank]"
     ]
    },
    {
     "name": "stdout",
     "output_type": "stream",
     "text": [
      "Error :0.25456417534625775\n",
      "Error :0.6902286668500134\n",
      "Error :0.5060350528007084\n",
      "Error :0.4479687288202732\n",
      "Error :0.37773315563427173\n",
      "Error :0.3396642369212533\n",
      "Error :0.32087462412362067\n",
      "Error :0.29416556295781565\n",
      "Error :0.2779997011818776\n",
      "Error :0.26777506708786636\n"
     ]
    },
    {
     "name": "stderr",
     "output_type": "stream",
     "text": [
      "Ranks Progress:  53%|█████▎    | 69/129 [07:21<06:25,  6.42s/rank]"
     ]
    },
    {
     "name": "stdout",
     "output_type": "stream",
     "text": [
      "Error :0.25623547397318597\n",
      "Error :0.6896126670612809\n",
      "Error :0.5183911372917179\n",
      "Error :0.43557154131816467\n",
      "Error :0.38844057545374794\n",
      "Error :0.33599756395407104\n",
      "Error :0.3143683284987448\n",
      "Error :0.29241208841122796\n",
      "Error :0.27890497062466285\n",
      "Error :0.2631247721777026\n"
     ]
    },
    {
     "name": "stderr",
     "output_type": "stream",
     "text": [
      "Ranks Progress:  54%|█████▍    | 70/129 [07:27<06:17,  6.40s/rank]"
     ]
    },
    {
     "name": "stdout",
     "output_type": "stream",
     "text": [
      "Error :0.26231615436663447\n",
      "Error :0.6860381440056547\n",
      "Error :0.5132399967177717\n",
      "Error :0.446605571177628\n",
      "Error :0.3646275326610614\n",
      "Error :0.33731458405178194\n",
      "Error :0.3060939818912392\n",
      "Error :0.28363775467522884\n",
      "Error :0.2769836043093551\n",
      "Error :0.2676550998573967\n"
     ]
    },
    {
     "name": "stderr",
     "output_type": "stream",
     "text": [
      "Ranks Progress:  55%|█████▌    | 71/129 [07:34<06:11,  6.41s/rank]"
     ]
    },
    {
     "name": "stdout",
     "output_type": "stream",
     "text": [
      "Error :0.2566060881803559\n",
      "Error :0.6965846132174809\n",
      "Error :0.51732161225235\n",
      "Error :0.42701407449048046\n",
      "Error :0.37618224884279\n",
      "Error :0.33184723979887276\n",
      "Error :0.30509781006966047\n",
      "Error :0.2939987274392112\n",
      "Error :0.27865178920656386\n",
      "Error :0.2643574449229252\n"
     ]
    },
    {
     "name": "stderr",
     "output_type": "stream",
     "text": [
      "Ranks Progress:  56%|█████▌    | 72/129 [07:40<06:06,  6.44s/rank]"
     ]
    },
    {
     "name": "stdout",
     "output_type": "stream",
     "text": [
      "Error :0.25377721566588235\n",
      "Error :0.6916137265474435\n",
      "Error :0.5212662411613231\n",
      "Error :0.43735168126102786\n",
      "Error :0.3688290751810664\n",
      "Error :0.3343314224031447\n",
      "Error :0.3125839203523556\n",
      "Error :0.29125103026353644\n",
      "Error :0.27123127264952507\n",
      "Error :0.2622101146335575\n"
     ]
    },
    {
     "name": "stderr",
     "output_type": "stream",
     "text": [
      "Ranks Progress:  57%|█████▋    | 73/129 [07:47<06:00,  6.44s/rank]"
     ]
    },
    {
     "name": "stdout",
     "output_type": "stream",
     "text": [
      "Error :0.25506946898813276\n",
      "Error :0.6948773285760159\n",
      "Error :0.5134318573843435\n",
      "Error :0.42481959784448037\n",
      "Error :0.38149336722137045\n",
      "Error :0.3479721119914851\n",
      "Error :0.3137087075103523\n",
      "Error :0.2893352350838414\n",
      "Error :0.2765167812273372\n",
      "Error :0.26346172615828484\n"
     ]
    },
    {
     "name": "stderr",
     "output_type": "stream",
     "text": [
      "Ranks Progress:  57%|█████▋    | 74/129 [07:53<05:54,  6.45s/rank]"
     ]
    },
    {
     "name": "stdout",
     "output_type": "stream",
     "text": [
      "Error :0.2568122088875643\n",
      "Error :0.6845389450180146\n",
      "Error :0.5303956418898333\n",
      "Error :0.42366483455988274\n",
      "Error :0.3745165962998502\n",
      "Error :0.3469573927710503\n",
      "Error :0.3198198997089938\n",
      "Error :0.2922344739858317\n",
      "Error :0.2751198478656966\n",
      "Error :0.2630146424690208\n"
     ]
    },
    {
     "name": "stderr",
     "output_type": "stream",
     "text": [
      "Ranks Progress:  58%|█████▊    | 75/129 [08:00<05:50,  6.49s/rank]"
     ]
    },
    {
     "name": "stdout",
     "output_type": "stream",
     "text": [
      "Error :0.2535159476177211\n",
      "Error :0.6591150213538179\n",
      "Error :0.5003136858935009\n",
      "Error :0.4367384882831563\n",
      "Error :0.3709237671210188\n",
      "Error :0.3387584895584986\n",
      "Error :0.31746635406006496\n",
      "Error :0.2923592108024218\n",
      "Error :0.2735921625770626\n",
      "Error :0.26133306766628916\n"
     ]
    },
    {
     "name": "stderr",
     "output_type": "stream",
     "text": [
      "Ranks Progress:  59%|█████▉    | 76/129 [08:06<05:46,  6.54s/rank]"
     ]
    },
    {
     "name": "stdout",
     "output_type": "stream",
     "text": [
      "Error :0.25228838620099964\n",
      "Error :0.6751423463666582\n",
      "Error :0.5318428337364813\n",
      "Error :0.4408428411623448\n",
      "Error :0.37458504444811697\n",
      "Error :0.3373247984161338\n",
      "Error :0.3116370861824859\n",
      "Error :0.29261223951005677\n",
      "Error :0.27465510253090125\n",
      "Error :0.2612234586899267\n"
     ]
    },
    {
     "name": "stderr",
     "output_type": "stream",
     "text": [
      "Ranks Progress:  60%|█████▉    | 77/129 [08:13<05:39,  6.53s/rank]"
     ]
    },
    {
     "name": "stdout",
     "output_type": "stream",
     "text": [
      "Error :0.25158948229276346\n",
      "Error :0.7055208318122673\n",
      "Error :0.5199644908871477\n",
      "Error :0.4200234333003965\n",
      "Error :0.3718928550500009\n",
      "Error :0.33888607072120674\n",
      "Error :0.30822747226693503\n",
      "Error :0.28738465611062236\n",
      "Error :0.2757837539867263\n",
      "Error :0.25936355274318756\n"
     ]
    },
    {
     "name": "stderr",
     "output_type": "stream",
     "text": [
      "Ranks Progress:  60%|██████    | 78/129 [08:19<05:31,  6.51s/rank]"
     ]
    },
    {
     "name": "stdout",
     "output_type": "stream",
     "text": [
      "Error :0.25181441824277695\n",
      "Error :0.7081718218145487\n",
      "Error :0.5186775276655042\n",
      "Error :0.42416629286671703\n",
      "Error :0.35719090096077344\n",
      "Error :0.3345561246138613\n",
      "Error :0.3206200903227073\n",
      "Error :0.28168730333612335\n",
      "Error :0.2772659339434379\n",
      "Error :0.26462949843659134\n"
     ]
    },
    {
     "name": "stderr",
     "output_type": "stream",
     "text": [
      "Ranks Progress:  61%|██████    | 79/129 [08:26<05:25,  6.50s/rank]"
     ]
    },
    {
     "name": "stdout",
     "output_type": "stream",
     "text": [
      "Error :0.25063326969972344\n",
      "Error :0.7040177009378599\n",
      "Error :0.5392590670260947\n",
      "Error :0.43076576435335556\n",
      "Error :0.37511036403922754\n",
      "Error :0.3402081181149699\n",
      "Error :0.312774891495522\n",
      "Error :0.28597028941874525\n",
      "Error :0.27044774666925503\n",
      "Error :0.2600059908748801\n"
     ]
    },
    {
     "name": "stderr",
     "output_type": "stream",
     "text": [
      "Ranks Progress:  62%|██████▏   | 80/129 [08:32<05:16,  6.45s/rank]"
     ]
    },
    {
     "name": "stdout",
     "output_type": "stream",
     "text": [
      "Error :0.25273735512144857\n",
      "Error :0.6951195162251301\n",
      "Error :0.5458972093643011\n",
      "Error :0.4229823683633764\n",
      "Error :0.3671739388486047\n",
      "Error :0.3484424318931732\n",
      "Error :0.31085573303990693\n",
      "Error :0.29381238462095655\n",
      "Error :0.27523155892501355\n",
      "Error :0.25960335355675457\n"
     ]
    },
    {
     "name": "stderr",
     "output_type": "stream",
     "text": [
      "Ranks Progress:  63%|██████▎   | 81/129 [08:38<05:07,  6.42s/rank]"
     ]
    },
    {
     "name": "stdout",
     "output_type": "stream",
     "text": [
      "Error :0.2525193614638146\n",
      "Error :0.7106692948164388\n",
      "Error :0.5595772171230833\n",
      "Error :0.42940590363838343\n",
      "Error :0.3706695721325031\n",
      "Error :0.33219012373221296\n",
      "Error :0.3067146027025134\n",
      "Error :0.29046781488671236\n",
      "Error :0.27716119340877593\n",
      "Error :0.26042064471549337\n"
     ]
    },
    {
     "name": "stderr",
     "output_type": "stream",
     "text": [
      "Ranks Progress:  64%|██████▎   | 82/129 [08:45<05:03,  6.45s/rank]"
     ]
    },
    {
     "name": "stdout",
     "output_type": "stream",
     "text": [
      "Error :0.2568854357098403\n",
      "Error :0.6594544247929524\n",
      "Error :0.5282766638220228\n",
      "Error :0.4353586783397547\n",
      "Error :0.37953121578213883\n",
      "Error :0.34540300049675426\n",
      "Error :0.3175363649943539\n",
      "Error :0.29261642931651466\n",
      "Error :0.271615341121671\n",
      "Error :0.2634490359693032\n"
     ]
    },
    {
     "name": "stderr",
     "output_type": "stream",
     "text": [
      "Ranks Progress:  64%|██████▍   | 83/129 [08:51<04:56,  6.44s/rank]"
     ]
    },
    {
     "name": "stdout",
     "output_type": "stream",
     "text": [
      "Error :0.2531631806579159\n",
      "Error :0.683795530222832\n",
      "Error :0.5432522621078918\n",
      "Error :0.44165077873021774\n",
      "Error :0.3732771963757461\n",
      "Error :0.3390388861965329\n",
      "Error :0.3087070650343228\n",
      "Error :0.29333289258112777\n",
      "Error :0.2765124775264659\n",
      "Error :0.25940310531992355\n"
     ]
    },
    {
     "name": "stderr",
     "output_type": "stream",
     "text": [
      "Ranks Progress:  65%|██████▌   | 84/129 [08:58<04:54,  6.54s/rank]"
     ]
    },
    {
     "name": "stdout",
     "output_type": "stream",
     "text": [
      "Error :0.24771052941681662\n",
      "Error :0.6761636233785073\n",
      "Error :0.5278394746050109\n",
      "Error :0.4131921547346709\n",
      "Error :0.38949991022106917\n",
      "Error :0.3434094611840298\n",
      "Error :0.3073359023521174\n",
      "Error :0.29334908169848384\n",
      "Error :0.2797219741022552\n",
      "Error :0.26144679500539586\n"
     ]
    },
    {
     "name": "stderr",
     "output_type": "stream",
     "text": [
      "Ranks Progress:  66%|██████▌   | 85/129 [09:05<04:46,  6.50s/rank]"
     ]
    },
    {
     "name": "stdout",
     "output_type": "stream",
     "text": [
      "Error :0.25025568232696893\n",
      "Error :0.6967321391374709\n",
      "Error :0.5144904381095539\n",
      "Error :0.43032794168500155\n",
      "Error :0.38532207546092423\n",
      "Error :0.3406538217653584\n",
      "Error :0.3176690828598812\n",
      "Error :0.29192620259433755\n",
      "Error :0.27367701805259387\n",
      "Error :0.2559021894940836\n"
     ]
    },
    {
     "name": "stderr",
     "output_type": "stream",
     "text": [
      "Ranks Progress:  67%|██████▋   | 86/129 [09:11<04:39,  6.49s/rank]"
     ]
    },
    {
     "name": "stdout",
     "output_type": "stream",
     "text": [
      "Error :0.2502142611425768\n",
      "Error :0.697327580995821\n",
      "Error :0.5188712000786921\n",
      "Error :0.42413176018010906\n",
      "Error :0.37875865145222665\n",
      "Error :0.3351908144400888\n",
      "Error :0.30831643419711796\n",
      "Error :0.29375902798248893\n",
      "Error :0.2739390900602623\n",
      "Error :0.26037232138111155\n"
     ]
    },
    {
     "name": "stderr",
     "output_type": "stream",
     "text": [
      "Ranks Progress:  67%|██████▋   | 87/129 [09:17<04:32,  6.48s/rank]"
     ]
    },
    {
     "name": "stdout",
     "output_type": "stream",
     "text": [
      "Error :0.24878638181510196\n",
      "Error :0.6617124132922174\n",
      "Error :0.5345621539793683\n",
      "Error :0.4201889601663659\n",
      "Error :0.37612499825693513\n",
      "Error :0.3340011007701576\n",
      "Error :0.3069278021953574\n",
      "Error :0.28932471849560254\n",
      "Error :0.2739046925417251\n",
      "Error :0.25996371185511213\n"
     ]
    },
    {
     "name": "stderr",
     "output_type": "stream",
     "text": [
      "Ranks Progress:  68%|██████▊   | 88/129 [09:24<04:24,  6.44s/rank]"
     ]
    },
    {
     "name": "stdout",
     "output_type": "stream",
     "text": [
      "Error :0.25183078461837677\n",
      "Error :0.6892444465399827\n",
      "Error :0.524737912477715\n",
      "Error :0.4367546994324722\n",
      "Error :0.3870052178222941\n",
      "Error :0.3418463080503317\n",
      "Error :0.31061947321438965\n",
      "Error :0.29160456844075\n",
      "Error :0.2720067121781617\n",
      "Error :0.2605978331385756\n"
     ]
    },
    {
     "name": "stderr",
     "output_type": "stream",
     "text": [
      "Ranks Progress:  69%|██████▉   | 89/129 [09:30<04:18,  6.46s/rank]"
     ]
    },
    {
     "name": "stdout",
     "output_type": "stream",
     "text": [
      "Error :0.24648459770495226\n",
      "Error :0.6693358754700242\n",
      "Error :0.5254995143258366\n",
      "Error :0.4131783743518093\n",
      "Error :0.3721834924163864\n",
      "Error :0.3339056602841836\n",
      "Error :0.3134210589231143\n",
      "Error :0.28797908645129044\n",
      "Error :0.2739495620300427\n",
      "Error :0.25949811901601405\n"
     ]
    },
    {
     "name": "stderr",
     "output_type": "stream",
     "text": [
      "Ranks Progress:  70%|██████▉   | 90/129 [09:37<04:10,  6.43s/rank]"
     ]
    },
    {
     "name": "stdout",
     "output_type": "stream",
     "text": [
      "Error :0.2504269305143069\n",
      "Error :0.715591292112727\n",
      "Error :0.5744913869832874\n",
      "Error :0.43677840769870757\n",
      "Error :0.3849320560872199\n",
      "Error :0.33841040412403633\n",
      "Error :0.3112988736729393\n",
      "Error :0.28618180888088185\n",
      "Error :0.27078036608606965\n",
      "Error :0.25799569388015714\n"
     ]
    },
    {
     "name": "stderr",
     "output_type": "stream",
     "text": [
      "Ranks Progress:  71%|███████   | 91/129 [09:43<04:04,  6.45s/rank]"
     ]
    },
    {
     "name": "stdout",
     "output_type": "stream",
     "text": [
      "Error :0.24727784697474928\n",
      "Error :0.6789541297020616\n",
      "Error :0.5236929133757928\n",
      "Error :0.4377736051739384\n",
      "Error :0.38076282339068435\n",
      "Error :0.33228346030439104\n",
      "Error :0.30719070956693606\n",
      "Error :0.2892942250766434\n",
      "Error :0.27048032409455697\n",
      "Error :0.25518856479724356\n"
     ]
    },
    {
     "name": "stderr",
     "output_type": "stream",
     "text": [
      "Ranks Progress:  71%|███████▏  | 92/129 [09:50<03:58,  6.45s/rank]"
     ]
    },
    {
     "name": "stdout",
     "output_type": "stream",
     "text": [
      "Error :0.24930485886828152\n",
      "Error :0.6799183233804532\n",
      "Error :0.4989709942617707\n",
      "Error :0.4252406349049481\n",
      "Error :0.36794070647838856\n",
      "Error :0.3444294348384908\n",
      "Error :0.3114660495501014\n",
      "Error :0.29396819880759983\n",
      "Error :0.26876797293576143\n",
      "Error :0.25704366623208297\n"
     ]
    },
    {
     "name": "stderr",
     "output_type": "stream",
     "text": [
      "Ranks Progress:  72%|███████▏  | 93/129 [09:56<03:51,  6.44s/rank]"
     ]
    },
    {
     "name": "stdout",
     "output_type": "stream",
     "text": [
      "Error :0.24728451557123618\n",
      "Error :0.7107334939098774\n",
      "Error :0.5138049244262655\n",
      "Error :0.4446415591907252\n",
      "Error :0.3633157827711844\n",
      "Error :0.3300386539425469\n",
      "Error :0.3211087274692473\n",
      "Error :0.28782402905003557\n",
      "Error :0.2766714273450586\n",
      "Error :0.25636424495830273\n"
     ]
    },
    {
     "name": "stderr",
     "output_type": "stream",
     "text": [
      "Ranks Progress:  73%|███████▎  | 94/129 [10:02<03:45,  6.43s/rank]"
     ]
    },
    {
     "name": "stdout",
     "output_type": "stream",
     "text": [
      "Error :0.24890017810734186\n",
      "Error :0.6478130937312264\n",
      "Error :0.495376738283729\n",
      "Error :0.438436876915951\n",
      "Error :0.367996792875314\n",
      "Error :0.33016335965224525\n",
      "Error :0.3128368891964616\n",
      "Error :0.28976577794076985\n",
      "Error :0.2717766666662555\n",
      "Error :0.26300352683401285\n"
     ]
    },
    {
     "name": "stderr",
     "output_type": "stream",
     "text": [
      "Ranks Progress:  74%|███████▎  | 95/129 [10:09<03:39,  6.44s/rank]"
     ]
    },
    {
     "name": "stdout",
     "output_type": "stream",
     "text": [
      "Error :0.24549795699757218\n",
      "Error :0.688940796651326\n",
      "Error :0.5345113826340743\n",
      "Error :0.4299617778190946\n",
      "Error :0.3784725508017522\n",
      "Error :0.33613076825959876\n",
      "Error :0.31890297659635714\n",
      "Error :0.29051253453494114\n",
      "Error :0.27243939201247513\n",
      "Error :0.2592124031686443\n"
     ]
    },
    {
     "name": "stderr",
     "output_type": "stream",
     "text": [
      "Ranks Progress:  74%|███████▍  | 96/129 [10:15<03:33,  6.47s/rank]"
     ]
    },
    {
     "name": "stdout",
     "output_type": "stream",
     "text": [
      "Error :0.2440858798557549\n",
      "Error :0.6636743477944993\n",
      "Error :0.5082690496571385\n",
      "Error :0.43811166728286755\n",
      "Error :0.3658608034604123\n",
      "Error :0.34598835424216967\n",
      "Error :0.31085745674441545\n",
      "Error :0.2900136512148444\n",
      "Error :0.27026188820763236\n",
      "Error :0.2575040972157784\n"
     ]
    },
    {
     "name": "stderr",
     "output_type": "stream",
     "text": [
      "Ranks Progress:  75%|███████▌  | 97/129 [10:22<03:25,  6.43s/rank]"
     ]
    },
    {
     "name": "stdout",
     "output_type": "stream",
     "text": [
      "Error :0.24483577407958393\n",
      "Error :0.6876972489654797\n",
      "Error :0.5333817290243674\n",
      "Error :0.42040064770048763\n",
      "Error :0.3640548070164097\n",
      "Error :0.3373397846489133\n",
      "Error :0.30933889152243177\n",
      "Error :0.2874588257089159\n",
      "Error :0.27205163024344037\n",
      "Error :0.25761644942232814\n"
     ]
    },
    {
     "name": "stderr",
     "output_type": "stream",
     "text": [
      "Ranks Progress:  76%|███████▌  | 98/129 [10:28<03:19,  6.45s/rank]"
     ]
    },
    {
     "name": "stdout",
     "output_type": "stream",
     "text": [
      "Error :0.24535171010724882\n",
      "Error :0.6692020786832722\n",
      "Error :0.5520403488302321\n",
      "Error :0.42602573401769017\n",
      "Error :0.3689816151562068\n",
      "Error :0.34803856379066067\n",
      "Error :0.317629752559796\n",
      "Error :0.29099118860045975\n",
      "Error :0.27409534529829827\n",
      "Error :0.25720434479468113\n"
     ]
    },
    {
     "name": "stderr",
     "output_type": "stream",
     "text": [
      "Ranks Progress:  77%|███████▋  | 99/129 [10:35<03:14,  6.47s/rank]"
     ]
    },
    {
     "name": "stdout",
     "output_type": "stream",
     "text": [
      "Error :0.25186977146429446\n",
      "Error :0.6770975250169877\n",
      "Error :0.5298795546423384\n",
      "Error :0.4188591221343844\n",
      "Error :0.37852415626524777\n",
      "Error :0.338535184794233\n",
      "Error :0.31362189411587965\n",
      "Error :0.2908831457890664\n",
      "Error :0.2707326813991847\n",
      "Error :0.25789266459896093\n"
     ]
    },
    {
     "name": "stderr",
     "output_type": "stream",
     "text": [
      "Ranks Progress:  78%|███████▊  | 100/129 [10:42<03:10,  6.57s/rank]"
     ]
    },
    {
     "name": "stdout",
     "output_type": "stream",
     "text": [
      "Error :0.24365445941392225\n",
      "Error :0.6790774204954995\n",
      "Error :0.5164193674756826\n",
      "Error :0.42154218776312613\n",
      "Error :0.38971662806050944\n",
      "Error :0.3356224818179713\n",
      "Error :0.3060894070799164\n",
      "Error :0.2890009700300753\n",
      "Error :0.2712560397866797\n",
      "Error :0.2568881614803895\n"
     ]
    },
    {
     "name": "stderr",
     "output_type": "stream",
     "text": [
      "Ranks Progress:  78%|███████▊  | 101/129 [10:48<03:02,  6.53s/rank]"
     ]
    },
    {
     "name": "stdout",
     "output_type": "stream",
     "text": [
      "Error :0.24790405992424952\n",
      "Error :0.7159149709244162\n",
      "Error :0.509482539378196\n",
      "Error :0.4549373980613423\n",
      "Error :0.36324372266851634\n",
      "Error :0.3393192612336445\n",
      "Error :0.3134912628258464\n",
      "Error :0.29081064623042335\n",
      "Error :0.27621909759969215\n",
      "Error :0.2586560512465595\n"
     ]
    },
    {
     "name": "stderr",
     "output_type": "stream",
     "text": [
      "Ranks Progress:  79%|███████▉  | 102/129 [10:55<02:56,  6.54s/rank]"
     ]
    },
    {
     "name": "stdout",
     "output_type": "stream",
     "text": [
      "Error :0.24913584745380773\n",
      "Error :0.6920090675152287\n",
      "Error :0.5386958738987615\n",
      "Error :0.42307954471075615\n",
      "Error :0.37499786970302235\n",
      "Error :0.34169318111528063\n",
      "Error :0.31256884331607565\n",
      "Error :0.28925079832556616\n",
      "Error :0.27223189089572025\n",
      "Error :0.25685692920855246\n"
     ]
    },
    {
     "name": "stderr",
     "output_type": "stream",
     "text": [
      "Ranks Progress:  80%|███████▉  | 103/129 [11:01<02:48,  6.50s/rank]"
     ]
    },
    {
     "name": "stdout",
     "output_type": "stream",
     "text": [
      "Error :0.2464611413818319\n",
      "Error :0.6858435252539103\n",
      "Error :0.5070962126962603\n",
      "Error :0.42571098878740904\n",
      "Error :0.37476696141724203\n",
      "Error :0.34800582520055756\n",
      "Error :0.3087337211377816\n",
      "Error :0.29336283297433835\n",
      "Error :0.27638589906312444\n",
      "Error :0.26037116560691775\n"
     ]
    },
    {
     "name": "stderr",
     "output_type": "stream",
     "text": [
      "Ranks Progress:  81%|████████  | 104/129 [11:07<02:41,  6.47s/rank]"
     ]
    },
    {
     "name": "stdout",
     "output_type": "stream",
     "text": [
      "Error :0.24523793033031613\n",
      "Error :0.6751864506759977\n",
      "Error :0.5082328052446539\n",
      "Error :0.4266187076750332\n",
      "Error :0.3713362181085149\n",
      "Error :0.33765600133616486\n",
      "Error :0.31411076790996234\n",
      "Error :0.2949233298828136\n",
      "Error :0.2709150619170081\n",
      "Error :0.2656597071086638\n"
     ]
    },
    {
     "name": "stderr",
     "output_type": "stream",
     "text": [
      "Ranks Progress:  81%|████████▏ | 105/129 [11:14<02:35,  6.48s/rank]"
     ]
    },
    {
     "name": "stdout",
     "output_type": "stream",
     "text": [
      "Error :0.24409333058632174\n",
      "Error :0.7289930419245757\n",
      "Error :0.5075704086648466\n",
      "Error :0.4368788506650006\n",
      "Error :0.37524846245391336\n",
      "Error :0.34616230988210384\n",
      "Error :0.31525145142374766\n",
      "Error :0.29039169804700793\n",
      "Error :0.27369039518072513\n",
      "Error :0.25806495786374023\n"
     ]
    },
    {
     "name": "stderr",
     "output_type": "stream",
     "text": [
      "Ranks Progress:  82%|████████▏ | 106/129 [11:20<02:29,  6.49s/rank]"
     ]
    },
    {
     "name": "stdout",
     "output_type": "stream",
     "text": [
      "Error :0.24496431424801696\n",
      "Error :0.7163175918033409\n",
      "Error :0.5254198801510526\n",
      "Error :0.43499157066647637\n",
      "Error :0.3713705661839095\n",
      "Error :0.34224661376394394\n",
      "Error :0.31212488719062087\n",
      "Error :0.2923255925117783\n",
      "Error :0.27295260248772496\n",
      "Error :0.2589715555638847\n"
     ]
    },
    {
     "name": "stderr",
     "output_type": "stream",
     "text": [
      "Ranks Progress:  83%|████████▎ | 107/129 [11:27<02:22,  6.46s/rank]"
     ]
    },
    {
     "name": "stdout",
     "output_type": "stream",
     "text": [
      "Error :0.24787033148316687\n",
      "Error :0.6793225299218056\n",
      "Error :0.5487346690126726\n",
      "Error :0.43394502088360154\n",
      "Error :0.38418654353101334\n",
      "Error :0.3359655518161072\n",
      "Error :0.306776489009406\n",
      "Error :0.29089421382138\n",
      "Error :0.2745851365613811\n",
      "Error :0.25854097050219504\n"
     ]
    },
    {
     "name": "stderr",
     "output_type": "stream",
     "text": [
      "Ranks Progress:  84%|████████▎ | 108/129 [11:33<02:16,  6.48s/rank]"
     ]
    },
    {
     "name": "stdout",
     "output_type": "stream",
     "text": [
      "Error :0.24463686294494488\n",
      "Error :0.7066596199443244\n",
      "Error :0.5271427602621489\n",
      "Error :0.42827933682930486\n",
      "Error :0.38039796825847505\n",
      "Error :0.34569802562195673\n",
      "Error :0.30597245102737264\n",
      "Error :0.290561324811781\n",
      "Error :0.2741580436068244\n",
      "Error :0.25718709427707437\n"
     ]
    },
    {
     "name": "stderr",
     "output_type": "stream",
     "text": [
      "Ranks Progress:  84%|████████▍ | 109/129 [11:40<02:09,  6.47s/rank]"
     ]
    },
    {
     "name": "stdout",
     "output_type": "stream",
     "text": [
      "Error :0.24324868234038008\n",
      "Error :0.7088206345375125\n",
      "Error :0.522808309410822\n",
      "Error :0.4388260518543158\n",
      "Error :0.3812461794183293\n",
      "Error :0.34466498605507884\n",
      "Error :0.31025841567339635\n",
      "Error :0.29383052277024685\n",
      "Error :0.27357819410216605\n",
      "Error :0.25877595725863184\n"
     ]
    },
    {
     "name": "stderr",
     "output_type": "stream",
     "text": [
      "Ranks Progress:  85%|████████▌ | 110/129 [11:46<02:02,  6.47s/rank]"
     ]
    },
    {
     "name": "stdout",
     "output_type": "stream",
     "text": [
      "Error :0.2443760167137053\n",
      "Error :0.6644894053615515\n",
      "Error :0.5148829874005835\n",
      "Error :0.4572988692573247\n",
      "Error :0.38180687357189247\n",
      "Error :0.35088797059268717\n",
      "Error :0.3148552468740572\n",
      "Error :0.2931205300584176\n",
      "Error :0.2715479959809723\n",
      "Error :0.25789390885061203\n"
     ]
    },
    {
     "name": "stderr",
     "output_type": "stream",
     "text": [
      "Ranks Progress:  86%|████████▌ | 111/129 [11:53<01:56,  6.48s/rank]"
     ]
    },
    {
     "name": "stdout",
     "output_type": "stream",
     "text": [
      "Error :0.24535707617386002\n",
      "Error :0.6884611796800152\n",
      "Error :0.5182860218034545\n",
      "Error :0.4276927730379249\n",
      "Error :0.376732022989988\n",
      "Error :0.3391869117324508\n",
      "Error :0.3154860660704159\n",
      "Error :0.28667324081142775\n",
      "Error :0.27183891519677716\n",
      "Error :0.26083848416690303\n"
     ]
    },
    {
     "name": "stderr",
     "output_type": "stream",
     "text": [
      "Ranks Progress:  87%|████████▋ | 112/129 [11:59<01:50,  6.49s/rank]"
     ]
    },
    {
     "name": "stdout",
     "output_type": "stream",
     "text": [
      "Error :0.24436457317129362\n",
      "Error :0.6938472981170464\n",
      "Error :0.5393749811044836\n",
      "Error :0.45452581511189816\n",
      "Error :0.383041699982057\n",
      "Error :0.33710934219022876\n",
      "Error :0.3124065254572649\n",
      "Error :0.29173135231439656\n",
      "Error :0.2750389336423156\n",
      "Error :0.2597273663995066\n"
     ]
    },
    {
     "name": "stderr",
     "output_type": "stream",
     "text": [
      "Ranks Progress:  88%|████████▊ | 113/129 [12:06<01:43,  6.44s/rank]"
     ]
    },
    {
     "name": "stdout",
     "output_type": "stream",
     "text": [
      "Error :0.2443196013552517\n",
      "Error :0.6900354832676333\n",
      "Error :0.523550533079746\n",
      "Error :0.4366508470845527\n",
      "Error :0.3803315679264499\n",
      "Error :0.34137005788885344\n",
      "Error :0.31369898228613896\n",
      "Error :0.2869882211068215\n",
      "Error :0.27447061686630414\n",
      "Error :0.2578537742946847\n"
     ]
    },
    {
     "name": "stderr",
     "output_type": "stream",
     "text": [
      "Ranks Progress:  88%|████████▊ | 114/129 [12:12<01:36,  6.47s/rank]"
     ]
    },
    {
     "name": "stdout",
     "output_type": "stream",
     "text": [
      "Error :0.24465613000160666\n",
      "Error :0.6781346222129915\n",
      "Error :0.5141874390862264\n",
      "Error :0.43566084320702536\n",
      "Error :0.380108049197792\n",
      "Error :0.336716954520445\n",
      "Error :0.30166727753361017\n",
      "Error :0.29499754887144625\n",
      "Error :0.27691158895820717\n",
      "Error :0.2587598331397778\n"
     ]
    },
    {
     "name": "stderr",
     "output_type": "stream",
     "text": [
      "Ranks Progress:  89%|████████▉ | 115/129 [12:18<01:29,  6.39s/rank]"
     ]
    },
    {
     "name": "stdout",
     "output_type": "stream",
     "text": [
      "Error :0.24735301719423022\n",
      "Error :0.6992026145110829\n",
      "Error :0.5461675746785563\n",
      "Error :0.4281747052052626\n",
      "Error :0.3760003576534086\n",
      "Error :0.34118511088956915\n",
      "Error :0.3104786668740404\n",
      "Error :0.28975307173083764\n",
      "Error :0.2736688394388145\n",
      "Error :0.25751231469210206\n"
     ]
    },
    {
     "name": "stderr",
     "output_type": "stream",
     "text": [
      "Ranks Progress:  90%|████████▉ | 116/129 [12:24<01:19,  6.14s/rank]"
     ]
    },
    {
     "name": "stdout",
     "output_type": "stream",
     "text": [
      "Error :0.2461464658329126\n",
      "Error :0.7004309117619721\n",
      "Error :0.5109619301806163\n",
      "Error :0.43269569169985356\n",
      "Error :0.3674334431950341\n",
      "Error :0.3328357258407279\n",
      "Error :0.30908180933018436\n",
      "Error :0.29037269563823614\n",
      "Error :0.27225305642214764\n",
      "Error :0.2580617198637349\n"
     ]
    },
    {
     "name": "stderr",
     "output_type": "stream",
     "text": [
      "Ranks Progress:  91%|█████████ | 117/129 [12:29<01:11,  5.96s/rank]"
     ]
    },
    {
     "name": "stdout",
     "output_type": "stream",
     "text": [
      "Error :0.24824247773202313\n",
      "Error :0.6445165922434742\n",
      "Error :0.5252468020575343\n",
      "Error :0.4186351598973108\n",
      "Error :0.3650524398863408\n",
      "Error :0.34432165896212513\n",
      "Error :0.31458061035493434\n",
      "Error :0.2959920415999032\n",
      "Error :0.2734255461118782\n",
      "Error :0.2574972331403221\n"
     ]
    },
    {
     "name": "stderr",
     "output_type": "stream",
     "text": [
      "Ranks Progress:  91%|█████████▏| 118/129 [12:36<01:07,  6.15s/rank]"
     ]
    },
    {
     "name": "stdout",
     "output_type": "stream",
     "text": [
      "Error :0.24751960277328414\n",
      "Error :0.7011921419921666\n",
      "Error :0.5206337304462907\n",
      "Error :0.4414295945390035\n",
      "Error :0.3785948544114095\n",
      "Error :0.33692719981769814\n",
      "Error :0.3077553582685834\n",
      "Error :0.2961474795390867\n",
      "Error :0.272207351399497\n",
      "Error :0.26141442065346376\n"
     ]
    },
    {
     "name": "stderr",
     "output_type": "stream",
     "text": [
      "Ranks Progress:  92%|█████████▏| 119/129 [12:42<01:02,  6.24s/rank]"
     ]
    },
    {
     "name": "stdout",
     "output_type": "stream",
     "text": [
      "Error :0.24592601023223118\n",
      "Error :0.7227829817308387\n",
      "Error :0.5106636067713438\n",
      "Error :0.4343674395438792\n",
      "Error :0.37773949603138496\n",
      "Error :0.33670042808679923\n",
      "Error :0.31325363820302016\n",
      "Error :0.29120656715310983\n",
      "Error :0.2706848573828984\n",
      "Error :0.2606758826462499\n"
     ]
    },
    {
     "name": "stderr",
     "output_type": "stream",
     "text": [
      "Ranks Progress:  93%|█████████▎| 120/129 [12:49<00:56,  6.32s/rank]"
     ]
    },
    {
     "name": "stdout",
     "output_type": "stream",
     "text": [
      "Error :0.24374276810390058\n",
      "Error :0.6918169103704523\n",
      "Error :0.5420339362549302\n",
      "Error :0.4218638531016979\n",
      "Error :0.3755821041545987\n",
      "Error :0.332655154000155\n",
      "Error :0.30469532292461676\n",
      "Error :0.2921800389768836\n",
      "Error :0.27412889910605664\n",
      "Error :0.2572488928665947\n"
     ]
    },
    {
     "name": "stderr",
     "output_type": "stream",
     "text": [
      "Ranks Progress:  94%|█████████▍| 121/129 [12:56<00:51,  6.43s/rank]"
     ]
    },
    {
     "name": "stdout",
     "output_type": "stream",
     "text": [
      "Error :0.2469167433245445\n",
      "Error :0.6818917173821203\n",
      "Error :0.5370728850423808\n",
      "Error :0.4331236623930401\n",
      "Error :0.36954340061648916\n",
      "Error :0.34537959976121585\n",
      "Error :0.3069133790074059\n",
      "Error :0.2926134740424704\n",
      "Error :0.2749651537275678\n",
      "Error :0.2573166027243272\n"
     ]
    },
    {
     "name": "stderr",
     "output_type": "stream",
     "text": [
      "Ranks Progress:  95%|█████████▍| 122/129 [13:02<00:45,  6.48s/rank]"
     ]
    },
    {
     "name": "stdout",
     "output_type": "stream",
     "text": [
      "Error :0.2469720436281892\n",
      "Error :0.7320692128692063\n",
      "Error :0.51163720321665\n",
      "Error :0.4300252843007415\n",
      "Error :0.39155624939196687\n",
      "Error :0.3394106562778416\n",
      "Error :0.3126909761829726\n",
      "Error :0.29387635862366684\n",
      "Error :0.2717478177884715\n",
      "Error :0.25691540403832375\n"
     ]
    },
    {
     "name": "stderr",
     "output_type": "stream",
     "text": [
      "Ranks Progress:  95%|█████████▌| 123/129 [13:09<00:38,  6.49s/rank]"
     ]
    },
    {
     "name": "stdout",
     "output_type": "stream",
     "text": [
      "Error :0.2450793903877514\n",
      "Error :0.714915955897815\n",
      "Error :0.5219453161280422\n",
      "Error :0.412567391425746\n",
      "Error :0.36900265319580117\n",
      "Error :0.33940188241092206\n",
      "Error :0.3127587241028728\n",
      "Error :0.2894129854661072\n",
      "Error :0.2721828772819495\n",
      "Error :0.2614144287300146\n"
     ]
    },
    {
     "name": "stderr",
     "output_type": "stream",
     "text": [
      "Ranks Progress:  96%|█████████▌| 124/129 [13:15<00:32,  6.48s/rank]"
     ]
    },
    {
     "name": "stdout",
     "output_type": "stream",
     "text": [
      "Error :0.2440193603857177\n",
      "Error :0.7230326636427572\n",
      "Error :0.5355979671278797\n",
      "Error :0.4365555061750562\n",
      "Error :0.36686568588186247\n",
      "Error :0.34139640523945464\n",
      "Error :0.31648054154927413\n",
      "Error :0.2894521425255434\n",
      "Error :0.27293295843745163\n",
      "Error :0.2610365299011319\n"
     ]
    },
    {
     "name": "stderr",
     "output_type": "stream",
     "text": [
      "Ranks Progress:  97%|█████████▋| 125/129 [13:22<00:25,  6.50s/rank]"
     ]
    },
    {
     "name": "stdout",
     "output_type": "stream",
     "text": [
      "Error :0.24816284440219638\n",
      "Error :0.6905286745989575\n",
      "Error :0.5610045161252568\n",
      "Error :0.44544775723775104\n",
      "Error :0.3710973459917542\n",
      "Error :0.34446205671355046\n",
      "Error :0.3127864150621519\n",
      "Error :0.2903576175896909\n",
      "Error :0.27060506003291485\n",
      "Error :0.25920615648886086\n"
     ]
    },
    {
     "name": "stderr",
     "output_type": "stream",
     "text": [
      "Ranks Progress:  98%|█████████▊| 126/129 [13:28<00:19,  6.43s/rank]"
     ]
    },
    {
     "name": "stdout",
     "output_type": "stream",
     "text": [
      "Error :0.244590562535401\n",
      "Error :0.6581331765978133\n",
      "Error :0.5466098359431704\n",
      "Error :0.43997040265084975\n",
      "Error :0.36679972016797363\n",
      "Error :0.3410131482658905\n",
      "Error :0.3146607504032855\n",
      "Error :0.28619371950858785\n",
      "Error :0.2733786336148383\n",
      "Error :0.257186972311124\n"
     ]
    },
    {
     "name": "stderr",
     "output_type": "stream",
     "text": [
      "Ranks Progress:  98%|█████████▊| 127/129 [13:35<00:12,  6.46s/rank]"
     ]
    },
    {
     "name": "stdout",
     "output_type": "stream",
     "text": [
      "Error :0.24614465139385686\n",
      "Error :0.6747669085689657\n",
      "Error :0.5161524245982636\n",
      "Error :0.4261223851594924\n",
      "Error :0.36931544771924096\n",
      "Error :0.3418435049524618\n",
      "Error :0.3148348841156274\n",
      "Error :0.2895547173475489\n",
      "Error :0.27824093308771125\n",
      "Error :0.2581474026761341\n"
     ]
    },
    {
     "name": "stderr",
     "output_type": "stream",
     "text": [
      "Ranks Progress:  99%|█████████▉| 128/129 [13:40<00:06,  6.24s/rank]"
     ]
    },
    {
     "name": "stdout",
     "output_type": "stream",
     "text": [
      "Error :0.24619464044160919\n",
      "Error :0.7122828580427869\n",
      "Error :0.5630334868065253\n",
      "Error :0.4459269651348106\n",
      "Error :0.3901434591965976\n",
      "Error :0.3416379342466799\n",
      "Error :0.314695576613568\n",
      "Error :0.2936365901467728\n",
      "Error :0.271991786528246\n",
      "Error :0.2570710718482284\n"
     ]
    },
    {
     "name": "stderr",
     "output_type": "stream",
     "text": [
      "Ranks Progress: 100%|██████████| 129/129 [13:46<00:00,  6.40s/rank]"
     ]
    },
    {
     "name": "stdout",
     "output_type": "stream",
     "text": [
      "Error :0.24450886564889032\n"
     ]
    },
    {
     "name": "stderr",
     "output_type": "stream",
     "text": [
      "\n"
     ]
    },
    {
     "name": "stdout",
     "output_type": "stream",
     "text": [
      "Results successfully saved to Section_2_test_1_for_loadMatrixA_1.xlsx.\n"
     ]
    }
   ],
   "source": [
    "collect_low_rank_errors(loadMatrix_A_1)"
   ]
  },
  {
   "cell_type": "code",
   "execution_count": 26,
   "metadata": {},
   "outputs": [
    {
     "name": "stderr",
     "output_type": "stream",
     "text": [
      "Ranks Progress:   0%|          | 0/129 [00:00<?, ?rank/s]"
     ]
    },
    {
     "name": "stdout",
     "output_type": "stream",
     "text": [
      "Error :1.0\n",
      "Error :1.0\n",
      "Error :1.0\n",
      "Error :1.0\n",
      "Error :1.0\n",
      "Error :1.0\n",
      "Error :1.0\n",
      "Error :1.0\n",
      "Error :1.0\n"
     ]
    },
    {
     "name": "stderr",
     "output_type": "stream",
     "text": [
      "Ranks Progress:   1%|          | 1/129 [00:05<12:32,  5.88s/rank]"
     ]
    },
    {
     "name": "stdout",
     "output_type": "stream",
     "text": [
      "Error :1.0\n",
      "Error :0.9504192649843474\n",
      "Error :0.9440374499488048\n",
      "Error :0.9427072264467282\n",
      "Error :0.9416234434056384\n",
      "Error :0.9417250929357813\n",
      "Error :0.941264925379735\n",
      "Error :0.9408831422630048\n",
      "Error :0.9410011178258328\n",
      "Error :0.9407829339613573\n"
     ]
    },
    {
     "name": "stderr",
     "output_type": "stream",
     "text": [
      "Ranks Progress:   2%|▏         | 2/129 [00:12<13:20,  6.30s/rank]"
     ]
    },
    {
     "name": "stdout",
     "output_type": "stream",
     "text": [
      "Error :0.9404430762899549\n",
      "Error :0.8996458234718834\n",
      "Error :0.8903659479466018\n",
      "Error :0.8854952424374849\n",
      "Error :0.8861669258834713\n",
      "Error :0.8839231034715307\n",
      "Error :0.8826284870759408\n",
      "Error :0.8825809002309085\n",
      "Error :0.8823522617392937\n",
      "Error :0.8815897773287893\n"
     ]
    },
    {
     "name": "stderr",
     "output_type": "stream",
     "text": [
      "Ranks Progress:   2%|▏         | 3/129 [00:18<13:11,  6.28s/rank]"
     ]
    },
    {
     "name": "stdout",
     "output_type": "stream",
     "text": [
      "Error :0.8811866430586165\n",
      "Error :0.8571407402036122\n",
      "Error :0.835126298936707\n",
      "Error :0.8338795311234533\n",
      "Error :0.8292294286491773\n",
      "Error :0.8262452849241884\n",
      "Error :0.8258307617824253\n",
      "Error :0.8242956582920115\n",
      "Error :0.8235431290420053\n",
      "Error :0.8226435872590475\n"
     ]
    },
    {
     "name": "stderr",
     "output_type": "stream",
     "text": [
      "Ranks Progress:   3%|▎         | 4/129 [00:25<13:08,  6.31s/rank]"
     ]
    },
    {
     "name": "stdout",
     "output_type": "stream",
     "text": [
      "Error :0.8219882980158545\n",
      "Error :0.8269909948336935\n",
      "Error :0.7903121760220168\n",
      "Error :0.7799846749183659\n",
      "Error :0.77567938190587\n",
      "Error :0.7695912691082795\n",
      "Error :0.7675488405058397\n",
      "Error :0.76753636178782\n",
      "Error :0.7651191309125313\n",
      "Error :0.7644625787167194\n"
     ]
    },
    {
     "name": "stderr",
     "output_type": "stream",
     "text": [
      "Ranks Progress:   4%|▍         | 5/129 [00:31<12:51,  6.23s/rank]"
     ]
    },
    {
     "name": "stdout",
     "output_type": "stream",
     "text": [
      "Error :0.7626606962291602\n",
      "Error :0.7698997036077836\n",
      "Error :0.7422831993003024\n",
      "Error :0.7299187722505637\n",
      "Error :0.7198294506429304\n",
      "Error :0.7158901701145793\n",
      "Error :0.7111948429291415\n",
      "Error :0.708882229810097\n",
      "Error :0.7071863278312847\n",
      "Error :0.7054947976266175\n"
     ]
    },
    {
     "name": "stderr",
     "output_type": "stream",
     "text": [
      "Ranks Progress:   5%|▍         | 6/129 [00:37<12:54,  6.30s/rank]"
     ]
    },
    {
     "name": "stdout",
     "output_type": "stream",
     "text": [
      "Error :0.7049200140809346\n",
      "Error :0.72056031432531\n",
      "Error :0.6960854739925334\n",
      "Error :0.6722913198795061\n",
      "Error :0.6634610782057171\n",
      "Error :0.6586529801266008\n",
      "Error :0.6566944217236882\n",
      "Error :0.6532070272276511\n",
      "Error :0.6507086696702662\n",
      "Error :0.6470215645902639\n"
     ]
    },
    {
     "name": "stderr",
     "output_type": "stream",
     "text": [
      "Ranks Progress:   5%|▌         | 7/129 [00:43<12:46,  6.28s/rank]"
     ]
    },
    {
     "name": "stdout",
     "output_type": "stream",
     "text": [
      "Error :0.646492353933788\n",
      "Error :0.7339266098799114\n",
      "Error :0.6516552538981928\n",
      "Error :0.6331999298756774\n",
      "Error :0.6137872308856299\n",
      "Error :0.6052684208983341\n",
      "Error :0.5995251909319242\n",
      "Error :0.5954530463224411\n",
      "Error :0.5948383816885884\n",
      "Error :0.5921403614974438\n"
     ]
    },
    {
     "name": "stderr",
     "output_type": "stream",
     "text": [
      "Ranks Progress:   6%|▌         | 8/129 [00:49<12:26,  6.17s/rank]"
     ]
    },
    {
     "name": "stdout",
     "output_type": "stream",
     "text": [
      "Error :0.5879050000470749\n",
      "Error :0.7170164727764958\n",
      "Error :0.6398883556790165\n",
      "Error :0.5835650702807937\n",
      "Error :0.5653086244436593\n",
      "Error :0.5526306072130727\n",
      "Error :0.5403762336894083\n",
      "Error :0.5396618529746459\n",
      "Error :0.5359183783462749\n",
      "Error :0.5336234307646927\n"
     ]
    },
    {
     "name": "stderr",
     "output_type": "stream",
     "text": [
      "Ranks Progress:   7%|▋         | 9/129 [00:55<12:09,  6.08s/rank]"
     ]
    },
    {
     "name": "stdout",
     "output_type": "stream",
     "text": [
      "Error :0.5313764606458526\n",
      "Error :0.6932407057744983\n",
      "Error :0.5908620567574945\n",
      "Error :0.5527160661375712\n",
      "Error :0.5118150515637225\n",
      "Error :0.4974258414413697\n",
      "Error :0.49398004738846735\n",
      "Error :0.4868617406328081\n",
      "Error :0.478512150233291\n",
      "Error :0.4747433280511874\n"
     ]
    },
    {
     "name": "stderr",
     "output_type": "stream",
     "text": [
      "Ranks Progress:   8%|▊         | 10/129 [01:01<12:07,  6.11s/rank]"
     ]
    },
    {
     "name": "stdout",
     "output_type": "stream",
     "text": [
      "Error :0.4724757538969812\n",
      "Error :0.6805744206435512\n",
      "Error :0.5619239758634219\n",
      "Error :0.4895563756932348\n",
      "Error :0.47750797455243593\n",
      "Error :0.45266827756646066\n",
      "Error :0.44069413420242576\n",
      "Error :0.4328105321923172\n",
      "Error :0.42548175807960753\n",
      "Error :0.4184656583922068\n"
     ]
    },
    {
     "name": "stderr",
     "output_type": "stream",
     "text": [
      "Ranks Progress:   9%|▊         | 11/129 [01:07<12:01,  6.12s/rank]"
     ]
    },
    {
     "name": "stdout",
     "output_type": "stream",
     "text": [
      "Error :0.4180457327370715\n",
      "Error :0.704034303017373\n",
      "Error :0.5549836533608774\n",
      "Error :0.49262690993193275\n",
      "Error :0.451761490555007\n",
      "Error :0.43281765333924915\n",
      "Error :0.4184427343551945\n",
      "Error :0.3983639663453185\n",
      "Error :0.3935554134579049\n",
      "Error :0.39212037599571564\n"
     ]
    },
    {
     "name": "stderr",
     "output_type": "stream",
     "text": [
      "Ranks Progress:   9%|▉         | 12/129 [01:13<11:52,  6.09s/rank]"
     ]
    },
    {
     "name": "stdout",
     "output_type": "stream",
     "text": [
      "Error :0.3927574397479206\n",
      "Error :0.7084071596529093\n",
      "Error :0.5606865699055495\n",
      "Error :0.4815126591248041\n",
      "Error :0.4224284061640076\n",
      "Error :0.4105749339354365\n",
      "Error :0.40256282842398416\n",
      "Error :0.3858680537978529\n",
      "Error :0.3807845901724704\n",
      "Error :0.3735906826112373\n"
     ]
    },
    {
     "name": "stderr",
     "output_type": "stream",
     "text": [
      "Ranks Progress:  10%|█         | 13/129 [01:19<11:38,  6.03s/rank]"
     ]
    },
    {
     "name": "stdout",
     "output_type": "stream",
     "text": [
      "Error :0.370396031687502\n",
      "Error :0.6952852000554718\n",
      "Error :0.5413057330023051\n",
      "Error :0.45169070978922443\n",
      "Error :0.42648760682668463\n",
      "Error :0.40594305997441077\n",
      "Error :0.38680817863071615\n",
      "Error :0.3780456758074655\n",
      "Error :0.3721070443603877\n",
      "Error :0.36636200040865113\n"
     ]
    },
    {
     "name": "stderr",
     "output_type": "stream",
     "text": [
      "Ranks Progress:  11%|█         | 14/129 [01:25<11:30,  6.00s/rank]"
     ]
    },
    {
     "name": "stdout",
     "output_type": "stream",
     "text": [
      "Error :0.35946915832367504\n",
      "Error :0.7133291344058675\n",
      "Error :0.5432725303818023\n",
      "Error :0.45891794746096565\n",
      "Error :0.40927203039899146\n",
      "Error :0.3971349651381749\n",
      "Error :0.37452112439235535\n",
      "Error :0.3642014983982898\n",
      "Error :0.3621638123466518\n",
      "Error :0.35059071473052034\n"
     ]
    },
    {
     "name": "stderr",
     "output_type": "stream",
     "text": [
      "Ranks Progress:  12%|█▏        | 15/129 [01:31<11:19,  5.96s/rank]"
     ]
    },
    {
     "name": "stdout",
     "output_type": "stream",
     "text": [
      "Error :0.35070917870710183\n",
      "Error :0.6861826436089721\n",
      "Error :0.5372907948199723\n",
      "Error :0.44667009032680577\n",
      "Error :0.4129127317188754\n",
      "Error :0.3842613685815176\n",
      "Error :0.3716357439285727\n",
      "Error :0.3593109066795644\n",
      "Error :0.3485888293444432\n",
      "Error :0.34452594382463225\n"
     ]
    },
    {
     "name": "stderr",
     "output_type": "stream",
     "text": [
      "Ranks Progress:  12%|█▏        | 16/129 [01:37<11:11,  5.94s/rank]"
     ]
    },
    {
     "name": "stdout",
     "output_type": "stream",
     "text": [
      "Error :0.3375186241880647\n",
      "Error :0.7013653115505992\n",
      "Error :0.5270916398473083\n",
      "Error :0.4490168119389387\n",
      "Error :0.416220688865915\n",
      "Error :0.3862745867346047\n",
      "Error :0.3627924308557056\n",
      "Error :0.35498025292157537\n",
      "Error :0.3404136701721559\n",
      "Error :0.337547762425835\n"
     ]
    },
    {
     "name": "stderr",
     "output_type": "stream",
     "text": [
      "Ranks Progress:  13%|█▎        | 17/129 [01:43<11:05,  5.94s/rank]"
     ]
    },
    {
     "name": "stdout",
     "output_type": "stream",
     "text": [
      "Error :0.3319988172406903\n",
      "Error :0.6887188961598087\n",
      "Error :0.5263585128688224\n",
      "Error :0.44668256931920186\n",
      "Error :0.4014361656009798\n",
      "Error :0.3823297065452337\n",
      "Error :0.3582529775544271\n",
      "Error :0.348592634582386\n",
      "Error :0.33908274411362066\n",
      "Error :0.33370945258639084\n"
     ]
    },
    {
     "name": "stderr",
     "output_type": "stream",
     "text": [
      "Ranks Progress:  14%|█▍        | 18/129 [01:49<11:01,  5.96s/rank]"
     ]
    },
    {
     "name": "stdout",
     "output_type": "stream",
     "text": [
      "Error :0.3266195395652839\n",
      "Error :0.6949395857680241\n",
      "Error :0.5394426245467057\n",
      "Error :0.45999622217336805\n",
      "Error :0.3972799548660423\n",
      "Error :0.3790435322241762\n",
      "Error :0.3578778408840899\n",
      "Error :0.34163563179137624\n",
      "Error :0.33652823360499234\n",
      "Error :0.3253303028782694\n"
     ]
    },
    {
     "name": "stderr",
     "output_type": "stream",
     "text": [
      "Ranks Progress:  15%|█▍        | 19/129 [01:55<10:52,  5.93s/rank]"
     ]
    },
    {
     "name": "stdout",
     "output_type": "stream",
     "text": [
      "Error :0.319846961345879\n",
      "Error :0.6720797286318495\n",
      "Error :0.5122715458859833\n",
      "Error :0.437637048778547\n",
      "Error :0.39922270535635224\n",
      "Error :0.3706589393050752\n",
      "Error :0.3479920150481724\n",
      "Error :0.33816961679452623\n",
      "Error :0.3303116047575145\n",
      "Error :0.3282113579000119\n"
     ]
    },
    {
     "name": "stderr",
     "output_type": "stream",
     "text": [
      "Ranks Progress:  16%|█▌        | 20/129 [02:01<10:51,  5.98s/rank]"
     ]
    },
    {
     "name": "stdout",
     "output_type": "stream",
     "text": [
      "Error :0.31614584580838645\n",
      "Error :0.7005066191975378\n",
      "Error :0.5329405084244243\n",
      "Error :0.4333808906963328\n",
      "Error :0.3999463927745765\n",
      "Error :0.37086937823173627\n",
      "Error :0.3553576089604053\n",
      "Error :0.33252263441540486\n",
      "Error :0.3303265902650537\n",
      "Error :0.31909923260995765\n"
     ]
    },
    {
     "name": "stderr",
     "output_type": "stream",
     "text": [
      "Ranks Progress:  16%|█▋        | 21/129 [02:07<10:55,  6.07s/rank]"
     ]
    },
    {
     "name": "stdout",
     "output_type": "stream",
     "text": [
      "Error :0.3112310881042759\n",
      "Error :0.7156713811504789\n",
      "Error :0.5844218521440794\n",
      "Error :0.432006663370444\n",
      "Error :0.4002121935347668\n",
      "Error :0.3609427837539762\n",
      "Error :0.35084796197287693\n",
      "Error :0.33672736584053886\n",
      "Error :0.32144472067380314\n",
      "Error :0.31402826484147484\n"
     ]
    },
    {
     "name": "stderr",
     "output_type": "stream",
     "text": [
      "Ranks Progress:  17%|█▋        | 22/129 [02:14<11:12,  6.28s/rank]"
     ]
    },
    {
     "name": "stdout",
     "output_type": "stream",
     "text": [
      "Error :0.30851375825007493\n",
      "Error :0.7050169593892409\n",
      "Error :0.5097386530675209\n",
      "Error :0.4397951647520483\n",
      "Error :0.3882923805113767\n",
      "Error :0.3671381319643114\n",
      "Error :0.3491487560390616\n",
      "Error :0.3329707873005373\n",
      "Error :0.3195826098343636\n",
      "Error :0.3152899523315569\n"
     ]
    },
    {
     "name": "stderr",
     "output_type": "stream",
     "text": [
      "Ranks Progress:  18%|█▊        | 23/129 [02:21<11:31,  6.52s/rank]"
     ]
    },
    {
     "name": "stdout",
     "output_type": "stream",
     "text": [
      "Error :0.308001054532112\n",
      "Error :0.7045711873695417\n",
      "Error :0.5434284035731156\n",
      "Error :0.44703656930073454\n",
      "Error :0.3879365460925232\n",
      "Error :0.3633358100538251\n",
      "Error :0.3392588435310698\n",
      "Error :0.3249384733662754\n",
      "Error :0.3182339699955421\n",
      "Error :0.3085893051763206\n"
     ]
    },
    {
     "name": "stderr",
     "output_type": "stream",
     "text": [
      "Ranks Progress:  19%|█▊        | 24/129 [02:28<11:42,  6.69s/rank]"
     ]
    },
    {
     "name": "stdout",
     "output_type": "stream",
     "text": [
      "Error :0.30095515015528207\n",
      "Error :0.7022131066403641\n",
      "Error :0.5129008666098327\n",
      "Error :0.42175745602212583\n",
      "Error :0.3905094995306442\n",
      "Error :0.3650264896883841\n",
      "Error :0.3353863781951234\n",
      "Error :0.3272658867714051\n",
      "Error :0.32297818208837736\n",
      "Error :0.30545761111521386\n"
     ]
    },
    {
     "name": "stderr",
     "output_type": "stream",
     "text": [
      "Ranks Progress:  19%|█▉        | 25/129 [02:35<11:27,  6.61s/rank]"
     ]
    },
    {
     "name": "stdout",
     "output_type": "stream",
     "text": [
      "Error :0.30072347453622716\n",
      "Error :0.7111476347397567\n",
      "Error :0.5070658879446244\n",
      "Error :0.4394300074611128\n",
      "Error :0.3845160578689296\n",
      "Error :0.3520696908032302\n",
      "Error :0.33689302793738635\n",
      "Error :0.3234088764325403\n",
      "Error :0.31356288860119663\n",
      "Error :0.3070099611895875\n"
     ]
    },
    {
     "name": "stderr",
     "output_type": "stream",
     "text": [
      "Ranks Progress:  20%|██        | 26/129 [02:41<11:12,  6.53s/rank]"
     ]
    },
    {
     "name": "stdout",
     "output_type": "stream",
     "text": [
      "Error :0.29607154338146746\n",
      "Error :0.68900851864503\n",
      "Error :0.5218567887086735\n",
      "Error :0.4236680215255165\n",
      "Error :0.3893583750450124\n",
      "Error :0.35196824946109756\n",
      "Error :0.33780287570941264\n",
      "Error :0.3196887112784679\n",
      "Error :0.3082868671861708\n",
      "Error :0.2999257921960667\n"
     ]
    },
    {
     "name": "stderr",
     "output_type": "stream",
     "text": [
      "Ranks Progress:  21%|██        | 27/129 [02:47<10:54,  6.42s/rank]"
     ]
    },
    {
     "name": "stdout",
     "output_type": "stream",
     "text": [
      "Error :0.29527992323687685\n",
      "Error :0.6939979917083272\n",
      "Error :0.5104240892219538\n",
      "Error :0.4289534369871344\n",
      "Error :0.38553003140509556\n",
      "Error :0.3621609226792967\n",
      "Error :0.3293795068651794\n",
      "Error :0.3205099506938752\n",
      "Error :0.3059638708754362\n",
      "Error :0.3029687062745333\n"
     ]
    },
    {
     "name": "stderr",
     "output_type": "stream",
     "text": [
      "Ranks Progress:  22%|██▏       | 28/129 [02:53<10:36,  6.30s/rank]"
     ]
    },
    {
     "name": "stdout",
     "output_type": "stream",
     "text": [
      "Error :0.29229523380067657\n",
      "Error :0.7078768539031883\n",
      "Error :0.5271175777484424\n",
      "Error :0.45020712379072236\n",
      "Error :0.3900537746508349\n",
      "Error :0.3568633156750434\n",
      "Error :0.3304071572478405\n",
      "Error :0.3193093697940044\n",
      "Error :0.3095971197561083\n",
      "Error :0.29604607474937744\n"
     ]
    },
    {
     "name": "stderr",
     "output_type": "stream",
     "text": [
      "Ranks Progress:  22%|██▏       | 29/129 [02:59<10:29,  6.29s/rank]"
     ]
    },
    {
     "name": "stdout",
     "output_type": "stream",
     "text": [
      "Error :0.2926477943137274\n",
      "Error :0.6727826002333188\n",
      "Error :0.5356690460752487\n",
      "Error :0.4236057034752058\n",
      "Error :0.39302386895117536\n",
      "Error :0.3640086084648102\n",
      "Error :0.32627614749568024\n",
      "Error :0.3156271860067854\n",
      "Error :0.30431328553537973\n",
      "Error :0.2945869891526402\n"
     ]
    },
    {
     "name": "stderr",
     "output_type": "stream",
     "text": [
      "Ranks Progress:  23%|██▎       | 30/129 [03:05<10:13,  6.20s/rank]"
     ]
    },
    {
     "name": "stdout",
     "output_type": "stream",
     "text": [
      "Error :0.2888743522399164\n",
      "Error :0.6820278360896216\n",
      "Error :0.5173052266076292\n",
      "Error :0.42666302560857566\n",
      "Error :0.38865238761798704\n",
      "Error :0.3448760110844924\n",
      "Error :0.33413404122849927\n",
      "Error :0.31447878266159146\n",
      "Error :0.30562402551069584\n",
      "Error :0.29475882596395486\n"
     ]
    },
    {
     "name": "stderr",
     "output_type": "stream",
     "text": [
      "Ranks Progress:  24%|██▍       | 31/129 [03:11<09:56,  6.09s/rank]"
     ]
    },
    {
     "name": "stdout",
     "output_type": "stream",
     "text": [
      "Error :0.28493526663276136\n",
      "Error :0.6807623411263414\n",
      "Error :0.5322005696461737\n",
      "Error :0.4511879598590489\n",
      "Error :0.3945057437254037\n",
      "Error :0.3571593158864302\n",
      "Error :0.33263051168936053\n",
      "Error :0.3153247134810936\n",
      "Error :0.3016538409868562\n",
      "Error :0.2916339464607654\n"
     ]
    },
    {
     "name": "stderr",
     "output_type": "stream",
     "text": [
      "Ranks Progress:  25%|██▍       | 32/129 [03:17<09:49,  6.07s/rank]"
     ]
    },
    {
     "name": "stdout",
     "output_type": "stream",
     "text": [
      "Error :0.28197697154494533\n",
      "Error :0.6802274235491267\n",
      "Error :0.5110212654253671\n",
      "Error :0.42795910127997694\n",
      "Error :0.38050989034283306\n",
      "Error :0.3432527901064037\n",
      "Error :0.32823760745708963\n",
      "Error :0.31248514358797363\n",
      "Error :0.2999691641945336\n",
      "Error :0.29076089425717616\n"
     ]
    },
    {
     "name": "stderr",
     "output_type": "stream",
     "text": [
      "Ranks Progress:  26%|██▌       | 33/129 [03:23<09:41,  6.05s/rank]"
     ]
    },
    {
     "name": "stdout",
     "output_type": "stream",
     "text": [
      "Error :0.2841521164785686\n",
      "Error :0.6836442740640384\n",
      "Error :0.5094390850424458\n",
      "Error :0.413944459995094\n",
      "Error :0.3769657554270748\n",
      "Error :0.3461642607525706\n",
      "Error :0.32702932844195143\n",
      "Error :0.30801114252710726\n",
      "Error :0.2995537117891263\n",
      "Error :0.29172985586772643\n"
     ]
    },
    {
     "name": "stderr",
     "output_type": "stream",
     "text": [
      "Ranks Progress:  26%|██▋       | 34/129 [03:30<09:40,  6.11s/rank]"
     ]
    },
    {
     "name": "stdout",
     "output_type": "stream",
     "text": [
      "Error :0.2836614584508517\n",
      "Error :0.6926067082753278\n",
      "Error :0.49027984484881065\n",
      "Error :0.430866404438219\n",
      "Error :0.36810184751955966\n",
      "Error :0.34027405499394975\n",
      "Error :0.3258378981344603\n",
      "Error :0.3102156861562054\n",
      "Error :0.2964610327848228\n",
      "Error :0.2902923215884106\n"
     ]
    },
    {
     "name": "stderr",
     "output_type": "stream",
     "text": [
      "Ranks Progress:  27%|██▋       | 35/129 [03:36<09:33,  6.11s/rank]"
     ]
    },
    {
     "name": "stdout",
     "output_type": "stream",
     "text": [
      "Error :0.28357204460471963\n",
      "Error :0.6953106476883631\n",
      "Error :0.4809874381128052\n",
      "Error :0.4422409190092147\n",
      "Error :0.3763415738451567\n",
      "Error :0.3438198621587779\n",
      "Error :0.3192563088321358\n",
      "Error :0.3094712613749196\n",
      "Error :0.29956861807268415\n",
      "Error :0.2901731601770791\n"
     ]
    },
    {
     "name": "stderr",
     "output_type": "stream",
     "text": [
      "Ranks Progress:  28%|██▊       | 36/129 [03:42<09:22,  6.05s/rank]"
     ]
    },
    {
     "name": "stdout",
     "output_type": "stream",
     "text": [
      "Error :0.27795834196831654\n",
      "Error :0.6864635576450708\n",
      "Error :0.5288446085464746\n",
      "Error :0.4272794738625881\n",
      "Error :0.3824631468730256\n",
      "Error :0.337365356344294\n",
      "Error :0.3184116726868206\n",
      "Error :0.3068522811899179\n",
      "Error :0.2937835030701741\n",
      "Error :0.2864826004856482\n"
     ]
    },
    {
     "name": "stderr",
     "output_type": "stream",
     "text": [
      "Ranks Progress:  29%|██▊       | 37/129 [03:48<09:22,  6.12s/rank]"
     ]
    },
    {
     "name": "stdout",
     "output_type": "stream",
     "text": [
      "Error :0.2803199097915447\n",
      "Error :0.7079481216223368\n",
      "Error :0.507909345913561\n",
      "Error :0.4384438547545912\n",
      "Error :0.36803539328496226\n",
      "Error :0.34338439853479213\n",
      "Error :0.3211514170503247\n",
      "Error :0.30637878146263076\n",
      "Error :0.29494012432226496\n",
      "Error :0.28605637214902013\n"
     ]
    },
    {
     "name": "stderr",
     "output_type": "stream",
     "text": [
      "Ranks Progress:  29%|██▉       | 38/129 [03:54<09:10,  6.05s/rank]"
     ]
    },
    {
     "name": "stdout",
     "output_type": "stream",
     "text": [
      "Error :0.2760346047559293\n",
      "Error :0.7058839495745286\n",
      "Error :0.5242866680476311\n",
      "Error :0.43200839964193427\n",
      "Error :0.38401587967862916\n",
      "Error :0.3538669099987543\n",
      "Error :0.3220414174135757\n",
      "Error :0.308286803210048\n",
      "Error :0.2906570949342849\n",
      "Error :0.28072940685621844\n"
     ]
    },
    {
     "name": "stderr",
     "output_type": "stream",
     "text": [
      "Ranks Progress:  30%|███       | 39/129 [04:01<09:26,  6.29s/rank]"
     ]
    },
    {
     "name": "stdout",
     "output_type": "stream",
     "text": [
      "Error :0.2784492045542763\n",
      "Error :0.6865575001767943\n",
      "Error :0.5187784196483729\n",
      "Error :0.42097098236573716\n",
      "Error :0.3690648948506802\n",
      "Error :0.3398053379265096\n",
      "Error :0.3186177177603237\n",
      "Error :0.3097303201344212\n",
      "Error :0.29192693227158817\n",
      "Error :0.2814757453695055\n"
     ]
    },
    {
     "name": "stderr",
     "output_type": "stream",
     "text": [
      "Ranks Progress:  31%|███       | 40/129 [04:07<09:32,  6.44s/rank]"
     ]
    },
    {
     "name": "stdout",
     "output_type": "stream",
     "text": [
      "Error :0.27280819303989207\n",
      "Error :0.7129984416851772\n",
      "Error :0.5196784480737915\n",
      "Error :0.418815674624928\n",
      "Error :0.3725255064670516\n",
      "Error :0.33993356998975893\n",
      "Error :0.3196469813630732\n",
      "Error :0.30154143542131273\n",
      "Error :0.29450278128069335\n",
      "Error :0.27986543570836475\n"
     ]
    },
    {
     "name": "stderr",
     "output_type": "stream",
     "text": [
      "Ranks Progress:  32%|███▏      | 41/129 [04:14<09:28,  6.46s/rank]"
     ]
    },
    {
     "name": "stdout",
     "output_type": "stream",
     "text": [
      "Error :0.27232844129442624\n",
      "Error :0.6815964388888063\n",
      "Error :0.5537754991263962\n",
      "Error :0.4349399487489614\n",
      "Error :0.3784942698550389\n",
      "Error :0.34652003511985247\n",
      "Error :0.3200403126074481\n",
      "Error :0.3026422192339347\n",
      "Error :0.28964972459831756\n",
      "Error :0.2812588634714633\n"
     ]
    },
    {
     "name": "stderr",
     "output_type": "stream",
     "text": [
      "Ranks Progress:  33%|███▎      | 42/129 [04:20<09:07,  6.29s/rank]"
     ]
    },
    {
     "name": "stdout",
     "output_type": "stream",
     "text": [
      "Error :0.2742035524559316\n",
      "Error :0.6619348133900608\n",
      "Error :0.5145684711100693\n",
      "Error :0.4337643592191773\n",
      "Error :0.3778030007386153\n",
      "Error :0.3508312902709251\n",
      "Error :0.31727961720544795\n",
      "Error :0.30310030761880863\n",
      "Error :0.2905503875033541\n",
      "Error :0.2783795585382874\n"
     ]
    },
    {
     "name": "stderr",
     "output_type": "stream",
     "text": [
      "Ranks Progress:  33%|███▎      | 43/129 [04:25<08:39,  6.04s/rank]"
     ]
    },
    {
     "name": "stdout",
     "output_type": "stream",
     "text": [
      "Error :0.2744926819355676\n",
      "Error :0.682860496728109\n",
      "Error :0.5257984016759931\n",
      "Error :0.437230450067721\n",
      "Error :0.37638282374298954\n",
      "Error :0.34243438272306076\n",
      "Error :0.3180606877029229\n",
      "Error :0.2950176024468966\n",
      "Error :0.28882791924835005\n",
      "Error :0.2795160185043129\n"
     ]
    },
    {
     "name": "stderr",
     "output_type": "stream",
     "text": [
      "Ranks Progress:  34%|███▍      | 44/129 [04:31<08:31,  6.01s/rank]"
     ]
    },
    {
     "name": "stdout",
     "output_type": "stream",
     "text": [
      "Error :0.2707191188421694\n",
      "Error :0.6800659668667294\n",
      "Error :0.5208477961022471\n",
      "Error :0.423278472500089\n",
      "Error :0.36151526938588696\n",
      "Error :0.3446593972779385\n",
      "Error :0.3148776953045769\n",
      "Error :0.30389300161758126\n",
      "Error :0.294552894285886\n",
      "Error :0.28026543187710745\n"
     ]
    },
    {
     "name": "stderr",
     "output_type": "stream",
     "text": [
      "Ranks Progress:  35%|███▍      | 45/129 [04:37<08:21,  5.97s/rank]"
     ]
    },
    {
     "name": "stdout",
     "output_type": "stream",
     "text": [
      "Error :0.2708912268615179\n",
      "Error :0.7032465167213202\n",
      "Error :0.5234254929694698\n",
      "Error :0.4271738757880984\n",
      "Error :0.3742249765282496\n",
      "Error :0.34753380577011656\n",
      "Error :0.32417528158690645\n",
      "Error :0.29415340840438936\n",
      "Error :0.29177352088222064\n",
      "Error :0.28005006089015105\n"
     ]
    },
    {
     "name": "stderr",
     "output_type": "stream",
     "text": [
      "Ranks Progress:  36%|███▌      | 46/129 [04:43<08:16,  5.98s/rank]"
     ]
    },
    {
     "name": "stdout",
     "output_type": "stream",
     "text": [
      "Error :0.26876941961153833\n",
      "Error :0.6707545579368602\n",
      "Error :0.533828911791419\n",
      "Error :0.4376936638301573\n",
      "Error :0.371244029935967\n",
      "Error :0.3455650348485977\n",
      "Error :0.3160314825490038\n",
      "Error :0.30711046078062504\n",
      "Error :0.2849627529390198\n",
      "Error :0.28011816534831147\n"
     ]
    },
    {
     "name": "stderr",
     "output_type": "stream",
     "text": [
      "Ranks Progress:  36%|███▋      | 47/129 [04:49<08:14,  6.02s/rank]"
     ]
    },
    {
     "name": "stdout",
     "output_type": "stream",
     "text": [
      "Error :0.2681525255729001\n",
      "Error :0.6827470415686434\n",
      "Error :0.5264299466661687\n",
      "Error :0.43588829641685084\n",
      "Error :0.37627809331601114\n",
      "Error :0.3412424199183134\n",
      "Error :0.3153088218861115\n",
      "Error :0.29992499602902006\n",
      "Error :0.29053186859849256\n",
      "Error :0.2769273824963341\n"
     ]
    },
    {
     "name": "stderr",
     "output_type": "stream",
     "text": [
      "Ranks Progress:  37%|███▋      | 48/129 [04:55<08:10,  6.05s/rank]"
     ]
    },
    {
     "name": "stdout",
     "output_type": "stream",
     "text": [
      "Error :0.26630200420183453\n",
      "Error :0.694333915996213\n",
      "Error :0.5143155916286318\n",
      "Error :0.4550013097352007\n",
      "Error :0.3680190349093566\n",
      "Error :0.3480060023461377\n",
      "Error :0.31915578613985945\n",
      "Error :0.2961983738616841\n",
      "Error :0.2850059973804076\n",
      "Error :0.27905331522606464\n"
     ]
    },
    {
     "name": "stderr",
     "output_type": "stream",
     "text": [
      "Ranks Progress:  38%|███▊      | 49/129 [05:02<08:22,  6.28s/rank]"
     ]
    },
    {
     "name": "stdout",
     "output_type": "stream",
     "text": [
      "Error :0.2672848155062539\n",
      "Error :0.709287091944243\n",
      "Error :0.5328328325198016\n",
      "Error :0.44780421644207974\n",
      "Error :0.37174048381191493\n",
      "Error :0.34380626358222477\n",
      "Error :0.3101181032199451\n",
      "Error :0.2991383067221653\n",
      "Error :0.2852497014404279\n",
      "Error :0.2754734757768615\n"
     ]
    },
    {
     "name": "stderr",
     "output_type": "stream",
     "text": [
      "Ranks Progress:  39%|███▉      | 50/129 [05:08<08:18,  6.31s/rank]"
     ]
    },
    {
     "name": "stdout",
     "output_type": "stream",
     "text": [
      "Error :0.2667289509481712\n",
      "Error :0.7001392215386647\n",
      "Error :0.5142244617794683\n",
      "Error :0.44535097042119537\n",
      "Error :0.3763315474789348\n",
      "Error :0.34372106474466985\n",
      "Error :0.31536745861305454\n",
      "Error :0.2981699059992848\n",
      "Error :0.28711184445302473\n",
      "Error :0.2729254386374392\n"
     ]
    },
    {
     "name": "stderr",
     "output_type": "stream",
     "text": [
      "Ranks Progress:  40%|███▉      | 51/129 [05:15<08:19,  6.41s/rank]"
     ]
    },
    {
     "name": "stdout",
     "output_type": "stream",
     "text": [
      "Error :0.2668943180447655\n",
      "Error :0.7117994367863495\n",
      "Error :0.5506386651528903\n",
      "Error :0.4367024636443561\n",
      "Error :0.3753034956766139\n",
      "Error :0.3446634735739977\n",
      "Error :0.3089258135390219\n",
      "Error :0.29357158652295473\n",
      "Error :0.2808323655578269\n",
      "Error :0.2792086342418267\n"
     ]
    },
    {
     "name": "stderr",
     "output_type": "stream",
     "text": [
      "Ranks Progress:  40%|████      | 52/129 [05:22<08:13,  6.41s/rank]"
     ]
    },
    {
     "name": "stdout",
     "output_type": "stream",
     "text": [
      "Error :0.26282450780834554\n",
      "Error :0.7205599012973453\n",
      "Error :0.5462065546565058\n",
      "Error :0.43017026994646307\n",
      "Error :0.3692892726265569\n",
      "Error :0.342728655288558\n",
      "Error :0.3153648819169235\n",
      "Error :0.29136390825897235\n",
      "Error :0.28327291218490197\n",
      "Error :0.27219010156672485\n"
     ]
    },
    {
     "name": "stderr",
     "output_type": "stream",
     "text": [
      "Ranks Progress:  41%|████      | 53/129 [05:29<08:41,  6.86s/rank]"
     ]
    },
    {
     "name": "stdout",
     "output_type": "stream",
     "text": [
      "Error :0.2643491429306637\n",
      "Error :0.6960141565868059\n",
      "Error :0.5148197883400737\n",
      "Error :0.44371996654207363\n",
      "Error :0.38232163841935934\n",
      "Error :0.3388658170217494\n",
      "Error :0.31761452154300285\n",
      "Error :0.29473550706096185\n",
      "Error :0.2839382382380209\n",
      "Error :0.273370784874691\n"
     ]
    },
    {
     "name": "stderr",
     "output_type": "stream",
     "text": [
      "Ranks Progress:  42%|████▏     | 54/129 [05:36<08:27,  6.76s/rank]"
     ]
    },
    {
     "name": "stdout",
     "output_type": "stream",
     "text": [
      "Error :0.2649362676826377\n",
      "Error :0.6800603447768371\n",
      "Error :0.5265492792919559\n",
      "Error :0.42988152130854784\n",
      "Error :0.3694387734833102\n",
      "Error :0.33948925035524014\n",
      "Error :0.31207374613988265\n",
      "Error :0.29433067734709284\n",
      "Error :0.2810544601350612\n",
      "Error :0.2693485732491734\n"
     ]
    },
    {
     "name": "stderr",
     "output_type": "stream",
     "text": [
      "Ranks Progress:  43%|████▎     | 55/129 [05:43<08:19,  6.75s/rank]"
     ]
    },
    {
     "name": "stdout",
     "output_type": "stream",
     "text": [
      "Error :0.2623833954183208\n",
      "Error :0.6682654271644772\n",
      "Error :0.517058056998936\n",
      "Error :0.42341420305493177\n",
      "Error :0.37120857033641397\n",
      "Error :0.33655936874387576\n",
      "Error :0.31950277152968665\n",
      "Error :0.2952045736160326\n",
      "Error :0.2828954480537388\n",
      "Error :0.2693115090707215\n"
     ]
    },
    {
     "name": "stderr",
     "output_type": "stream",
     "text": [
      "Ranks Progress:  43%|████▎     | 56/129 [05:49<08:00,  6.58s/rank]"
     ]
    },
    {
     "name": "stdout",
     "output_type": "stream",
     "text": [
      "Error :0.26424957493537593\n",
      "Error :0.6885223151470722\n",
      "Error :0.525436779228791\n",
      "Error :0.4288677542040121\n",
      "Error :0.35981927170739003\n",
      "Error :0.33434896261316815\n",
      "Error :0.30570017188487364\n",
      "Error :0.2960300949277082\n",
      "Error :0.28127155947329713\n",
      "Error :0.27048626736909875\n"
     ]
    },
    {
     "name": "stderr",
     "output_type": "stream",
     "text": [
      "Ranks Progress:  44%|████▍     | 57/129 [05:55<07:48,  6.51s/rank]"
     ]
    },
    {
     "name": "stdout",
     "output_type": "stream",
     "text": [
      "Error :0.2631263856295663\n",
      "Error :0.6793277387009333\n",
      "Error :0.548422207449913\n",
      "Error :0.41941206759880306\n",
      "Error :0.38294103547299185\n",
      "Error :0.3408249804087908\n",
      "Error :0.30978618555918414\n",
      "Error :0.29545952616993126\n",
      "Error :0.2841777250489493\n",
      "Error :0.27389118661465706\n"
     ]
    },
    {
     "name": "stderr",
     "output_type": "stream",
     "text": [
      "Ranks Progress:  45%|████▍     | 58/129 [06:02<07:48,  6.60s/rank]"
     ]
    },
    {
     "name": "stdout",
     "output_type": "stream",
     "text": [
      "Error :0.26190429848355995\n",
      "Error :0.7102865750000408\n",
      "Error :0.49749857415134674\n",
      "Error :0.4270412319781057\n",
      "Error :0.3781349583120865\n",
      "Error :0.34641236338323544\n",
      "Error :0.3172395990609878\n",
      "Error :0.2941133487953206\n",
      "Error :0.2810725137165099\n",
      "Error :0.2687592434265379\n"
     ]
    },
    {
     "name": "stderr",
     "output_type": "stream",
     "text": [
      "Ranks Progress:  46%|████▌     | 59/129 [06:08<07:34,  6.49s/rank]"
     ]
    },
    {
     "name": "stdout",
     "output_type": "stream",
     "text": [
      "Error :0.26076119808908615\n",
      "Error :0.6909780129409651\n",
      "Error :0.5191803514738476\n",
      "Error :0.42116974914708044\n",
      "Error :0.3918555053534981\n",
      "Error :0.33655420805442093\n",
      "Error :0.3143699125893433\n",
      "Error :0.29136863282554487\n",
      "Error :0.2795928721949214\n",
      "Error :0.27078220369569495\n"
     ]
    },
    {
     "name": "stderr",
     "output_type": "stream",
     "text": [
      "Ranks Progress:  47%|████▋     | 60/129 [06:15<07:28,  6.51s/rank]"
     ]
    },
    {
     "name": "stdout",
     "output_type": "stream",
     "text": [
      "Error :0.26364661644854975\n",
      "Error :0.6927796984103588\n",
      "Error :0.5110663366165502\n",
      "Error :0.41976660122095916\n",
      "Error :0.3821107617741177\n",
      "Error :0.34859547964792653\n",
      "Error :0.3195876827322286\n",
      "Error :0.2915953782902506\n",
      "Error :0.2786440027377183\n",
      "Error :0.266138240181257\n"
     ]
    },
    {
     "name": "stderr",
     "output_type": "stream",
     "text": [
      "Ranks Progress:  47%|████▋     | 61/129 [06:21<07:23,  6.52s/rank]"
     ]
    },
    {
     "name": "stdout",
     "output_type": "stream",
     "text": [
      "Error :0.2596853940946258\n",
      "Error :0.7335135322473709\n",
      "Error :0.5163328779583238\n",
      "Error :0.421639526829901\n",
      "Error :0.38497006549904433\n",
      "Error :0.35274037622418614\n",
      "Error :0.3098320229441381\n",
      "Error :0.2972387286789015\n",
      "Error :0.27954794177707937\n",
      "Error :0.27322380175360705\n"
     ]
    },
    {
     "name": "stderr",
     "output_type": "stream",
     "text": [
      "Ranks Progress:  48%|████▊     | 62/129 [06:27<07:08,  6.40s/rank]"
     ]
    },
    {
     "name": "stdout",
     "output_type": "stream",
     "text": [
      "Error :0.2559162708821915\n",
      "Error :0.6750593211648701\n",
      "Error :0.5243184873527017\n",
      "Error :0.4302544730913311\n",
      "Error :0.37917435050394865\n",
      "Error :0.33184765107261754\n",
      "Error :0.31140898137902984\n",
      "Error :0.2947923438722099\n",
      "Error :0.27633249089074774\n",
      "Error :0.2685153788522817\n"
     ]
    },
    {
     "name": "stderr",
     "output_type": "stream",
     "text": [
      "Ranks Progress:  49%|████▉     | 63/129 [06:34<07:01,  6.39s/rank]"
     ]
    },
    {
     "name": "stdout",
     "output_type": "stream",
     "text": [
      "Error :0.2588945228787132\n",
      "Error :0.6821986445238788\n",
      "Error :0.5164768049749943\n",
      "Error :0.43148238960277574\n",
      "Error :0.3743925589986839\n",
      "Error :0.3417897499030043\n",
      "Error :0.3086837265569991\n",
      "Error :0.2872349308896392\n",
      "Error :0.27927139830267855\n",
      "Error :0.2649049410744926\n"
     ]
    },
    {
     "name": "stderr",
     "output_type": "stream",
     "text": [
      "Ranks Progress:  50%|████▉     | 64/129 [06:40<06:51,  6.33s/rank]"
     ]
    },
    {
     "name": "stdout",
     "output_type": "stream",
     "text": [
      "Error :0.25768992588380885\n",
      "Error :0.6835025741337202\n",
      "Error :0.518353560173059\n",
      "Error :0.4300114764150111\n",
      "Error :0.3735287531910921\n",
      "Error :0.33434242849203416\n",
      "Error :0.30634668943566484\n",
      "Error :0.2935916657554362\n",
      "Error :0.2765806805157719\n",
      "Error :0.2643583456733372\n"
     ]
    },
    {
     "name": "stderr",
     "output_type": "stream",
     "text": [
      "Ranks Progress:  50%|█████     | 65/129 [06:46<06:44,  6.31s/rank]"
     ]
    },
    {
     "name": "stdout",
     "output_type": "stream",
     "text": [
      "Error :0.2597567549882219\n",
      "Error :0.7266007983454451\n",
      "Error :0.5066103719004907\n",
      "Error :0.4301736034373481\n",
      "Error :0.3874161472262373\n",
      "Error :0.33630845809985\n",
      "Error :0.3069920106032168\n",
      "Error :0.29064070717861323\n",
      "Error :0.2769000501401954\n",
      "Error :0.2659880686164577\n"
     ]
    },
    {
     "name": "stderr",
     "output_type": "stream",
     "text": [
      "Ranks Progress:  51%|█████     | 66/129 [06:53<06:37,  6.31s/rank]"
     ]
    },
    {
     "name": "stdout",
     "output_type": "stream",
     "text": [
      "Error :0.2575271778997096\n",
      "Error :0.7143518845422486\n",
      "Error :0.5464220258754334\n",
      "Error :0.4302521258872876\n",
      "Error :0.3768968875927895\n",
      "Error :0.3364062014276159\n",
      "Error :0.3227988936445543\n",
      "Error :0.29208701066658305\n",
      "Error :0.2794786512924228\n",
      "Error :0.2655187035404218\n"
     ]
    },
    {
     "name": "stderr",
     "output_type": "stream",
     "text": [
      "Ranks Progress:  52%|█████▏    | 67/129 [06:59<06:31,  6.32s/rank]"
     ]
    },
    {
     "name": "stdout",
     "output_type": "stream",
     "text": [
      "Error :0.25594149277695055\n",
      "Error :0.7153236672351505\n",
      "Error :0.5295358484425201\n",
      "Error :0.4428207954432162\n",
      "Error :0.3715017425885828\n",
      "Error :0.33229420291130685\n",
      "Error :0.313390195270281\n",
      "Error :0.2930964574417451\n",
      "Error :0.2783895374132792\n",
      "Error :0.2643706952019423\n"
     ]
    },
    {
     "name": "stderr",
     "output_type": "stream",
     "text": [
      "Ranks Progress:  53%|█████▎    | 68/129 [07:05<06:28,  6.37s/rank]"
     ]
    },
    {
     "name": "stdout",
     "output_type": "stream",
     "text": [
      "Error :0.2572693256865573\n",
      "Error :0.7006128498970222\n",
      "Error :0.5381289212303361\n",
      "Error :0.4430710024754991\n",
      "Error :0.3712719241436871\n",
      "Error :0.34583306136890346\n",
      "Error :0.31627486803730753\n",
      "Error :0.2917669109836911\n",
      "Error :0.2748203599470201\n",
      "Error :0.2631578129573107\n"
     ]
    },
    {
     "name": "stderr",
     "output_type": "stream",
     "text": [
      "Ranks Progress:  53%|█████▎    | 69/129 [07:13<06:36,  6.61s/rank]"
     ]
    },
    {
     "name": "stdout",
     "output_type": "stream",
     "text": [
      "Error :0.25193236782851175\n",
      "Error :0.6629293935510248\n",
      "Error :0.5130239327713663\n",
      "Error :0.41678424800767805\n",
      "Error :0.3753206509610473\n",
      "Error :0.3409691346939248\n",
      "Error :0.3085800245027138\n",
      "Error :0.28847334105572925\n",
      "Error :0.27652722597166934\n",
      "Error :0.26093892953250925\n"
     ]
    },
    {
     "name": "stderr",
     "output_type": "stream",
     "text": [
      "Ranks Progress:  54%|█████▍    | 70/129 [07:19<06:28,  6.58s/rank]"
     ]
    },
    {
     "name": "stdout",
     "output_type": "stream",
     "text": [
      "Error :0.2554482834152511\n",
      "Error :0.6968595441860993\n",
      "Error :0.512739229167607\n",
      "Error :0.4534028311210765\n",
      "Error :0.3858852568331095\n",
      "Error :0.3399640051063548\n",
      "Error :0.3146517642355063\n",
      "Error :0.2909427154298394\n",
      "Error :0.2781993160397996\n",
      "Error :0.266415769108343\n"
     ]
    },
    {
     "name": "stderr",
     "output_type": "stream",
     "text": [
      "Ranks Progress:  55%|█████▌    | 71/129 [07:25<06:11,  6.41s/rank]"
     ]
    },
    {
     "name": "stdout",
     "output_type": "stream",
     "text": [
      "Error :0.25405075947408906\n",
      "Error :0.6790712157686153\n",
      "Error :0.51870868773373\n",
      "Error :0.44298132011614977\n",
      "Error :0.38383301370059314\n",
      "Error :0.3384326519959981\n",
      "Error :0.3133895810491136\n",
      "Error :0.295121217342177\n",
      "Error :0.27783332268076744\n",
      "Error :0.2625210674977388\n"
     ]
    },
    {
     "name": "stderr",
     "output_type": "stream",
     "text": [
      "Ranks Progress:  56%|█████▌    | 72/129 [07:31<05:57,  6.27s/rank]"
     ]
    },
    {
     "name": "stdout",
     "output_type": "stream",
     "text": [
      "Error :0.2567620748021547\n",
      "Error :0.6886357210904557\n",
      "Error :0.5084489985261837\n",
      "Error :0.4468447577027147\n",
      "Error :0.3659046998502154\n",
      "Error :0.33835057212798986\n",
      "Error :0.3137950537587939\n",
      "Error :0.2917102071975097\n",
      "Error :0.2777623607611537\n",
      "Error :0.2639784708200704\n"
     ]
    },
    {
     "name": "stderr",
     "output_type": "stream",
     "text": [
      "Ranks Progress:  57%|█████▋    | 73/129 [07:37<05:46,  6.18s/rank]"
     ]
    },
    {
     "name": "stdout",
     "output_type": "stream",
     "text": [
      "Error :0.25332957917581783\n",
      "Error :0.6835716014204639\n",
      "Error :0.5278767442651777\n",
      "Error :0.4207704200164163\n",
      "Error :0.37612525922620377\n",
      "Error :0.3384703913694045\n",
      "Error :0.32061851658825075\n",
      "Error :0.29105011286638843\n",
      "Error :0.2757704336259171\n",
      "Error :0.26351596966057717\n"
     ]
    },
    {
     "name": "stderr",
     "output_type": "stream",
     "text": [
      "Ranks Progress:  57%|█████▋    | 74/129 [07:43<05:36,  6.11s/rank]"
     ]
    },
    {
     "name": "stdout",
     "output_type": "stream",
     "text": [
      "Error :0.2547867084170268\n",
      "Error :0.6878633394327911\n",
      "Error :0.5056021537303704\n",
      "Error :0.44643439453080214\n",
      "Error :0.38250939950544954\n",
      "Error :0.3421263845462299\n",
      "Error :0.30881616494751357\n",
      "Error :0.28933106808615733\n",
      "Error :0.27687039780585293\n",
      "Error :0.26542123833148423\n"
     ]
    },
    {
     "name": "stderr",
     "output_type": "stream",
     "text": [
      "Ranks Progress:  58%|█████▊    | 75/129 [07:49<05:26,  6.05s/rank]"
     ]
    },
    {
     "name": "stdout",
     "output_type": "stream",
     "text": [
      "Error :0.25428651368368715\n",
      "Error :0.6953457713706983\n",
      "Error :0.5085693550920395\n",
      "Error :0.4214890748941745\n",
      "Error :0.38130586358587365\n",
      "Error :0.3554108643616121\n",
      "Error :0.30731886741854003\n",
      "Error :0.29366521950218244\n",
      "Error :0.27681257716850866\n",
      "Error :0.26332489038190104\n"
     ]
    },
    {
     "name": "stderr",
     "output_type": "stream",
     "text": [
      "Ranks Progress:  59%|█████▉    | 76/129 [07:55<05:20,  6.05s/rank]"
     ]
    },
    {
     "name": "stdout",
     "output_type": "stream",
     "text": [
      "Error :0.25296581703450105\n",
      "Error :0.6910500220633514\n",
      "Error :0.5352829050452926\n",
      "Error :0.4637677073254993\n",
      "Error :0.38815204765452205\n",
      "Error :0.33849377857359464\n",
      "Error :0.3172628644193862\n",
      "Error :0.2909538174123961\n",
      "Error :0.27238087879880196\n",
      "Error :0.26330382057973056\n"
     ]
    },
    {
     "name": "stderr",
     "output_type": "stream",
     "text": [
      "Ranks Progress:  60%|█████▉    | 77/129 [08:01<05:13,  6.03s/rank]"
     ]
    },
    {
     "name": "stdout",
     "output_type": "stream",
     "text": [
      "Error :0.25234012764504427\n",
      "Error :0.6961528377309075\n",
      "Error :0.5421208857115595\n",
      "Error :0.436453630342017\n",
      "Error :0.3743281464132809\n",
      "Error :0.35024987959608417\n",
      "Error :0.30988676118743097\n",
      "Error :0.2894448750425942\n",
      "Error :0.27369082480670565\n",
      "Error :0.26127955841309786\n"
     ]
    },
    {
     "name": "stderr",
     "output_type": "stream",
     "text": [
      "Ranks Progress:  60%|██████    | 78/129 [08:07<05:06,  6.00s/rank]"
     ]
    },
    {
     "name": "stdout",
     "output_type": "stream",
     "text": [
      "Error :0.25366753549865556\n",
      "Error :0.6425350928985823\n",
      "Error :0.5207913728862326\n",
      "Error :0.4393479046130715\n",
      "Error :0.3716331387628997\n",
      "Error :0.3457948573014754\n",
      "Error :0.30823395863982955\n",
      "Error :0.2906674346387508\n",
      "Error :0.2756260756416009\n",
      "Error :0.26243973500970774\n"
     ]
    },
    {
     "name": "stderr",
     "output_type": "stream",
     "text": [
      "Ranks Progress:  61%|██████    | 79/129 [08:13<05:01,  6.03s/rank]"
     ]
    },
    {
     "name": "stdout",
     "output_type": "stream",
     "text": [
      "Error :0.25289179199425543\n",
      "Error :0.6781084356049157\n",
      "Error :0.5284981567608266\n",
      "Error :0.4218483226785874\n",
      "Error :0.3704755771151021\n",
      "Error :0.33408169330178317\n",
      "Error :0.3142104255150874\n",
      "Error :0.2898716520847278\n",
      "Error :0.2728421120102897\n",
      "Error :0.26114293299540436\n"
     ]
    },
    {
     "name": "stderr",
     "output_type": "stream",
     "text": [
      "Ranks Progress:  62%|██████▏   | 80/129 [08:19<04:53,  6.00s/rank]"
     ]
    },
    {
     "name": "stdout",
     "output_type": "stream",
     "text": [
      "Error :0.2507951788664393\n",
      "Error :0.7077783783418745\n",
      "Error :0.5341892219606554\n",
      "Error :0.42773718329636945\n",
      "Error :0.37492548122350006\n",
      "Error :0.3472985898991454\n",
      "Error :0.3113692649397449\n",
      "Error :0.29252652124876993\n",
      "Error :0.2753728069694812\n",
      "Error :0.2613684056003152\n"
     ]
    },
    {
     "name": "stderr",
     "output_type": "stream",
     "text": [
      "Ranks Progress:  63%|██████▎   | 81/129 [08:25<04:47,  5.99s/rank]"
     ]
    },
    {
     "name": "stdout",
     "output_type": "stream",
     "text": [
      "Error :0.254024533935653\n",
      "Error :0.7363262773536066\n",
      "Error :0.5252241432695873\n",
      "Error :0.4341862827786908\n",
      "Error :0.389014602329767\n",
      "Error :0.3461806842413515\n",
      "Error :0.3167247826447669\n",
      "Error :0.29067371504113393\n",
      "Error :0.2712693885203074\n",
      "Error :0.2648925552833885\n"
     ]
    },
    {
     "name": "stderr",
     "output_type": "stream",
     "text": [
      "Ranks Progress:  64%|██████▎   | 82/129 [08:31<04:40,  5.98s/rank]"
     ]
    },
    {
     "name": "stdout",
     "output_type": "stream",
     "text": [
      "Error :0.249684764097174\n",
      "Error :0.714532996121208\n",
      "Error :0.49447691032189434\n",
      "Error :0.42179784041880714\n",
      "Error :0.38086414293502396\n",
      "Error :0.33607669191631295\n",
      "Error :0.316867133785834\n",
      "Error :0.29017359133185266\n",
      "Error :0.2699859908384948\n",
      "Error :0.2594467033243979\n"
     ]
    },
    {
     "name": "stderr",
     "output_type": "stream",
     "text": [
      "Ranks Progress:  64%|██████▍   | 83/129 [08:37<04:36,  6.02s/rank]"
     ]
    },
    {
     "name": "stdout",
     "output_type": "stream",
     "text": [
      "Error :0.251785800959384\n",
      "Error :0.6604666673595297\n",
      "Error :0.506141159858388\n",
      "Error :0.4109522823297297\n",
      "Error :0.37257316797648965\n",
      "Error :0.32614411451062875\n",
      "Error :0.3145471589059701\n",
      "Error :0.28775817658639824\n",
      "Error :0.2715374445281565\n",
      "Error :0.25771440109732685\n"
     ]
    },
    {
     "name": "stderr",
     "output_type": "stream",
     "text": [
      "Ranks Progress:  65%|██████▌   | 84/129 [08:43<04:30,  6.02s/rank]"
     ]
    },
    {
     "name": "stdout",
     "output_type": "stream",
     "text": [
      "Error :0.24676241550204914\n",
      "Error :0.6728466476736106\n",
      "Error :0.5441303521901576\n",
      "Error :0.436618299978866\n",
      "Error :0.359005135784511\n",
      "Error :0.33925806487655785\n",
      "Error :0.306677491548564\n",
      "Error :0.28861987044470455\n",
      "Error :0.2739696152898465\n",
      "Error :0.2632351871775548\n"
     ]
    },
    {
     "name": "stderr",
     "output_type": "stream",
     "text": [
      "Ranks Progress:  66%|██████▌   | 85/129 [08:49<04:22,  5.98s/rank]"
     ]
    },
    {
     "name": "stdout",
     "output_type": "stream",
     "text": [
      "Error :0.2493337967950802\n",
      "Error :0.7203723895294095\n",
      "Error :0.5262845133309257\n",
      "Error :0.42761650438189097\n",
      "Error :0.3811068836935191\n",
      "Error :0.33812471026280555\n",
      "Error :0.3062205293339444\n",
      "Error :0.28589020044736263\n",
      "Error :0.27117591876015246\n",
      "Error :0.2581840229527626\n"
     ]
    },
    {
     "name": "stderr",
     "output_type": "stream",
     "text": [
      "Ranks Progress:  67%|██████▋   | 86/129 [08:55<04:22,  6.10s/rank]"
     ]
    },
    {
     "name": "stdout",
     "output_type": "stream",
     "text": [
      "Error :0.24807015499943147\n",
      "Error :0.6828276646962953\n",
      "Error :0.500117007424198\n",
      "Error :0.4389329152834607\n",
      "Error :0.3844870398360063\n",
      "Error :0.34470220080138125\n",
      "Error :0.30840630628241095\n",
      "Error :0.2885755943875614\n",
      "Error :0.27202720681275366\n",
      "Error :0.2615390309735556\n"
     ]
    },
    {
     "name": "stderr",
     "output_type": "stream",
     "text": [
      "Ranks Progress:  67%|██████▋   | 87/129 [09:01<04:15,  6.08s/rank]"
     ]
    },
    {
     "name": "stdout",
     "output_type": "stream",
     "text": [
      "Error :0.24836707384163384\n",
      "Error :0.702381369901298\n",
      "Error :0.5429689758609922\n",
      "Error :0.4264390026873356\n",
      "Error :0.3846492573596403\n",
      "Error :0.33617031211694925\n",
      "Error :0.30512586438606726\n",
      "Error :0.2884054721630562\n",
      "Error :0.2736012158363763\n",
      "Error :0.25778694976586225\n"
     ]
    },
    {
     "name": "stderr",
     "output_type": "stream",
     "text": [
      "Ranks Progress:  68%|██████▊   | 88/129 [09:07<04:04,  5.96s/rank]"
     ]
    },
    {
     "name": "stdout",
     "output_type": "stream",
     "text": [
      "Error :0.252962885982498\n",
      "Error :0.7126148178280315\n",
      "Error :0.5319128839863057\n",
      "Error :0.4441094199676905\n",
      "Error :0.3810401870342645\n",
      "Error :0.33707903621409496\n",
      "Error :0.3212928372071971\n",
      "Error :0.28936247599409065\n",
      "Error :0.273547242983241\n",
      "Error :0.25987398568110476\n"
     ]
    },
    {
     "name": "stderr",
     "output_type": "stream",
     "text": [
      "Ranks Progress:  69%|██████▉   | 89/129 [09:13<04:02,  6.06s/rank]"
     ]
    },
    {
     "name": "stdout",
     "output_type": "stream",
     "text": [
      "Error :0.24768492608585863\n",
      "Error :0.6513451619170757\n",
      "Error :0.5135795630208537\n",
      "Error :0.4403146670422178\n",
      "Error :0.38120036178831723\n",
      "Error :0.3368729702895813\n",
      "Error :0.31451560642535636\n",
      "Error :0.287811507861635\n",
      "Error :0.2724866575652695\n",
      "Error :0.25918446988242533\n"
     ]
    },
    {
     "name": "stderr",
     "output_type": "stream",
     "text": [
      "Ranks Progress:  70%|██████▉   | 90/129 [09:19<03:55,  6.03s/rank]"
     ]
    },
    {
     "name": "stdout",
     "output_type": "stream",
     "text": [
      "Error :0.25366790769926734\n",
      "Error :0.6956399068696535\n",
      "Error :0.5161829390243796\n",
      "Error :0.4294347923167367\n",
      "Error :0.3755319033839174\n",
      "Error :0.345215363125461\n",
      "Error :0.31752048671300764\n",
      "Error :0.29202403613883504\n",
      "Error :0.27021302256507707\n",
      "Error :0.2609245438701243\n"
     ]
    },
    {
     "name": "stderr",
     "output_type": "stream",
     "text": [
      "Ranks Progress:  71%|███████   | 91/129 [09:25<03:47,  5.97s/rank]"
     ]
    },
    {
     "name": "stdout",
     "output_type": "stream",
     "text": [
      "Error :0.24757117971660716\n",
      "Error :0.6674426111237399\n",
      "Error :0.5139079853489882\n",
      "Error :0.4531641801113444\n",
      "Error :0.38513196655860676\n",
      "Error :0.3392505796308111\n",
      "Error :0.312091297004688\n",
      "Error :0.28874136247530197\n",
      "Error :0.2710897059928989\n",
      "Error :0.25833932201966897\n"
     ]
    },
    {
     "name": "stderr",
     "output_type": "stream",
     "text": [
      "Ranks Progress:  71%|███████▏  | 92/129 [09:31<03:40,  5.96s/rank]"
     ]
    },
    {
     "name": "stdout",
     "output_type": "stream",
     "text": [
      "Error :0.24812247499879406\n",
      "Error :0.695816371415335\n",
      "Error :0.5243378813875662\n",
      "Error :0.4399177642493812\n",
      "Error :0.3770644006348296\n",
      "Error :0.33555946214950205\n",
      "Error :0.3081097497362581\n",
      "Error :0.28716644105066536\n",
      "Error :0.2726091351239182\n",
      "Error :0.2589749336529782\n"
     ]
    },
    {
     "name": "stderr",
     "output_type": "stream",
     "text": [
      "Ranks Progress:  72%|███████▏  | 93/129 [09:37<03:33,  5.93s/rank]"
     ]
    },
    {
     "name": "stdout",
     "output_type": "stream",
     "text": [
      "Error :0.24903026997946126\n",
      "Error :0.6781567424205647\n",
      "Error :0.5282931021993154\n",
      "Error :0.4427778128445914\n",
      "Error :0.3794986318710757\n",
      "Error :0.33837354276699877\n",
      "Error :0.31167222211046924\n",
      "Error :0.29059044265085077\n",
      "Error :0.2726349046503081\n",
      "Error :0.25698449824783187\n"
     ]
    },
    {
     "name": "stderr",
     "output_type": "stream",
     "text": [
      "Ranks Progress:  73%|███████▎  | 94/129 [09:43<03:27,  5.93s/rank]"
     ]
    },
    {
     "name": "stdout",
     "output_type": "stream",
     "text": [
      "Error :0.2450649168852196\n",
      "Error :0.6495092250278766\n",
      "Error :0.5435972279078085\n",
      "Error :0.4242930344382815\n",
      "Error :0.3703761001638251\n",
      "Error :0.3417108019071376\n",
      "Error :0.3152589627962721\n",
      "Error :0.28749863039093787\n",
      "Error :0.2708565111363956\n",
      "Error :0.2609144256017557\n"
     ]
    },
    {
     "name": "stderr",
     "output_type": "stream",
     "text": [
      "Ranks Progress:  74%|███████▎  | 95/129 [09:49<03:21,  5.94s/rank]"
     ]
    },
    {
     "name": "stdout",
     "output_type": "stream",
     "text": [
      "Error :0.24795772580549708\n",
      "Error :0.7057480482609805\n",
      "Error :0.49467623054969917\n",
      "Error :0.4210307372823555\n",
      "Error :0.37742513308932907\n",
      "Error :0.3353820709720382\n",
      "Error :0.30776014508323596\n",
      "Error :0.2855373609591267\n",
      "Error :0.2747819073332369\n",
      "Error :0.2580350725042208\n"
     ]
    },
    {
     "name": "stderr",
     "output_type": "stream",
     "text": [
      "Ranks Progress:  74%|███████▍  | 96/129 [09:55<03:17,  5.97s/rank]"
     ]
    },
    {
     "name": "stdout",
     "output_type": "stream",
     "text": [
      "Error :0.24749222688088213\n",
      "Error :0.7284751168114779\n",
      "Error :0.5602594406523185\n",
      "Error :0.4311606740734516\n",
      "Error :0.37527451468729023\n",
      "Error :0.3361739659211232\n",
      "Error :0.3080368282067437\n",
      "Error :0.28859788836078487\n",
      "Error :0.2701250605648095\n",
      "Error :0.2590994892844027\n"
     ]
    },
    {
     "name": "stderr",
     "output_type": "stream",
     "text": [
      "Ranks Progress:  75%|███████▌  | 97/129 [10:01<03:10,  5.97s/rank]"
     ]
    },
    {
     "name": "stdout",
     "output_type": "stream",
     "text": [
      "Error :0.2459138582587612\n",
      "Error :0.7014931473022534\n",
      "Error :0.5209986042450279\n",
      "Error :0.42401911923740276\n",
      "Error :0.38680055098996685\n",
      "Error :0.3394790017807166\n",
      "Error :0.30598005732213324\n",
      "Error :0.2894207013027932\n",
      "Error :0.2736933425237302\n",
      "Error :0.25528582170321723\n"
     ]
    },
    {
     "name": "stderr",
     "output_type": "stream",
     "text": [
      "Ranks Progress:  76%|███████▌  | 98/129 [10:07<03:04,  5.96s/rank]"
     ]
    },
    {
     "name": "stdout",
     "output_type": "stream",
     "text": [
      "Error :0.24709732497410167\n",
      "Error :0.6913345707511679\n",
      "Error :0.5278567622609281\n",
      "Error :0.41622562586872514\n",
      "Error :0.37546919134102713\n",
      "Error :0.34395745752394014\n",
      "Error :0.30896135525581775\n",
      "Error :0.2874668284864306\n",
      "Error :0.27239414061779005\n",
      "Error :0.2583129223827854\n"
     ]
    },
    {
     "name": "stderr",
     "output_type": "stream",
     "text": [
      "Ranks Progress:  77%|███████▋  | 99/129 [10:13<02:57,  5.93s/rank]"
     ]
    },
    {
     "name": "stdout",
     "output_type": "stream",
     "text": [
      "Error :0.2458161893971017\n",
      "Error :0.7098109623429896\n",
      "Error :0.5200001908619003\n",
      "Error :0.4208828462141536\n",
      "Error :0.3741305538229418\n",
      "Error :0.3419297342025629\n",
      "Error :0.30580017905201856\n",
      "Error :0.28938339468751995\n",
      "Error :0.2749069771613193\n",
      "Error :0.25892511235491117\n"
     ]
    },
    {
     "name": "stderr",
     "output_type": "stream",
     "text": [
      "Ranks Progress:  78%|███████▊  | 100/129 [10:18<02:52,  5.93s/rank]"
     ]
    },
    {
     "name": "stdout",
     "output_type": "stream",
     "text": [
      "Error :0.2485267572761608\n",
      "Error :0.6973255671690197\n",
      "Error :0.48667026035529376\n",
      "Error :0.425676352048482\n",
      "Error :0.3723904581009963\n",
      "Error :0.34242266674498284\n",
      "Error :0.31165370657999336\n",
      "Error :0.29099109463021633\n",
      "Error :0.27145072337584414\n",
      "Error :0.25810834623305406\n"
     ]
    },
    {
     "name": "stderr",
     "output_type": "stream",
     "text": [
      "Ranks Progress:  78%|███████▊  | 101/129 [10:24<02:45,  5.90s/rank]"
     ]
    },
    {
     "name": "stdout",
     "output_type": "stream",
     "text": [
      "Error :0.24548026095263561\n",
      "Error :0.6858736426566259\n",
      "Error :0.5180700126870671\n",
      "Error :0.43233979685141277\n",
      "Error :0.3776870639071411\n",
      "Error :0.3347141775421727\n",
      "Error :0.31246689842678244\n",
      "Error :0.28923822929134974\n",
      "Error :0.27615741194486576\n",
      "Error :0.25657028356969513\n"
     ]
    },
    {
     "name": "stderr",
     "output_type": "stream",
     "text": [
      "Ranks Progress:  79%|███████▉  | 102/129 [10:30<02:40,  5.96s/rank]"
     ]
    },
    {
     "name": "stdout",
     "output_type": "stream",
     "text": [
      "Error :0.24723787896174382\n",
      "Error :0.6677436955099454\n",
      "Error :0.5477909042154457\n",
      "Error :0.42635928733936523\n",
      "Error :0.37302312284955613\n",
      "Error :0.3373820200551029\n",
      "Error :0.30925718315549294\n",
      "Error :0.2911556987641232\n",
      "Error :0.27548815839388996\n",
      "Error :0.2571166934518426\n"
     ]
    },
    {
     "name": "stderr",
     "output_type": "stream",
     "text": [
      "Ranks Progress:  80%|███████▉  | 103/129 [10:36<02:34,  5.95s/rank]"
     ]
    },
    {
     "name": "stdout",
     "output_type": "stream",
     "text": [
      "Error :0.2474733827269212\n",
      "Error :0.6706040259611674\n",
      "Error :0.5253047855095996\n",
      "Error :0.42752839122566766\n",
      "Error :0.3636251994827379\n",
      "Error :0.34100116998946906\n",
      "Error :0.30806829230680094\n",
      "Error :0.29206701081594266\n",
      "Error :0.270643956042101\n",
      "Error :0.25682814432070494\n"
     ]
    },
    {
     "name": "stderr",
     "output_type": "stream",
     "text": [
      "Ranks Progress:  81%|████████  | 104/129 [10:42<02:28,  5.94s/rank]"
     ]
    },
    {
     "name": "stdout",
     "output_type": "stream",
     "text": [
      "Error :0.24370750878998826\n",
      "Error :0.6917327845015875\n",
      "Error :0.542276049564599\n",
      "Error :0.44108695131174197\n",
      "Error :0.3762726974707524\n",
      "Error :0.3366771547904762\n",
      "Error :0.31681017046981735\n",
      "Error :0.29006715188856863\n",
      "Error :0.2736009879483168\n",
      "Error :0.2548096467330238\n"
     ]
    },
    {
     "name": "stderr",
     "output_type": "stream",
     "text": [
      "Ranks Progress:  81%|████████▏ | 105/129 [10:48<02:22,  5.94s/rank]"
     ]
    },
    {
     "name": "stdout",
     "output_type": "stream",
     "text": [
      "Error :0.24668914890437407\n",
      "Error :0.6670405989795339\n",
      "Error :0.5498782388106896\n",
      "Error :0.4436920083067273\n",
      "Error :0.37814320022178427\n",
      "Error :0.33730322268955315\n",
      "Error :0.3154522782504568\n",
      "Error :0.291225759877538\n",
      "Error :0.27132287038590885\n",
      "Error :0.25889204292550166\n"
     ]
    },
    {
     "name": "stderr",
     "output_type": "stream",
     "text": [
      "Ranks Progress:  82%|████████▏ | 106/129 [10:54<02:15,  5.90s/rank]"
     ]
    },
    {
     "name": "stdout",
     "output_type": "stream",
     "text": [
      "Error :0.24731602622918858\n",
      "Error :0.7007801832043113\n",
      "Error :0.5554779712171725\n",
      "Error :0.43698620431668556\n",
      "Error :0.3794657179023453\n",
      "Error :0.3383989466172802\n",
      "Error :0.31064196209615763\n",
      "Error :0.28924102726546896\n",
      "Error :0.2730224114885863\n",
      "Error :0.25973585864524934\n"
     ]
    },
    {
     "name": "stderr",
     "output_type": "stream",
     "text": [
      "Ranks Progress:  83%|████████▎ | 107/129 [11:00<02:10,  5.93s/rank]"
     ]
    },
    {
     "name": "stdout",
     "output_type": "stream",
     "text": [
      "Error :0.2465799152417742\n",
      "Error :0.6867138101438567\n",
      "Error :0.504575894491592\n",
      "Error :0.435923632580029\n",
      "Error :0.37373064948921153\n",
      "Error :0.32311704503423944\n",
      "Error :0.3149193131712388\n",
      "Error :0.28912272930772687\n",
      "Error :0.2764953639004809\n",
      "Error :0.2577256676293858\n"
     ]
    },
    {
     "name": "stderr",
     "output_type": "stream",
     "text": [
      "Ranks Progress:  84%|████████▎ | 108/129 [11:06<02:04,  5.91s/rank]"
     ]
    },
    {
     "name": "stdout",
     "output_type": "stream",
     "text": [
      "Error :0.2441358810744397\n",
      "Error :0.690148766124985\n",
      "Error :0.5470636022572998\n",
      "Error :0.438819389173224\n",
      "Error :0.37793430058425376\n",
      "Error :0.3322895067281954\n",
      "Error :0.30684238817916126\n",
      "Error :0.29373446202123216\n",
      "Error :0.2751991334859375\n",
      "Error :0.25659731107666295\n"
     ]
    },
    {
     "name": "stderr",
     "output_type": "stream",
     "text": [
      "Ranks Progress:  84%|████████▍ | 109/129 [11:12<01:58,  5.91s/rank]"
     ]
    },
    {
     "name": "stdout",
     "output_type": "stream",
     "text": [
      "Error :0.24558962304486498\n",
      "Error :0.7270749785705555\n",
      "Error :0.5152649317701186\n",
      "Error :0.4338773594717375\n",
      "Error :0.3734957064966272\n",
      "Error :0.34290551671970826\n",
      "Error :0.31238257070673997\n",
      "Error :0.28952114943357593\n",
      "Error :0.2713668283829101\n",
      "Error :0.25413211684799747\n"
     ]
    },
    {
     "name": "stderr",
     "output_type": "stream",
     "text": [
      "Ranks Progress:  85%|████████▌ | 110/129 [11:18<01:52,  5.91s/rank]"
     ]
    },
    {
     "name": "stdout",
     "output_type": "stream",
     "text": [
      "Error :0.2472763067990013\n",
      "Error :0.689593011518408\n",
      "Error :0.5311968976036439\n",
      "Error :0.42018922395550257\n",
      "Error :0.3597241675092283\n",
      "Error :0.33452279333216367\n",
      "Error :0.3083544346929186\n",
      "Error :0.2940533645761953\n",
      "Error :0.27244878157073543\n",
      "Error :0.2598111398780864\n"
     ]
    },
    {
     "name": "stderr",
     "output_type": "stream",
     "text": [
      "Ranks Progress:  86%|████████▌ | 111/129 [11:24<01:46,  5.90s/rank]"
     ]
    },
    {
     "name": "stdout",
     "output_type": "stream",
     "text": [
      "Error :0.24573758495007192\n",
      "Error :0.7275612632394873\n",
      "Error :0.5362913801788022\n",
      "Error :0.44382781403464716\n",
      "Error :0.3749982143553013\n",
      "Error :0.3363318825787526\n",
      "Error :0.3018170856012339\n",
      "Error :0.2895575367797756\n",
      "Error :0.27049282288423027\n",
      "Error :0.2562467772752496\n"
     ]
    },
    {
     "name": "stderr",
     "output_type": "stream",
     "text": [
      "Ranks Progress:  87%|████████▋ | 112/129 [11:29<01:40,  5.90s/rank]"
     ]
    },
    {
     "name": "stdout",
     "output_type": "stream",
     "text": [
      "Error :0.24608454079207606\n",
      "Error :0.719762009466486\n",
      "Error :0.5361527708446432\n",
      "Error :0.44224307409505603\n",
      "Error :0.37480356945356086\n",
      "Error :0.33420831538706586\n",
      "Error :0.31031246496605647\n",
      "Error :0.2883916097835064\n",
      "Error :0.27375904824213676\n",
      "Error :0.2552398412041378\n"
     ]
    },
    {
     "name": "stderr",
     "output_type": "stream",
     "text": [
      "Ranks Progress:  88%|████████▊ | 113/129 [11:36<01:38,  6.17s/rank]"
     ]
    },
    {
     "name": "stdout",
     "output_type": "stream",
     "text": [
      "Error :0.24715271973895178\n",
      "Error :0.6961471867916909\n",
      "Error :0.5262074932992983\n",
      "Error :0.4278179998727531\n",
      "Error :0.3654325000188633\n",
      "Error :0.3402362548253645\n",
      "Error :0.30760600661051174\n",
      "Error :0.29355928144579496\n",
      "Error :0.2711896888609655\n",
      "Error :0.2558771647966669\n"
     ]
    },
    {
     "name": "stderr",
     "output_type": "stream",
     "text": [
      "Ranks Progress:  88%|████████▊ | 114/129 [11:43<01:35,  6.39s/rank]"
     ]
    },
    {
     "name": "stdout",
     "output_type": "stream",
     "text": [
      "Error :0.24522332692166812\n",
      "Error :0.68467951387407\n",
      "Error :0.5393276126113478\n",
      "Error :0.43495090240645434\n",
      "Error :0.37101197608687947\n",
      "Error :0.3309926194727323\n",
      "Error :0.30894794791714525\n",
      "Error :0.28801517908902924\n",
      "Error :0.2792401641119832\n",
      "Error :0.25739676400955513\n"
     ]
    },
    {
     "name": "stderr",
     "output_type": "stream",
     "text": [
      "Ranks Progress:  89%|████████▉ | 115/129 [11:50<01:31,  6.54s/rank]"
     ]
    },
    {
     "name": "stdout",
     "output_type": "stream",
     "text": [
      "Error :0.2468060294893902\n",
      "Error :0.7078229891475052\n",
      "Error :0.5489879247287589\n",
      "Error :0.4390684875511793\n",
      "Error :0.37123766431729244\n",
      "Error :0.3411614163612776\n",
      "Error :0.30946791806678337\n",
      "Error :0.2915117657476745\n",
      "Error :0.27410672317538776\n",
      "Error :0.2613630751776267\n"
     ]
    },
    {
     "name": "stderr",
     "output_type": "stream",
     "text": [
      "Ranks Progress:  90%|████████▉ | 116/129 [11:58<01:29,  6.87s/rank]"
     ]
    },
    {
     "name": "stdout",
     "output_type": "stream",
     "text": [
      "Error :0.2452361978956559\n",
      "Error :0.7082064415240243\n",
      "Error :0.5394444731468473\n",
      "Error :0.4275192688016899\n",
      "Error :0.37149779051674703\n",
      "Error :0.33426616475914295\n",
      "Error :0.3149691005294675\n",
      "Error :0.29138734951256506\n",
      "Error :0.2745161127099062\n",
      "Error :0.2606256300388339\n"
     ]
    },
    {
     "name": "stderr",
     "output_type": "stream",
     "text": [
      "Ranks Progress:  91%|█████████ | 117/129 [12:04<01:22,  6.85s/rank]"
     ]
    },
    {
     "name": "stdout",
     "output_type": "stream",
     "text": [
      "Error :0.24535270972691406\n",
      "Error :0.689231794867616\n",
      "Error :0.5259373525397332\n",
      "Error :0.4238627021186793\n",
      "Error :0.3714415027444032\n",
      "Error :0.3419558218117626\n",
      "Error :0.31821187902577375\n",
      "Error :0.2871882803210186\n",
      "Error :0.2731973537355216\n",
      "Error :0.25979020187743246\n"
     ]
    },
    {
     "name": "stderr",
     "output_type": "stream",
     "text": [
      "Ranks Progress:  91%|█████████▏| 118/129 [12:11<01:14,  6.75s/rank]"
     ]
    },
    {
     "name": "stdout",
     "output_type": "stream",
     "text": [
      "Error :0.245991118250089\n",
      "Error :0.6954040141192787\n",
      "Error :0.5321429386107462\n",
      "Error :0.44537131223038234\n",
      "Error :0.37303464216048854\n",
      "Error :0.333635822209732\n",
      "Error :0.3206128004511856\n",
      "Error :0.29286998123207003\n",
      "Error :0.2749567223215197\n",
      "Error :0.25834804364056085\n"
     ]
    },
    {
     "name": "stderr",
     "output_type": "stream",
     "text": [
      "Ranks Progress:  92%|█████████▏| 119/129 [12:18<01:07,  6.73s/rank]"
     ]
    },
    {
     "name": "stdout",
     "output_type": "stream",
     "text": [
      "Error :0.24560322442824273\n",
      "Error :0.6739016043412172\n",
      "Error :0.5520310273204244\n",
      "Error :0.43738906286364987\n",
      "Error :0.36392056696080105\n",
      "Error :0.3421921772232274\n",
      "Error :0.3157350463320437\n",
      "Error :0.29406677992449815\n",
      "Error :0.2712357539386747\n",
      "Error :0.2581340027771606\n"
     ]
    },
    {
     "name": "stderr",
     "output_type": "stream",
     "text": [
      "Ranks Progress:  93%|█████████▎| 120/129 [12:24<00:59,  6.59s/rank]"
     ]
    },
    {
     "name": "stdout",
     "output_type": "stream",
     "text": [
      "Error :0.2471180238404716\n",
      "Error :0.6705284313816285\n",
      "Error :0.526386966195506\n",
      "Error :0.43296481721186464\n",
      "Error :0.3824501044779367\n",
      "Error :0.33796238509234877\n",
      "Error :0.3146299764777272\n",
      "Error :0.2933465319604575\n",
      "Error :0.27210318686594487\n",
      "Error :0.2614368509267204\n"
     ]
    },
    {
     "name": "stderr",
     "output_type": "stream",
     "text": [
      "Ranks Progress:  94%|█████████▍| 121/129 [12:30<00:52,  6.54s/rank]"
     ]
    },
    {
     "name": "stdout",
     "output_type": "stream",
     "text": [
      "Error :0.24646249157749203\n",
      "Error :0.7091027339974263\n",
      "Error :0.5343955404872898\n",
      "Error :0.42523338442057373\n",
      "Error :0.3868964705556973\n",
      "Error :0.33452650341805024\n",
      "Error :0.3144261124275281\n",
      "Error :0.2931757315717639\n",
      "Error :0.2763180964295272\n",
      "Error :0.2567738471931004\n"
     ]
    },
    {
     "name": "stderr",
     "output_type": "stream",
     "text": [
      "Ranks Progress:  95%|█████████▍| 122/129 [12:37<00:45,  6.46s/rank]"
     ]
    },
    {
     "name": "stdout",
     "output_type": "stream",
     "text": [
      "Error :0.2466604838973013\n",
      "Error :0.7075118961499802\n",
      "Error :0.5099684881706414\n",
      "Error :0.4480563357333689\n",
      "Error :0.37565606075325536\n",
      "Error :0.3425527384041991\n",
      "Error :0.3103472337125173\n",
      "Error :0.2902972749284403\n",
      "Error :0.2726049044210281\n",
      "Error :0.25524860148484774\n"
     ]
    },
    {
     "name": "stderr",
     "output_type": "stream",
     "text": [
      "Ranks Progress:  95%|█████████▌| 123/129 [12:43<00:38,  6.47s/rank]"
     ]
    },
    {
     "name": "stdout",
     "output_type": "stream",
     "text": [
      "Error :0.2467660924833714\n",
      "Error :0.7033474335621257\n",
      "Error :0.523878492079337\n",
      "Error :0.42863837495975005\n",
      "Error :0.38521923815136555\n",
      "Error :0.33709249649701595\n",
      "Error :0.3096369912078761\n",
      "Error :0.28869328208170564\n",
      "Error :0.2713456141490506\n",
      "Error :0.2632555949134575\n"
     ]
    },
    {
     "name": "stderr",
     "output_type": "stream",
     "text": [
      "Ranks Progress:  96%|█████████▌| 124/129 [12:49<00:31,  6.33s/rank]"
     ]
    },
    {
     "name": "stdout",
     "output_type": "stream",
     "text": [
      "Error :0.2463032309560638\n",
      "Error :0.6892881902827301\n",
      "Error :0.5173237588125739\n",
      "Error :0.4370906077153284\n",
      "Error :0.38316951103122354\n",
      "Error :0.3380644217642921\n",
      "Error :0.31005696107888275\n",
      "Error :0.2933441792572922\n",
      "Error :0.274412525930213\n",
      "Error :0.2575332555762954\n"
     ]
    },
    {
     "name": "stderr",
     "output_type": "stream",
     "text": [
      "Ranks Progress:  97%|█████████▋| 125/129 [12:55<00:24,  6.24s/rank]"
     ]
    },
    {
     "name": "stdout",
     "output_type": "stream",
     "text": [
      "Error :0.24435031284870187\n",
      "Error :0.7024969548677555\n",
      "Error :0.5440417318769941\n",
      "Error :0.4383029034887464\n",
      "Error :0.3746978326904736\n",
      "Error :0.33778996273091844\n",
      "Error :0.30490179832766134\n",
      "Error :0.28633470276017264\n",
      "Error :0.2727589459993869\n",
      "Error :0.25935303328689946\n"
     ]
    },
    {
     "name": "stderr",
     "output_type": "stream",
     "text": [
      "Ranks Progress:  98%|█████████▊| 126/129 [13:01<00:18,  6.18s/rank]"
     ]
    },
    {
     "name": "stdout",
     "output_type": "stream",
     "text": [
      "Error :0.2447478319905823\n",
      "Error :0.7022855596067085\n",
      "Error :0.49955636997088243\n",
      "Error :0.4419053990124531\n",
      "Error :0.3695364660674213\n",
      "Error :0.3376696828090444\n",
      "Error :0.3063996573273942\n",
      "Error :0.2838972621813134\n",
      "Error :0.27067830283933353\n",
      "Error :0.2577974688260093\n"
     ]
    },
    {
     "name": "stderr",
     "output_type": "stream",
     "text": [
      "Ranks Progress:  98%|█████████▊| 127/129 [13:07<00:12,  6.14s/rank]"
     ]
    },
    {
     "name": "stdout",
     "output_type": "stream",
     "text": [
      "Error :0.24523560556231397\n",
      "Error :0.6949681394291805\n",
      "Error :0.5336808399665901\n",
      "Error :0.42268269737743286\n",
      "Error :0.38556847414114076\n",
      "Error :0.3465060986330717\n",
      "Error :0.31437620740159394\n",
      "Error :0.2941959533129191\n",
      "Error :0.27413908493783146\n",
      "Error :0.25842664014773703\n"
     ]
    },
    {
     "name": "stderr",
     "output_type": "stream",
     "text": [
      "Ranks Progress:  99%|█████████▉| 128/129 [13:14<00:06,  6.20s/rank]"
     ]
    },
    {
     "name": "stdout",
     "output_type": "stream",
     "text": [
      "Error :0.24519618898843304\n",
      "Error :0.679740225683944\n",
      "Error :0.5402310335010104\n",
      "Error :0.432428785082457\n",
      "Error :0.37505983817706245\n",
      "Error :0.33562981244260154\n",
      "Error :0.3142845436502837\n",
      "Error :0.2890442601046364\n",
      "Error :0.27132348900505027\n",
      "Error :0.25759559982247837\n"
     ]
    },
    {
     "name": "stderr",
     "output_type": "stream",
     "text": [
      "Ranks Progress: 100%|██████████| 129/129 [13:20<00:00,  6.21s/rank]"
     ]
    },
    {
     "name": "stdout",
     "output_type": "stream",
     "text": [
      "Error :0.24606492294663487\n"
     ]
    },
    {
     "name": "stderr",
     "output_type": "stream",
     "text": [
      "\n"
     ]
    },
    {
     "name": "stdout",
     "output_type": "stream",
     "text": [
      "Results successfully saved to ../Dataset/Section_2_test_2_for_loadMatrixA_1.csv.\n"
     ]
    },
    {
     "name": "stderr",
     "output_type": "stream",
     "text": [
      "Ranks Progress:   0%|          | 0/129 [00:00<?, ?rank/s]"
     ]
    },
    {
     "name": "stdout",
     "output_type": "stream",
     "text": [
      "Error :1.0\n",
      "Error :1.0\n",
      "Error :1.0\n",
      "Error :1.0\n",
      "Error :1.0\n",
      "Error :1.0\n"
     ]
    },
    {
     "name": "stderr",
     "output_type": "stream",
     "text": [
      "Ranks Progress:   0%|          | 0/129 [00:03<?, ?rank/s]"
     ]
    },
    {
     "name": "stdout",
     "output_type": "stream",
     "text": [
      "Error :1.0\n"
     ]
    },
    {
     "name": "stderr",
     "output_type": "stream",
     "text": [
      "\n"
     ]
    },
    {
     "ename": "LinAlgError",
     "evalue": "Matrix is not positive definite",
     "output_type": "error",
     "traceback": [
      "\u001b[0;31m---------------------------------------------------------------------------\u001b[0m",
      "\u001b[0;31mLinAlgError\u001b[0m                               Traceback (most recent call last)",
      "Cell \u001b[0;32mIn[26], line 2\u001b[0m\n\u001b[1;32m      1\u001b[0m collect_low_rank_errors(A\u001b[38;5;241m=\u001b[39mloadMatrix_A_1, output_file\u001b[38;5;241m=\u001b[39m\u001b[38;5;124m'\u001b[39m\u001b[38;5;124m../Dataset/Section_2_test_2_for_loadMatrixA_1.csv\u001b[39m\u001b[38;5;124m'\u001b[39m)\n\u001b[0;32m----> 2\u001b[0m \u001b[43mcollect_low_rank_errors\u001b[49m\u001b[43m(\u001b[49m\u001b[43mA\u001b[49m\u001b[38;5;241;43m=\u001b[39;49m\u001b[43mloadMatrix_A_2\u001b[49m\u001b[43m,\u001b[49m\u001b[43m \u001b[49m\u001b[43moutput_file\u001b[49m\u001b[38;5;241;43m=\u001b[39;49m\u001b[38;5;124;43m'\u001b[39;49m\u001b[38;5;124;43m../Dataset/Section_2_test_2_for_loadMatrixA_2.csv\u001b[39;49m\u001b[38;5;124;43m'\u001b[39;49m\u001b[43m)\u001b[49m\n\u001b[1;32m      3\u001b[0m collect_low_rank_errors(A\u001b[38;5;241m=\u001b[39mloadMatrix_A_3, output_file\u001b[38;5;241m=\u001b[39m\u001b[38;5;124m'\u001b[39m\u001b[38;5;124m../Dataset/Section_2_test_2_for_loadMatrixA_3.csv\u001b[39m\u001b[38;5;124m'\u001b[39m)\n",
      "Cell \u001b[0;32mIn[24], line 28\u001b[0m, in \u001b[0;36mcollect_low_rank_errors\u001b[0;34m(A, max_rank, sketch_dims, sketch_method, output_file)\u001b[0m\n\u001b[1;32m     25\u001b[0m \u001b[38;5;28;01mfor\u001b[39;00m rank \u001b[38;5;129;01min\u001b[39;00m tqdm(\u001b[38;5;28mrange\u001b[39m(max_rank \u001b[38;5;241m+\u001b[39m \u001b[38;5;241m1\u001b[39m), desc\u001b[38;5;241m=\u001b[39m\u001b[38;5;124m\"\u001b[39m\u001b[38;5;124mRanks Progress\u001b[39m\u001b[38;5;124m\"\u001b[39m, unit\u001b[38;5;241m=\u001b[39m\u001b[38;5;124m\"\u001b[39m\u001b[38;5;124mrank\u001b[39m\u001b[38;5;124m\"\u001b[39m):\n\u001b[1;32m     26\u001b[0m     \u001b[38;5;28;01mfor\u001b[39;00m sketch_dim \u001b[38;5;129;01min\u001b[39;00m sketch_dims:\n\u001b[1;32m     27\u001b[0m         \u001b[38;5;66;03m# Compute the error\u001b[39;00m\n\u001b[0;32m---> 28\u001b[0m         error \u001b[38;5;241m=\u001b[39m \u001b[43mgetLowRank\u001b[49m\u001b[43m(\u001b[49m\u001b[43mA\u001b[49m\u001b[43m,\u001b[49m\u001b[43m \u001b[49m\u001b[43mrank\u001b[49m\u001b[43m,\u001b[49m\u001b[43m \u001b[49m\u001b[43msketch_dim\u001b[49m\u001b[43m,\u001b[49m\u001b[43m \u001b[49m\u001b[43msketch_method\u001b[49m\u001b[43m)\u001b[49m\n\u001b[1;32m     29\u001b[0m         \u001b[38;5;66;03m# Append results with clear column names\u001b[39;00m\n\u001b[1;32m     30\u001b[0m         results\u001b[38;5;241m.\u001b[39mappend({\n\u001b[1;32m     31\u001b[0m             \u001b[38;5;124m'\u001b[39m\u001b[38;5;124mApproximation Rank\u001b[39m\u001b[38;5;124m'\u001b[39m: rank,\n\u001b[1;32m     32\u001b[0m             \u001b[38;5;124m'\u001b[39m\u001b[38;5;124mSketch Dimension\u001b[39m\u001b[38;5;124m'\u001b[39m: sketch_dim,\n\u001b[1;32m     33\u001b[0m             \u001b[38;5;124m'\u001b[39m\u001b[38;5;124mError Value\u001b[39m\u001b[38;5;124m'\u001b[39m: error,\n\u001b[1;32m     34\u001b[0m             \u001b[38;5;124m'\u001b[39m\u001b[38;5;124mSketch Method\u001b[39m\u001b[38;5;124m'\u001b[39m: sketch_method  \u001b[38;5;66;03m# Added for better traceability\u001b[39;00m\n\u001b[1;32m     35\u001b[0m         })\n",
      "Cell \u001b[0;32mIn[17], line 86\u001b[0m, in \u001b[0;36mgetLowRank\u001b[0;34m(A, rank, sketch_dim, sketch_method, good_conditionned, print_times)\u001b[0m\n\u001b[1;32m     83\u001b[0m \u001b[38;5;28;01mif\u001b[39;00m good_conditionned:\n\u001b[1;32m     84\u001b[0m     \u001b[38;5;66;03m# Use Cholesky decomposition\u001b[39;00m\n\u001b[1;32m     85\u001b[0m     cholesky_start \u001b[38;5;241m=\u001b[39m time\u001b[38;5;241m.\u001b[39mtime()\n\u001b[0;32m---> 86\u001b[0m     L \u001b[38;5;241m=\u001b[39m \u001b[43mnp\u001b[49m\u001b[38;5;241;43m.\u001b[39;49m\u001b[43mlinalg\u001b[49m\u001b[38;5;241;43m.\u001b[39;49m\u001b[43mcholesky\u001b[49m\u001b[43m(\u001b[49m\u001b[43mB\u001b[49m\u001b[43m)\u001b[49m\n\u001b[1;32m     87\u001b[0m     \u001b[38;5;28;01mif\u001b[39;00m print_times:\n\u001b[1;32m     88\u001b[0m         \u001b[38;5;28mprint\u001b[39m(\u001b[38;5;124mf\u001b[39m\u001b[38;5;124m\"\u001b[39m\u001b[38;5;124mCholesky decomposition completed in \u001b[39m\u001b[38;5;132;01m{\u001b[39;00mtime\u001b[38;5;241m.\u001b[39mtime()\u001b[38;5;250m \u001b[39m\u001b[38;5;241m-\u001b[39m\u001b[38;5;250m \u001b[39mcholesky_start\u001b[38;5;132;01m:\u001b[39;00m\u001b[38;5;124m.6f\u001b[39m\u001b[38;5;132;01m}\u001b[39;00m\u001b[38;5;124m seconds.\u001b[39m\u001b[38;5;124m\"\u001b[39m)\n",
      "File \u001b[0;32m~/anaconda3/envs/myenv/lib/python3.10/site-packages/numpy/linalg/linalg.py:779\u001b[0m, in \u001b[0;36mcholesky\u001b[0;34m(a)\u001b[0m\n\u001b[1;32m    777\u001b[0m t, result_t \u001b[38;5;241m=\u001b[39m _commonType(a)\n\u001b[1;32m    778\u001b[0m signature \u001b[38;5;241m=\u001b[39m \u001b[38;5;124m'\u001b[39m\u001b[38;5;124mD->D\u001b[39m\u001b[38;5;124m'\u001b[39m \u001b[38;5;28;01mif\u001b[39;00m isComplexType(t) \u001b[38;5;28;01melse\u001b[39;00m \u001b[38;5;124m'\u001b[39m\u001b[38;5;124md->d\u001b[39m\u001b[38;5;124m'\u001b[39m\n\u001b[0;32m--> 779\u001b[0m r \u001b[38;5;241m=\u001b[39m \u001b[43mgufunc\u001b[49m\u001b[43m(\u001b[49m\u001b[43ma\u001b[49m\u001b[43m,\u001b[49m\u001b[43m \u001b[49m\u001b[43msignature\u001b[49m\u001b[38;5;241;43m=\u001b[39;49m\u001b[43msignature\u001b[49m\u001b[43m,\u001b[49m\u001b[43m \u001b[49m\u001b[43mextobj\u001b[49m\u001b[38;5;241;43m=\u001b[39;49m\u001b[43mextobj\u001b[49m\u001b[43m)\u001b[49m\n\u001b[1;32m    780\u001b[0m \u001b[38;5;28;01mreturn\u001b[39;00m wrap(r\u001b[38;5;241m.\u001b[39mastype(result_t, copy\u001b[38;5;241m=\u001b[39m\u001b[38;5;28;01mFalse\u001b[39;00m))\n",
      "File \u001b[0;32m~/anaconda3/envs/myenv/lib/python3.10/site-packages/numpy/linalg/linalg.py:115\u001b[0m, in \u001b[0;36m_raise_linalgerror_nonposdef\u001b[0;34m(err, flag)\u001b[0m\n\u001b[1;32m    114\u001b[0m \u001b[38;5;28;01mdef\u001b[39;00m \u001b[38;5;21m_raise_linalgerror_nonposdef\u001b[39m(err, flag):\n\u001b[0;32m--> 115\u001b[0m     \u001b[38;5;28;01mraise\u001b[39;00m LinAlgError(\u001b[38;5;124m\"\u001b[39m\u001b[38;5;124mMatrix is not positive definite\u001b[39m\u001b[38;5;124m\"\u001b[39m)\n",
      "\u001b[0;31mLinAlgError\u001b[0m: Matrix is not positive definite"
     ]
    }
   ],
   "source": [
    "collect_low_rank_errors(A=loadMatrix_A_1, output_file='../Dataset/Section_2_test_2_for_loadMatrixA_1.csv')"
   ]
  },
  {
   "cell_type": "code",
   "execution_count": 33,
   "metadata": {},
   "outputs": [
    {
     "name": "stderr",
     "output_type": "stream",
     "text": [
      "Ranks Progress:   0%|          | 0/129 [00:00<?, ?rank/s]"
     ]
    },
    {
     "name": "stdout",
     "output_type": "stream",
     "text": [
      "Error :1.0\n",
      "Error :1.0\n",
      "Error :1.0\n",
      "Error :1.0\n",
      "Error :1.0\n",
      "Error :1.0\n",
      "Error :1.0\n",
      "Error :1.0\n",
      "Error :1.0\n"
     ]
    },
    {
     "name": "stderr",
     "output_type": "stream",
     "text": [
      "Ranks Progress:   1%|          | 1/129 [00:05<12:27,  5.84s/rank]"
     ]
    },
    {
     "name": "stdout",
     "output_type": "stream",
     "text": [
      "Error :1.0\n",
      "Error :0.911391462441659\n",
      "Error :0.9113859573054062\n",
      "Error :0.9113858987739676\n",
      "Error :0.9113858982534496\n",
      "Error :0.9113858982525439\n",
      "Error :0.9113858982525355\n",
      "Error :0.9113858982525364\n",
      "Error :0.9113858982525408\n",
      "Error :0.9113858982525379\n"
     ]
    },
    {
     "name": "stderr",
     "output_type": "stream",
     "text": [
      "Ranks Progress:   2%|▏         | 2/129 [00:11<12:43,  6.01s/rank]"
     ]
    },
    {
     "name": "stdout",
     "output_type": "stream",
     "text": [
      "Error :0.911385898252537\n",
      "Error :0.8230458141563136\n",
      "Error :0.8227723618510684\n",
      "Error :0.8227717975787143\n",
      "Error :0.8227717965180148\n",
      "Error :0.8227717965050946\n",
      "Error :0.8227717965050712\n",
      "Error :0.8227717965050743\n",
      "Error :0.8227717965050726\n",
      "Error :0.8227717965050794\n"
     ]
    },
    {
     "name": "stderr",
     "output_type": "stream",
     "text": [
      "Ranks Progress:   2%|▏         | 3/129 [00:18<12:45,  6.08s/rank]"
     ]
    },
    {
     "name": "stdout",
     "output_type": "stream",
     "text": [
      "Error :0.8227717965050741\n",
      "Error :0.7345151012015531\n",
      "Error :0.7341592471362954\n",
      "Error :0.734157699423547\n",
      "Error :0.7341576947884011\n",
      "Error :0.734157694757701\n",
      "Error :0.734157694757607\n",
      "Error :0.7341576947576107\n",
      "Error :0.7341576947576113\n",
      "Error :0.7341576947576121\n"
     ]
    },
    {
     "name": "stderr",
     "output_type": "stream",
     "text": [
      "Ranks Progress:   3%|▎         | 4/129 [00:24<12:50,  6.17s/rank]"
     ]
    },
    {
     "name": "stdout",
     "output_type": "stream",
     "text": [
      "Error :0.7341576947576085\n",
      "Error :0.6472389304340899\n",
      "Error :0.6455493565160166\n",
      "Error :0.6455436227975294\n",
      "Error :0.64554359304497\n",
      "Error :0.6455435930102562\n",
      "Error :0.6455435930101426\n",
      "Error :0.6455435930101451\n",
      "Error :0.6455435930101431\n",
      "Error :0.6455435930101435\n"
     ]
    },
    {
     "name": "stderr",
     "output_type": "stream",
     "text": [
      "Ranks Progress:   4%|▍         | 5/129 [00:30<12:56,  6.26s/rank]"
     ]
    },
    {
     "name": "stdout",
     "output_type": "stream",
     "text": [
      "Error :0.6455435930101469\n",
      "Error :0.5614517488087152\n",
      "Error :0.5569403676176988\n",
      "Error :0.5569295343719904\n",
      "Error :0.5569294913795856\n",
      "Error :0.556929491263243\n",
      "Error :0.5569294912626794\n",
      "Error :0.5569294912626851\n",
      "Error :0.5569294912626794\n",
      "Error :0.5569294912626791\n"
     ]
    },
    {
     "name": "stderr",
     "output_type": "stream",
     "text": [
      "Ranks Progress:   5%|▍         | 6/129 [00:37<12:50,  6.26s/rank]"
     ]
    },
    {
     "name": "stdout",
     "output_type": "stream",
     "text": [
      "Error :0.5569294912626781\n",
      "Error :0.4756827030359945\n",
      "Error :0.4683392649449508\n",
      "Error :0.4683154902363984\n",
      "Error :0.4683153896580411\n",
      "Error :0.4683153895170453\n",
      "Error :0.46831538951521945\n",
      "Error :0.46831538951523566\n",
      "Error :0.4683153895152163\n",
      "Error :0.46831538951521584\n"
     ]
    },
    {
     "name": "stderr",
     "output_type": "stream",
     "text": [
      "Ranks Progress:   5%|▌         | 7/129 [00:43<12:40,  6.24s/rank]"
     ]
    },
    {
     "name": "stdout",
     "output_type": "stream",
     "text": [
      "Error :0.4683153895152149\n",
      "Error :0.3999151728417513\n",
      "Error :0.379799807882244\n",
      "Error :0.37970155940044487\n",
      "Error :0.3797012882134183\n",
      "Error :0.3797012877706366\n",
      "Error :0.379701287767761\n",
      "Error :0.37970128776775125\n",
      "Error :0.3797012877677497\n",
      "Error :0.37970128776775663\n"
     ]
    },
    {
     "name": "stderr",
     "output_type": "stream",
     "text": [
      "Ranks Progress:   6%|▌         | 8/129 [00:49<12:30,  6.20s/rank]"
     ]
    },
    {
     "name": "stdout",
     "output_type": "stream",
     "text": [
      "Error :0.37970128776775086\n",
      "Error :0.3373643832950044\n",
      "Error :0.29121105248832685\n",
      "Error :0.2910880939872506\n",
      "Error :0.29108718808384315\n",
      "Error :0.29108718602869427\n",
      "Error :0.2910871860203026\n",
      "Error :0.2910871860203129\n",
      "Error :0.29108718602029005\n",
      "Error :0.29108718602029743\n"
     ]
    },
    {
     "name": "stderr",
     "output_type": "stream",
     "text": [
      "Ranks Progress:   7%|▋         | 9/129 [00:56<12:44,  6.37s/rank]"
     ]
    },
    {
     "name": "stdout",
     "output_type": "stream",
     "text": [
      "Error :0.2910871860202858\n",
      "Error :0.3081397757672719\n",
      "Error :0.20359133112984057\n",
      "Error :0.20247416356895093\n",
      "Error :0.20247308756064827\n",
      "Error :0.202473084296442\n",
      "Error :0.20247308427287183\n",
      "Error :0.20247308427283245\n",
      "Error :0.20247308427282343\n",
      "Error :0.20247308427282762\n"
     ]
    },
    {
     "name": "stderr",
     "output_type": "stream",
     "text": [
      "Ranks Progress:   8%|▊         | 10/129 [01:02<12:46,  6.44s/rank]"
     ]
    },
    {
     "name": "stdout",
     "output_type": "stream",
     "text": [
      "Error :0.20247308427282107\n",
      "Error :0.25554481300025644\n",
      "Error :0.1165083260906599\n",
      "Error :0.11386849787925832\n",
      "Error :0.11385901182295873\n",
      "Error :0.11385898259696679\n",
      "Error :0.11385898252571486\n",
      "Error :0.11385898252535946\n",
      "Error :0.11385898252535762\n",
      "Error :0.113858982525365\n"
     ]
    },
    {
     "name": "stderr",
     "output_type": "stream",
     "text": [
      "Ranks Progress:   9%|▊         | 11/129 [01:09<12:37,  6.42s/rank]"
     ]
    },
    {
     "name": "stdout",
     "output_type": "stream",
     "text": [
      "Error :0.11385898252535738\n",
      "Error :0.27812858449532085\n",
      "Error :0.06635529684933067\n",
      "Error :0.06403220618088527\n",
      "Error :0.06402772643712518\n",
      "Error :0.06402761120599022\n",
      "Error :0.06402761111823045\n",
      "Error :0.06402761111814319\n",
      "Error :0.06402761111814728\n",
      "Error :0.06402761111813848\n"
     ]
    },
    {
     "name": "stderr",
     "output_type": "stream",
     "text": [
      "Ranks Progress:   9%|▉         | 12/129 [01:15<12:27,  6.39s/rank]"
     ]
    },
    {
     "name": "stdout",
     "output_type": "stream",
     "text": [
      "Error :0.06402761111813618\n",
      "Error :0.2291100159860631\n",
      "Error :0.04139427346715637\n",
      "Error :0.03601034629542711\n",
      "Error :0.03600540048864914\n",
      "Error :0.03600537213121936\n",
      "Error :0.03600537168512432\n",
      "Error :0.03600537168495525\n",
      "Error :0.036005371684946594\n",
      "Error :0.03600537168495091\n"
     ]
    },
    {
     "name": "stderr",
     "output_type": "stream",
     "text": [
      "Ranks Progress:  10%|█         | 13/129 [01:22<12:32,  6.49s/rank]"
     ]
    },
    {
     "name": "stdout",
     "output_type": "stream",
     "text": [
      "Error :0.0360053716849469\n",
      "Error :0.23368437768914915\n",
      "Error :0.02276226589461892\n",
      "Error :0.020251504931294923\n",
      "Error :0.020247339797254776\n",
      "Error :0.020247308484066875\n",
      "Error :0.020247308427794673\n",
      "Error :0.020247308427299375\n",
      "Error :0.02024730842729444\n",
      "Error :0.02024730842730217\n"
     ]
    },
    {
     "name": "stderr",
     "output_type": "stream",
     "text": [
      "Ranks Progress:  11%|█         | 14/129 [01:28<12:35,  6.57s/rank]"
     ]
    },
    {
     "name": "stdout",
     "output_type": "stream",
     "text": [
      "Error :0.020247308427291714\n",
      "Error :0.28139328752769666\n",
      "Error :0.014490935389970044\n",
      "Error :0.01139974258042429\n",
      "Error :0.011385923880260388\n",
      "Error :0.01138589832910555\n",
      "Error :0.01138589825320227\n",
      "Error :0.011385898252540433\n",
      "Error :0.011385898252540268\n",
      "Error :0.01138589825254073\n"
     ]
    },
    {
     "name": "stderr",
     "output_type": "stream",
     "text": [
      "Ranks Progress:  12%|█▏        | 15/129 [01:35<12:23,  6.52s/rank]"
     ]
    },
    {
     "name": "stdout",
     "output_type": "stream",
     "text": [
      "Error :0.011385898252544307\n",
      "Error :0.2823982919958036\n",
      "Error :0.008982311076777515\n",
      "Error :0.006413351015675637\n",
      "Error :0.006402864371291705\n",
      "Error :0.0064027613023214785\n",
      "Error :0.0064027611120108996\n",
      "Error :0.006402761111825102\n",
      "Error :0.0064027611118260405\n",
      "Error :0.006402761111836663\n"
     ]
    },
    {
     "name": "stderr",
     "output_type": "stream",
     "text": [
      "Ranks Progress:  12%|█▏        | 16/129 [01:41<12:04,  6.41s/rank]"
     ]
    },
    {
     "name": "stdout",
     "output_type": "stream",
     "text": [
      "Error :0.006402761111816677\n",
      "Error :0.2985333500578815\n",
      "Error :0.007683172365233696\n",
      "Error :0.003611231511320982\n",
      "Error :0.0036005656076754785\n",
      "Error :0.003600537261118644\n",
      "Error :0.0036005371686176645\n",
      "Error :0.003600537168504488\n",
      "Error :0.003600537168504391\n",
      "Error :0.0036005371684996023\n"
     ]
    },
    {
     "name": "stderr",
     "output_type": "stream",
     "text": [
      "Ranks Progress:  13%|█▎        | 17/129 [01:48<12:12,  6.54s/rank]"
     ]
    },
    {
     "name": "stdout",
     "output_type": "stream",
     "text": [
      "Error :0.003600537168502362\n",
      "Error :0.22082231942270936\n",
      "Error :0.008021846939382996\n",
      "Error :0.002049339724669427\n",
      "Error :0.002024834256840059\n",
      "Error :0.0020247309504415967\n",
      "Error :0.002024730843531648\n",
      "Error :0.002024730842735954\n",
      "Error :0.0020247308427357564\n",
      "Error :0.0020247308427365513\n"
     ]
    },
    {
     "name": "stderr",
     "output_type": "stream",
     "text": [
      "Ranks Progress:  14%|█▍        | 18/129 [01:55<12:11,  6.59s/rank]"
     ]
    },
    {
     "name": "stdout",
     "output_type": "stream",
     "text": [
      "Error :0.002024730842770729\n",
      "Error :0.2431002450269735\n",
      "Error :0.008599964179709598\n",
      "Error :0.0011471929768251973\n",
      "Error :0.001138635807897216\n",
      "Error :0.0011385899988741973\n",
      "Error :0.001138589825690319\n",
      "Error :0.001138589825268346\n",
      "Error :0.0011385898252609917\n",
      "Error :0.0011385898252579234\n"
     ]
    },
    {
     "name": "stderr",
     "output_type": "stream",
     "text": [
      "Ranks Progress:  15%|█▍        | 19/129 [02:01<11:49,  6.45s/rank]"
     ]
    },
    {
     "name": "stdout",
     "output_type": "stream",
     "text": [
      "Error :0.0011385898252585566\n",
      "Error :0.26794768474982206\n",
      "Error :0.003934948085620771\n",
      "Error :0.0006632780256129762\n",
      "Error :0.0006403198996671266\n",
      "Error :0.000640276168395016\n",
      "Error :0.0006402761119542171\n",
      "Error :0.0006402761111916372\n",
      "Error :0.000640276111193022\n",
      "Error :0.0006402761112026185\n"
     ]
    },
    {
     "name": "stderr",
     "output_type": "stream",
     "text": [
      "Ranks Progress:  16%|█▌        | 20/129 [02:07<11:41,  6.44s/rank]"
     ]
    },
    {
     "name": "stdout",
     "output_type": "stream",
     "text": [
      "Error :0.000640276111184775\n",
      "Error :0.2583368255650273\n",
      "Error :0.00484841661942097\n",
      "Error :0.00037364827889719833\n",
      "Error :0.0003601210667889171\n",
      "Error :0.0003600539716909704\n",
      "Error :0.00036005371727247827\n",
      "Error :0.0003600537168646127\n",
      "Error :0.00036005371686091963\n",
      "Error :0.00036005371685550263\n"
     ]
    },
    {
     "name": "stderr",
     "output_type": "stream",
     "text": [
      "Ranks Progress:  16%|█▋        | 21/129 [02:13<11:20,  6.30s/rank]"
     ]
    },
    {
     "name": "stdout",
     "output_type": "stream",
     "text": [
      "Error :0.00036005371685231545\n",
      "Error :0.26534960817511494\n",
      "Error :0.00749112941181765\n",
      "Error :0.00022731444111433928\n",
      "Error :0.00020250766250038736\n",
      "Error :0.0002024732093693313\n",
      "Error :0.0002024730847219689\n",
      "Error :0.00020247308428861753\n",
      "Error :0.00020247308429625227\n",
      "Error :0.0002024730843336787\n"
     ]
    },
    {
     "name": "stderr",
     "output_type": "stream",
     "text": [
      "Ranks Progress:  17%|█▋        | 22/129 [02:19<11:08,  6.25s/rank]"
     ]
    },
    {
     "name": "stdout",
     "output_type": "stream",
     "text": [
      "Error :0.00020247308427811476\n",
      "Error :0.2267059963612673\n",
      "Error :0.0035189569898703174\n",
      "Error :0.00012539031952236548\n",
      "Error :0.00011390222987892602\n",
      "Error :0.00011385917725016006\n",
      "Error :0.00011385898323531342\n",
      "Error :0.00011385898254448678\n",
      "Error :0.00011385898253311656\n",
      "Error :0.00011385898253341465\n"
     ]
    },
    {
     "name": "stderr",
     "output_type": "stream",
     "text": [
      "Ranks Progress:  18%|█▊        | 23/129 [02:25<10:57,  6.20s/rank]"
     ]
    },
    {
     "name": "stdout",
     "output_type": "stream",
     "text": [
      "Error :0.00011385898252930075\n",
      "Error :0.25370074377185514\n",
      "Error :0.006239087428618871\n",
      "Error :8.010851565672684e-05\n",
      "Error :6.40650513844268e-05\n",
      "Error :6.40277369562913e-05\n",
      "Error :6.402761225501447e-05\n",
      "Error :6.402761112700632e-05\n",
      "Error :6.402761112540247e-05\n",
      "Error :6.402761112897356e-05\n"
     ]
    },
    {
     "name": "stderr",
     "output_type": "stream",
     "text": [
      "Ranks Progress:  19%|█▊        | 24/129 [02:31<10:51,  6.20s/rank]"
     ]
    },
    {
     "name": "stdout",
     "output_type": "stream",
     "text": [
      "Error :6.402761112397723e-05\n",
      "Error :0.25239287782604014\n",
      "Error :0.006963510642198585\n",
      "Error :6.87264369845545e-05\n",
      "Error :3.6077975671184246e-05\n",
      "Error :3.6005521231156555e-05\n",
      "Error :3.600537236288932e-05\n",
      "Error :3.600537171579046e-05\n",
      "Error :3.600537171172834e-05\n",
      "Error :3.600537170127929e-05\n"
     ]
    },
    {
     "name": "stderr",
     "output_type": "stream",
     "text": [
      "Ranks Progress:  19%|█▉        | 25/129 [02:38<10:43,  6.19s/rank]"
     ]
    },
    {
     "name": "stdout",
     "output_type": "stream",
     "text": [
      "Error :3.600537169741428e-05\n",
      "Error :0.2953810559438802\n",
      "Error :0.0036637097311773455\n",
      "Error :2.8696206073787267e-05\n",
      "Error :2.027708378453471e-05\n",
      "Error :2.0247501518331117e-05\n",
      "Error :2.02473090215842e-05\n",
      "Error :2.0247308441496236e-05\n",
      "Error :2.024730843526626e-05\n",
      "Error :2.0247308437770795e-05\n"
     ]
    },
    {
     "name": "stderr",
     "output_type": "stream",
     "text": [
      "Ranks Progress:  20%|██        | 26/129 [02:44<10:40,  6.22s/rank]"
     ]
    },
    {
     "name": "stdout",
     "output_type": "stream",
     "text": [
      "Error :2.0247308432314405e-05\n",
      "Error :0.27270726404014656\n",
      "Error :0.006115741633819859\n",
      "Error :2.6113228021790376e-05\n",
      "Error :1.1446447619053506e-05\n",
      "Error :1.1386005721197093e-05\n",
      "Error :1.1385899821289772e-05\n",
      "Error :1.138589827325672e-05\n",
      "Error :1.1385898301941054e-05\n",
      "Error :1.1385898263085355e-05\n"
     ]
    },
    {
     "name": "stderr",
     "output_type": "stream",
     "text": [
      "Ranks Progress:  21%|██        | 27/129 [02:50<10:31,  6.19s/rank]"
     ]
    },
    {
     "name": "stdout",
     "output_type": "stream",
     "text": [
      "Error :1.1385898258359345e-05\n",
      "Error :0.26050495423759035\n",
      "Error :0.004233975561823449\n",
      "Error :4.25251191392443e-05\n",
      "Error :6.508000075353995e-06\n",
      "Error :6.403221901165741e-06\n",
      "Error :6.402762545920115e-06\n",
      "Error :6.402761126445025e-06\n",
      "Error :6.402761143781334e-06\n",
      "Error :6.402761125163051e-06\n"
     ]
    },
    {
     "name": "stderr",
     "output_type": "stream",
     "text": [
      "Ranks Progress:  22%|██▏       | 28/129 [02:56<10:22,  6.16s/rank]"
     ]
    },
    {
     "name": "stdout",
     "output_type": "stream",
     "text": [
      "Error :6.40276112111247e-06\n",
      "Error :0.24543473486587064\n",
      "Error :0.0024191126917215275\n",
      "Error :1.9115540887238253e-05\n",
      "Error :3.6329501406709286e-06\n",
      "Error :3.6006497987620907e-06\n",
      "Error :3.6005375392385647e-06\n",
      "Error :3.6005372138267112e-06\n",
      "Error :3.6005371863532433e-06\n",
      "Error :3.6005371744444577e-06\n"
     ]
    },
    {
     "name": "stderr",
     "output_type": "stream",
     "text": [
      "Ranks Progress:  22%|██▏       | 29/129 [03:02<10:17,  6.18s/rank]"
     ]
    },
    {
     "name": "stdout",
     "output_type": "stream",
     "text": [
      "Error :3.6005371764242426e-06\n",
      "Error :0.27393579526102185\n",
      "Error :0.0029808196816472053\n",
      "Error :1.6490842970202163e-05\n",
      "Error :2.3271195496118625e-06\n",
      "Error :2.0248826599272675e-06\n",
      "Error :2.024731229078831e-06\n",
      "Error :2.024730860506333e-06\n",
      "Error :2.0247308578152106e-06\n",
      "Error :2.0247308483072446e-06\n"
     ]
    },
    {
     "name": "stderr",
     "output_type": "stream",
     "text": [
      "Ranks Progress:  23%|██▎       | 30/129 [03:09<10:12,  6.19s/rank]"
     ]
    },
    {
     "name": "stdout",
     "output_type": "stream",
     "text": [
      "Error :2.024730846773366e-06\n",
      "Error :0.22289448135422854\n",
      "Error :0.0030533401547572646\n",
      "Error :1.2786326475860844e-05\n",
      "Error :1.1931034598395494e-06\n",
      "Error :1.1387568181344873e-06\n",
      "Error :1.138590289768336e-06\n",
      "Error :1.1385898604193858e-06\n",
      "Error :1.138589860708438e-06\n",
      "Error :1.138589916148379e-06\n"
     ]
    },
    {
     "name": "stderr",
     "output_type": "stream",
     "text": [
      "Ranks Progress:  24%|██▍       | 31/129 [03:15<10:02,  6.15s/rank]"
     ]
    },
    {
     "name": "stdout",
     "output_type": "stream",
     "text": [
      "Error :1.1385898347196669e-06\n",
      "Error :0.25322339683527184\n",
      "Error :0.0031098631084985266\n",
      "Error :4.321582297879898e-05\n",
      "Error :7.071041943626762e-07\n",
      "Error :6.403464541651651e-07\n",
      "Error :6.402764447275646e-07\n",
      "Error :6.402761582531878e-07\n",
      "Error :6.4027613305907e-07\n",
      "Error :6.402761197574438e-07\n"
     ]
    },
    {
     "name": "stderr",
     "output_type": "stream",
     "text": [
      "Ranks Progress:  25%|██▍       | 32/129 [03:21<10:11,  6.31s/rank]"
     ]
    },
    {
     "name": "stdout",
     "output_type": "stream",
     "text": [
      "Error :6.402761200446231e-07\n",
      "Error :0.26908388302911523\n",
      "Error :0.008721405570330864\n",
      "Error :2.8376846030788226e-05\n",
      "Error :4.056612489798794e-07\n",
      "Error :3.602528073474796e-07\n",
      "Error :3.6005579110475943e-07\n",
      "Error :3.6005375167106953e-07\n",
      "Error :3.600537339478036e-07\n",
      "Error :3.60053738825771e-07\n"
     ]
    },
    {
     "name": "stderr",
     "output_type": "stream",
     "text": [
      "Ranks Progress:  26%|██▌       | 33/129 [03:28<10:14,  6.40s/rank]"
     ]
    },
    {
     "name": "stdout",
     "output_type": "stream",
     "text": [
      "Error :3.6005372562106765e-07\n",
      "Error :0.27428905808999104\n",
      "Error :0.0031815354791001654\n",
      "Error :2.9259009555852395e-05\n",
      "Error :2.4004244488731227e-07\n",
      "Error :2.0273267244693563e-07\n",
      "Error :2.0247359805007554e-07\n",
      "Error :2.0247312934151493e-07\n",
      "Error :2.024730981735485e-07\n",
      "Error :2.024730952339953e-07\n"
     ]
    },
    {
     "name": "stderr",
     "output_type": "stream",
     "text": [
      "Ranks Progress:  26%|██▋       | 34/129 [03:34<10:06,  6.38s/rank]"
     ]
    },
    {
     "name": "stdout",
     "output_type": "stream",
     "text": [
      "Error :2.024730923753478e-07\n",
      "Error :0.24326778140419375\n",
      "Error :0.0035718943152353642\n",
      "Error :9.560393040337052e-06\n",
      "Error :2.427650951237258e-07\n",
      "Error :1.142169947643916e-07\n",
      "Error :1.1385965579570067e-07\n",
      "Error :1.1385901047599072e-07\n",
      "Error :1.1385901634608352e-07\n",
      "Error :1.1385900089088731e-07\n"
     ]
    },
    {
     "name": "stderr",
     "output_type": "stream",
     "text": [
      "Ranks Progress:  27%|██▋       | 35/129 [03:40<09:55,  6.33s/rank]"
     ]
    },
    {
     "name": "stdout",
     "output_type": "stream",
     "text": [
      "Error :1.1385898817250076e-07\n",
      "Error :0.2959467198715322\n",
      "Error :0.0035046816753303615\n",
      "Error :2.0557035504789443e-05\n",
      "Error :1.1684603089616881e-07\n",
      "Error :6.423312982109187e-08\n",
      "Error :6.402867899463334e-08\n",
      "Error :6.402764387493911e-08\n",
      "Error :6.402762392954263e-08\n",
      "Error :6.402762930492755e-08\n"
     ]
    },
    {
     "name": "stderr",
     "output_type": "stream",
     "text": [
      "Ranks Progress:  28%|██▊       | 36/129 [03:47<09:45,  6.29s/rank]"
     ]
    },
    {
     "name": "stdout",
     "output_type": "stream",
     "text": [
      "Error :6.402761974197017e-08\n",
      "Error :0.2690433249993724\n",
      "Error :0.0049695000042731955\n",
      "Error :2.5981195205698208e-05\n",
      "Error :2.8194633703291925e-07\n",
      "Error :3.615286192942628e-08\n",
      "Error :3.6005865942952426e-08\n",
      "Error :3.60054174031016e-08\n",
      "Error :3.6005380372964124e-08\n",
      "Error :3.600539279723386e-08\n"
     ]
    },
    {
     "name": "stderr",
     "output_type": "stream",
     "text": [
      "Ranks Progress:  29%|██▊       | 37/129 [03:53<09:33,  6.24s/rank]"
     ]
    },
    {
     "name": "stdout",
     "output_type": "stream",
     "text": [
      "Error :3.600550252580486e-08\n",
      "Error :0.2749012077300813\n",
      "Error :0.00530743744694772\n",
      "Error :1.502522085123545e-05\n",
      "Error :8.072229355678046e-08\n",
      "Error :2.0811988231888075e-08\n",
      "Error :2.0247734029325937e-08\n",
      "Error :2.0247350385819115e-08\n",
      "Error :2.0247321766450344e-08\n",
      "Error :2.0247350691779327e-08\n"
     ]
    },
    {
     "name": "stderr",
     "output_type": "stream",
     "text": [
      "Ranks Progress:  29%|██▉       | 38/129 [03:59<09:20,  6.16s/rank]"
     ]
    },
    {
     "name": "stdout",
     "output_type": "stream",
     "text": [
      "Error :2.0247317773226306e-08\n",
      "Error :0.2586684454956804\n",
      "Error :0.005033292455478784\n",
      "Error :3.38735918433337e-05\n",
      "Error :5.5416000461298264e-08\n",
      "Error :1.157066470589574e-08\n",
      "Error :1.1388353711213943e-08\n",
      "Error :1.13859152463595e-08\n",
      "Error :1.1385913894966188e-08\n",
      "Error :1.1385911701247483e-08\n"
     ]
    },
    {
     "name": "stderr",
     "output_type": "stream",
     "text": [
      "Ranks Progress:  30%|███       | 39/129 [04:05<09:19,  6.22s/rank]"
     ]
    },
    {
     "name": "stdout",
     "output_type": "stream",
     "text": [
      "Error :1.1385922199703021e-08\n",
      "Error :0.28750739370189327\n",
      "Error :0.006059408472235255\n",
      "Error :3.529108928997403e-05\n",
      "Error :1.7080838417468124e-07\n",
      "Error :7.004344483564698e-09\n",
      "Error :6.404416433713933e-09\n",
      "Error :6.402784890152173e-09\n",
      "Error :6.402778190296809e-09\n",
      "Error :6.402772574451491e-09\n"
     ]
    },
    {
     "name": "stderr",
     "output_type": "stream",
     "text": [
      "Ranks Progress:  31%|███       | 40/129 [04:12<09:18,  6.28s/rank]"
     ]
    },
    {
     "name": "stdout",
     "output_type": "stream",
     "text": [
      "Error :6.402767497116083e-09\n",
      "Error :0.2626475541800618\n",
      "Error :0.005121960339691152\n",
      "Error :2.6470035781559463e-05\n",
      "Error :1.0424803098506349e-07\n",
      "Error :4.019130650361657e-09\n",
      "Error :3.601824585972458e-09\n",
      "Error :3.6005580498548216e-09\n",
      "Error :3.6005862763194365e-09\n",
      "Error :3.600555114284679e-09\n"
     ]
    },
    {
     "name": "stderr",
     "output_type": "stream",
     "text": [
      "Ranks Progress:  32%|███▏      | 41/129 [04:18<09:15,  6.32s/rank]"
     ]
    },
    {
     "name": "stdout",
     "output_type": "stream",
     "text": [
      "Error :3.60054527669895e-09\n",
      "Error :0.24581845480941597\n",
      "Error :0.009131749174616439\n",
      "Error :3.325570126489704e-05\n",
      "Error :1.0352596671097938e-07\n",
      "Error :2.6885007857072916e-09\n",
      "Error :2.0258319566174313e-09\n",
      "Error :2.0247551640218074e-09\n",
      "Error :2.0247639176025217e-09\n",
      "Error :2.024754731074269e-09\n"
     ]
    },
    {
     "name": "stderr",
     "output_type": "stream",
     "text": [
      "Ranks Progress:  33%|███▎      | 42/129 [04:24<09:10,  6.33s/rank]"
     ]
    },
    {
     "name": "stdout",
     "output_type": "stream",
     "text": [
      "Error :2.02517234340503e-09\n",
      "Error :0.27106678388627253\n",
      "Error :0.0053574597825967775\n",
      "Error :2.5853260184790496e-05\n",
      "Error :7.165589391681454e-08\n",
      "Error :1.2828600115985138e-09\n",
      "Error :1.1408446676270381e-09\n",
      "Error :1.138610037963286e-09\n",
      "Error :1.1386857130916653e-09\n",
      "Error :1.1386325174273058e-09\n"
     ]
    },
    {
     "name": "stderr",
     "output_type": "stream",
     "text": [
      "Ranks Progress:  33%|███▎      | 43/129 [04:31<09:09,  6.39s/rank]"
     ]
    },
    {
     "name": "stdout",
     "output_type": "stream",
     "text": [
      "Error :1.1386054080470473e-09\n",
      "Error :0.23098612081792075\n",
      "Error :0.002200220550777206\n",
      "Error :1.5431641271092632e-05\n",
      "Error :9.874880827981773e-08\n",
      "Error :8.936687974007956e-10\n",
      "Error :6.419465668056261e-10\n",
      "Error :6.403116469745095e-10\n",
      "Error :6.402886909353341e-10\n",
      "Error :6.402849803773607e-10\n"
     ]
    },
    {
     "name": "stderr",
     "output_type": "stream",
     "text": [
      "Ranks Progress:  34%|███▍      | 44/129 [04:38<09:25,  6.65s/rank]"
     ]
    },
    {
     "name": "stdout",
     "output_type": "stream",
     "text": [
      "Error :6.402842784661847e-10\n",
      "Error :0.2529141381661757\n",
      "Error :0.006724357715559753\n",
      "Error :1.7379118909869257e-05\n",
      "Error :4.590977960960354e-08\n",
      "Error :5.384228927681935e-10\n",
      "Error :3.6072332812734283e-10\n",
      "Error :3.600868910801458e-10\n",
      "Error :3.6008425669408243e-10\n",
      "Error :3.6011379088587584e-10\n"
     ]
    },
    {
     "name": "stderr",
     "output_type": "stream",
     "text": [
      "Ranks Progress:  35%|███▍      | 45/129 [04:44<09:06,  6.51s/rank]"
     ]
    },
    {
     "name": "stdout",
     "output_type": "stream",
     "text": [
      "Error :3.600664872169211e-10\n",
      "Error :0.27915503800959324\n",
      "Error :0.0041306537296771605\n",
      "Error :1.1231741751709265e-05\n",
      "Error :7.959213838334077e-08\n",
      "Error :5.936954670909856e-10\n",
      "Error :2.0374348115510166e-10\n",
      "Error :2.0251630866387006e-10\n",
      "Error :2.0249444452022642e-10\n",
      "Error :2.0251067050135313e-10\n"
     ]
    },
    {
     "name": "stderr",
     "output_type": "stream",
     "text": [
      "Ranks Progress:  36%|███▌      | 46/129 [04:50<08:46,  6.35s/rank]"
     ]
    },
    {
     "name": "stdout",
     "output_type": "stream",
     "text": [
      "Error :2.0248230741409747e-10\n",
      "Error :0.27213530638304506\n",
      "Error :0.0033075457123491903\n",
      "Error :5.519678054579337e-05\n",
      "Error :1.2958280876889124e-07\n",
      "Error :4.6359474772525643e-10\n",
      "Error :1.1504504244606732e-10\n",
      "Error :1.138959133840384e-10\n",
      "Error :1.1390238715244918e-10\n",
      "Error :1.1388661937622554e-10\n"
     ]
    },
    {
     "name": "stderr",
     "output_type": "stream",
     "text": [
      "Ranks Progress:  36%|███▋      | 47/129 [04:57<08:39,  6.34s/rank]"
     ]
    },
    {
     "name": "stdout",
     "output_type": "stream",
     "text": [
      "Error :1.1387451481341427e-10\n",
      "Error :0.28865794749217083\n",
      "Error :0.010892448224590123\n",
      "Error :3.425265105855105e-05\n",
      "Error :1.3491901256182301e-07\n",
      "Error :5.507282629872002e-10\n",
      "Error :6.554263809966556e-11\n",
      "Error :6.40492682053818e-11\n",
      "Error :6.404789296980365e-11\n",
      "Error :6.404537106941657e-11\n"
     ]
    },
    {
     "name": "stderr",
     "output_type": "stream",
     "text": [
      "Ranks Progress:  37%|███▋      | 48/129 [05:03<08:31,  6.31s/rank]"
     ]
    },
    {
     "name": "stdout",
     "output_type": "stream",
     "text": [
      "Error :6.408272731325935e-11\n",
      "Error :0.2507184615987987\n",
      "Error :0.003309257856519484\n",
      "Error :1.0966144238584514e-05\n",
      "Error :1.1544472553584577e-07\n",
      "Error :2.3064329944305925e-10\n",
      "Error :3.743635895745851e-11\n",
      "Error :3.603732635111219e-11\n",
      "Error :3.604285888300909e-11\n",
      "Error :3.602366510481936e-11\n"
     ]
    },
    {
     "name": "stderr",
     "output_type": "stream",
     "text": [
      "Ranks Progress:  38%|███▊      | 49/129 [05:09<08:24,  6.31s/rank]"
     ]
    },
    {
     "name": "stdout",
     "output_type": "stream",
     "text": [
      "Error :3.6018620674920876e-11\n",
      "Error :0.27774335744717865\n",
      "Error :0.005981983558545561\n",
      "Error :3.3361193094504966e-05\n",
      "Error :9.477993208083999e-08\n",
      "Error :5.201843831856272e-10\n",
      "Error :2.0856330561449307e-11\n",
      "Error :2.0289430986883022e-11\n",
      "Error :2.030614156674395e-11\n",
      "Error :2.0268347656801828e-11\n"
     ]
    },
    {
     "name": "stderr",
     "output_type": "stream",
     "text": [
      "Ranks Progress:  39%|███▉      | 50/129 [05:15<08:12,  6.23s/rank]"
     ]
    },
    {
     "name": "stdout",
     "output_type": "stream",
     "text": [
      "Error :2.0257763675636928e-11\n",
      "Error :0.26838400239578236\n",
      "Error :0.003293734388909219\n",
      "Error :4.495477771976408e-05\n",
      "Error :4.263682971084182e-08\n",
      "Error :2.7239451437849e-10\n",
      "Error :1.2999892006155322e-11\n",
      "Error :1.1458849428919812e-11\n",
      "Error :1.1409766012818315e-11\n",
      "Error :1.1398776496210954e-11\n"
     ]
    },
    {
     "name": "stderr",
     "output_type": "stream",
     "text": [
      "Ranks Progress:  40%|███▉      | 51/129 [05:21<08:05,  6.22s/rank]"
     ]
    },
    {
     "name": "stdout",
     "output_type": "stream",
     "text": [
      "Error :1.1394452724671798e-11\n",
      "Error :0.24928214047339842\n",
      "Error :0.0052502320957248634\n",
      "Error :1.5772156082153066e-05\n",
      "Error :9.877626421583204e-08\n",
      "Error :3.33658461652503e-10\n",
      "Error :7.965090534622364e-12\n",
      "Error :6.440047634631867e-12\n",
      "Error :6.422858435954808e-12\n",
      "Error :6.411938262362175e-12\n"
     ]
    },
    {
     "name": "stderr",
     "output_type": "stream",
     "text": [
      "Ranks Progress:  40%|████      | 52/129 [05:28<07:57,  6.21s/rank]"
     ]
    },
    {
     "name": "stdout",
     "output_type": "stream",
     "text": [
      "Error :6.409966531265475e-12\n",
      "Error :0.2669816322589845\n",
      "Error :0.004637881894283506\n",
      "Error :2.4776702915924564e-05\n",
      "Error :1.8450068997424676e-07\n",
      "Error :4.5972619751195384e-10\n",
      "Error :4.637520787247644e-12\n",
      "Error :3.6229109790602755e-12\n",
      "Error :3.622204121445985e-12\n",
      "Error :3.667360157426567e-12\n"
     ]
    },
    {
     "name": "stderr",
     "output_type": "stream",
     "text": [
      "Ranks Progress:  41%|████      | 53/129 [05:34<07:53,  6.23s/rank]"
     ]
    },
    {
     "name": "stdout",
     "output_type": "stream",
     "text": [
      "Error :3.6082076433714284e-12\n",
      "Error :0.2910739107729094\n",
      "Error :0.004885583418574095\n",
      "Error :1.424837650620146e-05\n",
      "Error :9.881675415683203e-08\n",
      "Error :7.207120147239317e-10\n",
      "Error :3.3227654916920623e-12\n",
      "Error :2.0798091365052468e-12\n",
      "Error :2.0602847207678145e-12\n",
      "Error :2.0544085286666847e-12\n"
     ]
    },
    {
     "name": "stderr",
     "output_type": "stream",
     "text": [
      "Ranks Progress:  42%|████▏     | 54/129 [05:40<07:51,  6.29s/rank]"
     ]
    },
    {
     "name": "stdout",
     "output_type": "stream",
     "text": [
      "Error :2.081445551835688e-12\n",
      "Error :0.24981713659071678\n",
      "Error :0.005350232631953723\n",
      "Error :1.529713913422857e-05\n",
      "Error :6.612452173749637e-08\n",
      "Error :4.732972408365889e-10\n",
      "Error :2.284368620253377e-12\n",
      "Error :1.165021769209216e-12\n",
      "Error :1.1538958861155509e-12\n",
      "Error :1.3005693421116878e-12\n"
     ]
    },
    {
     "name": "stderr",
     "output_type": "stream",
     "text": [
      "Ranks Progress:  43%|████▎     | 55/129 [05:47<07:47,  6.31s/rank]"
     ]
    },
    {
     "name": "stdout",
     "output_type": "stream",
     "text": [
      "Error :1.1485564560555177e-12\n",
      "Error :0.24349395054374717\n",
      "Error :0.005321185293394356\n",
      "Error :2.793984115616682e-05\n",
      "Error :1.4708512768735636e-07\n",
      "Error :7.478229717983183e-10\n",
      "Error :1.8006442556242018e-12\n",
      "Error :6.833531490189914e-13\n",
      "Error :6.561841020924768e-13\n",
      "Error :6.562052265980965e-13\n"
     ]
    },
    {
     "name": "stderr",
     "output_type": "stream",
     "text": [
      "Ranks Progress:  43%|████▎     | 56/129 [05:54<07:54,  6.51s/rank]"
     ]
    },
    {
     "name": "stdout",
     "output_type": "stream",
     "text": [
      "Error :6.522675535716065e-13\n",
      "Error :0.238416014061653\n",
      "Error :0.01196622678615915\n",
      "Error :1.8307488128360414e-05\n",
      "Error :1.7947989447207357e-07\n",
      "Error :4.4226557708729644e-10\n",
      "Error :1.2010596102366476e-12\n",
      "Error :3.8894033899492817e-13\n",
      "Error :4.037247186303403e-13\n",
      "Error :3.680427698139266e-13\n"
     ]
    },
    {
     "name": "stderr",
     "output_type": "stream",
     "text": [
      "Ranks Progress:  44%|████▍     | 57/129 [06:00<07:45,  6.47s/rank]"
     ]
    },
    {
     "name": "stdout",
     "output_type": "stream",
     "text": [
      "Error :4.864149787430631e-13\n",
      "Error :0.22931090542811516\n",
      "Error :0.003584268124042276\n",
      "Error :2.4680534797452495e-05\n",
      "Error :7.719901848263767e-08\n",
      "Error :4.358713353972616e-10\n",
      "Error :1.6075003085839327e-12\n",
      "Error :2.7851361042297463e-13\n",
      "Error :2.240219754465265e-13\n",
      "Error :2.330723540367045e-13\n"
     ]
    },
    {
     "name": "stderr",
     "output_type": "stream",
     "text": [
      "Ranks Progress:  45%|████▍     | 58/129 [06:06<07:32,  6.37s/rank]"
     ]
    },
    {
     "name": "stdout",
     "output_type": "stream",
     "text": [
      "Error :2.1337787971772313e-13\n",
      "Error :0.280845025723155\n",
      "Error :0.0027590859935853126\n",
      "Error :3.835487297609588e-05\n",
      "Error :4.1759747990119795e-08\n",
      "Error :1.9876398444013243e-10\n",
      "Error :1.1684263376971236e-12\n",
      "Error :1.5571893932319615e-13\n",
      "Error :1.4445033366777095e-13\n",
      "Error :2.770246350485709e-13\n"
     ]
    },
    {
     "name": "stderr",
     "output_type": "stream",
     "text": [
      "Ranks Progress:  46%|████▌     | 59/129 [06:12<07:21,  6.31s/rank]"
     ]
    },
    {
     "name": "stdout",
     "output_type": "stream",
     "text": [
      "Error :1.2162533472414591e-13\n",
      "Error :0.24073499738738938\n",
      "Error :0.012215250966008393\n",
      "Error :1.883862084737918e-05\n",
      "Error :9.849151029726798e-08\n",
      "Error :9.565547389409964e-10\n",
      "Error :1.2501452504765832e-12\n",
      "Error :9.908183293938769e-14\n",
      "Error :9.138077994001222e-14\n",
      "Error :1.1509588385919367e-13\n"
     ]
    },
    {
     "name": "stderr",
     "output_type": "stream",
     "text": [
      "Ranks Progress:  47%|████▋     | 60/129 [06:18<07:12,  6.26s/rank]"
     ]
    },
    {
     "name": "stdout",
     "output_type": "stream",
     "text": [
      "Error :7.350328281263439e-14\n",
      "Error :0.2722280646118819\n",
      "Error :0.0057916954024436786\n",
      "Error :1.7445139692313506e-05\n",
      "Error :1.568635906771523e-07\n",
      "Error :3.2368431757319955e-10\n",
      "Error :1.2703034778926261e-12\n",
      "Error :8.600193659046223e-14\n",
      "Error :5.578741553388271e-14\n",
      "Error :5.114752522340976e-14\n"
     ]
    },
    {
     "name": "stderr",
     "output_type": "stream",
     "text": [
      "Ranks Progress:  47%|████▋     | 61/129 [06:25<07:12,  6.36s/rank]"
     ]
    },
    {
     "name": "stdout",
     "output_type": "stream",
     "text": [
      "Error :5.0022200939059655e-14\n",
      "Error :0.2664203640905675\n",
      "Error :0.003204281673184331\n",
      "Error :2.3154766276299787e-05\n",
      "Error :7.072660982004752e-08\n",
      "Error :1.9784746440327017e-10\n",
      "Error :8.681713761666727e-13\n",
      "Error :5.377608952241879e-14\n",
      "Error :1.1773660146339975e-13\n",
      "Error :3.692834124101015e-14\n"
     ]
    },
    {
     "name": "stderr",
     "output_type": "stream",
     "text": [
      "Ranks Progress:  48%|████▊     | 62/129 [06:31<07:02,  6.31s/rank]"
     ]
    },
    {
     "name": "stdout",
     "output_type": "stream",
     "text": [
      "Error :4.2016905013044966e-14\n",
      "Error :0.24597903535334026\n",
      "Error :0.003578779605071973\n",
      "Error :2.7613286920603394e-05\n",
      "Error :1.1790173766771367e-07\n",
      "Error :5.589391151594515e-10\n",
      "Error :8.224229076313119e-13\n",
      "Error :4.008698306043052e-14\n",
      "Error :3.2381733773972216e-14\n",
      "Error :3.6019494039086465e-14\n"
     ]
    },
    {
     "name": "stderr",
     "output_type": "stream",
     "text": [
      "Ranks Progress:  49%|████▉     | 63/129 [06:37<06:53,  6.26s/rank]"
     ]
    },
    {
     "name": "stdout",
     "output_type": "stream",
     "text": [
      "Error :3.184760546869523e-14\n",
      "Error :0.2610844993048116\n",
      "Error :0.003770275339092627\n",
      "Error :2.433037172428904e-05\n",
      "Error :9.460125082663327e-08\n",
      "Error :2.818940210925727e-10\n",
      "Error :7.184727257414797e-12\n",
      "Error :1.3107751346319978e-13\n",
      "Error :2.843215233478563e-14\n",
      "Error :3.297325519254085e-14\n"
     ]
    },
    {
     "name": "stderr",
     "output_type": "stream",
     "text": [
      "Ranks Progress:  50%|████▉     | 64/129 [06:43<06:42,  6.20s/rank]"
     ]
    },
    {
     "name": "stdout",
     "output_type": "stream",
     "text": [
      "Error :2.964107218314821e-14\n",
      "Error :0.28216935791545017\n",
      "Error :0.004467056179369846\n",
      "Error :1.2510609490996447e-05\n",
      "Error :7.073681202331094e-08\n",
      "Error :4.566309165537751e-10\n",
      "Error :1.1448835372736115e-12\n",
      "Error :7.610100668836816e-14\n",
      "Error :3.240836616954549e-14\n",
      "Error :9.525487760353134e-14\n"
     ]
    },
    {
     "name": "stderr",
     "output_type": "stream",
     "text": [
      "Ranks Progress:  50%|█████     | 65/129 [06:50<06:37,  6.20s/rank]"
     ]
    },
    {
     "name": "stdout",
     "output_type": "stream",
     "text": [
      "Error :2.29442538567638e-14\n",
      "Error :0.3106957265111472\n",
      "Error :0.010293678153916677\n",
      "Error :2.8033853036124858e-05\n",
      "Error :1.31523020715154e-07\n",
      "Error :2.5226035228465907e-10\n",
      "Error :1.4410363041104345e-12\n",
      "Error :7.900948761595503e-14\n",
      "Error :2.8857144501101076e-14\n",
      "Error :1.9304302985124114e-14\n"
     ]
    },
    {
     "name": "stderr",
     "output_type": "stream",
     "text": [
      "Ranks Progress:  51%|█████     | 66/129 [06:56<06:30,  6.20s/rank]"
     ]
    },
    {
     "name": "stdout",
     "output_type": "stream",
     "text": [
      "Error :1.736853892164679e-14\n",
      "Error :0.292510864239765\n",
      "Error :0.00566651235861477\n",
      "Error :1.4365931516556105e-05\n",
      "Error :6.10536073082683e-08\n",
      "Error :3.6039435516240595e-10\n",
      "Error :1.0856789714081436e-12\n",
      "Error :2.6701292984337305e-14\n",
      "Error :3.210637885936615e-14\n",
      "Error :3.409642000895022e-14\n"
     ]
    },
    {
     "name": "stderr",
     "output_type": "stream",
     "text": [
      "Ranks Progress:  52%|█████▏    | 67/129 [07:02<06:22,  6.16s/rank]"
     ]
    },
    {
     "name": "stdout",
     "output_type": "stream",
     "text": [
      "Error :1.6995731113200832e-14\n",
      "Error :0.26929741297704113\n",
      "Error :0.003843624191103743\n",
      "Error :2.5673597983965472e-05\n",
      "Error :5.4903767294963205e-08\n",
      "Error :2.8177827680022476e-10\n",
      "Error :2.250950717845543e-12\n",
      "Error :3.258452682450388e-14\n",
      "Error :2.513687861598034e-14\n",
      "Error :6.873426517091407e-14\n"
     ]
    },
    {
     "name": "stderr",
     "output_type": "stream",
     "text": [
      "Ranks Progress:  53%|█████▎    | 68/129 [07:08<06:15,  6.16s/rank]"
     ]
    },
    {
     "name": "stdout",
     "output_type": "stream",
     "text": [
      "Error :2.731636936404505e-13\n",
      "Error :0.2543301700396159\n",
      "Error :0.004375130805770216\n",
      "Error :1.7171471780707297e-05\n",
      "Error :4.6015047067719236e-08\n",
      "Error :3.0608576467202235e-10\n",
      "Error :1.387740928086093e-12\n",
      "Error :6.585442247002633e-14\n",
      "Error :5.4088683771356855e-14\n",
      "Error :2.254828962179331e-14\n"
     ]
    },
    {
     "name": "stderr",
     "output_type": "stream",
     "text": [
      "Ranks Progress:  53%|█████▎    | 69/129 [07:14<06:07,  6.12s/rank]"
     ]
    },
    {
     "name": "stdout",
     "output_type": "stream",
     "text": [
      "Error :2.5156175716524065e-14\n",
      "Error :0.2894529559588663\n",
      "Error :0.003054172304018269\n",
      "Error :2.717273372497761e-05\n",
      "Error :6.376605311555578e-08\n",
      "Error :4.564194606751331e-10\n",
      "Error :8.589299649351561e-13\n",
      "Error :4.500973828282968e-14\n",
      "Error :1.8821780261631077e-14\n",
      "Error :2.146972885649769e-14\n"
     ]
    },
    {
     "name": "stderr",
     "output_type": "stream",
     "text": [
      "Ranks Progress:  54%|█████▍    | 70/129 [07:20<05:58,  6.08s/rank]"
     ]
    },
    {
     "name": "stdout",
     "output_type": "stream",
     "text": [
      "Error :2.0573758291112327e-14\n",
      "Error :0.2601782165149701\n",
      "Error :0.008501680968913603\n",
      "Error :8.030607931657047e-05\n",
      "Error :2.080564195416205e-07\n",
      "Error :3.9730975679175147e-10\n",
      "Error :1.6989173881294102e-12\n",
      "Error :6.248071133753987e-14\n",
      "Error :2.0016505587025568e-12\n",
      "Error :2.3044906503744438e-14\n"
     ]
    },
    {
     "name": "stderr",
     "output_type": "stream",
     "text": [
      "Ranks Progress:  55%|█████▌    | 71/129 [07:26<05:52,  6.08s/rank]"
     ]
    },
    {
     "name": "stdout",
     "output_type": "stream",
     "text": [
      "Error :1.2151548592866416e-14\n",
      "Error :0.23855868045837378\n",
      "Error :0.0032482801903916743\n",
      "Error :4.8876973518704314e-05\n",
      "Error :6.769771090516465e-08\n",
      "Error :2.973892577117025e-10\n",
      "Error :2.3257327926425112e-12\n",
      "Error :1.9911971638539136e-13\n",
      "Error :2.6136712254402027e-14\n",
      "Error :2.4020595414483074e-14\n"
     ]
    },
    {
     "name": "stderr",
     "output_type": "stream",
     "text": [
      "Ranks Progress:  56%|█████▌    | 72/129 [07:32<05:47,  6.10s/rank]"
     ]
    },
    {
     "name": "stdout",
     "output_type": "stream",
     "text": [
      "Error :1.1118552608377418e-14\n",
      "Error :0.2798518851109276\n",
      "Error :0.0030145687905004364\n",
      "Error :8.990021361116136e-05\n",
      "Error :6.718523740826522e-08\n",
      "Error :1.775603547402195e-10\n",
      "Error :1.730870420431363e-12\n",
      "Error :3.7931079626985736e-14\n",
      "Error :1.4373989510650065e-14\n",
      "Error :1.7305604133514235e-14\n"
     ]
    },
    {
     "name": "stderr",
     "output_type": "stream",
     "text": [
      "Ranks Progress:  57%|█████▋    | 73/129 [07:38<05:42,  6.12s/rank]"
     ]
    },
    {
     "name": "stdout",
     "output_type": "stream",
     "text": [
      "Error :1.1037698624153446e-14\n",
      "Error :0.2525843231126784\n",
      "Error :0.0027181247198827157\n",
      "Error :4.0637036986273653e-05\n",
      "Error :1.7756573009217803e-07\n",
      "Error :4.5251448655071094e-10\n",
      "Error :1.097311304769017e-12\n",
      "Error :3.987046023921139e-14\n",
      "Error :1.1553713378997506e-13\n",
      "Error :3.4580069342909634e-14\n"
     ]
    },
    {
     "name": "stderr",
     "output_type": "stream",
     "text": [
      "Ranks Progress:  57%|█████▋    | 74/129 [07:44<05:35,  6.11s/rank]"
     ]
    },
    {
     "name": "stdout",
     "output_type": "stream",
     "text": [
      "Error :1.127621825024118e-14\n",
      "Error :0.3115912054264033\n",
      "Error :0.0022672361194385924\n",
      "Error :1.5213146079740253e-05\n",
      "Error :1.3986219711327487e-07\n",
      "Error :3.02108933076745e-10\n",
      "Error :1.7176409845560168e-12\n",
      "Error :3.0631549965538444e-14\n",
      "Error :2.1532134898463098e-14\n",
      "Error :2.2442510684164197e-14\n"
     ]
    },
    {
     "name": "stderr",
     "output_type": "stream",
     "text": [
      "Ranks Progress:  58%|█████▊    | 75/129 [07:50<05:28,  6.08s/rank]"
     ]
    },
    {
     "name": "stdout",
     "output_type": "stream",
     "text": [
      "Error :1.5164572082943776e-14\n",
      "Error :0.2673462264867079\n",
      "Error :0.005659698471720794\n",
      "Error :2.0081720098167245e-05\n",
      "Error :6.433310747837488e-08\n",
      "Error :1.1603405914902578e-09\n",
      "Error :1.8064743944190885e-12\n",
      "Error :4.960529606644612e-14\n",
      "Error :2.420233819083853e-14\n",
      "Error :1.2875274321154651e-14\n"
     ]
    },
    {
     "name": "stderr",
     "output_type": "stream",
     "text": [
      "Ranks Progress:  59%|█████▉    | 76/129 [07:57<05:21,  6.07s/rank]"
     ]
    },
    {
     "name": "stdout",
     "output_type": "stream",
     "text": [
      "Error :1.5337342769136596e-14\n",
      "Error :0.27113143166507236\n",
      "Error :0.01424980127929983\n",
      "Error :9.014875939113317e-06\n",
      "Error :1.0876300874607041e-07\n",
      "Error :3.041647178328958e-10\n",
      "Error :1.856777437066454e-12\n",
      "Error :4.9712189372105545e-14\n",
      "Error :1.902195508464449e-14\n",
      "Error :3.7472047865863544e-14\n"
     ]
    },
    {
     "name": "stderr",
     "output_type": "stream",
     "text": [
      "Ranks Progress:  60%|█████▉    | 77/129 [08:03<05:14,  6.06s/rank]"
     ]
    },
    {
     "name": "stdout",
     "output_type": "stream",
     "text": [
      "Error :1.779644671817095e-14\n",
      "Error :0.3036713868746567\n",
      "Error :0.005165880172747419\n",
      "Error :2.9571212495725174e-05\n",
      "Error :1.1873563995044652e-07\n",
      "Error :3.7727703680475283e-10\n",
      "Error :1.1772343552120688e-12\n",
      "Error :2.7182920221395633e-14\n",
      "Error :1.2105141041170859e-13\n",
      "Error :4.053001954625571e-14\n"
     ]
    },
    {
     "name": "stderr",
     "output_type": "stream",
     "text": [
      "Ranks Progress:  60%|██████    | 78/129 [08:09<05:06,  6.02s/rank]"
     ]
    },
    {
     "name": "stdout",
     "output_type": "stream",
     "text": [
      "Error :1.2628907707837653e-14\n",
      "Error :0.24892886887456203\n",
      "Error :0.0030840736693364197\n",
      "Error :2.1878748729687096e-05\n",
      "Error :8.346298204894561e-08\n",
      "Error :3.0127438709620965e-10\n",
      "Error :2.0228546342765012e-12\n",
      "Error :5.001052989851026e-14\n",
      "Error :2.3821028750834687e-14\n",
      "Error :1.3520869764620718e-14\n"
     ]
    },
    {
     "name": "stderr",
     "output_type": "stream",
     "text": [
      "Ranks Progress:  61%|██████    | 79/129 [08:15<05:01,  6.03s/rank]"
     ]
    },
    {
     "name": "stdout",
     "output_type": "stream",
     "text": [
      "Error :1.3309775043790508e-14\n",
      "Error :0.2647918154026174\n",
      "Error :0.002926602255044411\n",
      "Error :1.081503209173012e-05\n",
      "Error :6.275371104269673e-08\n",
      "Error :7.815831994450769e-10\n",
      "Error :5.470839510286428e-12\n",
      "Error :3.2222607747643546e-14\n",
      "Error :1.248001761042317e-12\n",
      "Error :8.194659481657306e-14\n"
     ]
    },
    {
     "name": "stderr",
     "output_type": "stream",
     "text": [
      "Ranks Progress:  62%|██████▏   | 80/129 [08:21<04:56,  6.05s/rank]"
     ]
    },
    {
     "name": "stdout",
     "output_type": "stream",
     "text": [
      "Error :1.3695547124373803e-14\n",
      "Error :0.2755415194391259\n",
      "Error :0.006227268671300077\n",
      "Error :2.0478972346329805e-05\n",
      "Error :4.442735852964796e-08\n",
      "Error :2.733310521715453e-10\n",
      "Error :1.542069037349005e-12\n",
      "Error :3.1602570620324456e-14\n",
      "Error :2.959037284742233e-14\n",
      "Error :1.938253568257641e-14\n"
     ]
    },
    {
     "name": "stderr",
     "output_type": "stream",
     "text": [
      "Ranks Progress:  63%|██████▎   | 81/129 [08:27<04:51,  6.08s/rank]"
     ]
    },
    {
     "name": "stdout",
     "output_type": "stream",
     "text": [
      "Error :7.481779389732664e-14\n",
      "Error :0.261818721826548\n",
      "Error :0.0027980576462297317\n",
      "Error :3.0914255458242765e-05\n",
      "Error :3.4710114567399903e-08\n",
      "Error :3.9763663856194196e-10\n",
      "Error :2.084667825568979e-12\n",
      "Error :3.76155507194129e-14\n",
      "Error :1.932104750635241e-13\n",
      "Error :1.8479974204406352e-14\n"
     ]
    },
    {
     "name": "stderr",
     "output_type": "stream",
     "text": [
      "Ranks Progress:  64%|██████▎   | 82/129 [08:33<04:46,  6.10s/rank]"
     ]
    },
    {
     "name": "stdout",
     "output_type": "stream",
     "text": [
      "Error :3.201126853703065e-14\n",
      "Error :0.26491761693584964\n",
      "Error :0.0027090922454080088\n",
      "Error :2.499840408686223e-05\n",
      "Error :2.690858056757097e-07\n",
      "Error :3.7137317929499286e-10\n",
      "Error :1.3498049513579214e-12\n",
      "Error :5.106479348459483e-14\n",
      "Error :2.1539885887683345e-14\n",
      "Error :1.9656431452646182e-14\n"
     ]
    },
    {
     "name": "stderr",
     "output_type": "stream",
     "text": [
      "Ranks Progress:  64%|██████▍   | 83/129 [08:39<04:40,  6.10s/rank]"
     ]
    },
    {
     "name": "stdout",
     "output_type": "stream",
     "text": [
      "Error :1.2037417341360761e-14\n",
      "Error :0.3153405002145975\n",
      "Error :0.004037820832498964\n",
      "Error :1.935484194022569e-05\n",
      "Error :5.970772154491369e-08\n",
      "Error :3.0598438340753257e-10\n",
      "Error :1.0271863774760885e-12\n",
      "Error :4.02592161983662e-14\n",
      "Error :4.095538514167425e-14\n",
      "Error :1.846917313384532e-14\n"
     ]
    },
    {
     "name": "stderr",
     "output_type": "stream",
     "text": [
      "Ranks Progress:  65%|██████▌   | 84/129 [08:46<04:45,  6.34s/rank]"
     ]
    },
    {
     "name": "stdout",
     "output_type": "stream",
     "text": [
      "Error :9.762555333225734e-15\n",
      "Error :0.2728491407584793\n",
      "Error :0.0025904093503804253\n",
      "Error :2.6634929836646542e-05\n",
      "Error :5.445348444381165e-08\n",
      "Error :3.390494786787487e-10\n",
      "Error :2.5757178840839426e-12\n",
      "Error :1.0051452093237513e-13\n",
      "Error :1.910681529008671e-14\n",
      "Error :4.164854048965374e-14\n"
     ]
    },
    {
     "name": "stderr",
     "output_type": "stream",
     "text": [
      "Ranks Progress:  66%|██████▌   | 85/129 [08:52<04:38,  6.33s/rank]"
     ]
    },
    {
     "name": "stdout",
     "output_type": "stream",
     "text": [
      "Error :1.527384145932421e-14\n",
      "Error :0.2515591785538461\n",
      "Error :0.005828022191250613\n",
      "Error :1.7299331238008012e-05\n",
      "Error :1.1628886714597068e-07\n",
      "Error :3.775501384926288e-10\n",
      "Error :1.5572077895999782e-12\n",
      "Error :8.738635240322404e-14\n",
      "Error :4.6309781933380547e-14\n",
      "Error :2.8480021539529197e-14\n"
     ]
    },
    {
     "name": "stderr",
     "output_type": "stream",
     "text": [
      "Ranks Progress:  67%|██████▋   | 86/129 [08:58<04:30,  6.30s/rank]"
     ]
    },
    {
     "name": "stdout",
     "output_type": "stream",
     "text": [
      "Error :1.1041628092646071e-14\n",
      "Error :0.283382046292687\n",
      "Error :0.011305295344153116\n",
      "Error :4.8233935133119035e-05\n",
      "Error :5.481665844253952e-08\n",
      "Error :1.3896453721358334e-10\n",
      "Error :1.7273229003818897e-12\n",
      "Error :4.9533242806707086e-14\n",
      "Error :3.149186257151499e-14\n",
      "Error :1.1309269500734931e-14\n"
     ]
    },
    {
     "name": "stderr",
     "output_type": "stream",
     "text": [
      "Ranks Progress:  67%|██████▋   | 87/129 [09:05<04:22,  6.26s/rank]"
     ]
    },
    {
     "name": "stdout",
     "output_type": "stream",
     "text": [
      "Error :9.419326387667994e-15\n",
      "Error :0.26699576138561715\n",
      "Error :0.00295039269366753\n",
      "Error :1.7920981750857484e-05\n",
      "Error :8.457720480304662e-08\n",
      "Error :5.081870026906107e-10\n",
      "Error :2.0609484339801275e-12\n",
      "Error :2.5021239399673673e-13\n",
      "Error :6.227930298876857e-14\n",
      "Error :2.988925927248013e-14\n"
     ]
    },
    {
     "name": "stderr",
     "output_type": "stream",
     "text": [
      "Ranks Progress:  68%|██████▊   | 88/129 [09:11<04:15,  6.24s/rank]"
     ]
    },
    {
     "name": "stdout",
     "output_type": "stream",
     "text": [
      "Error :1.3876707229602734e-14\n",
      "Error :0.26123874615059495\n",
      "Error :0.003452490004339255\n",
      "Error :4.5958993390217764e-05\n",
      "Error :1.7365073134193868e-07\n",
      "Error :3.77389180012137e-10\n",
      "Error :6.205827155074683e-13\n",
      "Error :4.3336226864566175e-14\n",
      "Error :5.263068748984244e-14\n",
      "Error :1.284528364548036e-13\n"
     ]
    },
    {
     "name": "stderr",
     "output_type": "stream",
     "text": [
      "Ranks Progress:  69%|██████▉   | 89/129 [09:17<04:08,  6.22s/rank]"
     ]
    },
    {
     "name": "stdout",
     "output_type": "stream",
     "text": [
      "Error :2.666540410543623e-14\n",
      "Error :0.25964824096300193\n",
      "Error :0.010338193839754222\n",
      "Error :2.55560295623247e-05\n",
      "Error :8.384626685100872e-08\n",
      "Error :2.414617541980531e-10\n",
      "Error :9.683938294678144e-13\n",
      "Error :3.331528888693976e-14\n",
      "Error :5.038267259524165e-14\n",
      "Error :1.3731049210465405e-14\n"
     ]
    },
    {
     "name": "stderr",
     "output_type": "stream",
     "text": [
      "Ranks Progress:  70%|██████▉   | 90/129 [09:23<04:01,  6.20s/rank]"
     ]
    },
    {
     "name": "stdout",
     "output_type": "stream",
     "text": [
      "Error :1.5858969456040616e-14\n",
      "Error :0.2532338981896795\n",
      "Error :0.003993631088804782\n",
      "Error :2.470870835525928e-05\n",
      "Error :1.1877206042488982e-07\n",
      "Error :1.3955199136263608e-09\n",
      "Error :1.7791499191701515e-12\n",
      "Error :4.7366850197448556e-14\n",
      "Error :3.127781049324195e-14\n",
      "Error :2.6446756471753908e-14\n"
     ]
    },
    {
     "name": "stderr",
     "output_type": "stream",
     "text": [
      "Ranks Progress:  71%|███████   | 91/129 [09:29<03:54,  6.18s/rank]"
     ]
    },
    {
     "name": "stdout",
     "output_type": "stream",
     "text": [
      "Error :8.294719896525157e-15\n",
      "Error :0.23418007378468927\n",
      "Error :0.004287746284324273\n",
      "Error :2.9701735918508192e-05\n",
      "Error :1.1812718842594329e-07\n",
      "Error :3.0557850086332797e-10\n",
      "Error :1.1493293303859268e-12\n",
      "Error :4.829872279969292e-14\n",
      "Error :2.2963044305549988e-14\n",
      "Error :1.0209808510702237e-13\n"
     ]
    },
    {
     "name": "stderr",
     "output_type": "stream",
     "text": [
      "Ranks Progress:  71%|███████▏  | 92/129 [09:35<03:47,  6.15s/rank]"
     ]
    },
    {
     "name": "stdout",
     "output_type": "stream",
     "text": [
      "Error :9.013811922235251e-15\n",
      "Error :0.3001670306900885\n",
      "Error :0.004676778055091662\n",
      "Error :4.1284534365480765e-05\n",
      "Error :1.5564804163597117e-07\n",
      "Error :3.9676304496656505e-10\n",
      "Error :1.881150413174364e-12\n",
      "Error :7.511769449381066e-14\n",
      "Error :3.045773069614802e-14\n",
      "Error :4.0938056573679236e-14\n"
     ]
    },
    {
     "name": "stderr",
     "output_type": "stream",
     "text": [
      "Ranks Progress:  72%|███████▏  | 93/129 [09:41<03:40,  6.13s/rank]"
     ]
    },
    {
     "name": "stdout",
     "output_type": "stream",
     "text": [
      "Error :9.332048243719869e-15\n",
      "Error :0.21696144384171573\n",
      "Error :0.007697675044159487\n",
      "Error :4.130243704951556e-05\n",
      "Error :1.183615524384505e-07\n",
      "Error :4.4794397047231326e-10\n",
      "Error :1.168316633888176e-12\n",
      "Error :4.819088272218583e-14\n",
      "Error :3.657217113094105e-14\n",
      "Error :5.4118014878710716e-14\n"
     ]
    },
    {
     "name": "stderr",
     "output_type": "stream",
     "text": [
      "Ranks Progress:  73%|███████▎  | 94/129 [09:48<03:33,  6.11s/rank]"
     ]
    },
    {
     "name": "stdout",
     "output_type": "stream",
     "text": [
      "Error :1.2658017695662295e-14\n",
      "Error :0.2564279486364018\n",
      "Error :0.008539879934891087\n",
      "Error :4.3182921894701705e-05\n",
      "Error :4.360524312609837e-08\n",
      "Error :3.6652048391614393e-10\n",
      "Error :1.3936296001211026e-12\n",
      "Error :2.6071762910305112e-14\n",
      "Error :1.3889565199269125e-13\n",
      "Error :1.8294827403812027e-14\n"
     ]
    },
    {
     "name": "stderr",
     "output_type": "stream",
     "text": [
      "Ranks Progress:  74%|███████▎  | 95/129 [09:54<03:28,  6.13s/rank]"
     ]
    },
    {
     "name": "stdout",
     "output_type": "stream",
     "text": [
      "Error :1.6302508710110903e-14\n",
      "Error :0.2496539100551259\n",
      "Error :0.018451538497487138\n",
      "Error :1.4964326953788429e-05\n",
      "Error :2.1441915672929208e-07\n",
      "Error :3.1316547125704916e-10\n",
      "Error :1.184596849938942e-12\n",
      "Error :3.937056512220476e-14\n",
      "Error :3.647831681707097e-14\n",
      "Error :1.4679868794372322e-14\n"
     ]
    },
    {
     "name": "stderr",
     "output_type": "stream",
     "text": [
      "Ranks Progress:  74%|███████▍  | 96/129 [10:00<03:21,  6.11s/rank]"
     ]
    },
    {
     "name": "stdout",
     "output_type": "stream",
     "text": [
      "Error :1.0247431122868001e-13\n",
      "Error :0.2656868387686798\n",
      "Error :0.006485492006960189\n",
      "Error :1.5687501501265897e-05\n",
      "Error :1.0049861957902323e-07\n",
      "Error :5.936461810774561e-10\n",
      "Error :3.0585606860651044e-12\n",
      "Error :6.061458644520891e-14\n",
      "Error :4.270342059445006e-14\n",
      "Error :1.9412130944253482e-14\n"
     ]
    },
    {
     "name": "stderr",
     "output_type": "stream",
     "text": [
      "Ranks Progress:  75%|███████▌  | 97/129 [10:06<03:15,  6.10s/rank]"
     ]
    },
    {
     "name": "stdout",
     "output_type": "stream",
     "text": [
      "Error :1.2367151745058306e-14\n",
      "Error :0.23383523161205808\n",
      "Error :0.003099437926838736\n",
      "Error :2.840067192767873e-05\n",
      "Error :6.91892944568706e-08\n",
      "Error :7.884697014601121e-10\n",
      "Error :1.2430009107476316e-12\n",
      "Error :7.056787034930512e-14\n",
      "Error :2.582936814122289e-14\n",
      "Error :3.3504323682044273e-14\n"
     ]
    },
    {
     "name": "stderr",
     "output_type": "stream",
     "text": [
      "Ranks Progress:  76%|███████▌  | 98/129 [10:12<03:12,  6.20s/rank]"
     ]
    },
    {
     "name": "stdout",
     "output_type": "stream",
     "text": [
      "Error :1.0519445268903263e-14\n",
      "Error :0.2541493255856932\n",
      "Error :0.0043135634353693155\n",
      "Error :3.894445602528796e-05\n",
      "Error :7.678983973942987e-08\n",
      "Error :3.265220368376877e-10\n",
      "Error :2.7321135849293725e-12\n",
      "Error :7.93283640668446e-14\n",
      "Error :8.0852867248539e-14\n",
      "Error :2.449719698933617e-12\n"
     ]
    },
    {
     "name": "stderr",
     "output_type": "stream",
     "text": [
      "Ranks Progress:  77%|███████▋  | 99/129 [10:18<03:00,  6.03s/rank]"
     ]
    },
    {
     "name": "stdout",
     "output_type": "stream",
     "text": [
      "Error :8.263925860493183e-15\n",
      "Error :0.25253481460067073\n",
      "Error :0.006170831157915184\n",
      "Error :1.722828673393101e-05\n",
      "Error :1.4009025187155473e-07\n",
      "Error :3.2434040515488805e-10\n",
      "Error :1.0972105699809916e-12\n",
      "Error :3.295810210103637e-14\n",
      "Error :2.509755474651906e-14\n",
      "Error :2.140013770293972e-14\n"
     ]
    },
    {
     "name": "stderr",
     "output_type": "stream",
     "text": [
      "Ranks Progress:  78%|███████▊  | 100/129 [10:24<02:53,  5.97s/rank]"
     ]
    },
    {
     "name": "stdout",
     "output_type": "stream",
     "text": [
      "Error :1.0439352818154416e-14\n",
      "Error :0.29346421923479743\n",
      "Error :0.003191492006309871\n",
      "Error :2.940163519144614e-05\n",
      "Error :9.042421440421297e-08\n",
      "Error :3.9263047443610375e-10\n",
      "Error :1.427246848471488e-12\n",
      "Error :3.9780171389748635e-14\n",
      "Error :2.9759909894696354e-13\n",
      "Error :2.95243779133833e-14\n"
     ]
    },
    {
     "name": "stderr",
     "output_type": "stream",
     "text": [
      "Ranks Progress:  78%|███████▊  | 101/129 [10:30<02:48,  6.02s/rank]"
     ]
    },
    {
     "name": "stdout",
     "output_type": "stream",
     "text": [
      "Error :3.021034452743795e-14\n",
      "Error :0.26917855543246927\n",
      "Error :0.0035074604825011766\n",
      "Error :1.5309029742058194e-05\n",
      "Error :5.3698029343016985e-08\n",
      "Error :1.8721833284339513e-10\n",
      "Error :6.319941722169536e-13\n",
      "Error :6.56768813852935e-14\n",
      "Error :3.485536469855929e-14\n",
      "Error :6.652677957152552e-14\n"
     ]
    },
    {
     "name": "stderr",
     "output_type": "stream",
     "text": [
      "Ranks Progress:  79%|███████▉  | 102/129 [10:36<02:43,  6.04s/rank]"
     ]
    },
    {
     "name": "stdout",
     "output_type": "stream",
     "text": [
      "Error :2.0115086243173412e-14\n",
      "Error :0.2561933429172059\n",
      "Error :0.0017375301277994704\n",
      "Error :3.246989727610966e-05\n",
      "Error :1.1976419832391402e-07\n",
      "Error :4.238496641093535e-10\n",
      "Error :2.3311495647507814e-12\n",
      "Error :4.283753065507201e-14\n",
      "Error :5.710923527664235e-14\n",
      "Error :2.0374496241165353e-14\n"
     ]
    },
    {
     "name": "stderr",
     "output_type": "stream",
     "text": [
      "Ranks Progress:  80%|███████▉  | 103/129 [10:42<02:37,  6.06s/rank]"
     ]
    },
    {
     "name": "stdout",
     "output_type": "stream",
     "text": [
      "Error :7.555019969027365e-14\n",
      "Error :0.2804805425743941\n",
      "Error :0.005120417702317715\n",
      "Error :2.7967535692447122e-05\n",
      "Error :1.2322985487559948e-07\n",
      "Error :5.488818721308024e-10\n",
      "Error :2.7718154406492462e-12\n",
      "Error :4.535910078343415e-14\n",
      "Error :1.3418729035947006e-11\n",
      "Error :3.00281146345374e-14\n"
     ]
    },
    {
     "name": "stderr",
     "output_type": "stream",
     "text": [
      "Ranks Progress:  81%|████████  | 104/129 [10:48<02:31,  6.07s/rank]"
     ]
    },
    {
     "name": "stdout",
     "output_type": "stream",
     "text": [
      "Error :2.6475510381814984e-14\n",
      "Error :0.2647054327100478\n",
      "Error :0.004974646791285381\n",
      "Error :4.6865645833050904e-05\n",
      "Error :8.357004702169925e-08\n",
      "Error :2.0820137783776144e-10\n",
      "Error :1.5256889137836023e-12\n",
      "Error :4.264903778115775e-14\n",
      "Error :1.2356503561542277e-13\n",
      "Error :3.929302147015624e-14\n"
     ]
    },
    {
     "name": "stderr",
     "output_type": "stream",
     "text": [
      "Ranks Progress:  81%|████████▏ | 105/129 [10:55<02:27,  6.16s/rank]"
     ]
    },
    {
     "name": "stdout",
     "output_type": "stream",
     "text": [
      "Error :2.0376412018361113e-14\n",
      "Error :0.26655879241899993\n",
      "Error :0.007404900441569748\n",
      "Error :4.983706857382403e-05\n",
      "Error :1.0094220541351767e-07\n",
      "Error :1.0116498757638788e-09\n",
      "Error :2.0603929926413972e-12\n",
      "Error :2.8986847370800526e-14\n",
      "Error :4.043960460534911e-14\n",
      "Error :3.773091367535143e-14\n"
     ]
    },
    {
     "name": "stderr",
     "output_type": "stream",
     "text": [
      "Ranks Progress:  82%|████████▏ | 106/129 [11:01<02:21,  6.14s/rank]"
     ]
    },
    {
     "name": "stdout",
     "output_type": "stream",
     "text": [
      "Error :1.1746192778578753e-14\n",
      "Error :0.26107834690899717\n",
      "Error :0.007746952457868744\n",
      "Error :1.2875435980680976e-05\n",
      "Error :9.655726579625165e-08\n",
      "Error :6.234281696066877e-10\n",
      "Error :1.465126160782387e-12\n",
      "Error :4.200266984883457e-14\n",
      "Error :3.0768479324276895e-14\n",
      "Error :6.195892001985722e-14\n"
     ]
    },
    {
     "name": "stderr",
     "output_type": "stream",
     "text": [
      "Ranks Progress:  83%|████████▎ | 107/129 [11:07<02:14,  6.11s/rank]"
     ]
    },
    {
     "name": "stdout",
     "output_type": "stream",
     "text": [
      "Error :1.2179788846328386e-14\n",
      "Error :0.28386558667687123\n",
      "Error :0.002760207377965386\n",
      "Error :3.668198895377654e-05\n",
      "Error :2.4849554438067457e-07\n",
      "Error :5.027614297476296e-10\n",
      "Error :1.0185306599322741e-12\n",
      "Error :6.233595228077589e-14\n",
      "Error :2.4289928716998193e-12\n",
      "Error :4.9967823458402163e-14\n"
     ]
    },
    {
     "name": "stderr",
     "output_type": "stream",
     "text": [
      "Ranks Progress:  84%|████████▎ | 108/129 [11:13<02:08,  6.11s/rank]"
     ]
    },
    {
     "name": "stdout",
     "output_type": "stream",
     "text": [
      "Error :2.5434455872136263e-14\n",
      "Error :0.28083268731555167\n",
      "Error :0.007965764646233092\n",
      "Error :1.617416455401505e-05\n",
      "Error :6.355844590039951e-08\n",
      "Error :7.310872377567236e-10\n",
      "Error :1.6208343178007369e-12\n",
      "Error :2.931501983737936e-14\n",
      "Error :2.271398224763386e-14\n",
      "Error :1.617886181066777e-13\n"
     ]
    },
    {
     "name": "stderr",
     "output_type": "stream",
     "text": [
      "Ranks Progress:  84%|████████▍ | 109/129 [11:19<02:04,  6.21s/rank]"
     ]
    },
    {
     "name": "stdout",
     "output_type": "stream",
     "text": [
      "Error :2.9425979425087435e-13\n",
      "Error :0.2964496112859663\n",
      "Error :0.0025702742036288985\n",
      "Error :1.7763060249136896e-05\n",
      "Error :1.2792987457714827e-07\n",
      "Error :2.916238908904905e-10\n",
      "Error :9.004101845263482e-13\n",
      "Error :2.425882221368498e-14\n",
      "Error :2.413909077213356e-14\n",
      "Error :1.36528406111249e-14\n"
     ]
    },
    {
     "name": "stderr",
     "output_type": "stream",
     "text": [
      "Ranks Progress:  85%|████████▌ | 110/129 [11:25<01:53,  5.97s/rank]"
     ]
    },
    {
     "name": "stdout",
     "output_type": "stream",
     "text": [
      "Error :1.0045882158509476e-14\n",
      "Error :0.2109619615240628\n",
      "Error :0.0034672030382638433\n",
      "Error :3.32384897014085e-05\n",
      "Error :8.564177689765251e-08\n",
      "Error :3.612015124472145e-10\n",
      "Error :2.7687372669224083e-12\n",
      "Error :6.692299175832162e-14\n",
      "Error :2.086752443679133e-14\n",
      "Error :1.1284119991867033e-14\n"
     ]
    },
    {
     "name": "stderr",
     "output_type": "stream",
     "text": [
      "Ranks Progress:  86%|████████▌ | 111/129 [11:30<01:44,  5.79s/rank]"
     ]
    },
    {
     "name": "stdout",
     "output_type": "stream",
     "text": [
      "Error :8.710649302160993e-15\n",
      "Error :0.2516408094009994\n",
      "Error :0.0020562495670749447\n",
      "Error :2.950813125133917e-05\n",
      "Error :7.578327134434788e-08\n",
      "Error :1.463348660882112e-10\n",
      "Error :1.2704032102727097e-12\n",
      "Error :4.345918012607232e-14\n",
      "Error :1.9643202009577207e-14\n",
      "Error :1.0793882096073511e-13\n"
     ]
    },
    {
     "name": "stderr",
     "output_type": "stream",
     "text": [
      "Ranks Progress:  87%|████████▋ | 112/129 [11:36<01:38,  5.80s/rank]"
     ]
    },
    {
     "name": "stdout",
     "output_type": "stream",
     "text": [
      "Error :1.0859905882275182e-14\n",
      "Error :0.2831681601632691\n",
      "Error :0.004465936898048015\n",
      "Error :6.519563711354412e-05\n",
      "Error :8.234571266046015e-08\n",
      "Error :2.737788832946143e-10\n",
      "Error :9.808699894849346e-13\n",
      "Error :4.9249022931817986e-14\n",
      "Error :2.0880156795765927e-14\n",
      "Error :2.0663215175214778e-14\n"
     ]
    },
    {
     "name": "stderr",
     "output_type": "stream",
     "text": [
      "Ranks Progress:  88%|████████▊ | 113/129 [11:42<01:33,  5.87s/rank]"
     ]
    },
    {
     "name": "stdout",
     "output_type": "stream",
     "text": [
      "Error :1.477090535746565e-13\n",
      "Error :0.24498664339693418\n",
      "Error :0.014852480971987268\n",
      "Error :1.6134461439869972e-05\n",
      "Error :1.1735723620906012e-07\n",
      "Error :5.052764227571777e-10\n",
      "Error :1.694750875002756e-12\n",
      "Error :5.238943541299093e-14\n",
      "Error :1.2768973915003525e-13\n",
      "Error :2.550404925015225e-14\n"
     ]
    },
    {
     "name": "stderr",
     "output_type": "stream",
     "text": [
      "Ranks Progress:  88%|████████▊ | 114/129 [11:48<01:29,  5.97s/rank]"
     ]
    },
    {
     "name": "stdout",
     "output_type": "stream",
     "text": [
      "Error :1.665723720044317e-14\n",
      "Error :0.24554122454359167\n",
      "Error :0.005872988264009236\n",
      "Error :1.459378740453456e-05\n",
      "Error :6.466066902614222e-08\n",
      "Error :1.2652025601501295e-10\n",
      "Error :5.341089373741326e-13\n",
      "Error :5.1775965908481774e-14\n",
      "Error :3.87522302607044e-14\n",
      "Error :2.1458190298545853e-14\n"
     ]
    },
    {
     "name": "stderr",
     "output_type": "stream",
     "text": [
      "Ranks Progress:  89%|████████▉ | 115/129 [11:54<01:23,  5.99s/rank]"
     ]
    },
    {
     "name": "stdout",
     "output_type": "stream",
     "text": [
      "Error :9.634555708511323e-15\n",
      "Error :0.2796838152871886\n",
      "Error :0.006412390650317133\n",
      "Error :2.5006456172161877e-05\n",
      "Error :6.509443045937647e-08\n",
      "Error :3.3314577446305026e-10\n",
      "Error :1.3290532520765833e-12\n",
      "Error :2.983918142869566e-13\n",
      "Error :2.4425243576914e-14\n",
      "Error :1.5534357087719262e-14\n"
     ]
    },
    {
     "name": "stderr",
     "output_type": "stream",
     "text": [
      "Ranks Progress:  90%|████████▉ | 116/129 [12:00<01:18,  6.01s/rank]"
     ]
    },
    {
     "name": "stdout",
     "output_type": "stream",
     "text": [
      "Error :3.071716804257235e-13\n",
      "Error :0.26098656276021054\n",
      "Error :0.0017272609579468661\n",
      "Error :2.2853457690094523e-05\n",
      "Error :1.3583698099243585e-07\n",
      "Error :5.674265705691837e-10\n",
      "Error :9.71736375711043e-13\n",
      "Error :5.954494854388101e-14\n",
      "Error :2.2565853352663304e-14\n",
      "Error :1.6699066983039808e-14\n"
     ]
    },
    {
     "name": "stderr",
     "output_type": "stream",
     "text": [
      "Ranks Progress:  91%|█████████ | 117/129 [12:06<01:12,  6.04s/rank]"
     ]
    },
    {
     "name": "stdout",
     "output_type": "stream",
     "text": [
      "Error :1.644667903851796e-14\n",
      "Error :0.23169448347167332\n",
      "Error :0.00611187460032531\n",
      "Error :2.2284320103666347e-05\n",
      "Error :5.3073162081964076e-08\n",
      "Error :2.3316080505895437e-10\n",
      "Error :1.1513937681242697e-12\n",
      "Error :1.245618088047093e-13\n",
      "Error :2.2723754336644567e-14\n",
      "Error :1.8709912977769578e-14\n"
     ]
    },
    {
     "name": "stderr",
     "output_type": "stream",
     "text": [
      "Ranks Progress:  91%|█████████▏| 118/129 [12:12<01:06,  6.05s/rank]"
     ]
    },
    {
     "name": "stdout",
     "output_type": "stream",
     "text": [
      "Error :1.0864479511571378e-14\n",
      "Error :0.25243929540000754\n",
      "Error :0.0020652047483682334\n",
      "Error :4.8346186781549565e-05\n",
      "Error :3.165599716178787e-08\n",
      "Error :3.309634210017272e-10\n",
      "Error :9.733727267190274e-13\n",
      "Error :2.4550839251640912e-14\n",
      "Error :2.1355119892701333e-13\n",
      "Error :2.0716251422047512e-14\n"
     ]
    },
    {
     "name": "stderr",
     "output_type": "stream",
     "text": [
      "Ranks Progress:  92%|█████████▏| 119/129 [12:18<01:00,  6.05s/rank]"
     ]
    },
    {
     "name": "stdout",
     "output_type": "stream",
     "text": [
      "Error :1.362599899388637e-14\n",
      "Error :0.22275541433647128\n",
      "Error :0.006592910631663777\n",
      "Error :1.6541436307706184e-05\n",
      "Error :5.079411512050267e-08\n",
      "Error :1.1736771380328854e-09\n",
      "Error :1.039766066158929e-12\n",
      "Error :2.9064756906992775e-14\n",
      "Error :1.8163588699233097e-14\n",
      "Error :2.0305463524842682e-13\n"
     ]
    },
    {
     "name": "stderr",
     "output_type": "stream",
     "text": [
      "Ranks Progress:  93%|█████████▎| 120/129 [12:25<00:54,  6.10s/rank]"
     ]
    },
    {
     "name": "stdout",
     "output_type": "stream",
     "text": [
      "Error :8.24054971154671e-15\n",
      "Error :0.26049863563679027\n",
      "Error :0.005545169848741182\n",
      "Error :1.8073318166712253e-05\n",
      "Error :6.083073860548571e-08\n",
      "Error :2.3622754658268255e-10\n",
      "Error :1.0218038340043088e-12\n",
      "Error :3.8072896941189824e-14\n",
      "Error :1.6855043654196634e-14\n",
      "Error :3.534527178046149e-14\n"
     ]
    },
    {
     "name": "stderr",
     "output_type": "stream",
     "text": [
      "Ranks Progress:  94%|█████████▍| 121/129 [12:31<00:48,  6.11s/rank]"
     ]
    },
    {
     "name": "stdout",
     "output_type": "stream",
     "text": [
      "Error :1.2894869033934841e-14\n",
      "Error :0.2965992428963876\n",
      "Error :0.006187291953103839\n",
      "Error :4.5323891879401095e-05\n",
      "Error :1.6216544699496204e-07\n",
      "Error :5.443002026530043e-10\n",
      "Error :9.66470914334297e-13\n",
      "Error :5.761366851916547e-14\n",
      "Error :1.9818769221820135e-13\n",
      "Error :9.739538728798932e-14\n"
     ]
    },
    {
     "name": "stderr",
     "output_type": "stream",
     "text": [
      "Ranks Progress:  95%|█████████▍| 122/129 [12:37<00:42,  6.11s/rank]"
     ]
    },
    {
     "name": "stdout",
     "output_type": "stream",
     "text": [
      "Error :1.5443842422241858e-14\n",
      "Error :0.2938132224288589\n",
      "Error :0.006539217254984311\n",
      "Error :1.1762808687444966e-05\n",
      "Error :1.1427327417401115e-07\n",
      "Error :3.396009129528596e-10\n",
      "Error :2.4099145848785237e-12\n",
      "Error :8.466866488497641e-14\n",
      "Error :2.6209215575237488e-14\n",
      "Error :4.20661888141344e-14\n"
     ]
    },
    {
     "name": "stderr",
     "output_type": "stream",
     "text": [
      "Ranks Progress:  95%|█████████▌| 123/129 [12:43<00:36,  6.10s/rank]"
     ]
    },
    {
     "name": "stdout",
     "output_type": "stream",
     "text": [
      "Error :8.55631477106248e-15\n",
      "Error :0.2695728895165363\n",
      "Error :0.0025522740342644613\n",
      "Error :2.3539070801316994e-05\n",
      "Error :1.24442965236805e-07\n",
      "Error :6.559305500841239e-10\n",
      "Error :1.8369510143664684e-12\n",
      "Error :3.854384865519868e-14\n",
      "Error :4.270152461287982e-14\n",
      "Error :2.4438193442486642e-14\n"
     ]
    },
    {
     "name": "stderr",
     "output_type": "stream",
     "text": [
      "Ranks Progress:  96%|█████████▌| 124/129 [12:49<00:30,  6.11s/rank]"
     ]
    },
    {
     "name": "stdout",
     "output_type": "stream",
     "text": [
      "Error :1.5422830502974394e-14\n",
      "Error :0.27387131378201424\n",
      "Error :0.004846891564739678\n",
      "Error :1.7354118744332824e-05\n",
      "Error :9.062786852438558e-08\n",
      "Error :7.873819335807304e-10\n",
      "Error :8.660993978047703e-13\n",
      "Error :4.307710645663045e-14\n",
      "Error :1.2723214560920868e-14\n",
      "Error :5.73901593667672e-14\n"
     ]
    },
    {
     "name": "stderr",
     "output_type": "stream",
     "text": [
      "Ranks Progress:  97%|█████████▋| 125/129 [12:55<00:24,  6.11s/rank]"
     ]
    },
    {
     "name": "stdout",
     "output_type": "stream",
     "text": [
      "Error :1.7272374763068543e-14\n",
      "Error :0.20982804992474238\n",
      "Error :0.007676065910930532\n",
      "Error :1.555520605719647e-05\n",
      "Error :4.1430637362421234e-08\n",
      "Error :2.5650951254484433e-10\n",
      "Error :1.034341532500502e-12\n",
      "Error :4.614858762655632e-14\n",
      "Error :2.066972353079768e-14\n",
      "Error :2.050434088869811e-14\n"
     ]
    },
    {
     "name": "stderr",
     "output_type": "stream",
     "text": [
      "Ranks Progress:  98%|█████████▊| 126/129 [13:01<00:18,  6.09s/rank]"
     ]
    },
    {
     "name": "stdout",
     "output_type": "stream",
     "text": [
      "Error :1.1829077602335578e-14\n",
      "Error :0.28694165327164384\n",
      "Error :0.005733868957072313\n",
      "Error :3.620221493908049e-05\n",
      "Error :1.0159438340412583e-07\n",
      "Error :5.537830487703165e-10\n",
      "Error :1.2585506052903462e-12\n",
      "Error :5.147498313532286e-14\n",
      "Error :2.653104387177322e-14\n",
      "Error :2.7290063115582162e-14\n"
     ]
    },
    {
     "name": "stderr",
     "output_type": "stream",
     "text": [
      "Ranks Progress:  98%|█████████▊| 127/129 [13:07<00:12,  6.10s/rank]"
     ]
    },
    {
     "name": "stdout",
     "output_type": "stream",
     "text": [
      "Error :1.1670723658303832e-14\n",
      "Error :0.21735900596854868\n",
      "Error :0.004974011969628596\n",
      "Error :1.3601748539267563e-05\n",
      "Error :5.02287214780728e-08\n",
      "Error :6.635103193029163e-10\n",
      "Error :2.060673729015069e-12\n",
      "Error :5.3436592916442116e-14\n",
      "Error :2.848975585663301e-14\n",
      "Error :5.3301408343336736e-14\n"
     ]
    },
    {
     "name": "stderr",
     "output_type": "stream",
     "text": [
      "Ranks Progress:  99%|█████████▉| 128/129 [13:14<00:06,  6.13s/rank]"
     ]
    },
    {
     "name": "stdout",
     "output_type": "stream",
     "text": [
      "Error :2.823942044301995e-14\n",
      "Error :0.2666329883949267\n",
      "Error :0.006653544339371623\n",
      "Error :2.922889328143526e-05\n",
      "Error :7.050897876307639e-08\n",
      "Error :3.266413050195158e-10\n",
      "Error :6.002575074335947e-13\n",
      "Error :6.219938740896872e-14\n",
      "Error :2.505445120493243e-14\n",
      "Error :2.4767885278775527e-14\n"
     ]
    },
    {
     "name": "stderr",
     "output_type": "stream",
     "text": [
      "Ranks Progress: 100%|██████████| 129/129 [13:20<00:00,  6.20s/rank]"
     ]
    },
    {
     "name": "stdout",
     "output_type": "stream",
     "text": [
      "Error :1.218150869892859e-14\n"
     ]
    },
    {
     "name": "stderr",
     "output_type": "stream",
     "text": [
      "\n"
     ]
    },
    {
     "name": "stdout",
     "output_type": "stream",
     "text": [
      "Results successfully saved to ../Dataset/Section_2_test_2_for_loadMatrixA_2.csv.\n"
     ]
    },
    {
     "name": "stderr",
     "output_type": "stream",
     "text": [
      "Ranks Progress:   0%|          | 0/129 [00:00<?, ?rank/s]"
     ]
    },
    {
     "name": "stdout",
     "output_type": "stream",
     "text": [
      "Error :1.0\n",
      "Error :1.0\n",
      "Error :1.0\n",
      "Error :1.0\n",
      "Error :1.0\n",
      "Error :1.0\n",
      "Error :1.0\n",
      "Error :1.0\n",
      "Error :1.0\n"
     ]
    },
    {
     "name": "stderr",
     "output_type": "stream",
     "text": [
      "Ranks Progress:   1%|          | 1/129 [00:06<14:53,  6.98s/rank]"
     ]
    },
    {
     "name": "stdout",
     "output_type": "stream",
     "text": [
      "Error :1.0\n",
      "Error :0.010740189949886831\n",
      "Error :0.010372864178415755\n",
      "Error :0.01038928989098645\n",
      "Error :0.010343590361393139\n",
      "Error :0.010334665036750453\n",
      "Error :0.01032333917261928\n",
      "Error :0.010287240212069565\n",
      "Error :0.010285375406961866\n",
      "Error :0.01028150421951704\n"
     ]
    },
    {
     "name": "stderr",
     "output_type": "stream",
     "text": [
      "Ranks Progress:   2%|▏         | 2/129 [00:12<13:30,  6.38s/rank]"
     ]
    },
    {
     "name": "stdout",
     "output_type": "stream",
     "text": [
      "Error :0.01028000368569936\n",
      "Error :0.010060836393093256\n",
      "Error :0.009903489692060929\n",
      "Error :0.009484881363430486\n",
      "Error :0.009417510002787653\n",
      "Error :0.00935145208301739\n",
      "Error :0.009359260830140036\n",
      "Error :0.009317620837891966\n",
      "Error :0.009303974189351777\n",
      "Error :0.009287979046366688\n"
     ]
    },
    {
     "name": "stderr",
     "output_type": "stream",
     "text": [
      "Ranks Progress:   2%|▏         | 3/129 [00:18<12:59,  6.19s/rank]"
     ]
    },
    {
     "name": "stdout",
     "output_type": "stream",
     "text": [
      "Error :0.009282807951857165\n",
      "Error :0.00972481854166825\n",
      "Error :0.009104191280846885\n",
      "Error :0.008840443883690385\n",
      "Error :0.008695654586489828\n",
      "Error :0.008627549553383426\n",
      "Error :0.00859649039189024\n",
      "Error :0.00856160552213165\n",
      "Error :0.008530395568446125\n",
      "Error :0.008511357997481789\n"
     ]
    },
    {
     "name": "stderr",
     "output_type": "stream",
     "text": [
      "Ranks Progress:   3%|▎         | 4/129 [00:24<12:47,  6.14s/rank]"
     ]
    },
    {
     "name": "stdout",
     "output_type": "stream",
     "text": [
      "Error :0.008493317109591413\n",
      "Error :0.009357407639209678\n",
      "Error :0.008546872973324529\n",
      "Error :0.008269292486373276\n",
      "Error :0.00804318155844127\n",
      "Error :0.008102543575393768\n",
      "Error :0.007958093483393549\n",
      "Error :0.007888732106688645\n",
      "Error :0.007867938349374218\n",
      "Error :0.007838914996145292\n"
     ]
    },
    {
     "name": "stderr",
     "output_type": "stream",
     "text": [
      "Ranks Progress:   4%|▍         | 5/129 [00:31<12:44,  6.16s/rank]"
     ]
    },
    {
     "name": "stdout",
     "output_type": "stream",
     "text": [
      "Error :0.007842093880593584\n",
      "Error :0.008727552511974464\n",
      "Error :0.008219682154884894\n",
      "Error :0.007830821609279576\n",
      "Error :0.007528472128003868\n",
      "Error :0.0074957776248801514\n",
      "Error :0.007408868379371318\n",
      "Error :0.007355619677195795\n",
      "Error :0.00733323568494779\n",
      "Error :0.007296019262458998\n"
     ]
    },
    {
     "name": "stderr",
     "output_type": "stream",
     "text": [
      "Ranks Progress:   5%|▍         | 6/129 [00:37<12:57,  6.32s/rank]"
     ]
    },
    {
     "name": "stdout",
     "output_type": "stream",
     "text": [
      "Error :0.007272524493615697\n",
      "Error :0.009223039521413312\n",
      "Error :0.008160141579218325\n",
      "Error :0.007431798146868732\n",
      "Error :0.007248895116821897\n",
      "Error :0.007063004124975192\n",
      "Error :0.006977983287078769\n",
      "Error :0.006894575334704384\n",
      "Error :0.006859347082749796\n",
      "Error :0.006828230518261691\n"
     ]
    },
    {
     "name": "stderr",
     "output_type": "stream",
     "text": [
      "Ranks Progress:   5%|▌         | 7/129 [00:44<13:14,  6.52s/rank]"
     ]
    },
    {
     "name": "stdout",
     "output_type": "stream",
     "text": [
      "Error :0.006832638664854321\n",
      "Error :0.009529313758560969\n",
      "Error :0.007603662099227127\n",
      "Error :0.007051981142868829\n",
      "Error :0.007053156184977078\n",
      "Error :0.006637222670485966\n",
      "Error :0.006546482913865235\n",
      "Error :0.006480121182261616\n",
      "Error :0.006424184847937132\n",
      "Error :0.006382483659467809\n"
     ]
    },
    {
     "name": "stderr",
     "output_type": "stream",
     "text": [
      "Ranks Progress:   6%|▌         | 8/129 [00:51<13:18,  6.60s/rank]"
     ]
    },
    {
     "name": "stdout",
     "output_type": "stream",
     "text": [
      "Error :0.00636559381130904\n",
      "Error :0.009480145786014775\n",
      "Error :0.0073575519211732665\n",
      "Error :0.007022120701107473\n",
      "Error :0.006563521138138886\n",
      "Error :0.006307867501526891\n",
      "Error :0.006314642784684059\n",
      "Error :0.006159939203044181\n",
      "Error :0.006074436442130319\n",
      "Error :0.006051392450825077\n"
     ]
    },
    {
     "name": "stderr",
     "output_type": "stream",
     "text": [
      "Ranks Progress:   7%|▋         | 9/129 [00:58<13:14,  6.62s/rank]"
     ]
    },
    {
     "name": "stdout",
     "output_type": "stream",
     "text": [
      "Error :0.006056108766930971\n",
      "Error :0.008226599768984436\n",
      "Error :0.007384577498040016\n",
      "Error :0.00671382690833062\n",
      "Error :0.006387639617359373\n",
      "Error :0.006147262749706291\n",
      "Error :0.006012759437848145\n",
      "Error :0.005858039140517897\n",
      "Error :0.005792188236993438\n",
      "Error :0.005768044158566054\n"
     ]
    },
    {
     "name": "stderr",
     "output_type": "stream",
     "text": [
      "Ranks Progress:   8%|▊         | 10/129 [01:05<13:17,  6.70s/rank]"
     ]
    },
    {
     "name": "stdout",
     "output_type": "stream",
     "text": [
      "Error :0.005728701196595382\n",
      "Error :0.008723546540109765\n",
      "Error :0.007071115661672686\n",
      "Error :0.006452365189966035\n",
      "Error :0.005988720664603195\n",
      "Error :0.005879420793500605\n",
      "Error :0.005786823972659208\n",
      "Error :0.005617275893291795\n",
      "Error :0.005524564328135548\n",
      "Error :0.005476622514795926\n"
     ]
    },
    {
     "name": "stderr",
     "output_type": "stream",
     "text": [
      "Ranks Progress:   9%|▊         | 11/129 [01:11<13:13,  6.73s/rank]"
     ]
    },
    {
     "name": "stdout",
     "output_type": "stream",
     "text": [
      "Error :0.005445592552110378\n",
      "Error :0.009704408807785144\n",
      "Error :0.006629933684288018\n",
      "Error :0.006203917127029389\n",
      "Error :0.005889088615092496\n",
      "Error :0.005585729138536716\n",
      "Error :0.0055321544441310775\n",
      "Error :0.005445591101550136\n",
      "Error :0.00532677516601406\n",
      "Error :0.005273059947439389\n"
     ]
    },
    {
     "name": "stderr",
     "output_type": "stream",
     "text": [
      "Ranks Progress:   9%|▉         | 12/129 [01:18<13:11,  6.76s/rank]"
     ]
    },
    {
     "name": "stdout",
     "output_type": "stream",
     "text": [
      "Error :0.005247375236832153\n",
      "Error :0.008715975063497913\n",
      "Error :0.006673560170032555\n",
      "Error :0.006120375947334069\n",
      "Error :0.005754835673125766\n",
      "Error :0.00552906158681904\n",
      "Error :0.005326549838798369\n",
      "Error :0.0052171322967420565\n",
      "Error :0.005144672261711515\n",
      "Error :0.005095164032955854\n"
     ]
    },
    {
     "name": "stderr",
     "output_type": "stream",
     "text": [
      "Ranks Progress:  10%|█         | 13/129 [01:25<13:04,  6.76s/rank]"
     ]
    },
    {
     "name": "stdout",
     "output_type": "stream",
     "text": [
      "Error :0.005040511641356206\n",
      "Error :0.00829843760014931\n",
      "Error :0.006993394168014631\n",
      "Error :0.00601971472949641\n",
      "Error :0.00558966491333345\n",
      "Error :0.0052597241065258865\n",
      "Error :0.005150008364255708\n",
      "Error :0.005049110387774535\n",
      "Error :0.004991049251699146\n",
      "Error :0.004922130917862922\n"
     ]
    },
    {
     "name": "stderr",
     "output_type": "stream",
     "text": [
      "Ranks Progress:  11%|█         | 14/129 [01:32<12:58,  6.77s/rank]"
     ]
    },
    {
     "name": "stdout",
     "output_type": "stream",
     "text": [
      "Error :0.004880778197454506\n",
      "Error :0.008977676484045597\n",
      "Error :0.007105886330749113\n",
      "Error :0.005814886415294171\n",
      "Error :0.005418012323359652\n",
      "Error :0.005180821344657103\n",
      "Error :0.004991754762125873\n",
      "Error :0.004922254555207836\n",
      "Error :0.004840809568831534\n",
      "Error :0.004747935876987206\n"
     ]
    },
    {
     "name": "stderr",
     "output_type": "stream",
     "text": [
      "Ranks Progress:  12%|█▏        | 15/129 [01:38<12:46,  6.72s/rank]"
     ]
    },
    {
     "name": "stdout",
     "output_type": "stream",
     "text": [
      "Error :0.00469482344642102\n",
      "Error :0.009239774613782576\n",
      "Error :0.006500887485515308\n",
      "Error :0.005727365589306813\n",
      "Error :0.00532911590304807\n",
      "Error :0.0050828703243215746\n",
      "Error :0.004958887708866849\n",
      "Error :0.00474932067652529\n",
      "Error :0.0046396457191027465\n",
      "Error :0.004581083944130126\n"
     ]
    },
    {
     "name": "stderr",
     "output_type": "stream",
     "text": [
      "Ranks Progress:  12%|█▏        | 16/129 [01:45<12:39,  6.72s/rank]"
     ]
    },
    {
     "name": "stdout",
     "output_type": "stream",
     "text": [
      "Error :0.004533857243219858\n",
      "Error :0.011211221166662802\n",
      "Error :0.006688671391165874\n",
      "Error :0.005703110018115579\n",
      "Error :0.005273711884148473\n",
      "Error :0.004979468404885614\n",
      "Error :0.0046633703520993\n",
      "Error :0.004577355187201209\n",
      "Error :0.004542213902183054\n",
      "Error :0.004449176855185901\n"
     ]
    },
    {
     "name": "stderr",
     "output_type": "stream",
     "text": [
      "Ranks Progress:  13%|█▎        | 17/129 [01:52<12:37,  6.76s/rank]"
     ]
    },
    {
     "name": "stdout",
     "output_type": "stream",
     "text": [
      "Error :0.004407420161967745\n",
      "Error :0.00913180081475268\n",
      "Error :0.0063249986109129965\n",
      "Error :0.005765031216270053\n",
      "Error :0.005259001570636697\n",
      "Error :0.004850272400978446\n",
      "Error :0.004656129433127334\n",
      "Error :0.004507657108572639\n",
      "Error :0.004338169367253583\n",
      "Error :0.004308915944069887\n"
     ]
    },
    {
     "name": "stderr",
     "output_type": "stream",
     "text": [
      "Ranks Progress:  14%|█▍        | 18/129 [01:59<12:27,  6.74s/rank]"
     ]
    },
    {
     "name": "stdout",
     "output_type": "stream",
     "text": [
      "Error :0.0042220598702310775\n",
      "Error :0.00838821031598826\n",
      "Error :0.006581951118266322\n",
      "Error :0.005672793755206511\n",
      "Error :0.005005386402134633\n",
      "Error :0.004765246648418996\n",
      "Error :0.004584314315015926\n",
      "Error :0.004394844852397753\n",
      "Error :0.004298160390534182\n",
      "Error :0.0041988016882603734\n"
     ]
    },
    {
     "name": "stderr",
     "output_type": "stream",
     "text": [
      "Ranks Progress:  15%|█▍        | 19/129 [02:05<12:26,  6.78s/rank]"
     ]
    },
    {
     "name": "stdout",
     "output_type": "stream",
     "text": [
      "Error :0.004120651135407444\n",
      "Error :0.008277677354452036\n",
      "Error :0.006494919825096279\n",
      "Error :0.0056353821672708495\n",
      "Error :0.004898624227538609\n",
      "Error :0.004654260667243524\n",
      "Error :0.004372833045495577\n",
      "Error :0.004281518204040667\n",
      "Error :0.004165835051974797\n",
      "Error :0.00408257576006342\n"
     ]
    },
    {
     "name": "stderr",
     "output_type": "stream",
     "text": [
      "Ranks Progress:  16%|█▌        | 20/129 [02:12<12:20,  6.79s/rank]"
     ]
    },
    {
     "name": "stdout",
     "output_type": "stream",
     "text": [
      "Error :0.004017801714990778\n",
      "Error :0.01006799658273696\n",
      "Error :0.0062767762872512145\n",
      "Error :0.0055090928155754814\n",
      "Error :0.004908866004182516\n",
      "Error :0.004629754894033835\n",
      "Error :0.004319376636658883\n",
      "Error :0.0042080774744509665\n",
      "Error :0.0040655717899720795\n",
      "Error :0.003953856045228303\n"
     ]
    },
    {
     "name": "stderr",
     "output_type": "stream",
     "text": [
      "Ranks Progress:  16%|█▋        | 21/129 [02:18<11:52,  6.60s/rank]"
     ]
    },
    {
     "name": "stdout",
     "output_type": "stream",
     "text": [
      "Error :0.00390479154473546\n",
      "Error :0.00926395385752319\n",
      "Error :0.006414269579031608\n",
      "Error :0.0055159784359378235\n",
      "Error :0.004891164819327197\n",
      "Error :0.004464108804917214\n",
      "Error :0.004327077317210273\n",
      "Error :0.004081146182484518\n",
      "Error :0.003960595805895102\n",
      "Error :0.0038860771170246165\n"
     ]
    },
    {
     "name": "stderr",
     "output_type": "stream",
     "text": [
      "Ranks Progress:  17%|█▋        | 22/129 [02:25<11:53,  6.67s/rank]"
     ]
    },
    {
     "name": "stdout",
     "output_type": "stream",
     "text": [
      "Error :0.003786688777229592\n",
      "Error :0.008773910130127516\n",
      "Error :0.006522066203335623\n",
      "Error :0.005379628684615849\n",
      "Error :0.004683851089277035\n",
      "Error :0.00438455387767878\n",
      "Error :0.004211737956916534\n",
      "Error :0.003963466666729946\n",
      "Error :0.0038222785586364736\n",
      "Error :0.003783875110696844\n"
     ]
    },
    {
     "name": "stderr",
     "output_type": "stream",
     "text": [
      "Ranks Progress:  18%|█▊        | 23/129 [02:32<11:52,  6.72s/rank]"
     ]
    },
    {
     "name": "stdout",
     "output_type": "stream",
     "text": [
      "Error :0.0036973479793166505\n",
      "Error :0.008130825602840295\n",
      "Error :0.0062430795426082365\n",
      "Error :0.00542402466521208\n",
      "Error :0.004769510525785521\n",
      "Error :0.004374541687537267\n",
      "Error :0.0040789048485597975\n",
      "Error :0.003924585485279577\n",
      "Error :0.003808245408353432\n",
      "Error :0.0037248848496400236\n"
     ]
    },
    {
     "name": "stderr",
     "output_type": "stream",
     "text": [
      "Ranks Progress:  19%|█▊        | 24/129 [02:39<11:52,  6.78s/rank]"
     ]
    },
    {
     "name": "stdout",
     "output_type": "stream",
     "text": [
      "Error :0.00357489559893776\n",
      "Error :0.01058548886721024\n",
      "Error :0.006485242301833601\n",
      "Error :0.005313369473075944\n",
      "Error :0.004686008756783436\n",
      "Error :0.004278593156516635\n",
      "Error :0.004017378352629192\n",
      "Error :0.003864138936617499\n",
      "Error :0.0037072884102192956\n",
      "Error :0.003596900960501406\n"
     ]
    },
    {
     "name": "stderr",
     "output_type": "stream",
     "text": [
      "Ranks Progress:  19%|█▉        | 25/129 [02:46<11:49,  6.82s/rank]"
     ]
    },
    {
     "name": "stdout",
     "output_type": "stream",
     "text": [
      "Error :0.00352685877847799\n",
      "Error :0.009198178193465467\n",
      "Error :0.006333747495024271\n",
      "Error :0.005136488113274169\n",
      "Error :0.004468888296144009\n",
      "Error :0.004191487256214517\n",
      "Error :0.003982824767292483\n",
      "Error :0.0038298952606542506\n",
      "Error :0.0036542695357941533\n",
      "Error :0.0035309379950597703\n"
     ]
    },
    {
     "name": "stderr",
     "output_type": "stream",
     "text": [
      "Ranks Progress:  20%|██        | 26/129 [02:53<11:40,  6.80s/rank]"
     ]
    },
    {
     "name": "stdout",
     "output_type": "stream",
     "text": [
      "Error :0.003431744024863151\n",
      "Error :0.008038240969787018\n",
      "Error :0.0067622647986246\n",
      "Error :0.005100584809476548\n",
      "Error :0.0044848152104643045\n",
      "Error :0.004124986546156858\n",
      "Error :0.0038754841545105413\n",
      "Error :0.0037443295990639077\n",
      "Error :0.003550181632224401\n",
      "Error :0.0034073411796247057\n"
     ]
    },
    {
     "name": "stderr",
     "output_type": "stream",
     "text": [
      "Ranks Progress:  21%|██        | 27/129 [02:59<11:29,  6.76s/rank]"
     ]
    },
    {
     "name": "stdout",
     "output_type": "stream",
     "text": [
      "Error :0.003373824775136079\n",
      "Error :0.008911321388011864\n",
      "Error :0.006276971860642982\n",
      "Error :0.005230328943185903\n",
      "Error :0.00459917433201731\n",
      "Error :0.004085555285220062\n",
      "Error :0.003962381583231054\n",
      "Error :0.0036156103914439346\n",
      "Error :0.00349969633271762\n",
      "Error :0.003390493085131105\n"
     ]
    },
    {
     "name": "stderr",
     "output_type": "stream",
     "text": [
      "Ranks Progress:  22%|██▏       | 28/129 [03:06<11:24,  6.78s/rank]"
     ]
    },
    {
     "name": "stdout",
     "output_type": "stream",
     "text": [
      "Error :0.0033135981498569043\n",
      "Error :0.00843949106533584\n",
      "Error :0.006509951757655912\n",
      "Error :0.005088417332504908\n",
      "Error :0.004464137415143174\n",
      "Error :0.004110393158609615\n",
      "Error :0.0038304885862320785\n",
      "Error :0.0035926988404782812\n",
      "Error :0.003471999708805772\n",
      "Error :0.0033180640800939487\n"
     ]
    },
    {
     "name": "stderr",
     "output_type": "stream",
     "text": [
      "Ranks Progress:  22%|██▏       | 29/129 [03:13<11:15,  6.76s/rank]"
     ]
    },
    {
     "name": "stdout",
     "output_type": "stream",
     "text": [
      "Error :0.003253839487617071\n",
      "Error :0.008694150859656373\n",
      "Error :0.006731826954139849\n",
      "Error :0.004892064097862419\n",
      "Error :0.00450086274949541\n",
      "Error :0.004021817561076326\n",
      "Error :0.0037629394456036216\n",
      "Error :0.0035291670457529597\n",
      "Error :0.0033842212899537687\n",
      "Error :0.003213100477650867\n"
     ]
    },
    {
     "name": "stderr",
     "output_type": "stream",
     "text": [
      "Ranks Progress:  23%|██▎       | 30/129 [03:19<10:59,  6.67s/rank]"
     ]
    },
    {
     "name": "stdout",
     "output_type": "stream",
     "text": [
      "Error :0.0031934830333180614\n",
      "Error :0.008158799021673874\n",
      "Error :0.006010214138026253\n",
      "Error :0.005153860960446486\n",
      "Error :0.004531190503852455\n",
      "Error :0.003986775429507821\n",
      "Error :0.003735090630866968\n",
      "Error :0.003448837000412193\n",
      "Error :0.003347593185840802\n",
      "Error :0.003199983920787941\n"
     ]
    },
    {
     "name": "stderr",
     "output_type": "stream",
     "text": [
      "Ranks Progress:  24%|██▍       | 31/129 [03:25<10:33,  6.46s/rank]"
     ]
    },
    {
     "name": "stdout",
     "output_type": "stream",
     "text": [
      "Error :0.003085636176984666\n",
      "Error :0.008454401752554469\n",
      "Error :0.006184527014600358\n",
      "Error :0.004876581957860687\n",
      "Error :0.004426056714599448\n",
      "Error :0.0038395444678897867\n",
      "Error :0.0036356547502310907\n",
      "Error :0.003481723693001196\n",
      "Error :0.0032959912157648516\n",
      "Error :0.003185777573253267\n"
     ]
    },
    {
     "name": "stderr",
     "output_type": "stream",
     "text": [
      "Ranks Progress:  25%|██▍       | 32/129 [03:32<10:32,  6.52s/rank]"
     ]
    },
    {
     "name": "stdout",
     "output_type": "stream",
     "text": [
      "Error :0.0030690394943944173\n",
      "Error :0.008643197089280658\n",
      "Error :0.006089031779508\n",
      "Error :0.005376560506034541\n",
      "Error :0.004259458015179929\n",
      "Error :0.00387271194718562\n",
      "Error :0.003627641346009719\n",
      "Error :0.003365984202629533\n",
      "Error :0.0032065798496709605\n",
      "Error :0.003111419732226668\n"
     ]
    },
    {
     "name": "stderr",
     "output_type": "stream",
     "text": [
      "Ranks Progress:  26%|██▌       | 33/129 [03:39<10:36,  6.63s/rank]"
     ]
    },
    {
     "name": "stdout",
     "output_type": "stream",
     "text": [
      "Error :0.0030044771800585516\n",
      "Error :0.008748752107757489\n",
      "Error :0.0059846764532755226\n",
      "Error :0.0050577568598847026\n",
      "Error :0.004366131846304326\n",
      "Error :0.003825363784505902\n",
      "Error :0.003551616238691397\n",
      "Error :0.003306529498069779\n",
      "Error :0.003194154948926794\n",
      "Error :0.003041407839728054\n"
     ]
    },
    {
     "name": "stderr",
     "output_type": "stream",
     "text": [
      "Ranks Progress:  26%|██▋       | 34/129 [03:46<10:30,  6.64s/rank]"
     ]
    },
    {
     "name": "stdout",
     "output_type": "stream",
     "text": [
      "Error :0.0029453193286164215\n",
      "Error :0.008513117309429101\n",
      "Error :0.006690827713984468\n",
      "Error :0.005007472086037026\n",
      "Error :0.004335802335340256\n",
      "Error :0.0038191369871892187\n",
      "Error :0.0035462913038485913\n",
      "Error :0.003297983158057826\n",
      "Error :0.0031186644951614823\n",
      "Error :0.0029981743439843472\n"
     ]
    },
    {
     "name": "stderr",
     "output_type": "stream",
     "text": [
      "Ranks Progress:  27%|██▋       | 35/129 [03:52<10:27,  6.67s/rank]"
     ]
    },
    {
     "name": "stdout",
     "output_type": "stream",
     "text": [
      "Error :0.002879798688499263\n",
      "Error :0.008138445656512073\n",
      "Error :0.006329732467327043\n",
      "Error :0.005267567573355497\n",
      "Error :0.00428613630153735\n",
      "Error :0.003795273255491681\n",
      "Error :0.003496854235785452\n",
      "Error :0.0032412708223504175\n",
      "Error :0.003058620294402355\n",
      "Error :0.0029712079958642986\n"
     ]
    },
    {
     "name": "stderr",
     "output_type": "stream",
     "text": [
      "Ranks Progress:  28%|██▊       | 36/129 [03:59<10:24,  6.71s/rank]"
     ]
    },
    {
     "name": "stdout",
     "output_type": "stream",
     "text": [
      "Error :0.0028431699432813237\n",
      "Error :0.008860649448558742\n",
      "Error :0.006077099243152429\n",
      "Error :0.005104687235520423\n",
      "Error :0.0044475461707639856\n",
      "Error :0.0038093414588839464\n",
      "Error :0.00339882050296137\n",
      "Error :0.0032281778126760194\n",
      "Error :0.0030023829267078785\n",
      "Error :0.002933298549943946\n"
     ]
    },
    {
     "name": "stderr",
     "output_type": "stream",
     "text": [
      "Ranks Progress:  29%|██▊       | 37/129 [04:06<10:20,  6.74s/rank]"
     ]
    },
    {
     "name": "stdout",
     "output_type": "stream",
     "text": [
      "Error :0.0028036869896240846\n",
      "Error :0.008362220438096262\n",
      "Error :0.0062903155928839835\n",
      "Error :0.005151719248683224\n",
      "Error :0.004160628287742269\n",
      "Error :0.003823372689441986\n",
      "Error :0.0034522939173613093\n",
      "Error :0.003235240965126191\n",
      "Error :0.003036967838941011\n",
      "Error :0.002861966351466861\n"
     ]
    },
    {
     "name": "stderr",
     "output_type": "stream",
     "text": [
      "Ranks Progress:  29%|██▉       | 38/129 [04:13<10:31,  6.93s/rank]"
     ]
    },
    {
     "name": "stdout",
     "output_type": "stream",
     "text": [
      "Error :0.0027627607987321806\n",
      "Error :0.008179064300778364\n",
      "Error :0.006513552143120459\n",
      "Error :0.00496205973975182\n",
      "Error :0.004029213701546118\n",
      "Error :0.0037928077948252113\n",
      "Error :0.003439010939764696\n",
      "Error :0.0031313246899945042\n",
      "Error :0.002948213218086705\n",
      "Error :0.0028223650191065244\n"
     ]
    },
    {
     "name": "stderr",
     "output_type": "stream",
     "text": [
      "Ranks Progress:  30%|███       | 39/129 [04:21<10:35,  7.06s/rank]"
     ]
    },
    {
     "name": "stdout",
     "output_type": "stream",
     "text": [
      "Error :0.0027040167884354264\n",
      "Error :0.008128636072300334\n",
      "Error :0.006334527041792071\n",
      "Error :0.005336379459319024\n",
      "Error :0.004149525880541844\n",
      "Error :0.0037011567084403478\n",
      "Error :0.003392866643658154\n",
      "Error :0.003097547839996811\n",
      "Error :0.002891415676656342\n",
      "Error :0.0027889836772539336\n"
     ]
    },
    {
     "name": "stderr",
     "output_type": "stream",
     "text": [
      "Ranks Progress:  31%|███       | 40/129 [04:28<10:33,  7.12s/rank]"
     ]
    },
    {
     "name": "stdout",
     "output_type": "stream",
     "text": [
      "Error :0.0026966124113452406\n",
      "Error :0.00791955093322434\n",
      "Error :0.006748588813203855\n",
      "Error :0.0050610193812172174\n",
      "Error :0.004266090818484011\n",
      "Error :0.0037164620197225108\n",
      "Error :0.003392273164355114\n",
      "Error :0.003089727673151672\n",
      "Error :0.0029458907606139694\n",
      "Error :0.0027273311302567216\n"
     ]
    },
    {
     "name": "stderr",
     "output_type": "stream",
     "text": [
      "Ranks Progress:  32%|███▏      | 41/129 [04:35<10:31,  7.18s/rank]"
     ]
    },
    {
     "name": "stdout",
     "output_type": "stream",
     "text": [
      "Error :0.002670812551194773\n",
      "Error :0.0086538495325462\n",
      "Error :0.006295712862989977\n",
      "Error :0.004974999283227419\n",
      "Error :0.0041239447789939935\n",
      "Error :0.0036997749940019323\n",
      "Error :0.0032529073071079534\n",
      "Error :0.0030119658886019213\n",
      "Error :0.002856319455768917\n",
      "Error :0.0027101446630512487\n"
     ]
    },
    {
     "name": "stderr",
     "output_type": "stream",
     "text": [
      "Ranks Progress:  33%|███▎      | 42/129 [04:42<10:06,  6.98s/rank]"
     ]
    },
    {
     "name": "stdout",
     "output_type": "stream",
     "text": [
      "Error :0.0026320899305342696\n",
      "Error :0.009318062863205983\n",
      "Error :0.006428706393820682\n",
      "Error :0.0050058726794547604\n",
      "Error :0.0042589042687360065\n",
      "Error :0.0036567679221689298\n",
      "Error :0.0032667226150719327\n",
      "Error :0.003070185894100457\n",
      "Error :0.0028204016672638693\n",
      "Error :0.002697590435193604\n"
     ]
    },
    {
     "name": "stderr",
     "output_type": "stream",
     "text": [
      "Ranks Progress:  33%|███▎      | 43/129 [04:48<09:42,  6.78s/rank]"
     ]
    },
    {
     "name": "stdout",
     "output_type": "stream",
     "text": [
      "Error :0.0025717222143727208\n",
      "Error :0.008069518981026681\n",
      "Error :0.006427324303049191\n",
      "Error :0.004910215570880435\n",
      "Error :0.004161280253722041\n",
      "Error :0.0036555931984173745\n",
      "Error :0.0033252436815428815\n",
      "Error :0.0030010684807414644\n",
      "Error :0.002778787315921486\n",
      "Error :0.002689571445669184\n"
     ]
    },
    {
     "name": "stderr",
     "output_type": "stream",
     "text": [
      "Ranks Progress:  34%|███▍      | 44/129 [04:55<09:35,  6.77s/rank]"
     ]
    },
    {
     "name": "stdout",
     "output_type": "stream",
     "text": [
      "Error :0.0025448939020816844\n",
      "Error :0.009839710512913385\n",
      "Error :0.006321629227076729\n",
      "Error :0.005074752205949431\n",
      "Error :0.004156731918614894\n",
      "Error :0.0036352303040915967\n",
      "Error :0.0032159817476671688\n",
      "Error :0.0030559960651961545\n",
      "Error :0.002747358715386527\n",
      "Error :0.0026435888046054926\n"
     ]
    },
    {
     "name": "stderr",
     "output_type": "stream",
     "text": [
      "Ranks Progress:  35%|███▍      | 45/129 [05:02<09:30,  6.80s/rank]"
     ]
    },
    {
     "name": "stdout",
     "output_type": "stream",
     "text": [
      "Error :0.002510721709584185\n",
      "Error :0.01070291436521124\n",
      "Error :0.006375687092151248\n",
      "Error :0.005263685816894698\n",
      "Error :0.00420216763182365\n",
      "Error :0.003538822090525819\n",
      "Error :0.00318954649399834\n",
      "Error :0.0029624273459578814\n",
      "Error :0.0026991324860467583\n",
      "Error :0.0026525380955105004\n"
     ]
    },
    {
     "name": "stderr",
     "output_type": "stream",
     "text": [
      "Ranks Progress:  36%|███▌      | 46/129 [05:08<09:23,  6.79s/rank]"
     ]
    },
    {
     "name": "stdout",
     "output_type": "stream",
     "text": [
      "Error :0.0024877538402354325\n",
      "Error :0.009048991747218384\n",
      "Error :0.006349595187324465\n",
      "Error :0.004867564643510691\n",
      "Error :0.004236646751923658\n",
      "Error :0.00352222729252418\n",
      "Error :0.003186777138454341\n",
      "Error :0.0029905559323883525\n",
      "Error :0.0027143854487464035\n",
      "Error :0.0025790370610514956\n"
     ]
    },
    {
     "name": "stderr",
     "output_type": "stream",
     "text": [
      "Ranks Progress:  36%|███▋      | 47/129 [05:15<09:22,  6.85s/rank]"
     ]
    },
    {
     "name": "stdout",
     "output_type": "stream",
     "text": [
      "Error :0.0024238134726453815\n",
      "Error :0.009403666100474358\n",
      "Error :0.006147937833047542\n",
      "Error :0.005031044564192417\n",
      "Error :0.004161749718096631\n",
      "Error :0.0035980594158294284\n",
      "Error :0.00314283573030178\n",
      "Error :0.002895944477852094\n",
      "Error :0.002708120125807126\n",
      "Error :0.002546185051339824\n"
     ]
    },
    {
     "name": "stderr",
     "output_type": "stream",
     "text": [
      "Ranks Progress:  37%|███▋      | 48/129 [05:22<09:15,  6.85s/rank]"
     ]
    },
    {
     "name": "stdout",
     "output_type": "stream",
     "text": [
      "Error :0.0024095430432344296\n",
      "Error :0.008260976754521025\n",
      "Error :0.006304270550378479\n",
      "Error :0.005156580211307611\n",
      "Error :0.004185357620375061\n",
      "Error :0.003581418670074913\n",
      "Error :0.003151572975705681\n",
      "Error :0.0029575913504000417\n",
      "Error :0.0026574493752293494\n",
      "Error :0.002528853997653174\n"
     ]
    },
    {
     "name": "stderr",
     "output_type": "stream",
     "text": [
      "Ranks Progress:  38%|███▊      | 49/129 [05:29<09:08,  6.85s/rank]"
     ]
    },
    {
     "name": "stdout",
     "output_type": "stream",
     "text": [
      "Error :0.002400733671776974\n",
      "Error :0.008622300349450296\n",
      "Error :0.00634263704424016\n",
      "Error :0.005126946028636771\n",
      "Error :0.004057877456238961\n",
      "Error :0.0035881504178526097\n",
      "Error :0.0031791987011500046\n",
      "Error :0.0028922646984947493\n",
      "Error :0.0026715934619918973\n",
      "Error :0.002510589991103446\n"
     ]
    },
    {
     "name": "stderr",
     "output_type": "stream",
     "text": [
      "Ranks Progress:  39%|███▉      | 50/129 [05:36<09:03,  6.88s/rank]"
     ]
    },
    {
     "name": "stdout",
     "output_type": "stream",
     "text": [
      "Error :0.002365480271179298\n",
      "Error :0.008893808140030237\n",
      "Error :0.006429340698919271\n",
      "Error :0.005069783665742589\n",
      "Error :0.004192401999825019\n",
      "Error :0.003549000874353016\n",
      "Error :0.003086554386937539\n",
      "Error :0.0028652017896424035\n",
      "Error :0.0026301936889518837\n",
      "Error :0.0024566404836101527\n"
     ]
    },
    {
     "name": "stderr",
     "output_type": "stream",
     "text": [
      "Ranks Progress:  40%|███▉      | 51/129 [05:43<08:56,  6.87s/rank]"
     ]
    },
    {
     "name": "stdout",
     "output_type": "stream",
     "text": [
      "Error :0.0023452533932194364\n",
      "Error :0.009000902676379886\n",
      "Error :0.006481970437920945\n",
      "Error :0.005006249790568892\n",
      "Error :0.004042709764031092\n",
      "Error :0.003517005945559552\n",
      "Error :0.003211480385286243\n",
      "Error :0.002826829128393291\n",
      "Error :0.0026007270275524076\n",
      "Error :0.0024919357497827097\n"
     ]
    },
    {
     "name": "stderr",
     "output_type": "stream",
     "text": [
      "Ranks Progress:  40%|████      | 52/129 [05:51<09:12,  7.18s/rank]"
     ]
    },
    {
     "name": "stdout",
     "output_type": "stream",
     "text": [
      "Error :0.0023178550491273426\n",
      "Error :0.008603389477876106\n",
      "Error :0.006727629146136773\n",
      "Error :0.005106532913166912\n",
      "Error :0.004168843366474969\n",
      "Error :0.0034288474683655686\n",
      "Error :0.0031858979372281107\n",
      "Error :0.0028388641513754976\n",
      "Error :0.0026273496401491405\n",
      "Error :0.0024447998547967543\n"
     ]
    },
    {
     "name": "stderr",
     "output_type": "stream",
     "text": [
      "Ranks Progress:  41%|████      | 53/129 [05:58<09:13,  7.29s/rank]"
     ]
    },
    {
     "name": "stdout",
     "output_type": "stream",
     "text": [
      "Error :0.0023285920647053687\n",
      "Error :0.009008572019617295\n",
      "Error :0.006283025282524701\n",
      "Error :0.005057900672763049\n",
      "Error :0.004023498828334647\n",
      "Error :0.0035999748741091164\n",
      "Error :0.0030134901260901546\n",
      "Error :0.0028772124727219285\n",
      "Error :0.0025486879704734737\n",
      "Error :0.002429356003456581\n"
     ]
    },
    {
     "name": "stderr",
     "output_type": "stream",
     "text": [
      "Ranks Progress:  42%|████▏     | 54/129 [06:07<09:30,  7.60s/rank]"
     ]
    },
    {
     "name": "stdout",
     "output_type": "stream",
     "text": [
      "Error :0.0023032803029430123\n",
      "Error :0.009156183298228426\n",
      "Error :0.006531633728205712\n",
      "Error :0.0050535551029224895\n",
      "Error :0.004213436857013586\n",
      "Error :0.0035285974293418755\n",
      "Error :0.0031597157707159186\n",
      "Error :0.002809089515986361\n",
      "Error :0.0025782057261634164\n",
      "Error :0.0024346837468129444\n"
     ]
    },
    {
     "name": "stderr",
     "output_type": "stream",
     "text": [
      "Ranks Progress:  43%|████▎     | 55/129 [06:14<09:22,  7.61s/rank]"
     ]
    },
    {
     "name": "stdout",
     "output_type": "stream",
     "text": [
      "Error :0.0022244892429355207\n",
      "Error :0.008481482432527738\n",
      "Error :0.0063628806866566565\n",
      "Error :0.0050315740707327855\n",
      "Error :0.004286123312237334\n",
      "Error :0.0036471077362057965\n",
      "Error :0.0030774059580518866\n",
      "Error :0.0028233632988458658\n",
      "Error :0.002571222542265391\n",
      "Error :0.0023425261021141025\n"
     ]
    },
    {
     "name": "stderr",
     "output_type": "stream",
     "text": [
      "Ranks Progress:  43%|████▎     | 56/129 [06:21<09:05,  7.47s/rank]"
     ]
    },
    {
     "name": "stdout",
     "output_type": "stream",
     "text": [
      "Error :0.0022554410268081785\n",
      "Error :0.008163903831683706\n",
      "Error :0.006440285311517963\n",
      "Error :0.005191437979741449\n",
      "Error :0.004153757133110077\n",
      "Error :0.00353410603240941\n",
      "Error :0.003136158371692847\n",
      "Error :0.0027562958249640083\n",
      "Error :0.002596774491735171\n",
      "Error :0.002372775559454207\n"
     ]
    },
    {
     "name": "stderr",
     "output_type": "stream",
     "text": [
      "Ranks Progress:  44%|████▍     | 57/129 [06:29<08:50,  7.37s/rank]"
     ]
    },
    {
     "name": "stdout",
     "output_type": "stream",
     "text": [
      "Error :0.002222564982389869\n",
      "Error :0.009339730404985019\n",
      "Error :0.006904428553993008\n",
      "Error :0.004884409040166005\n",
      "Error :0.004117930745727721\n",
      "Error :0.0035666910228328162\n",
      "Error :0.002997465015730256\n",
      "Error :0.002744220480910865\n",
      "Error :0.0025922959640035164\n",
      "Error :0.0023769603192080953\n"
     ]
    },
    {
     "name": "stderr",
     "output_type": "stream",
     "text": [
      "Ranks Progress:  45%|████▍     | 58/129 [06:35<08:25,  7.12s/rank]"
     ]
    },
    {
     "name": "stdout",
     "output_type": "stream",
     "text": [
      "Error :0.0022060662499422475\n",
      "Error :0.008617057603075505\n",
      "Error :0.006308485543756954\n",
      "Error :0.005123202676011653\n",
      "Error :0.004116888298152471\n",
      "Error :0.003539681201290602\n",
      "Error :0.00305790852975618\n",
      "Error :0.002806421865966746\n",
      "Error :0.0024945569733772774\n",
      "Error :0.0023545542207063035\n"
     ]
    },
    {
     "name": "stderr",
     "output_type": "stream",
     "text": [
      "Ranks Progress:  46%|████▌     | 59/129 [06:41<07:57,  6.83s/rank]"
     ]
    },
    {
     "name": "stdout",
     "output_type": "stream",
     "text": [
      "Error :0.002196319622318062\n",
      "Error :0.008736878081911969\n",
      "Error :0.006417020802008253\n",
      "Error :0.004916238795708559\n",
      "Error :0.004323881826024441\n",
      "Error :0.003590690216499185\n",
      "Error :0.003108783346821525\n",
      "Error :0.002712182045843041\n",
      "Error :0.0024929434382195614\n",
      "Error :0.002355085318881236\n"
     ]
    },
    {
     "name": "stderr",
     "output_type": "stream",
     "text": [
      "Ranks Progress:  47%|████▋     | 60/129 [06:48<07:45,  6.75s/rank]"
     ]
    },
    {
     "name": "stdout",
     "output_type": "stream",
     "text": [
      "Error :0.0021646432270601363\n",
      "Error :0.00811375732301223\n",
      "Error :0.0065296838258587986\n",
      "Error :0.00497933661530754\n",
      "Error :0.00408898993589857\n",
      "Error :0.0035865102935341412\n",
      "Error :0.003046892770778042\n",
      "Error :0.0026804232091276387\n",
      "Error :0.002457233603080317\n",
      "Error :0.002317296874239812\n"
     ]
    },
    {
     "name": "stderr",
     "output_type": "stream",
     "text": [
      "Ranks Progress:  47%|████▋     | 61/129 [06:55<07:48,  6.89s/rank]"
     ]
    },
    {
     "name": "stdout",
     "output_type": "stream",
     "text": [
      "Error :0.0021517769614084158\n",
      "Error :0.008225609576389216\n",
      "Error :0.006279799568603615\n",
      "Error :0.0050238283757298215\n",
      "Error :0.004315024683357047\n",
      "Error :0.0035130400139848274\n",
      "Error :0.0030404180746226132\n",
      "Error :0.002728345408089024\n",
      "Error :0.002493565711971533\n",
      "Error :0.002296340683454456\n"
     ]
    },
    {
     "name": "stderr",
     "output_type": "stream",
     "text": [
      "Ranks Progress:  48%|████▊     | 62/129 [07:02<07:47,  6.98s/rank]"
     ]
    },
    {
     "name": "stdout",
     "output_type": "stream",
     "text": [
      "Error :0.0021229490745376914\n",
      "Error :0.008673422337882895\n",
      "Error :0.0065339990732265225\n",
      "Error :0.004904701018003129\n",
      "Error :0.004216924413950253\n",
      "Error :0.0034988505876382392\n",
      "Error :0.0029818654629933535\n",
      "Error :0.0026982520210852615\n",
      "Error :0.002487337585862342\n",
      "Error :0.002247245707886322\n"
     ]
    },
    {
     "name": "stderr",
     "output_type": "stream",
     "text": [
      "Ranks Progress:  49%|████▉     | 63/129 [07:10<07:57,  7.24s/rank]"
     ]
    },
    {
     "name": "stdout",
     "output_type": "stream",
     "text": [
      "Error :0.002116930176877794\n",
      "Error :0.008197087832525127\n",
      "Error :0.0063463819201672635\n",
      "Error :0.005136543966495516\n",
      "Error :0.004114512448107686\n",
      "Error :0.0035295332024917188\n",
      "Error :0.0029666499569091192\n",
      "Error :0.0026695838363194747\n",
      "Error :0.0024619554807565284\n",
      "Error :0.0022633112871911667\n"
     ]
    },
    {
     "name": "stderr",
     "output_type": "stream",
     "text": [
      "Ranks Progress:  50%|████▉     | 64/129 [07:17<07:46,  7.18s/rank]"
     ]
    },
    {
     "name": "stdout",
     "output_type": "stream",
     "text": [
      "Error :0.0021387382214540975\n",
      "Error :0.008948685939970502\n",
      "Error :0.006863286989630899\n",
      "Error :0.004955654439818245\n",
      "Error :0.004117467262374325\n",
      "Error :0.003555335380863236\n",
      "Error :0.0029192840744666805\n",
      "Error :0.0026757663082611536\n",
      "Error :0.0024489127368175364\n",
      "Error :0.002203732219911677\n"
     ]
    },
    {
     "name": "stderr",
     "output_type": "stream",
     "text": [
      "Ranks Progress:  50%|█████     | 65/129 [07:24<07:33,  7.08s/rank]"
     ]
    },
    {
     "name": "stdout",
     "output_type": "stream",
     "text": [
      "Error :0.002148525113620322\n",
      "Error :0.010589110877072391\n",
      "Error :0.006257534675515638\n",
      "Error :0.005104401951970816\n",
      "Error :0.00422091645376645\n",
      "Error :0.003574194135946256\n",
      "Error :0.0030543039888102363\n",
      "Error :0.0026753591668460036\n",
      "Error :0.0024489562471176757\n",
      "Error :0.0022794337098765885\n"
     ]
    },
    {
     "name": "stderr",
     "output_type": "stream",
     "text": [
      "Ranks Progress:  51%|█████     | 66/129 [07:31<07:21,  7.01s/rank]"
     ]
    },
    {
     "name": "stdout",
     "output_type": "stream",
     "text": [
      "Error :0.0021010904367432326\n",
      "Error :0.00876051620362702\n",
      "Error :0.006094642915550204\n",
      "Error :0.004974748770328658\n",
      "Error :0.004177718623902088\n",
      "Error :0.0034888543914950187\n",
      "Error :0.0030319068065298785\n",
      "Error :0.0026312054621173337\n",
      "Error :0.002422161175930757\n",
      "Error :0.0022341126865950862\n"
     ]
    },
    {
     "name": "stderr",
     "output_type": "stream",
     "text": [
      "Ranks Progress:  52%|█████▏    | 67/129 [07:38<07:12,  6.98s/rank]"
     ]
    },
    {
     "name": "stdout",
     "output_type": "stream",
     "text": [
      "Error :0.002050727233620648\n",
      "Error :0.008810531014943605\n",
      "Error :0.006162251903833022\n",
      "Error :0.004966142743347983\n",
      "Error :0.004065746572193464\n",
      "Error :0.0034841659129623277\n",
      "Error :0.003111994350178768\n",
      "Error :0.002640099381583676\n",
      "Error :0.0024209421281427743\n",
      "Error :0.0022201633938343265\n"
     ]
    },
    {
     "name": "stderr",
     "output_type": "stream",
     "text": [
      "Ranks Progress:  53%|█████▎    | 68/129 [07:45<07:04,  6.96s/rank]"
     ]
    },
    {
     "name": "stdout",
     "output_type": "stream",
     "text": [
      "Error :0.0020580760852702265\n",
      "Error :0.011054654432566754\n",
      "Error :0.006399158638228907\n",
      "Error :0.004974633595385476\n",
      "Error :0.004223409462082303\n",
      "Error :0.003530058689970436\n",
      "Error :0.0030017233625944475\n",
      "Error :0.002697191935163642\n",
      "Error :0.002362358540432567\n",
      "Error :0.002191935038213789\n"
     ]
    },
    {
     "name": "stderr",
     "output_type": "stream",
     "text": [
      "Ranks Progress:  53%|█████▎    | 69/129 [07:52<06:55,  6.93s/rank]"
     ]
    },
    {
     "name": "stdout",
     "output_type": "stream",
     "text": [
      "Error :0.0020522918386112893\n",
      "Error :0.008338335632424157\n",
      "Error :0.0067200516467806086\n",
      "Error :0.004945508900447532\n",
      "Error :0.0041503978241603035\n",
      "Error :0.0036644642487443754\n",
      "Error :0.003037727152636204\n",
      "Error :0.0026567910410912818\n",
      "Error :0.002424454465146227\n",
      "Error :0.002153530122732145\n"
     ]
    },
    {
     "name": "stderr",
     "output_type": "stream",
     "text": [
      "Ranks Progress:  54%|█████▍    | 70/129 [07:58<06:45,  6.87s/rank]"
     ]
    },
    {
     "name": "stdout",
     "output_type": "stream",
     "text": [
      "Error :0.002001241605596296\n",
      "Error :0.008198185901098208\n",
      "Error :0.006292100092199439\n",
      "Error :0.0049960071835249515\n",
      "Error :0.004149154733461327\n",
      "Error :0.003528369537644179\n",
      "Error :0.003051035291659792\n",
      "Error :0.002620424260242655\n",
      "Error :0.002369041293158717\n",
      "Error :0.002165278805407441\n"
     ]
    },
    {
     "name": "stderr",
     "output_type": "stream",
     "text": [
      "Ranks Progress:  55%|█████▌    | 71/129 [08:05<06:39,  6.89s/rank]"
     ]
    },
    {
     "name": "stdout",
     "output_type": "stream",
     "text": [
      "Error :0.0020110273849635197\n",
      "Error :0.008502217493379592\n",
      "Error :0.006480803259977708\n",
      "Error :0.005202747479658788\n",
      "Error :0.004309242817390459\n",
      "Error :0.003538951627960926\n",
      "Error :0.0030807978397366965\n",
      "Error :0.0026610594332926586\n",
      "Error :0.0023680750602497486\n",
      "Error :0.0021815350577710645\n"
     ]
    },
    {
     "name": "stderr",
     "output_type": "stream",
     "text": [
      "Ranks Progress:  56%|█████▌    | 72/129 [08:12<06:30,  6.84s/rank]"
     ]
    },
    {
     "name": "stdout",
     "output_type": "stream",
     "text": [
      "Error :0.0020174607397653184\n",
      "Error :0.00834106660802601\n",
      "Error :0.006284335276885199\n",
      "Error :0.004860828264282319\n",
      "Error :0.004270496520933511\n",
      "Error :0.0035592075286902387\n",
      "Error :0.0030018059153037405\n",
      "Error :0.002665570654569\n",
      "Error :0.002325008001932333\n",
      "Error :0.0021792645903346204\n"
     ]
    },
    {
     "name": "stderr",
     "output_type": "stream",
     "text": [
      "Ranks Progress:  57%|█████▋    | 73/129 [08:19<06:32,  7.01s/rank]"
     ]
    },
    {
     "name": "stdout",
     "output_type": "stream",
     "text": [
      "Error :0.0020210590192390626\n",
      "Error :0.008642909984783698\n",
      "Error :0.006292941893471095\n",
      "Error :0.004926912035477514\n",
      "Error :0.004233261085790269\n",
      "Error :0.0035929505892305434\n",
      "Error :0.003050506479158537\n",
      "Error :0.0027045836373857\n",
      "Error :0.002373579002706012\n",
      "Error :0.002195770881653032\n"
     ]
    },
    {
     "name": "stderr",
     "output_type": "stream",
     "text": [
      "Ranks Progress:  57%|█████▋    | 74/129 [08:26<06:23,  6.98s/rank]"
     ]
    },
    {
     "name": "stdout",
     "output_type": "stream",
     "text": [
      "Error :0.001984695304129168\n",
      "Error :0.008960515547509823\n",
      "Error :0.0063624094177600525\n",
      "Error :0.005015075697234305\n",
      "Error :0.004143334602128117\n",
      "Error :0.003478602390131454\n",
      "Error :0.003106438048895193\n",
      "Error :0.0026650796900442655\n",
      "Error :0.002299536190962049\n",
      "Error :0.0021656899095778373\n"
     ]
    },
    {
     "name": "stderr",
     "output_type": "stream",
     "text": [
      "Ranks Progress:  58%|█████▊    | 75/129 [08:34<06:23,  7.10s/rank]"
     ]
    },
    {
     "name": "stdout",
     "output_type": "stream",
     "text": [
      "Error :0.002001052618127223\n",
      "Error :0.008356721380053856\n",
      "Error :0.0061534583312010905\n",
      "Error :0.00491091369476068\n",
      "Error :0.004235345476530282\n",
      "Error :0.0035376548296569806\n",
      "Error :0.0030198688618311357\n",
      "Error :0.002601105725420996\n",
      "Error :0.002401189574722907\n",
      "Error :0.0021047234126820137\n"
     ]
    },
    {
     "name": "stderr",
     "output_type": "stream",
     "text": [
      "Ranks Progress:  59%|█████▉    | 76/129 [08:40<06:02,  6.84s/rank]"
     ]
    },
    {
     "name": "stdout",
     "output_type": "stream",
     "text": [
      "Error :0.0019727616820520177\n",
      "Error :0.008719463957596058\n",
      "Error :0.0063437985339345054\n",
      "Error :0.005010739909551215\n",
      "Error :0.0040658625718552775\n",
      "Error :0.003540018313335781\n",
      "Error :0.003036354310168456\n",
      "Error :0.002672478121509377\n",
      "Error :0.002329002642250479\n",
      "Error :0.0021672069065479887\n"
     ]
    },
    {
     "name": "stderr",
     "output_type": "stream",
     "text": [
      "Ranks Progress:  60%|█████▉    | 77/129 [08:47<05:53,  6.80s/rank]"
     ]
    },
    {
     "name": "stdout",
     "output_type": "stream",
     "text": [
      "Error :0.001968170609047691\n",
      "Error :0.008747573250386944\n",
      "Error :0.0063377830653637\n",
      "Error :0.005046361485279763\n",
      "Error :0.004196477170301624\n",
      "Error :0.0034381306089491252\n",
      "Error :0.003029858900794286\n",
      "Error :0.0026577024970181927\n",
      "Error :0.002347721861661304\n",
      "Error :0.002111214193623875\n"
     ]
    },
    {
     "name": "stderr",
     "output_type": "stream",
     "text": [
      "Ranks Progress:  60%|██████    | 78/129 [08:55<06:05,  7.17s/rank]"
     ]
    },
    {
     "name": "stdout",
     "output_type": "stream",
     "text": [
      "Error :0.0019193760057683235\n",
      "Error :0.009795796919180234\n",
      "Error :0.006819361695234071\n",
      "Error :0.0051280717993034694\n",
      "Error :0.004228837757595336\n",
      "Error :0.0035428579306151934\n",
      "Error :0.0031239802979522585\n",
      "Error :0.0026965905676290956\n",
      "Error :0.0022959463895467287\n",
      "Error :0.002106592499903958\n"
     ]
    },
    {
     "name": "stderr",
     "output_type": "stream",
     "text": [
      "Ranks Progress:  61%|██████    | 79/129 [09:02<06:03,  7.27s/rank]"
     ]
    },
    {
     "name": "stdout",
     "output_type": "stream",
     "text": [
      "Error :0.0019577226754883366\n",
      "Error :0.0088803525030977\n",
      "Error :0.006153060766790694\n",
      "Error :0.00500336775603865\n",
      "Error :0.004122582420073528\n",
      "Error :0.00348609276935915\n",
      "Error :0.002998333032066875\n",
      "Error :0.0025748873305338465\n",
      "Error :0.00235377792190952\n",
      "Error :0.002125700382400981\n"
     ]
    },
    {
     "name": "stderr",
     "output_type": "stream",
     "text": [
      "Ranks Progress:  62%|██████▏   | 80/129 [09:09<05:50,  7.15s/rank]"
     ]
    },
    {
     "name": "stdout",
     "output_type": "stream",
     "text": [
      "Error :0.001970245967200826\n",
      "Error :0.008850570576894564\n",
      "Error :0.00611033833694538\n",
      "Error :0.005032451100625756\n",
      "Error :0.00423748066592608\n",
      "Error :0.0034547488762584778\n",
      "Error :0.0030321412428098546\n",
      "Error :0.002683229335786393\n",
      "Error :0.002389394681244221\n",
      "Error :0.0021044188757708276\n"
     ]
    },
    {
     "name": "stderr",
     "output_type": "stream",
     "text": [
      "Ranks Progress:  63%|██████▎   | 81/129 [09:16<05:36,  7.01s/rank]"
     ]
    },
    {
     "name": "stdout",
     "output_type": "stream",
     "text": [
      "Error :0.001972831961605634\n",
      "Error :0.008459816681023106\n",
      "Error :0.0066297092863056625\n",
      "Error :0.005086047307030465\n",
      "Error :0.004173882538339832\n",
      "Error :0.0036058750325568857\n",
      "Error :0.003005214195175812\n",
      "Error :0.0026785224521144947\n",
      "Error :0.0023009616537164007\n",
      "Error :0.002124712481504373\n"
     ]
    },
    {
     "name": "stderr",
     "output_type": "stream",
     "text": [
      "Ranks Progress:  64%|██████▎   | 82/129 [09:22<05:26,  6.95s/rank]"
     ]
    },
    {
     "name": "stdout",
     "output_type": "stream",
     "text": [
      "Error :0.001934696007320277\n",
      "Error :0.009190579921704616\n",
      "Error :0.006325576015827764\n",
      "Error :0.0050641483540113\n",
      "Error :0.004241346491193704\n",
      "Error :0.0034682278065483745\n",
      "Error :0.0030572783351991016\n",
      "Error :0.002631658217421233\n",
      "Error :0.002307849113985294\n",
      "Error :0.00213171270967521\n"
     ]
    },
    {
     "name": "stderr",
     "output_type": "stream",
     "text": [
      "Ranks Progress:  64%|██████▍   | 83/129 [09:29<05:17,  6.91s/rank]"
     ]
    },
    {
     "name": "stdout",
     "output_type": "stream",
     "text": [
      "Error :0.0019303703271377382\n",
      "Error :0.008599991099769975\n",
      "Error :0.006102182528697995\n",
      "Error :0.004947409291802305\n",
      "Error :0.00409154917486676\n",
      "Error :0.0034505002512001215\n",
      "Error :0.003027221408129226\n",
      "Error :0.0025772384498133636\n",
      "Error :0.002277550987443312\n",
      "Error :0.0020750976400308566\n"
     ]
    },
    {
     "name": "stderr",
     "output_type": "stream",
     "text": [
      "Ranks Progress:  65%|██████▌   | 84/129 [09:36<05:09,  6.88s/rank]"
     ]
    },
    {
     "name": "stdout",
     "output_type": "stream",
     "text": [
      "Error :0.001967493508869453\n",
      "Error :0.008483067626217011\n",
      "Error :0.0064556763937455705\n",
      "Error :0.005017777308127415\n",
      "Error :0.004195757085815356\n",
      "Error :0.003592543248520925\n",
      "Error :0.003056243406342915\n",
      "Error :0.002596067811417726\n",
      "Error :0.0022945411794625522\n",
      "Error :0.0020405620034479595\n"
     ]
    },
    {
     "name": "stderr",
     "output_type": "stream",
     "text": [
      "Ranks Progress:  66%|██████▌   | 85/129 [09:43<05:01,  6.85s/rank]"
     ]
    },
    {
     "name": "stdout",
     "output_type": "stream",
     "text": [
      "Error :0.0019047216415758483\n",
      "Error :0.00891816349462577\n",
      "Error :0.006783485982080222\n",
      "Error :0.004945460301678695\n",
      "Error :0.004089112439906997\n",
      "Error :0.0034982740830812506\n",
      "Error :0.0030277808945785595\n",
      "Error :0.002620931672327747\n",
      "Error :0.0022849733500141097\n",
      "Error :0.0020772631705873743\n"
     ]
    },
    {
     "name": "stderr",
     "output_type": "stream",
     "text": [
      "Ranks Progress:  67%|██████▋   | 86/129 [09:50<04:53,  6.82s/rank]"
     ]
    },
    {
     "name": "stdout",
     "output_type": "stream",
     "text": [
      "Error :0.001957936007190763\n",
      "Error :0.008485746429477328\n",
      "Error :0.00634464696417632\n",
      "Error :0.005010009584806034\n",
      "Error :0.004192307115137641\n",
      "Error :0.0035309383628724304\n",
      "Error :0.0030031136079313363\n",
      "Error :0.0026101071059647465\n",
      "Error :0.0023232199505558463\n",
      "Error :0.002099028525942693\n"
     ]
    },
    {
     "name": "stderr",
     "output_type": "stream",
     "text": [
      "Ranks Progress:  67%|██████▋   | 87/129 [09:56<04:37,  6.62s/rank]"
     ]
    },
    {
     "name": "stdout",
     "output_type": "stream",
     "text": [
      "Error :0.0019006982717900292\n",
      "Error :0.008063379247591557\n",
      "Error :0.006138721793360168\n",
      "Error :0.005106922569333394\n",
      "Error :0.004403328553757165\n",
      "Error :0.0035553278317231865\n",
      "Error :0.003143409596093462\n",
      "Error :0.0026204634692172392\n",
      "Error :0.0022881131711359457\n",
      "Error :0.0020855359804656153\n"
     ]
    },
    {
     "name": "stderr",
     "output_type": "stream",
     "text": [
      "Ranks Progress:  68%|██████▊   | 88/129 [10:02<04:24,  6.46s/rank]"
     ]
    },
    {
     "name": "stdout",
     "output_type": "stream",
     "text": [
      "Error :0.0019164287598145604\n",
      "Error :0.008560431786030461\n",
      "Error :0.006455840107519634\n",
      "Error :0.005114993749355025\n",
      "Error :0.004103301611265512\n",
      "Error :0.00346351070335099\n",
      "Error :0.0030031817702547126\n",
      "Error :0.0026228553801642615\n",
      "Error :0.002350440790725809\n",
      "Error :0.0020575504758592583\n"
     ]
    },
    {
     "name": "stderr",
     "output_type": "stream",
     "text": [
      "Ranks Progress:  69%|██████▉   | 89/129 [10:09<04:24,  6.62s/rank]"
     ]
    },
    {
     "name": "stdout",
     "output_type": "stream",
     "text": [
      "Error :0.0018606999313222723\n",
      "Error :0.008646739430292351\n",
      "Error :0.006664356586725576\n",
      "Error :0.005260027381978405\n",
      "Error :0.004257986667232684\n",
      "Error :0.003529474610031213\n",
      "Error :0.0031239544094601402\n",
      "Error :0.002657474003143438\n",
      "Error :0.0023287627772800986\n",
      "Error :0.0020941808259264307\n"
     ]
    },
    {
     "name": "stderr",
     "output_type": "stream",
     "text": [
      "Ranks Progress:  70%|██████▉   | 90/129 [10:16<04:21,  6.69s/rank]"
     ]
    },
    {
     "name": "stdout",
     "output_type": "stream",
     "text": [
      "Error :0.0019340666359646311\n",
      "Error :0.009125666002219514\n",
      "Error :0.006241833734800775\n",
      "Error :0.004918138699856548\n",
      "Error :0.004222884499005057\n",
      "Error :0.0035453557460913515\n",
      "Error :0.0031226139644030004\n",
      "Error :0.0026285792257790446\n",
      "Error :0.00229324865013186\n",
      "Error :0.0020646194249341423\n"
     ]
    },
    {
     "name": "stderr",
     "output_type": "stream",
     "text": [
      "Ranks Progress:  71%|███████   | 91/129 [10:23<04:16,  6.74s/rank]"
     ]
    },
    {
     "name": "stdout",
     "output_type": "stream",
     "text": [
      "Error :0.0018994748875426175\n",
      "Error :0.008427248880141158\n",
      "Error :0.005939015417012492\n",
      "Error :0.00509716239974357\n",
      "Error :0.004132096513168493\n",
      "Error :0.0034875360198512793\n",
      "Error :0.003030739194534479\n",
      "Error :0.0026800779066831885\n",
      "Error :0.0023234460149166914\n",
      "Error :0.0020431878242142152\n"
     ]
    },
    {
     "name": "stderr",
     "output_type": "stream",
     "text": [
      "Ranks Progress:  71%|███████▏  | 92/129 [10:30<04:14,  6.88s/rank]"
     ]
    },
    {
     "name": "stdout",
     "output_type": "stream",
     "text": [
      "Error :0.0018692821220800393\n",
      "Error :0.007633024883271137\n",
      "Error :0.006401442909090037\n",
      "Error :0.005233945432105973\n",
      "Error :0.004211115342367433\n",
      "Error :0.003532015749931093\n",
      "Error :0.003063931623624608\n",
      "Error :0.002635308768484052\n",
      "Error :0.002328249440113545\n",
      "Error :0.0020357562362868327\n"
     ]
    },
    {
     "name": "stderr",
     "output_type": "stream",
     "text": [
      "Ranks Progress:  72%|███████▏  | 93/129 [10:37<04:08,  6.91s/rank]"
     ]
    },
    {
     "name": "stdout",
     "output_type": "stream",
     "text": [
      "Error :0.00189357217021906\n",
      "Error :0.00861160699032541\n",
      "Error :0.00648802202896553\n",
      "Error :0.005028834766300295\n",
      "Error :0.004212589740897067\n",
      "Error :0.003467936943721145\n",
      "Error :0.0029984119476713874\n",
      "Error :0.0026720451013237455\n",
      "Error :0.002296961744808563\n",
      "Error :0.0020301465281558516\n"
     ]
    },
    {
     "name": "stderr",
     "output_type": "stream",
     "text": [
      "Ranks Progress:  73%|███████▎  | 94/129 [10:44<04:08,  7.10s/rank]"
     ]
    },
    {
     "name": "stdout",
     "output_type": "stream",
     "text": [
      "Error :0.0019047175099008225\n",
      "Error :0.00802783643095181\n",
      "Error :0.0063896398772095245\n",
      "Error :0.004920777939219797\n",
      "Error :0.0040978963546916755\n",
      "Error :0.003601761094019862\n",
      "Error :0.003033694074015516\n",
      "Error :0.0026393872157541337\n",
      "Error :0.002342913562856519\n",
      "Error :0.0020318915720972004\n"
     ]
    },
    {
     "name": "stderr",
     "output_type": "stream",
     "text": [
      "Ranks Progress:  74%|███████▎  | 95/129 [10:51<03:57,  6.98s/rank]"
     ]
    },
    {
     "name": "stdout",
     "output_type": "stream",
     "text": [
      "Error :0.0018469634655976976\n",
      "Error :0.00828194385932544\n",
      "Error :0.006922377798582195\n",
      "Error :0.0049735818181014125\n",
      "Error :0.004088980536666043\n",
      "Error :0.003572485414240922\n",
      "Error :0.0031035039461917075\n",
      "Error :0.002624346135307189\n",
      "Error :0.0023294903009939815\n",
      "Error :0.002064656685964075\n"
     ]
    },
    {
     "name": "stderr",
     "output_type": "stream",
     "text": [
      "Ranks Progress:  74%|███████▍  | 96/129 [10:57<03:42,  6.76s/rank]"
     ]
    },
    {
     "name": "stdout",
     "output_type": "stream",
     "text": [
      "Error :0.0018683654586412442\n",
      "Error :0.008672289046885091\n",
      "Error :0.006335322539302222\n",
      "Error :0.00505825533663389\n",
      "Error :0.0041457703263671755\n",
      "Error :0.0035813562376366638\n",
      "Error :0.0030410905156796914\n",
      "Error :0.00266114189755489\n",
      "Error :0.0023073639102364125\n",
      "Error :0.002093357167769982\n"
     ]
    },
    {
     "name": "stderr",
     "output_type": "stream",
     "text": [
      "Ranks Progress:  75%|███████▌  | 97/129 [11:04<03:34,  6.71s/rank]"
     ]
    },
    {
     "name": "stdout",
     "output_type": "stream",
     "text": [
      "Error :0.0018804709200759694\n",
      "Error :0.008561235838684835\n",
      "Error :0.006360591083760067\n",
      "Error :0.004988434935435966\n",
      "Error :0.0041944099981275984\n",
      "Error :0.0035033431685837307\n",
      "Error :0.003024017372572519\n",
      "Error :0.002570836411746573\n",
      "Error :0.002401821504952872\n",
      "Error :0.002073276580416254\n"
     ]
    },
    {
     "name": "stderr",
     "output_type": "stream",
     "text": [
      "Ranks Progress:  76%|███████▌  | 98/129 [11:10<03:25,  6.63s/rank]"
     ]
    },
    {
     "name": "stdout",
     "output_type": "stream",
     "text": [
      "Error :0.0018704209007362655\n",
      "Error :0.008572576004158604\n",
      "Error :0.006289291141198989\n",
      "Error :0.004866887966402112\n",
      "Error :0.00417399260670195\n",
      "Error :0.003541474558402171\n",
      "Error :0.003059925646801602\n",
      "Error :0.0026286869580457277\n",
      "Error :0.002356100605154986\n",
      "Error :0.002051768474872804\n"
     ]
    },
    {
     "name": "stderr",
     "output_type": "stream",
     "text": [
      "Ranks Progress:  77%|███████▋  | 99/129 [11:16<03:13,  6.43s/rank]"
     ]
    },
    {
     "name": "stdout",
     "output_type": "stream",
     "text": [
      "Error :0.0018637565493970787\n",
      "Error :0.008852063712291634\n",
      "Error :0.006455320356962867\n",
      "Error :0.005171630495922532\n",
      "Error :0.004264409333924086\n",
      "Error :0.0036090771352878252\n",
      "Error :0.003081930211855959\n",
      "Error :0.002678301462735479\n",
      "Error :0.0023920722707084863\n",
      "Error :0.0020669596042080314\n"
     ]
    },
    {
     "name": "stderr",
     "output_type": "stream",
     "text": [
      "Ranks Progress:  78%|███████▊  | 100/129 [11:23<03:06,  6.43s/rank]"
     ]
    },
    {
     "name": "stdout",
     "output_type": "stream",
     "text": [
      "Error :0.001835159484173052\n",
      "Error :0.00892765210990944\n",
      "Error :0.006491549643367035\n",
      "Error :0.005246768585365483\n",
      "Error :0.004103673995664717\n",
      "Error :0.0035446668427845923\n",
      "Error :0.0030167901909784658\n",
      "Error :0.0026445885601040975\n",
      "Error :0.0023130106090672392\n",
      "Error :0.002057306808317338\n"
     ]
    },
    {
     "name": "stderr",
     "output_type": "stream",
     "text": [
      "Ranks Progress:  78%|███████▊  | 101/129 [11:29<02:57,  6.34s/rank]"
     ]
    },
    {
     "name": "stdout",
     "output_type": "stream",
     "text": [
      "Error :0.001826340124546691\n",
      "Error :0.008292012386168593\n",
      "Error :0.006378642592661558\n",
      "Error :0.004967526457941031\n",
      "Error :0.004296109300840258\n",
      "Error :0.003559385614856016\n",
      "Error :0.0031369949814309957\n",
      "Error :0.0026472043217303028\n",
      "Error :0.0022914101497335344\n",
      "Error :0.0020461508555517523\n"
     ]
    },
    {
     "name": "stderr",
     "output_type": "stream",
     "text": [
      "Ranks Progress:  79%|███████▉  | 102/129 [11:35<02:49,  6.28s/rank]"
     ]
    },
    {
     "name": "stdout",
     "output_type": "stream",
     "text": [
      "Error :0.001854364648806503\n",
      "Error :0.009864406744163346\n",
      "Error :0.006237958046901913\n",
      "Error :0.004985707066354797\n",
      "Error :0.0043203890718817054\n",
      "Error :0.003422060576387633\n",
      "Error :0.0030539664455707717\n",
      "Error :0.0026733773433215012\n",
      "Error :0.00228345722976718\n",
      "Error :0.0020342068238782545\n"
     ]
    },
    {
     "name": "stderr",
     "output_type": "stream",
     "text": [
      "Ranks Progress:  80%|███████▉  | 103/129 [11:42<02:48,  6.47s/rank]"
     ]
    },
    {
     "name": "stdout",
     "output_type": "stream",
     "text": [
      "Error :0.0018336055626804188\n",
      "Error :0.008121211966833342\n",
      "Error :0.006664915502413412\n",
      "Error :0.00501625977644088\n",
      "Error :0.004030819935559844\n",
      "Error :0.003563861223231561\n",
      "Error :0.003097177109205921\n",
      "Error :0.002645134625106071\n",
      "Error :0.0023513601049956596\n",
      "Error :0.0020550966184735985\n"
     ]
    },
    {
     "name": "stderr",
     "output_type": "stream",
     "text": [
      "Ranks Progress:  81%|████████  | 104/129 [11:48<02:37,  6.30s/rank]"
     ]
    },
    {
     "name": "stdout",
     "output_type": "stream",
     "text": [
      "Error :0.0018804897124439304\n",
      "Error :0.008440409078622648\n",
      "Error :0.006520109082563254\n",
      "Error :0.005084963648938096\n",
      "Error :0.00405895200464182\n",
      "Error :0.0036002162232240116\n",
      "Error :0.0029890214483320725\n",
      "Error :0.002707498185629662\n",
      "Error :0.002283824793796843\n",
      "Error :0.0020132803226086235\n"
     ]
    },
    {
     "name": "stderr",
     "output_type": "stream",
     "text": [
      "Ranks Progress:  81%|████████▏ | 105/129 [11:55<02:36,  6.50s/rank]"
     ]
    },
    {
     "name": "stdout",
     "output_type": "stream",
     "text": [
      "Error :0.0018083396643967312\n",
      "Error :0.00836385600699112\n",
      "Error :0.006730928359921609\n",
      "Error :0.004939286401310997\n",
      "Error :0.004152981370415405\n",
      "Error :0.003510908153213375\n",
      "Error :0.003053133650926601\n",
      "Error :0.0026912896670024016\n",
      "Error :0.002355274553944002\n",
      "Error :0.002080641943607489\n"
     ]
    },
    {
     "name": "stderr",
     "output_type": "stream",
     "text": [
      "Ranks Progress:  82%|████████▏ | 106/129 [12:02<02:34,  6.74s/rank]"
     ]
    },
    {
     "name": "stdout",
     "output_type": "stream",
     "text": [
      "Error :0.001853195205080274\n",
      "Error :0.008544088164318847\n",
      "Error :0.0065545674233664945\n",
      "Error :0.005048023332795356\n",
      "Error :0.004087138180843069\n",
      "Error :0.003596992667599571\n",
      "Error :0.003051161040403084\n",
      "Error :0.0026178951612093114\n",
      "Error :0.0023384925548338735\n",
      "Error :0.0020596003412014603\n"
     ]
    },
    {
     "name": "stderr",
     "output_type": "stream",
     "text": [
      "Ranks Progress:  83%|████████▎ | 107/129 [12:09<02:30,  6.82s/rank]"
     ]
    },
    {
     "name": "stdout",
     "output_type": "stream",
     "text": [
      "Error :0.0018736079040431878\n",
      "Error :0.008603853056075781\n",
      "Error :0.006352770258767172\n",
      "Error :0.0050172875410327365\n",
      "Error :0.00411724319315929\n",
      "Error :0.003499472946673117\n",
      "Error :0.002990482470092105\n",
      "Error :0.002635563916011325\n",
      "Error :0.0022632975888137925\n",
      "Error :0.002071766488196837\n"
     ]
    },
    {
     "name": "stderr",
     "output_type": "stream",
     "text": [
      "Ranks Progress:  84%|████████▎ | 108/129 [12:16<02:25,  6.95s/rank]"
     ]
    },
    {
     "name": "stdout",
     "output_type": "stream",
     "text": [
      "Error :0.0017892439187324229\n",
      "Error :0.008281314044382893\n",
      "Error :0.00645412139969957\n",
      "Error :0.0048521246157418475\n",
      "Error :0.004240474646967389\n",
      "Error :0.003451466957543516\n",
      "Error :0.0030210814171705816\n",
      "Error :0.002649433198292975\n",
      "Error :0.002313116635772154\n",
      "Error :0.00203741302962569\n"
     ]
    },
    {
     "name": "stderr",
     "output_type": "stream",
     "text": [
      "Ranks Progress:  84%|████████▍ | 109/129 [12:24<02:21,  7.06s/rank]"
     ]
    },
    {
     "name": "stdout",
     "output_type": "stream",
     "text": [
      "Error :0.0019222061898912979\n",
      "Error :0.009599208528223324\n",
      "Error :0.006237122754221893\n",
      "Error :0.004983377354876452\n",
      "Error :0.0042217296374722785\n",
      "Error :0.0035855170553118374\n",
      "Error :0.003044910626483596\n",
      "Error :0.0026724456716473288\n",
      "Error :0.0022765274136484093\n",
      "Error :0.0020565817006762124\n"
     ]
    },
    {
     "name": "stderr",
     "output_type": "stream",
     "text": [
      "Ranks Progress:  85%|████████▌ | 110/129 [12:32<02:19,  7.33s/rank]"
     ]
    },
    {
     "name": "stdout",
     "output_type": "stream",
     "text": [
      "Error :0.001824517900994948\n",
      "Error :0.009313060022933401\n",
      "Error :0.006620293553577642\n",
      "Error :0.005114993847557986\n",
      "Error :0.004273509901809172\n",
      "Error :0.003541770757268397\n",
      "Error :0.0030720311826809405\n",
      "Error :0.0026410619632603024\n",
      "Error :0.00233519385969036\n",
      "Error :0.0020517599836012315\n"
     ]
    },
    {
     "name": "stderr",
     "output_type": "stream",
     "text": [
      "Ranks Progress:  86%|████████▌ | 111/129 [12:39<02:10,  7.28s/rank]"
     ]
    },
    {
     "name": "stdout",
     "output_type": "stream",
     "text": [
      "Error :0.0018338543804478314\n",
      "Error :0.008396037836220206\n",
      "Error :0.0062393819840496495\n",
      "Error :0.005155053883062362\n",
      "Error :0.004175727671922361\n",
      "Error :0.0034824357269614254\n",
      "Error :0.00312853423169362\n",
      "Error :0.002608569338302706\n",
      "Error :0.0023352214557147985\n",
      "Error :0.0020734261584919975\n"
     ]
    },
    {
     "name": "stderr",
     "output_type": "stream",
     "text": [
      "Ranks Progress:  87%|████████▋ | 112/129 [12:46<02:05,  7.39s/rank]"
     ]
    },
    {
     "name": "stdout",
     "output_type": "stream",
     "text": [
      "Error :0.0018414727266994847\n",
      "Error :0.008601487206803397\n",
      "Error :0.006400454165622247\n",
      "Error :0.005114680198995037\n",
      "Error :0.0040509600972093015\n",
      "Error :0.00350944234532607\n",
      "Error :0.0029918739222819773\n",
      "Error :0.0026481014342709204\n",
      "Error :0.002366345807008376\n",
      "Error :0.0020246239703577535\n"
     ]
    },
    {
     "name": "stderr",
     "output_type": "stream",
     "text": [
      "Ranks Progress:  88%|████████▊ | 113/129 [12:54<01:59,  7.46s/rank]"
     ]
    },
    {
     "name": "stdout",
     "output_type": "stream",
     "text": [
      "Error :0.0018454009279559337\n",
      "Error :0.007959378727182092\n",
      "Error :0.006238026523793995\n",
      "Error :0.005131629828275829\n",
      "Error :0.004286496009638715\n",
      "Error :0.003537674821356437\n",
      "Error :0.003088694329924095\n",
      "Error :0.0026380518336753147\n",
      "Error :0.0023275670357928574\n",
      "Error :0.0020857459036542694\n"
     ]
    },
    {
     "name": "stderr",
     "output_type": "stream",
     "text": [
      "Ranks Progress:  88%|████████▊ | 114/129 [13:00<01:45,  7.04s/rank]"
     ]
    },
    {
     "name": "stdout",
     "output_type": "stream",
     "text": [
      "Error :0.0018761250096584582\n",
      "Error :0.008507071813558599\n",
      "Error :0.006530835372792067\n",
      "Error :0.005083207926925522\n",
      "Error :0.004148884564911231\n",
      "Error :0.003481901228655517\n",
      "Error :0.0029899478817497684\n",
      "Error :0.002645880204232638\n",
      "Error :0.0023365921492588585\n",
      "Error :0.002056548233660972\n"
     ]
    },
    {
     "name": "stderr",
     "output_type": "stream",
     "text": [
      "Ranks Progress:  89%|████████▉ | 115/129 [13:06<01:34,  6.73s/rank]"
     ]
    },
    {
     "name": "stdout",
     "output_type": "stream",
     "text": [
      "Error :0.0018421229006018811\n",
      "Error :0.008653100031925305\n",
      "Error :0.00650496942255351\n",
      "Error :0.00517338356937404\n",
      "Error :0.004076942124423766\n",
      "Error :0.003559501776876506\n",
      "Error :0.0031219951874883237\n",
      "Error :0.0026187384917961327\n",
      "Error :0.0023288085500590763\n",
      "Error :0.0020570684200940386\n"
     ]
    },
    {
     "name": "stderr",
     "output_type": "stream",
     "text": [
      "Ranks Progress:  90%|████████▉ | 116/129 [13:14<01:30,  6.97s/rank]"
     ]
    },
    {
     "name": "stdout",
     "output_type": "stream",
     "text": [
      "Error :0.0018159305797583482\n",
      "Error :0.008934357749160956\n",
      "Error :0.006392072232957388\n",
      "Error :0.0054760302888982185\n",
      "Error :0.004257427903781723\n",
      "Error :0.003431684401225606\n",
      "Error :0.0029706436014583313\n",
      "Error :0.0026427873484307766\n",
      "Error :0.002378645737636759\n",
      "Error :0.002084526119331689\n"
     ]
    },
    {
     "name": "stderr",
     "output_type": "stream",
     "text": [
      "Ranks Progress:  91%|█████████ | 117/129 [13:21<01:24,  7.08s/rank]"
     ]
    },
    {
     "name": "stdout",
     "output_type": "stream",
     "text": [
      "Error :0.0018731785732250372\n",
      "Error :0.008893197130327917\n",
      "Error :0.006450890147758284\n",
      "Error :0.00507717307317376\n",
      "Error :0.004246387612061982\n",
      "Error :0.0035672054418097363\n",
      "Error :0.0029679812138920527\n",
      "Error :0.0026635772511703418\n",
      "Error :0.002326253586406753\n",
      "Error :0.0020698213330547937\n"
     ]
    },
    {
     "name": "stderr",
     "output_type": "stream",
     "text": [
      "Ranks Progress:  91%|█████████▏| 118/129 [13:28<01:18,  7.14s/rank]"
     ]
    },
    {
     "name": "stdout",
     "output_type": "stream",
     "text": [
      "Error :0.0018521504317621934\n",
      "Error :0.008150284437849382\n",
      "Error :0.006612372588536501\n",
      "Error :0.005024157968934159\n",
      "Error :0.004370285143874549\n",
      "Error :0.0036043908948318916\n",
      "Error :0.0029734885412912295\n",
      "Error :0.002632452674494187\n",
      "Error :0.0022850885292659516\n",
      "Error :0.002023681843339136\n"
     ]
    },
    {
     "name": "stderr",
     "output_type": "stream",
     "text": [
      "Ranks Progress:  92%|█████████▏| 119/129 [13:36<01:12,  7.21s/rank]"
     ]
    },
    {
     "name": "stdout",
     "output_type": "stream",
     "text": [
      "Error :0.0018679093654184191\n",
      "Error :0.008356266761042863\n",
      "Error :0.006435310097948584\n",
      "Error :0.005126330232202628\n",
      "Error :0.004182248866488504\n",
      "Error :0.0036949355460002\n",
      "Error :0.0031010785571199294\n",
      "Error :0.002639227774635916\n",
      "Error :0.0023310177547213235\n",
      "Error :0.0020737596522978725\n"
     ]
    },
    {
     "name": "stderr",
     "output_type": "stream",
     "text": [
      "Ranks Progress:  93%|█████████▎| 120/129 [13:43<01:04,  7.21s/rank]"
     ]
    },
    {
     "name": "stdout",
     "output_type": "stream",
     "text": [
      "Error :0.0018467509954854283\n",
      "Error :0.009010021652892653\n",
      "Error :0.006351708992398187\n",
      "Error :0.005138328002341687\n",
      "Error :0.004092767719957078\n",
      "Error :0.0034744278176523564\n",
      "Error :0.0030060601820370517\n",
      "Error :0.0026553064813044365\n",
      "Error :0.0023244449685191097\n",
      "Error :0.0020821507179619118\n"
     ]
    },
    {
     "name": "stderr",
     "output_type": "stream",
     "text": [
      "Ranks Progress:  94%|█████████▍| 121/129 [13:50<00:56,  7.07s/rank]"
     ]
    },
    {
     "name": "stdout",
     "output_type": "stream",
     "text": [
      "Error :0.0018403056704617464\n",
      "Error :0.008341363351162492\n",
      "Error :0.006125458363766511\n",
      "Error :0.005137738123933195\n",
      "Error :0.00422869761139511\n",
      "Error :0.003516793171124427\n",
      "Error :0.003124163996926387\n",
      "Error :0.0026560963962274555\n",
      "Error :0.002290192680861612\n",
      "Error :0.002044780979696003\n"
     ]
    },
    {
     "name": "stderr",
     "output_type": "stream",
     "text": [
      "Ranks Progress:  95%|█████████▍| 122/129 [13:56<00:48,  6.95s/rank]"
     ]
    },
    {
     "name": "stdout",
     "output_type": "stream",
     "text": [
      "Error :0.0018901257564419088\n",
      "Error :0.009239230986219194\n",
      "Error :0.0063126157163444436\n",
      "Error :0.004876311910263144\n",
      "Error :0.004087892904206501\n",
      "Error :0.0035664530926639254\n",
      "Error :0.0031103958780357745\n",
      "Error :0.00260708933185868\n",
      "Error :0.0022760147895529302\n",
      "Error :0.0021105536095207857\n"
     ]
    },
    {
     "name": "stderr",
     "output_type": "stream",
     "text": [
      "Ranks Progress:  95%|█████████▌| 123/129 [14:03<00:41,  6.91s/rank]"
     ]
    },
    {
     "name": "stdout",
     "output_type": "stream",
     "text": [
      "Error :0.0018123829486874365\n",
      "Error :0.008135265231748812\n",
      "Error :0.0062495995586572956\n",
      "Error :0.0049902033449060095\n",
      "Error :0.004121613847538447\n",
      "Error :0.003517532443363179\n",
      "Error :0.003035628288479174\n",
      "Error :0.0026985469220605802\n",
      "Error :0.0023074669846689377\n",
      "Error :0.0020721380187460254\n"
     ]
    },
    {
     "name": "stderr",
     "output_type": "stream",
     "text": [
      "Ranks Progress:  96%|█████████▌| 124/129 [14:10<00:34,  6.83s/rank]"
     ]
    },
    {
     "name": "stdout",
     "output_type": "stream",
     "text": [
      "Error :0.0018156360239619342\n",
      "Error :0.009069866097793634\n",
      "Error :0.006301842368763524\n",
      "Error :0.005014293584945021\n",
      "Error :0.004143146426482811\n",
      "Error :0.003697020511313241\n",
      "Error :0.002987330700126578\n",
      "Error :0.0026472616087032178\n",
      "Error :0.0023273545572555323\n",
      "Error :0.002049306457835674\n"
     ]
    },
    {
     "name": "stderr",
     "output_type": "stream",
     "text": [
      "Ranks Progress:  97%|█████████▋| 125/129 [14:16<00:27,  6.80s/rank]"
     ]
    },
    {
     "name": "stdout",
     "output_type": "stream",
     "text": [
      "Error :0.0018269874872339235\n",
      "Error :0.008672796852671775\n",
      "Error :0.006407639628748417\n",
      "Error :0.0050366865893093395\n",
      "Error :0.004206064333149407\n",
      "Error :0.0035338750152942066\n",
      "Error :0.003003567527354053\n",
      "Error :0.002648929959336262\n",
      "Error :0.002339842096992511\n",
      "Error :0.002085814055383528\n"
     ]
    },
    {
     "name": "stderr",
     "output_type": "stream",
     "text": [
      "Ranks Progress:  98%|█████████▊| 126/129 [14:23<00:20,  6.75s/rank]"
     ]
    },
    {
     "name": "stdout",
     "output_type": "stream",
     "text": [
      "Error :0.0018425160762183775\n",
      "Error :0.008194036929414233\n",
      "Error :0.006305864391182553\n",
      "Error :0.004897088501715232\n",
      "Error :0.004229077793107765\n",
      "Error :0.0034893591895968396\n",
      "Error :0.003032243254338586\n",
      "Error :0.002599837428497164\n",
      "Error :0.0023289338675744576\n",
      "Error :0.002008099418830819\n"
     ]
    },
    {
     "name": "stderr",
     "output_type": "stream",
     "text": [
      "Ranks Progress:  98%|█████████▊| 127/129 [14:30<00:13,  6.72s/rank]"
     ]
    },
    {
     "name": "stdout",
     "output_type": "stream",
     "text": [
      "Error :0.0018273115313250526\n",
      "Error :0.008988236574206568\n",
      "Error :0.006400883404511253\n",
      "Error :0.005108671096583875\n",
      "Error :0.004292895621566559\n",
      "Error :0.0037017274329180947\n",
      "Error :0.0030272083611230047\n",
      "Error :0.002609031503186321\n",
      "Error :0.00234905829070634\n",
      "Error :0.0020715003131957094\n"
     ]
    },
    {
     "name": "stderr",
     "output_type": "stream",
     "text": [
      "Ranks Progress:  99%|█████████▉| 128/129 [14:37<00:06,  6.76s/rank]"
     ]
    },
    {
     "name": "stdout",
     "output_type": "stream",
     "text": [
      "Error :0.0018490577897884344\n",
      "Error :0.008538119557263194\n",
      "Error :0.0066375739975952815\n",
      "Error :0.005001282697313038\n",
      "Error :0.004111630963311543\n",
      "Error :0.003604769820691049\n",
      "Error :0.0030635558672716364\n",
      "Error :0.002653185630945654\n",
      "Error :0.002426015009795433\n",
      "Error :0.002052519755443315\n"
     ]
    },
    {
     "name": "stderr",
     "output_type": "stream",
     "text": [
      "Ranks Progress: 100%|██████████| 129/129 [14:43<00:00,  6.85s/rank]"
     ]
    },
    {
     "name": "stdout",
     "output_type": "stream",
     "text": [
      "Error :0.0018652565288338715\n"
     ]
    },
    {
     "name": "stderr",
     "output_type": "stream",
     "text": [
      "\n"
     ]
    },
    {
     "name": "stdout",
     "output_type": "stream",
     "text": [
      "Results successfully saved to ../Dataset/Section_2_test_2_for_loadMatrixA_3.csv.\n"
     ]
    }
   ],
   "source": [
    "collect_low_rank_errors(A=loadMatrix_A_2, output_file='../Dataset/Section_2_test_2_for_loadMatrixA_2.csv')\n"
   ]
  },
  {
   "cell_type": "code",
   "execution_count": 34,
   "metadata": {},
   "outputs": [
    {
     "name": "stderr",
     "output_type": "stream",
     "text": [
      "Ranks Progress:   0%|          | 0/129 [00:00<?, ?rank/s]"
     ]
    },
    {
     "name": "stdout",
     "output_type": "stream",
     "text": [
      "Error :1.0\n",
      "Error :1.0\n",
      "Error :1.0\n",
      "Error :1.0\n",
      "Error :1.0\n",
      "Error :1.0\n",
      "Error :1.0\n",
      "Error :1.0\n",
      "Error :1.0\n"
     ]
    },
    {
     "name": "stderr",
     "output_type": "stream",
     "text": [
      "Ranks Progress:   1%|          | 1/129 [00:06<14:04,  6.60s/rank]"
     ]
    },
    {
     "name": "stdout",
     "output_type": "stream",
     "text": [
      "Error :1.0\n",
      "Error :0.011166280598347258\n",
      "Error :0.010760039601836196\n",
      "Error :0.010350646279398806\n",
      "Error :0.010375989997026231\n",
      "Error :0.010322449806120803\n",
      "Error :0.010296252213004974\n",
      "Error :0.010292635821830784\n",
      "Error :0.010285545441784349\n",
      "Error :0.010282726711501246\n"
     ]
    },
    {
     "name": "stderr",
     "output_type": "stream",
     "text": [
      "Ranks Progress:   2%|▏         | 2/129 [00:13<13:53,  6.56s/rank]"
     ]
    },
    {
     "name": "stdout",
     "output_type": "stream",
     "text": [
      "Error :0.01027815446191511\n",
      "Error :0.010374553945864748\n",
      "Error :0.009872768962322434\n",
      "Error :0.009528484816843463\n",
      "Error :0.009512476304473052\n",
      "Error :0.009368060085956451\n",
      "Error :0.00933193128443761\n",
      "Error :0.009340017376087546\n",
      "Error :0.009307868000533154\n",
      "Error :0.009288158047994629\n"
     ]
    },
    {
     "name": "stderr",
     "output_type": "stream",
     "text": [
      "Ranks Progress:   2%|▏         | 3/129 [00:20<14:04,  6.71s/rank]"
     ]
    },
    {
     "name": "stdout",
     "output_type": "stream",
     "text": [
      "Error :0.00928404763358953\n",
      "Error :0.01076277448707767\n",
      "Error :0.009062367826138193\n",
      "Error :0.008866058464040524\n",
      "Error :0.00868922849370624\n",
      "Error :0.008618131578512527\n",
      "Error :0.008607426185186284\n",
      "Error :0.00856962555918963\n",
      "Error :0.008530765184561992\n",
      "Error :0.008520654364275404\n"
     ]
    },
    {
     "name": "stderr",
     "output_type": "stream",
     "text": [
      "Ranks Progress:   3%|▎         | 4/129 [00:26<13:53,  6.66s/rank]"
     ]
    },
    {
     "name": "stdout",
     "output_type": "stream",
     "text": [
      "Error :0.008503371556321311\n",
      "Error :0.010481998233361463\n",
      "Error :0.009005427610375705\n",
      "Error :0.008269314983589363\n",
      "Error :0.008204405486430092\n",
      "Error :0.007991556435469142\n",
      "Error :0.007916044172160753\n",
      "Error :0.007885450916376616\n",
      "Error :0.007862890168988659\n",
      "Error :0.007839529549634244\n"
     ]
    },
    {
     "name": "stderr",
     "output_type": "stream",
     "text": [
      "Ranks Progress:   4%|▍         | 5/129 [00:33<13:50,  6.70s/rank]"
     ]
    },
    {
     "name": "stdout",
     "output_type": "stream",
     "text": [
      "Error :0.00782553871260315\n",
      "Error :0.010295585686045158\n",
      "Error :0.008104369278203844\n",
      "Error :0.00795131633055958\n",
      "Error :0.007569015547647042\n",
      "Error :0.0074957809400728196\n",
      "Error :0.0074636440010642565\n",
      "Error :0.007405811258000386\n",
      "Error :0.0073266664467077185\n",
      "Error :0.007318019208092852\n"
     ]
    },
    {
     "name": "stderr",
     "output_type": "stream",
     "text": [
      "Ranks Progress:   5%|▍         | 6/129 [00:40<13:44,  6.70s/rank]"
     ]
    },
    {
     "name": "stdout",
     "output_type": "stream",
     "text": [
      "Error :0.007290207000407931\n",
      "Error :0.009411489414934334\n",
      "Error :0.007909415764977255\n",
      "Error :0.007425485200358321\n",
      "Error :0.007196632268412764\n",
      "Error :0.007117236489996841\n",
      "Error :0.00695577219433684\n",
      "Error :0.006905672375669553\n",
      "Error :0.006872036499654303\n",
      "Error :0.0068475197426814075\n"
     ]
    },
    {
     "name": "stderr",
     "output_type": "stream",
     "text": [
      "Ranks Progress:   5%|▌         | 7/129 [00:46<13:34,  6.68s/rank]"
     ]
    },
    {
     "name": "stdout",
     "output_type": "stream",
     "text": [
      "Error :0.0067905217938845856\n",
      "Error :0.008540288112981744\n",
      "Error :0.007607280371077657\n",
      "Error :0.0071525219577939945\n",
      "Error :0.006784275815850098\n",
      "Error :0.006636912664269205\n",
      "Error :0.006516694251714279\n",
      "Error :0.006455997918762391\n",
      "Error :0.006438670379917362\n",
      "Error :0.006394760376307846\n"
     ]
    },
    {
     "name": "stderr",
     "output_type": "stream",
     "text": [
      "Ranks Progress:   6%|▌         | 8/129 [00:53<13:25,  6.66s/rank]"
     ]
    },
    {
     "name": "stdout",
     "output_type": "stream",
     "text": [
      "Error :0.006360038202114994\n",
      "Error :0.00884151620570597\n",
      "Error :0.007277495782068791\n",
      "Error :0.006853997835110312\n",
      "Error :0.006519260409311886\n",
      "Error :0.006349632418790572\n",
      "Error :0.006237920384503107\n",
      "Error :0.0061220610177401165\n",
      "Error :0.006097934282985346\n",
      "Error :0.006072606809423512\n"
     ]
    },
    {
     "name": "stderr",
     "output_type": "stream",
     "text": [
      "Ranks Progress:   7%|▋         | 9/129 [01:00<13:25,  6.72s/rank]"
     ]
    },
    {
     "name": "stdout",
     "output_type": "stream",
     "text": [
      "Error :0.006049056292136074\n",
      "Error :0.009334886093475856\n",
      "Error :0.007067872030726492\n",
      "Error :0.0065205989799443425\n",
      "Error :0.00626144918806186\n",
      "Error :0.006054999307663235\n",
      "Error :0.006010879038695827\n",
      "Error :0.005841516552162608\n",
      "Error :0.005775367498945113\n",
      "Error :0.005768386001273453\n"
     ]
    },
    {
     "name": "stderr",
     "output_type": "stream",
     "text": [
      "Ranks Progress:   8%|▊         | 10/129 [01:06<13:00,  6.56s/rank]"
     ]
    },
    {
     "name": "stdout",
     "output_type": "stream",
     "text": [
      "Error :0.005721668081891754\n",
      "Error :0.008723290290715035\n",
      "Error :0.007188597955546298\n",
      "Error :0.0065363980747015354\n",
      "Error :0.006017238719038399\n",
      "Error :0.005786336350916011\n",
      "Error :0.005775558125939726\n",
      "Error :0.005604984552590622\n",
      "Error :0.005540724998052928\n",
      "Error :0.005487977058141952\n"
     ]
    },
    {
     "name": "stderr",
     "output_type": "stream",
     "text": [
      "Ranks Progress:   9%|▊         | 11/129 [01:12<12:32,  6.38s/rank]"
     ]
    },
    {
     "name": "stdout",
     "output_type": "stream",
     "text": [
      "Error :0.005433539085117311\n",
      "Error :0.009818165830881874\n",
      "Error :0.007067878746362681\n",
      "Error :0.006381185327877435\n",
      "Error :0.006101626175504098\n",
      "Error :0.005738498117333136\n",
      "Error :0.005548812583611168\n",
      "Error :0.005408396358322516\n",
      "Error :0.005331580780858902\n",
      "Error :0.005294704056280898\n"
     ]
    },
    {
     "name": "stderr",
     "output_type": "stream",
     "text": [
      "Ranks Progress:   9%|▉         | 12/129 [01:17<11:54,  6.11s/rank]"
     ]
    },
    {
     "name": "stdout",
     "output_type": "stream",
     "text": [
      "Error :0.005231152991663559\n",
      "Error :0.00953766232103498\n",
      "Error :0.006549859131231199\n",
      "Error :0.006217612052514262\n",
      "Error :0.005775718204397137\n",
      "Error :0.00542233496613056\n",
      "Error :0.005373687473209056\n",
      "Error :0.005262533075316785\n",
      "Error :0.0051636681389725225\n",
      "Error :0.005086337690318965\n"
     ]
    },
    {
     "name": "stderr",
     "output_type": "stream",
     "text": [
      "Ranks Progress:  10%|█         | 13/129 [01:23<11:26,  5.92s/rank]"
     ]
    },
    {
     "name": "stdout",
     "output_type": "stream",
     "text": [
      "Error :0.005035990668676925\n",
      "Error :0.008187325170084706\n",
      "Error :0.0068996324000204804\n",
      "Error :0.00608340106592735\n",
      "Error :0.005602369158123048\n",
      "Error :0.005315812876237431\n",
      "Error :0.00523693599920063\n",
      "Error :0.005070975254347055\n",
      "Error :0.004979083569516374\n",
      "Error :0.004913893871244707\n"
     ]
    },
    {
     "name": "stderr",
     "output_type": "stream",
     "text": [
      "Ranks Progress:  11%|█         | 14/129 [01:28<10:43,  5.59s/rank]"
     ]
    },
    {
     "name": "stdout",
     "output_type": "stream",
     "text": [
      "Error :0.004855031882557831\n",
      "Error :0.008277924897686103\n",
      "Error :0.006686452899136716\n",
      "Error :0.005985998070073625\n",
      "Error :0.005422387910458198\n",
      "Error :0.005225108593030635\n",
      "Error :0.005089097831716135\n",
      "Error :0.004922587243532283\n",
      "Error :0.004838768548166199\n",
      "Error :0.0047727236620467\n"
     ]
    },
    {
     "name": "stderr",
     "output_type": "stream",
     "text": [
      "Ranks Progress:  12%|█▏        | 15/129 [01:33<10:16,  5.41s/rank]"
     ]
    },
    {
     "name": "stdout",
     "output_type": "stream",
     "text": [
      "Error :0.004703336700917616\n",
      "Error :0.008179935394413307\n",
      "Error :0.006821249069191031\n",
      "Error :0.0059229236380043074\n",
      "Error :0.005339456029418195\n",
      "Error :0.005079320953994363\n",
      "Error :0.004882096669183483\n",
      "Error :0.004754560639188088\n",
      "Error :0.00468298816941481\n",
      "Error :0.0045847872800774785\n"
     ]
    },
    {
     "name": "stderr",
     "output_type": "stream",
     "text": [
      "Ranks Progress:  12%|█▏        | 16/129 [01:38<10:00,  5.32s/rank]"
     ]
    },
    {
     "name": "stdout",
     "output_type": "stream",
     "text": [
      "Error :0.0045403093284270835\n",
      "Error :0.00903688104446837\n",
      "Error :0.006607417488635646\n",
      "Error :0.005725479863715869\n",
      "Error :0.005311625688395823\n",
      "Error :0.004982245479654055\n",
      "Error :0.004756444504699617\n",
      "Error :0.0046452812218500585\n",
      "Error :0.004532299797374297\n",
      "Error :0.00443685442804652\n"
     ]
    },
    {
     "name": "stderr",
     "output_type": "stream",
     "text": [
      "Ranks Progress:  13%|█▎        | 17/129 [01:44<10:21,  5.55s/rank]"
     ]
    },
    {
     "name": "stdout",
     "output_type": "stream",
     "text": [
      "Error :0.004373485872683071\n",
      "Error :0.007973353175369909\n",
      "Error :0.006387708503711096\n",
      "Error :0.005422648386302089\n",
      "Error :0.0051590290828464795\n",
      "Error :0.005011940021606514\n",
      "Error :0.004610165019139593\n",
      "Error :0.004485885213679996\n",
      "Error :0.004377123795925202\n",
      "Error :0.004293426520108142\n"
     ]
    },
    {
     "name": "stderr",
     "output_type": "stream",
     "text": [
      "Ranks Progress:  14%|█▍        | 18/129 [01:52<11:54,  6.43s/rank]"
     ]
    },
    {
     "name": "stdout",
     "output_type": "stream",
     "text": [
      "Error :0.004280122430852035\n",
      "Error :0.008533709024088426\n",
      "Error :0.006422486983773157\n",
      "Error :0.00566685673877311\n",
      "Error :0.005121968045095656\n",
      "Error :0.004695031909032813\n",
      "Error :0.004541191198825658\n",
      "Error :0.004379699189022975\n",
      "Error :0.004254944089742204\n",
      "Error :0.004213914338740735\n"
     ]
    },
    {
     "name": "stderr",
     "output_type": "stream",
     "text": [
      "Ranks Progress:  15%|█▍        | 19/129 [02:01<12:45,  6.96s/rank]"
     ]
    },
    {
     "name": "stdout",
     "output_type": "stream",
     "text": [
      "Error :0.004154424411005244\n",
      "Error :0.008248700957147075\n",
      "Error :0.006594727880710733\n",
      "Error :0.005653029196309486\n",
      "Error :0.005072112277470812\n",
      "Error :0.004621299634466609\n",
      "Error :0.004411633828742046\n",
      "Error :0.004300102412763918\n",
      "Error :0.0041815908629932366\n",
      "Error :0.004083329036773002\n"
     ]
    },
    {
     "name": "stderr",
     "output_type": "stream",
     "text": [
      "Ranks Progress:  16%|█▌        | 20/129 [02:09<13:15,  7.30s/rank]"
     ]
    },
    {
     "name": "stdout",
     "output_type": "stream",
     "text": [
      "Error :0.004015767816544364\n",
      "Error :0.008843070349916873\n",
      "Error :0.006339627998383369\n",
      "Error :0.0053346210701983665\n",
      "Error :0.00507095640472713\n",
      "Error :0.0045281572782992245\n",
      "Error :0.004383554483590372\n",
      "Error :0.004171316483908822\n",
      "Error :0.004088033619390952\n",
      "Error :0.0039472259731679555\n"
     ]
    },
    {
     "name": "stderr",
     "output_type": "stream",
     "text": [
      "Ranks Progress:  16%|█▋        | 21/129 [02:17<13:32,  7.52s/rank]"
     ]
    },
    {
     "name": "stdout",
     "output_type": "stream",
     "text": [
      "Error :0.003928435323836727\n",
      "Error :0.00895775525804051\n",
      "Error :0.006264641659591303\n",
      "Error :0.005370669030775751\n",
      "Error :0.004791600242385927\n",
      "Error :0.004632375358192098\n",
      "Error :0.0042805773464908515\n",
      "Error :0.004059714400340796\n",
      "Error :0.00393941352743959\n",
      "Error :0.003837003462047419\n"
     ]
    },
    {
     "name": "stderr",
     "output_type": "stream",
     "text": [
      "Ranks Progress:  17%|█▋        | 22/129 [02:25<13:52,  7.78s/rank]"
     ]
    },
    {
     "name": "stdout",
     "output_type": "stream",
     "text": [
      "Error :0.0037878448126174194\n",
      "Error :0.008514409645584382\n",
      "Error :0.006445307125340626\n",
      "Error :0.005461961868285552\n",
      "Error :0.00491666614013289\n",
      "Error :0.004438009627673685\n",
      "Error :0.004221525717328189\n",
      "Error :0.003921821588158949\n",
      "Error :0.0038735498115857535\n",
      "Error :0.0037627433415841956\n"
     ]
    },
    {
     "name": "stderr",
     "output_type": "stream",
     "text": [
      "Ranks Progress:  18%|█▊        | 23/129 [02:33<14:04,  7.97s/rank]"
     ]
    },
    {
     "name": "stdout",
     "output_type": "stream",
     "text": [
      "Error :0.0037018674009179496\n",
      "Error :0.010794499751581232\n",
      "Error :0.00642313621359284\n",
      "Error :0.005334854247209079\n",
      "Error :0.004812362457020045\n",
      "Error :0.0044349312982804425\n",
      "Error :0.004058205539006157\n",
      "Error :0.003955545893212244\n",
      "Error :0.0037952847217862574\n",
      "Error :0.003716346935772836\n"
     ]
    },
    {
     "name": "stderr",
     "output_type": "stream",
     "text": [
      "Ranks Progress:  19%|█▊        | 24/129 [02:42<14:18,  8.18s/rank]"
     ]
    },
    {
     "name": "stdout",
     "output_type": "stream",
     "text": [
      "Error :0.003624722527502339\n",
      "Error :0.00887918253364188\n",
      "Error :0.006306516966351135\n",
      "Error :0.00524730145763652\n",
      "Error :0.004773542630043111\n",
      "Error :0.00425080236992984\n",
      "Error :0.004048965390181996\n",
      "Error :0.003798052904337487\n",
      "Error :0.003699260654221726\n",
      "Error :0.003662038347597388\n"
     ]
    },
    {
     "name": "stderr",
     "output_type": "stream",
     "text": [
      "Ranks Progress:  19%|█▉        | 25/129 [02:49<13:33,  7.82s/rank]"
     ]
    },
    {
     "name": "stdout",
     "output_type": "stream",
     "text": [
      "Error :0.0035242734709441713\n",
      "Error :0.008560063191564925\n",
      "Error :0.006609562356579111\n",
      "Error :0.00520820483554203\n",
      "Error :0.004726150098352832\n",
      "Error :0.00422199885613447\n",
      "Error :0.0038828128926623757\n",
      "Error :0.003791296621007506\n",
      "Error :0.003638955558757537\n",
      "Error :0.0035038983648151625\n"
     ]
    },
    {
     "name": "stderr",
     "output_type": "stream",
     "text": [
      "Ranks Progress:  20%|██        | 26/129 [02:54<12:04,  7.03s/rank]"
     ]
    },
    {
     "name": "stdout",
     "output_type": "stream",
     "text": [
      "Error :0.003461519740646938\n",
      "Error :0.008243716039593382\n",
      "Error :0.006230671458223357\n",
      "Error :0.005229452019770692\n",
      "Error :0.004722735379968084\n",
      "Error :0.00417628217891094\n",
      "Error :0.0038777265840047397\n",
      "Error :0.003735099062136801\n",
      "Error :0.0035680032088246925\n",
      "Error :0.003456124278894651\n"
     ]
    },
    {
     "name": "stderr",
     "output_type": "stream",
     "text": [
      "Ranks Progress:  21%|██        | 27/129 [03:01<11:55,  7.02s/rank]"
     ]
    },
    {
     "name": "stdout",
     "output_type": "stream",
     "text": [
      "Error :0.003348817802819559\n",
      "Error :0.008038088311106232\n",
      "Error :0.006207864762811998\n",
      "Error :0.005133264881409863\n",
      "Error :0.004466944082589436\n",
      "Error :0.004141593402075828\n",
      "Error :0.003820765016394549\n",
      "Error :0.0035883625735112913\n",
      "Error :0.0034782285296281828\n",
      "Error :0.003377018097652314\n"
     ]
    },
    {
     "name": "stderr",
     "output_type": "stream",
     "text": [
      "Ranks Progress:  22%|██▏       | 28/129 [03:09<12:10,  7.23s/rank]"
     ]
    },
    {
     "name": "stdout",
     "output_type": "stream",
     "text": [
      "Error :0.0032758984946916446\n",
      "Error :0.008314061366735029\n",
      "Error :0.00649866232901918\n",
      "Error :0.005116714790845488\n",
      "Error :0.004416831530497442\n",
      "Error :0.004088368272233007\n",
      "Error :0.0037556575118854944\n",
      "Error :0.003653322100738878\n",
      "Error :0.00340398652574607\n",
      "Error :0.0033619574843309404\n"
     ]
    },
    {
     "name": "stderr",
     "output_type": "stream",
     "text": [
      "Ranks Progress:  22%|██▏       | 29/129 [03:17<12:26,  7.47s/rank]"
     ]
    },
    {
     "name": "stdout",
     "output_type": "stream",
     "text": [
      "Error :0.0032303162521532974\n",
      "Error :0.00883186580209417\n",
      "Error :0.006420520104255417\n",
      "Error :0.005207746351907179\n",
      "Error :0.004329394900757603\n",
      "Error :0.003999016067073857\n",
      "Error :0.0037917278308409377\n",
      "Error :0.0035253953253643173\n",
      "Error :0.0033556292662180872\n",
      "Error :0.003321642969978453\n"
     ]
    },
    {
     "name": "stderr",
     "output_type": "stream",
     "text": [
      "Ranks Progress:  23%|██▎       | 30/129 [03:22<11:07,  6.74s/rank]"
     ]
    },
    {
     "name": "stdout",
     "output_type": "stream",
     "text": [
      "Error :0.003175692594427171\n",
      "Error :0.008182390790713348\n",
      "Error :0.006706538947513987\n",
      "Error :0.00518482178439149\n",
      "Error :0.0042795893359263305\n",
      "Error :0.004019450142967809\n",
      "Error :0.003682335545224263\n",
      "Error :0.0034829282095847442\n",
      "Error :0.003334272430555671\n",
      "Error :0.003184025940712882\n"
     ]
    },
    {
     "name": "stderr",
     "output_type": "stream",
     "text": [
      "Ranks Progress:  24%|██▍       | 31/129 [03:29<11:19,  6.93s/rank]"
     ]
    },
    {
     "name": "stdout",
     "output_type": "stream",
     "text": [
      "Error :0.003108322245848269\n",
      "Error :0.00862563143743734\n",
      "Error :0.006302323839353462\n",
      "Error :0.005096048152635632\n",
      "Error :0.004452013094182959\n",
      "Error :0.003956779264607789\n",
      "Error :0.0036315909735736966\n",
      "Error :0.0034362592082968412\n",
      "Error :0.0032518331546413145\n",
      "Error :0.003190794850660953\n"
     ]
    },
    {
     "name": "stderr",
     "output_type": "stream",
     "text": [
      "Ranks Progress:  25%|██▍       | 32/129 [03:38<11:51,  7.33s/rank]"
     ]
    },
    {
     "name": "stdout",
     "output_type": "stream",
     "text": [
      "Error :0.0030600019054434226\n",
      "Error :0.008373312052647585\n",
      "Error :0.006355067571251748\n",
      "Error :0.0049998199779400145\n",
      "Error :0.004499706701282633\n",
      "Error :0.0038955784516318797\n",
      "Error :0.003671973423225085\n",
      "Error :0.0033720539808482397\n",
      "Error :0.0032099356868110357\n",
      "Error :0.0030511411651736177\n"
     ]
    },
    {
     "name": "stderr",
     "output_type": "stream",
     "text": [
      "Ranks Progress:  26%|██▌       | 33/129 [03:46<12:07,  7.57s/rank]"
     ]
    },
    {
     "name": "stdout",
     "output_type": "stream",
     "text": [
      "Error :0.0030196695110157015\n",
      "Error :0.008181624384588058\n",
      "Error :0.006490152691399855\n",
      "Error :0.0050450214124854184\n",
      "Error :0.004358805837816191\n",
      "Error :0.003848718036148288\n",
      "Error :0.003500421556019476\n",
      "Error :0.0033723126361870723\n",
      "Error :0.0031632935331196007\n",
      "Error :0.0030202946992935794\n"
     ]
    },
    {
     "name": "stderr",
     "output_type": "stream",
     "text": [
      "Ranks Progress:  26%|██▋       | 34/129 [03:53<11:57,  7.55s/rank]"
     ]
    },
    {
     "name": "stdout",
     "output_type": "stream",
     "text": [
      "Error :0.002929245035598458\n",
      "Error :0.01077008096789608\n",
      "Error :0.00624689826117242\n",
      "Error :0.004969677138969109\n",
      "Error :0.004524322663268715\n",
      "Error :0.003961469995038628\n",
      "Error :0.0035906895349311816\n",
      "Error :0.0032500645298693086\n",
      "Error :0.0031045494916017834\n",
      "Error :0.0030006717398806167\n"
     ]
    },
    {
     "name": "stderr",
     "output_type": "stream",
     "text": [
      "Ranks Progress:  27%|██▋       | 35/129 [03:58<10:42,  6.83s/rank]"
     ]
    },
    {
     "name": "stdout",
     "output_type": "stream",
     "text": [
      "Error :0.0028780500552815294\n",
      "Error :0.011260163596880028\n",
      "Error :0.006314428767746817\n",
      "Error :0.005080749569600463\n",
      "Error :0.004330428258733064\n",
      "Error :0.00375801881353317\n",
      "Error :0.0034887023161155424\n",
      "Error :0.00323034634837047\n",
      "Error :0.003108462155850069\n",
      "Error :0.002966415536285121\n"
     ]
    },
    {
     "name": "stderr",
     "output_type": "stream",
     "text": [
      "Ranks Progress:  28%|██▊       | 36/129 [04:04<09:46,  6.31s/rank]"
     ]
    },
    {
     "name": "stdout",
     "output_type": "stream",
     "text": [
      "Error :0.0028568386282226276\n",
      "Error :0.008788298452912896\n",
      "Error :0.006514931665574332\n",
      "Error :0.005012661991313994\n",
      "Error :0.004184115195782059\n",
      "Error :0.0037765308677084985\n",
      "Error :0.0034860420755050713\n",
      "Error :0.0032240934054080976\n",
      "Error :0.0030527856855258164\n",
      "Error :0.0029213994419402716\n"
     ]
    },
    {
     "name": "stderr",
     "output_type": "stream",
     "text": [
      "Ranks Progress:  29%|██▊       | 37/129 [04:09<09:06,  5.94s/rank]"
     ]
    },
    {
     "name": "stdout",
     "output_type": "stream",
     "text": [
      "Error :0.002824388388734153\n",
      "Error :0.008602835130358\n",
      "Error :0.006666936733470086\n",
      "Error :0.005014064075377665\n",
      "Error :0.004184009924639047\n",
      "Error :0.0038896611085885934\n",
      "Error :0.003416777534500249\n",
      "Error :0.0031682415813557327\n",
      "Error :0.003011171077031073\n",
      "Error :0.002863536037914005\n"
     ]
    },
    {
     "name": "stderr",
     "output_type": "stream",
     "text": [
      "Ranks Progress:  29%|██▉       | 38/129 [04:16<09:27,  6.24s/rank]"
     ]
    },
    {
     "name": "stdout",
     "output_type": "stream",
     "text": [
      "Error :0.0027445937490135144\n",
      "Error :0.008248479200758822\n",
      "Error :0.006494673028938689\n",
      "Error :0.005001900091494914\n",
      "Error :0.00428443795339719\n",
      "Error :0.0037143616708232366\n",
      "Error :0.0033640887354071942\n",
      "Error :0.0030930976527017255\n",
      "Error :0.0029980839738722805\n",
      "Error :0.0027753373176869294\n"
     ]
    },
    {
     "name": "stderr",
     "output_type": "stream",
     "text": [
      "Ranks Progress:  30%|███       | 39/129 [04:24<10:16,  6.85s/rank]"
     ]
    },
    {
     "name": "stdout",
     "output_type": "stream",
     "text": [
      "Error :0.002718274042283749\n",
      "Error :0.009190749198379098\n",
      "Error :0.006429342844582337\n",
      "Error :0.0051207236753655445\n",
      "Error :0.004110922536433237\n",
      "Error :0.0037303375023491005\n",
      "Error :0.003409477190010568\n",
      "Error :0.0031111297164379634\n",
      "Error :0.0029226979289217877\n",
      "Error :0.00278911495873458\n"
     ]
    },
    {
     "name": "stderr",
     "output_type": "stream",
     "text": [
      "Ranks Progress:  31%|███       | 40/129 [04:32<10:43,  7.24s/rank]"
     ]
    },
    {
     "name": "stdout",
     "output_type": "stream",
     "text": [
      "Error :0.002692549185834337\n",
      "Error :0.008654614224672726\n",
      "Error :0.006160814695632739\n",
      "Error :0.005046605641105801\n",
      "Error :0.004021133129235514\n",
      "Error :0.003712882557623821\n",
      "Error :0.0034946115154472915\n",
      "Error :0.0030941765177279756\n",
      "Error :0.0029154850176458078\n",
      "Error :0.002714434212873109\n"
     ]
    },
    {
     "name": "stderr",
     "output_type": "stream",
     "text": [
      "Ranks Progress:  32%|███▏      | 41/129 [04:40<11:09,  7.61s/rank]"
     ]
    },
    {
     "name": "stdout",
     "output_type": "stream",
     "text": [
      "Error :0.002616961210229407\n",
      "Error :0.008240441035331504\n",
      "Error :0.006457626564583918\n",
      "Error :0.005091077452075458\n",
      "Error :0.004278018107519864\n",
      "Error :0.003645043087867346\n",
      "Error :0.003297696028550426\n",
      "Error :0.0030479304557887847\n",
      "Error :0.0029365525476417065\n",
      "Error :0.0027189395090260597\n"
     ]
    },
    {
     "name": "stderr",
     "output_type": "stream",
     "text": [
      "Ranks Progress:  33%|███▎      | 42/129 [04:49<11:20,  7.82s/rank]"
     ]
    },
    {
     "name": "stdout",
     "output_type": "stream",
     "text": [
      "Error :0.0026054917720811145\n",
      "Error :0.008933573093107453\n",
      "Error :0.006244253855291693\n",
      "Error :0.005112682133711254\n",
      "Error :0.0041344666605036585\n",
      "Error :0.003630188810539268\n",
      "Error :0.003288940128357422\n",
      "Error :0.0030525312266548007\n",
      "Error :0.0028278229000443782\n",
      "Error :0.0026793685770411893\n"
     ]
    },
    {
     "name": "stderr",
     "output_type": "stream",
     "text": [
      "Ranks Progress:  33%|███▎      | 43/129 [04:57<11:27,  7.99s/rank]"
     ]
    },
    {
     "name": "stdout",
     "output_type": "stream",
     "text": [
      "Error :0.0025837241066242224\n",
      "Error :0.00893567645367012\n",
      "Error :0.006234981012920473\n",
      "Error :0.005129278439697089\n",
      "Error :0.004175705393953125\n",
      "Error :0.0036288166268723166\n",
      "Error :0.0032382864302019612\n",
      "Error :0.002972447174172729\n",
      "Error :0.002841047367329199\n",
      "Error :0.002706210112934354\n"
     ]
    },
    {
     "name": "stderr",
     "output_type": "stream",
     "text": [
      "Ranks Progress:  34%|███▍      | 44/129 [05:05<11:23,  8.05s/rank]"
     ]
    },
    {
     "name": "stdout",
     "output_type": "stream",
     "text": [
      "Error :0.0025246442055180045\n",
      "Error :0.009306733714238078\n",
      "Error :0.006436238970352295\n",
      "Error :0.004922517968378894\n",
      "Error :0.004200893044857256\n",
      "Error :0.003528265139661243\n",
      "Error :0.0033131657400515104\n",
      "Error :0.003016929973154321\n",
      "Error :0.0028522007807834948\n",
      "Error :0.0026428144314133532\n"
     ]
    },
    {
     "name": "stderr",
     "output_type": "stream",
     "text": [
      "Ranks Progress:  35%|███▍      | 45/129 [05:13<11:16,  8.06s/rank]"
     ]
    },
    {
     "name": "stdout",
     "output_type": "stream",
     "text": [
      "Error :0.0025271177185065058\n",
      "Error :0.00982030758592679\n",
      "Error :0.006406781290068862\n",
      "Error :0.004885585415688923\n",
      "Error :0.00415991860425356\n",
      "Error :0.0035379185515548514\n",
      "Error :0.003189390850530153\n",
      "Error :0.002953303588047565\n",
      "Error :0.002714322522912625\n",
      "Error :0.002593972296979362\n"
     ]
    },
    {
     "name": "stderr",
     "output_type": "stream",
     "text": [
      "Ranks Progress:  36%|███▌      | 46/129 [05:21<11:00,  7.95s/rank]"
     ]
    },
    {
     "name": "stdout",
     "output_type": "stream",
     "text": [
      "Error :0.002482353902490311\n",
      "Error :0.0085301050245831\n",
      "Error :0.006575640586165787\n",
      "Error :0.005155695255707586\n",
      "Error :0.0041505542420360855\n",
      "Error :0.003570335752319181\n",
      "Error :0.003106085995446955\n",
      "Error :0.0028893184186477325\n",
      "Error :0.0026774512195084058\n",
      "Error :0.0025790479390229294\n"
     ]
    },
    {
     "name": "stderr",
     "output_type": "stream",
     "text": [
      "Ranks Progress:  36%|███▋      | 47/129 [05:29<10:58,  8.03s/rank]"
     ]
    },
    {
     "name": "stdout",
     "output_type": "stream",
     "text": [
      "Error :0.0024873630781287294\n",
      "Error :0.009223230234663211\n",
      "Error :0.00613814380187531\n",
      "Error :0.005121505251359883\n",
      "Error :0.004360661742808624\n",
      "Error :0.0036207724821871318\n",
      "Error :0.003189166508469823\n",
      "Error :0.0029037501126253705\n",
      "Error :0.002728638983123322\n",
      "Error :0.0025517461498055683\n"
     ]
    },
    {
     "name": "stderr",
     "output_type": "stream",
     "text": [
      "Ranks Progress:  37%|███▋      | 48/129 [05:37<10:38,  7.89s/rank]"
     ]
    },
    {
     "name": "stdout",
     "output_type": "stream",
     "text": [
      "Error :0.002436125529156764\n",
      "Error :0.008923981900045798\n",
      "Error :0.006428520392721506\n",
      "Error :0.005051141300495672\n",
      "Error :0.004037556414107444\n",
      "Error :0.0035327361837143604\n",
      "Error :0.0031500999077203975\n",
      "Error :0.0028750690699523964\n",
      "Error :0.0027092628591850495\n",
      "Error :0.002499760273363434\n"
     ]
    },
    {
     "name": "stderr",
     "output_type": "stream",
     "text": [
      "Ranks Progress:  38%|███▊      | 49/129 [05:45<10:37,  7.97s/rank]"
     ]
    },
    {
     "name": "stdout",
     "output_type": "stream",
     "text": [
      "Error :0.0024046190786857144\n",
      "Error :0.008807201665447193\n",
      "Error :0.006184783852369763\n",
      "Error :0.005055504817792131\n",
      "Error :0.004188703106847112\n",
      "Error :0.0034063145834146427\n",
      "Error :0.0032057811199954923\n",
      "Error :0.002842518697307357\n",
      "Error :0.0026171065571791996\n",
      "Error :0.0024924884246088513\n"
     ]
    },
    {
     "name": "stderr",
     "output_type": "stream",
     "text": [
      "Ranks Progress:  39%|███▉      | 50/129 [05:53<10:29,  7.96s/rank]"
     ]
    },
    {
     "name": "stdout",
     "output_type": "stream",
     "text": [
      "Error :0.0023641574883879724\n",
      "Error :0.0096791223988958\n",
      "Error :0.006374884481318525\n",
      "Error :0.005025019417207191\n",
      "Error :0.004201712872507282\n",
      "Error :0.0035656926316565145\n",
      "Error :0.003079964847299873\n",
      "Error :0.0028277134006305348\n",
      "Error :0.0026779963660818256\n",
      "Error :0.002483073983925747\n"
     ]
    },
    {
     "name": "stderr",
     "output_type": "stream",
     "text": [
      "Ranks Progress:  40%|███▉      | 51/129 [06:01<10:27,  8.04s/rank]"
     ]
    },
    {
     "name": "stdout",
     "output_type": "stream",
     "text": [
      "Error :0.002353495015578966\n",
      "Error :0.008360651560814829\n",
      "Error :0.006465880144681406\n",
      "Error :0.00502430823882834\n",
      "Error :0.00409996821525088\n",
      "Error :0.0035973329232539242\n",
      "Error :0.0031714290201630023\n",
      "Error :0.002884585413715924\n",
      "Error :0.002598515771017067\n",
      "Error :0.0024584748311566465\n"
     ]
    },
    {
     "name": "stderr",
     "output_type": "stream",
     "text": [
      "Ranks Progress:  40%|████      | 52/129 [06:06<09:12,  7.17s/rank]"
     ]
    },
    {
     "name": "stdout",
     "output_type": "stream",
     "text": [
      "Error :0.002330769858394982\n",
      "Error :0.007918173278637737\n",
      "Error :0.0061953353104427025\n",
      "Error :0.005201164919264147\n",
      "Error :0.00411657272537183\n",
      "Error :0.003547507394011235\n",
      "Error :0.003088787930542284\n",
      "Error :0.002855606570207634\n",
      "Error :0.002587138893548009\n",
      "Error :0.0024545925167163652\n"
     ]
    },
    {
     "name": "stderr",
     "output_type": "stream",
     "text": [
      "Ranks Progress:  41%|████      | 53/129 [06:12<08:20,  6.58s/rank]"
     ]
    },
    {
     "name": "stdout",
     "output_type": "stream",
     "text": [
      "Error :0.002322079974229465\n",
      "Error :0.00891351632939809\n",
      "Error :0.006122980150668194\n",
      "Error :0.005046857508458994\n",
      "Error :0.004151420671523566\n",
      "Error :0.0035126024878016832\n",
      "Error :0.00310608750629862\n",
      "Error :0.002804941459970121\n",
      "Error :0.002571107484480402\n",
      "Error :0.0023949936893231764\n"
     ]
    },
    {
     "name": "stderr",
     "output_type": "stream",
     "text": [
      "Ranks Progress:  42%|████▏     | 54/129 [06:20<08:46,  7.02s/rank]"
     ]
    },
    {
     "name": "stdout",
     "output_type": "stream",
     "text": [
      "Error :0.002257655825571993\n",
      "Error :0.00860610233600221\n",
      "Error :0.006120800938268162\n",
      "Error :0.005137934142696462\n",
      "Error :0.0040769407150542895\n",
      "Error :0.003524977352350984\n",
      "Error :0.0031778223145538446\n",
      "Error :0.0028630618036701587\n",
      "Error :0.0025866966323578253\n",
      "Error :0.002375966811723449\n"
     ]
    },
    {
     "name": "stderr",
     "output_type": "stream",
     "text": [
      "Ranks Progress:  43%|████▎     | 55/129 [06:28<09:03,  7.34s/rank]"
     ]
    },
    {
     "name": "stdout",
     "output_type": "stream",
     "text": [
      "Error :0.0022825167484734586\n",
      "Error :0.00922914266965423\n",
      "Error :0.006161255893166413\n",
      "Error :0.004909842590553295\n",
      "Error :0.004243326878194418\n",
      "Error :0.003509204249181005\n",
      "Error :0.003098339610838589\n",
      "Error :0.0027212282550321183\n",
      "Error :0.0025665314425813383\n",
      "Error :0.002375735892726182\n"
     ]
    },
    {
     "name": "stderr",
     "output_type": "stream",
     "text": [
      "Ranks Progress:  43%|████▎     | 56/129 [06:35<09:01,  7.42s/rank]"
     ]
    },
    {
     "name": "stdout",
     "output_type": "stream",
     "text": [
      "Error :0.0022523303628919637\n",
      "Error :0.00857498868632555\n",
      "Error :0.0061065798139822046\n",
      "Error :0.005209660736973975\n",
      "Error :0.004250042569512659\n",
      "Error :0.0034659568121532076\n",
      "Error :0.0030124536125587078\n",
      "Error :0.002820866947251414\n",
      "Error :0.0024769069338579793\n",
      "Error :0.002316861050417144\n"
     ]
    },
    {
     "name": "stderr",
     "output_type": "stream",
     "text": [
      "Ranks Progress:  44%|████▍     | 57/129 [06:43<09:03,  7.55s/rank]"
     ]
    },
    {
     "name": "stdout",
     "output_type": "stream",
     "text": [
      "Error :0.0022074927206237375\n",
      "Error :0.008512442364019678\n",
      "Error :0.006271525703258151\n",
      "Error :0.005279366672775131\n",
      "Error :0.004262853855159359\n",
      "Error :0.00352382412527438\n",
      "Error :0.0030605750096934616\n",
      "Error :0.0027809115213922224\n",
      "Error :0.002492258081538909\n",
      "Error :0.0023451555448490537\n"
     ]
    },
    {
     "name": "stderr",
     "output_type": "stream",
     "text": [
      "Ranks Progress:  45%|████▍     | 58/129 [06:51<09:07,  7.72s/rank]"
     ]
    },
    {
     "name": "stdout",
     "output_type": "stream",
     "text": [
      "Error :0.0022239059335699665\n",
      "Error :0.008684523399796617\n",
      "Error :0.006284690964697505\n",
      "Error :0.005347317906210374\n",
      "Error :0.00422037227835307\n",
      "Error :0.0035246447724820596\n",
      "Error :0.0030677498710074006\n",
      "Error :0.002712664434542687\n",
      "Error :0.0024875598408241697\n",
      "Error :0.0023126582171899925\n"
     ]
    },
    {
     "name": "stderr",
     "output_type": "stream",
     "text": [
      "Ranks Progress:  46%|████▌     | 59/129 [06:59<09:08,  7.83s/rank]"
     ]
    },
    {
     "name": "stdout",
     "output_type": "stream",
     "text": [
      "Error :0.0022150868902622084\n",
      "Error :0.008838114991002358\n",
      "Error :0.006851740819020318\n",
      "Error :0.005084750560850788\n",
      "Error :0.004243888685856309\n",
      "Error :0.00347692716971343\n",
      "Error :0.003117177177964414\n",
      "Error :0.0027866712870017055\n",
      "Error :0.002470490906031899\n",
      "Error :0.0023453765512063975\n"
     ]
    },
    {
     "name": "stderr",
     "output_type": "stream",
     "text": [
      "Ranks Progress:  47%|████▋     | 60/129 [07:07<09:02,  7.86s/rank]"
     ]
    },
    {
     "name": "stdout",
     "output_type": "stream",
     "text": [
      "Error :0.0021626982551386513\n",
      "Error :0.009435819192344055\n",
      "Error :0.006430838737491657\n",
      "Error :0.004997182998462971\n",
      "Error :0.004144389847702561\n",
      "Error :0.003584078594994306\n",
      "Error :0.0029623700418812625\n",
      "Error :0.0027536272984991614\n",
      "Error :0.0024678083394582898\n",
      "Error :0.0022885746543823177\n"
     ]
    },
    {
     "name": "stderr",
     "output_type": "stream",
     "text": [
      "Ranks Progress:  47%|████▋     | 61/129 [07:13<07:59,  7.06s/rank]"
     ]
    },
    {
     "name": "stdout",
     "output_type": "stream",
     "text": [
      "Error :0.002157246285670188\n",
      "Error :0.008937935421931931\n",
      "Error :0.006223726422808816\n",
      "Error :0.005099509656514677\n",
      "Error :0.004100214392598036\n",
      "Error :0.00348614069297484\n",
      "Error :0.0029451060896289122\n",
      "Error :0.002747833361359973\n",
      "Error :0.002488847584359206\n",
      "Error :0.0022590953911684666\n"
     ]
    },
    {
     "name": "stderr",
     "output_type": "stream",
     "text": [
      "Ranks Progress:  48%|████▊     | 62/129 [07:18<07:14,  6.49s/rank]"
     ]
    },
    {
     "name": "stdout",
     "output_type": "stream",
     "text": [
      "Error :0.0021033292837217108\n",
      "Error :0.008284841213033908\n",
      "Error :0.006008629522882518\n",
      "Error :0.005168529370059736\n",
      "Error :0.0041567516165787995\n",
      "Error :0.003604445398491449\n",
      "Error :0.0030110339982068156\n",
      "Error :0.0026953236382545125\n",
      "Error :0.0024909135192080307\n",
      "Error :0.002271422154421114\n"
     ]
    },
    {
     "name": "stderr",
     "output_type": "stream",
     "text": [
      "Ranks Progress:  49%|████▉     | 63/129 [07:23<06:41,  6.08s/rank]"
     ]
    },
    {
     "name": "stdout",
     "output_type": "stream",
     "text": [
      "Error :0.0021101840675438097\n",
      "Error :0.008236138635889002\n",
      "Error :0.0062117769679765\n",
      "Error :0.005197118930241341\n",
      "Error :0.0042439864222051414\n",
      "Error :0.00355894762253908\n",
      "Error :0.0030176451487192437\n",
      "Error :0.002732853961963876\n",
      "Error :0.0024365914283948275\n",
      "Error :0.0022751259304259704\n"
     ]
    },
    {
     "name": "stderr",
     "output_type": "stream",
     "text": [
      "Ranks Progress:  50%|████▉     | 64/129 [07:29<06:45,  6.23s/rank]"
     ]
    },
    {
     "name": "stdout",
     "output_type": "stream",
     "text": [
      "Error :0.0021194960358074306\n",
      "Error :0.009015923732454498\n",
      "Error :0.006290162899798244\n",
      "Error :0.005223404373047135\n",
      "Error :0.0042979035897819816\n",
      "Error :0.0034249173801623313\n",
      "Error :0.0031328459714036498\n",
      "Error :0.00279824862165401\n",
      "Error :0.002459970638649702\n",
      "Error :0.0022766035063264863\n"
     ]
    },
    {
     "name": "stderr",
     "output_type": "stream",
     "text": [
      "Ranks Progress:  50%|█████     | 65/129 [07:38<07:16,  6.81s/rank]"
     ]
    },
    {
     "name": "stdout",
     "output_type": "stream",
     "text": [
      "Error :0.002099921575145097\n",
      "Error :0.009661212790299469\n",
      "Error :0.006456601396304434\n",
      "Error :0.005069284534157301\n",
      "Error :0.004185459999728219\n",
      "Error :0.003523043681776252\n",
      "Error :0.0030827171659956834\n",
      "Error :0.0026636808358506013\n",
      "Error :0.0024889586010643856\n",
      "Error :0.0022374977552957094\n"
     ]
    },
    {
     "name": "stderr",
     "output_type": "stream",
     "text": [
      "Ranks Progress:  51%|█████     | 66/129 [07:46<07:34,  7.21s/rank]"
     ]
    },
    {
     "name": "stdout",
     "output_type": "stream",
     "text": [
      "Error :0.0020814812347172426\n",
      "Error :0.008490055575055276\n",
      "Error :0.006300609714762547\n",
      "Error :0.005140800777968926\n",
      "Error :0.004084711866139283\n",
      "Error :0.0035370899665622887\n",
      "Error :0.0030366846087606044\n",
      "Error :0.0027420346081535973\n",
      "Error :0.0024418152697373704\n",
      "Error :0.002217916951883859\n"
     ]
    },
    {
     "name": "stderr",
     "output_type": "stream",
     "text": [
      "Ranks Progress:  52%|█████▏    | 67/129 [07:54<07:44,  7.49s/rank]"
     ]
    },
    {
     "name": "stdout",
     "output_type": "stream",
     "text": [
      "Error :0.002070695420433212\n",
      "Error :0.00811130921621369\n",
      "Error :0.0061650368861052105\n",
      "Error :0.0048120401493259675\n",
      "Error :0.004155653756968575\n",
      "Error :0.003479755142751666\n",
      "Error :0.002960794657202426\n",
      "Error :0.002642607205348273\n",
      "Error :0.0023606709147441494\n",
      "Error :0.002199573101115613\n"
     ]
    },
    {
     "name": "stderr",
     "output_type": "stream",
     "text": [
      "Ranks Progress:  53%|█████▎    | 68/129 [08:01<07:39,  7.54s/rank]"
     ]
    },
    {
     "name": "stdout",
     "output_type": "stream",
     "text": [
      "Error :0.0020739749444674857\n",
      "Error :0.008624574455360315\n",
      "Error :0.0061712671412794936\n",
      "Error :0.005113879710224339\n",
      "Error :0.004113157379259131\n",
      "Error :0.0035724369981808466\n",
      "Error :0.0030525082377234436\n",
      "Error :0.0027245740074534138\n",
      "Error :0.0024280656641508355\n",
      "Error :0.0022424796410380108\n"
     ]
    },
    {
     "name": "stderr",
     "output_type": "stream",
     "text": [
      "Ranks Progress:  53%|█████▎    | 69/129 [08:10<07:41,  7.69s/rank]"
     ]
    },
    {
     "name": "stdout",
     "output_type": "stream",
     "text": [
      "Error :0.002044359613158365\n",
      "Error :0.008936555863587792\n",
      "Error :0.006476613288701421\n",
      "Error :0.005197774434953686\n",
      "Error :0.004157429390812705\n",
      "Error :0.00353704041481307\n",
      "Error :0.0029836853406296337\n",
      "Error :0.002752649523485865\n",
      "Error :0.002377430148660183\n",
      "Error :0.002195562110453916\n"
     ]
    },
    {
     "name": "stderr",
     "output_type": "stream",
     "text": [
      "Ranks Progress:  54%|█████▍    | 70/129 [08:18<07:41,  7.82s/rank]"
     ]
    },
    {
     "name": "stdout",
     "output_type": "stream",
     "text": [
      "Error :0.0020349654538818463\n",
      "Error :0.008548125396137817\n",
      "Error :0.005958688110593921\n",
      "Error :0.004920933741709149\n",
      "Error :0.004196065075360017\n",
      "Error :0.0035554235887838054\n",
      "Error :0.0029692084951194976\n",
      "Error :0.0026554355061114074\n",
      "Error :0.0023749059504230416\n",
      "Error :0.0021579886967873383\n"
     ]
    },
    {
     "name": "stderr",
     "output_type": "stream",
     "text": [
      "Ranks Progress:  55%|█████▌    | 71/129 [08:26<07:34,  7.83s/rank]"
     ]
    },
    {
     "name": "stdout",
     "output_type": "stream",
     "text": [
      "Error :0.002053158607603658\n",
      "Error :0.008166653429713245\n",
      "Error :0.006472789249016332\n",
      "Error :0.004967837126702455\n",
      "Error :0.0041233392330182845\n",
      "Error :0.0034745197342066964\n",
      "Error :0.003071668530771786\n",
      "Error :0.002648374461603115\n",
      "Error :0.0023383812062306515\n",
      "Error :0.0021696580071101424\n"
     ]
    },
    {
     "name": "stderr",
     "output_type": "stream",
     "text": [
      "Ranks Progress:  56%|█████▌    | 72/129 [08:32<07:06,  7.49s/rank]"
     ]
    },
    {
     "name": "stdout",
     "output_type": "stream",
     "text": [
      "Error :0.0020137092703749106\n",
      "Error :0.009365487276081233\n",
      "Error :0.00660518324207444\n",
      "Error :0.005100375211623637\n",
      "Error :0.0042187290115783165\n",
      "Error :0.003555444477352205\n",
      "Error :0.003082029908797078\n",
      "Error :0.0026270945488450297\n",
      "Error :0.002359972693709365\n",
      "Error :0.002184346651109533\n"
     ]
    },
    {
     "name": "stderr",
     "output_type": "stream",
     "text": [
      "Ranks Progress:  57%|█████▋    | 73/129 [08:37<06:19,  6.78s/rank]"
     ]
    },
    {
     "name": "stdout",
     "output_type": "stream",
     "text": [
      "Error :0.0020026876726946634\n",
      "Error :0.008661985554925061\n",
      "Error :0.006198338864157021\n",
      "Error :0.004964066610713494\n",
      "Error :0.004235407282033388\n",
      "Error :0.0035111961689900106\n",
      "Error :0.0030781422228311726\n",
      "Error :0.002641127341054217\n",
      "Error :0.002363140124135082\n",
      "Error :0.002175205087208873\n"
     ]
    },
    {
     "name": "stderr",
     "output_type": "stream",
     "text": [
      "Ranks Progress:  57%|█████▋    | 74/129 [08:43<06:00,  6.55s/rank]"
     ]
    },
    {
     "name": "stdout",
     "output_type": "stream",
     "text": [
      "Error :0.0020062763360008257\n",
      "Error :0.008404432282891589\n",
      "Error :0.0059774134305737945\n",
      "Error :0.004994157288896392\n",
      "Error :0.004268776199803001\n",
      "Error :0.0035628073555948082\n",
      "Error :0.003052853405448396\n",
      "Error :0.0027018099016115505\n",
      "Error :0.0023917388735955206\n",
      "Error :0.0021771646009728697\n"
     ]
    },
    {
     "name": "stderr",
     "output_type": "stream",
     "text": [
      "Ranks Progress:  58%|█████▊    | 75/129 [08:51<06:11,  6.89s/rank]"
     ]
    },
    {
     "name": "stdout",
     "output_type": "stream",
     "text": [
      "Error :0.0020068477133784977\n",
      "Error :0.008622075345999172\n",
      "Error :0.006603964200474398\n",
      "Error :0.005020126931365549\n",
      "Error :0.004214007951900879\n",
      "Error :0.003511311464166719\n",
      "Error :0.0029832443288873157\n",
      "Error :0.002591588791444666\n",
      "Error :0.0023539721141103325\n",
      "Error :0.002142137689838658\n"
     ]
    },
    {
     "name": "stderr",
     "output_type": "stream",
     "text": [
      "Ranks Progress:  59%|█████▉    | 76/129 [08:59<06:26,  7.29s/rank]"
     ]
    },
    {
     "name": "stdout",
     "output_type": "stream",
     "text": [
      "Error :0.0019686683311502303\n",
      "Error :0.008890186721817094\n",
      "Error :0.006229392353264525\n",
      "Error :0.005143536814634389\n",
      "Error :0.0042556468875903685\n",
      "Error :0.003526256707629851\n",
      "Error :0.0030141813936830015\n",
      "Error :0.0026440998090077484\n",
      "Error :0.0023448964214742405\n",
      "Error :0.0020992951599161347\n"
     ]
    },
    {
     "name": "stderr",
     "output_type": "stream",
     "text": [
      "Ranks Progress:  60%|█████▉    | 77/129 [09:07<06:33,  7.56s/rank]"
     ]
    },
    {
     "name": "stdout",
     "output_type": "stream",
     "text": [
      "Error :0.0020474434296607336\n",
      "Error :0.00869573648341267\n",
      "Error :0.006157235874012083\n",
      "Error :0.005146181237490792\n",
      "Error :0.004247148910058788\n",
      "Error :0.0035766416871173194\n",
      "Error :0.003016853741377716\n",
      "Error :0.0026812954149675215\n",
      "Error :0.0023710163511194847\n",
      "Error :0.002175075175353971\n"
     ]
    },
    {
     "name": "stderr",
     "output_type": "stream",
     "text": [
      "Ranks Progress:  60%|██████    | 78/129 [09:15<06:30,  7.66s/rank]"
     ]
    },
    {
     "name": "stdout",
     "output_type": "stream",
     "text": [
      "Error :0.00199397765884982\n",
      "Error :0.008264195085559508\n",
      "Error :0.006468948311411013\n",
      "Error :0.005108997397861484\n",
      "Error :0.004240627315243971\n",
      "Error :0.0034804900554139154\n",
      "Error :0.003026357498808036\n",
      "Error :0.002595064670014034\n",
      "Error :0.00230197873251191\n",
      "Error :0.002130648370179055\n"
     ]
    },
    {
     "name": "stderr",
     "output_type": "stream",
     "text": [
      "Ranks Progress:  61%|██████    | 79/129 [09:23<06:26,  7.72s/rank]"
     ]
    },
    {
     "name": "stdout",
     "output_type": "stream",
     "text": [
      "Error :0.0019515172432383032\n",
      "Error :0.008509351184662648\n",
      "Error :0.006387071596656556\n",
      "Error :0.004997566781524849\n",
      "Error :0.004250749007280407\n",
      "Error :0.003656056003275729\n",
      "Error :0.0030283837965675606\n",
      "Error :0.0026749371875969905\n",
      "Error :0.002326577891329197\n",
      "Error :0.0021530169938020855\n"
     ]
    },
    {
     "name": "stderr",
     "output_type": "stream",
     "text": [
      "Ranks Progress:  62%|██████▏   | 80/129 [09:31<06:23,  7.82s/rank]"
     ]
    },
    {
     "name": "stdout",
     "output_type": "stream",
     "text": [
      "Error :0.00193834099256786\n",
      "Error :0.0089571287764156\n",
      "Error :0.006287441035160082\n",
      "Error :0.005011660226059672\n",
      "Error :0.0041313339869241145\n",
      "Error :0.003551011235952255\n",
      "Error :0.003102261262921502\n",
      "Error :0.0026647376929659623\n",
      "Error :0.002339242581268315\n",
      "Error :0.002139666935008507\n"
     ]
    },
    {
     "name": "stderr",
     "output_type": "stream",
     "text": [
      "Ranks Progress:  63%|██████▎   | 81/129 [09:38<06:06,  7.64s/rank]"
     ]
    },
    {
     "name": "stdout",
     "output_type": "stream",
     "text": [
      "Error :0.0019431683103300504\n",
      "Error :0.007849807907155915\n",
      "Error :0.006451560119273655\n",
      "Error :0.005085373046532948\n",
      "Error :0.004140171011424621\n",
      "Error :0.003438605131921609\n",
      "Error :0.0031039133528167027\n",
      "Error :0.0025672423996875434\n",
      "Error :0.0023083930387216905\n",
      "Error :0.0021187428241687726\n"
     ]
    },
    {
     "name": "stderr",
     "output_type": "stream",
     "text": [
      "Ranks Progress:  64%|██████▎   | 82/129 [09:44<05:29,  7.02s/rank]"
     ]
    },
    {
     "name": "stdout",
     "output_type": "stream",
     "text": [
      "Error :0.0019234511325566916\n",
      "Error :0.008382515822860249\n",
      "Error :0.006529088161945013\n",
      "Error :0.004965460069541555\n",
      "Error :0.004178534438509445\n",
      "Error :0.0035121673087252603\n",
      "Error :0.0029861201134688854\n",
      "Error :0.0026356358335452093\n",
      "Error :0.002286318935052117\n",
      "Error :0.00212550142130584\n"
     ]
    },
    {
     "name": "stderr",
     "output_type": "stream",
     "text": [
      "Ranks Progress:  64%|██████▍   | 83/129 [09:49<04:59,  6.51s/rank]"
     ]
    },
    {
     "name": "stdout",
     "output_type": "stream",
     "text": [
      "Error :0.0018966524231448531\n",
      "Error :0.008318263487918805\n",
      "Error :0.006570711493480042\n",
      "Error :0.005107527555283888\n",
      "Error :0.004096665521442648\n",
      "Error :0.003568716857332308\n",
      "Error :0.0030075530547597636\n",
      "Error :0.002640659081831189\n",
      "Error :0.0023598296682549374\n",
      "Error :0.002084387981707323\n"
     ]
    },
    {
     "name": "stderr",
     "output_type": "stream",
     "text": [
      "Ranks Progress:  65%|██████▌   | 84/129 [09:55<04:34,  6.11s/rank]"
     ]
    },
    {
     "name": "stdout",
     "output_type": "stream",
     "text": [
      "Error :0.0019265635838726174\n",
      "Error :0.008473665139221254\n",
      "Error :0.006489384023127848\n",
      "Error :0.005220804777314786\n",
      "Error :0.004180189151765491\n",
      "Error :0.0035925471492996414\n",
      "Error :0.0029754661061842016\n",
      "Error :0.0026888885343323526\n",
      "Error :0.002344151691879829\n",
      "Error :0.0021092930637037666\n"
     ]
    },
    {
     "name": "stderr",
     "output_type": "stream",
     "text": [
      "Ranks Progress:  66%|██████▌   | 85/129 [10:02<04:42,  6.41s/rank]"
     ]
    },
    {
     "name": "stdout",
     "output_type": "stream",
     "text": [
      "Error :0.0019059909400098623\n",
      "Error :0.007862845139160657\n",
      "Error :0.006169862374193821\n",
      "Error :0.004962046322937951\n",
      "Error :0.004120871386972714\n",
      "Error :0.0034570558472320216\n",
      "Error :0.0030306726015490943\n",
      "Error :0.002650363171629536\n",
      "Error :0.002345492513848264\n",
      "Error :0.0020756217852116016\n"
     ]
    },
    {
     "name": "stderr",
     "output_type": "stream",
     "text": [
      "Ranks Progress:  67%|██████▋   | 86/129 [10:09<04:47,  6.69s/rank]"
     ]
    },
    {
     "name": "stdout",
     "output_type": "stream",
     "text": [
      "Error :0.001907121125672525\n",
      "Error :0.009365510378568196\n",
      "Error :0.00661271693539359\n",
      "Error :0.0050255531844680575\n",
      "Error :0.004133079819737048\n",
      "Error :0.00363027597004596\n",
      "Error :0.002965198082795877\n",
      "Error :0.002607485690418129\n",
      "Error :0.002310239410071298\n",
      "Error :0.002084236884850978\n"
     ]
    },
    {
     "name": "stderr",
     "output_type": "stream",
     "text": [
      "Ranks Progress:  67%|██████▋   | 87/129 [10:17<05:00,  7.15s/rank]"
     ]
    },
    {
     "name": "stdout",
     "output_type": "stream",
     "text": [
      "Error :0.0018847076364642062\n",
      "Error :0.008801597868573352\n",
      "Error :0.006628737891356679\n",
      "Error :0.005047584861826017\n",
      "Error :0.004146759379890335\n",
      "Error :0.0035140925531989007\n",
      "Error :0.003052526170034903\n",
      "Error :0.0026366744928542235\n",
      "Error :0.0023514473345112807\n",
      "Error :0.0020806224033272343\n"
     ]
    },
    {
     "name": "stderr",
     "output_type": "stream",
     "text": [
      "Ranks Progress:  68%|██████▊   | 88/129 [10:25<04:59,  7.32s/rank]"
     ]
    },
    {
     "name": "stdout",
     "output_type": "stream",
     "text": [
      "Error :0.0019221414372937002\n",
      "Error :0.00964711592443215\n",
      "Error :0.0068711151021393045\n",
      "Error :0.004973649382521332\n",
      "Error :0.004169766701370381\n",
      "Error :0.0035313820674620594\n",
      "Error :0.0030569559005214344\n",
      "Error :0.002684712284112443\n",
      "Error :0.0023459551503095394\n",
      "Error :0.0020494813917700644\n"
     ]
    },
    {
     "name": "stderr",
     "output_type": "stream",
     "text": [
      "Ranks Progress:  69%|██████▉   | 89/129 [10:33<05:01,  7.53s/rank]"
     ]
    },
    {
     "name": "stdout",
     "output_type": "stream",
     "text": [
      "Error :0.0018679781634774947\n",
      "Error :0.011753059802677537\n",
      "Error :0.0063058694668828245\n",
      "Error :0.0052428624430342335\n",
      "Error :0.004126186757584594\n",
      "Error :0.0035834596633884234\n",
      "Error :0.003060151793871171\n",
      "Error :0.0026557719033478006\n",
      "Error :0.002359896744743621\n",
      "Error :0.002080731862551906\n"
     ]
    },
    {
     "name": "stderr",
     "output_type": "stream",
     "text": [
      "Ranks Progress:  70%|██████▉   | 90/129 [10:41<05:01,  7.73s/rank]"
     ]
    },
    {
     "name": "stdout",
     "output_type": "stream",
     "text": [
      "Error :0.0019423251035463483\n",
      "Error :0.008314753292470833\n",
      "Error :0.0063042804209911315\n",
      "Error :0.0049897378530190965\n",
      "Error :0.004137923882282655\n",
      "Error :0.0036351962861408548\n",
      "Error :0.0029930118493244964\n",
      "Error :0.0026641531722532185\n",
      "Error :0.0023496526198181667\n",
      "Error :0.002063632362139752\n"
     ]
    },
    {
     "name": "stderr",
     "output_type": "stream",
     "text": [
      "Ranks Progress:  71%|███████   | 91/129 [10:49<04:57,  7.83s/rank]"
     ]
    },
    {
     "name": "stdout",
     "output_type": "stream",
     "text": [
      "Error :0.0018815535566621346\n",
      "Error :0.008959025700545705\n",
      "Error :0.006326858652828237\n",
      "Error :0.005177659737455537\n",
      "Error :0.00422407973721711\n",
      "Error :0.0035284051612634463\n",
      "Error :0.0030522010480275893\n",
      "Error :0.002640069067440016\n",
      "Error :0.0023390576846661097\n",
      "Error :0.0020676084081866545\n"
     ]
    },
    {
     "name": "stderr",
     "output_type": "stream",
     "text": [
      "Ranks Progress:  71%|███████▏  | 92/129 [10:57<04:52,  7.89s/rank]"
     ]
    },
    {
     "name": "stdout",
     "output_type": "stream",
     "text": [
      "Error :0.001892889065537684\n",
      "Error :0.008355940996788271\n",
      "Error :0.0063105102553298225\n",
      "Error :0.00502470219933737\n",
      "Error :0.004155478466873248\n",
      "Error :0.003557214591054272\n",
      "Error :0.003077765346046389\n",
      "Error :0.0026480773537438614\n",
      "Error :0.0023147212430258864\n",
      "Error :0.002088860683564891\n"
     ]
    },
    {
     "name": "stderr",
     "output_type": "stream",
     "text": [
      "Ranks Progress:  72%|███████▏  | 93/129 [11:03<04:25,  7.38s/rank]"
     ]
    },
    {
     "name": "stdout",
     "output_type": "stream",
     "text": [
      "Error :0.0018864002517238719\n",
      "Error :0.008643310562123727\n",
      "Error :0.006298164475219797\n",
      "Error :0.005184176356057805\n",
      "Error :0.004136815752950387\n",
      "Error :0.00357443390511968\n",
      "Error :0.003053109257350088\n",
      "Error :0.0027120413595881233\n",
      "Error :0.002309844011156712\n",
      "Error :0.002071710623342607\n"
     ]
    },
    {
     "name": "stderr",
     "output_type": "stream",
     "text": [
      "Ranks Progress:  73%|███████▎  | 94/129 [11:09<03:54,  6.71s/rank]"
     ]
    },
    {
     "name": "stdout",
     "output_type": "stream",
     "text": [
      "Error :0.0018613214324782442\n",
      "Error :0.008481002617355201\n",
      "Error :0.006601879444675814\n",
      "Error :0.0049354901603773345\n",
      "Error :0.004201247939355678\n",
      "Error :0.0036105281200976467\n",
      "Error :0.003041202069781128\n",
      "Error :0.0025872976528809565\n",
      "Error :0.0023338231104093063\n",
      "Error :0.0021115580343388906\n"
     ]
    },
    {
     "name": "stderr",
     "output_type": "stream",
     "text": [
      "Ranks Progress:  74%|███████▎  | 95/129 [11:15<03:46,  6.65s/rank]"
     ]
    },
    {
     "name": "stdout",
     "output_type": "stream",
     "text": [
      "Error :0.0018834726746144899\n",
      "Error :0.008173722848794113\n",
      "Error :0.0061334773002618284\n",
      "Error :0.0048240384331830295\n",
      "Error :0.004233898211817427\n",
      "Error :0.0035446700284811603\n",
      "Error :0.0030896152020492627\n",
      "Error :0.002693449340447695\n",
      "Error :0.0023425134393800675\n",
      "Error :0.0020445807446262594\n"
     ]
    },
    {
     "name": "stderr",
     "output_type": "stream",
     "text": [
      "Ranks Progress:  74%|███████▍  | 96/129 [11:23<03:54,  7.10s/rank]"
     ]
    },
    {
     "name": "stdout",
     "output_type": "stream",
     "text": [
      "Error :0.0018783371458547318\n",
      "Error :0.0107613793305357\n",
      "Error :0.00656004436704786\n",
      "Error :0.005263855020080643\n",
      "Error :0.004161623018598256\n",
      "Error :0.0035765522061819446\n",
      "Error :0.002986821235141073\n",
      "Error :0.0025930892483332665\n",
      "Error :0.002289570041598085\n",
      "Error :0.0020841807552900702\n"
     ]
    },
    {
     "name": "stderr",
     "output_type": "stream",
     "text": [
      "Ranks Progress:  75%|███████▌  | 97/129 [11:31<03:55,  7.36s/rank]"
     ]
    },
    {
     "name": "stdout",
     "output_type": "stream",
     "text": [
      "Error :0.0018698176004630735\n",
      "Error :0.008670696466706663\n",
      "Error :0.006524903328854328\n",
      "Error :0.005146155382537036\n",
      "Error :0.004164024918731751\n",
      "Error :0.003538832890603508\n",
      "Error :0.003000618384896568\n",
      "Error :0.0026088293600153513\n",
      "Error :0.002356193015256788\n",
      "Error :0.0021272684636988184\n"
     ]
    },
    {
     "name": "stderr",
     "output_type": "stream",
     "text": [
      "Ranks Progress:  76%|███████▌  | 98/129 [11:39<03:56,  7.62s/rank]"
     ]
    },
    {
     "name": "stdout",
     "output_type": "stream",
     "text": [
      "Error :0.001894662017984903\n",
      "Error :0.009070881868407077\n",
      "Error :0.006702853901638123\n",
      "Error :0.0049469422561209\n",
      "Error :0.004142094661864951\n",
      "Error :0.003441562892339315\n",
      "Error :0.0031119860541390446\n",
      "Error :0.002640742651344396\n",
      "Error :0.0023050295232359165\n",
      "Error :0.0020644995769904654\n"
     ]
    },
    {
     "name": "stderr",
     "output_type": "stream",
     "text": [
      "Ranks Progress:  77%|███████▋  | 99/129 [11:47<03:51,  7.72s/rank]"
     ]
    },
    {
     "name": "stdout",
     "output_type": "stream",
     "text": [
      "Error :0.0018351488521644245\n",
      "Error :0.00864995491153131\n",
      "Error :0.006523216089148037\n",
      "Error :0.005093586888913775\n",
      "Error :0.004122701405137825\n",
      "Error :0.0035955343696506856\n",
      "Error :0.003032861570217567\n",
      "Error :0.002635018231934942\n",
      "Error :0.002305892552464127\n",
      "Error :0.002042070838471906\n"
     ]
    },
    {
     "name": "stderr",
     "output_type": "stream",
     "text": [
      "Ranks Progress:  78%|███████▊  | 100/129 [11:55<03:47,  7.83s/rank]"
     ]
    },
    {
     "name": "stdout",
     "output_type": "stream",
     "text": [
      "Error :0.0018171930737105118\n",
      "Error :0.008547385913366248\n",
      "Error :0.006124057936885161\n",
      "Error :0.005050647074399499\n",
      "Error :0.004249679723386855\n",
      "Error :0.0035354944382602594\n",
      "Error :0.0030432337881250125\n",
      "Error :0.0026213927021528105\n",
      "Error :0.0023696676508709186\n",
      "Error :0.0020692379611825275\n"
     ]
    },
    {
     "name": "stderr",
     "output_type": "stream",
     "text": [
      "Ranks Progress:  78%|███████▊  | 101/129 [12:03<03:40,  7.88s/rank]"
     ]
    },
    {
     "name": "stdout",
     "output_type": "stream",
     "text": [
      "Error :0.001868616282665855\n",
      "Error :0.008740174694483202\n",
      "Error :0.006560585768511716\n",
      "Error :0.004969124194129998\n",
      "Error :0.0042427883655955685\n",
      "Error :0.003469908008149623\n",
      "Error :0.003086842641212934\n",
      "Error :0.0026309986272524937\n",
      "Error :0.0023077158256344953\n",
      "Error :0.0020757926210850366\n"
     ]
    },
    {
     "name": "stderr",
     "output_type": "stream",
     "text": [
      "Ranks Progress:  79%|███████▉  | 102/129 [12:10<03:19,  7.40s/rank]"
     ]
    },
    {
     "name": "stdout",
     "output_type": "stream",
     "text": [
      "Error :0.0018282468961191823\n",
      "Error :0.010042252613300554\n",
      "Error :0.006236213555549242\n",
      "Error :0.0051026640970107\n",
      "Error :0.004136959252373118\n",
      "Error :0.0035738609000445735\n",
      "Error :0.0030331627919764625\n",
      "Error :0.0026435949539326546\n",
      "Error :0.0023219386126169424\n",
      "Error :0.002086905217545881\n"
     ]
    },
    {
     "name": "stderr",
     "output_type": "stream",
     "text": [
      "Ranks Progress:  80%|███████▉  | 103/129 [12:15<02:57,  6.84s/rank]"
     ]
    },
    {
     "name": "stdout",
     "output_type": "stream",
     "text": [
      "Error :0.0018648601352391936\n",
      "Error :0.009201389404778215\n",
      "Error :0.006713995712906771\n",
      "Error :0.005043674809232809\n",
      "Error :0.004314504312169966\n",
      "Error :0.0035258178057364156\n",
      "Error :0.0030457728751132705\n",
      "Error :0.0026152541852992373\n",
      "Error :0.0023405018937682175\n",
      "Error :0.0020987765655212775\n"
     ]
    },
    {
     "name": "stderr",
     "output_type": "stream",
     "text": [
      "Ranks Progress:  81%|████████  | 104/129 [12:20<02:37,  6.29s/rank]"
     ]
    },
    {
     "name": "stdout",
     "output_type": "stream",
     "text": [
      "Error :0.0018463413017293124\n",
      "Error :0.008877124039639106\n",
      "Error :0.006373568123477369\n",
      "Error :0.00507540302219474\n",
      "Error :0.00413670649370883\n",
      "Error :0.0035671905233175334\n",
      "Error :0.003071630569852362\n",
      "Error :0.00266251753814174\n",
      "Error :0.00233738457519948\n",
      "Error :0.0020723924188536707\n"
     ]
    },
    {
     "name": "stderr",
     "output_type": "stream",
     "text": [
      "Ranks Progress:  81%|████████▏ | 105/129 [12:26<02:26,  6.10s/rank]"
     ]
    },
    {
     "name": "stdout",
     "output_type": "stream",
     "text": [
      "Error :0.0018395438525054184\n",
      "Error :0.008878553986104747\n",
      "Error :0.006246944593655847\n",
      "Error :0.0051067321147552705\n",
      "Error :0.0042250374031730185\n",
      "Error :0.0034977386012336516\n",
      "Error :0.002954479125170935\n",
      "Error :0.0025885168850986163\n",
      "Error :0.00231469492840741\n",
      "Error :0.002041738746759497\n"
     ]
    },
    {
     "name": "stderr",
     "output_type": "stream",
     "text": [
      "Ranks Progress:  82%|████████▏ | 106/129 [12:34<02:33,  6.66s/rank]"
     ]
    },
    {
     "name": "stdout",
     "output_type": "stream",
     "text": [
      "Error :0.001820919943412452\n",
      "Error :0.00866563608597067\n",
      "Error :0.006411114026312801\n",
      "Error :0.005177734404706093\n",
      "Error :0.004121150033551742\n",
      "Error :0.003498695308084075\n",
      "Error :0.0030474186945694177\n",
      "Error :0.002664425339407261\n",
      "Error :0.0023230289193485014\n",
      "Error :0.002016251389280104\n"
     ]
    },
    {
     "name": "stderr",
     "output_type": "stream",
     "text": [
      "Ranks Progress:  83%|████████▎ | 107/129 [12:42<02:35,  7.08s/rank]"
     ]
    },
    {
     "name": "stdout",
     "output_type": "stream",
     "text": [
      "Error :0.0018659742216767664\n",
      "Error :0.008261949238108931\n",
      "Error :0.006258235987897274\n",
      "Error :0.005021455272566227\n",
      "Error :0.004214459895975418\n",
      "Error :0.0035954722688002925\n",
      "Error :0.003069124124751578\n",
      "Error :0.0026538155617584942\n",
      "Error :0.0022830690677849014\n",
      "Error :0.0020630379332511545\n"
     ]
    },
    {
     "name": "stderr",
     "output_type": "stream",
     "text": [
      "Ranks Progress:  84%|████████▎ | 108/129 [12:50<02:35,  7.42s/rank]"
     ]
    },
    {
     "name": "stdout",
     "output_type": "stream",
     "text": [
      "Error :0.0018323319440147832\n",
      "Error :0.009509455935969009\n",
      "Error :0.006246973889203057\n",
      "Error :0.00512358170168531\n",
      "Error :0.004163013226186068\n",
      "Error :0.0035663376790098684\n",
      "Error :0.0029855829857763287\n",
      "Error :0.0026535251937633867\n",
      "Error :0.0023529029147498046\n",
      "Error :0.0020692090971648866\n"
     ]
    },
    {
     "name": "stderr",
     "output_type": "stream",
     "text": [
      "Ranks Progress:  84%|████████▍ | 109/129 [12:58<02:32,  7.63s/rank]"
     ]
    },
    {
     "name": "stdout",
     "output_type": "stream",
     "text": [
      "Error :0.0018511575474597947\n",
      "Error :0.009383918542590446\n",
      "Error :0.006264936017648585\n",
      "Error :0.00485939340369703\n",
      "Error :0.0042530203109629496\n",
      "Error :0.003449944855737416\n",
      "Error :0.003056527140790548\n",
      "Error :0.0026635848042594855\n",
      "Error :0.002312666376203945\n",
      "Error :0.0020373157153319595\n"
     ]
    },
    {
     "name": "stderr",
     "output_type": "stream",
     "text": [
      "Ranks Progress:  85%|████████▌ | 110/129 [13:06<02:27,  7.75s/rank]"
     ]
    },
    {
     "name": "stdout",
     "output_type": "stream",
     "text": [
      "Error :0.0018513377808199664\n",
      "Error :0.00892355643388955\n",
      "Error :0.005945371064497095\n",
      "Error :0.00484881537413495\n",
      "Error :0.0042691595388522\n",
      "Error :0.003571329790204981\n",
      "Error :0.0029924286639681865\n",
      "Error :0.0026282122146399135\n",
      "Error :0.002307192263677821\n",
      "Error :0.0020350425087803615\n"
     ]
    },
    {
     "name": "stderr",
     "output_type": "stream",
     "text": [
      "Ranks Progress:  86%|████████▌ | 111/129 [13:15<02:23,  7.95s/rank]"
     ]
    },
    {
     "name": "stdout",
     "output_type": "stream",
     "text": [
      "Error :0.0018632681892332779\n",
      "Error :0.008141863360400393\n",
      "Error :0.00630633028462779\n",
      "Error :0.0051715843626268035\n",
      "Error :0.004202740051050483\n",
      "Error :0.0035123496954719163\n",
      "Error :0.0029877700756858034\n",
      "Error :0.0027098185523249415\n",
      "Error :0.0022860955497663155\n",
      "Error :0.0020807092078929793\n"
     ]
    },
    {
     "name": "stderr",
     "output_type": "stream",
     "text": [
      "Ranks Progress:  87%|████████▋ | 112/129 [13:23<02:15,  8.00s/rank]"
     ]
    },
    {
     "name": "stdout",
     "output_type": "stream",
     "text": [
      "Error :0.0018143748305368896\n",
      "Error :0.008565515013304017\n",
      "Error :0.00608155901378737\n",
      "Error :0.0049097570763005464\n",
      "Error :0.004229726171356764\n",
      "Error :0.0034637267093217466\n",
      "Error :0.0029685126669045216\n",
      "Error :0.002569863846913724\n",
      "Error :0.0023168323634543395\n",
      "Error :0.0020604663895631837\n"
     ]
    },
    {
     "name": "stderr",
     "output_type": "stream",
     "text": [
      "Ranks Progress:  88%|████████▊ | 113/129 [13:31<02:08,  8.00s/rank]"
     ]
    },
    {
     "name": "stdout",
     "output_type": "stream",
     "text": [
      "Error :0.0018628659319798431\n",
      "Error :0.009772451332272922\n",
      "Error :0.006378332176367425\n",
      "Error :0.005061646364144828\n",
      "Error :0.004115266880829684\n",
      "Error :0.003543842672525651\n",
      "Error :0.0030281369802848935\n",
      "Error :0.002632461347542337\n",
      "Error :0.0022939155640681434\n",
      "Error :0.0020472359319085075\n"
     ]
    },
    {
     "name": "stderr",
     "output_type": "stream",
     "text": [
      "Ranks Progress:  88%|████████▊ | 114/129 [13:39<02:00,  8.01s/rank]"
     ]
    },
    {
     "name": "stdout",
     "output_type": "stream",
     "text": [
      "Error :0.0018352439645409183\n",
      "Error :0.008455520108877488\n",
      "Error :0.0063238067297449975\n",
      "Error :0.0052501406975976935\n",
      "Error :0.0041551919645576325\n",
      "Error :0.003516169828131813\n",
      "Error :0.0029973706588111316\n",
      "Error :0.0025914620173924123\n",
      "Error :0.002355628241609897\n",
      "Error :0.002106650443948289\n"
     ]
    },
    {
     "name": "stderr",
     "output_type": "stream",
     "text": [
      "Ranks Progress:  89%|████████▉ | 115/129 [13:47<01:52,  8.02s/rank]"
     ]
    },
    {
     "name": "stdout",
     "output_type": "stream",
     "text": [
      "Error :0.0018707158640603884\n",
      "Error :0.00810969198306066\n",
      "Error :0.006792680021864314\n",
      "Error :0.005211430693686768\n",
      "Error :0.004311020228490493\n",
      "Error :0.003472218316987419\n",
      "Error :0.003044333487566387\n",
      "Error :0.002628182394176089\n",
      "Error :0.0023349740047236994\n",
      "Error :0.0020639786189125832\n"
     ]
    },
    {
     "name": "stderr",
     "output_type": "stream",
     "text": [
      "Ranks Progress:  90%|████████▉ | 116/129 [13:56<01:46,  8.17s/rank]"
     ]
    },
    {
     "name": "stdout",
     "output_type": "stream",
     "text": [
      "Error :0.0018156960703126918\n",
      "Error :0.008267830765478172\n",
      "Error :0.006316336387227763\n",
      "Error :0.005030956128669032\n",
      "Error :0.004179518435784577\n",
      "Error :0.0035524167980209983\n",
      "Error :0.0030087480518072186\n",
      "Error :0.0025870393203188116\n",
      "Error :0.0023053761646847112\n",
      "Error :0.002041123036097936\n"
     ]
    },
    {
     "name": "stderr",
     "output_type": "stream",
     "text": [
      "Ranks Progress:  91%|█████████ | 117/129 [14:04<01:38,  8.24s/rank]"
     ]
    },
    {
     "name": "stdout",
     "output_type": "stream",
     "text": [
      "Error :0.0018559940645545006\n",
      "Error :0.008265058272448103\n",
      "Error :0.006450679717382185\n",
      "Error :0.005261970082363107\n",
      "Error :0.004169144330178623\n",
      "Error :0.0035060981694657414\n",
      "Error :0.003152997709787488\n",
      "Error :0.002713358435162125\n",
      "Error :0.0022901009061411844\n",
      "Error :0.002073732560213421\n"
     ]
    },
    {
     "name": "stderr",
     "output_type": "stream",
     "text": [
      "Ranks Progress:  91%|█████████▏| 118/129 [14:12<01:29,  8.17s/rank]"
     ]
    },
    {
     "name": "stdout",
     "output_type": "stream",
     "text": [
      "Error :0.0018755231833056654\n",
      "Error :0.008200303260357804\n",
      "Error :0.006248807375343247\n",
      "Error :0.005421954628216777\n",
      "Error :0.004162545670398773\n",
      "Error :0.003599943594363223\n",
      "Error :0.003076777810474861\n",
      "Error :0.0026381782799016337\n",
      "Error :0.002342453380514393\n",
      "Error :0.0020550556143136512\n"
     ]
    },
    {
     "name": "stderr",
     "output_type": "stream",
     "text": [
      "Ranks Progress:  92%|█████████▏| 119/129 [14:19<01:17,  7.73s/rank]"
     ]
    },
    {
     "name": "stdout",
     "output_type": "stream",
     "text": [
      "Error :0.0018195907182982688\n",
      "Error :0.009417226839776647\n",
      "Error :0.006512297226529435\n",
      "Error :0.00488670828294657\n",
      "Error :0.004175127544487781\n",
      "Error :0.003512728288086982\n",
      "Error :0.0030685434749518656\n",
      "Error :0.002648966636343676\n",
      "Error :0.0023570948711573716\n",
      "Error :0.0020499245367238557\n"
     ]
    },
    {
     "name": "stderr",
     "output_type": "stream",
     "text": [
      "Ranks Progress:  93%|█████████▎| 120/129 [14:24<01:02,  6.94s/rank]"
     ]
    },
    {
     "name": "stdout",
     "output_type": "stream",
     "text": [
      "Error :0.0018398157612189098\n",
      "Error :0.008167312396534713\n",
      "Error :0.0069806042737374195\n",
      "Error :0.005435585846833377\n",
      "Error :0.004274032813157614\n",
      "Error :0.0034944699108516728\n",
      "Error :0.003142390257778555\n",
      "Error :0.002662720820742288\n",
      "Error :0.0022693739443457586\n",
      "Error :0.002032674330996827\n"
     ]
    },
    {
     "name": "stderr",
     "output_type": "stream",
     "text": [
      "Ranks Progress:  94%|█████████▍| 121/129 [14:31<00:56,  7.01s/rank]"
     ]
    },
    {
     "name": "stdout",
     "output_type": "stream",
     "text": [
      "Error :0.0018437589591876317\n",
      "Error :0.008618819588474075\n",
      "Error :0.0062858167785546\n",
      "Error :0.005013267713417346\n",
      "Error :0.004164535368750782\n",
      "Error :0.0036096608100409508\n",
      "Error :0.0030267635619370616\n",
      "Error :0.0026819567182094304\n",
      "Error :0.0023813060940096734\n",
      "Error :0.002039274319246629\n"
     ]
    },
    {
     "name": "stderr",
     "output_type": "stream",
     "text": [
      "Ranks Progress:  95%|█████████▍| 122/129 [14:39<00:51,  7.33s/rank]"
     ]
    },
    {
     "name": "stdout",
     "output_type": "stream",
     "text": [
      "Error :0.0018270327460534594\n",
      "Error :0.008519936097432736\n",
      "Error :0.006410940805794184\n",
      "Error :0.00512616582913429\n",
      "Error :0.004020209140711141\n",
      "Error :0.0034572074918106446\n",
      "Error :0.002919738880886869\n",
      "Error :0.00261824750481962\n",
      "Error :0.0023176623504231344\n",
      "Error :0.0020971656254560036\n"
     ]
    },
    {
     "name": "stderr",
     "output_type": "stream",
     "text": [
      "Ranks Progress:  95%|█████████▌| 123/129 [14:47<00:44,  7.46s/rank]"
     ]
    },
    {
     "name": "stdout",
     "output_type": "stream",
     "text": [
      "Error :0.001863366183472411\n",
      "Error :0.0085867213586787\n",
      "Error :0.006653641846857329\n",
      "Error :0.005087202880026874\n",
      "Error :0.004252180734427382\n",
      "Error :0.003581610752973292\n",
      "Error :0.003012521925620878\n",
      "Error :0.0026438635818937296\n",
      "Error :0.0023728943852202233\n",
      "Error :0.0020388992563330458\n"
     ]
    },
    {
     "name": "stderr",
     "output_type": "stream",
     "text": [
      "Ranks Progress:  96%|█████████▌| 124/129 [14:54<00:37,  7.50s/rank]"
     ]
    },
    {
     "name": "stdout",
     "output_type": "stream",
     "text": [
      "Error :0.0018571975509479777\n",
      "Error :0.00835542096185829\n",
      "Error :0.006327001677884031\n",
      "Error :0.005044856531018744\n",
      "Error :0.004238902382316882\n",
      "Error :0.0035575831596767783\n",
      "Error :0.002942679562802154\n",
      "Error :0.0026719854982133447\n",
      "Error :0.0023244684566180594\n",
      "Error :0.002078480303885779\n"
     ]
    },
    {
     "name": "stderr",
     "output_type": "stream",
     "text": [
      "Ranks Progress:  97%|█████████▋| 125/129 [15:02<00:30,  7.64s/rank]"
     ]
    },
    {
     "name": "stdout",
     "output_type": "stream",
     "text": [
      "Error :0.0018380102158263667\n",
      "Error :0.009320653115399969\n",
      "Error :0.006249491552243144\n",
      "Error :0.005048212883591579\n",
      "Error :0.004197671222155598\n",
      "Error :0.0034825132512930172\n",
      "Error :0.0030204079469894037\n",
      "Error :0.0026162676038771412\n",
      "Error :0.0023580416379853056\n",
      "Error :0.002052134668223589\n"
     ]
    },
    {
     "name": "stderr",
     "output_type": "stream",
     "text": [
      "Ranks Progress:  98%|█████████▊| 126/129 [15:10<00:22,  7.62s/rank]"
     ]
    },
    {
     "name": "stdout",
     "output_type": "stream",
     "text": [
      "Error :0.0018287592527338676\n",
      "Error :0.008049123977832914\n",
      "Error :0.0062298984096288345\n",
      "Error :0.005083183668270329\n",
      "Error :0.004198023522736994\n",
      "Error :0.0035023565260740427\n",
      "Error :0.0029803929317727927\n",
      "Error :0.0026379380316573376\n",
      "Error :0.002274402195175668\n",
      "Error :0.0020707402485262505\n"
     ]
    },
    {
     "name": "stderr",
     "output_type": "stream",
     "text": [
      "Ranks Progress:  98%|█████████▊| 127/129 [15:18<00:15,  7.75s/rank]"
     ]
    },
    {
     "name": "stdout",
     "output_type": "stream",
     "text": [
      "Error :0.0018252581253754888\n",
      "Error :0.008331525589087717\n",
      "Error :0.006259386420483095\n",
      "Error :0.0050328503170736895\n",
      "Error :0.004097943700555511\n",
      "Error :0.003435259080462134\n",
      "Error :0.003025474348484583\n",
      "Error :0.0026285088671801956\n",
      "Error :0.002332714510890578\n",
      "Error :0.0020295919899737565\n"
     ]
    },
    {
     "name": "stderr",
     "output_type": "stream",
     "text": [
      "Ranks Progress:  99%|█████████▉| 128/129 [15:26<00:07,  7.85s/rank]"
     ]
    },
    {
     "name": "stdout",
     "output_type": "stream",
     "text": [
      "Error :0.001845051400915059\n",
      "Error :0.008244216390096305\n",
      "Error :0.006420311155967824\n",
      "Error :0.004892112700808957\n",
      "Error :0.004087809850070436\n",
      "Error :0.0035336523993349076\n",
      "Error :0.0030963242296645813\n",
      "Error :0.0026162858639398826\n",
      "Error :0.0023098977873795275\n",
      "Error :0.0021119563239128565\n"
     ]
    },
    {
     "name": "stderr",
     "output_type": "stream",
     "text": [
      "Ranks Progress: 100%|██████████| 129/129 [15:32<00:00,  7.23s/rank]"
     ]
    },
    {
     "name": "stdout",
     "output_type": "stream",
     "text": [
      "Error :0.0018481087711094885\n"
     ]
    },
    {
     "name": "stderr",
     "output_type": "stream",
     "text": [
      "\n"
     ]
    },
    {
     "name": "stdout",
     "output_type": "stream",
     "text": [
      "Results successfully saved to ../Dataset/Section_2_test_2_for_loadMatrixA_3.csv.\n"
     ]
    }
   ],
   "source": [
    "collect_low_rank_errors(A=loadMatrix_A_3, output_file='../Dataset/Section_2_test_2_for_loadMatrixA_3.csv')"
   ]
  }
 ],
 "metadata": {
  "kernelspec": {
   "display_name": "myenv",
   "language": "python",
   "name": "python3"
  },
  "language_info": {
   "codemirror_mode": {
    "name": "ipython",
    "version": 3
   },
   "file_extension": ".py",
   "mimetype": "text/x-python",
   "name": "python",
   "nbconvert_exporter": "python",
   "pygments_lexer": "ipython3",
   "version": "3.10.14"
  }
 },
 "nbformat": 4,
 "nbformat_minor": 2
}
