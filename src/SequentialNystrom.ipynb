{
 "cells": [
  {
   "cell_type": "code",
   "execution_count": null,
   "metadata": {},
   "outputs": [],
   "source": [
    "from dataset1 import *\n",
    "import numpy as np\n",
    "from scipy.linalg import solve_triangular\n",
    "from numpy.linalg import eigh\n",
    "import torch\n",
    "from hadamard_transform import hadamard_transform\n",
    "import time\n",
    "#test"
   ]
  },
  {
   "cell_type": "markdown",
   "metadata": {},
   "source": [
    "## Define functions"
   ]
  },
  {
   "cell_type": "code",
   "execution_count": 22,
   "metadata": {},
   "outputs": [],
   "source": [
    "def getError(A,B):\n",
    "    return np.linalg.norm(A-B,ord='nuc')/np.linalg.norm(A,ord='nuc')\n",
    "\n",
    "def fjlt(A, D, indices, direction):\n",
    "    \"\"\"\n",
    "    Applies the Fast Johnson-Lindenstrauss Transform (FJLT) to a square matrix.\n",
    "\n",
    "    Parameters:\n",
    "    - A: Input square matrix (NumPy array of size n x m).\n",
    "    - D: Diagonal vector of +1 and -1 (NumPy array of size n).\n",
    "    - indices: Indices of the selected rows or columns for subsampling (NumPy array of size l).\n",
    "    - direction: 'left' to apply FJLT from the left (on rows) or 'right' for the transpose case (on columns).\n",
    "\n",
    "    Returns:\n",
    "    - A_proj: Transformed matrix after applying FJLT and subsampling.\n",
    "    \"\"\"\n",
    "    n, m = A.shape\n",
    "    l = indices.shape[0]  # Sketch size\n",
    "    if direction == 'left':  # FJLT applied to the rows of A\n",
    "        assert len(D) == n, \"The length of D must match the number of rows in A.\"\n",
    "        assert (n & (n - 1) == 0), \"The number of rows in A must be a power of 2.\"\n",
    "        # Multiply each row of A by the corresponding element in D\n",
    "        A_tilde = A * D[:, np.newaxis]\n",
    "        # Apply the Fast Hadamard Transform to the rows\n",
    "        A_fht = hadamard_transform(torch.tensor(A_tilde.T)).numpy().T\n",
    "        # Subsample the rows and scale\n",
    "        A_proj = A_fht[indices, :] * np.sqrt(n / l)\n",
    "\n",
    "    elif direction == 'right':  # FJLT applied to the columns of A\n",
    "        # Multiply each column of A by the corresponding element in D\n",
    "        A_tilde = A * D[np.newaxis, :]\n",
    "        # Apply the Fast Hadamard Transform to the columns\n",
    "        A_fht = hadamard_transform(torch.tensor(A_tilde)).numpy()\n",
    "        # Subsample the columns and scale\n",
    "        A_proj = A_fht[:, indices] * np.sqrt(n / l)\n",
    "    \n",
    "    return A_proj\n",
    "\n",
    "def getLowRank(A, rank ,sketch_dim,sketch_method='gaussian',good_conditionned=True): \n",
    "    \"\"\"\n",
    "    Compute a low-rank approximation of the matrix A using \n",
    "    Eigenvalue decomposition and truncation.\n",
    "\n",
    "    Parameters:\n",
    "        A (numpy.ndarray): Original matrix.\n",
    "        Omega (numpy.ndarray): Random sketching matrix.\n",
    "        rank (int): Desired rank for the approximation.\n",
    "\n",
    "    Returns:\n",
    "        A_nyst_k (numpy.ndarray): Low-rank approximation of A.\n",
    "    \"\"\"\n",
    "    m = A.shape[0]\n",
    "    B = None\n",
    "    C = None\n",
    "\n",
    "    if sketch_method == 'fjlt': #If not gaussian sketching use Fast Johnson-Lindenstrauss transform to sketch\n",
    "        D = np.random.choice([1, -1], size=m)\n",
    "        indices = np.random.choice(m, size=sketch_dim, replace=False) # Subsample\n",
    "        C = fjlt(A,D,indices,direction='right')\n",
    "        B = fjlt(C,D,indices,direction='left')\n",
    "        \n",
    "    elif sketch_method == 'gaussian': # Use gaussian matrix to sketch\n",
    "        \n",
    "        Omega = np.random.normal(size=(m,sketch_dim)) #Sketch matrix\n",
    "        # Compute sketch matrix C\n",
    "        C = A @ Omega  # Project A onto the subspace defined by Omega\n",
    "        # Compute the smaller B matrix\n",
    "        B = Omega.T @ C  # Compression of A into a smaller matrix via Omega\n",
    "    else:\n",
    "        return None\n",
    "    \n",
    "    if good_conditionned:\n",
    "        # Perform Cholesky decomposition of B\n",
    "        L = np.linalg.cholesky(B)  # L is a lower triangular matrix\n",
    "        # Solve for Z using the triangular solver\n",
    "        Z = solve_triangular(L, C.T, lower=True).T  # Z = C @ L^-T --> ZL^T  = C -- > LZ^T = C^T\n",
    "\n",
    "    else: #if not good conditionned\n",
    "        # Eigenvalue decomposition of B\n",
    "        eig_v, V = eigh(B)  # eig_v: Eigenvalues, V: Eigenvectors\n",
    "\n",
    "        # Truncate eigenvalues and eigenvectors to keep only positive eigenvalues\n",
    "        truncate = eig_v > 0\n",
    "        eig_v = eig_v[truncate]\n",
    "        V = V[:, truncate]\n",
    "        # Normalize using the eigenvalues to construct Z\n",
    "        Z = C @ V @ np.diag(1 / np.sqrt(eig_v))  # Normalize columns of C\n",
    "\n",
    "    # Perform QR decomposition of Z\n",
    "    Q, R = np.linalg.qr(Z)  # Q: Orthogonal basis, R: Upper triangular matrix\n",
    "\n",
    "    # Singular Value Decomposition (SVD) of R\n",
    "    U, Sigma, Vh = np.linalg.svd(R)\n",
    "\n",
    "    # Construct the low-rank approximation\n",
    "    U_hat = Q @ U[:, :rank]  # Truncate U to the desired rank\n",
    "    A_nyst_k = U_hat @ np.diag(Sigma[:rank]**2) @ U_hat.T  # Final approximation\n",
    "\n",
    "    return A_nyst_k\n"
   ]
  },
  {
   "cell_type": "code",
   "execution_count": 12,
   "metadata": {},
   "outputs": [],
   "source": [
    "\n",
    "def getLowRank_timed(A, rank, sketch_dim, sketch_method='gaussian', good_conditionned=True):\n",
    "    \"\"\"\n",
    "    Compute a low-rank approximation of the matrix A using sketching, \n",
    "    eigenvalue decomposition, and truncation. Prints the time taken for each major operation.\n",
    "\n",
    "    Parameters:\n",
    "        A (numpy.ndarray): Original matrix (size m x n).\n",
    "        rank (int): Desired rank for the approximation.\n",
    "        sketch_dim (int): Dimension of the sketching subspace.\n",
    "        sketch_method (str): Method used for sketching. Options are:\n",
    "                             - 'gaussian': Uses a Gaussian random matrix for sketching.\n",
    "                             - 'fjlt': Uses the Fast Johnson-Lindenstrauss Transform.\n",
    "        good_conditionned (bool): If True, uses Cholesky decomposition for better conditioning. \n",
    "                                  Otherwise, uses eigenvalue decomposition.\n",
    "\n",
    "    Returns:\n",
    "        A_nyst_k (numpy.ndarray): Low-rank approximation of A (size m x m).\n",
    "    \"\"\"\n",
    "    m = A.shape[0]\n",
    "    B = None\n",
    "    C = None\n",
    "\n",
    "    start_time = time.time()\n",
    "\n",
    "    # Apply sketching based on the selected method\n",
    "    if sketch_method == 'fjlt':  # Use Fast Johnson-Lindenstrauss Transform for sketching\n",
    "        D = np.random.choice([1, -1], size=m)\n",
    "        indices = np.random.choice(m, size=sketch_dim, replace=False)\n",
    "        sketch_start = time.time()\n",
    "        C = fjlt(A, D, indices, direction='right')\n",
    "        B = fjlt(C, D, indices, direction='left')\n",
    "        print(f\"FJLT sketching completed in {time.time() - sketch_start:.6f} seconds.\")\n",
    "\n",
    "    elif sketch_method == 'gaussian':  # Use Gaussian random matrix for sketching\n",
    "        Omega = np.random.normal(size=(m, sketch_dim))\n",
    "        sketch_start = time.time()\n",
    "        C = A @ Omega\n",
    "        B = Omega.T @ C\n",
    "        print(f\"Gaussian sketching completed in {time.time() - sketch_start:.6f} seconds.\")\n",
    "    else:\n",
    "        return None\n",
    "\n",
    "    decomposition_start = time.time()\n",
    "\n",
    "    if good_conditionned:\n",
    "        # Use Cholesky decomposition\n",
    "        cholesky_start = time.time()\n",
    "        L = np.linalg.cholesky(B)\n",
    "        print(f\"Cholesky decomposition completed in {time.time() - cholesky_start:.6f} seconds.\")\n",
    "        triangular_start = time.time()\n",
    "        Z = solve_triangular(L, C.T, lower=True).T\n",
    "        print(f\"Triangular solve completed in {time.time() - triangular_start:.6f} seconds.\")\n",
    "    else:\n",
    "        # Use eigenvalue decomposition\n",
    "        eigh_start = time.time()\n",
    "        eig_v, V = eigh(B)\n",
    "        print(f\"Eigenvalue decomposition completed in {time.time() - eigh_start:.6f} seconds.\")\n",
    "        truncate_start = time.time()\n",
    "        truncate = eig_v > 0\n",
    "        eig_v = eig_v[truncate]\n",
    "        V = V[:, truncate]\n",
    "        Z = C @ V @ np.diag(1 / np.sqrt(eig_v))\n",
    "        print(f\"Eigenvalue truncation and normalization completed in {time.time() - truncate_start:.6f} seconds.\")\n",
    "\n",
    "    qr_start = time.time()\n",
    "    Q, R = np.linalg.qr(Z)\n",
    "    print(f\"QR decomposition completed in {time.time() - qr_start:.6f} seconds.\")\n",
    "\n",
    "    svd_start = time.time()\n",
    "    U, Sigma, Vh = np.linalg.svd(R)\n",
    "    print(f\"SVD completed in {time.time() - svd_start:.6f} seconds.\")\n",
    "\n",
    "    approx_start = time.time()\n",
    "    U_hat = Q @ U[:, :rank]\n",
    "    A_nyst_k = U_hat @ np.diag(Sigma[:rank]**2) @ U_hat.T\n",
    "    print(f\"Low-rank approximation construction completed in {time.time() - approx_start:.6f} seconds.\")\n",
    "\n",
    "    print(f\"Total computation time: {time.time() - start_time:.6f} seconds.\")\n",
    "    return A_nyst_k\n"
   ]
  },
  {
   "cell_type": "markdown",
   "metadata": {},
   "source": [
    "## Tests"
   ]
  },
  {
   "cell_type": "code",
   "execution_count": 23,
   "metadata": {},
   "outputs": [],
   "source": [
    "n = 2048\n",
    "A = getExpMatrix(n)"
   ]
  },
  {
   "cell_type": "code",
   "execution_count": 24,
   "metadata": {},
   "outputs": [
    {
     "name": "stdout",
     "output_type": "stream",
     "text": [
      "FJLT sketching completed in 0.226285 seconds.\n",
      "Eigenvalue decomposition completed in 0.000000 seconds.\n",
      "Eigenvalue truncation and normalization completed in 0.015175 seconds.\n",
      "QR decomposition completed in 0.015755 seconds.\n",
      "SVD completed in 0.002514 seconds.\n",
      "Low-rank approximation construction completed in 0.017000 seconds.\n",
      "Total computation time: 0.276729 seconds.\n",
      "3.6005405597808037e-07\n"
     ]
    }
   ],
   "source": [
    "A_lowrank = getLowRank_timed(A,rank=32,sketch_dim=128,sketch_method='fjlt',good_conditionned=False)\n",
    "print(getError(A,A_lowrank))"
   ]
  },
  {
   "cell_type": "code",
   "execution_count": 25,
   "metadata": {},
   "outputs": [
    {
     "name": "stdout",
     "output_type": "stream",
     "text": [
      "Gaussian sketching completed in 0.032449 seconds.\n",
      "Eigenvalue decomposition completed in 0.000000 seconds.\n",
      "Eigenvalue truncation and normalization completed in 0.015323 seconds.\n",
      "QR decomposition completed in 0.009999 seconds.\n",
      "SVD completed in 0.001001 seconds.\n",
      "Low-rank approximation construction completed in 0.018281 seconds.\n",
      "Total computation time: 0.084976 seconds.\n",
      "3.6005374612291685e-07\n"
     ]
    }
   ],
   "source": [
    "A_lowrank = getLowRank_timed(A,rank=32,sketch_dim=128,sketch_method='gaussian',good_conditionned=False)\n",
    "print(getError(A,A_lowrank))"
   ]
  },
  {
   "cell_type": "code",
   "execution_count": 20,
   "metadata": {},
   "outputs": [
    {
     "name": "stdout",
     "output_type": "stream",
     "text": [
      "[[1. 0. 0. 0. 0. 0. 0. 0. 0. 0.]\n",
      " [0. 1. 0. 0. 0. 0. 0. 0. 0. 0.]\n",
      " [0. 0. 1. 0. 0. 0. 0. 0. 0. 0.]\n",
      " [0. 0. 0. 1. 0. 0. 0. 0. 0. 0.]\n",
      " [0. 0. 0. 0. 1. 0. 0. 0. 0. 0.]\n",
      " [0. 0. 0. 0. 0. 1. 0. 0. 0. 0.]\n",
      " [0. 0. 0. 0. 0. 0. 1. 0. 0. 0.]\n",
      " [0. 0. 0. 0. 0. 0. 0. 1. 0. 0.]\n",
      " [0. 0. 0. 0. 0. 0. 0. 0. 1. 0.]\n",
      " [0. 0. 0. 0. 0. 0. 0. 0. 0. 1.]]\n"
     ]
    }
   ],
   "source": [
    "print(getExpMatrix(8))"
   ]
  }
 ],
 "metadata": {
  "kernelspec": {
   "display_name": "HPC",
   "language": "python",
   "name": "python3"
  },
  "language_info": {
   "codemirror_mode": {
    "name": "ipython",
    "version": 3
   },
   "file_extension": ".py",
   "mimetype": "text/x-python",
   "name": "python",
   "nbconvert_exporter": "python",
   "pygments_lexer": "ipython3",
   "version": "3.12.7"
  }
 },
 "nbformat": 4,
 "nbformat_minor": 2
}
