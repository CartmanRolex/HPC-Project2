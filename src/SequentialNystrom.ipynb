{
 "cells": [
  {
   "cell_type": "code",
   "execution_count": 16,
   "metadata": {},
   "outputs": [],
   "source": [
    "from dataset1 import *\n",
    "import numpy as np\n",
    "from scipy.linalg import solve_triangular\n",
    "from numpy.linalg import eigh\n",
    "import torch\n",
    "from hadamard_transform import hadamard_transform\n",
    "import time\n",
    "import pandas as pd\n",
    "import seaborn as sns\n",
    "#test"
   ]
  },
  {
   "cell_type": "markdown",
   "metadata": {},
   "source": [
    "## Define functions"
   ]
  },
  {
   "cell_type": "code",
   "execution_count": 17,
   "metadata": {},
   "outputs": [],
   "source": [
    "\n",
    "def getError(A,B):\n",
    "    return np.linalg.norm(A-B,ord='nuc')/np.linalg.norm(A,ord='nuc')\n",
    "\n",
    "def fjlt(A, D, indices, direction):\n",
    "    \"\"\"\n",
    "    Applies the Fast Johnson-Lindenstrauss Transform (FJLT) to a square matrix.\n",
    "\n",
    "    Parameters:\n",
    "    - A: Input square matrix (NumPy array of size n x m).\n",
    "    - D: Diagonal vector of +1 and -1 (NumPy array of size n).\n",
    "    - indices: Indices of the selected rows or columns for subsampling (NumPy array of size l).\n",
    "    - direction: 'left' to apply FJLT from the left (on rows) or 'right' for the transpose case (on columns).\n",
    "\n",
    "    Returns:\n",
    "    - A_proj: Transformed matrix after applying FJLT and subsampling.\n",
    "    \"\"\"\n",
    "    n, m = A.shape\n",
    "    l = indices.shape[0]  # Sketch size\n",
    "    if direction == 'left':  # FJLT applied to the rows of A\n",
    "        assert len(D) == n, \"The length of D must match the number of rows in A.\"\n",
    "        assert (n & (n - 1) == 0), \"The number of rows in A must be a power of 2.\"\n",
    "        # Multiply each row of A by the corresponding element in D\n",
    "        OmegaA = A * D[:, np.newaxis]\n",
    "        # Apply the Fast Hadamard Transform to the rows\n",
    "        OmegaA = hadamard_transform(torch.tensor(OmegaA.T)).numpy().T\n",
    "        # Subsample the rows and scale\n",
    "        OmegaA = OmegaA[indices, :] * np.sqrt(n / l)\n",
    "        return np.ascontiguousarray(OmegaA)\n",
    "    elif direction == 'right':  # FJLT applied to the columns of A\n",
    "        # Multiply each column of A by the corresponding element in D\n",
    "        AOmega = A * D[np.newaxis, :]\n",
    "        # Apply the Fast Hadamard Transform to the columns\n",
    "        AOmega = hadamard_transform(torch.tensor(AOmega)).numpy()\n",
    "        # Subsample the columns and scale\n",
    "        AOmega = AOmega[:, indices] * np.sqrt(n / l)\n",
    "        return np.ascontiguousarray(AOmega)\n",
    "\n",
    "def getLowRank(A, rank, sketch_dim, sketch_method='gaussian', good_conditionned=True, print_times=False):\n",
    "    \"\"\"\n",
    "    Compute a low-rank approximation of the matrix A using sketching, \n",
    "    eigenvalue decomposition, and truncation. Optionally prints the time taken for each major operation.\n",
    "\n",
    "    Parameters:\n",
    "        A (numpy.ndarray): Original matrix (size m x n).\n",
    "        rank (int): Desired rank for the approximation.\n",
    "        sketch_dim (int): Dimension of the sketching subspace.\n",
    "        sketch_method (str): Method used for sketching. Options are:\n",
    "                             - 'gaussian': Uses a Gaussian random matrix for sketching.\n",
    "                             - 'fjlt': Uses the Fast Johnson-Lindenstrauss Transform.\n",
    "        good_conditionned (bool): If True, uses Cholesky decomposition for better conditioning. \n",
    "                                  Otherwise, uses eigenvalue decomposition.\n",
    "        print_times (bool): If True, prints the time taken for each major operation.\n",
    "\n",
    "    Returns:\n",
    "        A_nyst_k (numpy.ndarray): Low-rank approximation of A (size m x m).\n",
    "    \"\"\"\n",
    "    m = A.shape[0]\n",
    "    B = None\n",
    "    C = None\n",
    "\n",
    "    start_time = time.time()\n",
    "\n",
    "    # Apply sketching based on the selected method\n",
    "    if sketch_method == 'fjlt':  # Use Fast Johnson-Lindenstrauss Transform for sketching\n",
    "        D = np.random.choice([1, -1], size=m)\n",
    "        indices = np.random.choice(m, size=sketch_dim, replace=False)\n",
    "        sketch_start = time.time()\n",
    "        C = fjlt(A, D, indices, direction='right')\n",
    "        B = fjlt(C, D, indices, direction='left')\n",
    "        if print_times:\n",
    "            print(f\"FJLT sketching completed in {time.time() - sketch_start:.6f} seconds.\")\n",
    "\n",
    "    elif sketch_method == 'gaussian':  # Use Gaussian random matrix for sketching\n",
    "        Omega = np.random.normal(size=(m, sketch_dim))\n",
    "        sketch_start = time.time()\n",
    "        C = A @ Omega\n",
    "        B = Omega.T @ C\n",
    "        if print_times:\n",
    "            print(f\"Gaussian sketching completed in {time.time() - sketch_start:.6f} seconds.\")\n",
    "    else:\n",
    "        raise ValueError(\"Méthode de sketching non reconnue. Choisissez 'gaussian' ou 'fjlt'.\")\n",
    "\n",
    "    if good_conditionned:\n",
    "        # Use Cholesky decomposition\n",
    "        cholesky_start = time.time()\n",
    "        L = np.linalg.cholesky(B)\n",
    "        if print_times:\n",
    "            print(f\"Cholesky decomposition completed in {time.time() - cholesky_start:.6f} seconds.\")\n",
    "        \n",
    "        triangular_start = time.time()\n",
    "        Z = solve_triangular(L, C.T, lower=True).T\n",
    "        if print_times:\n",
    "            print(f\"Triangular solve completed in {time.time() - triangular_start:.6f} seconds.\")\n",
    "    else:\n",
    "        # Use eigenvalue decomposition\n",
    "        eigh_start = time.time()\n",
    "        eig_v, V = eigh(B)\n",
    "        if print_times:\n",
    "            print(f\"Eigenvalue decomposition completed in {time.time() - eigh_start:.6f} seconds.\")\n",
    "        \n",
    "        truncate_start = time.time()\n",
    "        truncate = eig_v > 0\n",
    "        eig_v = eig_v[truncate]\n",
    "        V = V[:, truncate]\n",
    "        Z = C @ (V * (1 / np.sqrt(eig_v)))\n",
    "        if print_times:\n",
    "            print(f\"Eigenvalue truncation and normalization completed in {time.time() - truncate_start:.6f} seconds.\")\n",
    "\n",
    "    qr_start = time.time()\n",
    "    Q, R = np.linalg.qr(Z)\n",
    "    if print_times:\n",
    "        print(f\"QR decomposition completed in {time.time() - qr_start:.6f} seconds.\")\n",
    "\n",
    "    svd_start = time.time()\n",
    "    U, Sigma, _ = np.linalg.svd(R)\n",
    "    if print_times:\n",
    "        print(f\"SVD completed in {time.time() - svd_start:.6f} seconds.\")\n",
    "\n",
    "    approx_start = time.time()\n",
    "    U_hat = Q @ U[:, :rank]\n",
    "    A_nyst_k = (U_hat * Sigma[:rank]**2) @ U_hat.T\n",
    "    if print_times:\n",
    "        print(f\"Low-rank approximation construction completed in {time.time() - approx_start:.6f} seconds.\")\n",
    "\n",
    "    total_time = time.time() - start_time\n",
    "    if print_times:\n",
    "        print(f\"Total computation time: {total_time:.6f} seconds.\")\n",
    "    error = getError(A,A_nyst_k)\n",
    "    print(f\"Error :{error}\".format(error))\n",
    "\n",
    "    return A_nyst_k, error, "
   ]
  },
  {
   "cell_type": "markdown",
   "metadata": {},
   "source": [
    "## Tests"
   ]
  },
  {
   "cell_type": "code",
   "execution_count": 20,
   "metadata": {},
   "outputs": [],
   "source": [
    "n = 2048\n",
    "A = getExpMatrix(n,R=10)"
   ]
  },
  {
   "cell_type": "code",
   "execution_count": 21,
   "metadata": {},
   "outputs": [
    {
     "name": "stdout",
     "output_type": "stream",
     "text": [
      "Gaussian sketching completed in 0.022853 seconds.\n",
      "Eigenvalue decomposition completed in 0.009401 seconds.\n",
      "Eigenvalue truncation and normalization completed in 0.002759 seconds.\n",
      "QR decomposition completed in 0.027138 seconds.\n",
      "SVD completed in 0.005126 seconds.\n",
      "Low-rank approximation construction completed in 0.032776 seconds.\n",
      "Total computation time: 0.115525 seconds.\n",
      "Error :8.329604176432034e-15\n"
     ]
    },
    {
     "data": {
      "text/plain": [
       "(array([[ 1.00000000e+00, -1.16920362e-15,  2.49800181e-16, ...,\n",
       "          0.00000000e+00,  0.00000000e+00,  0.00000000e+00],\n",
       "        [-1.11716192e-15,  1.00000000e+00, -2.77555756e-17, ...,\n",
       "          0.00000000e+00,  0.00000000e+00,  0.00000000e+00],\n",
       "        [ 2.49800181e-16, -5.55111512e-17,  1.00000000e+00, ...,\n",
       "          0.00000000e+00,  0.00000000e+00,  0.00000000e+00],\n",
       "        ...,\n",
       "        [ 0.00000000e+00,  0.00000000e+00,  0.00000000e+00, ...,\n",
       "          0.00000000e+00,  0.00000000e+00,  0.00000000e+00],\n",
       "        [ 0.00000000e+00,  0.00000000e+00,  0.00000000e+00, ...,\n",
       "          0.00000000e+00,  0.00000000e+00,  0.00000000e+00],\n",
       "        [ 0.00000000e+00,  0.00000000e+00,  0.00000000e+00, ...,\n",
       "          0.00000000e+00,  0.00000000e+00,  0.00000000e+00]]),\n",
       " 8.329604176432034e-15)"
      ]
     },
     "execution_count": 21,
     "metadata": {},
     "output_type": "execute_result"
    }
   ],
   "source": [
    "getLowRank(A,rank=128,sketch_dim=128,sketch_method='gaussian',good_conditionned=False,print_times=True)"
   ]
  },
  {
   "cell_type": "code",
   "execution_count": 27,
   "metadata": {},
   "outputs": [
    {
     "name": "stdout",
     "output_type": "stream",
     "text": [
      "FJLT sketching completed in 0.151482 seconds.\n",
      "Eigenvalue decomposition completed in 0.007486 seconds.\n",
      "Eigenvalue truncation and normalization completed in 0.001138 seconds.\n",
      "QR decomposition completed in 0.031378 seconds.\n",
      "SVD completed in 0.005304 seconds.\n",
      "Low-rank approximation construction completed in 0.012530 seconds.\n",
      "Total computation time: 0.210103 seconds.\n"
     ]
    },
    {
     "ename": "KeyboardInterrupt",
     "evalue": "",
     "output_type": "error",
     "traceback": [
      "\u001b[0;31m---------------------------------------------------------------------------\u001b[0m",
      "\u001b[0;31mKeyboardInterrupt\u001b[0m                         Traceback (most recent call last)",
      "Cell \u001b[0;32mIn[27], line 1\u001b[0m\n\u001b[0;32m----> 1\u001b[0m \u001b[43mgetLowRank\u001b[49m\u001b[43m(\u001b[49m\u001b[43mA\u001b[49m\u001b[43m,\u001b[49m\u001b[43mrank\u001b[49m\u001b[38;5;241;43m=\u001b[39;49m\u001b[38;5;241;43m128\u001b[39;49m\u001b[43m,\u001b[49m\u001b[43msketch_dim\u001b[49m\u001b[38;5;241;43m=\u001b[39;49m\u001b[38;5;241;43m128\u001b[39;49m\u001b[43m,\u001b[49m\u001b[43msketch_method\u001b[49m\u001b[38;5;241;43m=\u001b[39;49m\u001b[38;5;124;43m'\u001b[39;49m\u001b[38;5;124;43mfjlt\u001b[39;49m\u001b[38;5;124;43m'\u001b[39;49m\u001b[43m,\u001b[49m\u001b[43mgood_conditionned\u001b[49m\u001b[38;5;241;43m=\u001b[39;49m\u001b[38;5;28;43;01mFalse\u001b[39;49;00m\u001b[43m,\u001b[49m\u001b[43mprint_times\u001b[49m\u001b[38;5;241;43m=\u001b[39;49m\u001b[38;5;28;43;01mTrue\u001b[39;49;00m\u001b[43m)\u001b[49m\n",
      "Cell \u001b[0;32mIn[17], line 128\u001b[0m, in \u001b[0;36mgetLowRank\u001b[0;34m(A, rank, sketch_dim, sketch_method, good_conditionned, print_times)\u001b[0m\n\u001b[1;32m    126\u001b[0m \u001b[38;5;28;01mif\u001b[39;00m print_times:\n\u001b[1;32m    127\u001b[0m     \u001b[38;5;28mprint\u001b[39m(\u001b[38;5;124mf\u001b[39m\u001b[38;5;124m\"\u001b[39m\u001b[38;5;124mTotal computation time: \u001b[39m\u001b[38;5;132;01m{\u001b[39;00mtotal_time\u001b[38;5;132;01m:\u001b[39;00m\u001b[38;5;124m.6f\u001b[39m\u001b[38;5;132;01m}\u001b[39;00m\u001b[38;5;124m seconds.\u001b[39m\u001b[38;5;124m\"\u001b[39m)\n\u001b[0;32m--> 128\u001b[0m error \u001b[38;5;241m=\u001b[39m \u001b[43mgetError\u001b[49m\u001b[43m(\u001b[49m\u001b[43mA\u001b[49m\u001b[43m,\u001b[49m\u001b[43mA_nyst_k\u001b[49m\u001b[43m)\u001b[49m\n\u001b[1;32m    129\u001b[0m \u001b[38;5;28mprint\u001b[39m(\u001b[38;5;124mf\u001b[39m\u001b[38;5;124m\"\u001b[39m\u001b[38;5;124mError :\u001b[39m\u001b[38;5;132;01m{\u001b[39;00merror\u001b[38;5;132;01m}\u001b[39;00m\u001b[38;5;124m\"\u001b[39m\u001b[38;5;241m.\u001b[39mformat(error))\n\u001b[1;32m    131\u001b[0m \u001b[38;5;28;01mreturn\u001b[39;00m A_nyst_k, error,\n",
      "Cell \u001b[0;32mIn[17], line 2\u001b[0m, in \u001b[0;36mgetError\u001b[0;34m(A, B)\u001b[0m\n\u001b[1;32m      1\u001b[0m \u001b[38;5;28;01mdef\u001b[39;00m \u001b[38;5;21mgetError\u001b[39m(A,B):\n\u001b[0;32m----> 2\u001b[0m     \u001b[38;5;28;01mreturn\u001b[39;00m \u001b[43mnp\u001b[49m\u001b[38;5;241;43m.\u001b[39;49m\u001b[43mlinalg\u001b[49m\u001b[38;5;241;43m.\u001b[39;49m\u001b[43mnorm\u001b[49m\u001b[43m(\u001b[49m\u001b[43mA\u001b[49m\u001b[38;5;241;43m-\u001b[39;49m\u001b[43mB\u001b[49m\u001b[43m,\u001b[49m\u001b[38;5;28;43mord\u001b[39;49m\u001b[38;5;241;43m=\u001b[39;49m\u001b[38;5;124;43m'\u001b[39;49m\u001b[38;5;124;43mnuc\u001b[39;49m\u001b[38;5;124;43m'\u001b[39;49m\u001b[43m)\u001b[49m\u001b[38;5;241m/\u001b[39mnp\u001b[38;5;241m.\u001b[39mlinalg\u001b[38;5;241m.\u001b[39mnorm(A,\u001b[38;5;28mord\u001b[39m\u001b[38;5;241m=\u001b[39m\u001b[38;5;124m'\u001b[39m\u001b[38;5;124mnuc\u001b[39m\u001b[38;5;124m'\u001b[39m)\n",
      "File \u001b[0;32m~/anaconda3/envs/myenv/lib/python3.10/site-packages/numpy/linalg/linalg.py:2623\u001b[0m, in \u001b[0;36mnorm\u001b[0;34m(x, ord, axis, keepdims)\u001b[0m\n\u001b[1;32m   2621\u001b[0m     ret \u001b[38;5;241m=\u001b[39m sqrt(add\u001b[38;5;241m.\u001b[39mreduce((x\u001b[38;5;241m.\u001b[39mconj() \u001b[38;5;241m*\u001b[39m x)\u001b[38;5;241m.\u001b[39mreal, axis\u001b[38;5;241m=\u001b[39maxis))\n\u001b[1;32m   2622\u001b[0m \u001b[38;5;28;01melif\u001b[39;00m \u001b[38;5;28mord\u001b[39m \u001b[38;5;241m==\u001b[39m \u001b[38;5;124m'\u001b[39m\u001b[38;5;124mnuc\u001b[39m\u001b[38;5;124m'\u001b[39m:\n\u001b[0;32m-> 2623\u001b[0m     ret \u001b[38;5;241m=\u001b[39m \u001b[43m_multi_svd_norm\u001b[49m\u001b[43m(\u001b[49m\u001b[43mx\u001b[49m\u001b[43m,\u001b[49m\u001b[43m \u001b[49m\u001b[43mrow_axis\u001b[49m\u001b[43m,\u001b[49m\u001b[43m \u001b[49m\u001b[43mcol_axis\u001b[49m\u001b[43m,\u001b[49m\u001b[43m \u001b[49m\u001b[38;5;28;43msum\u001b[39;49m\u001b[43m)\u001b[49m\n\u001b[1;32m   2624\u001b[0m \u001b[38;5;28;01melse\u001b[39;00m:\n\u001b[1;32m   2625\u001b[0m     \u001b[38;5;28;01mraise\u001b[39;00m \u001b[38;5;167;01mValueError\u001b[39;00m(\u001b[38;5;124m\"\u001b[39m\u001b[38;5;124mInvalid norm order for matrices.\u001b[39m\u001b[38;5;124m\"\u001b[39m)\n",
      "File \u001b[0;32m~/anaconda3/envs/myenv/lib/python3.10/site-packages/numpy/linalg/linalg.py:2375\u001b[0m, in \u001b[0;36m_multi_svd_norm\u001b[0;34m(x, row_axis, col_axis, op)\u001b[0m\n\u001b[1;32m   2352\u001b[0m \u001b[38;5;250m\u001b[39m\u001b[38;5;124;03m\"\"\"Compute a function of the singular values of the 2-D matrices in `x`.\u001b[39;00m\n\u001b[1;32m   2353\u001b[0m \n\u001b[1;32m   2354\u001b[0m \u001b[38;5;124;03mThis is a private utility function used by `numpy.linalg.norm()`.\u001b[39;00m\n\u001b[0;32m   (...)\u001b[0m\n\u001b[1;32m   2372\u001b[0m \n\u001b[1;32m   2373\u001b[0m \u001b[38;5;124;03m\"\"\"\u001b[39;00m\n\u001b[1;32m   2374\u001b[0m y \u001b[38;5;241m=\u001b[39m moveaxis(x, (row_axis, col_axis), (\u001b[38;5;241m-\u001b[39m\u001b[38;5;241m2\u001b[39m, \u001b[38;5;241m-\u001b[39m\u001b[38;5;241m1\u001b[39m))\n\u001b[0;32m-> 2375\u001b[0m result \u001b[38;5;241m=\u001b[39m op(\u001b[43msvd\u001b[49m\u001b[43m(\u001b[49m\u001b[43my\u001b[49m\u001b[43m,\u001b[49m\u001b[43m \u001b[49m\u001b[43mcompute_uv\u001b[49m\u001b[38;5;241;43m=\u001b[39;49m\u001b[38;5;28;43;01mFalse\u001b[39;49;00m\u001b[43m)\u001b[49m, axis\u001b[38;5;241m=\u001b[39m\u001b[38;5;241m-\u001b[39m\u001b[38;5;241m1\u001b[39m)\n\u001b[1;32m   2376\u001b[0m \u001b[38;5;28;01mreturn\u001b[39;00m result\n",
      "File \u001b[0;32m~/anaconda3/envs/myenv/lib/python3.10/site-packages/numpy/linalg/linalg.py:1693\u001b[0m, in \u001b[0;36msvd\u001b[0;34m(a, full_matrices, compute_uv, hermitian)\u001b[0m\n\u001b[1;32m   1690\u001b[0m     gufunc \u001b[38;5;241m=\u001b[39m _umath_linalg\u001b[38;5;241m.\u001b[39msvd_n\n\u001b[1;32m   1692\u001b[0m signature \u001b[38;5;241m=\u001b[39m \u001b[38;5;124m'\u001b[39m\u001b[38;5;124mD->d\u001b[39m\u001b[38;5;124m'\u001b[39m \u001b[38;5;28;01mif\u001b[39;00m isComplexType(t) \u001b[38;5;28;01melse\u001b[39;00m \u001b[38;5;124m'\u001b[39m\u001b[38;5;124md->d\u001b[39m\u001b[38;5;124m'\u001b[39m\n\u001b[0;32m-> 1693\u001b[0m s \u001b[38;5;241m=\u001b[39m \u001b[43mgufunc\u001b[49m\u001b[43m(\u001b[49m\u001b[43ma\u001b[49m\u001b[43m,\u001b[49m\u001b[43m \u001b[49m\u001b[43msignature\u001b[49m\u001b[38;5;241;43m=\u001b[39;49m\u001b[43msignature\u001b[49m\u001b[43m,\u001b[49m\u001b[43m \u001b[49m\u001b[43mextobj\u001b[49m\u001b[38;5;241;43m=\u001b[39;49m\u001b[43mextobj\u001b[49m\u001b[43m)\u001b[49m\n\u001b[1;32m   1694\u001b[0m s \u001b[38;5;241m=\u001b[39m s\u001b[38;5;241m.\u001b[39mastype(_realType(result_t), copy\u001b[38;5;241m=\u001b[39m\u001b[38;5;28;01mFalse\u001b[39;00m)\n\u001b[1;32m   1695\u001b[0m \u001b[38;5;28;01mreturn\u001b[39;00m s\n",
      "\u001b[0;31mKeyboardInterrupt\u001b[0m: "
     ]
    }
   ],
   "source": [
    "getLowRank(A,rank=128,sketch_dim=128,sketch_method='fjlt',good_conditionned=False,print_times=True)"
   ]
  },
  {
   "cell_type": "markdown",
   "metadata": {},
   "source": [
    "## Section 2\n",
    "\n",
    "We'll compute the error with respect to three matrices. \n",
    "1. polynomial decay (dimension 1000 * 1000) locates: \n",
    "2. exp decay locates:\n",
    "3. ../Dataset/A_3_dataset_2_mnist.npy \n",
    "    denotes the matrix obtained from MNIST, with c=100\n",
    "4. "
   ]
  },
  {
   "cell_type": "code",
   "execution_count": 23,
   "metadata": {},
   "outputs": [
    {
     "name": "stdout",
     "output_type": "stream",
     "text": [
      "matrix A_3\n",
      "(1000, 1000)\n",
      "[[1.         0.99127504 0.98824289 0.99001237 0.98907651]\n",
      " [0.99127504 1.         0.98715919 0.98829865 0.98930957]\n",
      " [0.98824289 0.98715919 1.         0.9898814  0.98994457]\n",
      " [0.99001237 0.98829865 0.9898814  1.         0.99126262]\n",
      " [0.98907651 0.98930957 0.98994457 0.99126262 1.        ]\n",
      " [0.98979753 0.98903161 0.98938555 0.99024257 0.99195122]\n",
      " [0.99100754 0.98756737 0.98972827 0.991512   0.9925866 ]\n",
      " [0.99278471 0.98967594 0.98934556 0.98962114 0.98935745]\n",
      " [0.99136177 0.98870132 0.99122707 0.99290202 0.9940263 ]\n",
      " [0.98989935 0.98824599 0.99277739 0.99119833 0.99174104]]\n",
      "matrix A_1\n",
      "(1000, 1000)\n",
      "[[1. 0. 0. 0. 0.]\n",
      " [0. 1. 0. 0. 0.]\n",
      " [0. 0. 1. 0. 0.]\n",
      " [0. 0. 0. 1. 0.]\n",
      " [0. 0. 0. 0. 1.]\n",
      " [0. 0. 0. 0. 0.]\n",
      " [0. 0. 0. 0. 0.]\n",
      " [0. 0. 0. 0. 0.]\n",
      " [0. 0. 0. 0. 0.]\n",
      " [0. 0. 0. 0. 0.]]\n",
      "matrix A_2\n",
      "(1000, 1000)\n",
      "[[1. 0. 0. 0. 0.]\n",
      " [0. 1. 0. 0. 0.]\n",
      " [0. 0. 1. 0. 0.]\n",
      " [0. 0. 0. 1. 0.]\n",
      " [0. 0. 0. 0. 1.]\n",
      " [0. 0. 0. 0. 0.]\n",
      " [0. 0. 0. 0. 0.]\n",
      " [0. 0. 0. 0. 0.]\n",
      " [0. 0. 0. 0. 0.]\n",
      " [0. 0. 0. 0. 0.]]\n"
     ]
    }
   ],
   "source": [
    "# Loading matrices\n",
    "\n",
    "loadMatrix_A_3 = np.load(\"../Dataset/A_3_dataset_2_mnist.npy\")\n",
    "print(\"matrix A_3\")\n",
    "print(loadMatrix_A_3.shape)\n",
    "print(loadMatrix_A_3[:10,:5])\n",
    "\n",
    "loadMatrix_A_1 = np.load(\"../Dataset/A_1_polyDecayMatrix.npy\")\n",
    "loadMatrix_A_2 = np.load(\"../Dataset/A_2_expDecayMatrix.npy\")\n",
    "\n",
    "print(\"matrix A_1\")\n",
    "print(loadMatrix_A_1.shape)\n",
    "print(loadMatrix_A_1[:10,:5])\n",
    "\n",
    "print(\"matrix A_2\")\n",
    "print(loadMatrix_A_2.shape)\n",
    "print(loadMatrix_A_2[:10,:5])"
   ]
  },
  {
   "cell_type": "code",
   "execution_count": 24,
   "metadata": {},
   "outputs": [],
   "source": [
    "from tqdm import tqdm  # For progress tracking\n",
    "\n",
    "def collect_low_rank_errors(A, max_rank=128, sketch_dims=range(10, 101, 10), is_good_conditionned=False, sketch_method='gaussian', output_file='Section_2_test_1_for_loadMatrixA_1.xlsx'):\n",
    "    \"\"\"\n",
    "    Computes errors for various ranks and sketch dimensions using the `getLowRank` function.\n",
    "\n",
    "    Parameters:\n",
    "    - A (np.ndarray): Input matrix of size, for example 1000x1000.\n",
    "    - max_rank (int): Maximum rank to test (0 <= rank <= max_rank).\n",
    "    - sketch_dims (iterable): Values of sketch dimensions to test.\n",
    "    - sketch_method (str): Method for sketching ('gaussian' or other supported by `getLowRank`).\n",
    "    - output_file (str): Path to the file where results are saved (.csv or .xlsx).\n",
    "    \n",
    "    Saves:\n",
    "    - A table with columns: \"Approximation Rank\", \"Sketch Dimension\", \"Error Value\",\n",
    "      clearly labeled for reuse and analysis.\n",
    "    \"\"\"\n",
    "    # Ensure the matrix is square and 1000x1000\n",
    "    # assert A.shape == (1000, 1000), \"Matrix A must be of size 1000x1000.\"\n",
    "    \n",
    "    # Prepare a list to store results\n",
    "    results = []\n",
    "    \n",
    "    # Iterate through all rank and sketch_dim combinations\n",
    "    for rank in tqdm(range(max_rank + 1), desc=\"Ranks Progress\", unit=\"rank\"):\n",
    "        for sketch_dim in sketch_dims:\n",
    "            # Compute the error\n",
    "            error = getLowRank(A, rank, sketch_dim, sketch_method, good_conditionned = is_good_conditionned)\n",
    "            # Append results with clear column names\n",
    "            results.append({\n",
    "                'Approximation Rank': rank,\n",
    "                'Sketch Dimension': sketch_dim,\n",
    "                'Error Value': error,\n",
    "                'Sketch Method': sketch_method  # Added for better traceability\n",
    "            })\n",
    "    \n",
    "    # Convert to DataFrame for easy export\n",
    "    df = pd.DataFrame(results)\n",
    "    \n",
    "    # Save results to a human-readable format\n",
    "    if output_file.endswith('.csv'):\n",
    "        df.to_csv(output_file, index=False)\n",
    "    elif output_file.endswith('.xlsx'):\n",
    "        df.to_excel(output_file, index=False, engine='openpyxl')\n",
    "    else:\n",
    "        raise ValueError(\"Output file must be either .csv or .xlsx\")\n",
    "    \n",
    "    print(f\"Results successfully saved to {output_file}.\")\n"
   ]
  },
  {
   "cell_type": "code",
   "execution_count": 25,
   "metadata": {},
   "outputs": [
    {
     "name": "stderr",
     "output_type": "stream",
     "text": [
      "Ranks Progress:   0%|          | 0/129 [00:00<?, ?rank/s]"
     ]
    },
    {
     "name": "stdout",
     "output_type": "stream",
     "text": [
      "Error :1.0\n",
      "Error :1.0\n",
      "Error :1.0\n",
      "Error :1.0\n",
      "Error :1.0\n",
      "Error :1.0\n",
      "Error :1.0\n",
      "Error :1.0\n",
      "Error :1.0\n"
     ]
    },
    {
     "name": "stderr",
     "output_type": "stream",
     "text": [
      "Ranks Progress:   1%|          | 1/129 [00:05<12:02,  5.65s/rank]"
     ]
    },
    {
     "name": "stdout",
     "output_type": "stream",
     "text": [
      "Error :1.0\n",
      "Error :0.9482924928005755\n",
      "Error :0.9457201976509276\n",
      "Error :0.9437538416677704\n",
      "Error :0.9425313559274502\n",
      "Error :0.9415654469594548\n",
      "Error :0.9413661874204159\n",
      "Error :0.9413237319266492\n",
      "Error :0.9407889385174028\n",
      "Error :0.9407501496845445\n"
     ]
    },
    {
     "name": "stderr",
     "output_type": "stream",
     "text": [
      "Ranks Progress:   2%|▏         | 2/129 [00:11<12:26,  5.88s/rank]"
     ]
    },
    {
     "name": "stdout",
     "output_type": "stream",
     "text": [
      "Error :0.940747567608469\n",
      "Error :0.9000185099599731\n",
      "Error :0.8914132367880379\n",
      "Error :0.8888296537127424\n",
      "Error :0.8853092326829771\n",
      "Error :0.8838649729802387\n",
      "Error :0.8836483471735554\n",
      "Error :0.8820558880384127\n",
      "Error :0.8822410316145832\n",
      "Error :0.8815910433986858\n"
     ]
    },
    {
     "name": "stderr",
     "output_type": "stream",
     "text": [
      "Ranks Progress:   2%|▏         | 3/129 [00:18<12:58,  6.18s/rank]"
     ]
    },
    {
     "name": "stdout",
     "output_type": "stream",
     "text": [
      "Error :0.8812719296452977\n",
      "Error :0.849701164947869\n",
      "Error :0.8379359666409442\n",
      "Error :0.8334248653340183\n",
      "Error :0.8313232870076201\n",
      "Error :0.826507053468152\n",
      "Error :0.8249655158534179\n",
      "Error :0.8236542772753546\n",
      "Error :0.8229707083804705\n",
      "Error :0.8229803884092001\n"
     ]
    },
    {
     "name": "stderr",
     "output_type": "stream",
     "text": [
      "Ranks Progress:   3%|▎         | 4/129 [00:24<13:06,  6.29s/rank]"
     ]
    },
    {
     "name": "stdout",
     "output_type": "stream",
     "text": [
      "Error :0.821799267362474\n",
      "Error :0.8054177453737966\n",
      "Error :0.7807465675486714\n",
      "Error :0.7772465411321061\n",
      "Error :0.7768609991888852\n",
      "Error :0.7705697052704572\n",
      "Error :0.7678179712517698\n",
      "Error :0.766470977497621\n",
      "Error :0.7662946881328137\n",
      "Error :0.7635568517408639\n"
     ]
    },
    {
     "name": "stderr",
     "output_type": "stream",
     "text": [
      "Ranks Progress:   4%|▍         | 5/129 [00:31<13:02,  6.31s/rank]"
     ]
    },
    {
     "name": "stdout",
     "output_type": "stream",
     "text": [
      "Error :0.7629428836250178\n",
      "Error :0.7709225461217527\n",
      "Error :0.7491500221778729\n",
      "Error :0.7244668252054681\n",
      "Error :0.7190164190622677\n",
      "Error :0.7127896685728657\n",
      "Error :0.7107195174095658\n",
      "Error :0.7079749458466176\n",
      "Error :0.707048617340896\n",
      "Error :0.7061767458387739\n"
     ]
    },
    {
     "name": "stderr",
     "output_type": "stream",
     "text": [
      "Ranks Progress:   5%|▍         | 6/129 [00:37<12:56,  6.31s/rank]"
     ]
    },
    {
     "name": "stdout",
     "output_type": "stream",
     "text": [
      "Error :0.704092707779969\n",
      "Error :0.7428106446798443\n",
      "Error :0.6996880879930725\n",
      "Error :0.6787524735400455\n",
      "Error :0.6675597547232498\n",
      "Error :0.6616765229643106\n",
      "Error :0.6549395777679775\n",
      "Error :0.6513649102677072\n",
      "Error :0.6495675862472546\n",
      "Error :0.647997206187673\n"
     ]
    },
    {
     "name": "stderr",
     "output_type": "stream",
     "text": [
      "Ranks Progress:   5%|▌         | 7/129 [00:43<12:48,  6.30s/rank]"
     ]
    },
    {
     "name": "stdout",
     "output_type": "stream",
     "text": [
      "Error :0.6459212730503493\n",
      "Error :0.7254031783459535\n",
      "Error :0.6491317892990436\n",
      "Error :0.6282604579840634\n",
      "Error :0.610497805140912\n",
      "Error :0.6082768635750454\n",
      "Error :0.6004174631459945\n",
      "Error :0.5955957721921901\n",
      "Error :0.5917241821774774\n",
      "Error :0.5881841689589146\n"
     ]
    },
    {
     "name": "stderr",
     "output_type": "stream",
     "text": [
      "Ranks Progress:   6%|▌         | 8/129 [00:49<12:43,  6.31s/rank]"
     ]
    },
    {
     "name": "stdout",
     "output_type": "stream",
     "text": [
      "Error :0.5893586999540084\n",
      "Error :0.7301600619806893\n",
      "Error :0.6242955483493993\n",
      "Error :0.5739309548416384\n",
      "Error :0.5653474919776514\n",
      "Error :0.5525379919868776\n",
      "Error :0.5449504583253222\n",
      "Error :0.5378870682989175\n",
      "Error :0.5380684418359037\n",
      "Error :0.5330786990644711\n"
     ]
    },
    {
     "name": "stderr",
     "output_type": "stream",
     "text": [
      "Ranks Progress:   7%|▋         | 9/129 [00:55<12:26,  6.22s/rank]"
     ]
    },
    {
     "name": "stdout",
     "output_type": "stream",
     "text": [
      "Error :0.5305027527240214\n",
      "Error :0.6797382346810183\n",
      "Error :0.5771452327596575\n",
      "Error :0.5418441522999501\n",
      "Error :0.5147660935182466\n",
      "Error :0.4995919022325686\n",
      "Error :0.4913042429272825\n",
      "Error :0.48345721208474424\n",
      "Error :0.4816447434982344\n",
      "Error :0.47646408210098584\n"
     ]
    },
    {
     "name": "stderr",
     "output_type": "stream",
     "text": [
      "Ranks Progress:   8%|▊         | 10/129 [01:02<12:35,  6.35s/rank]"
     ]
    },
    {
     "name": "stdout",
     "output_type": "stream",
     "text": [
      "Error :0.47362017087345104\n",
      "Error :0.6688225370411875\n",
      "Error :0.5633415378740605\n",
      "Error :0.5203944528475013\n",
      "Error :0.46235142903206916\n",
      "Error :0.45610840753860843\n",
      "Error :0.43953215489846464\n",
      "Error :0.4306160788049229\n",
      "Error :0.4257690235558425\n",
      "Error :0.4170384192138286\n"
     ]
    },
    {
     "name": "stderr",
     "output_type": "stream",
     "text": [
      "Ranks Progress:   9%|▊         | 11/129 [01:09<12:34,  6.39s/rank]"
     ]
    },
    {
     "name": "stdout",
     "output_type": "stream",
     "text": [
      "Error :0.4143961441495682\n",
      "Error :0.7112251775551721\n",
      "Error :0.5609004652940685\n",
      "Error :0.4775036975172316\n",
      "Error :0.43779627604289817\n",
      "Error :0.42287914731375886\n",
      "Error :0.41098649655561675\n",
      "Error :0.40473289425541714\n",
      "Error :0.39901414348273423\n",
      "Error :0.3903699320836682\n"
     ]
    },
    {
     "name": "stderr",
     "output_type": "stream",
     "text": [
      "Ranks Progress:   9%|▉         | 12/129 [01:15<12:26,  6.38s/rank]"
     ]
    },
    {
     "name": "stdout",
     "output_type": "stream",
     "text": [
      "Error :0.3868460742039404\n",
      "Error :0.7034469124804721\n",
      "Error :0.5454541964971781\n",
      "Error :0.4661289383738139\n",
      "Error :0.4407866898379854\n",
      "Error :0.4163652293204743\n",
      "Error :0.3908377995451396\n",
      "Error :0.384956514646443\n",
      "Error :0.3774749334844809\n",
      "Error :0.37311062733111544\n"
     ]
    },
    {
     "name": "stderr",
     "output_type": "stream",
     "text": [
      "Ranks Progress:  10%|█         | 13/129 [01:21<12:11,  6.31s/rank]"
     ]
    },
    {
     "name": "stdout",
     "output_type": "stream",
     "text": [
      "Error :0.37128493909992366\n",
      "Error :0.6796888250207831\n",
      "Error :0.5219514288816293\n",
      "Error :0.45574249291588725\n",
      "Error :0.42722638067729896\n",
      "Error :0.397698253137712\n",
      "Error :0.3887871758964743\n",
      "Error :0.38016730562294726\n",
      "Error :0.3650307688231141\n",
      "Error :0.36335835977621467\n"
     ]
    },
    {
     "name": "stderr",
     "output_type": "stream",
     "text": [
      "Ranks Progress:  11%|█         | 14/129 [01:28<12:16,  6.41s/rank]"
     ]
    },
    {
     "name": "stdout",
     "output_type": "stream",
     "text": [
      "Error :0.3573915114899796\n",
      "Error :0.7038534646057776\n",
      "Error :0.5432810627272328\n",
      "Error :0.46159970371001524\n",
      "Error :0.4218339247522293\n",
      "Error :0.385405691402828\n",
      "Error :0.37992808385743443\n",
      "Error :0.3690878625473967\n",
      "Error :0.36100870624046993\n",
      "Error :0.3503451517880338\n"
     ]
    },
    {
     "name": "stderr",
     "output_type": "stream",
     "text": [
      "Ranks Progress:  12%|█▏        | 15/129 [01:34<12:00,  6.32s/rank]"
     ]
    },
    {
     "name": "stdout",
     "output_type": "stream",
     "text": [
      "Error :0.34586765367382116\n",
      "Error :0.6999801649326496\n",
      "Error :0.5392416857457689\n",
      "Error :0.4635503127467832\n",
      "Error :0.4058807676614427\n",
      "Error :0.3864428397342357\n",
      "Error :0.37015527251104124\n",
      "Error :0.3581462388253183\n",
      "Error :0.3504302907579749\n",
      "Error :0.3435887662558841\n"
     ]
    },
    {
     "name": "stderr",
     "output_type": "stream",
     "text": [
      "Ranks Progress:  12%|█▏        | 16/129 [01:41<12:12,  6.48s/rank]"
     ]
    },
    {
     "name": "stdout",
     "output_type": "stream",
     "text": [
      "Error :0.3420440727441254\n",
      "Error :0.6978408996037094\n",
      "Error :0.5570747839488365\n",
      "Error :0.4292022633069794\n",
      "Error :0.40487459173441087\n",
      "Error :0.3789739761889653\n",
      "Error :0.3660998660102845\n",
      "Error :0.35298342870840943\n",
      "Error :0.34911800365235224\n",
      "Error :0.3355182698680091\n"
     ]
    },
    {
     "name": "stderr",
     "output_type": "stream",
     "text": [
      "Ranks Progress:  13%|█▎        | 17/129 [01:47<11:55,  6.39s/rank]"
     ]
    },
    {
     "name": "stdout",
     "output_type": "stream",
     "text": [
      "Error :0.3308471756122297\n",
      "Error :0.7148530918993506\n",
      "Error :0.5023960386148291\n",
      "Error :0.4432118317972395\n",
      "Error :0.4093433445919331\n",
      "Error :0.38557551081236874\n",
      "Error :0.3623700184928516\n",
      "Error :0.34939351831893195\n",
      "Error :0.33987194821907135\n",
      "Error :0.32650405543942096\n"
     ]
    },
    {
     "name": "stderr",
     "output_type": "stream",
     "text": [
      "Ranks Progress:  14%|█▍        | 18/129 [01:53<11:49,  6.39s/rank]"
     ]
    },
    {
     "name": "stdout",
     "output_type": "stream",
     "text": [
      "Error :0.32540411970990984\n",
      "Error :0.6945011018029345\n",
      "Error :0.5360717388153341\n",
      "Error :0.4356023039094818\n",
      "Error :0.39834744787366994\n",
      "Error :0.3875080236543909\n",
      "Error :0.3578303412752143\n",
      "Error :0.33936040783555543\n",
      "Error :0.32882166841585786\n",
      "Error :0.33080924128958417\n"
     ]
    },
    {
     "name": "stderr",
     "output_type": "stream",
     "text": [
      "Ranks Progress:  15%|█▍        | 19/129 [02:00<11:46,  6.42s/rank]"
     ]
    },
    {
     "name": "stdout",
     "output_type": "stream",
     "text": [
      "Error :0.32208033065086267\n",
      "Error :0.6906380755721259\n",
      "Error :0.512892219194574\n",
      "Error :0.46156756056731496\n",
      "Error :0.3979450008658368\n",
      "Error :0.37767667227505314\n",
      "Error :0.35164495518913513\n",
      "Error :0.33367133574987673\n",
      "Error :0.3256340287269839\n",
      "Error :0.3193723154160644\n"
     ]
    },
    {
     "name": "stderr",
     "output_type": "stream",
     "text": [
      "Ranks Progress:  16%|█▌        | 20/129 [02:06<11:39,  6.41s/rank]"
     ]
    },
    {
     "name": "stdout",
     "output_type": "stream",
     "text": [
      "Error :0.31588503909365107\n",
      "Error :0.6941218019529097\n",
      "Error :0.4952811587133367\n",
      "Error :0.4465960407197368\n",
      "Error :0.3974720514916263\n",
      "Error :0.3691287538520199\n",
      "Error :0.34405070692107037\n",
      "Error :0.3387174331468657\n",
      "Error :0.3273179075575684\n",
      "Error :0.31842539492007604\n"
     ]
    },
    {
     "name": "stderr",
     "output_type": "stream",
     "text": [
      "Ranks Progress:  16%|█▋        | 21/129 [02:13<11:33,  6.43s/rank]"
     ]
    },
    {
     "name": "stdout",
     "output_type": "stream",
     "text": [
      "Error :0.3169300101835261\n",
      "Error :0.6802955319832376\n",
      "Error :0.514771229267868\n",
      "Error :0.44923608661259934\n",
      "Error :0.39754856104784747\n",
      "Error :0.36370411046659523\n",
      "Error :0.34097869189473046\n",
      "Error :0.3323305282506462\n",
      "Error :0.3213170407208016\n",
      "Error :0.3155828507604227\n"
     ]
    },
    {
     "name": "stderr",
     "output_type": "stream",
     "text": [
      "Ranks Progress:  17%|█▋        | 22/129 [02:19<11:20,  6.36s/rank]"
     ]
    },
    {
     "name": "stdout",
     "output_type": "stream",
     "text": [
      "Error :0.3094010929400023\n",
      "Error :0.6899508620765299\n",
      "Error :0.5173431167380009\n",
      "Error :0.4411096085917749\n",
      "Error :0.3851657019285886\n",
      "Error :0.3610362594903189\n",
      "Error :0.34787451466530056\n",
      "Error :0.3308893886814676\n",
      "Error :0.31683101033606414\n",
      "Error :0.31157404908818925\n"
     ]
    },
    {
     "name": "stderr",
     "output_type": "stream",
     "text": [
      "Ranks Progress:  18%|█▊        | 23/129 [02:25<11:10,  6.32s/rank]"
     ]
    },
    {
     "name": "stdout",
     "output_type": "stream",
     "text": [
      "Error :0.30365862490553847\n",
      "Error :0.6870619793532825\n",
      "Error :0.5296980345546175\n",
      "Error :0.44370689164399774\n",
      "Error :0.39589657049576554\n",
      "Error :0.37370688083198994\n",
      "Error :0.3421375341107363\n",
      "Error :0.3217936513125651\n",
      "Error :0.3200399283970851\n",
      "Error :0.3103677729454643\n"
     ]
    },
    {
     "name": "stderr",
     "output_type": "stream",
     "text": [
      "Ranks Progress:  19%|█▊        | 24/129 [02:31<11:03,  6.32s/rank]"
     ]
    },
    {
     "name": "stdout",
     "output_type": "stream",
     "text": [
      "Error :0.3022608205114225\n",
      "Error :0.729550444784386\n",
      "Error :0.5392848661244515\n",
      "Error :0.44340809856016067\n",
      "Error :0.39979468606846125\n",
      "Error :0.3576022187271587\n",
      "Error :0.34034516863700737\n",
      "Error :0.32524880213107893\n",
      "Error :0.31190741490744034\n",
      "Error :0.3084175101721058\n"
     ]
    },
    {
     "name": "stderr",
     "output_type": "stream",
     "text": [
      "Ranks Progress:  19%|█▉        | 25/129 [02:38<10:56,  6.32s/rank]"
     ]
    },
    {
     "name": "stdout",
     "output_type": "stream",
     "text": [
      "Error :0.29992864375947403\n",
      "Error :0.6843207204843603\n",
      "Error :0.5340992658530385\n",
      "Error :0.421934756137536\n",
      "Error :0.3865578126126074\n",
      "Error :0.359746294825671\n",
      "Error :0.340054407441971\n",
      "Error :0.32154934014358005\n",
      "Error :0.31591053043041895\n",
      "Error :0.3075622029674041\n"
     ]
    },
    {
     "name": "stderr",
     "output_type": "stream",
     "text": [
      "Ranks Progress:  20%|██        | 26/129 [02:44<10:48,  6.29s/rank]"
     ]
    },
    {
     "name": "stdout",
     "output_type": "stream",
     "text": [
      "Error :0.2980573295697485\n",
      "Error :0.6768441116622559\n",
      "Error :0.5208739044934427\n",
      "Error :0.4352216571034251\n",
      "Error :0.3885422542362256\n",
      "Error :0.3639231400797144\n",
      "Error :0.3411885105786422\n",
      "Error :0.3221157285093208\n",
      "Error :0.30518967073843584\n",
      "Error :0.29980678174948866\n"
     ]
    },
    {
     "name": "stderr",
     "output_type": "stream",
     "text": [
      "Ranks Progress:  21%|██        | 27/129 [02:50<10:35,  6.23s/rank]"
     ]
    },
    {
     "name": "stdout",
     "output_type": "stream",
     "text": [
      "Error :0.2958058022355673\n",
      "Error :0.6742894589385126\n",
      "Error :0.5370019243155923\n",
      "Error :0.41118415224529975\n",
      "Error :0.37336052309560563\n",
      "Error :0.3548160365271388\n",
      "Error :0.326178134377863\n",
      "Error :0.3171823392328599\n",
      "Error :0.31170004128907036\n",
      "Error :0.3004908306380352\n"
     ]
    },
    {
     "name": "stderr",
     "output_type": "stream",
     "text": [
      "Ranks Progress:  22%|██▏       | 28/129 [02:57<10:42,  6.36s/rank]"
     ]
    },
    {
     "name": "stdout",
     "output_type": "stream",
     "text": [
      "Error :0.2941189516774137\n",
      "Error :0.6805772506016318\n",
      "Error :0.5064198478490365\n",
      "Error :0.43575020570974493\n",
      "Error :0.38457011021592674\n",
      "Error :0.3490846267507721\n",
      "Error :0.3314449565143137\n",
      "Error :0.3181337878269632\n",
      "Error :0.3053179117853757\n",
      "Error :0.2997703566967461\n"
     ]
    },
    {
     "name": "stderr",
     "output_type": "stream",
     "text": [
      "Ranks Progress:  22%|██▏       | 29/129 [03:03<10:33,  6.33s/rank]"
     ]
    },
    {
     "name": "stdout",
     "output_type": "stream",
     "text": [
      "Error :0.29184478313551615\n",
      "Error :0.6930867509461243\n",
      "Error :0.5246498489600079\n",
      "Error :0.4403807428525576\n",
      "Error :0.3838019329654286\n",
      "Error :0.35281309829565677\n",
      "Error :0.33974048217563774\n",
      "Error :0.3165115082968514\n",
      "Error :0.30211200689766954\n",
      "Error :0.2957156089133893\n"
     ]
    },
    {
     "name": "stderr",
     "output_type": "stream",
     "text": [
      "Ranks Progress:  23%|██▎       | 30/129 [03:09<10:31,  6.37s/rank]"
     ]
    },
    {
     "name": "stdout",
     "output_type": "stream",
     "text": [
      "Error :0.2896216648220028\n",
      "Error :0.6846492275582028\n",
      "Error :0.5178979804770188\n",
      "Error :0.43520202084694315\n",
      "Error :0.38748984683464605\n",
      "Error :0.34937669417887013\n",
      "Error :0.32645670603018395\n",
      "Error :0.3169929153322394\n",
      "Error :0.30423278824363603\n",
      "Error :0.2931428688832201\n"
     ]
    },
    {
     "name": "stderr",
     "output_type": "stream",
     "text": [
      "Ranks Progress:  24%|██▍       | 31/129 [03:16<10:25,  6.38s/rank]"
     ]
    },
    {
     "name": "stdout",
     "output_type": "stream",
     "text": [
      "Error :0.2864313180059055\n",
      "Error :0.7059190695894876\n",
      "Error :0.5260307175268719\n",
      "Error :0.42185792515610354\n",
      "Error :0.3785854750079772\n",
      "Error :0.3492855657460756\n",
      "Error :0.32826465399299726\n",
      "Error :0.30595777277290825\n",
      "Error :0.30453782167323856\n",
      "Error :0.2930166301990956\n"
     ]
    },
    {
     "name": "stderr",
     "output_type": "stream",
     "text": [
      "Ranks Progress:  25%|██▍       | 32/129 [03:22<10:13,  6.32s/rank]"
     ]
    },
    {
     "name": "stdout",
     "output_type": "stream",
     "text": [
      "Error :0.28484572365610866\n",
      "Error :0.6971467354120547\n",
      "Error :0.5187723318682326\n",
      "Error :0.4422136429708853\n",
      "Error :0.37732638836569393\n",
      "Error :0.34521110756415246\n",
      "Error :0.333091998086471\n",
      "Error :0.308616226578285\n",
      "Error :0.3012806101695925\n",
      "Error :0.28828760550194665\n"
     ]
    },
    {
     "name": "stderr",
     "output_type": "stream",
     "text": [
      "Ranks Progress:  26%|██▌       | 33/129 [03:29<10:23,  6.50s/rank]"
     ]
    },
    {
     "name": "stdout",
     "output_type": "stream",
     "text": [
      "Error :0.28665917929464435\n",
      "Error :0.6805856558149885\n",
      "Error :0.5418547792955888\n",
      "Error :0.41517602910656415\n",
      "Error :0.3685703787715314\n",
      "Error :0.3495629937938784\n",
      "Error :0.32791689560026027\n",
      "Error :0.312484465544955\n",
      "Error :0.29988101795068695\n",
      "Error :0.2900462097698965\n"
     ]
    },
    {
     "name": "stderr",
     "output_type": "stream",
     "text": [
      "Ranks Progress:  26%|██▋       | 34/129 [03:35<10:15,  6.48s/rank]"
     ]
    },
    {
     "name": "stdout",
     "output_type": "stream",
     "text": [
      "Error :0.28258172378353363\n",
      "Error :0.665091132730661\n",
      "Error :0.5298645432209496\n",
      "Error :0.43456357023409137\n",
      "Error :0.3846990494117652\n",
      "Error :0.3474828022359422\n",
      "Error :0.3287820971915124\n",
      "Error :0.31010540570218764\n",
      "Error :0.2975000925233413\n",
      "Error :0.2900700992856642\n"
     ]
    },
    {
     "name": "stderr",
     "output_type": "stream",
     "text": [
      "Ranks Progress:  27%|██▋       | 35/129 [03:42<10:06,  6.45s/rank]"
     ]
    },
    {
     "name": "stdout",
     "output_type": "stream",
     "text": [
      "Error :0.28206014964888376\n",
      "Error :0.695083573687129\n",
      "Error :0.4949988975215034\n",
      "Error :0.42505250388211346\n",
      "Error :0.3789125306397358\n",
      "Error :0.33719178769672203\n",
      "Error :0.32061046276876526\n",
      "Error :0.30946460537831466\n",
      "Error :0.2969482844043295\n",
      "Error :0.2865396249744025\n"
     ]
    },
    {
     "name": "stderr",
     "output_type": "stream",
     "text": [
      "Ranks Progress:  28%|██▊       | 36/129 [03:48<10:00,  6.46s/rank]"
     ]
    },
    {
     "name": "stdout",
     "output_type": "stream",
     "text": [
      "Error :0.27854953241046104\n",
      "Error :0.696211236208249\n",
      "Error :0.5054964185934651\n",
      "Error :0.4375013509751482\n",
      "Error :0.3742761188618333\n",
      "Error :0.34733076492644943\n",
      "Error :0.3254597450494137\n",
      "Error :0.3067025700666911\n",
      "Error :0.2957691375530343\n",
      "Error :0.28884432823197687\n"
     ]
    },
    {
     "name": "stderr",
     "output_type": "stream",
     "text": [
      "Ranks Progress:  29%|██▊       | 37/129 [03:55<09:52,  6.44s/rank]"
     ]
    },
    {
     "name": "stdout",
     "output_type": "stream",
     "text": [
      "Error :0.2763619777182023\n",
      "Error :0.6995923615439068\n",
      "Error :0.5259814932212579\n",
      "Error :0.4262756938881024\n",
      "Error :0.3812380636865108\n",
      "Error :0.34566775283369156\n",
      "Error :0.3234515560691266\n",
      "Error :0.30328520556883\n",
      "Error :0.29654903328759596\n",
      "Error :0.28432967698450273\n"
     ]
    },
    {
     "name": "stderr",
     "output_type": "stream",
     "text": [
      "Ranks Progress:  29%|██▉       | 38/129 [04:01<09:40,  6.38s/rank]"
     ]
    },
    {
     "name": "stdout",
     "output_type": "stream",
     "text": [
      "Error :0.27847582966435036\n",
      "Error :0.7232122503808072\n",
      "Error :0.528330300866842\n",
      "Error :0.43393821346751915\n",
      "Error :0.38900529534933825\n",
      "Error :0.34487975475036325\n",
      "Error :0.3171165800144956\n",
      "Error :0.3040108524705662\n",
      "Error :0.29568960126721555\n",
      "Error :0.28329569196327736\n"
     ]
    },
    {
     "name": "stderr",
     "output_type": "stream",
     "text": [
      "Ranks Progress:  30%|███       | 39/129 [04:07<09:35,  6.39s/rank]"
     ]
    },
    {
     "name": "stdout",
     "output_type": "stream",
     "text": [
      "Error :0.27617085179969575\n",
      "Error :0.6943282450894818\n",
      "Error :0.5117058225158908\n",
      "Error :0.4423832933980927\n",
      "Error :0.3738322895420735\n",
      "Error :0.3457164312563204\n",
      "Error :0.319027628031074\n",
      "Error :0.3039818163150579\n",
      "Error :0.29352056520584385\n",
      "Error :0.2808861366425489\n"
     ]
    },
    {
     "name": "stderr",
     "output_type": "stream",
     "text": [
      "Ranks Progress:  31%|███       | 40/129 [04:14<09:32,  6.43s/rank]"
     ]
    },
    {
     "name": "stdout",
     "output_type": "stream",
     "text": [
      "Error :0.2747137629420812\n",
      "Error :0.6974215798120631\n",
      "Error :0.5305156448322385\n",
      "Error :0.4313594082763592\n",
      "Error :0.374544217883802\n",
      "Error :0.34572936083571865\n",
      "Error :0.31803460023589575\n",
      "Error :0.30033682888794766\n",
      "Error :0.2888827009508694\n",
      "Error :0.28254459374377927\n"
     ]
    },
    {
     "name": "stderr",
     "output_type": "stream",
     "text": [
      "Ranks Progress:  32%|███▏      | 41/129 [04:20<09:27,  6.45s/rank]"
     ]
    },
    {
     "name": "stdout",
     "output_type": "stream",
     "text": [
      "Error :0.27612426256151346\n",
      "Error :0.6936410034061418\n",
      "Error :0.5252935910738824\n",
      "Error :0.43856827517600544\n",
      "Error :0.36546378206313274\n",
      "Error :0.33631543978698214\n",
      "Error :0.31692111879896573\n",
      "Error :0.30369388863626245\n",
      "Error :0.29302951542211675\n",
      "Error :0.2813579359131478\n"
     ]
    },
    {
     "name": "stderr",
     "output_type": "stream",
     "text": [
      "Ranks Progress:  33%|███▎      | 42/129 [04:26<09:04,  6.26s/rank]"
     ]
    },
    {
     "name": "stdout",
     "output_type": "stream",
     "text": [
      "Error :0.271808149285318\n",
      "Error :0.6936661803250495\n",
      "Error :0.5271169146054293\n",
      "Error :0.4187301895972731\n",
      "Error :0.38539982968766984\n",
      "Error :0.33603290571304073\n",
      "Error :0.316245890857858\n",
      "Error :0.30695268734538733\n",
      "Error :0.2916301872241183\n",
      "Error :0.28052945694453096\n"
     ]
    },
    {
     "name": "stderr",
     "output_type": "stream",
     "text": [
      "Ranks Progress:  33%|███▎      | 43/129 [04:32<08:58,  6.26s/rank]"
     ]
    },
    {
     "name": "stdout",
     "output_type": "stream",
     "text": [
      "Error :0.27084437451133536\n",
      "Error :0.7079819481521927\n",
      "Error :0.5241792745212913\n",
      "Error :0.4123198552595431\n",
      "Error :0.39722246024004476\n",
      "Error :0.3440138462019515\n",
      "Error :0.3182765323995248\n",
      "Error :0.297876300494312\n",
      "Error :0.2902144794136748\n",
      "Error :0.2796791351236626\n"
     ]
    },
    {
     "name": "stderr",
     "output_type": "stream",
     "text": [
      "Ranks Progress:  34%|███▍      | 44/129 [04:39<09:05,  6.42s/rank]"
     ]
    },
    {
     "name": "stdout",
     "output_type": "stream",
     "text": [
      "Error :0.2704335216642227\n",
      "Error :0.7034544423910379\n",
      "Error :0.528508888520405\n",
      "Error :0.4394012572189883\n",
      "Error :0.37170498418707076\n",
      "Error :0.34221680167552293\n",
      "Error :0.3244543377094682\n",
      "Error :0.2981043816776055\n",
      "Error :0.28751203993846314\n",
      "Error :0.2771161599422879\n"
     ]
    },
    {
     "name": "stderr",
     "output_type": "stream",
     "text": [
      "Ranks Progress:  35%|███▍      | 45/129 [04:46<08:58,  6.42s/rank]"
     ]
    },
    {
     "name": "stdout",
     "output_type": "stream",
     "text": [
      "Error :0.2712990062100839\n",
      "Error :0.6788556730179096\n",
      "Error :0.5290595595806877\n",
      "Error :0.44049022641579605\n",
      "Error :0.3743882978432387\n",
      "Error :0.34784261408465483\n",
      "Error :0.3196796954786569\n",
      "Error :0.30309201006462705\n",
      "Error :0.288281280710041\n",
      "Error :0.2772749631651267\n"
     ]
    },
    {
     "name": "stderr",
     "output_type": "stream",
     "text": [
      "Ranks Progress:  36%|███▌      | 46/129 [04:52<08:54,  6.44s/rank]"
     ]
    },
    {
     "name": "stdout",
     "output_type": "stream",
     "text": [
      "Error :0.2695950516758921\n",
      "Error :0.7041223796458368\n",
      "Error :0.5283721168217589\n",
      "Error :0.43514549958060744\n",
      "Error :0.38623748697022636\n",
      "Error :0.33028667593058586\n",
      "Error :0.3178582076840883\n",
      "Error :0.29412014991994384\n",
      "Error :0.28759099726882376\n",
      "Error :0.2736560270604978\n"
     ]
    },
    {
     "name": "stderr",
     "output_type": "stream",
     "text": [
      "Ranks Progress:  36%|███▋      | 47/129 [04:59<08:50,  6.47s/rank]"
     ]
    },
    {
     "name": "stdout",
     "output_type": "stream",
     "text": [
      "Error :0.26988911144832756\n",
      "Error :0.6907614863591263\n",
      "Error :0.5240656307164416\n",
      "Error :0.42446723120228386\n",
      "Error :0.37357393865018224\n",
      "Error :0.34104927604049423\n",
      "Error :0.31491659817226725\n",
      "Error :0.2974926464496136\n",
      "Error :0.2843951595465369\n",
      "Error :0.27558791592292176\n"
     ]
    },
    {
     "name": "stderr",
     "output_type": "stream",
     "text": [
      "Ranks Progress:  37%|███▋      | 48/129 [05:05<08:36,  6.38s/rank]"
     ]
    },
    {
     "name": "stdout",
     "output_type": "stream",
     "text": [
      "Error :0.2658895105190571\n",
      "Error :0.6909611821313049\n",
      "Error :0.5310954565599563\n",
      "Error :0.443906353521393\n",
      "Error :0.3719664864269591\n",
      "Error :0.3362093377639191\n",
      "Error :0.31337463040417424\n",
      "Error :0.2954207066577744\n",
      "Error :0.28852046178793483\n",
      "Error :0.2765595867604868\n"
     ]
    },
    {
     "name": "stderr",
     "output_type": "stream",
     "text": [
      "Ranks Progress:  38%|███▊      | 49/129 [05:12<08:46,  6.58s/rank]"
     ]
    },
    {
     "name": "stdout",
     "output_type": "stream",
     "text": [
      "Error :0.2690092998022299\n",
      "Error :0.6781904316609024\n",
      "Error :0.5277724923199938\n",
      "Error :0.4523896793328814\n",
      "Error :0.37842847180936073\n",
      "Error :0.3427066608200615\n",
      "Error :0.31601365239256746\n",
      "Error :0.29656836317881347\n",
      "Error :0.2861009625383393\n",
      "Error :0.27247725462597555\n"
     ]
    },
    {
     "name": "stderr",
     "output_type": "stream",
     "text": [
      "Ranks Progress:  39%|███▉      | 50/129 [05:18<08:35,  6.52s/rank]"
     ]
    },
    {
     "name": "stdout",
     "output_type": "stream",
     "text": [
      "Error :0.2679906184285314\n",
      "Error :0.6853969846224068\n",
      "Error :0.5142257475260751\n",
      "Error :0.4250879315553444\n",
      "Error :0.3829974251394308\n",
      "Error :0.34065455413779583\n",
      "Error :0.3191509101294057\n",
      "Error :0.29522256444572087\n",
      "Error :0.2849982835864182\n",
      "Error :0.27256495144612397\n"
     ]
    },
    {
     "name": "stderr",
     "output_type": "stream",
     "text": [
      "Ranks Progress:  40%|███▉      | 51/129 [05:25<08:25,  6.49s/rank]"
     ]
    },
    {
     "name": "stdout",
     "output_type": "stream",
     "text": [
      "Error :0.26344469640117624\n",
      "Error :0.7498201747619212\n",
      "Error :0.5232580365265432\n",
      "Error :0.43930524828456224\n",
      "Error :0.38470348607149035\n",
      "Error :0.3318526857082881\n",
      "Error :0.31396717524396\n",
      "Error :0.2971094892503662\n",
      "Error :0.2866411031481808\n",
      "Error :0.2718241752998936\n"
     ]
    },
    {
     "name": "stderr",
     "output_type": "stream",
     "text": [
      "Ranks Progress:  40%|████      | 52/129 [05:32<08:36,  6.71s/rank]"
     ]
    },
    {
     "name": "stdout",
     "output_type": "stream",
     "text": [
      "Error :0.263076894665429\n",
      "Error :0.6883082412356499\n",
      "Error :0.5346327047825175\n",
      "Error :0.42729087150151934\n",
      "Error :0.37041766821775013\n",
      "Error :0.3398353979345737\n",
      "Error :0.3135294383661973\n",
      "Error :0.2974579512555748\n",
      "Error :0.2847171860098016\n",
      "Error :0.2720287314988358\n"
     ]
    },
    {
     "name": "stderr",
     "output_type": "stream",
     "text": [
      "Ranks Progress:  41%|████      | 53/129 [05:38<08:22,  6.62s/rank]"
     ]
    },
    {
     "name": "stdout",
     "output_type": "stream",
     "text": [
      "Error :0.265183891096632\n",
      "Error :0.6767329108754262\n",
      "Error :0.5173977620893722\n",
      "Error :0.4437847312767909\n",
      "Error :0.3819322966840326\n",
      "Error :0.34196971318926145\n",
      "Error :0.3179510256730411\n",
      "Error :0.2948870926832273\n",
      "Error :0.28561591983124446\n",
      "Error :0.27276070972465405\n"
     ]
    },
    {
     "name": "stderr",
     "output_type": "stream",
     "text": [
      "Ranks Progress:  42%|████▏     | 54/129 [05:45<08:13,  6.58s/rank]"
     ]
    },
    {
     "name": "stdout",
     "output_type": "stream",
     "text": [
      "Error :0.2652600751014036\n",
      "Error :0.7004885812407503\n",
      "Error :0.5108536077269795\n",
      "Error :0.4315317625500838\n",
      "Error :0.38370432613274796\n",
      "Error :0.33505519618408014\n",
      "Error :0.31747193779994937\n",
      "Error :0.297449713895822\n",
      "Error :0.2814084904533131\n",
      "Error :0.2705212616534399\n"
     ]
    },
    {
     "name": "stderr",
     "output_type": "stream",
     "text": [
      "Ranks Progress:  43%|████▎     | 55/129 [05:51<08:01,  6.51s/rank]"
     ]
    },
    {
     "name": "stdout",
     "output_type": "stream",
     "text": [
      "Error :0.2645100277569878\n",
      "Error :0.6838942907233616\n",
      "Error :0.5388190982148735\n",
      "Error :0.43804618084437036\n",
      "Error :0.37329142364548373\n",
      "Error :0.3355450269958387\n",
      "Error :0.31150368924018607\n",
      "Error :0.29511183230307725\n",
      "Error :0.28200548797180136\n",
      "Error :0.27192347534928285\n"
     ]
    },
    {
     "name": "stderr",
     "output_type": "stream",
     "text": [
      "Ranks Progress:  43%|████▎     | 56/129 [05:57<07:53,  6.48s/rank]"
     ]
    },
    {
     "name": "stdout",
     "output_type": "stream",
     "text": [
      "Error :0.2613999770080305\n",
      "Error :0.6984821447536405\n",
      "Error :0.5215729045960171\n",
      "Error :0.4295304375742781\n",
      "Error :0.37691732797250577\n",
      "Error :0.34261215482642465\n",
      "Error :0.3145005760408913\n",
      "Error :0.2915286361907346\n",
      "Error :0.2787966278433613\n",
      "Error :0.2704739625366229\n"
     ]
    },
    {
     "name": "stderr",
     "output_type": "stream",
     "text": [
      "Ranks Progress:  44%|████▍     | 57/129 [06:04<07:46,  6.48s/rank]"
     ]
    },
    {
     "name": "stdout",
     "output_type": "stream",
     "text": [
      "Error :0.26158207592125604\n",
      "Error :0.7116703784533706\n",
      "Error :0.5061043075094387\n",
      "Error :0.4214901216772049\n",
      "Error :0.3622763706440038\n",
      "Error :0.33672431548570947\n",
      "Error :0.31886908405197767\n",
      "Error :0.2894006356805698\n",
      "Error :0.28358313490548676\n",
      "Error :0.2689849877344677\n"
     ]
    },
    {
     "name": "stderr",
     "output_type": "stream",
     "text": [
      "Ranks Progress:  45%|████▍     | 58/129 [06:10<07:37,  6.45s/rank]"
     ]
    },
    {
     "name": "stdout",
     "output_type": "stream",
     "text": [
      "Error :0.2660073998119609\n",
      "Error :0.672589231734272\n",
      "Error :0.528914593907517\n",
      "Error :0.4484536558957933\n",
      "Error :0.3844928333088113\n",
      "Error :0.3394031836458725\n",
      "Error :0.30906164862116325\n",
      "Error :0.2974115370758462\n",
      "Error :0.2799857822252618\n",
      "Error :0.2742959848990034\n"
     ]
    },
    {
     "name": "stderr",
     "output_type": "stream",
     "text": [
      "Ranks Progress:  46%|████▌     | 59/129 [06:17<07:33,  6.48s/rank]"
     ]
    },
    {
     "name": "stdout",
     "output_type": "stream",
     "text": [
      "Error :0.2614324040564188\n",
      "Error :0.6944100849683054\n",
      "Error :0.5347742844820136\n",
      "Error :0.4252133386995723\n",
      "Error :0.3763156637051067\n",
      "Error :0.3397535370170397\n",
      "Error :0.3119594510205768\n",
      "Error :0.29110427728073063\n",
      "Error :0.2802139603991513\n",
      "Error :0.2685453053130919\n"
     ]
    },
    {
     "name": "stderr",
     "output_type": "stream",
     "text": [
      "Ranks Progress:  47%|████▋     | 60/129 [06:23<07:25,  6.46s/rank]"
     ]
    },
    {
     "name": "stdout",
     "output_type": "stream",
     "text": [
      "Error :0.26092900103367783\n",
      "Error :0.6914156583773381\n",
      "Error :0.5137795757559193\n",
      "Error :0.4349284733901351\n",
      "Error :0.37498266994274104\n",
      "Error :0.3342272265317575\n",
      "Error :0.31128628948278525\n",
      "Error :0.29033951684447906\n",
      "Error :0.27660714006021775\n",
      "Error :0.2681404318523149\n"
     ]
    },
    {
     "name": "stderr",
     "output_type": "stream",
     "text": [
      "Ranks Progress:  47%|████▋     | 61/129 [06:30<07:15,  6.40s/rank]"
     ]
    },
    {
     "name": "stdout",
     "output_type": "stream",
     "text": [
      "Error :0.2595839597727165\n",
      "Error :0.6759169572709601\n",
      "Error :0.5323055356413773\n",
      "Error :0.4381915466810044\n",
      "Error :0.37406561509744135\n",
      "Error :0.33331403421632044\n",
      "Error :0.3116052145467724\n",
      "Error :0.29075914642715306\n",
      "Error :0.2824676037212165\n",
      "Error :0.26721924498923283\n"
     ]
    },
    {
     "name": "stderr",
     "output_type": "stream",
     "text": [
      "Ranks Progress:  48%|████▊     | 62/129 [06:36<07:07,  6.38s/rank]"
     ]
    },
    {
     "name": "stdout",
     "output_type": "stream",
     "text": [
      "Error :0.2624034248576341\n",
      "Error :0.6802557740511525\n",
      "Error :0.5194359372559579\n",
      "Error :0.4382138140265187\n",
      "Error :0.3756805515810752\n",
      "Error :0.33169431147058526\n",
      "Error :0.31552777572098767\n",
      "Error :0.29535166148623093\n",
      "Error :0.27755784033527486\n",
      "Error :0.27140742358091496\n"
     ]
    },
    {
     "name": "stderr",
     "output_type": "stream",
     "text": [
      "Ranks Progress:  49%|████▉     | 63/129 [06:42<07:00,  6.37s/rank]"
     ]
    },
    {
     "name": "stdout",
     "output_type": "stream",
     "text": [
      "Error :0.2593063749421103\n",
      "Error :0.6877379494509623\n",
      "Error :0.5176965495710124\n",
      "Error :0.45220270894327935\n",
      "Error :0.3658126931720909\n",
      "Error :0.33616096466499673\n",
      "Error :0.30997337671082487\n",
      "Error :0.29564746377172424\n",
      "Error :0.27924563593439367\n",
      "Error :0.2691892971806094\n"
     ]
    },
    {
     "name": "stderr",
     "output_type": "stream",
     "text": [
      "Ranks Progress:  50%|████▉     | 64/129 [06:49<06:56,  6.41s/rank]"
     ]
    },
    {
     "name": "stdout",
     "output_type": "stream",
     "text": [
      "Error :0.2609928437142795\n",
      "Error :0.7082497791218165\n",
      "Error :0.5396850744864035\n",
      "Error :0.43400911760699984\n",
      "Error :0.38368679730429583\n",
      "Error :0.3345642994143677\n",
      "Error :0.3081133058332249\n",
      "Error :0.2873009427430725\n",
      "Error :0.2821806341759499\n",
      "Error :0.2688483722105178\n"
     ]
    },
    {
     "name": "stderr",
     "output_type": "stream",
     "text": [
      "Ranks Progress:  50%|█████     | 65/129 [06:55<06:50,  6.41s/rank]"
     ]
    },
    {
     "name": "stdout",
     "output_type": "stream",
     "text": [
      "Error :0.25662389470002017\n",
      "Error :0.6807346826020252\n",
      "Error :0.5202777485022277\n",
      "Error :0.43527475968467827\n",
      "Error :0.37589427274518356\n",
      "Error :0.34022506318655205\n",
      "Error :0.3087177404859407\n",
      "Error :0.290967035106155\n",
      "Error :0.27541670023911247\n",
      "Error :0.26505925326210306\n"
     ]
    },
    {
     "name": "stderr",
     "output_type": "stream",
     "text": [
      "Ranks Progress:  51%|█████     | 66/129 [07:02<06:43,  6.40s/rank]"
     ]
    },
    {
     "name": "stdout",
     "output_type": "stream",
     "text": [
      "Error :0.2570895625969961\n",
      "Error :0.685594896342191\n",
      "Error :0.5173492186250755\n",
      "Error :0.434747769332342\n",
      "Error :0.37707679145275647\n",
      "Error :0.3324318576134215\n",
      "Error :0.3109663554027241\n",
      "Error :0.28842562130675314\n",
      "Error :0.27815453857235084\n",
      "Error :0.26231633212588634\n"
     ]
    },
    {
     "name": "stderr",
     "output_type": "stream",
     "text": [
      "Ranks Progress:  52%|█████▏    | 67/129 [07:08<06:36,  6.40s/rank]"
     ]
    },
    {
     "name": "stdout",
     "output_type": "stream",
     "text": [
      "Error :0.25576523261124673\n",
      "Error :0.6893346007916014\n",
      "Error :0.5174187505297316\n",
      "Error :0.4381982740946608\n",
      "Error :0.3705198325317279\n",
      "Error :0.34364879504459056\n",
      "Error :0.3154146503412462\n",
      "Error :0.2894991521209673\n",
      "Error :0.2776471200973273\n",
      "Error :0.2638777460170179\n"
     ]
    },
    {
     "name": "stderr",
     "output_type": "stream",
     "text": [
      "Ranks Progress:  53%|█████▎    | 68/129 [07:14<06:31,  6.41s/rank]"
     ]
    },
    {
     "name": "stdout",
     "output_type": "stream",
     "text": [
      "Error :0.25456417534625775\n",
      "Error :0.6902286668500134\n",
      "Error :0.5060350528007084\n",
      "Error :0.4479687288202732\n",
      "Error :0.37773315563427173\n",
      "Error :0.3396642369212533\n",
      "Error :0.32087462412362067\n",
      "Error :0.29416556295781565\n",
      "Error :0.2779997011818776\n",
      "Error :0.26777506708786636\n"
     ]
    },
    {
     "name": "stderr",
     "output_type": "stream",
     "text": [
      "Ranks Progress:  53%|█████▎    | 69/129 [07:21<06:25,  6.42s/rank]"
     ]
    },
    {
     "name": "stdout",
     "output_type": "stream",
     "text": [
      "Error :0.25623547397318597\n",
      "Error :0.6896126670612809\n",
      "Error :0.5183911372917179\n",
      "Error :0.43557154131816467\n",
      "Error :0.38844057545374794\n",
      "Error :0.33599756395407104\n",
      "Error :0.3143683284987448\n",
      "Error :0.29241208841122796\n",
      "Error :0.27890497062466285\n",
      "Error :0.2631247721777026\n"
     ]
    },
    {
     "name": "stderr",
     "output_type": "stream",
     "text": [
      "Ranks Progress:  54%|█████▍    | 70/129 [07:27<06:17,  6.40s/rank]"
     ]
    },
    {
     "name": "stdout",
     "output_type": "stream",
     "text": [
      "Error :0.26231615436663447\n",
      "Error :0.6860381440056547\n",
      "Error :0.5132399967177717\n",
      "Error :0.446605571177628\n",
      "Error :0.3646275326610614\n",
      "Error :0.33731458405178194\n",
      "Error :0.3060939818912392\n",
      "Error :0.28363775467522884\n",
      "Error :0.2769836043093551\n",
      "Error :0.2676550998573967\n"
     ]
    },
    {
     "name": "stderr",
     "output_type": "stream",
     "text": [
      "Ranks Progress:  55%|█████▌    | 71/129 [07:34<06:11,  6.41s/rank]"
     ]
    },
    {
     "name": "stdout",
     "output_type": "stream",
     "text": [
      "Error :0.2566060881803559\n",
      "Error :0.6965846132174809\n",
      "Error :0.51732161225235\n",
      "Error :0.42701407449048046\n",
      "Error :0.37618224884279\n",
      "Error :0.33184723979887276\n",
      "Error :0.30509781006966047\n",
      "Error :0.2939987274392112\n",
      "Error :0.27865178920656386\n",
      "Error :0.2643574449229252\n"
     ]
    },
    {
     "name": "stderr",
     "output_type": "stream",
     "text": [
      "Ranks Progress:  56%|█████▌    | 72/129 [07:40<06:06,  6.44s/rank]"
     ]
    },
    {
     "name": "stdout",
     "output_type": "stream",
     "text": [
      "Error :0.25377721566588235\n",
      "Error :0.6916137265474435\n",
      "Error :0.5212662411613231\n",
      "Error :0.43735168126102786\n",
      "Error :0.3688290751810664\n",
      "Error :0.3343314224031447\n",
      "Error :0.3125839203523556\n",
      "Error :0.29125103026353644\n",
      "Error :0.27123127264952507\n",
      "Error :0.2622101146335575\n"
     ]
    },
    {
     "name": "stderr",
     "output_type": "stream",
     "text": [
      "Ranks Progress:  57%|█████▋    | 73/129 [07:47<06:00,  6.44s/rank]"
     ]
    },
    {
     "name": "stdout",
     "output_type": "stream",
     "text": [
      "Error :0.25506946898813276\n",
      "Error :0.6948773285760159\n",
      "Error :0.5134318573843435\n",
      "Error :0.42481959784448037\n",
      "Error :0.38149336722137045\n",
      "Error :0.3479721119914851\n",
      "Error :0.3137087075103523\n",
      "Error :0.2893352350838414\n",
      "Error :0.2765167812273372\n",
      "Error :0.26346172615828484\n"
     ]
    },
    {
     "name": "stderr",
     "output_type": "stream",
     "text": [
      "Ranks Progress:  57%|█████▋    | 74/129 [07:53<05:54,  6.45s/rank]"
     ]
    },
    {
     "name": "stdout",
     "output_type": "stream",
     "text": [
      "Error :0.2568122088875643\n",
      "Error :0.6845389450180146\n",
      "Error :0.5303956418898333\n",
      "Error :0.42366483455988274\n",
      "Error :0.3745165962998502\n",
      "Error :0.3469573927710503\n",
      "Error :0.3198198997089938\n",
      "Error :0.2922344739858317\n",
      "Error :0.2751198478656966\n",
      "Error :0.2630146424690208\n"
     ]
    },
    {
     "name": "stderr",
     "output_type": "stream",
     "text": [
      "Ranks Progress:  58%|█████▊    | 75/129 [08:00<05:50,  6.49s/rank]"
     ]
    },
    {
     "name": "stdout",
     "output_type": "stream",
     "text": [
      "Error :0.2535159476177211\n",
      "Error :0.6591150213538179\n",
      "Error :0.5003136858935009\n",
      "Error :0.4367384882831563\n",
      "Error :0.3709237671210188\n",
      "Error :0.3387584895584986\n",
      "Error :0.31746635406006496\n",
      "Error :0.2923592108024218\n",
      "Error :0.2735921625770626\n",
      "Error :0.26133306766628916\n"
     ]
    },
    {
     "name": "stderr",
     "output_type": "stream",
     "text": [
      "Ranks Progress:  59%|█████▉    | 76/129 [08:06<05:46,  6.54s/rank]"
     ]
    },
    {
     "name": "stdout",
     "output_type": "stream",
     "text": [
      "Error :0.25228838620099964\n",
      "Error :0.6751423463666582\n",
      "Error :0.5318428337364813\n",
      "Error :0.4408428411623448\n",
      "Error :0.37458504444811697\n",
      "Error :0.3373247984161338\n",
      "Error :0.3116370861824859\n",
      "Error :0.29261223951005677\n",
      "Error :0.27465510253090125\n",
      "Error :0.2612234586899267\n"
     ]
    },
    {
     "name": "stderr",
     "output_type": "stream",
     "text": [
      "Ranks Progress:  60%|█████▉    | 77/129 [08:13<05:39,  6.53s/rank]"
     ]
    },
    {
     "name": "stdout",
     "output_type": "stream",
     "text": [
      "Error :0.25158948229276346\n",
      "Error :0.7055208318122673\n",
      "Error :0.5199644908871477\n",
      "Error :0.4200234333003965\n",
      "Error :0.3718928550500009\n",
      "Error :0.33888607072120674\n",
      "Error :0.30822747226693503\n",
      "Error :0.28738465611062236\n",
      "Error :0.2757837539867263\n",
      "Error :0.25936355274318756\n"
     ]
    },
    {
     "name": "stderr",
     "output_type": "stream",
     "text": [
      "Ranks Progress:  60%|██████    | 78/129 [08:19<05:31,  6.51s/rank]"
     ]
    },
    {
     "name": "stdout",
     "output_type": "stream",
     "text": [
      "Error :0.25181441824277695\n",
      "Error :0.7081718218145487\n",
      "Error :0.5186775276655042\n",
      "Error :0.42416629286671703\n",
      "Error :0.35719090096077344\n",
      "Error :0.3345561246138613\n",
      "Error :0.3206200903227073\n",
      "Error :0.28168730333612335\n",
      "Error :0.2772659339434379\n",
      "Error :0.26462949843659134\n"
     ]
    },
    {
     "name": "stderr",
     "output_type": "stream",
     "text": [
      "Ranks Progress:  61%|██████    | 79/129 [08:26<05:25,  6.50s/rank]"
     ]
    },
    {
     "name": "stdout",
     "output_type": "stream",
     "text": [
      "Error :0.25063326969972344\n",
      "Error :0.7040177009378599\n",
      "Error :0.5392590670260947\n",
      "Error :0.43076576435335556\n",
      "Error :0.37511036403922754\n",
      "Error :0.3402081181149699\n",
      "Error :0.312774891495522\n",
      "Error :0.28597028941874525\n",
      "Error :0.27044774666925503\n",
      "Error :0.2600059908748801\n"
     ]
    },
    {
     "name": "stderr",
     "output_type": "stream",
     "text": [
      "Ranks Progress:  62%|██████▏   | 80/129 [08:32<05:16,  6.45s/rank]"
     ]
    },
    {
     "name": "stdout",
     "output_type": "stream",
     "text": [
      "Error :0.25273735512144857\n",
      "Error :0.6951195162251301\n",
      "Error :0.5458972093643011\n",
      "Error :0.4229823683633764\n",
      "Error :0.3671739388486047\n",
      "Error :0.3484424318931732\n",
      "Error :0.31085573303990693\n",
      "Error :0.29381238462095655\n",
      "Error :0.27523155892501355\n",
      "Error :0.25960335355675457\n"
     ]
    },
    {
     "name": "stderr",
     "output_type": "stream",
     "text": [
      "Ranks Progress:  63%|██████▎   | 81/129 [08:38<05:07,  6.42s/rank]"
     ]
    },
    {
     "name": "stdout",
     "output_type": "stream",
     "text": [
      "Error :0.2525193614638146\n",
      "Error :0.7106692948164388\n",
      "Error :0.5595772171230833\n",
      "Error :0.42940590363838343\n",
      "Error :0.3706695721325031\n",
      "Error :0.33219012373221296\n",
      "Error :0.3067146027025134\n",
      "Error :0.29046781488671236\n",
      "Error :0.27716119340877593\n",
      "Error :0.26042064471549337\n"
     ]
    },
    {
     "name": "stderr",
     "output_type": "stream",
     "text": [
      "Ranks Progress:  64%|██████▎   | 82/129 [08:45<05:03,  6.45s/rank]"
     ]
    },
    {
     "name": "stdout",
     "output_type": "stream",
     "text": [
      "Error :0.2568854357098403\n",
      "Error :0.6594544247929524\n",
      "Error :0.5282766638220228\n",
      "Error :0.4353586783397547\n",
      "Error :0.37953121578213883\n",
      "Error :0.34540300049675426\n",
      "Error :0.3175363649943539\n",
      "Error :0.29261642931651466\n",
      "Error :0.271615341121671\n",
      "Error :0.2634490359693032\n"
     ]
    },
    {
     "name": "stderr",
     "output_type": "stream",
     "text": [
      "Ranks Progress:  64%|██████▍   | 83/129 [08:51<04:56,  6.44s/rank]"
     ]
    },
    {
     "name": "stdout",
     "output_type": "stream",
     "text": [
      "Error :0.2531631806579159\n",
      "Error :0.683795530222832\n",
      "Error :0.5432522621078918\n",
      "Error :0.44165077873021774\n",
      "Error :0.3732771963757461\n",
      "Error :0.3390388861965329\n",
      "Error :0.3087070650343228\n",
      "Error :0.29333289258112777\n",
      "Error :0.2765124775264659\n",
      "Error :0.25940310531992355\n"
     ]
    },
    {
     "name": "stderr",
     "output_type": "stream",
     "text": [
      "Ranks Progress:  65%|██████▌   | 84/129 [08:58<04:54,  6.54s/rank]"
     ]
    },
    {
     "name": "stdout",
     "output_type": "stream",
     "text": [
      "Error :0.24771052941681662\n",
      "Error :0.6761636233785073\n",
      "Error :0.5278394746050109\n",
      "Error :0.4131921547346709\n",
      "Error :0.38949991022106917\n",
      "Error :0.3434094611840298\n",
      "Error :0.3073359023521174\n",
      "Error :0.29334908169848384\n",
      "Error :0.2797219741022552\n",
      "Error :0.26144679500539586\n"
     ]
    },
    {
     "name": "stderr",
     "output_type": "stream",
     "text": [
      "Ranks Progress:  66%|██████▌   | 85/129 [09:05<04:46,  6.50s/rank]"
     ]
    },
    {
     "name": "stdout",
     "output_type": "stream",
     "text": [
      "Error :0.25025568232696893\n",
      "Error :0.6967321391374709\n",
      "Error :0.5144904381095539\n",
      "Error :0.43032794168500155\n",
      "Error :0.38532207546092423\n",
      "Error :0.3406538217653584\n",
      "Error :0.3176690828598812\n",
      "Error :0.29192620259433755\n",
      "Error :0.27367701805259387\n",
      "Error :0.2559021894940836\n"
     ]
    },
    {
     "name": "stderr",
     "output_type": "stream",
     "text": [
      "Ranks Progress:  67%|██████▋   | 86/129 [09:11<04:39,  6.49s/rank]"
     ]
    },
    {
     "name": "stdout",
     "output_type": "stream",
     "text": [
      "Error :0.2502142611425768\n",
      "Error :0.697327580995821\n",
      "Error :0.5188712000786921\n",
      "Error :0.42413176018010906\n",
      "Error :0.37875865145222665\n",
      "Error :0.3351908144400888\n",
      "Error :0.30831643419711796\n",
      "Error :0.29375902798248893\n",
      "Error :0.2739390900602623\n",
      "Error :0.26037232138111155\n"
     ]
    },
    {
     "name": "stderr",
     "output_type": "stream",
     "text": [
      "Ranks Progress:  67%|██████▋   | 87/129 [09:17<04:32,  6.48s/rank]"
     ]
    },
    {
     "name": "stdout",
     "output_type": "stream",
     "text": [
      "Error :0.24878638181510196\n",
      "Error :0.6617124132922174\n",
      "Error :0.5345621539793683\n",
      "Error :0.4201889601663659\n",
      "Error :0.37612499825693513\n",
      "Error :0.3340011007701576\n",
      "Error :0.3069278021953574\n",
      "Error :0.28932471849560254\n",
      "Error :0.2739046925417251\n",
      "Error :0.25996371185511213\n"
     ]
    },
    {
     "name": "stderr",
     "output_type": "stream",
     "text": [
      "Ranks Progress:  68%|██████▊   | 88/129 [09:24<04:24,  6.44s/rank]"
     ]
    },
    {
     "name": "stdout",
     "output_type": "stream",
     "text": [
      "Error :0.25183078461837677\n",
      "Error :0.6892444465399827\n",
      "Error :0.524737912477715\n",
      "Error :0.4367546994324722\n",
      "Error :0.3870052178222941\n",
      "Error :0.3418463080503317\n",
      "Error :0.31061947321438965\n",
      "Error :0.29160456844075\n",
      "Error :0.2720067121781617\n",
      "Error :0.2605978331385756\n"
     ]
    },
    {
     "name": "stderr",
     "output_type": "stream",
     "text": [
      "Ranks Progress:  69%|██████▉   | 89/129 [09:30<04:18,  6.46s/rank]"
     ]
    },
    {
     "name": "stdout",
     "output_type": "stream",
     "text": [
      "Error :0.24648459770495226\n",
      "Error :0.6693358754700242\n",
      "Error :0.5254995143258366\n",
      "Error :0.4131783743518093\n",
      "Error :0.3721834924163864\n",
      "Error :0.3339056602841836\n",
      "Error :0.3134210589231143\n",
      "Error :0.28797908645129044\n",
      "Error :0.2739495620300427\n",
      "Error :0.25949811901601405\n"
     ]
    },
    {
     "name": "stderr",
     "output_type": "stream",
     "text": [
      "Ranks Progress:  70%|██████▉   | 90/129 [09:37<04:10,  6.43s/rank]"
     ]
    },
    {
     "name": "stdout",
     "output_type": "stream",
     "text": [
      "Error :0.2504269305143069\n",
      "Error :0.715591292112727\n",
      "Error :0.5744913869832874\n",
      "Error :0.43677840769870757\n",
      "Error :0.3849320560872199\n",
      "Error :0.33841040412403633\n",
      "Error :0.3112988736729393\n",
      "Error :0.28618180888088185\n",
      "Error :0.27078036608606965\n",
      "Error :0.25799569388015714\n"
     ]
    },
    {
     "name": "stderr",
     "output_type": "stream",
     "text": [
      "Ranks Progress:  71%|███████   | 91/129 [09:43<04:04,  6.45s/rank]"
     ]
    },
    {
     "name": "stdout",
     "output_type": "stream",
     "text": [
      "Error :0.24727784697474928\n",
      "Error :0.6789541297020616\n",
      "Error :0.5236929133757928\n",
      "Error :0.4377736051739384\n",
      "Error :0.38076282339068435\n",
      "Error :0.33228346030439104\n",
      "Error :0.30719070956693606\n",
      "Error :0.2892942250766434\n",
      "Error :0.27048032409455697\n",
      "Error :0.25518856479724356\n"
     ]
    },
    {
     "name": "stderr",
     "output_type": "stream",
     "text": [
      "Ranks Progress:  71%|███████▏  | 92/129 [09:50<03:58,  6.45s/rank]"
     ]
    },
    {
     "name": "stdout",
     "output_type": "stream",
     "text": [
      "Error :0.24930485886828152\n",
      "Error :0.6799183233804532\n",
      "Error :0.4989709942617707\n",
      "Error :0.4252406349049481\n",
      "Error :0.36794070647838856\n",
      "Error :0.3444294348384908\n",
      "Error :0.3114660495501014\n",
      "Error :0.29396819880759983\n",
      "Error :0.26876797293576143\n",
      "Error :0.25704366623208297\n"
     ]
    },
    {
     "name": "stderr",
     "output_type": "stream",
     "text": [
      "Ranks Progress:  72%|███████▏  | 93/129 [09:56<03:51,  6.44s/rank]"
     ]
    },
    {
     "name": "stdout",
     "output_type": "stream",
     "text": [
      "Error :0.24728451557123618\n",
      "Error :0.7107334939098774\n",
      "Error :0.5138049244262655\n",
      "Error :0.4446415591907252\n",
      "Error :0.3633157827711844\n",
      "Error :0.3300386539425469\n",
      "Error :0.3211087274692473\n",
      "Error :0.28782402905003557\n",
      "Error :0.2766714273450586\n",
      "Error :0.25636424495830273\n"
     ]
    },
    {
     "name": "stderr",
     "output_type": "stream",
     "text": [
      "Ranks Progress:  73%|███████▎  | 94/129 [10:02<03:45,  6.43s/rank]"
     ]
    },
    {
     "name": "stdout",
     "output_type": "stream",
     "text": [
      "Error :0.24890017810734186\n",
      "Error :0.6478130937312264\n",
      "Error :0.495376738283729\n",
      "Error :0.438436876915951\n",
      "Error :0.367996792875314\n",
      "Error :0.33016335965224525\n",
      "Error :0.3128368891964616\n",
      "Error :0.28976577794076985\n",
      "Error :0.2717766666662555\n",
      "Error :0.26300352683401285\n"
     ]
    },
    {
     "name": "stderr",
     "output_type": "stream",
     "text": [
      "Ranks Progress:  74%|███████▎  | 95/129 [10:09<03:39,  6.44s/rank]"
     ]
    },
    {
     "name": "stdout",
     "output_type": "stream",
     "text": [
      "Error :0.24549795699757218\n",
      "Error :0.688940796651326\n",
      "Error :0.5345113826340743\n",
      "Error :0.4299617778190946\n",
      "Error :0.3784725508017522\n",
      "Error :0.33613076825959876\n",
      "Error :0.31890297659635714\n",
      "Error :0.29051253453494114\n",
      "Error :0.27243939201247513\n",
      "Error :0.2592124031686443\n"
     ]
    },
    {
     "name": "stderr",
     "output_type": "stream",
     "text": [
      "Ranks Progress:  74%|███████▍  | 96/129 [10:15<03:33,  6.47s/rank]"
     ]
    },
    {
     "name": "stdout",
     "output_type": "stream",
     "text": [
      "Error :0.2440858798557549\n",
      "Error :0.6636743477944993\n",
      "Error :0.5082690496571385\n",
      "Error :0.43811166728286755\n",
      "Error :0.3658608034604123\n",
      "Error :0.34598835424216967\n",
      "Error :0.31085745674441545\n",
      "Error :0.2900136512148444\n",
      "Error :0.27026188820763236\n",
      "Error :0.2575040972157784\n"
     ]
    },
    {
     "name": "stderr",
     "output_type": "stream",
     "text": [
      "Ranks Progress:  75%|███████▌  | 97/129 [10:22<03:25,  6.43s/rank]"
     ]
    },
    {
     "name": "stdout",
     "output_type": "stream",
     "text": [
      "Error :0.24483577407958393\n",
      "Error :0.6876972489654797\n",
      "Error :0.5333817290243674\n",
      "Error :0.42040064770048763\n",
      "Error :0.3640548070164097\n",
      "Error :0.3373397846489133\n",
      "Error :0.30933889152243177\n",
      "Error :0.2874588257089159\n",
      "Error :0.27205163024344037\n",
      "Error :0.25761644942232814\n"
     ]
    },
    {
     "name": "stderr",
     "output_type": "stream",
     "text": [
      "Ranks Progress:  76%|███████▌  | 98/129 [10:28<03:19,  6.45s/rank]"
     ]
    },
    {
     "name": "stdout",
     "output_type": "stream",
     "text": [
      "Error :0.24535171010724882\n",
      "Error :0.6692020786832722\n",
      "Error :0.5520403488302321\n",
      "Error :0.42602573401769017\n",
      "Error :0.3689816151562068\n",
      "Error :0.34803856379066067\n",
      "Error :0.317629752559796\n",
      "Error :0.29099118860045975\n",
      "Error :0.27409534529829827\n",
      "Error :0.25720434479468113\n"
     ]
    },
    {
     "name": "stderr",
     "output_type": "stream",
     "text": [
      "Ranks Progress:  77%|███████▋  | 99/129 [10:35<03:14,  6.47s/rank]"
     ]
    },
    {
     "name": "stdout",
     "output_type": "stream",
     "text": [
      "Error :0.25186977146429446\n",
      "Error :0.6770975250169877\n",
      "Error :0.5298795546423384\n",
      "Error :0.4188591221343844\n",
      "Error :0.37852415626524777\n",
      "Error :0.338535184794233\n",
      "Error :0.31362189411587965\n",
      "Error :0.2908831457890664\n",
      "Error :0.2707326813991847\n",
      "Error :0.25789266459896093\n"
     ]
    },
    {
     "name": "stderr",
     "output_type": "stream",
     "text": [
      "Ranks Progress:  78%|███████▊  | 100/129 [10:42<03:10,  6.57s/rank]"
     ]
    },
    {
     "name": "stdout",
     "output_type": "stream",
     "text": [
      "Error :0.24365445941392225\n",
      "Error :0.6790774204954995\n",
      "Error :0.5164193674756826\n",
      "Error :0.42154218776312613\n",
      "Error :0.38971662806050944\n",
      "Error :0.3356224818179713\n",
      "Error :0.3060894070799164\n",
      "Error :0.2890009700300753\n",
      "Error :0.2712560397866797\n",
      "Error :0.2568881614803895\n"
     ]
    },
    {
     "name": "stderr",
     "output_type": "stream",
     "text": [
      "Ranks Progress:  78%|███████▊  | 101/129 [10:48<03:02,  6.53s/rank]"
     ]
    },
    {
     "name": "stdout",
     "output_type": "stream",
     "text": [
      "Error :0.24790405992424952\n",
      "Error :0.7159149709244162\n",
      "Error :0.509482539378196\n",
      "Error :0.4549373980613423\n",
      "Error :0.36324372266851634\n",
      "Error :0.3393192612336445\n",
      "Error :0.3134912628258464\n",
      "Error :0.29081064623042335\n",
      "Error :0.27621909759969215\n",
      "Error :0.2586560512465595\n"
     ]
    },
    {
     "name": "stderr",
     "output_type": "stream",
     "text": [
      "Ranks Progress:  79%|███████▉  | 102/129 [10:55<02:56,  6.54s/rank]"
     ]
    },
    {
     "name": "stdout",
     "output_type": "stream",
     "text": [
      "Error :0.24913584745380773\n",
      "Error :0.6920090675152287\n",
      "Error :0.5386958738987615\n",
      "Error :0.42307954471075615\n",
      "Error :0.37499786970302235\n",
      "Error :0.34169318111528063\n",
      "Error :0.31256884331607565\n",
      "Error :0.28925079832556616\n",
      "Error :0.27223189089572025\n",
      "Error :0.25685692920855246\n"
     ]
    },
    {
     "name": "stderr",
     "output_type": "stream",
     "text": [
      "Ranks Progress:  80%|███████▉  | 103/129 [11:01<02:48,  6.50s/rank]"
     ]
    },
    {
     "name": "stdout",
     "output_type": "stream",
     "text": [
      "Error :0.2464611413818319\n",
      "Error :0.6858435252539103\n",
      "Error :0.5070962126962603\n",
      "Error :0.42571098878740904\n",
      "Error :0.37476696141724203\n",
      "Error :0.34800582520055756\n",
      "Error :0.3087337211377816\n",
      "Error :0.29336283297433835\n",
      "Error :0.27638589906312444\n",
      "Error :0.26037116560691775\n"
     ]
    },
    {
     "name": "stderr",
     "output_type": "stream",
     "text": [
      "Ranks Progress:  81%|████████  | 104/129 [11:07<02:41,  6.47s/rank]"
     ]
    },
    {
     "name": "stdout",
     "output_type": "stream",
     "text": [
      "Error :0.24523793033031613\n",
      "Error :0.6751864506759977\n",
      "Error :0.5082328052446539\n",
      "Error :0.4266187076750332\n",
      "Error :0.3713362181085149\n",
      "Error :0.33765600133616486\n",
      "Error :0.31411076790996234\n",
      "Error :0.2949233298828136\n",
      "Error :0.2709150619170081\n",
      "Error :0.2656597071086638\n"
     ]
    },
    {
     "name": "stderr",
     "output_type": "stream",
     "text": [
      "Ranks Progress:  81%|████████▏ | 105/129 [11:14<02:35,  6.48s/rank]"
     ]
    },
    {
     "name": "stdout",
     "output_type": "stream",
     "text": [
      "Error :0.24409333058632174\n",
      "Error :0.7289930419245757\n",
      "Error :0.5075704086648466\n",
      "Error :0.4368788506650006\n",
      "Error :0.37524846245391336\n",
      "Error :0.34616230988210384\n",
      "Error :0.31525145142374766\n",
      "Error :0.29039169804700793\n",
      "Error :0.27369039518072513\n",
      "Error :0.25806495786374023\n"
     ]
    },
    {
     "name": "stderr",
     "output_type": "stream",
     "text": [
      "Ranks Progress:  82%|████████▏ | 106/129 [11:20<02:29,  6.49s/rank]"
     ]
    },
    {
     "name": "stdout",
     "output_type": "stream",
     "text": [
      "Error :0.24496431424801696\n",
      "Error :0.7163175918033409\n",
      "Error :0.5254198801510526\n",
      "Error :0.43499157066647637\n",
      "Error :0.3713705661839095\n",
      "Error :0.34224661376394394\n",
      "Error :0.31212488719062087\n",
      "Error :0.2923255925117783\n",
      "Error :0.27295260248772496\n",
      "Error :0.2589715555638847\n"
     ]
    },
    {
     "name": "stderr",
     "output_type": "stream",
     "text": [
      "Ranks Progress:  83%|████████▎ | 107/129 [11:27<02:22,  6.46s/rank]"
     ]
    },
    {
     "name": "stdout",
     "output_type": "stream",
     "text": [
      "Error :0.24787033148316687\n",
      "Error :0.6793225299218056\n",
      "Error :0.5487346690126726\n",
      "Error :0.43394502088360154\n",
      "Error :0.38418654353101334\n",
      "Error :0.3359655518161072\n",
      "Error :0.306776489009406\n",
      "Error :0.29089421382138\n",
      "Error :0.2745851365613811\n",
      "Error :0.25854097050219504\n"
     ]
    },
    {
     "name": "stderr",
     "output_type": "stream",
     "text": [
      "Ranks Progress:  84%|████████▎ | 108/129 [11:33<02:16,  6.48s/rank]"
     ]
    },
    {
     "name": "stdout",
     "output_type": "stream",
     "text": [
      "Error :0.24463686294494488\n",
      "Error :0.7066596199443244\n",
      "Error :0.5271427602621489\n",
      "Error :0.42827933682930486\n",
      "Error :0.38039796825847505\n",
      "Error :0.34569802562195673\n",
      "Error :0.30597245102737264\n",
      "Error :0.290561324811781\n",
      "Error :0.2741580436068244\n",
      "Error :0.25718709427707437\n"
     ]
    },
    {
     "name": "stderr",
     "output_type": "stream",
     "text": [
      "Ranks Progress:  84%|████████▍ | 109/129 [11:40<02:09,  6.47s/rank]"
     ]
    },
    {
     "name": "stdout",
     "output_type": "stream",
     "text": [
      "Error :0.24324868234038008\n",
      "Error :0.7088206345375125\n",
      "Error :0.522808309410822\n",
      "Error :0.4388260518543158\n",
      "Error :0.3812461794183293\n",
      "Error :0.34466498605507884\n",
      "Error :0.31025841567339635\n",
      "Error :0.29383052277024685\n",
      "Error :0.27357819410216605\n",
      "Error :0.25877595725863184\n"
     ]
    },
    {
     "name": "stderr",
     "output_type": "stream",
     "text": [
      "Ranks Progress:  85%|████████▌ | 110/129 [11:46<02:02,  6.47s/rank]"
     ]
    },
    {
     "name": "stdout",
     "output_type": "stream",
     "text": [
      "Error :0.2443760167137053\n",
      "Error :0.6644894053615515\n",
      "Error :0.5148829874005835\n",
      "Error :0.4572988692573247\n",
      "Error :0.38180687357189247\n",
      "Error :0.35088797059268717\n",
      "Error :0.3148552468740572\n",
      "Error :0.2931205300584176\n",
      "Error :0.2715479959809723\n",
      "Error :0.25789390885061203\n"
     ]
    },
    {
     "name": "stderr",
     "output_type": "stream",
     "text": [
      "Ranks Progress:  86%|████████▌ | 111/129 [11:53<01:56,  6.48s/rank]"
     ]
    },
    {
     "name": "stdout",
     "output_type": "stream",
     "text": [
      "Error :0.24535707617386002\n",
      "Error :0.6884611796800152\n",
      "Error :0.5182860218034545\n",
      "Error :0.4276927730379249\n",
      "Error :0.376732022989988\n",
      "Error :0.3391869117324508\n",
      "Error :0.3154860660704159\n",
      "Error :0.28667324081142775\n",
      "Error :0.27183891519677716\n",
      "Error :0.26083848416690303\n"
     ]
    },
    {
     "name": "stderr",
     "output_type": "stream",
     "text": [
      "Ranks Progress:  87%|████████▋ | 112/129 [11:59<01:50,  6.49s/rank]"
     ]
    },
    {
     "name": "stdout",
     "output_type": "stream",
     "text": [
      "Error :0.24436457317129362\n",
      "Error :0.6938472981170464\n",
      "Error :0.5393749811044836\n",
      "Error :0.45452581511189816\n",
      "Error :0.383041699982057\n",
      "Error :0.33710934219022876\n",
      "Error :0.3124065254572649\n",
      "Error :0.29173135231439656\n",
      "Error :0.2750389336423156\n",
      "Error :0.2597273663995066\n"
     ]
    },
    {
     "name": "stderr",
     "output_type": "stream",
     "text": [
      "Ranks Progress:  88%|████████▊ | 113/129 [12:06<01:43,  6.44s/rank]"
     ]
    },
    {
     "name": "stdout",
     "output_type": "stream",
     "text": [
      "Error :0.2443196013552517\n",
      "Error :0.6900354832676333\n",
      "Error :0.523550533079746\n",
      "Error :0.4366508470845527\n",
      "Error :0.3803315679264499\n",
      "Error :0.34137005788885344\n",
      "Error :0.31369898228613896\n",
      "Error :0.2869882211068215\n",
      "Error :0.27447061686630414\n",
      "Error :0.2578537742946847\n"
     ]
    },
    {
     "name": "stderr",
     "output_type": "stream",
     "text": [
      "Ranks Progress:  88%|████████▊ | 114/129 [12:12<01:36,  6.47s/rank]"
     ]
    },
    {
     "name": "stdout",
     "output_type": "stream",
     "text": [
      "Error :0.24465613000160666\n",
      "Error :0.6781346222129915\n",
      "Error :0.5141874390862264\n",
      "Error :0.43566084320702536\n",
      "Error :0.380108049197792\n",
      "Error :0.336716954520445\n",
      "Error :0.30166727753361017\n",
      "Error :0.29499754887144625\n",
      "Error :0.27691158895820717\n",
      "Error :0.2587598331397778\n"
     ]
    },
    {
     "name": "stderr",
     "output_type": "stream",
     "text": [
      "Ranks Progress:  89%|████████▉ | 115/129 [12:18<01:29,  6.39s/rank]"
     ]
    },
    {
     "name": "stdout",
     "output_type": "stream",
     "text": [
      "Error :0.24735301719423022\n",
      "Error :0.6992026145110829\n",
      "Error :0.5461675746785563\n",
      "Error :0.4281747052052626\n",
      "Error :0.3760003576534086\n",
      "Error :0.34118511088956915\n",
      "Error :0.3104786668740404\n",
      "Error :0.28975307173083764\n",
      "Error :0.2736688394388145\n",
      "Error :0.25751231469210206\n"
     ]
    },
    {
     "name": "stderr",
     "output_type": "stream",
     "text": [
      "Ranks Progress:  90%|████████▉ | 116/129 [12:24<01:19,  6.14s/rank]"
     ]
    },
    {
     "name": "stdout",
     "output_type": "stream",
     "text": [
      "Error :0.2461464658329126\n",
      "Error :0.7004309117619721\n",
      "Error :0.5109619301806163\n",
      "Error :0.43269569169985356\n",
      "Error :0.3674334431950341\n",
      "Error :0.3328357258407279\n",
      "Error :0.30908180933018436\n",
      "Error :0.29037269563823614\n",
      "Error :0.27225305642214764\n",
      "Error :0.2580617198637349\n"
     ]
    },
    {
     "name": "stderr",
     "output_type": "stream",
     "text": [
      "Ranks Progress:  91%|█████████ | 117/129 [12:29<01:11,  5.96s/rank]"
     ]
    },
    {
     "name": "stdout",
     "output_type": "stream",
     "text": [
      "Error :0.24824247773202313\n",
      "Error :0.6445165922434742\n",
      "Error :0.5252468020575343\n",
      "Error :0.4186351598973108\n",
      "Error :0.3650524398863408\n",
      "Error :0.34432165896212513\n",
      "Error :0.31458061035493434\n",
      "Error :0.2959920415999032\n",
      "Error :0.2734255461118782\n",
      "Error :0.2574972331403221\n"
     ]
    },
    {
     "name": "stderr",
     "output_type": "stream",
     "text": [
      "Ranks Progress:  91%|█████████▏| 118/129 [12:36<01:07,  6.15s/rank]"
     ]
    },
    {
     "name": "stdout",
     "output_type": "stream",
     "text": [
      "Error :0.24751960277328414\n",
      "Error :0.7011921419921666\n",
      "Error :0.5206337304462907\n",
      "Error :0.4414295945390035\n",
      "Error :0.3785948544114095\n",
      "Error :0.33692719981769814\n",
      "Error :0.3077553582685834\n",
      "Error :0.2961474795390867\n",
      "Error :0.272207351399497\n",
      "Error :0.26141442065346376\n"
     ]
    },
    {
     "name": "stderr",
     "output_type": "stream",
     "text": [
      "Ranks Progress:  92%|█████████▏| 119/129 [12:42<01:02,  6.24s/rank]"
     ]
    },
    {
     "name": "stdout",
     "output_type": "stream",
     "text": [
      "Error :0.24592601023223118\n",
      "Error :0.7227829817308387\n",
      "Error :0.5106636067713438\n",
      "Error :0.4343674395438792\n",
      "Error :0.37773949603138496\n",
      "Error :0.33670042808679923\n",
      "Error :0.31325363820302016\n",
      "Error :0.29120656715310983\n",
      "Error :0.2706848573828984\n",
      "Error :0.2606758826462499\n"
     ]
    },
    {
     "name": "stderr",
     "output_type": "stream",
     "text": [
      "Ranks Progress:  93%|█████████▎| 120/129 [12:49<00:56,  6.32s/rank]"
     ]
    },
    {
     "name": "stdout",
     "output_type": "stream",
     "text": [
      "Error :0.24374276810390058\n",
      "Error :0.6918169103704523\n",
      "Error :0.5420339362549302\n",
      "Error :0.4218638531016979\n",
      "Error :0.3755821041545987\n",
      "Error :0.332655154000155\n",
      "Error :0.30469532292461676\n",
      "Error :0.2921800389768836\n",
      "Error :0.27412889910605664\n",
      "Error :0.2572488928665947\n"
     ]
    },
    {
     "name": "stderr",
     "output_type": "stream",
     "text": [
      "Ranks Progress:  94%|█████████▍| 121/129 [12:56<00:51,  6.43s/rank]"
     ]
    },
    {
     "name": "stdout",
     "output_type": "stream",
     "text": [
      "Error :0.2469167433245445\n",
      "Error :0.6818917173821203\n",
      "Error :0.5370728850423808\n",
      "Error :0.4331236623930401\n",
      "Error :0.36954340061648916\n",
      "Error :0.34537959976121585\n",
      "Error :0.3069133790074059\n",
      "Error :0.2926134740424704\n",
      "Error :0.2749651537275678\n",
      "Error :0.2573166027243272\n"
     ]
    },
    {
     "name": "stderr",
     "output_type": "stream",
     "text": [
      "Ranks Progress:  95%|█████████▍| 122/129 [13:02<00:45,  6.48s/rank]"
     ]
    },
    {
     "name": "stdout",
     "output_type": "stream",
     "text": [
      "Error :0.2469720436281892\n",
      "Error :0.7320692128692063\n",
      "Error :0.51163720321665\n",
      "Error :0.4300252843007415\n",
      "Error :0.39155624939196687\n",
      "Error :0.3394106562778416\n",
      "Error :0.3126909761829726\n",
      "Error :0.29387635862366684\n",
      "Error :0.2717478177884715\n",
      "Error :0.25691540403832375\n"
     ]
    },
    {
     "name": "stderr",
     "output_type": "stream",
     "text": [
      "Ranks Progress:  95%|█████████▌| 123/129 [13:09<00:38,  6.49s/rank]"
     ]
    },
    {
     "name": "stdout",
     "output_type": "stream",
     "text": [
      "Error :0.2450793903877514\n",
      "Error :0.714915955897815\n",
      "Error :0.5219453161280422\n",
      "Error :0.412567391425746\n",
      "Error :0.36900265319580117\n",
      "Error :0.33940188241092206\n",
      "Error :0.3127587241028728\n",
      "Error :0.2894129854661072\n",
      "Error :0.2721828772819495\n",
      "Error :0.2614144287300146\n"
     ]
    },
    {
     "name": "stderr",
     "output_type": "stream",
     "text": [
      "Ranks Progress:  96%|█████████▌| 124/129 [13:15<00:32,  6.48s/rank]"
     ]
    },
    {
     "name": "stdout",
     "output_type": "stream",
     "text": [
      "Error :0.2440193603857177\n",
      "Error :0.7230326636427572\n",
      "Error :0.5355979671278797\n",
      "Error :0.4365555061750562\n",
      "Error :0.36686568588186247\n",
      "Error :0.34139640523945464\n",
      "Error :0.31648054154927413\n",
      "Error :0.2894521425255434\n",
      "Error :0.27293295843745163\n",
      "Error :0.2610365299011319\n"
     ]
    },
    {
     "name": "stderr",
     "output_type": "stream",
     "text": [
      "Ranks Progress:  97%|█████████▋| 125/129 [13:22<00:25,  6.50s/rank]"
     ]
    },
    {
     "name": "stdout",
     "output_type": "stream",
     "text": [
      "Error :0.24816284440219638\n",
      "Error :0.6905286745989575\n",
      "Error :0.5610045161252568\n",
      "Error :0.44544775723775104\n",
      "Error :0.3710973459917542\n",
      "Error :0.34446205671355046\n",
      "Error :0.3127864150621519\n",
      "Error :0.2903576175896909\n",
      "Error :0.27060506003291485\n",
      "Error :0.25920615648886086\n"
     ]
    },
    {
     "name": "stderr",
     "output_type": "stream",
     "text": [
      "Ranks Progress:  98%|█████████▊| 126/129 [13:28<00:19,  6.43s/rank]"
     ]
    },
    {
     "name": "stdout",
     "output_type": "stream",
     "text": [
      "Error :0.244590562535401\n",
      "Error :0.6581331765978133\n",
      "Error :0.5466098359431704\n",
      "Error :0.43997040265084975\n",
      "Error :0.36679972016797363\n",
      "Error :0.3410131482658905\n",
      "Error :0.3146607504032855\n",
      "Error :0.28619371950858785\n",
      "Error :0.2733786336148383\n",
      "Error :0.257186972311124\n"
     ]
    },
    {
     "name": "stderr",
     "output_type": "stream",
     "text": [
      "Ranks Progress:  98%|█████████▊| 127/129 [13:35<00:12,  6.46s/rank]"
     ]
    },
    {
     "name": "stdout",
     "output_type": "stream",
     "text": [
      "Error :0.24614465139385686\n",
      "Error :0.6747669085689657\n",
      "Error :0.5161524245982636\n",
      "Error :0.4261223851594924\n",
      "Error :0.36931544771924096\n",
      "Error :0.3418435049524618\n",
      "Error :0.3148348841156274\n",
      "Error :0.2895547173475489\n",
      "Error :0.27824093308771125\n",
      "Error :0.2581474026761341\n"
     ]
    },
    {
     "name": "stderr",
     "output_type": "stream",
     "text": [
      "Ranks Progress:  99%|█████████▉| 128/129 [13:40<00:06,  6.24s/rank]"
     ]
    },
    {
     "name": "stdout",
     "output_type": "stream",
     "text": [
      "Error :0.24619464044160919\n",
      "Error :0.7122828580427869\n",
      "Error :0.5630334868065253\n",
      "Error :0.4459269651348106\n",
      "Error :0.3901434591965976\n",
      "Error :0.3416379342466799\n",
      "Error :0.314695576613568\n",
      "Error :0.2936365901467728\n",
      "Error :0.271991786528246\n",
      "Error :0.2570710718482284\n"
     ]
    },
    {
     "name": "stderr",
     "output_type": "stream",
     "text": [
      "Ranks Progress: 100%|██████████| 129/129 [13:46<00:00,  6.40s/rank]"
     ]
    },
    {
     "name": "stdout",
     "output_type": "stream",
     "text": [
      "Error :0.24450886564889032\n"
     ]
    },
    {
     "name": "stderr",
     "output_type": "stream",
     "text": [
      "\n"
     ]
    },
    {
     "name": "stdout",
     "output_type": "stream",
     "text": [
      "Results successfully saved to Section_2_test_1_for_loadMatrixA_1.xlsx.\n"
     ]
    }
   ],
   "source": [
    "collect_low_rank_errors(loadMatrix_A_1)"
   ]
  },
  {
   "cell_type": "code",
   "execution_count": 26,
   "metadata": {},
   "outputs": [
    {
     "name": "stderr",
     "output_type": "stream",
     "text": [
      "Ranks Progress:   0%|          | 0/129 [00:00<?, ?rank/s]"
     ]
    },
    {
     "name": "stdout",
     "output_type": "stream",
     "text": [
      "Error :1.0\n",
      "Error :1.0\n",
      "Error :1.0\n",
      "Error :1.0\n",
      "Error :1.0\n",
      "Error :1.0\n",
      "Error :1.0\n",
      "Error :1.0\n",
      "Error :1.0\n"
     ]
    },
    {
     "name": "stderr",
     "output_type": "stream",
     "text": [
      "Ranks Progress:   1%|          | 1/129 [00:05<12:32,  5.88s/rank]"
     ]
    },
    {
     "name": "stdout",
     "output_type": "stream",
     "text": [
      "Error :1.0\n",
      "Error :0.9504192649843474\n",
      "Error :0.9440374499488048\n",
      "Error :0.9427072264467282\n",
      "Error :0.9416234434056384\n",
      "Error :0.9417250929357813\n",
      "Error :0.941264925379735\n",
      "Error :0.9408831422630048\n",
      "Error :0.9410011178258328\n",
      "Error :0.9407829339613573\n"
     ]
    },
    {
     "name": "stderr",
     "output_type": "stream",
     "text": [
      "Ranks Progress:   2%|▏         | 2/129 [00:12<13:20,  6.30s/rank]"
     ]
    },
    {
     "name": "stdout",
     "output_type": "stream",
     "text": [
      "Error :0.9404430762899549\n",
      "Error :0.8996458234718834\n",
      "Error :0.8903659479466018\n",
      "Error :0.8854952424374849\n",
      "Error :0.8861669258834713\n",
      "Error :0.8839231034715307\n",
      "Error :0.8826284870759408\n",
      "Error :0.8825809002309085\n",
      "Error :0.8823522617392937\n",
      "Error :0.8815897773287893\n"
     ]
    },
    {
     "name": "stderr",
     "output_type": "stream",
     "text": [
      "Ranks Progress:   2%|▏         | 3/129 [00:18<13:11,  6.28s/rank]"
     ]
    },
    {
     "name": "stdout",
     "output_type": "stream",
     "text": [
      "Error :0.8811866430586165\n",
      "Error :0.8571407402036122\n",
      "Error :0.835126298936707\n",
      "Error :0.8338795311234533\n",
      "Error :0.8292294286491773\n",
      "Error :0.8262452849241884\n",
      "Error :0.8258307617824253\n",
      "Error :0.8242956582920115\n",
      "Error :0.8235431290420053\n",
      "Error :0.8226435872590475\n"
     ]
    },
    {
     "name": "stderr",
     "output_type": "stream",
     "text": [
      "Ranks Progress:   3%|▎         | 4/129 [00:25<13:08,  6.31s/rank]"
     ]
    },
    {
     "name": "stdout",
     "output_type": "stream",
     "text": [
      "Error :0.8219882980158545\n",
      "Error :0.8269909948336935\n",
      "Error :0.7903121760220168\n",
      "Error :0.7799846749183659\n",
      "Error :0.77567938190587\n",
      "Error :0.7695912691082795\n",
      "Error :0.7675488405058397\n",
      "Error :0.76753636178782\n",
      "Error :0.7651191309125313\n",
      "Error :0.7644625787167194\n"
     ]
    },
    {
     "name": "stderr",
     "output_type": "stream",
     "text": [
      "Ranks Progress:   4%|▍         | 5/129 [00:31<12:51,  6.23s/rank]"
     ]
    },
    {
     "name": "stdout",
     "output_type": "stream",
     "text": [
      "Error :0.7626606962291602\n",
      "Error :0.7698997036077836\n",
      "Error :0.7422831993003024\n",
      "Error :0.7299187722505637\n",
      "Error :0.7198294506429304\n",
      "Error :0.7158901701145793\n",
      "Error :0.7111948429291415\n",
      "Error :0.708882229810097\n",
      "Error :0.7071863278312847\n",
      "Error :0.7054947976266175\n"
     ]
    },
    {
     "name": "stderr",
     "output_type": "stream",
     "text": [
      "Ranks Progress:   5%|▍         | 6/129 [00:37<12:54,  6.30s/rank]"
     ]
    },
    {
     "name": "stdout",
     "output_type": "stream",
     "text": [
      "Error :0.7049200140809346\n",
      "Error :0.72056031432531\n",
      "Error :0.6960854739925334\n",
      "Error :0.6722913198795061\n",
      "Error :0.6634610782057171\n",
      "Error :0.6586529801266008\n",
      "Error :0.6566944217236882\n",
      "Error :0.6532070272276511\n",
      "Error :0.6507086696702662\n",
      "Error :0.6470215645902639\n"
     ]
    },
    {
     "name": "stderr",
     "output_type": "stream",
     "text": [
      "Ranks Progress:   5%|▌         | 7/129 [00:43<12:46,  6.28s/rank]"
     ]
    },
    {
     "name": "stdout",
     "output_type": "stream",
     "text": [
      "Error :0.646492353933788\n",
      "Error :0.7339266098799114\n",
      "Error :0.6516552538981928\n",
      "Error :0.6331999298756774\n",
      "Error :0.6137872308856299\n",
      "Error :0.6052684208983341\n",
      "Error :0.5995251909319242\n",
      "Error :0.5954530463224411\n",
      "Error :0.5948383816885884\n",
      "Error :0.5921403614974438\n"
     ]
    },
    {
     "name": "stderr",
     "output_type": "stream",
     "text": [
      "Ranks Progress:   6%|▌         | 8/129 [00:49<12:26,  6.17s/rank]"
     ]
    },
    {
     "name": "stdout",
     "output_type": "stream",
     "text": [
      "Error :0.5879050000470749\n",
      "Error :0.7170164727764958\n",
      "Error :0.6398883556790165\n",
      "Error :0.5835650702807937\n",
      "Error :0.5653086244436593\n",
      "Error :0.5526306072130727\n",
      "Error :0.5403762336894083\n",
      "Error :0.5396618529746459\n",
      "Error :0.5359183783462749\n",
      "Error :0.5336234307646927\n"
     ]
    },
    {
     "name": "stderr",
     "output_type": "stream",
     "text": [
      "Ranks Progress:   7%|▋         | 9/129 [00:55<12:09,  6.08s/rank]"
     ]
    },
    {
     "name": "stdout",
     "output_type": "stream",
     "text": [
      "Error :0.5313764606458526\n",
      "Error :0.6932407057744983\n",
      "Error :0.5908620567574945\n",
      "Error :0.5527160661375712\n",
      "Error :0.5118150515637225\n",
      "Error :0.4974258414413697\n",
      "Error :0.49398004738846735\n",
      "Error :0.4868617406328081\n",
      "Error :0.478512150233291\n",
      "Error :0.4747433280511874\n"
     ]
    },
    {
     "name": "stderr",
     "output_type": "stream",
     "text": [
      "Ranks Progress:   8%|▊         | 10/129 [01:01<12:07,  6.11s/rank]"
     ]
    },
    {
     "name": "stdout",
     "output_type": "stream",
     "text": [
      "Error :0.4724757538969812\n",
      "Error :0.6805744206435512\n",
      "Error :0.5619239758634219\n",
      "Error :0.4895563756932348\n",
      "Error :0.47750797455243593\n",
      "Error :0.45266827756646066\n",
      "Error :0.44069413420242576\n",
      "Error :0.4328105321923172\n",
      "Error :0.42548175807960753\n",
      "Error :0.4184656583922068\n"
     ]
    },
    {
     "name": "stderr",
     "output_type": "stream",
     "text": [
      "Ranks Progress:   9%|▊         | 11/129 [01:07<12:01,  6.12s/rank]"
     ]
    },
    {
     "name": "stdout",
     "output_type": "stream",
     "text": [
      "Error :0.4180457327370715\n",
      "Error :0.704034303017373\n",
      "Error :0.5549836533608774\n",
      "Error :0.49262690993193275\n",
      "Error :0.451761490555007\n",
      "Error :0.43281765333924915\n",
      "Error :0.4184427343551945\n",
      "Error :0.3983639663453185\n",
      "Error :0.3935554134579049\n",
      "Error :0.39212037599571564\n"
     ]
    },
    {
     "name": "stderr",
     "output_type": "stream",
     "text": [
      "Ranks Progress:   9%|▉         | 12/129 [01:13<11:52,  6.09s/rank]"
     ]
    },
    {
     "name": "stdout",
     "output_type": "stream",
     "text": [
      "Error :0.3927574397479206\n",
      "Error :0.7084071596529093\n",
      "Error :0.5606865699055495\n",
      "Error :0.4815126591248041\n",
      "Error :0.4224284061640076\n",
      "Error :0.4105749339354365\n",
      "Error :0.40256282842398416\n",
      "Error :0.3858680537978529\n",
      "Error :0.3807845901724704\n",
      "Error :0.3735906826112373\n"
     ]
    },
    {
     "name": "stderr",
     "output_type": "stream",
     "text": [
      "Ranks Progress:  10%|█         | 13/129 [01:19<11:38,  6.03s/rank]"
     ]
    },
    {
     "name": "stdout",
     "output_type": "stream",
     "text": [
      "Error :0.370396031687502\n",
      "Error :0.6952852000554718\n",
      "Error :0.5413057330023051\n",
      "Error :0.45169070978922443\n",
      "Error :0.42648760682668463\n",
      "Error :0.40594305997441077\n",
      "Error :0.38680817863071615\n",
      "Error :0.3780456758074655\n",
      "Error :0.3721070443603877\n",
      "Error :0.36636200040865113\n"
     ]
    },
    {
     "name": "stderr",
     "output_type": "stream",
     "text": [
      "Ranks Progress:  11%|█         | 14/129 [01:25<11:30,  6.00s/rank]"
     ]
    },
    {
     "name": "stdout",
     "output_type": "stream",
     "text": [
      "Error :0.35946915832367504\n",
      "Error :0.7133291344058675\n",
      "Error :0.5432725303818023\n",
      "Error :0.45891794746096565\n",
      "Error :0.40927203039899146\n",
      "Error :0.3971349651381749\n",
      "Error :0.37452112439235535\n",
      "Error :0.3642014983982898\n",
      "Error :0.3621638123466518\n",
      "Error :0.35059071473052034\n"
     ]
    },
    {
     "name": "stderr",
     "output_type": "stream",
     "text": [
      "Ranks Progress:  12%|█▏        | 15/129 [01:31<11:19,  5.96s/rank]"
     ]
    },
    {
     "name": "stdout",
     "output_type": "stream",
     "text": [
      "Error :0.35070917870710183\n",
      "Error :0.6861826436089721\n",
      "Error :0.5372907948199723\n",
      "Error :0.44667009032680577\n",
      "Error :0.4129127317188754\n",
      "Error :0.3842613685815176\n",
      "Error :0.3716357439285727\n",
      "Error :0.3593109066795644\n",
      "Error :0.3485888293444432\n",
      "Error :0.34452594382463225\n"
     ]
    },
    {
     "name": "stderr",
     "output_type": "stream",
     "text": [
      "Ranks Progress:  12%|█▏        | 16/129 [01:37<11:11,  5.94s/rank]"
     ]
    },
    {
     "name": "stdout",
     "output_type": "stream",
     "text": [
      "Error :0.3375186241880647\n",
      "Error :0.7013653115505992\n",
      "Error :0.5270916398473083\n",
      "Error :0.4490168119389387\n",
      "Error :0.416220688865915\n",
      "Error :0.3862745867346047\n",
      "Error :0.3627924308557056\n",
      "Error :0.35498025292157537\n",
      "Error :0.3404136701721559\n",
      "Error :0.337547762425835\n"
     ]
    },
    {
     "name": "stderr",
     "output_type": "stream",
     "text": [
      "Ranks Progress:  13%|█▎        | 17/129 [01:43<11:05,  5.94s/rank]"
     ]
    },
    {
     "name": "stdout",
     "output_type": "stream",
     "text": [
      "Error :0.3319988172406903\n",
      "Error :0.6887188961598087\n",
      "Error :0.5263585128688224\n",
      "Error :0.44668256931920186\n",
      "Error :0.4014361656009798\n",
      "Error :0.3823297065452337\n",
      "Error :0.3582529775544271\n",
      "Error :0.348592634582386\n",
      "Error :0.33908274411362066\n",
      "Error :0.33370945258639084\n"
     ]
    },
    {
     "name": "stderr",
     "output_type": "stream",
     "text": [
      "Ranks Progress:  14%|█▍        | 18/129 [01:49<11:01,  5.96s/rank]"
     ]
    },
    {
     "name": "stdout",
     "output_type": "stream",
     "text": [
      "Error :0.3266195395652839\n",
      "Error :0.6949395857680241\n",
      "Error :0.5394426245467057\n",
      "Error :0.45999622217336805\n",
      "Error :0.3972799548660423\n",
      "Error :0.3790435322241762\n",
      "Error :0.3578778408840899\n",
      "Error :0.34163563179137624\n",
      "Error :0.33652823360499234\n",
      "Error :0.3253303028782694\n"
     ]
    },
    {
     "name": "stderr",
     "output_type": "stream",
     "text": [
      "Ranks Progress:  15%|█▍        | 19/129 [01:55<10:52,  5.93s/rank]"
     ]
    },
    {
     "name": "stdout",
     "output_type": "stream",
     "text": [
      "Error :0.319846961345879\n",
      "Error :0.6720797286318495\n",
      "Error :0.5122715458859833\n",
      "Error :0.437637048778547\n",
      "Error :0.39922270535635224\n",
      "Error :0.3706589393050752\n",
      "Error :0.3479920150481724\n",
      "Error :0.33816961679452623\n",
      "Error :0.3303116047575145\n",
      "Error :0.3282113579000119\n"
     ]
    },
    {
     "name": "stderr",
     "output_type": "stream",
     "text": [
      "Ranks Progress:  16%|█▌        | 20/129 [02:01<10:51,  5.98s/rank]"
     ]
    },
    {
     "name": "stdout",
     "output_type": "stream",
     "text": [
      "Error :0.31614584580838645\n",
      "Error :0.7005066191975378\n",
      "Error :0.5329405084244243\n",
      "Error :0.4333808906963328\n",
      "Error :0.3999463927745765\n",
      "Error :0.37086937823173627\n",
      "Error :0.3553576089604053\n",
      "Error :0.33252263441540486\n",
      "Error :0.3303265902650537\n",
      "Error :0.31909923260995765\n"
     ]
    },
    {
     "name": "stderr",
     "output_type": "stream",
     "text": [
      "Ranks Progress:  16%|█▋        | 21/129 [02:07<10:55,  6.07s/rank]"
     ]
    },
    {
     "name": "stdout",
     "output_type": "stream",
     "text": [
      "Error :0.3112310881042759\n",
      "Error :0.7156713811504789\n",
      "Error :0.5844218521440794\n",
      "Error :0.432006663370444\n",
      "Error :0.4002121935347668\n",
      "Error :0.3609427837539762\n",
      "Error :0.35084796197287693\n",
      "Error :0.33672736584053886\n",
      "Error :0.32144472067380314\n",
      "Error :0.31402826484147484\n"
     ]
    },
    {
     "name": "stderr",
     "output_type": "stream",
     "text": [
      "Ranks Progress:  17%|█▋        | 22/129 [02:14<11:12,  6.28s/rank]"
     ]
    },
    {
     "name": "stdout",
     "output_type": "stream",
     "text": [
      "Error :0.30851375825007493\n",
      "Error :0.7050169593892409\n",
      "Error :0.5097386530675209\n",
      "Error :0.4397951647520483\n",
      "Error :0.3882923805113767\n",
      "Error :0.3671381319643114\n",
      "Error :0.3491487560390616\n",
      "Error :0.3329707873005373\n",
      "Error :0.3195826098343636\n",
      "Error :0.3152899523315569\n"
     ]
    },
    {
     "name": "stderr",
     "output_type": "stream",
     "text": [
      "Ranks Progress:  18%|█▊        | 23/129 [02:21<11:31,  6.52s/rank]"
     ]
    },
    {
     "name": "stdout",
     "output_type": "stream",
     "text": [
      "Error :0.308001054532112\n",
      "Error :0.7045711873695417\n",
      "Error :0.5434284035731156\n",
      "Error :0.44703656930073454\n",
      "Error :0.3879365460925232\n",
      "Error :0.3633358100538251\n",
      "Error :0.3392588435310698\n",
      "Error :0.3249384733662754\n",
      "Error :0.3182339699955421\n",
      "Error :0.3085893051763206\n"
     ]
    },
    {
     "name": "stderr",
     "output_type": "stream",
     "text": [
      "Ranks Progress:  19%|█▊        | 24/129 [02:28<11:42,  6.69s/rank]"
     ]
    },
    {
     "name": "stdout",
     "output_type": "stream",
     "text": [
      "Error :0.30095515015528207\n",
      "Error :0.7022131066403641\n",
      "Error :0.5129008666098327\n",
      "Error :0.42175745602212583\n",
      "Error :0.3905094995306442\n",
      "Error :0.3650264896883841\n",
      "Error :0.3353863781951234\n",
      "Error :0.3272658867714051\n",
      "Error :0.32297818208837736\n",
      "Error :0.30545761111521386\n"
     ]
    },
    {
     "name": "stderr",
     "output_type": "stream",
     "text": [
      "Ranks Progress:  19%|█▉        | 25/129 [02:35<11:27,  6.61s/rank]"
     ]
    },
    {
     "name": "stdout",
     "output_type": "stream",
     "text": [
      "Error :0.30072347453622716\n",
      "Error :0.7111476347397567\n",
      "Error :0.5070658879446244\n",
      "Error :0.4394300074611128\n",
      "Error :0.3845160578689296\n",
      "Error :0.3520696908032302\n",
      "Error :0.33689302793738635\n",
      "Error :0.3234088764325403\n",
      "Error :0.31356288860119663\n",
      "Error :0.3070099611895875\n"
     ]
    },
    {
     "name": "stderr",
     "output_type": "stream",
     "text": [
      "Ranks Progress:  20%|██        | 26/129 [02:41<11:12,  6.53s/rank]"
     ]
    },
    {
     "name": "stdout",
     "output_type": "stream",
     "text": [
      "Error :0.29607154338146746\n",
      "Error :0.68900851864503\n",
      "Error :0.5218567887086735\n",
      "Error :0.4236680215255165\n",
      "Error :0.3893583750450124\n",
      "Error :0.35196824946109756\n",
      "Error :0.33780287570941264\n",
      "Error :0.3196887112784679\n",
      "Error :0.3082868671861708\n",
      "Error :0.2999257921960667\n"
     ]
    },
    {
     "name": "stderr",
     "output_type": "stream",
     "text": [
      "Ranks Progress:  21%|██        | 27/129 [02:47<10:54,  6.42s/rank]"
     ]
    },
    {
     "name": "stdout",
     "output_type": "stream",
     "text": [
      "Error :0.29527992323687685\n",
      "Error :0.6939979917083272\n",
      "Error :0.5104240892219538\n",
      "Error :0.4289534369871344\n",
      "Error :0.38553003140509556\n",
      "Error :0.3621609226792967\n",
      "Error :0.3293795068651794\n",
      "Error :0.3205099506938752\n",
      "Error :0.3059638708754362\n",
      "Error :0.3029687062745333\n"
     ]
    },
    {
     "name": "stderr",
     "output_type": "stream",
     "text": [
      "Ranks Progress:  22%|██▏       | 28/129 [02:53<10:36,  6.30s/rank]"
     ]
    },
    {
     "name": "stdout",
     "output_type": "stream",
     "text": [
      "Error :0.29229523380067657\n",
      "Error :0.7078768539031883\n",
      "Error :0.5271175777484424\n",
      "Error :0.45020712379072236\n",
      "Error :0.3900537746508349\n",
      "Error :0.3568633156750434\n",
      "Error :0.3304071572478405\n",
      "Error :0.3193093697940044\n",
      "Error :0.3095971197561083\n",
      "Error :0.29604607474937744\n"
     ]
    },
    {
     "name": "stderr",
     "output_type": "stream",
     "text": [
      "Ranks Progress:  22%|██▏       | 29/129 [02:59<10:29,  6.29s/rank]"
     ]
    },
    {
     "name": "stdout",
     "output_type": "stream",
     "text": [
      "Error :0.2926477943137274\n",
      "Error :0.6727826002333188\n",
      "Error :0.5356690460752487\n",
      "Error :0.4236057034752058\n",
      "Error :0.39302386895117536\n",
      "Error :0.3640086084648102\n",
      "Error :0.32627614749568024\n",
      "Error :0.3156271860067854\n",
      "Error :0.30431328553537973\n",
      "Error :0.2945869891526402\n"
     ]
    },
    {
     "name": "stderr",
     "output_type": "stream",
     "text": [
      "Ranks Progress:  23%|██▎       | 30/129 [03:05<10:13,  6.20s/rank]"
     ]
    },
    {
     "name": "stdout",
     "output_type": "stream",
     "text": [
      "Error :0.2888743522399164\n",
      "Error :0.6820278360896216\n",
      "Error :0.5173052266076292\n",
      "Error :0.42666302560857566\n",
      "Error :0.38865238761798704\n",
      "Error :0.3448760110844924\n",
      "Error :0.33413404122849927\n",
      "Error :0.31447878266159146\n",
      "Error :0.30562402551069584\n",
      "Error :0.29475882596395486\n"
     ]
    },
    {
     "name": "stderr",
     "output_type": "stream",
     "text": [
      "Ranks Progress:  24%|██▍       | 31/129 [03:11<09:56,  6.09s/rank]"
     ]
    },
    {
     "name": "stdout",
     "output_type": "stream",
     "text": [
      "Error :0.28493526663276136\n",
      "Error :0.6807623411263414\n",
      "Error :0.5322005696461737\n",
      "Error :0.4511879598590489\n",
      "Error :0.3945057437254037\n",
      "Error :0.3571593158864302\n",
      "Error :0.33263051168936053\n",
      "Error :0.3153247134810936\n",
      "Error :0.3016538409868562\n",
      "Error :0.2916339464607654\n"
     ]
    },
    {
     "name": "stderr",
     "output_type": "stream",
     "text": [
      "Ranks Progress:  25%|██▍       | 32/129 [03:17<09:49,  6.07s/rank]"
     ]
    },
    {
     "name": "stdout",
     "output_type": "stream",
     "text": [
      "Error :0.28197697154494533\n",
      "Error :0.6802274235491267\n",
      "Error :0.5110212654253671\n",
      "Error :0.42795910127997694\n",
      "Error :0.38050989034283306\n",
      "Error :0.3432527901064037\n",
      "Error :0.32823760745708963\n",
      "Error :0.31248514358797363\n",
      "Error :0.2999691641945336\n",
      "Error :0.29076089425717616\n"
     ]
    },
    {
     "name": "stderr",
     "output_type": "stream",
     "text": [
      "Ranks Progress:  26%|██▌       | 33/129 [03:23<09:41,  6.05s/rank]"
     ]
    },
    {
     "name": "stdout",
     "output_type": "stream",
     "text": [
      "Error :0.2841521164785686\n",
      "Error :0.6836442740640384\n",
      "Error :0.5094390850424458\n",
      "Error :0.413944459995094\n",
      "Error :0.3769657554270748\n",
      "Error :0.3461642607525706\n",
      "Error :0.32702932844195143\n",
      "Error :0.30801114252710726\n",
      "Error :0.2995537117891263\n",
      "Error :0.29172985586772643\n"
     ]
    },
    {
     "name": "stderr",
     "output_type": "stream",
     "text": [
      "Ranks Progress:  26%|██▋       | 34/129 [03:30<09:40,  6.11s/rank]"
     ]
    },
    {
     "name": "stdout",
     "output_type": "stream",
     "text": [
      "Error :0.2836614584508517\n",
      "Error :0.6926067082753278\n",
      "Error :0.49027984484881065\n",
      "Error :0.430866404438219\n",
      "Error :0.36810184751955966\n",
      "Error :0.34027405499394975\n",
      "Error :0.3258378981344603\n",
      "Error :0.3102156861562054\n",
      "Error :0.2964610327848228\n",
      "Error :0.2902923215884106\n"
     ]
    },
    {
     "name": "stderr",
     "output_type": "stream",
     "text": [
      "Ranks Progress:  27%|██▋       | 35/129 [03:36<09:33,  6.11s/rank]"
     ]
    },
    {
     "name": "stdout",
     "output_type": "stream",
     "text": [
      "Error :0.28357204460471963\n",
      "Error :0.6953106476883631\n",
      "Error :0.4809874381128052\n",
      "Error :0.4422409190092147\n",
      "Error :0.3763415738451567\n",
      "Error :0.3438198621587779\n",
      "Error :0.3192563088321358\n",
      "Error :0.3094712613749196\n",
      "Error :0.29956861807268415\n",
      "Error :0.2901731601770791\n"
     ]
    },
    {
     "name": "stderr",
     "output_type": "stream",
     "text": [
      "Ranks Progress:  28%|██▊       | 36/129 [03:42<09:22,  6.05s/rank]"
     ]
    },
    {
     "name": "stdout",
     "output_type": "stream",
     "text": [
      "Error :0.27795834196831654\n",
      "Error :0.6864635576450708\n",
      "Error :0.5288446085464746\n",
      "Error :0.4272794738625881\n",
      "Error :0.3824631468730256\n",
      "Error :0.337365356344294\n",
      "Error :0.3184116726868206\n",
      "Error :0.3068522811899179\n",
      "Error :0.2937835030701741\n",
      "Error :0.2864826004856482\n"
     ]
    },
    {
     "name": "stderr",
     "output_type": "stream",
     "text": [
      "Ranks Progress:  29%|██▊       | 37/129 [03:48<09:22,  6.12s/rank]"
     ]
    },
    {
     "name": "stdout",
     "output_type": "stream",
     "text": [
      "Error :0.2803199097915447\n",
      "Error :0.7079481216223368\n",
      "Error :0.507909345913561\n",
      "Error :0.4384438547545912\n",
      "Error :0.36803539328496226\n",
      "Error :0.34338439853479213\n",
      "Error :0.3211514170503247\n",
      "Error :0.30637878146263076\n",
      "Error :0.29494012432226496\n",
      "Error :0.28605637214902013\n"
     ]
    },
    {
     "name": "stderr",
     "output_type": "stream",
     "text": [
      "Ranks Progress:  29%|██▉       | 38/129 [03:54<09:10,  6.05s/rank]"
     ]
    },
    {
     "name": "stdout",
     "output_type": "stream",
     "text": [
      "Error :0.2760346047559293\n",
      "Error :0.7058839495745286\n",
      "Error :0.5242866680476311\n",
      "Error :0.43200839964193427\n",
      "Error :0.38401587967862916\n",
      "Error :0.3538669099987543\n",
      "Error :0.3220414174135757\n",
      "Error :0.308286803210048\n",
      "Error :0.2906570949342849\n",
      "Error :0.28072940685621844\n"
     ]
    },
    {
     "name": "stderr",
     "output_type": "stream",
     "text": [
      "Ranks Progress:  30%|███       | 39/129 [04:01<09:26,  6.29s/rank]"
     ]
    },
    {
     "name": "stdout",
     "output_type": "stream",
     "text": [
      "Error :0.2784492045542763\n",
      "Error :0.6865575001767943\n",
      "Error :0.5187784196483729\n",
      "Error :0.42097098236573716\n",
      "Error :0.3690648948506802\n",
      "Error :0.3398053379265096\n",
      "Error :0.3186177177603237\n",
      "Error :0.3097303201344212\n",
      "Error :0.29192693227158817\n",
      "Error :0.2814757453695055\n"
     ]
    },
    {
     "name": "stderr",
     "output_type": "stream",
     "text": [
      "Ranks Progress:  31%|███       | 40/129 [04:07<09:32,  6.44s/rank]"
     ]
    },
    {
     "name": "stdout",
     "output_type": "stream",
     "text": [
      "Error :0.27280819303989207\n",
      "Error :0.7129984416851772\n",
      "Error :0.5196784480737915\n",
      "Error :0.418815674624928\n",
      "Error :0.3725255064670516\n",
      "Error :0.33993356998975893\n",
      "Error :0.3196469813630732\n",
      "Error :0.30154143542131273\n",
      "Error :0.29450278128069335\n",
      "Error :0.27986543570836475\n"
     ]
    },
    {
     "name": "stderr",
     "output_type": "stream",
     "text": [
      "Ranks Progress:  32%|███▏      | 41/129 [04:14<09:28,  6.46s/rank]"
     ]
    },
    {
     "name": "stdout",
     "output_type": "stream",
     "text": [
      "Error :0.27232844129442624\n",
      "Error :0.6815964388888063\n",
      "Error :0.5537754991263962\n",
      "Error :0.4349399487489614\n",
      "Error :0.3784942698550389\n",
      "Error :0.34652003511985247\n",
      "Error :0.3200403126074481\n",
      "Error :0.3026422192339347\n",
      "Error :0.28964972459831756\n",
      "Error :0.2812588634714633\n"
     ]
    },
    {
     "name": "stderr",
     "output_type": "stream",
     "text": [
      "Ranks Progress:  33%|███▎      | 42/129 [04:20<09:07,  6.29s/rank]"
     ]
    },
    {
     "name": "stdout",
     "output_type": "stream",
     "text": [
      "Error :0.2742035524559316\n",
      "Error :0.6619348133900608\n",
      "Error :0.5145684711100693\n",
      "Error :0.4337643592191773\n",
      "Error :0.3778030007386153\n",
      "Error :0.3508312902709251\n",
      "Error :0.31727961720544795\n",
      "Error :0.30310030761880863\n",
      "Error :0.2905503875033541\n",
      "Error :0.2783795585382874\n"
     ]
    },
    {
     "name": "stderr",
     "output_type": "stream",
     "text": [
      "Ranks Progress:  33%|███▎      | 43/129 [04:25<08:39,  6.04s/rank]"
     ]
    },
    {
     "name": "stdout",
     "output_type": "stream",
     "text": [
      "Error :0.2744926819355676\n",
      "Error :0.682860496728109\n",
      "Error :0.5257984016759931\n",
      "Error :0.437230450067721\n",
      "Error :0.37638282374298954\n",
      "Error :0.34243438272306076\n",
      "Error :0.3180606877029229\n",
      "Error :0.2950176024468966\n",
      "Error :0.28882791924835005\n",
      "Error :0.2795160185043129\n"
     ]
    },
    {
     "name": "stderr",
     "output_type": "stream",
     "text": [
      "Ranks Progress:  34%|███▍      | 44/129 [04:31<08:31,  6.01s/rank]"
     ]
    },
    {
     "name": "stdout",
     "output_type": "stream",
     "text": [
      "Error :0.2707191188421694\n",
      "Error :0.6800659668667294\n",
      "Error :0.5208477961022471\n",
      "Error :0.423278472500089\n",
      "Error :0.36151526938588696\n",
      "Error :0.3446593972779385\n",
      "Error :0.3148776953045769\n",
      "Error :0.30389300161758126\n",
      "Error :0.294552894285886\n",
      "Error :0.28026543187710745\n"
     ]
    },
    {
     "name": "stderr",
     "output_type": "stream",
     "text": [
      "Ranks Progress:  35%|███▍      | 45/129 [04:37<08:21,  5.97s/rank]"
     ]
    },
    {
     "name": "stdout",
     "output_type": "stream",
     "text": [
      "Error :0.2708912268615179\n",
      "Error :0.7032465167213202\n",
      "Error :0.5234254929694698\n",
      "Error :0.4271738757880984\n",
      "Error :0.3742249765282496\n",
      "Error :0.34753380577011656\n",
      "Error :0.32417528158690645\n",
      "Error :0.29415340840438936\n",
      "Error :0.29177352088222064\n",
      "Error :0.28005006089015105\n"
     ]
    },
    {
     "name": "stderr",
     "output_type": "stream",
     "text": [
      "Ranks Progress:  36%|███▌      | 46/129 [04:43<08:16,  5.98s/rank]"
     ]
    },
    {
     "name": "stdout",
     "output_type": "stream",
     "text": [
      "Error :0.26876941961153833\n",
      "Error :0.6707545579368602\n",
      "Error :0.533828911791419\n",
      "Error :0.4376936638301573\n",
      "Error :0.371244029935967\n",
      "Error :0.3455650348485977\n",
      "Error :0.3160314825490038\n",
      "Error :0.30711046078062504\n",
      "Error :0.2849627529390198\n",
      "Error :0.28011816534831147\n"
     ]
    },
    {
     "name": "stderr",
     "output_type": "stream",
     "text": [
      "Ranks Progress:  36%|███▋      | 47/129 [04:49<08:14,  6.02s/rank]"
     ]
    },
    {
     "name": "stdout",
     "output_type": "stream",
     "text": [
      "Error :0.2681525255729001\n",
      "Error :0.6827470415686434\n",
      "Error :0.5264299466661687\n",
      "Error :0.43588829641685084\n",
      "Error :0.37627809331601114\n",
      "Error :0.3412424199183134\n",
      "Error :0.3153088218861115\n",
      "Error :0.29992499602902006\n",
      "Error :0.29053186859849256\n",
      "Error :0.2769273824963341\n"
     ]
    },
    {
     "name": "stderr",
     "output_type": "stream",
     "text": [
      "Ranks Progress:  37%|███▋      | 48/129 [04:55<08:10,  6.05s/rank]"
     ]
    },
    {
     "name": "stdout",
     "output_type": "stream",
     "text": [
      "Error :0.26630200420183453\n",
      "Error :0.694333915996213\n",
      "Error :0.5143155916286318\n",
      "Error :0.4550013097352007\n",
      "Error :0.3680190349093566\n",
      "Error :0.3480060023461377\n",
      "Error :0.31915578613985945\n",
      "Error :0.2961983738616841\n",
      "Error :0.2850059973804076\n",
      "Error :0.27905331522606464\n"
     ]
    },
    {
     "name": "stderr",
     "output_type": "stream",
     "text": [
      "Ranks Progress:  38%|███▊      | 49/129 [05:02<08:22,  6.28s/rank]"
     ]
    },
    {
     "name": "stdout",
     "output_type": "stream",
     "text": [
      "Error :0.2672848155062539\n",
      "Error :0.709287091944243\n",
      "Error :0.5328328325198016\n",
      "Error :0.44780421644207974\n",
      "Error :0.37174048381191493\n",
      "Error :0.34380626358222477\n",
      "Error :0.3101181032199451\n",
      "Error :0.2991383067221653\n",
      "Error :0.2852497014404279\n",
      "Error :0.2754734757768615\n"
     ]
    },
    {
     "name": "stderr",
     "output_type": "stream",
     "text": [
      "Ranks Progress:  39%|███▉      | 50/129 [05:08<08:18,  6.31s/rank]"
     ]
    },
    {
     "name": "stdout",
     "output_type": "stream",
     "text": [
      "Error :0.2667289509481712\n",
      "Error :0.7001392215386647\n",
      "Error :0.5142244617794683\n",
      "Error :0.44535097042119537\n",
      "Error :0.3763315474789348\n",
      "Error :0.34372106474466985\n",
      "Error :0.31536745861305454\n",
      "Error :0.2981699059992848\n",
      "Error :0.28711184445302473\n",
      "Error :0.2729254386374392\n"
     ]
    },
    {
     "name": "stderr",
     "output_type": "stream",
     "text": [
      "Ranks Progress:  40%|███▉      | 51/129 [05:15<08:19,  6.41s/rank]"
     ]
    },
    {
     "name": "stdout",
     "output_type": "stream",
     "text": [
      "Error :0.2668943180447655\n",
      "Error :0.7117994367863495\n",
      "Error :0.5506386651528903\n",
      "Error :0.4367024636443561\n",
      "Error :0.3753034956766139\n",
      "Error :0.3446634735739977\n",
      "Error :0.3089258135390219\n",
      "Error :0.29357158652295473\n",
      "Error :0.2808323655578269\n",
      "Error :0.2792086342418267\n"
     ]
    },
    {
     "name": "stderr",
     "output_type": "stream",
     "text": [
      "Ranks Progress:  40%|████      | 52/129 [05:22<08:13,  6.41s/rank]"
     ]
    },
    {
     "name": "stdout",
     "output_type": "stream",
     "text": [
      "Error :0.26282450780834554\n",
      "Error :0.7205599012973453\n",
      "Error :0.5462065546565058\n",
      "Error :0.43017026994646307\n",
      "Error :0.3692892726265569\n",
      "Error :0.342728655288558\n",
      "Error :0.3153648819169235\n",
      "Error :0.29136390825897235\n",
      "Error :0.28327291218490197\n",
      "Error :0.27219010156672485\n"
     ]
    },
    {
     "name": "stderr",
     "output_type": "stream",
     "text": [
      "Ranks Progress:  41%|████      | 53/129 [05:29<08:41,  6.86s/rank]"
     ]
    },
    {
     "name": "stdout",
     "output_type": "stream",
     "text": [
      "Error :0.2643491429306637\n",
      "Error :0.6960141565868059\n",
      "Error :0.5148197883400737\n",
      "Error :0.44371996654207363\n",
      "Error :0.38232163841935934\n",
      "Error :0.3388658170217494\n",
      "Error :0.31761452154300285\n",
      "Error :0.29473550706096185\n",
      "Error :0.2839382382380209\n",
      "Error :0.273370784874691\n"
     ]
    },
    {
     "name": "stderr",
     "output_type": "stream",
     "text": [
      "Ranks Progress:  42%|████▏     | 54/129 [05:36<08:27,  6.76s/rank]"
     ]
    },
    {
     "name": "stdout",
     "output_type": "stream",
     "text": [
      "Error :0.2649362676826377\n",
      "Error :0.6800603447768371\n",
      "Error :0.5265492792919559\n",
      "Error :0.42988152130854784\n",
      "Error :0.3694387734833102\n",
      "Error :0.33948925035524014\n",
      "Error :0.31207374613988265\n",
      "Error :0.29433067734709284\n",
      "Error :0.2810544601350612\n",
      "Error :0.2693485732491734\n"
     ]
    },
    {
     "name": "stderr",
     "output_type": "stream",
     "text": [
      "Ranks Progress:  43%|████▎     | 55/129 [05:43<08:19,  6.75s/rank]"
     ]
    },
    {
     "name": "stdout",
     "output_type": "stream",
     "text": [
      "Error :0.2623833954183208\n",
      "Error :0.6682654271644772\n",
      "Error :0.517058056998936\n",
      "Error :0.42341420305493177\n",
      "Error :0.37120857033641397\n",
      "Error :0.33655936874387576\n",
      "Error :0.31950277152968665\n",
      "Error :0.2952045736160326\n",
      "Error :0.2828954480537388\n",
      "Error :0.2693115090707215\n"
     ]
    },
    {
     "name": "stderr",
     "output_type": "stream",
     "text": [
      "Ranks Progress:  43%|████▎     | 56/129 [05:49<08:00,  6.58s/rank]"
     ]
    },
    {
     "name": "stdout",
     "output_type": "stream",
     "text": [
      "Error :0.26424957493537593\n",
      "Error :0.6885223151470722\n",
      "Error :0.525436779228791\n",
      "Error :0.4288677542040121\n",
      "Error :0.35981927170739003\n",
      "Error :0.33434896261316815\n",
      "Error :0.30570017188487364\n",
      "Error :0.2960300949277082\n",
      "Error :0.28127155947329713\n",
      "Error :0.27048626736909875\n"
     ]
    },
    {
     "name": "stderr",
     "output_type": "stream",
     "text": [
      "Ranks Progress:  44%|████▍     | 57/129 [05:55<07:48,  6.51s/rank]"
     ]
    },
    {
     "name": "stdout",
     "output_type": "stream",
     "text": [
      "Error :0.2631263856295663\n",
      "Error :0.6793277387009333\n",
      "Error :0.548422207449913\n",
      "Error :0.41941206759880306\n",
      "Error :0.38294103547299185\n",
      "Error :0.3408249804087908\n",
      "Error :0.30978618555918414\n",
      "Error :0.29545952616993126\n",
      "Error :0.2841777250489493\n",
      "Error :0.27389118661465706\n"
     ]
    },
    {
     "name": "stderr",
     "output_type": "stream",
     "text": [
      "Ranks Progress:  45%|████▍     | 58/129 [06:02<07:48,  6.60s/rank]"
     ]
    },
    {
     "name": "stdout",
     "output_type": "stream",
     "text": [
      "Error :0.26190429848355995\n",
      "Error :0.7102865750000408\n",
      "Error :0.49749857415134674\n",
      "Error :0.4270412319781057\n",
      "Error :0.3781349583120865\n",
      "Error :0.34641236338323544\n",
      "Error :0.3172395990609878\n",
      "Error :0.2941133487953206\n",
      "Error :0.2810725137165099\n",
      "Error :0.2687592434265379\n"
     ]
    },
    {
     "name": "stderr",
     "output_type": "stream",
     "text": [
      "Ranks Progress:  46%|████▌     | 59/129 [06:08<07:34,  6.49s/rank]"
     ]
    },
    {
     "name": "stdout",
     "output_type": "stream",
     "text": [
      "Error :0.26076119808908615\n",
      "Error :0.6909780129409651\n",
      "Error :0.5191803514738476\n",
      "Error :0.42116974914708044\n",
      "Error :0.3918555053534981\n",
      "Error :0.33655420805442093\n",
      "Error :0.3143699125893433\n",
      "Error :0.29136863282554487\n",
      "Error :0.2795928721949214\n",
      "Error :0.27078220369569495\n"
     ]
    },
    {
     "name": "stderr",
     "output_type": "stream",
     "text": [
      "Ranks Progress:  47%|████▋     | 60/129 [06:15<07:28,  6.51s/rank]"
     ]
    },
    {
     "name": "stdout",
     "output_type": "stream",
     "text": [
      "Error :0.26364661644854975\n",
      "Error :0.6927796984103588\n",
      "Error :0.5110663366165502\n",
      "Error :0.41976660122095916\n",
      "Error :0.3821107617741177\n",
      "Error :0.34859547964792653\n",
      "Error :0.3195876827322286\n",
      "Error :0.2915953782902506\n",
      "Error :0.2786440027377183\n",
      "Error :0.266138240181257\n"
     ]
    },
    {
     "name": "stderr",
     "output_type": "stream",
     "text": [
      "Ranks Progress:  47%|████▋     | 61/129 [06:21<07:23,  6.52s/rank]"
     ]
    },
    {
     "name": "stdout",
     "output_type": "stream",
     "text": [
      "Error :0.2596853940946258\n",
      "Error :0.7335135322473709\n",
      "Error :0.5163328779583238\n",
      "Error :0.421639526829901\n",
      "Error :0.38497006549904433\n",
      "Error :0.35274037622418614\n",
      "Error :0.3098320229441381\n",
      "Error :0.2972387286789015\n",
      "Error :0.27954794177707937\n",
      "Error :0.27322380175360705\n"
     ]
    },
    {
     "name": "stderr",
     "output_type": "stream",
     "text": [
      "Ranks Progress:  48%|████▊     | 62/129 [06:27<07:08,  6.40s/rank]"
     ]
    },
    {
     "name": "stdout",
     "output_type": "stream",
     "text": [
      "Error :0.2559162708821915\n",
      "Error :0.6750593211648701\n",
      "Error :0.5243184873527017\n",
      "Error :0.4302544730913311\n",
      "Error :0.37917435050394865\n",
      "Error :0.33184765107261754\n",
      "Error :0.31140898137902984\n",
      "Error :0.2947923438722099\n",
      "Error :0.27633249089074774\n",
      "Error :0.2685153788522817\n"
     ]
    },
    {
     "name": "stderr",
     "output_type": "stream",
     "text": [
      "Ranks Progress:  49%|████▉     | 63/129 [06:34<07:01,  6.39s/rank]"
     ]
    },
    {
     "name": "stdout",
     "output_type": "stream",
     "text": [
      "Error :0.2588945228787132\n",
      "Error :0.6821986445238788\n",
      "Error :0.5164768049749943\n",
      "Error :0.43148238960277574\n",
      "Error :0.3743925589986839\n",
      "Error :0.3417897499030043\n",
      "Error :0.3086837265569991\n",
      "Error :0.2872349308896392\n",
      "Error :0.27927139830267855\n",
      "Error :0.2649049410744926\n"
     ]
    },
    {
     "name": "stderr",
     "output_type": "stream",
     "text": [
      "Ranks Progress:  50%|████▉     | 64/129 [06:40<06:51,  6.33s/rank]"
     ]
    },
    {
     "name": "stdout",
     "output_type": "stream",
     "text": [
      "Error :0.25768992588380885\n",
      "Error :0.6835025741337202\n",
      "Error :0.518353560173059\n",
      "Error :0.4300114764150111\n",
      "Error :0.3735287531910921\n",
      "Error :0.33434242849203416\n",
      "Error :0.30634668943566484\n",
      "Error :0.2935916657554362\n",
      "Error :0.2765806805157719\n",
      "Error :0.2643583456733372\n"
     ]
    },
    {
     "name": "stderr",
     "output_type": "stream",
     "text": [
      "Ranks Progress:  50%|█████     | 65/129 [06:46<06:44,  6.31s/rank]"
     ]
    },
    {
     "name": "stdout",
     "output_type": "stream",
     "text": [
      "Error :0.2597567549882219\n",
      "Error :0.7266007983454451\n",
      "Error :0.5066103719004907\n",
      "Error :0.4301736034373481\n",
      "Error :0.3874161472262373\n",
      "Error :0.33630845809985\n",
      "Error :0.3069920106032168\n",
      "Error :0.29064070717861323\n",
      "Error :0.2769000501401954\n",
      "Error :0.2659880686164577\n"
     ]
    },
    {
     "name": "stderr",
     "output_type": "stream",
     "text": [
      "Ranks Progress:  51%|█████     | 66/129 [06:53<06:37,  6.31s/rank]"
     ]
    },
    {
     "name": "stdout",
     "output_type": "stream",
     "text": [
      "Error :0.2575271778997096\n",
      "Error :0.7143518845422486\n",
      "Error :0.5464220258754334\n",
      "Error :0.4302521258872876\n",
      "Error :0.3768968875927895\n",
      "Error :0.3364062014276159\n",
      "Error :0.3227988936445543\n",
      "Error :0.29208701066658305\n",
      "Error :0.2794786512924228\n",
      "Error :0.2655187035404218\n"
     ]
    },
    {
     "name": "stderr",
     "output_type": "stream",
     "text": [
      "Ranks Progress:  52%|█████▏    | 67/129 [06:59<06:31,  6.32s/rank]"
     ]
    },
    {
     "name": "stdout",
     "output_type": "stream",
     "text": [
      "Error :0.25594149277695055\n",
      "Error :0.7153236672351505\n",
      "Error :0.5295358484425201\n",
      "Error :0.4428207954432162\n",
      "Error :0.3715017425885828\n",
      "Error :0.33229420291130685\n",
      "Error :0.313390195270281\n",
      "Error :0.2930964574417451\n",
      "Error :0.2783895374132792\n",
      "Error :0.2643706952019423\n"
     ]
    },
    {
     "name": "stderr",
     "output_type": "stream",
     "text": [
      "Ranks Progress:  53%|█████▎    | 68/129 [07:05<06:28,  6.37s/rank]"
     ]
    },
    {
     "name": "stdout",
     "output_type": "stream",
     "text": [
      "Error :0.2572693256865573\n",
      "Error :0.7006128498970222\n",
      "Error :0.5381289212303361\n",
      "Error :0.4430710024754991\n",
      "Error :0.3712719241436871\n",
      "Error :0.34583306136890346\n",
      "Error :0.31627486803730753\n",
      "Error :0.2917669109836911\n",
      "Error :0.2748203599470201\n",
      "Error :0.2631578129573107\n"
     ]
    },
    {
     "name": "stderr",
     "output_type": "stream",
     "text": [
      "Ranks Progress:  53%|█████▎    | 69/129 [07:13<06:36,  6.61s/rank]"
     ]
    },
    {
     "name": "stdout",
     "output_type": "stream",
     "text": [
      "Error :0.25193236782851175\n",
      "Error :0.6629293935510248\n",
      "Error :0.5130239327713663\n",
      "Error :0.41678424800767805\n",
      "Error :0.3753206509610473\n",
      "Error :0.3409691346939248\n",
      "Error :0.3085800245027138\n",
      "Error :0.28847334105572925\n",
      "Error :0.27652722597166934\n",
      "Error :0.26093892953250925\n"
     ]
    },
    {
     "name": "stderr",
     "output_type": "stream",
     "text": [
      "Ranks Progress:  54%|█████▍    | 70/129 [07:19<06:28,  6.58s/rank]"
     ]
    },
    {
     "name": "stdout",
     "output_type": "stream",
     "text": [
      "Error :0.2554482834152511\n",
      "Error :0.6968595441860993\n",
      "Error :0.512739229167607\n",
      "Error :0.4534028311210765\n",
      "Error :0.3858852568331095\n",
      "Error :0.3399640051063548\n",
      "Error :0.3146517642355063\n",
      "Error :0.2909427154298394\n",
      "Error :0.2781993160397996\n",
      "Error :0.266415769108343\n"
     ]
    },
    {
     "name": "stderr",
     "output_type": "stream",
     "text": [
      "Ranks Progress:  55%|█████▌    | 71/129 [07:25<06:11,  6.41s/rank]"
     ]
    },
    {
     "name": "stdout",
     "output_type": "stream",
     "text": [
      "Error :0.25405075947408906\n",
      "Error :0.6790712157686153\n",
      "Error :0.51870868773373\n",
      "Error :0.44298132011614977\n",
      "Error :0.38383301370059314\n",
      "Error :0.3384326519959981\n",
      "Error :0.3133895810491136\n",
      "Error :0.295121217342177\n",
      "Error :0.27783332268076744\n",
      "Error :0.2625210674977388\n"
     ]
    },
    {
     "name": "stderr",
     "output_type": "stream",
     "text": [
      "Ranks Progress:  56%|█████▌    | 72/129 [07:31<05:57,  6.27s/rank]"
     ]
    },
    {
     "name": "stdout",
     "output_type": "stream",
     "text": [
      "Error :0.2567620748021547\n",
      "Error :0.6886357210904557\n",
      "Error :0.5084489985261837\n",
      "Error :0.4468447577027147\n",
      "Error :0.3659046998502154\n",
      "Error :0.33835057212798986\n",
      "Error :0.3137950537587939\n",
      "Error :0.2917102071975097\n",
      "Error :0.2777623607611537\n",
      "Error :0.2639784708200704\n"
     ]
    },
    {
     "name": "stderr",
     "output_type": "stream",
     "text": [
      "Ranks Progress:  57%|█████▋    | 73/129 [07:37<05:46,  6.18s/rank]"
     ]
    },
    {
     "name": "stdout",
     "output_type": "stream",
     "text": [
      "Error :0.25332957917581783\n",
      "Error :0.6835716014204639\n",
      "Error :0.5278767442651777\n",
      "Error :0.4207704200164163\n",
      "Error :0.37612525922620377\n",
      "Error :0.3384703913694045\n",
      "Error :0.32061851658825075\n",
      "Error :0.29105011286638843\n",
      "Error :0.2757704336259171\n",
      "Error :0.26351596966057717\n"
     ]
    },
    {
     "name": "stderr",
     "output_type": "stream",
     "text": [
      "Ranks Progress:  57%|█████▋    | 74/129 [07:43<05:36,  6.11s/rank]"
     ]
    },
    {
     "name": "stdout",
     "output_type": "stream",
     "text": [
      "Error :0.2547867084170268\n",
      "Error :0.6878633394327911\n",
      "Error :0.5056021537303704\n",
      "Error :0.44643439453080214\n",
      "Error :0.38250939950544954\n",
      "Error :0.3421263845462299\n",
      "Error :0.30881616494751357\n",
      "Error :0.28933106808615733\n",
      "Error :0.27687039780585293\n",
      "Error :0.26542123833148423\n"
     ]
    },
    {
     "name": "stderr",
     "output_type": "stream",
     "text": [
      "Ranks Progress:  58%|█████▊    | 75/129 [07:49<05:26,  6.05s/rank]"
     ]
    },
    {
     "name": "stdout",
     "output_type": "stream",
     "text": [
      "Error :0.25428651368368715\n",
      "Error :0.6953457713706983\n",
      "Error :0.5085693550920395\n",
      "Error :0.4214890748941745\n",
      "Error :0.38130586358587365\n",
      "Error :0.3554108643616121\n",
      "Error :0.30731886741854003\n",
      "Error :0.29366521950218244\n",
      "Error :0.27681257716850866\n",
      "Error :0.26332489038190104\n"
     ]
    },
    {
     "name": "stderr",
     "output_type": "stream",
     "text": [
      "Ranks Progress:  59%|█████▉    | 76/129 [07:55<05:20,  6.05s/rank]"
     ]
    },
    {
     "name": "stdout",
     "output_type": "stream",
     "text": [
      "Error :0.25296581703450105\n",
      "Error :0.6910500220633514\n",
      "Error :0.5352829050452926\n",
      "Error :0.4637677073254993\n",
      "Error :0.38815204765452205\n",
      "Error :0.33849377857359464\n",
      "Error :0.3172628644193862\n",
      "Error :0.2909538174123961\n",
      "Error :0.27238087879880196\n",
      "Error :0.26330382057973056\n"
     ]
    },
    {
     "name": "stderr",
     "output_type": "stream",
     "text": [
      "Ranks Progress:  60%|█████▉    | 77/129 [08:01<05:13,  6.03s/rank]"
     ]
    },
    {
     "name": "stdout",
     "output_type": "stream",
     "text": [
      "Error :0.25234012764504427\n",
      "Error :0.6961528377309075\n",
      "Error :0.5421208857115595\n",
      "Error :0.436453630342017\n",
      "Error :0.3743281464132809\n",
      "Error :0.35024987959608417\n",
      "Error :0.30988676118743097\n",
      "Error :0.2894448750425942\n",
      "Error :0.27369082480670565\n",
      "Error :0.26127955841309786\n"
     ]
    },
    {
     "name": "stderr",
     "output_type": "stream",
     "text": [
      "Ranks Progress:  60%|██████    | 78/129 [08:07<05:06,  6.00s/rank]"
     ]
    },
    {
     "name": "stdout",
     "output_type": "stream",
     "text": [
      "Error :0.25366753549865556\n",
      "Error :0.6425350928985823\n",
      "Error :0.5207913728862326\n",
      "Error :0.4393479046130715\n",
      "Error :0.3716331387628997\n",
      "Error :0.3457948573014754\n",
      "Error :0.30823395863982955\n",
      "Error :0.2906674346387508\n",
      "Error :0.2756260756416009\n",
      "Error :0.26243973500970774\n"
     ]
    },
    {
     "name": "stderr",
     "output_type": "stream",
     "text": [
      "Ranks Progress:  61%|██████    | 79/129 [08:13<05:01,  6.03s/rank]"
     ]
    },
    {
     "name": "stdout",
     "output_type": "stream",
     "text": [
      "Error :0.25289179199425543\n",
      "Error :0.6781084356049157\n",
      "Error :0.5284981567608266\n",
      "Error :0.4218483226785874\n",
      "Error :0.3704755771151021\n",
      "Error :0.33408169330178317\n",
      "Error :0.3142104255150874\n",
      "Error :0.2898716520847278\n",
      "Error :0.2728421120102897\n",
      "Error :0.26114293299540436\n"
     ]
    },
    {
     "name": "stderr",
     "output_type": "stream",
     "text": [
      "Ranks Progress:  62%|██████▏   | 80/129 [08:19<04:53,  6.00s/rank]"
     ]
    },
    {
     "name": "stdout",
     "output_type": "stream",
     "text": [
      "Error :0.2507951788664393\n",
      "Error :0.7077783783418745\n",
      "Error :0.5341892219606554\n",
      "Error :0.42773718329636945\n",
      "Error :0.37492548122350006\n",
      "Error :0.3472985898991454\n",
      "Error :0.3113692649397449\n",
      "Error :0.29252652124876993\n",
      "Error :0.2753728069694812\n",
      "Error :0.2613684056003152\n"
     ]
    },
    {
     "name": "stderr",
     "output_type": "stream",
     "text": [
      "Ranks Progress:  63%|██████▎   | 81/129 [08:25<04:47,  5.99s/rank]"
     ]
    },
    {
     "name": "stdout",
     "output_type": "stream",
     "text": [
      "Error :0.254024533935653\n",
      "Error :0.7363262773536066\n",
      "Error :0.5252241432695873\n",
      "Error :0.4341862827786908\n",
      "Error :0.389014602329767\n",
      "Error :0.3461806842413515\n",
      "Error :0.3167247826447669\n",
      "Error :0.29067371504113393\n",
      "Error :0.2712693885203074\n",
      "Error :0.2648925552833885\n"
     ]
    },
    {
     "name": "stderr",
     "output_type": "stream",
     "text": [
      "Ranks Progress:  64%|██████▎   | 82/129 [08:31<04:40,  5.98s/rank]"
     ]
    },
    {
     "name": "stdout",
     "output_type": "stream",
     "text": [
      "Error :0.249684764097174\n",
      "Error :0.714532996121208\n",
      "Error :0.49447691032189434\n",
      "Error :0.42179784041880714\n",
      "Error :0.38086414293502396\n",
      "Error :0.33607669191631295\n",
      "Error :0.316867133785834\n",
      "Error :0.29017359133185266\n",
      "Error :0.2699859908384948\n",
      "Error :0.2594467033243979\n"
     ]
    },
    {
     "name": "stderr",
     "output_type": "stream",
     "text": [
      "Ranks Progress:  64%|██████▍   | 83/129 [08:37<04:36,  6.02s/rank]"
     ]
    },
    {
     "name": "stdout",
     "output_type": "stream",
     "text": [
      "Error :0.251785800959384\n",
      "Error :0.6604666673595297\n",
      "Error :0.506141159858388\n",
      "Error :0.4109522823297297\n",
      "Error :0.37257316797648965\n",
      "Error :0.32614411451062875\n",
      "Error :0.3145471589059701\n",
      "Error :0.28775817658639824\n",
      "Error :0.2715374445281565\n",
      "Error :0.25771440109732685\n"
     ]
    },
    {
     "name": "stderr",
     "output_type": "stream",
     "text": [
      "Ranks Progress:  65%|██████▌   | 84/129 [08:43<04:30,  6.02s/rank]"
     ]
    },
    {
     "name": "stdout",
     "output_type": "stream",
     "text": [
      "Error :0.24676241550204914\n",
      "Error :0.6728466476736106\n",
      "Error :0.5441303521901576\n",
      "Error :0.436618299978866\n",
      "Error :0.359005135784511\n",
      "Error :0.33925806487655785\n",
      "Error :0.306677491548564\n",
      "Error :0.28861987044470455\n",
      "Error :0.2739696152898465\n",
      "Error :0.2632351871775548\n"
     ]
    },
    {
     "name": "stderr",
     "output_type": "stream",
     "text": [
      "Ranks Progress:  66%|██████▌   | 85/129 [08:49<04:22,  5.98s/rank]"
     ]
    },
    {
     "name": "stdout",
     "output_type": "stream",
     "text": [
      "Error :0.2493337967950802\n",
      "Error :0.7203723895294095\n",
      "Error :0.5262845133309257\n",
      "Error :0.42761650438189097\n",
      "Error :0.3811068836935191\n",
      "Error :0.33812471026280555\n",
      "Error :0.3062205293339444\n",
      "Error :0.28589020044736263\n",
      "Error :0.27117591876015246\n",
      "Error :0.2581840229527626\n"
     ]
    },
    {
     "name": "stderr",
     "output_type": "stream",
     "text": [
      "Ranks Progress:  67%|██████▋   | 86/129 [08:55<04:22,  6.10s/rank]"
     ]
    },
    {
     "name": "stdout",
     "output_type": "stream",
     "text": [
      "Error :0.24807015499943147\n",
      "Error :0.6828276646962953\n",
      "Error :0.500117007424198\n",
      "Error :0.4389329152834607\n",
      "Error :0.3844870398360063\n",
      "Error :0.34470220080138125\n",
      "Error :0.30840630628241095\n",
      "Error :0.2885755943875614\n",
      "Error :0.27202720681275366\n",
      "Error :0.2615390309735556\n"
     ]
    },
    {
     "name": "stderr",
     "output_type": "stream",
     "text": [
      "Ranks Progress:  67%|██████▋   | 87/129 [09:01<04:15,  6.08s/rank]"
     ]
    },
    {
     "name": "stdout",
     "output_type": "stream",
     "text": [
      "Error :0.24836707384163384\n",
      "Error :0.702381369901298\n",
      "Error :0.5429689758609922\n",
      "Error :0.4264390026873356\n",
      "Error :0.3846492573596403\n",
      "Error :0.33617031211694925\n",
      "Error :0.30512586438606726\n",
      "Error :0.2884054721630562\n",
      "Error :0.2736012158363763\n",
      "Error :0.25778694976586225\n"
     ]
    },
    {
     "name": "stderr",
     "output_type": "stream",
     "text": [
      "Ranks Progress:  68%|██████▊   | 88/129 [09:07<04:04,  5.96s/rank]"
     ]
    },
    {
     "name": "stdout",
     "output_type": "stream",
     "text": [
      "Error :0.252962885982498\n",
      "Error :0.7126148178280315\n",
      "Error :0.5319128839863057\n",
      "Error :0.4441094199676905\n",
      "Error :0.3810401870342645\n",
      "Error :0.33707903621409496\n",
      "Error :0.3212928372071971\n",
      "Error :0.28936247599409065\n",
      "Error :0.273547242983241\n",
      "Error :0.25987398568110476\n"
     ]
    },
    {
     "name": "stderr",
     "output_type": "stream",
     "text": [
      "Ranks Progress:  69%|██████▉   | 89/129 [09:13<04:02,  6.06s/rank]"
     ]
    },
    {
     "name": "stdout",
     "output_type": "stream",
     "text": [
      "Error :0.24768492608585863\n",
      "Error :0.6513451619170757\n",
      "Error :0.5135795630208537\n",
      "Error :0.4403146670422178\n",
      "Error :0.38120036178831723\n",
      "Error :0.3368729702895813\n",
      "Error :0.31451560642535636\n",
      "Error :0.287811507861635\n",
      "Error :0.2724866575652695\n",
      "Error :0.25918446988242533\n"
     ]
    },
    {
     "name": "stderr",
     "output_type": "stream",
     "text": [
      "Ranks Progress:  70%|██████▉   | 90/129 [09:19<03:55,  6.03s/rank]"
     ]
    },
    {
     "name": "stdout",
     "output_type": "stream",
     "text": [
      "Error :0.25366790769926734\n",
      "Error :0.6956399068696535\n",
      "Error :0.5161829390243796\n",
      "Error :0.4294347923167367\n",
      "Error :0.3755319033839174\n",
      "Error :0.345215363125461\n",
      "Error :0.31752048671300764\n",
      "Error :0.29202403613883504\n",
      "Error :0.27021302256507707\n",
      "Error :0.2609245438701243\n"
     ]
    },
    {
     "name": "stderr",
     "output_type": "stream",
     "text": [
      "Ranks Progress:  71%|███████   | 91/129 [09:25<03:47,  5.97s/rank]"
     ]
    },
    {
     "name": "stdout",
     "output_type": "stream",
     "text": [
      "Error :0.24757117971660716\n",
      "Error :0.6674426111237399\n",
      "Error :0.5139079853489882\n",
      "Error :0.4531641801113444\n",
      "Error :0.38513196655860676\n",
      "Error :0.3392505796308111\n",
      "Error :0.312091297004688\n",
      "Error :0.28874136247530197\n",
      "Error :0.2710897059928989\n",
      "Error :0.25833932201966897\n"
     ]
    },
    {
     "name": "stderr",
     "output_type": "stream",
     "text": [
      "Ranks Progress:  71%|███████▏  | 92/129 [09:31<03:40,  5.96s/rank]"
     ]
    },
    {
     "name": "stdout",
     "output_type": "stream",
     "text": [
      "Error :0.24812247499879406\n",
      "Error :0.695816371415335\n",
      "Error :0.5243378813875662\n",
      "Error :0.4399177642493812\n",
      "Error :0.3770644006348296\n",
      "Error :0.33555946214950205\n",
      "Error :0.3081097497362581\n",
      "Error :0.28716644105066536\n",
      "Error :0.2726091351239182\n",
      "Error :0.2589749336529782\n"
     ]
    },
    {
     "name": "stderr",
     "output_type": "stream",
     "text": [
      "Ranks Progress:  72%|███████▏  | 93/129 [09:37<03:33,  5.93s/rank]"
     ]
    },
    {
     "name": "stdout",
     "output_type": "stream",
     "text": [
      "Error :0.24903026997946126\n",
      "Error :0.6781567424205647\n",
      "Error :0.5282931021993154\n",
      "Error :0.4427778128445914\n",
      "Error :0.3794986318710757\n",
      "Error :0.33837354276699877\n",
      "Error :0.31167222211046924\n",
      "Error :0.29059044265085077\n",
      "Error :0.2726349046503081\n",
      "Error :0.25698449824783187\n"
     ]
    },
    {
     "name": "stderr",
     "output_type": "stream",
     "text": [
      "Ranks Progress:  73%|███████▎  | 94/129 [09:43<03:27,  5.93s/rank]"
     ]
    },
    {
     "name": "stdout",
     "output_type": "stream",
     "text": [
      "Error :0.2450649168852196\n",
      "Error :0.6495092250278766\n",
      "Error :0.5435972279078085\n",
      "Error :0.4242930344382815\n",
      "Error :0.3703761001638251\n",
      "Error :0.3417108019071376\n",
      "Error :0.3152589627962721\n",
      "Error :0.28749863039093787\n",
      "Error :0.2708565111363956\n",
      "Error :0.2609144256017557\n"
     ]
    },
    {
     "name": "stderr",
     "output_type": "stream",
     "text": [
      "Ranks Progress:  74%|███████▎  | 95/129 [09:49<03:21,  5.94s/rank]"
     ]
    },
    {
     "name": "stdout",
     "output_type": "stream",
     "text": [
      "Error :0.24795772580549708\n",
      "Error :0.7057480482609805\n",
      "Error :0.49467623054969917\n",
      "Error :0.4210307372823555\n",
      "Error :0.37742513308932907\n",
      "Error :0.3353820709720382\n",
      "Error :0.30776014508323596\n",
      "Error :0.2855373609591267\n",
      "Error :0.2747819073332369\n",
      "Error :0.2580350725042208\n"
     ]
    },
    {
     "name": "stderr",
     "output_type": "stream",
     "text": [
      "Ranks Progress:  74%|███████▍  | 96/129 [09:55<03:17,  5.97s/rank]"
     ]
    },
    {
     "name": "stdout",
     "output_type": "stream",
     "text": [
      "Error :0.24749222688088213\n",
      "Error :0.7284751168114779\n",
      "Error :0.5602594406523185\n",
      "Error :0.4311606740734516\n",
      "Error :0.37527451468729023\n",
      "Error :0.3361739659211232\n",
      "Error :0.3080368282067437\n",
      "Error :0.28859788836078487\n",
      "Error :0.2701250605648095\n",
      "Error :0.2590994892844027\n"
     ]
    },
    {
     "name": "stderr",
     "output_type": "stream",
     "text": [
      "Ranks Progress:  75%|███████▌  | 97/129 [10:01<03:10,  5.97s/rank]"
     ]
    },
    {
     "name": "stdout",
     "output_type": "stream",
     "text": [
      "Error :0.2459138582587612\n",
      "Error :0.7014931473022534\n",
      "Error :0.5209986042450279\n",
      "Error :0.42401911923740276\n",
      "Error :0.38680055098996685\n",
      "Error :0.3394790017807166\n",
      "Error :0.30598005732213324\n",
      "Error :0.2894207013027932\n",
      "Error :0.2736933425237302\n",
      "Error :0.25528582170321723\n"
     ]
    },
    {
     "name": "stderr",
     "output_type": "stream",
     "text": [
      "Ranks Progress:  76%|███████▌  | 98/129 [10:07<03:04,  5.96s/rank]"
     ]
    },
    {
     "name": "stdout",
     "output_type": "stream",
     "text": [
      "Error :0.24709732497410167\n",
      "Error :0.6913345707511679\n",
      "Error :0.5278567622609281\n",
      "Error :0.41622562586872514\n",
      "Error :0.37546919134102713\n",
      "Error :0.34395745752394014\n",
      "Error :0.30896135525581775\n",
      "Error :0.2874668284864306\n",
      "Error :0.27239414061779005\n",
      "Error :0.2583129223827854\n"
     ]
    },
    {
     "name": "stderr",
     "output_type": "stream",
     "text": [
      "Ranks Progress:  77%|███████▋  | 99/129 [10:13<02:57,  5.93s/rank]"
     ]
    },
    {
     "name": "stdout",
     "output_type": "stream",
     "text": [
      "Error :0.2458161893971017\n",
      "Error :0.7098109623429896\n",
      "Error :0.5200001908619003\n",
      "Error :0.4208828462141536\n",
      "Error :0.3741305538229418\n",
      "Error :0.3419297342025629\n",
      "Error :0.30580017905201856\n",
      "Error :0.28938339468751995\n",
      "Error :0.2749069771613193\n",
      "Error :0.25892511235491117\n"
     ]
    },
    {
     "name": "stderr",
     "output_type": "stream",
     "text": [
      "Ranks Progress:  78%|███████▊  | 100/129 [10:18<02:52,  5.93s/rank]"
     ]
    },
    {
     "name": "stdout",
     "output_type": "stream",
     "text": [
      "Error :0.2485267572761608\n",
      "Error :0.6973255671690197\n",
      "Error :0.48667026035529376\n",
      "Error :0.425676352048482\n",
      "Error :0.3723904581009963\n",
      "Error :0.34242266674498284\n",
      "Error :0.31165370657999336\n",
      "Error :0.29099109463021633\n",
      "Error :0.27145072337584414\n",
      "Error :0.25810834623305406\n"
     ]
    },
    {
     "name": "stderr",
     "output_type": "stream",
     "text": [
      "Ranks Progress:  78%|███████▊  | 101/129 [10:24<02:45,  5.90s/rank]"
     ]
    },
    {
     "name": "stdout",
     "output_type": "stream",
     "text": [
      "Error :0.24548026095263561\n",
      "Error :0.6858736426566259\n",
      "Error :0.5180700126870671\n",
      "Error :0.43233979685141277\n",
      "Error :0.3776870639071411\n",
      "Error :0.3347141775421727\n",
      "Error :0.31246689842678244\n",
      "Error :0.28923822929134974\n",
      "Error :0.27615741194486576\n",
      "Error :0.25657028356969513\n"
     ]
    },
    {
     "name": "stderr",
     "output_type": "stream",
     "text": [
      "Ranks Progress:  79%|███████▉  | 102/129 [10:30<02:40,  5.96s/rank]"
     ]
    },
    {
     "name": "stdout",
     "output_type": "stream",
     "text": [
      "Error :0.24723787896174382\n",
      "Error :0.6677436955099454\n",
      "Error :0.5477909042154457\n",
      "Error :0.42635928733936523\n",
      "Error :0.37302312284955613\n",
      "Error :0.3373820200551029\n",
      "Error :0.30925718315549294\n",
      "Error :0.2911556987641232\n",
      "Error :0.27548815839388996\n",
      "Error :0.2571166934518426\n"
     ]
    },
    {
     "name": "stderr",
     "output_type": "stream",
     "text": [
      "Ranks Progress:  80%|███████▉  | 103/129 [10:36<02:34,  5.95s/rank]"
     ]
    },
    {
     "name": "stdout",
     "output_type": "stream",
     "text": [
      "Error :0.2474733827269212\n",
      "Error :0.6706040259611674\n",
      "Error :0.5253047855095996\n",
      "Error :0.42752839122566766\n",
      "Error :0.3636251994827379\n",
      "Error :0.34100116998946906\n",
      "Error :0.30806829230680094\n",
      "Error :0.29206701081594266\n",
      "Error :0.270643956042101\n",
      "Error :0.25682814432070494\n"
     ]
    },
    {
     "name": "stderr",
     "output_type": "stream",
     "text": [
      "Ranks Progress:  81%|████████  | 104/129 [10:42<02:28,  5.94s/rank]"
     ]
    },
    {
     "name": "stdout",
     "output_type": "stream",
     "text": [
      "Error :0.24370750878998826\n",
      "Error :0.6917327845015875\n",
      "Error :0.542276049564599\n",
      "Error :0.44108695131174197\n",
      "Error :0.3762726974707524\n",
      "Error :0.3366771547904762\n",
      "Error :0.31681017046981735\n",
      "Error :0.29006715188856863\n",
      "Error :0.2736009879483168\n",
      "Error :0.2548096467330238\n"
     ]
    },
    {
     "name": "stderr",
     "output_type": "stream",
     "text": [
      "Ranks Progress:  81%|████████▏ | 105/129 [10:48<02:22,  5.94s/rank]"
     ]
    },
    {
     "name": "stdout",
     "output_type": "stream",
     "text": [
      "Error :0.24668914890437407\n",
      "Error :0.6670405989795339\n",
      "Error :0.5498782388106896\n",
      "Error :0.4436920083067273\n",
      "Error :0.37814320022178427\n",
      "Error :0.33730322268955315\n",
      "Error :0.3154522782504568\n",
      "Error :0.291225759877538\n",
      "Error :0.27132287038590885\n",
      "Error :0.25889204292550166\n"
     ]
    },
    {
     "name": "stderr",
     "output_type": "stream",
     "text": [
      "Ranks Progress:  82%|████████▏ | 106/129 [10:54<02:15,  5.90s/rank]"
     ]
    },
    {
     "name": "stdout",
     "output_type": "stream",
     "text": [
      "Error :0.24731602622918858\n",
      "Error :0.7007801832043113\n",
      "Error :0.5554779712171725\n",
      "Error :0.43698620431668556\n",
      "Error :0.3794657179023453\n",
      "Error :0.3383989466172802\n",
      "Error :0.31064196209615763\n",
      "Error :0.28924102726546896\n",
      "Error :0.2730224114885863\n",
      "Error :0.25973585864524934\n"
     ]
    },
    {
     "name": "stderr",
     "output_type": "stream",
     "text": [
      "Ranks Progress:  83%|████████▎ | 107/129 [11:00<02:10,  5.93s/rank]"
     ]
    },
    {
     "name": "stdout",
     "output_type": "stream",
     "text": [
      "Error :0.2465799152417742\n",
      "Error :0.6867138101438567\n",
      "Error :0.504575894491592\n",
      "Error :0.435923632580029\n",
      "Error :0.37373064948921153\n",
      "Error :0.32311704503423944\n",
      "Error :0.3149193131712388\n",
      "Error :0.28912272930772687\n",
      "Error :0.2764953639004809\n",
      "Error :0.2577256676293858\n"
     ]
    },
    {
     "name": "stderr",
     "output_type": "stream",
     "text": [
      "Ranks Progress:  84%|████████▎ | 108/129 [11:06<02:04,  5.91s/rank]"
     ]
    },
    {
     "name": "stdout",
     "output_type": "stream",
     "text": [
      "Error :0.2441358810744397\n",
      "Error :0.690148766124985\n",
      "Error :0.5470636022572998\n",
      "Error :0.438819389173224\n",
      "Error :0.37793430058425376\n",
      "Error :0.3322895067281954\n",
      "Error :0.30684238817916126\n",
      "Error :0.29373446202123216\n",
      "Error :0.2751991334859375\n",
      "Error :0.25659731107666295\n"
     ]
    },
    {
     "name": "stderr",
     "output_type": "stream",
     "text": [
      "Ranks Progress:  84%|████████▍ | 109/129 [11:12<01:58,  5.91s/rank]"
     ]
    },
    {
     "name": "stdout",
     "output_type": "stream",
     "text": [
      "Error :0.24558962304486498\n",
      "Error :0.7270749785705555\n",
      "Error :0.5152649317701186\n",
      "Error :0.4338773594717375\n",
      "Error :0.3734957064966272\n",
      "Error :0.34290551671970826\n",
      "Error :0.31238257070673997\n",
      "Error :0.28952114943357593\n",
      "Error :0.2713668283829101\n",
      "Error :0.25413211684799747\n"
     ]
    },
    {
     "name": "stderr",
     "output_type": "stream",
     "text": [
      "Ranks Progress:  85%|████████▌ | 110/129 [11:18<01:52,  5.91s/rank]"
     ]
    },
    {
     "name": "stdout",
     "output_type": "stream",
     "text": [
      "Error :0.2472763067990013\n",
      "Error :0.689593011518408\n",
      "Error :0.5311968976036439\n",
      "Error :0.42018922395550257\n",
      "Error :0.3597241675092283\n",
      "Error :0.33452279333216367\n",
      "Error :0.3083544346929186\n",
      "Error :0.2940533645761953\n",
      "Error :0.27244878157073543\n",
      "Error :0.2598111398780864\n"
     ]
    },
    {
     "name": "stderr",
     "output_type": "stream",
     "text": [
      "Ranks Progress:  86%|████████▌ | 111/129 [11:24<01:46,  5.90s/rank]"
     ]
    },
    {
     "name": "stdout",
     "output_type": "stream",
     "text": [
      "Error :0.24573758495007192\n",
      "Error :0.7275612632394873\n",
      "Error :0.5362913801788022\n",
      "Error :0.44382781403464716\n",
      "Error :0.3749982143553013\n",
      "Error :0.3363318825787526\n",
      "Error :0.3018170856012339\n",
      "Error :0.2895575367797756\n",
      "Error :0.27049282288423027\n",
      "Error :0.2562467772752496\n"
     ]
    },
    {
     "name": "stderr",
     "output_type": "stream",
     "text": [
      "Ranks Progress:  87%|████████▋ | 112/129 [11:29<01:40,  5.90s/rank]"
     ]
    },
    {
     "name": "stdout",
     "output_type": "stream",
     "text": [
      "Error :0.24608454079207606\n",
      "Error :0.719762009466486\n",
      "Error :0.5361527708446432\n",
      "Error :0.44224307409505603\n",
      "Error :0.37480356945356086\n",
      "Error :0.33420831538706586\n",
      "Error :0.31031246496605647\n",
      "Error :0.2883916097835064\n",
      "Error :0.27375904824213676\n",
      "Error :0.2552398412041378\n"
     ]
    },
    {
     "name": "stderr",
     "output_type": "stream",
     "text": [
      "Ranks Progress:  88%|████████▊ | 113/129 [11:36<01:38,  6.17s/rank]"
     ]
    },
    {
     "name": "stdout",
     "output_type": "stream",
     "text": [
      "Error :0.24715271973895178\n",
      "Error :0.6961471867916909\n",
      "Error :0.5262074932992983\n",
      "Error :0.4278179998727531\n",
      "Error :0.3654325000188633\n",
      "Error :0.3402362548253645\n",
      "Error :0.30760600661051174\n",
      "Error :0.29355928144579496\n",
      "Error :0.2711896888609655\n",
      "Error :0.2558771647966669\n"
     ]
    },
    {
     "name": "stderr",
     "output_type": "stream",
     "text": [
      "Ranks Progress:  88%|████████▊ | 114/129 [11:43<01:35,  6.39s/rank]"
     ]
    },
    {
     "name": "stdout",
     "output_type": "stream",
     "text": [
      "Error :0.24522332692166812\n",
      "Error :0.68467951387407\n",
      "Error :0.5393276126113478\n",
      "Error :0.43495090240645434\n",
      "Error :0.37101197608687947\n",
      "Error :0.3309926194727323\n",
      "Error :0.30894794791714525\n",
      "Error :0.28801517908902924\n",
      "Error :0.2792401641119832\n",
      "Error :0.25739676400955513\n"
     ]
    },
    {
     "name": "stderr",
     "output_type": "stream",
     "text": [
      "Ranks Progress:  89%|████████▉ | 115/129 [11:50<01:31,  6.54s/rank]"
     ]
    },
    {
     "name": "stdout",
     "output_type": "stream",
     "text": [
      "Error :0.2468060294893902\n",
      "Error :0.7078229891475052\n",
      "Error :0.5489879247287589\n",
      "Error :0.4390684875511793\n",
      "Error :0.37123766431729244\n",
      "Error :0.3411614163612776\n",
      "Error :0.30946791806678337\n",
      "Error :0.2915117657476745\n",
      "Error :0.27410672317538776\n",
      "Error :0.2613630751776267\n"
     ]
    },
    {
     "name": "stderr",
     "output_type": "stream",
     "text": [
      "Ranks Progress:  90%|████████▉ | 116/129 [11:58<01:29,  6.87s/rank]"
     ]
    },
    {
     "name": "stdout",
     "output_type": "stream",
     "text": [
      "Error :0.2452361978956559\n",
      "Error :0.7082064415240243\n",
      "Error :0.5394444731468473\n",
      "Error :0.4275192688016899\n",
      "Error :0.37149779051674703\n",
      "Error :0.33426616475914295\n",
      "Error :0.3149691005294675\n",
      "Error :0.29138734951256506\n",
      "Error :0.2745161127099062\n",
      "Error :0.2606256300388339\n"
     ]
    },
    {
     "name": "stderr",
     "output_type": "stream",
     "text": [
      "Ranks Progress:  91%|█████████ | 117/129 [12:04<01:22,  6.85s/rank]"
     ]
    },
    {
     "name": "stdout",
     "output_type": "stream",
     "text": [
      "Error :0.24535270972691406\n",
      "Error :0.689231794867616\n",
      "Error :0.5259373525397332\n",
      "Error :0.4238627021186793\n",
      "Error :0.3714415027444032\n",
      "Error :0.3419558218117626\n",
      "Error :0.31821187902577375\n",
      "Error :0.2871882803210186\n",
      "Error :0.2731973537355216\n",
      "Error :0.25979020187743246\n"
     ]
    },
    {
     "name": "stderr",
     "output_type": "stream",
     "text": [
      "Ranks Progress:  91%|█████████▏| 118/129 [12:11<01:14,  6.75s/rank]"
     ]
    },
    {
     "name": "stdout",
     "output_type": "stream",
     "text": [
      "Error :0.245991118250089\n",
      "Error :0.6954040141192787\n",
      "Error :0.5321429386107462\n",
      "Error :0.44537131223038234\n",
      "Error :0.37303464216048854\n",
      "Error :0.333635822209732\n",
      "Error :0.3206128004511856\n",
      "Error :0.29286998123207003\n",
      "Error :0.2749567223215197\n",
      "Error :0.25834804364056085\n"
     ]
    },
    {
     "name": "stderr",
     "output_type": "stream",
     "text": [
      "Ranks Progress:  92%|█████████▏| 119/129 [12:18<01:07,  6.73s/rank]"
     ]
    },
    {
     "name": "stdout",
     "output_type": "stream",
     "text": [
      "Error :0.24560322442824273\n",
      "Error :0.6739016043412172\n",
      "Error :0.5520310273204244\n",
      "Error :0.43738906286364987\n",
      "Error :0.36392056696080105\n",
      "Error :0.3421921772232274\n",
      "Error :0.3157350463320437\n",
      "Error :0.29406677992449815\n",
      "Error :0.2712357539386747\n",
      "Error :0.2581340027771606\n"
     ]
    },
    {
     "name": "stderr",
     "output_type": "stream",
     "text": [
      "Ranks Progress:  93%|█████████▎| 120/129 [12:24<00:59,  6.59s/rank]"
     ]
    },
    {
     "name": "stdout",
     "output_type": "stream",
     "text": [
      "Error :0.2471180238404716\n",
      "Error :0.6705284313816285\n",
      "Error :0.526386966195506\n",
      "Error :0.43296481721186464\n",
      "Error :0.3824501044779367\n",
      "Error :0.33796238509234877\n",
      "Error :0.3146299764777272\n",
      "Error :0.2933465319604575\n",
      "Error :0.27210318686594487\n",
      "Error :0.2614368509267204\n"
     ]
    },
    {
     "name": "stderr",
     "output_type": "stream",
     "text": [
      "Ranks Progress:  94%|█████████▍| 121/129 [12:30<00:52,  6.54s/rank]"
     ]
    },
    {
     "name": "stdout",
     "output_type": "stream",
     "text": [
      "Error :0.24646249157749203\n",
      "Error :0.7091027339974263\n",
      "Error :0.5343955404872898\n",
      "Error :0.42523338442057373\n",
      "Error :0.3868964705556973\n",
      "Error :0.33452650341805024\n",
      "Error :0.3144261124275281\n",
      "Error :0.2931757315717639\n",
      "Error :0.2763180964295272\n",
      "Error :0.2567738471931004\n"
     ]
    },
    {
     "name": "stderr",
     "output_type": "stream",
     "text": [
      "Ranks Progress:  95%|█████████▍| 122/129 [12:37<00:45,  6.46s/rank]"
     ]
    },
    {
     "name": "stdout",
     "output_type": "stream",
     "text": [
      "Error :0.2466604838973013\n",
      "Error :0.7075118961499802\n",
      "Error :0.5099684881706414\n",
      "Error :0.4480563357333689\n",
      "Error :0.37565606075325536\n",
      "Error :0.3425527384041991\n",
      "Error :0.3103472337125173\n",
      "Error :0.2902972749284403\n",
      "Error :0.2726049044210281\n",
      "Error :0.25524860148484774\n"
     ]
    },
    {
     "name": "stderr",
     "output_type": "stream",
     "text": [
      "Ranks Progress:  95%|█████████▌| 123/129 [12:43<00:38,  6.47s/rank]"
     ]
    },
    {
     "name": "stdout",
     "output_type": "stream",
     "text": [
      "Error :0.2467660924833714\n",
      "Error :0.7033474335621257\n",
      "Error :0.523878492079337\n",
      "Error :0.42863837495975005\n",
      "Error :0.38521923815136555\n",
      "Error :0.33709249649701595\n",
      "Error :0.3096369912078761\n",
      "Error :0.28869328208170564\n",
      "Error :0.2713456141490506\n",
      "Error :0.2632555949134575\n"
     ]
    },
    {
     "name": "stderr",
     "output_type": "stream",
     "text": [
      "Ranks Progress:  96%|█████████▌| 124/129 [12:49<00:31,  6.33s/rank]"
     ]
    },
    {
     "name": "stdout",
     "output_type": "stream",
     "text": [
      "Error :0.2463032309560638\n",
      "Error :0.6892881902827301\n",
      "Error :0.5173237588125739\n",
      "Error :0.4370906077153284\n",
      "Error :0.38316951103122354\n",
      "Error :0.3380644217642921\n",
      "Error :0.31005696107888275\n",
      "Error :0.2933441792572922\n",
      "Error :0.274412525930213\n",
      "Error :0.2575332555762954\n"
     ]
    },
    {
     "name": "stderr",
     "output_type": "stream",
     "text": [
      "Ranks Progress:  97%|█████████▋| 125/129 [12:55<00:24,  6.24s/rank]"
     ]
    },
    {
     "name": "stdout",
     "output_type": "stream",
     "text": [
      "Error :0.24435031284870187\n",
      "Error :0.7024969548677555\n",
      "Error :0.5440417318769941\n",
      "Error :0.4383029034887464\n",
      "Error :0.3746978326904736\n",
      "Error :0.33778996273091844\n",
      "Error :0.30490179832766134\n",
      "Error :0.28633470276017264\n",
      "Error :0.2727589459993869\n",
      "Error :0.25935303328689946\n"
     ]
    },
    {
     "name": "stderr",
     "output_type": "stream",
     "text": [
      "Ranks Progress:  98%|█████████▊| 126/129 [13:01<00:18,  6.18s/rank]"
     ]
    },
    {
     "name": "stdout",
     "output_type": "stream",
     "text": [
      "Error :0.2447478319905823\n",
      "Error :0.7022855596067085\n",
      "Error :0.49955636997088243\n",
      "Error :0.4419053990124531\n",
      "Error :0.3695364660674213\n",
      "Error :0.3376696828090444\n",
      "Error :0.3063996573273942\n",
      "Error :0.2838972621813134\n",
      "Error :0.27067830283933353\n",
      "Error :0.2577974688260093\n"
     ]
    },
    {
     "name": "stderr",
     "output_type": "stream",
     "text": [
      "Ranks Progress:  98%|█████████▊| 127/129 [13:07<00:12,  6.14s/rank]"
     ]
    },
    {
     "name": "stdout",
     "output_type": "stream",
     "text": [
      "Error :0.24523560556231397\n",
      "Error :0.6949681394291805\n",
      "Error :0.5336808399665901\n",
      "Error :0.42268269737743286\n",
      "Error :0.38556847414114076\n",
      "Error :0.3465060986330717\n",
      "Error :0.31437620740159394\n",
      "Error :0.2941959533129191\n",
      "Error :0.27413908493783146\n",
      "Error :0.25842664014773703\n"
     ]
    },
    {
     "name": "stderr",
     "output_type": "stream",
     "text": [
      "Ranks Progress:  99%|█████████▉| 128/129 [13:14<00:06,  6.20s/rank]"
     ]
    },
    {
     "name": "stdout",
     "output_type": "stream",
     "text": [
      "Error :0.24519618898843304\n",
      "Error :0.679740225683944\n",
      "Error :0.5402310335010104\n",
      "Error :0.432428785082457\n",
      "Error :0.37505983817706245\n",
      "Error :0.33562981244260154\n",
      "Error :0.3142845436502837\n",
      "Error :0.2890442601046364\n",
      "Error :0.27132348900505027\n",
      "Error :0.25759559982247837\n"
     ]
    },
    {
     "name": "stderr",
     "output_type": "stream",
     "text": [
      "Ranks Progress: 100%|██████████| 129/129 [13:20<00:00,  6.21s/rank]"
     ]
    },
    {
     "name": "stdout",
     "output_type": "stream",
     "text": [
      "Error :0.24606492294663487\n"
     ]
    },
    {
     "name": "stderr",
     "output_type": "stream",
     "text": [
      "\n"
     ]
    },
    {
     "name": "stdout",
     "output_type": "stream",
     "text": [
      "Results successfully saved to ../Dataset/Section_2_test_2_for_loadMatrixA_1.csv.\n"
     ]
    },
    {
     "name": "stderr",
     "output_type": "stream",
     "text": [
      "Ranks Progress:   0%|          | 0/129 [00:00<?, ?rank/s]"
     ]
    },
    {
     "name": "stdout",
     "output_type": "stream",
     "text": [
      "Error :1.0\n",
      "Error :1.0\n",
      "Error :1.0\n",
      "Error :1.0\n",
      "Error :1.0\n",
      "Error :1.0\n"
     ]
    },
    {
     "name": "stderr",
     "output_type": "stream",
     "text": [
      "Ranks Progress:   0%|          | 0/129 [00:03<?, ?rank/s]"
     ]
    },
    {
     "name": "stdout",
     "output_type": "stream",
     "text": [
      "Error :1.0\n"
     ]
    },
    {
     "name": "stderr",
     "output_type": "stream",
     "text": [
      "\n"
     ]
    },
    {
     "ename": "LinAlgError",
     "evalue": "Matrix is not positive definite",
     "output_type": "error",
     "traceback": [
      "\u001b[0;31m---------------------------------------------------------------------------\u001b[0m",
      "\u001b[0;31mLinAlgError\u001b[0m                               Traceback (most recent call last)",
      "Cell \u001b[0;32mIn[26], line 2\u001b[0m\n\u001b[1;32m      1\u001b[0m collect_low_rank_errors(A\u001b[38;5;241m=\u001b[39mloadMatrix_A_1, output_file\u001b[38;5;241m=\u001b[39m\u001b[38;5;124m'\u001b[39m\u001b[38;5;124m../Dataset/Section_2_test_2_for_loadMatrixA_1.csv\u001b[39m\u001b[38;5;124m'\u001b[39m)\n\u001b[0;32m----> 2\u001b[0m \u001b[43mcollect_low_rank_errors\u001b[49m\u001b[43m(\u001b[49m\u001b[43mA\u001b[49m\u001b[38;5;241;43m=\u001b[39;49m\u001b[43mloadMatrix_A_2\u001b[49m\u001b[43m,\u001b[49m\u001b[43m \u001b[49m\u001b[43moutput_file\u001b[49m\u001b[38;5;241;43m=\u001b[39;49m\u001b[38;5;124;43m'\u001b[39;49m\u001b[38;5;124;43m../Dataset/Section_2_test_2_for_loadMatrixA_2.csv\u001b[39;49m\u001b[38;5;124;43m'\u001b[39;49m\u001b[43m)\u001b[49m\n\u001b[1;32m      3\u001b[0m collect_low_rank_errors(A\u001b[38;5;241m=\u001b[39mloadMatrix_A_3, output_file\u001b[38;5;241m=\u001b[39m\u001b[38;5;124m'\u001b[39m\u001b[38;5;124m../Dataset/Section_2_test_2_for_loadMatrixA_3.csv\u001b[39m\u001b[38;5;124m'\u001b[39m)\n",
      "Cell \u001b[0;32mIn[24], line 28\u001b[0m, in \u001b[0;36mcollect_low_rank_errors\u001b[0;34m(A, max_rank, sketch_dims, sketch_method, output_file)\u001b[0m\n\u001b[1;32m     25\u001b[0m \u001b[38;5;28;01mfor\u001b[39;00m rank \u001b[38;5;129;01min\u001b[39;00m tqdm(\u001b[38;5;28mrange\u001b[39m(max_rank \u001b[38;5;241m+\u001b[39m \u001b[38;5;241m1\u001b[39m), desc\u001b[38;5;241m=\u001b[39m\u001b[38;5;124m\"\u001b[39m\u001b[38;5;124mRanks Progress\u001b[39m\u001b[38;5;124m\"\u001b[39m, unit\u001b[38;5;241m=\u001b[39m\u001b[38;5;124m\"\u001b[39m\u001b[38;5;124mrank\u001b[39m\u001b[38;5;124m\"\u001b[39m):\n\u001b[1;32m     26\u001b[0m     \u001b[38;5;28;01mfor\u001b[39;00m sketch_dim \u001b[38;5;129;01min\u001b[39;00m sketch_dims:\n\u001b[1;32m     27\u001b[0m         \u001b[38;5;66;03m# Compute the error\u001b[39;00m\n\u001b[0;32m---> 28\u001b[0m         error \u001b[38;5;241m=\u001b[39m \u001b[43mgetLowRank\u001b[49m\u001b[43m(\u001b[49m\u001b[43mA\u001b[49m\u001b[43m,\u001b[49m\u001b[43m \u001b[49m\u001b[43mrank\u001b[49m\u001b[43m,\u001b[49m\u001b[43m \u001b[49m\u001b[43msketch_dim\u001b[49m\u001b[43m,\u001b[49m\u001b[43m \u001b[49m\u001b[43msketch_method\u001b[49m\u001b[43m)\u001b[49m\n\u001b[1;32m     29\u001b[0m         \u001b[38;5;66;03m# Append results with clear column names\u001b[39;00m\n\u001b[1;32m     30\u001b[0m         results\u001b[38;5;241m.\u001b[39mappend({\n\u001b[1;32m     31\u001b[0m             \u001b[38;5;124m'\u001b[39m\u001b[38;5;124mApproximation Rank\u001b[39m\u001b[38;5;124m'\u001b[39m: rank,\n\u001b[1;32m     32\u001b[0m             \u001b[38;5;124m'\u001b[39m\u001b[38;5;124mSketch Dimension\u001b[39m\u001b[38;5;124m'\u001b[39m: sketch_dim,\n\u001b[1;32m     33\u001b[0m             \u001b[38;5;124m'\u001b[39m\u001b[38;5;124mError Value\u001b[39m\u001b[38;5;124m'\u001b[39m: error,\n\u001b[1;32m     34\u001b[0m             \u001b[38;5;124m'\u001b[39m\u001b[38;5;124mSketch Method\u001b[39m\u001b[38;5;124m'\u001b[39m: sketch_method  \u001b[38;5;66;03m# Added for better traceability\u001b[39;00m\n\u001b[1;32m     35\u001b[0m         })\n",
      "Cell \u001b[0;32mIn[17], line 86\u001b[0m, in \u001b[0;36mgetLowRank\u001b[0;34m(A, rank, sketch_dim, sketch_method, good_conditionned, print_times)\u001b[0m\n\u001b[1;32m     83\u001b[0m \u001b[38;5;28;01mif\u001b[39;00m good_conditionned:\n\u001b[1;32m     84\u001b[0m     \u001b[38;5;66;03m# Use Cholesky decomposition\u001b[39;00m\n\u001b[1;32m     85\u001b[0m     cholesky_start \u001b[38;5;241m=\u001b[39m time\u001b[38;5;241m.\u001b[39mtime()\n\u001b[0;32m---> 86\u001b[0m     L \u001b[38;5;241m=\u001b[39m \u001b[43mnp\u001b[49m\u001b[38;5;241;43m.\u001b[39;49m\u001b[43mlinalg\u001b[49m\u001b[38;5;241;43m.\u001b[39;49m\u001b[43mcholesky\u001b[49m\u001b[43m(\u001b[49m\u001b[43mB\u001b[49m\u001b[43m)\u001b[49m\n\u001b[1;32m     87\u001b[0m     \u001b[38;5;28;01mif\u001b[39;00m print_times:\n\u001b[1;32m     88\u001b[0m         \u001b[38;5;28mprint\u001b[39m(\u001b[38;5;124mf\u001b[39m\u001b[38;5;124m\"\u001b[39m\u001b[38;5;124mCholesky decomposition completed in \u001b[39m\u001b[38;5;132;01m{\u001b[39;00mtime\u001b[38;5;241m.\u001b[39mtime()\u001b[38;5;250m \u001b[39m\u001b[38;5;241m-\u001b[39m\u001b[38;5;250m \u001b[39mcholesky_start\u001b[38;5;132;01m:\u001b[39;00m\u001b[38;5;124m.6f\u001b[39m\u001b[38;5;132;01m}\u001b[39;00m\u001b[38;5;124m seconds.\u001b[39m\u001b[38;5;124m\"\u001b[39m)\n",
      "File \u001b[0;32m~/anaconda3/envs/myenv/lib/python3.10/site-packages/numpy/linalg/linalg.py:779\u001b[0m, in \u001b[0;36mcholesky\u001b[0;34m(a)\u001b[0m\n\u001b[1;32m    777\u001b[0m t, result_t \u001b[38;5;241m=\u001b[39m _commonType(a)\n\u001b[1;32m    778\u001b[0m signature \u001b[38;5;241m=\u001b[39m \u001b[38;5;124m'\u001b[39m\u001b[38;5;124mD->D\u001b[39m\u001b[38;5;124m'\u001b[39m \u001b[38;5;28;01mif\u001b[39;00m isComplexType(t) \u001b[38;5;28;01melse\u001b[39;00m \u001b[38;5;124m'\u001b[39m\u001b[38;5;124md->d\u001b[39m\u001b[38;5;124m'\u001b[39m\n\u001b[0;32m--> 779\u001b[0m r \u001b[38;5;241m=\u001b[39m \u001b[43mgufunc\u001b[49m\u001b[43m(\u001b[49m\u001b[43ma\u001b[49m\u001b[43m,\u001b[49m\u001b[43m \u001b[49m\u001b[43msignature\u001b[49m\u001b[38;5;241;43m=\u001b[39;49m\u001b[43msignature\u001b[49m\u001b[43m,\u001b[49m\u001b[43m \u001b[49m\u001b[43mextobj\u001b[49m\u001b[38;5;241;43m=\u001b[39;49m\u001b[43mextobj\u001b[49m\u001b[43m)\u001b[49m\n\u001b[1;32m    780\u001b[0m \u001b[38;5;28;01mreturn\u001b[39;00m wrap(r\u001b[38;5;241m.\u001b[39mastype(result_t, copy\u001b[38;5;241m=\u001b[39m\u001b[38;5;28;01mFalse\u001b[39;00m))\n",
      "File \u001b[0;32m~/anaconda3/envs/myenv/lib/python3.10/site-packages/numpy/linalg/linalg.py:115\u001b[0m, in \u001b[0;36m_raise_linalgerror_nonposdef\u001b[0;34m(err, flag)\u001b[0m\n\u001b[1;32m    114\u001b[0m \u001b[38;5;28;01mdef\u001b[39;00m \u001b[38;5;21m_raise_linalgerror_nonposdef\u001b[39m(err, flag):\n\u001b[0;32m--> 115\u001b[0m     \u001b[38;5;28;01mraise\u001b[39;00m LinAlgError(\u001b[38;5;124m\"\u001b[39m\u001b[38;5;124mMatrix is not positive definite\u001b[39m\u001b[38;5;124m\"\u001b[39m)\n",
      "\u001b[0;31mLinAlgError\u001b[0m: Matrix is not positive definite"
     ]
    }
   ],
   "source": [
    "collect_low_rank_errors(A=loadMatrix_A_1, output_file='../Dataset/Section_2_test_2_for_loadMatrixA_1.csv')\n",
    "collect_low_rank_errors(A=loadMatrix_A_2, output_file='../Dataset/Section_2_test_2_for_loadMatrixA_2.csv')\n",
    "collect_low_rank_errors(A=loadMatrix_A_3, output_file='../Dataset/Section_2_test_2_for_loadMatrixA_3.csv')"
   ]
  },
  {
   "cell_type": "code",
   "execution_count": null,
   "metadata": {},
   "outputs": [],
   "source": []
  }
 ],
 "metadata": {
  "kernelspec": {
   "display_name": "myenv",
   "language": "python",
   "name": "python3"
  },
  "language_info": {
   "codemirror_mode": {
    "name": "ipython",
    "version": 3
   },
   "file_extension": ".py",
   "mimetype": "text/x-python",
   "name": "python",
   "nbconvert_exporter": "python",
   "pygments_lexer": "ipython3",
   "version": "3.10.14"
  }
 },
 "nbformat": 4,
 "nbformat_minor": 2
}
