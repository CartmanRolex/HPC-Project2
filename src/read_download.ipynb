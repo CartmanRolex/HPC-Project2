{
 "cells": [
  {
   "cell_type": "markdown",
   "metadata": {},
   "source": [
    "### We'll read the files downloaded by download_test1.sh, which consists of a relatively small size matrix."
   ]
  },
  {
   "cell_type": "code",
   "execution_count": 2,
   "metadata": {},
   "outputs": [],
   "source": [
    "import os\n",
    "import numpy as np\n",
    "import matplotlib.pyplot as plt\n",
    "from math import exp, ceil, log\n",
    "import pandas as pd\n",
    "from numpy.linalg import norm, qr, cholesky, inv, svd, matrix_rank, lstsq, cond\n"
   ]
  },
  {
   "cell_type": "code",
   "execution_count": 3,
   "metadata": {},
   "outputs": [],
   "source": [
    "def readData(filename, size=784, save=True):\n",
    "    '''\n",
    "    Read MNIST sparse data from filename\n",
    "    and transforms this into a dense\n",
    "    matrix, each line representing an entry\n",
    "    of the database (i.e. a \"flattened\" image)\n",
    "    '''\n",
    "    print(filename)\n",
    "    # Specify dtype to ensure floating-point numbers are read\n",
    "    dataR = pd.read_csv(filename, sep=',', header=None, dtype=str)\n",
    "    n = len(dataR)\n",
    "    data = np.zeros((n, size))\n",
    "    labels = np.zeros((n, 1))\n",
    "    # Format accordingly\n",
    "    for i in range(n):\n",
    "        l = dataR.iloc[i, 0]\n",
    "        labels[i] = float(l[0])  # Convert label to float\n",
    "        l = l[2:]\n",
    "        indices_values = [tuple(map(float, pair.split(':'))) for pair in l.split()]\n",
    "        # Separate indices and values\n",
    "        indices, values = zip(*indices_values)\n",
    "        indices = [int(i) for i in indices]\n",
    "        # Fill in the values at the specified indices\n",
    "        data[i, indices] = values\n",
    "    if save:\n",
    "        np.savetxt('./denseData_test1.csv', data, delimiter=',', fmt='%10.5f')\n",
    "        np.savetxt('./labels_test1.csv', labels, delimiter=',', fmt='%10.5f')\n",
    "    return data, labels"
   ]
  },
  {
   "cell_type": "code",
   "execution_count": 4,
   "metadata": {},
   "outputs": [
    {
     "name": "stdout",
     "output_type": "stream",
     "text": [
      "mnist_780\n",
      "data[:5,:5] is\n",
      " [[0. 0. 0. 0. 0.]\n",
      " [0. 0. 0. 0. 0.]\n",
      " [0. 0. 0. 0. 0.]\n",
      " [0. 0. 0. 0. 0.]\n",
      " [0. 0. 0. 0. 0.]]\n"
     ]
    }
   ],
   "source": [
    "data, labels = readData('mnist_780')\n",
    "print(\"data[:5,:5] is\\n\",data[:5,:5])\n",
    "np.save(\"MNIST_780_test1.npy\", data)"
   ]
  },
  {
   "cell_type": "code",
   "execution_count": 5,
   "metadata": {},
   "outputs": [],
   "source": [
    "def build_MNIST_matrixA (mnistData, dimension_n, value_c, save = True, \n",
    "                         file_name = \"A_3_dataset_2_mnist.npy\"):\n",
    "    '''\n",
    "    this is the function that builds the matrix A based on \n",
    "    MNIST dataset with RBF specified in the project requirement \n",
    "    INPUT: \n",
    "        - mnistData is obtained from MNIST dataset\n",
    "        - dimension_n will define the size of the output square matrix, \n",
    "            it depends on memory consumption\n",
    "        - value_c can be varied\n",
    "    OUTPUT: we'll save the matrix of dimension_n**2 using pickle \n",
    "    '''\n",
    "    outputMatrix = np.zeros((dimension_n, dimension_n))\n",
    "    for j in range(dimension_n):\n",
    "        for i in range(j):\n",
    "            outputMatrix[i, j] = exp(( - norm(mnistData[i,:] - mnistData[j,:]) ** 2) / (value_c ** 2))\n",
    "    outputMatrix = outputMatrix + np.transpose(outputMatrix)\n",
    "    np.fill_diagonal(outputMatrix, 1.0)\n",
    "    if save: \n",
    "        np.save(file_name, outputMatrix) \n"
   ]
  },
  {
   "cell_type": "code",
   "execution_count": 5,
   "metadata": {},
   "outputs": [
    {
     "name": "stdout",
     "output_type": "stream",
     "text": [
      "[[1.         0.99127504 0.98824289 0.99001237 0.98907651]\n",
      " [0.99127504 1.         0.98715919 0.98829865 0.98930957]\n",
      " [0.98824289 0.98715919 1.         0.9898814  0.98994457]\n",
      " [0.99001237 0.98829865 0.9898814  1.         0.99126262]\n",
      " [0.98907651 0.98930957 0.98994457 0.99126262 1.        ]\n",
      " [0.98979753 0.98903161 0.98938555 0.99024257 0.99195122]\n",
      " [0.99100754 0.98756737 0.98972827 0.991512   0.9925866 ]\n",
      " [0.99278471 0.98967594 0.98934556 0.98962114 0.98935745]\n",
      " [0.99136177 0.98870132 0.99122707 0.99290202 0.9940263 ]\n",
      " [0.98989935 0.98824599 0.99277739 0.99119833 0.99174104]]\n",
      "(1024, 1024)\n"
     ]
    }
   ],
   "source": [
    "build_MNIST_matrixA(data, 1024, 100)\n",
    "loadMatrix = np.load(\"A_3_dataset_2_mnist.npy\")\n",
    "print(loadMatrix[:10,:5])\n",
    "print(loadMatrix.shape)"
   ]
  },
  {
   "cell_type": "code",
   "execution_count": 8,
   "metadata": {},
   "outputs": [
    {
     "name": "stdout",
     "output_type": "stream",
     "text": [
      "[[1.         0.41631015 0.30645728 0.36649001 0.33341767]\n",
      " [0.41631015 1.         0.27461183 0.3081913  0.34136674]\n",
      " [0.30645728 0.27461183 1.         0.36167314 0.36398875]\n",
      " [0.36649001 0.3081913  0.36167314 1.         0.4157891 ]\n",
      " [0.33341767 0.34136674 0.36398875 0.4157891  1.        ]\n",
      " [0.35862154 0.33190771 0.34399823 0.37511058 0.44568853]\n",
      " [0.40522463 0.28620227 0.35612081 0.42638049 0.47516109]\n",
      " [0.48473926 0.35424295 0.34261053 0.3522868  0.34302277]\n",
      " [0.41996868 0.32100455 0.41430039 0.49050064 0.54927192]\n",
      " [0.36232966 0.30655351 0.48438198 0.41310095 0.43634339]]\n",
      "(1024, 1024)\n"
     ]
    }
   ],
   "source": [
    "build_MNIST_matrixA(mnistData = data, dimension_n = 1024, value_c = 10, \n",
    "                    file_name = \"A_3_dataset_2_mnist_C=10.npy\")\n",
    "loadMatrix2 = np.load(\"A_3_dataset_2_mnist_C=10.npy\")\n",
    "print(loadMatrix2[:10,:5])\n",
    "print(loadMatrix2.shape)"
   ]
  },
  {
   "cell_type": "code",
   "execution_count": 6,
   "metadata": {},
   "outputs": [
    {
     "ename": "KeyboardInterrupt",
     "evalue": "",
     "output_type": "error",
     "traceback": [
      "\u001b[0;31m---------------------------------------------------------------------------\u001b[0m",
      "\u001b[0;31mKeyboardInterrupt\u001b[0m                         Traceback (most recent call last)",
      "Cell \u001b[0;32mIn[6], line 1\u001b[0m\n\u001b[0;32m----> 1\u001b[0m \u001b[43mbuild_MNIST_matrixA\u001b[49m\u001b[43m(\u001b[49m\u001b[43mmnistData\u001b[49m\u001b[38;5;241;43m=\u001b[39;49m\u001b[43mdata\u001b[49m\u001b[43m,\u001b[49m\u001b[43m \u001b[49m\n\u001b[1;32m      2\u001b[0m \u001b[43m                    \u001b[49m\u001b[43mdimension_n\u001b[49m\u001b[38;5;241;43m=\u001b[39;49m\u001b[38;5;241;43m65536\u001b[39;49m\u001b[43m,\u001b[49m\u001b[43m \u001b[49m\n\u001b[1;32m      3\u001b[0m \u001b[43m                    \u001b[49m\u001b[43mvalue_c\u001b[49m\u001b[38;5;241;43m=\u001b[39;49m\u001b[38;5;241;43m1000\u001b[39;49m\u001b[43m,\u001b[49m\n\u001b[1;32m      4\u001b[0m \u001b[43m                    \u001b[49m\u001b[43mfile_name\u001b[49m\u001b[38;5;241;43m=\u001b[39;49m\u001b[38;5;124;43m\"\u001b[39;49m\u001b[38;5;124;43mA_3_dataset_2_mnist_n65536_c1000.npy\u001b[39;49m\u001b[38;5;124;43m\"\u001b[39;49m\u001b[43m)\u001b[49m\n\u001b[1;32m      5\u001b[0m loadMatrix \u001b[38;5;241m=\u001b[39m np\u001b[38;5;241m.\u001b[39mload(\u001b[38;5;124m\"\u001b[39m\u001b[38;5;124mA_3_dataset_2_mnist_n65536_c1000.npy\u001b[39m\u001b[38;5;124m\"\u001b[39m)\n\u001b[1;32m      6\u001b[0m \u001b[38;5;28mprint\u001b[39m(loadMatrix[:\u001b[38;5;241m10\u001b[39m,:\u001b[38;5;241m5\u001b[39m])\n",
      "Cell \u001b[0;32mIn[5], line 16\u001b[0m, in \u001b[0;36mbuild_MNIST_matrixA\u001b[0;34m(mnistData, dimension_n, value_c, save, file_name)\u001b[0m\n\u001b[1;32m     14\u001b[0m \u001b[38;5;28;01mfor\u001b[39;00m j \u001b[38;5;129;01min\u001b[39;00m \u001b[38;5;28mrange\u001b[39m(dimension_n):\n\u001b[1;32m     15\u001b[0m     \u001b[38;5;28;01mfor\u001b[39;00m i \u001b[38;5;129;01min\u001b[39;00m \u001b[38;5;28mrange\u001b[39m(j):\n\u001b[0;32m---> 16\u001b[0m         outputMatrix[i, j] \u001b[38;5;241m=\u001b[39m \u001b[43mexp\u001b[49m\u001b[43m(\u001b[49m\u001b[43m(\u001b[49m\u001b[43m \u001b[49m\u001b[38;5;241;43m-\u001b[39;49m\u001b[43m \u001b[49m\u001b[43mnorm\u001b[49m\u001b[43m(\u001b[49m\u001b[43mmnistData\u001b[49m\u001b[43m[\u001b[49m\u001b[43mi\u001b[49m\u001b[43m,\u001b[49m\u001b[43m:\u001b[49m\u001b[43m]\u001b[49m\u001b[43m \u001b[49m\u001b[38;5;241;43m-\u001b[39;49m\u001b[43m \u001b[49m\u001b[43mmnistData\u001b[49m\u001b[43m[\u001b[49m\u001b[43mj\u001b[49m\u001b[43m,\u001b[49m\u001b[43m:\u001b[49m\u001b[43m]\u001b[49m\u001b[43m)\u001b[49m\u001b[43m \u001b[49m\u001b[38;5;241;43m*\u001b[39;49m\u001b[38;5;241;43m*\u001b[39;49m\u001b[43m \u001b[49m\u001b[38;5;241;43m2\u001b[39;49m\u001b[43m)\u001b[49m\u001b[43m \u001b[49m\u001b[38;5;241;43m/\u001b[39;49m\u001b[43m \u001b[49m\u001b[43m(\u001b[49m\u001b[43mvalue_c\u001b[49m\u001b[43m \u001b[49m\u001b[38;5;241;43m*\u001b[39;49m\u001b[38;5;241;43m*\u001b[39;49m\u001b[43m \u001b[49m\u001b[38;5;241;43m2\u001b[39;49m\u001b[43m)\u001b[49m\u001b[43m)\u001b[49m\n\u001b[1;32m     17\u001b[0m outputMatrix \u001b[38;5;241m=\u001b[39m outputMatrix \u001b[38;5;241m+\u001b[39m np\u001b[38;5;241m.\u001b[39mtranspose(outputMatrix)\n\u001b[1;32m     18\u001b[0m np\u001b[38;5;241m.\u001b[39mfill_diagonal(outputMatrix, \u001b[38;5;241m1.0\u001b[39m)\n",
      "\u001b[0;31mKeyboardInterrupt\u001b[0m: "
     ]
    }
   ],
   "source": [
    "build_MNIST_matrixA(mnistData=data, \n",
    "                    dimension_n=65536, \n",
    "                    value_c=1000,\n",
    "                    file_name=\"A_3_dataset_2_mnist_n65536_c1000.npy\")\n",
    "loadMatrix = np.load(\"A_3_dataset_2_mnist_n65536_c1000.npy\")\n",
    "print(loadMatrix[:10,:5])\n",
    "print(loadMatrix.shape)\n",
    "\n",
    "build_MNIST_matrixA(mnistData = data, \n",
    "                    dimension_n = 65536, \n",
    "                    value_c = 100, \n",
    "                    file_name = \"A_3_dataset_2_mnist_n655536_c100.npy\")\n",
    "loadMatrix2 = np.load(\"A_3_dataset_2_mnist_n655536_c100.npy\")\n",
    "print(loadMatrix2[:10,:5])\n",
    "print(loadMatrix2.shape)\n",
    "\n",
    "\n"
   ]
  },
  {
   "cell_type": "code",
   "execution_count": 7,
   "metadata": {},
   "outputs": [
    {
     "name": "stdout",
     "output_type": "stream",
     "text": [
      "[[1.         0.99127504 0.98824289 0.99001237 0.98907651]\n",
      " [0.99127504 1.         0.98715919 0.98829865 0.98930957]\n",
      " [0.98824289 0.98715919 1.         0.9898814  0.98994457]\n",
      " [0.99001237 0.98829865 0.9898814  1.         0.99126262]\n",
      " [0.98907651 0.98930957 0.98994457 0.99126262 1.        ]\n",
      " [0.98979753 0.98903161 0.98938555 0.99024257 0.99195122]\n",
      " [0.99100754 0.98756737 0.98972827 0.991512   0.9925866 ]\n",
      " [0.99278471 0.98967594 0.98934556 0.98962114 0.98935745]\n",
      " [0.99136177 0.98870132 0.99122707 0.99290202 0.9940263 ]\n",
      " [0.98989935 0.98824599 0.99277739 0.99119833 0.99174104]]\n",
      "(4096, 4096)\n",
      "[[1.         0.41631015 0.30645728 0.36649001 0.33341767]\n",
      " [0.41631015 1.         0.27461183 0.3081913  0.34136674]\n",
      " [0.30645728 0.27461183 1.         0.36167314 0.36398875]\n",
      " [0.36649001 0.3081913  0.36167314 1.         0.4157891 ]\n",
      " [0.33341767 0.34136674 0.36398875 0.4157891  1.        ]\n",
      " [0.35862154 0.33190771 0.34399823 0.37511058 0.44568853]\n",
      " [0.40522463 0.28620227 0.35612081 0.42638049 0.47516109]\n",
      " [0.48473926 0.35424295 0.34261053 0.3522868  0.34302277]\n",
      " [0.41996868 0.32100455 0.41430039 0.49050064 0.54927192]\n",
      " [0.36232966 0.30655351 0.48438198 0.41310095 0.43634339]]\n",
      "(4096, 4096)\n"
     ]
    }
   ],
   "source": [
    "build_MNIST_matrixA(mnistData=data, \n",
    "                    dimension_n=4096, \n",
    "                    value_c=100,\n",
    "                    file_name=\"A_3_dataset_2_mnist_n4096_c100.npy\")\n",
    "loadMatrix = np.load(\"A_3_dataset_2_mnist_n4096_c100.npy\")\n",
    "print(loadMatrix[:10,:5])\n",
    "print(loadMatrix.shape)\n",
    "\n",
    "build_MNIST_matrixA(mnistData = data, \n",
    "                    dimension_n = 4096, \n",
    "                    value_c = 10, \n",
    "                    file_name = \"A_3_dataset_2_mnist_n4096_c10.npy\")\n",
    "loadMatrix2 = np.load(\"A_3_dataset_2_mnist_n4096_c10.npy\")\n",
    "print(loadMatrix2[:10,:5])\n",
    "print(loadMatrix2.shape)\n",
    "\n",
    "\n"
   ]
  },
  {
   "cell_type": "code",
   "execution_count": 9,
   "metadata": {},
   "outputs": [
    {
     "name": "stdout",
     "output_type": "stream",
     "text": [
      "[[1.         0.99127504 0.98824289 0.99001237 0.98907651]\n",
      " [0.99127504 1.         0.98715919 0.98829865 0.98930957]\n",
      " [0.98824289 0.98715919 1.         0.9898814  0.98994457]\n",
      " [0.99001237 0.98829865 0.9898814  1.         0.99126262]\n",
      " [0.98907651 0.98930957 0.98994457 0.99126262 1.        ]\n",
      " [0.98979753 0.98903161 0.98938555 0.99024257 0.99195122]\n",
      " [0.99100754 0.98756737 0.98972827 0.991512   0.9925866 ]\n",
      " [0.99278471 0.98967594 0.98934556 0.98962114 0.98935745]\n",
      " [0.99136177 0.98870132 0.99122707 0.99290202 0.9940263 ]\n",
      " [0.98989935 0.98824599 0.99277739 0.99119833 0.99174104]]\n",
      "(2048, 2048)\n",
      "[[1.         0.41631015 0.30645728 0.36649001 0.33341767]\n",
      " [0.41631015 1.         0.27461183 0.3081913  0.34136674]\n",
      " [0.30645728 0.27461183 1.         0.36167314 0.36398875]\n",
      " [0.36649001 0.3081913  0.36167314 1.         0.4157891 ]\n",
      " [0.33341767 0.34136674 0.36398875 0.4157891  1.        ]\n",
      " [0.35862154 0.33190771 0.34399823 0.37511058 0.44568853]\n",
      " [0.40522463 0.28620227 0.35612081 0.42638049 0.47516109]\n",
      " [0.48473926 0.35424295 0.34261053 0.3522868  0.34302277]\n",
      " [0.41996868 0.32100455 0.41430039 0.49050064 0.54927192]\n",
      " [0.36232966 0.30655351 0.48438198 0.41310095 0.43634339]]\n",
      "(2048, 2048)\n"
     ]
    }
   ],
   "source": [
    "build_MNIST_matrixA(mnistData=data, \n",
    "                    dimension_n=2048, \n",
    "                    value_c=100,\n",
    "                    file_name=\"A_3_dataset_2_mnist_n2048_c100.npy\")\n",
    "loadMatrix = np.load(\"A_3_dataset_2_mnist_n2048_c100.npy\")\n",
    "print(loadMatrix[:10,:5])\n",
    "print(loadMatrix.shape)\n",
    "\n",
    "build_MNIST_matrixA(mnistData = data, \n",
    "                    dimension_n = 2048, \n",
    "                    value_c = 10, \n",
    "                    file_name = \"A_3_dataset_2_mnist_n2048_c10.npy\")\n",
    "loadMatrix2 = np.load(\"A_3_dataset_2_mnist_n2048_c10.npy\")\n",
    "print(loadMatrix2[:10,:5])\n",
    "print(loadMatrix2.shape)"
   ]
  },
  {
   "cell_type": "code",
   "execution_count": null,
   "metadata": {},
   "outputs": [],
   "source": [
    "import numpy as np\n",
    "\n",
    "n = 2048\n",
    "R = 5 # R = 5, 10, 20\n",
    "xi = 10e-1 # signal-to-noise ratio, 10e-1, 10e-2 10e-4\n",
    "\n",
    "def mnist_Data ():\n",
    "    # TODO : this function will process mnist data.\n",
    "    pass \n",
    "\n",
    "def polynomial_Decay ():\n",
    "    # Polynomial Decay.\n",
    "    p = 0.5 # p = 0.5, 1, 2 \n",
    "    matrix2 = np.zeros((n, n)) \n",
    "    diagonalList = []\n",
    "    for i in range(R):\n",
    "        diagonalList.append(1) \n",
    "    for i in range(2, n - R + 2):\n",
    "        diagonalList.append(i ** (- p))\n",
    "    np.fill_diagonal(matrix2, diagonalList)\n",
    "    A1 = matrix2\n",
    "    # print(f\"diagonalList is \\n{diagonalList}\\n\")\n",
    "    print(f\"A1 is \\n{A1[:5,:5]}\\n\")\n",
    "    print(A1.shape)\n",
    "    np.save(\"A_1_n2048_polyDecayMatrix.npy\", A1)\n",
    "    print(\"A_1_n2048_polyDecayMatrix.npy saved successfully.\")\n",
    "\n",
    "\n",
    "def exponential_Decay ():\n",
    "    # Exponential Decay.\n",
    "    q = 0.1 # q > 0 controls the rate of exponential decay, q = 0.1,0.25,1\n",
    "    diagonalList2 = []\n",
    "    for i in range(R):\n",
    "        diagonalList2.append(1)\n",
    "    for i in range(1, n - R + 1):\n",
    "        diagonalList2.append(10 ** ((-1) * i * q))\n",
    "    A2 = np.zeros((n, n))\n",
    "    np.fill_diagonal(A2, diagonalList2)\n",
    "    # print(f\"diagonalList2 is \\n{diagonalList2}\\n\")\n",
    "    print(f\"A2 is \\n{A2[:5,:5]}\\n\")\n",
    "    print(A2.shape)\n",
    "    np.save(\"A_2_n2048_expDecayMatrix.npy\", A2)\n",
    "    print(\"A_2_n2048_expDecayMatrix.npy saved successfully.\")\n",
    "\n",
    "def check1():\n",
    "    print(\"check1()\")\n",
    "    A_1 = np.load(\"A_1_polyDecayMatrix.npy\")\n",
    "    A_2 = np.load(\"A_2_expDecayMatrix.npy\")\n",
    "    print(A_1.shape)\n",
    "    print(A_1)\n",
    "    print(A_2.shape)\n",
    "    print(A_2)\n",
    "\n",
    "if __name__ == \"__main__\":\n",
    "    polynomial_Decay()\n",
    "    exponential_Decay()\n",
    "    # check1()"
   ]
  }
 ],
 "metadata": {
  "kernelspec": {
   "display_name": "myenv",
   "language": "python",
   "name": "python3"
  },
  "language_info": {
   "codemirror_mode": {
    "name": "ipython",
    "version": 3
   },
   "file_extension": ".py",
   "mimetype": "text/x-python",
   "name": "python",
   "nbconvert_exporter": "python",
   "pygments_lexer": "ipython3",
   "version": "3.10.14"
  }
 },
 "nbformat": 4,
 "nbformat_minor": 2
}
